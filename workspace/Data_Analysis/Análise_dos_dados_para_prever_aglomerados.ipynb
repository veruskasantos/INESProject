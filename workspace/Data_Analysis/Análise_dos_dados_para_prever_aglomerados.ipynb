{
 "cells": [
  {
   "cell_type": "markdown",
   "metadata": {},
   "source": [
    "## Análise dos dados de clima, situação da via e GPS dos ônibus de uma cidade"
   ]
  },
  {
   "cell_type": "markdown",
   "metadata": {},
   "source": [
    "O objetivo desta análise é entender os dados, sua qualidade e as correlações."
   ]
  },
  {
   "cell_type": "markdown",
   "metadata": {},
   "source": [
    "## Descrição dos dados"
   ]
  },
  {
   "cell_type": "markdown",
   "metadata": {},
   "source": [
    "## GPS"
   ]
  },
  {
   "cell_type": "code",
   "execution_count": null,
   "metadata": {},
   "outputs": [],
   "source": []
  },
  {
   "cell_type": "markdown",
   "metadata": {},
   "source": [
    "## Clima"
   ]
  },
  {
   "cell_type": "markdown",
   "metadata": {},
   "source": [
    "**[APIXU](https://www.apixu.com/)** é uma API gratuita que fornece os dados de meteorologia, em tempo real, via JSON/XML restful API.\n",
    "\n",
    "**ATENÇÃO:** os dados históricos são apenas dos últimos 7 dias.\n",
    "\n",
    "\n",
    "[Atributos](https://www.apixu.com/doc/current.aspx):\n",
    "- name (String): nome da cidade\n",
    "- region (String): nome do estado\n",
    "- país (String): nome do país\n",
    "- **lat (Double):** latitude\n",
    "- **lon (Double):** longitude\n",
    "- tz_id (String): -\n",
    "- localtime_epoch (Integer): -\n",
    "- localtime (Date): data e hora local (da cidade)\n",
    "- last_updated_epoch (Integer): -\n",
    "- **last_updated (Date):** data e hora local da última medição\n",
    "- temp_c (Double): temperatura em graus Celsius na última medição\n",
    "- temp_f (Double): temperatura em graus Fahrenheit na última medição\n",
    "- **is_day (Integer):** dia(1) ou noite(0) na última medição\n",
    "- **text (String):** descrição do tempo na hora da medição (ensolarado, nublado)\n",
    "- icon (String): link da imagem que representa o tempo na última medição\n",
    "- code (Integer): -\n",
    "- wind_mph (Double): velocidade do vento em Milhas por Hora na última medição\n",
    "- wind_kph (Double): velocidade do vento em Kilômetros por Hora na última medição\n",
    "- wind_degree (Integer): direção do vento em graus na última medição\n",
    "- wind_dir (String):  direção do vento na última medição\n",
    "- pressure_mb (Double): pressão em millibars na última medição\n",
    "- pressure_in (Double): pressão em Polegadas na última medição\n",
    "- **precip_mm (Double):** precipitação em Milímetros na última medição\n",
    "- precip_in (Double): precipitação em Polegadas na última medição\n",
    "- humidity (Integer): porcentagem de umidade na última medição\n",
    "- cloud (Integer): porcentagem da cobertura de nuvens na última medição\n",
    "- feelslike_c (Double): sensação térmica em graus Celsius na última medição\n",
    "- feelslike_f (Double): sensação térmica em graus Fahrenheit na última medição\n",
    "- **vis_km (Double):** visibilidade em KM na última medição\n",
    "- vis_miles (Double): visibilidade em Milhas na última medição\n",
    "- uv (Integer): radiação ultravioleta na última medição\n",
    "\n",
    "Exemplo de requisição em tempo real: \n",
    "- http://api.apixu.com/v1/current.json?key=7955340a24754e2ba1a00402181906&q=Curitiba\n",
    "\n",
    "Exemplo de requisição para dados históricos:\n",
    "- http://api.apixu.com/v1/history.json?key=7955340a24754e2ba1a00402181906&q=Curitiba&dt=2018-11-01\n",
    "\n",
    "Exemplo de saída:\n",
    "- {\"location\":{\"name\":\"Curitiba\",\"region\":\"Parana\",\"country\":\"Brazil\",\"lat\":-25.42,\"lon\":-49.25,\"tz_id\":\"America/Sao_Paulo\",\"localtime_epoch\":1541596324,\"localtime\":\"2018-11-07 11:12\"},\"current\":{\"last_updated_epoch\":1541595624,\"last_updated\":\"2018-11-07 11:00\",\"temp_c\":18.0,\"temp_f\":64.4,\"is_day\":1,\"condition\":{\"text\":\"Partly cloudy\",\"icon\":\"//cdn.apixu.com/weather/64x64/day/116.png\",\"code\":1003},\"wind_mph\":11.9,\"wind_kph\":19.1,\"wind_degree\":80,\"wind_dir\":\"E\",\"pressure_mb\":1022.0,\"pressure_in\":30.7,\"precip_mm\":0.0,\"precip_in\":0.0,\"humidity\":88,\"cloud\":75,\"feelslike_c\":18.0,\"feelslike_f\":64.4,\"vis_km\":10.0,\"vis_miles\":6.0,\"uv\":5.0}}\n",
    "\n",
    "Link para o crawler: https://github.com/apixu/apixu-python\n",
    "\n",
    "**Vantagens:**\n",
    "- Tem API que disponibiliza os dados em tempo real.\n",
    "- Apresenta diversos atributos.\n",
    "\n",
    "**Desvantagens:**\n",
    "- Os dados são para a cidade inteira.\n",
    "- Não sei de onde coletam os dados.\n",
    "- Há limite de 10000 requisições por mês.\n",
    "- Os dados históricos disponibilizados são apenas dos últimos 7 dias.\n",
    "\n",
    "-----------------------------------------------------------------------------------------------------------"
   ]
  },
  {
   "cell_type": "markdown",
   "metadata": {},
   "source": [
    "[CEMADEN](http://www.cemaden.gov.br/pluviometros-automatico/) é o Centro Nacional de Monitoramento e Alertas de Desastres Naturais que coleta e disponibiliza diversos tipos de dados, entre eles pluviométricos.\n",
    "\n",
    "Os pluviômetros automáticos se conectam aos servidores do Cemaden e transmitem dados dos acumulados de chuva, em milímetros, a cada 10 minutos, sendo, então, processados e disponibilizados para a Sala de Situação do CEMADEN em plataforma especializada desenvolvida pelo Centro. Por outro lado, caso não esteja chovendo, o pluviômetro se conectará apenas uma vez a cada hora, enviando o acumulado de 0 milímetro dos últimos 60 minutos.\n",
    "\n",
    "Atributos:\n",
    "- **municipio**\n",
    "- **codEstacao**\n",
    "- **uf**\n",
    "- nomeEstacao\n",
    "- **latitude**\n",
    "- **longitude**\n",
    "- **datahora:** data e hora da medição.\n",
    "- **valorMedida:** precipitação pluviométrica (em mm).\n",
    "\n",
    "\n",
    "**Vantagens:**\n",
    "- Os dados são coletados diretamente de estações pluviométricas.\n",
    "- Os dados são por regiões.\n",
    "- Os dados históricos são facilmente disponibilizados por meio de solicitação mensal (por formulário).\n",
    "\n",
    "**Desvantagens:**\n",
    "- O único atributo é o de precipitação pluviométrica.\n",
    "- A coleta em tempo real vai ser desafiadora: por crawler?"
   ]
  },
  {
   "cell_type": "code",
   "execution_count": null,
   "metadata": {},
   "outputs": [],
   "source": []
  },
  {
   "cell_type": "markdown",
   "metadata": {},
   "source": [
    "## Situação da via"
   ]
  },
  {
   "cell_type": "code",
   "execution_count": null,
   "metadata": {},
   "outputs": [],
   "source": []
  },
  {
   "cell_type": "code",
   "execution_count": null,
   "metadata": {},
   "outputs": [],
   "source": []
  },
  {
   "cell_type": "code",
   "execution_count": null,
   "metadata": {},
   "outputs": [],
   "source": []
  },
  {
   "cell_type": "code",
   "execution_count": null,
   "metadata": {},
   "outputs": [],
   "source": []
  },
  {
   "cell_type": "code",
   "execution_count": null,
   "metadata": {},
   "outputs": [],
   "source": []
  }
 ],
 "metadata": {
  "kernelspec": {
   "display_name": "Python 2",
   "language": "python",
   "name": "python2"
  },
  "language_info": {
   "codemirror_mode": {
    "name": "ipython",
    "version": 2
   },
   "file_extension": ".py",
   "mimetype": "text/x-python",
   "name": "python",
   "nbconvert_exporter": "python",
   "pygments_lexer": "ipython2",
   "version": "2.7.15"
  }
 },
 "nbformat": 4,
 "nbformat_minor": 2
}
