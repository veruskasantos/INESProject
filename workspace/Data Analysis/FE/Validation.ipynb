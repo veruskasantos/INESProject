{
 "cells": [
  {
   "cell_type": "markdown",
   "metadata": {},
   "source": [
    "# Validation\n",
    "### Checking the relevance of Feature Engineering and correlation to remove unecessary variables and improve the accuracy\n",
    "\n",
    "The aim is to create a model to predict next headway with:\n",
    "* all variables\n",
    "* selected variables"
   ]
  },
  {
   "cell_type": "code",
   "execution_count": 49,
   "metadata": {},
   "outputs": [],
   "source": [
    "import pandas as pd\n",
    "#import pandas_profiling\n",
    "import numpy as np\n",
    "import os\n",
    "from sklearn.model_selection import cross_val_score, train_test_split\n",
    "from sklearn.ensemble import RandomForestRegressor\n",
    "from sklearn.ensemble import RandomForestClassifier\n",
    "from sklearn.linear_model import LogisticRegression\n",
    "from sklearn.linear_model import Lasso\n",
    "from sklearn.decomposition import PCA\n",
    "from sklearn.svm import SVR\n",
    "from sklearn.metrics import mean_squared_error\n",
    "from sklearn.metrics import accuracy_score\n",
    "from sklearn.metrics import f1_score\n",
    "from sklearn.metrics import precision_score\n",
    "from sklearn.metrics import recall_score\n",
    "from matplotlib import pyplot as plt\n",
    "import time"
   ]
  },
  {
   "cell_type": "code",
   "execution_count": 50,
   "metadata": {},
   "outputs": [],
   "source": [
    "# Choose the city of analysis\n",
    "\n",
    "city = 'Recife'\n",
    "# city = 'CG'\n",
    "# city = 'Curitiba'"
   ]
  },
  {
   "cell_type": "code",
   "execution_count": 51,
   "metadata": {},
   "outputs": [],
   "source": [
    "stops_ahead = 2"
   ]
  },
  {
   "cell_type": "code",
   "execution_count": 52,
   "metadata": {},
   "outputs": [],
   "source": [
    "path = os.getcwd() + \"/../data/output/\" + city + \"/notes/\"\n",
    "\n",
    "# All variables\n",
    "all_data = \"new_feats_data.csv\"\n",
    "integrated_data_path = path + all_data"
   ]
  },
  {
   "cell_type": "code",
   "execution_count": 53,
   "metadata": {},
   "outputs": [],
   "source": [
    "# Reading data\n",
    "\n",
    "df_all = pd.read_csv(integrated_data_path)"
   ]
  },
  {
   "cell_type": "code",
   "execution_count": 54,
   "metadata": {},
   "outputs": [],
   "source": [
    "df_selected = pd.read_csv(integrated_data_path)"
   ]
  },
  {
   "cell_type": "code",
   "execution_count": 55,
   "metadata": {},
   "outputs": [],
   "source": [
    "rows_number = 2500 #len(df_all_data) #1000000"
   ]
  },
  {
   "cell_type": "code",
   "execution_count": 56,
   "metadata": {},
   "outputs": [],
   "source": [
    "df_all = df_all.loc[0:rows_number]\n",
    "df_selected = df_selected.loc[0:rows_number]"
   ]
  },
  {
   "cell_type": "markdown",
   "metadata": {},
   "source": [
    "### Converting NaN values\n",
    "\n",
    "Changing NaN by median or:\n",
    "- values of shape for gps"
   ]
  },
  {
   "cell_type": "code",
   "execution_count": 57,
   "metadata": {},
   "outputs": [
    {
     "data": {
      "text/plain": [
       "route                               False\n",
       "tripNum                             False\n",
       "shapeId                             False\n",
       "routeFrequency                      False\n",
       "shapeSequence                       False\n",
       "shapeLat                            False\n",
       "shapeLon                            False\n",
       "distanceTraveledShape               False\n",
       "busCode                             False\n",
       "gpsPointId                           True\n",
       "gpsLat                               True\n",
       "gpsLon                               True\n",
       "distanceToShapePoint                 True\n",
       "stopPointId                         False\n",
       "problem                             False\n",
       "precipitation                       False\n",
       "alertSubtype                        False\n",
       "alertType                           False\n",
       "alertRoadType                        True\n",
       "alertConfidence                      True\n",
       "alertNComments                       True\n",
       "alertNImages                         True\n",
       "alertNThumbsUp                       True\n",
       "alertReliability                     True\n",
       "alertReportMood                      True\n",
       "alertReportRating                    True\n",
       "alertSpeed                           True\n",
       "alertLatitude                        True\n",
       "alertLongitude                       True\n",
       "alertDistanceToClosestShapePoint     True\n",
       "alertIsJamUnifiedAlert              False\n",
       "alertInScale                        False\n",
       "jamBlockType                        False\n",
       "jamDelay                             True\n",
       "jamLength                            True\n",
       "jamLevel                             True\n",
       "jamSeverity                          True\n",
       "jamSpeedKM                           True\n",
       "jamDistanceToClosestShapePoint       True\n",
       "headway                             False\n",
       "headwayThreshold                    False\n",
       "busBunching                         False\n",
       "nextBusCode                         False\n",
       "GPShour                             False\n",
       "DAY(gps_datetime)                   False\n",
       "DAY(precipitationTime)              False\n",
       "DAY(alertDateTime)                   True\n",
       "DAY(jamUpdateDateTime)               True\n",
       "YEAR(gps_datetime)                  False\n",
       "YEAR(precipitationTime)             False\n",
       "YEAR(alertDateTime)                  True\n",
       "YEAR(jamUpdateDateTime)              True\n",
       "MONTH(gps_datetime)                 False\n",
       "MONTH(precipitationTime)            False\n",
       "MONTH(alertDateTime)                 True\n",
       "MONTH(jamUpdateDateTime)             True\n",
       "WEEKDAY(gps_datetime)               False\n",
       "WEEKDAY(precipitationTime)          False\n",
       "WEEKDAY(alertDateTime)               True\n",
       "WEEKDAY(jamUpdateDateTime)           True\n",
       "dtype: bool"
      ]
     },
     "execution_count": 57,
     "metadata": {},
     "output_type": "execute_result"
    }
   ],
   "source": [
    "df_all.isnull().any()"
   ]
  },
  {
   "cell_type": "code",
   "execution_count": 58,
   "metadata": {},
   "outputs": [],
   "source": [
    "# changing by shape data\n",
    "df_all.gpsPointId = np.where(df_all.gpsPointId.isnull(), 0, df_all.gpsPointId)\n",
    "df_all.gpsLat = np.where(df_all.gpsLat.isnull(), df_all.shapeLat, df_all.gpsLat)\n",
    "df_all.gpsLon = np.where(df_all.gpsLon.isnull(), df_all.shapeLon, df_all.gpsLon)\n",
    "df_all.distanceToShapePoint = np.where(df_all.distanceToShapePoint.isnull(), \n",
    "                                            0, df_all.distanceToShapePoint)\n"
   ]
  },
  {
   "cell_type": "code",
   "execution_count": 59,
   "metadata": {},
   "outputs": [
    {
     "data": {
      "text/html": [
       "<div>\n",
       "<style scoped>\n",
       "    .dataframe tbody tr th:only-of-type {\n",
       "        vertical-align: middle;\n",
       "    }\n",
       "\n",
       "    .dataframe tbody tr th {\n",
       "        vertical-align: top;\n",
       "    }\n",
       "\n",
       "    .dataframe thead th {\n",
       "        text-align: right;\n",
       "    }\n",
       "</style>\n",
       "<table border=\"1\" class=\"dataframe\">\n",
       "  <thead>\n",
       "    <tr style=\"text-align: right;\">\n",
       "      <th></th>\n",
       "      <th>route</th>\n",
       "      <th>tripNum</th>\n",
       "      <th>shapeId</th>\n",
       "      <th>routeFrequency</th>\n",
       "      <th>shapeSequence</th>\n",
       "      <th>shapeLat</th>\n",
       "      <th>shapeLon</th>\n",
       "      <th>distanceTraveledShape</th>\n",
       "      <th>busCode</th>\n",
       "      <th>gpsPointId</th>\n",
       "      <th>...</th>\n",
       "      <th>YEAR(alertDateTime)</th>\n",
       "      <th>YEAR(jamUpdateDateTime)</th>\n",
       "      <th>MONTH(gps_datetime)</th>\n",
       "      <th>MONTH(precipitationTime)</th>\n",
       "      <th>MONTH(alertDateTime)</th>\n",
       "      <th>MONTH(jamUpdateDateTime)</th>\n",
       "      <th>WEEKDAY(gps_datetime)</th>\n",
       "      <th>WEEKDAY(precipitationTime)</th>\n",
       "      <th>WEEKDAY(alertDateTime)</th>\n",
       "      <th>WEEKDAY(jamUpdateDateTime)</th>\n",
       "    </tr>\n",
       "  </thead>\n",
       "  <tbody>\n",
       "    <tr>\n",
       "      <th>0</th>\n",
       "      <td>68</td>\n",
       "      <td>1</td>\n",
       "      <td>Route_160</td>\n",
       "      <td>low_frequency</td>\n",
       "      <td>12573</td>\n",
       "      <td>-8.036592</td>\n",
       "      <td>-34.975683</td>\n",
       "      <td>785.0</td>\n",
       "      <td>12021</td>\n",
       "      <td>27.0</td>\n",
       "      <td>...</td>\n",
       "      <td>2018.0</td>\n",
       "      <td>2018.0</td>\n",
       "      <td>12</td>\n",
       "      <td>12</td>\n",
       "      <td>12.0</td>\n",
       "      <td>12.0</td>\n",
       "      <td>0</td>\n",
       "      <td>0</td>\n",
       "      <td>0.0</td>\n",
       "      <td>0.0</td>\n",
       "    </tr>\n",
       "    <tr>\n",
       "      <th>1</th>\n",
       "      <td>68</td>\n",
       "      <td>1</td>\n",
       "      <td>Route_160</td>\n",
       "      <td>low_frequency</td>\n",
       "      <td>12581</td>\n",
       "      <td>-8.034150</td>\n",
       "      <td>-34.960756</td>\n",
       "      <td>2794.0</td>\n",
       "      <td>12021</td>\n",
       "      <td>33.0</td>\n",
       "      <td>...</td>\n",
       "      <td>2018.0</td>\n",
       "      <td>2018.0</td>\n",
       "      <td>12</td>\n",
       "      <td>12</td>\n",
       "      <td>12.0</td>\n",
       "      <td>12.0</td>\n",
       "      <td>0</td>\n",
       "      <td>0</td>\n",
       "      <td>0.0</td>\n",
       "      <td>0.0</td>\n",
       "    </tr>\n",
       "    <tr>\n",
       "      <th>2</th>\n",
       "      <td>68</td>\n",
       "      <td>1</td>\n",
       "      <td>Route_160</td>\n",
       "      <td>low_frequency</td>\n",
       "      <td>12582</td>\n",
       "      <td>-8.032878</td>\n",
       "      <td>-34.959775</td>\n",
       "      <td>2971.0</td>\n",
       "      <td>12021</td>\n",
       "      <td>0.0</td>\n",
       "      <td>...</td>\n",
       "      <td>2018.0</td>\n",
       "      <td>2018.0</td>\n",
       "      <td>12</td>\n",
       "      <td>12</td>\n",
       "      <td>12.0</td>\n",
       "      <td>12.0</td>\n",
       "      <td>0</td>\n",
       "      <td>0</td>\n",
       "      <td>0.0</td>\n",
       "      <td>0.0</td>\n",
       "    </tr>\n",
       "    <tr>\n",
       "      <th>3</th>\n",
       "      <td>68</td>\n",
       "      <td>1</td>\n",
       "      <td>Route_160</td>\n",
       "      <td>low_frequency</td>\n",
       "      <td>12583</td>\n",
       "      <td>-8.031478</td>\n",
       "      <td>-34.958622</td>\n",
       "      <td>3171.0</td>\n",
       "      <td>12021</td>\n",
       "      <td>35.0</td>\n",
       "      <td>...</td>\n",
       "      <td>2018.0</td>\n",
       "      <td>2018.0</td>\n",
       "      <td>12</td>\n",
       "      <td>12</td>\n",
       "      <td>12.0</td>\n",
       "      <td>12.0</td>\n",
       "      <td>0</td>\n",
       "      <td>0</td>\n",
       "      <td>0.0</td>\n",
       "      <td>0.0</td>\n",
       "    </tr>\n",
       "    <tr>\n",
       "      <th>4</th>\n",
       "      <td>68</td>\n",
       "      <td>1</td>\n",
       "      <td>Route_160</td>\n",
       "      <td>low_frequency</td>\n",
       "      <td>12589</td>\n",
       "      <td>-8.036750</td>\n",
       "      <td>-34.946086</td>\n",
       "      <td>4838.0</td>\n",
       "      <td>12021</td>\n",
       "      <td>43.0</td>\n",
       "      <td>...</td>\n",
       "      <td>2018.0</td>\n",
       "      <td>2018.0</td>\n",
       "      <td>12</td>\n",
       "      <td>12</td>\n",
       "      <td>12.0</td>\n",
       "      <td>12.0</td>\n",
       "      <td>0</td>\n",
       "      <td>0</td>\n",
       "      <td>0.0</td>\n",
       "      <td>0.0</td>\n",
       "    </tr>\n",
       "  </tbody>\n",
       "</table>\n",
       "<p>5 rows × 60 columns</p>\n",
       "</div>"
      ],
      "text/plain": [
       "   route  tripNum    shapeId routeFrequency  shapeSequence  shapeLat  \\\n",
       "0     68        1  Route_160  low_frequency          12573 -8.036592   \n",
       "1     68        1  Route_160  low_frequency          12581 -8.034150   \n",
       "2     68        1  Route_160  low_frequency          12582 -8.032878   \n",
       "3     68        1  Route_160  low_frequency          12583 -8.031478   \n",
       "4     68        1  Route_160  low_frequency          12589 -8.036750   \n",
       "\n",
       "    shapeLon  distanceTraveledShape  busCode  gpsPointId  \\\n",
       "0 -34.975683                  785.0    12021        27.0   \n",
       "1 -34.960756                 2794.0    12021        33.0   \n",
       "2 -34.959775                 2971.0    12021         0.0   \n",
       "3 -34.958622                 3171.0    12021        35.0   \n",
       "4 -34.946086                 4838.0    12021        43.0   \n",
       "\n",
       "              ...              YEAR(alertDateTime)  YEAR(jamUpdateDateTime)  \\\n",
       "0             ...                           2018.0                   2018.0   \n",
       "1             ...                           2018.0                   2018.0   \n",
       "2             ...                           2018.0                   2018.0   \n",
       "3             ...                           2018.0                   2018.0   \n",
       "4             ...                           2018.0                   2018.0   \n",
       "\n",
       "   MONTH(gps_datetime)  MONTH(precipitationTime) MONTH(alertDateTime)  \\\n",
       "0                   12                        12                 12.0   \n",
       "1                   12                        12                 12.0   \n",
       "2                   12                        12                 12.0   \n",
       "3                   12                        12                 12.0   \n",
       "4                   12                        12                 12.0   \n",
       "\n",
       "   MONTH(jamUpdateDateTime) WEEKDAY(gps_datetime) WEEKDAY(precipitationTime)  \\\n",
       "0                      12.0                     0                          0   \n",
       "1                      12.0                     0                          0   \n",
       "2                      12.0                     0                          0   \n",
       "3                      12.0                     0                          0   \n",
       "4                      12.0                     0                          0   \n",
       "\n",
       "   WEEKDAY(alertDateTime)  WEEKDAY(jamUpdateDateTime)  \n",
       "0                     0.0                         0.0  \n",
       "1                     0.0                         0.0  \n",
       "2                     0.0                         0.0  \n",
       "3                     0.0                         0.0  \n",
       "4                     0.0                         0.0  \n",
       "\n",
       "[5 rows x 60 columns]"
      ]
     },
     "execution_count": 59,
     "metadata": {},
     "output_type": "execute_result"
    }
   ],
   "source": [
    "#grouping by weekday and filling NA's with the median of the column\n",
    "numeric_feats = df_all.dtypes[(df_all.dtypes != \"object\") & (df_all.dtypes != \"datetime64[ns]\")\n",
    "                               & (df_all.dtypes != \"bool\")].index\n",
    "df_all[numeric_feats] = df_all.groupby(['WEEKDAY(gps_datetime)'])[numeric_feats].transform(lambda x: x.fillna(x.median()))\n",
    "\n",
    "df_all.head(5)"
   ]
  },
  {
   "cell_type": "code",
   "execution_count": 60,
   "metadata": {},
   "outputs": [
    {
     "data": {
      "text/plain": [
       "route                               False\n",
       "tripNum                             False\n",
       "shapeId                             False\n",
       "routeFrequency                      False\n",
       "shapeSequence                       False\n",
       "shapeLat                            False\n",
       "shapeLon                            False\n",
       "distanceTraveledShape               False\n",
       "busCode                             False\n",
       "gpsPointId                          False\n",
       "gpsLat                              False\n",
       "gpsLon                              False\n",
       "distanceToShapePoint                False\n",
       "stopPointId                         False\n",
       "problem                             False\n",
       "precipitation                       False\n",
       "alertSubtype                        False\n",
       "alertType                           False\n",
       "alertRoadType                       False\n",
       "alertConfidence                     False\n",
       "alertNComments                      False\n",
       "alertNImages                        False\n",
       "alertNThumbsUp                      False\n",
       "alertReliability                    False\n",
       "alertReportMood                     False\n",
       "alertReportRating                   False\n",
       "alertSpeed                          False\n",
       "alertLatitude                       False\n",
       "alertLongitude                      False\n",
       "alertDistanceToClosestShapePoint    False\n",
       "alertIsJamUnifiedAlert              False\n",
       "alertInScale                        False\n",
       "jamBlockType                        False\n",
       "jamDelay                            False\n",
       "jamLength                           False\n",
       "jamLevel                            False\n",
       "jamSeverity                         False\n",
       "jamSpeedKM                          False\n",
       "jamDistanceToClosestShapePoint      False\n",
       "headway                             False\n",
       "headwayThreshold                    False\n",
       "busBunching                         False\n",
       "nextBusCode                         False\n",
       "GPShour                             False\n",
       "DAY(gps_datetime)                   False\n",
       "DAY(precipitationTime)              False\n",
       "DAY(alertDateTime)                  False\n",
       "DAY(jamUpdateDateTime)              False\n",
       "YEAR(gps_datetime)                  False\n",
       "YEAR(precipitationTime)             False\n",
       "YEAR(alertDateTime)                 False\n",
       "YEAR(jamUpdateDateTime)             False\n",
       "MONTH(gps_datetime)                 False\n",
       "MONTH(precipitationTime)            False\n",
       "MONTH(alertDateTime)                False\n",
       "MONTH(jamUpdateDateTime)            False\n",
       "WEEKDAY(gps_datetime)               False\n",
       "WEEKDAY(precipitationTime)          False\n",
       "WEEKDAY(alertDateTime)              False\n",
       "WEEKDAY(jamUpdateDateTime)          False\n",
       "dtype: bool"
      ]
     },
     "execution_count": 60,
     "metadata": {},
     "output_type": "execute_result"
    }
   ],
   "source": [
    "df_all.isnull().any()"
   ]
  },
  {
   "cell_type": "code",
   "execution_count": 61,
   "metadata": {},
   "outputs": [
    {
     "data": {
      "text/plain": [
       "route                                 int64\n",
       "tripNum                               int64\n",
       "shapeId                              object\n",
       "routeFrequency                       object\n",
       "shapeSequence                         int64\n",
       "shapeLat                            float64\n",
       "shapeLon                            float64\n",
       "distanceTraveledShape               float64\n",
       "busCode                               int64\n",
       "gpsPointId                          float64\n",
       "gpsLat                              float64\n",
       "gpsLon                              float64\n",
       "distanceToShapePoint                float64\n",
       "stopPointId                           int64\n",
       "problem                              object\n",
       "precipitation                       float64\n",
       "alertSubtype                         object\n",
       "alertType                            object\n",
       "alertRoadType                       float64\n",
       "alertConfidence                     float64\n",
       "alertNComments                      float64\n",
       "alertNImages                        float64\n",
       "alertNThumbsUp                      float64\n",
       "alertReliability                    float64\n",
       "alertReportMood                     float64\n",
       "alertReportRating                   float64\n",
       "alertSpeed                          float64\n",
       "alertLatitude                       float64\n",
       "alertLongitude                      float64\n",
       "alertDistanceToClosestShapePoint    float64\n",
       "alertIsJamUnifiedAlert                 bool\n",
       "alertInScale                           bool\n",
       "jamBlockType                         object\n",
       "jamDelay                            float64\n",
       "jamLength                           float64\n",
       "jamLevel                            float64\n",
       "jamSeverity                         float64\n",
       "jamSpeedKM                          float64\n",
       "jamDistanceToClosestShapePoint      float64\n",
       "headway                               int64\n",
       "headwayThreshold                      int64\n",
       "busBunching                            bool\n",
       "nextBusCode                           int64\n",
       "GPShour                               int64\n",
       "DAY(gps_datetime)                     int64\n",
       "DAY(precipitationTime)                int64\n",
       "DAY(alertDateTime)                  float64\n",
       "DAY(jamUpdateDateTime)              float64\n",
       "YEAR(gps_datetime)                    int64\n",
       "YEAR(precipitationTime)               int64\n",
       "YEAR(alertDateTime)                 float64\n",
       "YEAR(jamUpdateDateTime)             float64\n",
       "MONTH(gps_datetime)                   int64\n",
       "MONTH(precipitationTime)              int64\n",
       "MONTH(alertDateTime)                float64\n",
       "MONTH(jamUpdateDateTime)            float64\n",
       "WEEKDAY(gps_datetime)                 int64\n",
       "WEEKDAY(precipitationTime)            int64\n",
       "WEEKDAY(alertDateTime)              float64\n",
       "WEEKDAY(jamUpdateDateTime)          float64\n",
       "dtype: object"
      ]
     },
     "execution_count": 61,
     "metadata": {},
     "output_type": "execute_result"
    }
   ],
   "source": [
    "df_all.dtypes"
   ]
  },
  {
   "cell_type": "markdown",
   "metadata": {},
   "source": [
    "### Generating dataset based on window"
   ]
  },
  {
   "cell_type": "code",
   "execution_count": 62,
   "metadata": {},
   "outputs": [],
   "source": [
    "X_list = []\n",
    "y_list = []\n",
    "columns_df = df_all.columns\n",
    "\n",
    "for index,line in df_all.iterrows():\n",
    "    next_prediction_stop = index + stops_ahead\n",
    "    if (next_prediction_stop < (len(df_all) - stops_ahead) and \n",
    "        df_all.iloc[next_prediction_stop][\"DAY(gps_datetime)\"] == line[\"DAY(gps_datetime)\"] and\n",
    "        df_all.iloc[next_prediction_stop][\"busCode\"] == line[\"busCode\"] and\n",
    "        df_all.iloc[next_prediction_stop][\"nextBusCode\"] == line[\"nextBusCode\"]):\n",
    "        \n",
    "        X_list.append(line)\n",
    "        y_list.append(df_all.iloc[next_prediction_stop][\"busBunching\"])\n",
    "\n",
    "df_all_data = pd.DataFrame(X_list, columns=columns_df)\n",
    "df_all_data[\"busBunching\"] = y_list # replace the column busBunching for the N-stop-ahead label"
   ]
  },
  {
   "cell_type": "code",
   "execution_count": 63,
   "metadata": {},
   "outputs": [
    {
     "data": {
      "text/html": [
       "<div>\n",
       "<style scoped>\n",
       "    .dataframe tbody tr th:only-of-type {\n",
       "        vertical-align: middle;\n",
       "    }\n",
       "\n",
       "    .dataframe tbody tr th {\n",
       "        vertical-align: top;\n",
       "    }\n",
       "\n",
       "    .dataframe thead th {\n",
       "        text-align: right;\n",
       "    }\n",
       "</style>\n",
       "<table border=\"1\" class=\"dataframe\">\n",
       "  <thead>\n",
       "    <tr style=\"text-align: right;\">\n",
       "      <th></th>\n",
       "      <th>route</th>\n",
       "      <th>tripNum</th>\n",
       "      <th>shapeId</th>\n",
       "      <th>routeFrequency</th>\n",
       "      <th>shapeSequence</th>\n",
       "      <th>shapeLat</th>\n",
       "      <th>shapeLon</th>\n",
       "      <th>distanceTraveledShape</th>\n",
       "      <th>busCode</th>\n",
       "      <th>gpsPointId</th>\n",
       "      <th>...</th>\n",
       "      <th>YEAR(alertDateTime)</th>\n",
       "      <th>YEAR(jamUpdateDateTime)</th>\n",
       "      <th>MONTH(gps_datetime)</th>\n",
       "      <th>MONTH(precipitationTime)</th>\n",
       "      <th>MONTH(alertDateTime)</th>\n",
       "      <th>MONTH(jamUpdateDateTime)</th>\n",
       "      <th>WEEKDAY(gps_datetime)</th>\n",
       "      <th>WEEKDAY(precipitationTime)</th>\n",
       "      <th>WEEKDAY(alertDateTime)</th>\n",
       "      <th>WEEKDAY(jamUpdateDateTime)</th>\n",
       "    </tr>\n",
       "  </thead>\n",
       "  <tbody>\n",
       "    <tr>\n",
       "      <th>0</th>\n",
       "      <td>68</td>\n",
       "      <td>1</td>\n",
       "      <td>Route_160</td>\n",
       "      <td>low_frequency</td>\n",
       "      <td>12573</td>\n",
       "      <td>-8.036592</td>\n",
       "      <td>-34.975683</td>\n",
       "      <td>785.0</td>\n",
       "      <td>12021</td>\n",
       "      <td>27.0</td>\n",
       "      <td>...</td>\n",
       "      <td>2018.0</td>\n",
       "      <td>2018.0</td>\n",
       "      <td>12</td>\n",
       "      <td>12</td>\n",
       "      <td>12.0</td>\n",
       "      <td>12.0</td>\n",
       "      <td>0</td>\n",
       "      <td>0</td>\n",
       "      <td>0.0</td>\n",
       "      <td>0.0</td>\n",
       "    </tr>\n",
       "    <tr>\n",
       "      <th>1</th>\n",
       "      <td>68</td>\n",
       "      <td>1</td>\n",
       "      <td>Route_160</td>\n",
       "      <td>low_frequency</td>\n",
       "      <td>12581</td>\n",
       "      <td>-8.034150</td>\n",
       "      <td>-34.960756</td>\n",
       "      <td>2794.0</td>\n",
       "      <td>12021</td>\n",
       "      <td>33.0</td>\n",
       "      <td>...</td>\n",
       "      <td>2018.0</td>\n",
       "      <td>2018.0</td>\n",
       "      <td>12</td>\n",
       "      <td>12</td>\n",
       "      <td>12.0</td>\n",
       "      <td>12.0</td>\n",
       "      <td>0</td>\n",
       "      <td>0</td>\n",
       "      <td>0.0</td>\n",
       "      <td>0.0</td>\n",
       "    </tr>\n",
       "    <tr>\n",
       "      <th>2</th>\n",
       "      <td>68</td>\n",
       "      <td>1</td>\n",
       "      <td>Route_160</td>\n",
       "      <td>low_frequency</td>\n",
       "      <td>12582</td>\n",
       "      <td>-8.032878</td>\n",
       "      <td>-34.959775</td>\n",
       "      <td>2971.0</td>\n",
       "      <td>12021</td>\n",
       "      <td>0.0</td>\n",
       "      <td>...</td>\n",
       "      <td>2018.0</td>\n",
       "      <td>2018.0</td>\n",
       "      <td>12</td>\n",
       "      <td>12</td>\n",
       "      <td>12.0</td>\n",
       "      <td>12.0</td>\n",
       "      <td>0</td>\n",
       "      <td>0</td>\n",
       "      <td>0.0</td>\n",
       "      <td>0.0</td>\n",
       "    </tr>\n",
       "    <tr>\n",
       "      <th>3</th>\n",
       "      <td>68</td>\n",
       "      <td>1</td>\n",
       "      <td>Route_160</td>\n",
       "      <td>low_frequency</td>\n",
       "      <td>12583</td>\n",
       "      <td>-8.031478</td>\n",
       "      <td>-34.958622</td>\n",
       "      <td>3171.0</td>\n",
       "      <td>12021</td>\n",
       "      <td>35.0</td>\n",
       "      <td>...</td>\n",
       "      <td>2018.0</td>\n",
       "      <td>2018.0</td>\n",
       "      <td>12</td>\n",
       "      <td>12</td>\n",
       "      <td>12.0</td>\n",
       "      <td>12.0</td>\n",
       "      <td>0</td>\n",
       "      <td>0</td>\n",
       "      <td>0.0</td>\n",
       "      <td>0.0</td>\n",
       "    </tr>\n",
       "    <tr>\n",
       "      <th>4</th>\n",
       "      <td>68</td>\n",
       "      <td>1</td>\n",
       "      <td>Route_160</td>\n",
       "      <td>low_frequency</td>\n",
       "      <td>12589</td>\n",
       "      <td>-8.036750</td>\n",
       "      <td>-34.946086</td>\n",
       "      <td>4838.0</td>\n",
       "      <td>12021</td>\n",
       "      <td>43.0</td>\n",
       "      <td>...</td>\n",
       "      <td>2018.0</td>\n",
       "      <td>2018.0</td>\n",
       "      <td>12</td>\n",
       "      <td>12</td>\n",
       "      <td>12.0</td>\n",
       "      <td>12.0</td>\n",
       "      <td>0</td>\n",
       "      <td>0</td>\n",
       "      <td>0.0</td>\n",
       "      <td>0.0</td>\n",
       "    </tr>\n",
       "  </tbody>\n",
       "</table>\n",
       "<p>5 rows × 60 columns</p>\n",
       "</div>"
      ],
      "text/plain": [
       "   route  tripNum    shapeId routeFrequency  shapeSequence  shapeLat  \\\n",
       "0     68        1  Route_160  low_frequency          12573 -8.036592   \n",
       "1     68        1  Route_160  low_frequency          12581 -8.034150   \n",
       "2     68        1  Route_160  low_frequency          12582 -8.032878   \n",
       "3     68        1  Route_160  low_frequency          12583 -8.031478   \n",
       "4     68        1  Route_160  low_frequency          12589 -8.036750   \n",
       "\n",
       "    shapeLon  distanceTraveledShape  busCode  gpsPointId  \\\n",
       "0 -34.975683                  785.0    12021        27.0   \n",
       "1 -34.960756                 2794.0    12021        33.0   \n",
       "2 -34.959775                 2971.0    12021         0.0   \n",
       "3 -34.958622                 3171.0    12021        35.0   \n",
       "4 -34.946086                 4838.0    12021        43.0   \n",
       "\n",
       "              ...              YEAR(alertDateTime)  YEAR(jamUpdateDateTime)  \\\n",
       "0             ...                           2018.0                   2018.0   \n",
       "1             ...                           2018.0                   2018.0   \n",
       "2             ...                           2018.0                   2018.0   \n",
       "3             ...                           2018.0                   2018.0   \n",
       "4             ...                           2018.0                   2018.0   \n",
       "\n",
       "   MONTH(gps_datetime)  MONTH(precipitationTime) MONTH(alertDateTime)  \\\n",
       "0                   12                        12                 12.0   \n",
       "1                   12                        12                 12.0   \n",
       "2                   12                        12                 12.0   \n",
       "3                   12                        12                 12.0   \n",
       "4                   12                        12                 12.0   \n",
       "\n",
       "   MONTH(jamUpdateDateTime) WEEKDAY(gps_datetime) WEEKDAY(precipitationTime)  \\\n",
       "0                      12.0                     0                          0   \n",
       "1                      12.0                     0                          0   \n",
       "2                      12.0                     0                          0   \n",
       "3                      12.0                     0                          0   \n",
       "4                      12.0                     0                          0   \n",
       "\n",
       "   WEEKDAY(alertDateTime)  WEEKDAY(jamUpdateDateTime)  \n",
       "0                     0.0                         0.0  \n",
       "1                     0.0                         0.0  \n",
       "2                     0.0                         0.0  \n",
       "3                     0.0                         0.0  \n",
       "4                     0.0                         0.0  \n",
       "\n",
       "[5 rows x 60 columns]"
      ]
     },
     "execution_count": 63,
     "metadata": {},
     "output_type": "execute_result"
    }
   ],
   "source": [
    "df_all_data.head(5)"
   ]
  },
  {
   "cell_type": "code",
   "execution_count": 64,
   "metadata": {},
   "outputs": [],
   "source": [
    "# Converting categorical variables as str\n",
    "# df_all_data['route'] = df_all_data['route'].astype(str)\n",
    "# df_all_data['busCode'] = df_all_data['busCode'].astype(str)\n",
    "# df_all_data['stopPointId'] = df_all_data['stopPointId'].astype(str)\n",
    "# df_all_data['nextBusCode'] = df_all_data['nextBusCode'].astype(str)\n",
    "\n",
    "# Converting bool to float\n",
    "df_all_data.alertIsJamUnifiedAlert = df_all_data.alertIsJamUnifiedAlert.astype(np.float64)\n",
    "df_all_data.alertInScale = df_all_data.alertInScale.astype(np.float64)\n",
    "df_all_data.busBunching = df_all_data.busBunching.astype(np.float64)"
   ]
  },
  {
   "cell_type": "markdown",
   "metadata": {},
   "source": [
    "### Converting categorical variables"
   ]
  },
  {
   "cell_type": "code",
   "execution_count": 65,
   "metadata": {},
   "outputs": [
    {
     "data": {
      "text/html": [
       "<div>\n",
       "<style scoped>\n",
       "    .dataframe tbody tr th:only-of-type {\n",
       "        vertical-align: middle;\n",
       "    }\n",
       "\n",
       "    .dataframe tbody tr th {\n",
       "        vertical-align: top;\n",
       "    }\n",
       "\n",
       "    .dataframe thead th {\n",
       "        text-align: right;\n",
       "    }\n",
       "</style>\n",
       "<table border=\"1\" class=\"dataframe\">\n",
       "  <thead>\n",
       "    <tr style=\"text-align: right;\">\n",
       "      <th></th>\n",
       "      <th>route</th>\n",
       "      <th>tripNum</th>\n",
       "      <th>shapeSequence</th>\n",
       "      <th>shapeLat</th>\n",
       "      <th>shapeLon</th>\n",
       "      <th>distanceTraveledShape</th>\n",
       "      <th>busCode</th>\n",
       "      <th>gpsPointId</th>\n",
       "      <th>gpsLat</th>\n",
       "      <th>gpsLon</th>\n",
       "      <th>...</th>\n",
       "      <th>alertSubtype_JAM_MODERATE_TRAFFIC</th>\n",
       "      <th>alertSubtype_JAM_STAND_STILL_TRAFFIC</th>\n",
       "      <th>alertSubtype_POLICE_HIDING</th>\n",
       "      <th>alertSubtype_POLICE_VISIBLE</th>\n",
       "      <th>alertType_-</th>\n",
       "      <th>alertType_ACCIDENT</th>\n",
       "      <th>alertType_HAZARD</th>\n",
       "      <th>alertType_JAM</th>\n",
       "      <th>alertType_POLICE</th>\n",
       "      <th>jamBlockType_-</th>\n",
       "    </tr>\n",
       "  </thead>\n",
       "  <tbody>\n",
       "    <tr>\n",
       "      <th>0</th>\n",
       "      <td>68</td>\n",
       "      <td>1</td>\n",
       "      <td>12573</td>\n",
       "      <td>-8.036592</td>\n",
       "      <td>-34.975683</td>\n",
       "      <td>785.0</td>\n",
       "      <td>12021</td>\n",
       "      <td>27.0</td>\n",
       "      <td>-8.036673</td>\n",
       "      <td>-34.975550</td>\n",
       "      <td>...</td>\n",
       "      <td>0</td>\n",
       "      <td>0</td>\n",
       "      <td>0</td>\n",
       "      <td>0</td>\n",
       "      <td>1</td>\n",
       "      <td>0</td>\n",
       "      <td>0</td>\n",
       "      <td>0</td>\n",
       "      <td>0</td>\n",
       "      <td>1</td>\n",
       "    </tr>\n",
       "    <tr>\n",
       "      <th>1</th>\n",
       "      <td>68</td>\n",
       "      <td>1</td>\n",
       "      <td>12581</td>\n",
       "      <td>-8.034150</td>\n",
       "      <td>-34.960756</td>\n",
       "      <td>2794.0</td>\n",
       "      <td>12021</td>\n",
       "      <td>33.0</td>\n",
       "      <td>-8.033869</td>\n",
       "      <td>-34.960571</td>\n",
       "      <td>...</td>\n",
       "      <td>0</td>\n",
       "      <td>0</td>\n",
       "      <td>0</td>\n",
       "      <td>0</td>\n",
       "      <td>0</td>\n",
       "      <td>0</td>\n",
       "      <td>0</td>\n",
       "      <td>1</td>\n",
       "      <td>0</td>\n",
       "      <td>1</td>\n",
       "    </tr>\n",
       "    <tr>\n",
       "      <th>2</th>\n",
       "      <td>68</td>\n",
       "      <td>1</td>\n",
       "      <td>12582</td>\n",
       "      <td>-8.032878</td>\n",
       "      <td>-34.959775</td>\n",
       "      <td>2971.0</td>\n",
       "      <td>12021</td>\n",
       "      <td>0.0</td>\n",
       "      <td>-8.032878</td>\n",
       "      <td>-34.959775</td>\n",
       "      <td>...</td>\n",
       "      <td>0</td>\n",
       "      <td>0</td>\n",
       "      <td>0</td>\n",
       "      <td>0</td>\n",
       "      <td>0</td>\n",
       "      <td>0</td>\n",
       "      <td>0</td>\n",
       "      <td>1</td>\n",
       "      <td>0</td>\n",
       "      <td>1</td>\n",
       "    </tr>\n",
       "    <tr>\n",
       "      <th>3</th>\n",
       "      <td>68</td>\n",
       "      <td>1</td>\n",
       "      <td>12583</td>\n",
       "      <td>-8.031478</td>\n",
       "      <td>-34.958622</td>\n",
       "      <td>3171.0</td>\n",
       "      <td>12021</td>\n",
       "      <td>35.0</td>\n",
       "      <td>-8.031753</td>\n",
       "      <td>-34.958864</td>\n",
       "      <td>...</td>\n",
       "      <td>0</td>\n",
       "      <td>0</td>\n",
       "      <td>0</td>\n",
       "      <td>0</td>\n",
       "      <td>0</td>\n",
       "      <td>0</td>\n",
       "      <td>0</td>\n",
       "      <td>1</td>\n",
       "      <td>0</td>\n",
       "      <td>1</td>\n",
       "    </tr>\n",
       "    <tr>\n",
       "      <th>4</th>\n",
       "      <td>68</td>\n",
       "      <td>1</td>\n",
       "      <td>12589</td>\n",
       "      <td>-8.036750</td>\n",
       "      <td>-34.946086</td>\n",
       "      <td>4838.0</td>\n",
       "      <td>12021</td>\n",
       "      <td>43.0</td>\n",
       "      <td>-8.035829</td>\n",
       "      <td>-34.947773</td>\n",
       "      <td>...</td>\n",
       "      <td>0</td>\n",
       "      <td>1</td>\n",
       "      <td>0</td>\n",
       "      <td>0</td>\n",
       "      <td>0</td>\n",
       "      <td>0</td>\n",
       "      <td>0</td>\n",
       "      <td>1</td>\n",
       "      <td>0</td>\n",
       "      <td>1</td>\n",
       "    </tr>\n",
       "  </tbody>\n",
       "</table>\n",
       "<p>5 rows × 83 columns</p>\n",
       "</div>"
      ],
      "text/plain": [
       "   route  tripNum  shapeSequence  shapeLat   shapeLon  distanceTraveledShape  \\\n",
       "0     68        1          12573 -8.036592 -34.975683                  785.0   \n",
       "1     68        1          12581 -8.034150 -34.960756                 2794.0   \n",
       "2     68        1          12582 -8.032878 -34.959775                 2971.0   \n",
       "3     68        1          12583 -8.031478 -34.958622                 3171.0   \n",
       "4     68        1          12589 -8.036750 -34.946086                 4838.0   \n",
       "\n",
       "   busCode  gpsPointId    gpsLat     gpsLon       ...        \\\n",
       "0    12021        27.0 -8.036673 -34.975550       ...         \n",
       "1    12021        33.0 -8.033869 -34.960571       ...         \n",
       "2    12021         0.0 -8.032878 -34.959775       ...         \n",
       "3    12021        35.0 -8.031753 -34.958864       ...         \n",
       "4    12021        43.0 -8.035829 -34.947773       ...         \n",
       "\n",
       "   alertSubtype_JAM_MODERATE_TRAFFIC  alertSubtype_JAM_STAND_STILL_TRAFFIC  \\\n",
       "0                                  0                                     0   \n",
       "1                                  0                                     0   \n",
       "2                                  0                                     0   \n",
       "3                                  0                                     0   \n",
       "4                                  0                                     1   \n",
       "\n",
       "   alertSubtype_POLICE_HIDING  alertSubtype_POLICE_VISIBLE  alertType_-  \\\n",
       "0                           0                            0            1   \n",
       "1                           0                            0            0   \n",
       "2                           0                            0            0   \n",
       "3                           0                            0            0   \n",
       "4                           0                            0            0   \n",
       "\n",
       "   alertType_ACCIDENT  alertType_HAZARD  alertType_JAM  alertType_POLICE  \\\n",
       "0                   0                 0              0                 0   \n",
       "1                   0                 0              1                 0   \n",
       "2                   0                 0              1                 0   \n",
       "3                   0                 0              1                 0   \n",
       "4                   0                 0              1                 0   \n",
       "\n",
       "   jamBlockType_-  \n",
       "0               1  \n",
       "1               1  \n",
       "2               1  \n",
       "3               1  \n",
       "4               1  \n",
       "\n",
       "[5 rows x 83 columns]"
      ]
     },
     "execution_count": 65,
     "metadata": {},
     "output_type": "execute_result"
    }
   ],
   "source": [
    "df_all_data = pd.get_dummies(df_all_data)\n",
    "df_all_data.head()"
   ]
  },
  {
   "cell_type": "code",
   "execution_count": 66,
   "metadata": {},
   "outputs": [
    {
     "data": {
      "text/plain": [
       "route                                              False\n",
       "tripNum                                            False\n",
       "shapeSequence                                      False\n",
       "shapeLat                                           False\n",
       "shapeLon                                           False\n",
       "distanceTraveledShape                              False\n",
       "busCode                                            False\n",
       "gpsPointId                                         False\n",
       "gpsLat                                             False\n",
       "gpsLon                                             False\n",
       "distanceToShapePoint                               False\n",
       "stopPointId                                        False\n",
       "precipitation                                      False\n",
       "alertRoadType                                      False\n",
       "alertConfidence                                    False\n",
       "alertNComments                                     False\n",
       "alertNImages                                       False\n",
       "alertNThumbsUp                                     False\n",
       "alertReliability                                   False\n",
       "alertReportMood                                    False\n",
       "alertReportRating                                  False\n",
       "alertSpeed                                         False\n",
       "alertLatitude                                      False\n",
       "alertLongitude                                     False\n",
       "alertDistanceToClosestShapePoint                   False\n",
       "alertIsJamUnifiedAlert                             False\n",
       "alertInScale                                       False\n",
       "jamDelay                                           False\n",
       "jamLength                                          False\n",
       "jamLevel                                           False\n",
       "                                                   ...  \n",
       "WEEKDAY(jamUpdateDateTime)                         False\n",
       "shapeId_Route_160                                  False\n",
       "shapeId_Route_161                                  False\n",
       "routeFrequency_low_frequency                       False\n",
       "problem_BETWEEN                                    False\n",
       "problem_NO_PROBLEM                                 False\n",
       "problem_TRIP_PROBLEM                               False\n",
       "alertSubtype_-                                     False\n",
       "alertSubtype_ACCIDENT_MINOR                        False\n",
       "alertSubtype_HAZARD_ON_ROAD                        False\n",
       "alertSubtype_HAZARD_ON_ROAD_CAR_STOPPED            False\n",
       "alertSubtype_HAZARD_ON_ROAD_CONSTRUCTION           False\n",
       "alertSubtype_HAZARD_ON_ROAD_OBJECT                 False\n",
       "alertSubtype_HAZARD_ON_ROAD_POT_HOLE               False\n",
       "alertSubtype_HAZARD_ON_ROAD_TRAFFIC_LIGHT_FAULT    False\n",
       "alertSubtype_HAZARD_ON_SHOULDER_ANIMALS            False\n",
       "alertSubtype_HAZARD_ON_SHOULDER_CAR_STOPPED        False\n",
       "alertSubtype_HAZARD_ON_SHOULDER_MISSING_SIGN       False\n",
       "alertSubtype_HAZARD_WEATHER_FLOOD                  False\n",
       "alertSubtype_JAM_HEAVY_TRAFFIC                     False\n",
       "alertSubtype_JAM_MODERATE_TRAFFIC                  False\n",
       "alertSubtype_JAM_STAND_STILL_TRAFFIC               False\n",
       "alertSubtype_POLICE_HIDING                         False\n",
       "alertSubtype_POLICE_VISIBLE                        False\n",
       "alertType_-                                        False\n",
       "alertType_ACCIDENT                                 False\n",
       "alertType_HAZARD                                   False\n",
       "alertType_JAM                                      False\n",
       "alertType_POLICE                                   False\n",
       "jamBlockType_-                                     False\n",
       "Length: 83, dtype: bool"
      ]
     },
     "execution_count": 66,
     "metadata": {},
     "output_type": "execute_result"
    }
   ],
   "source": [
    "df_all_data.isnull().any()"
   ]
  },
  {
   "cell_type": "markdown",
   "metadata": {},
   "source": [
    "### Features Selection with PCA\n",
    "\n",
    "It's the same thing we've done testing correlation."
   ]
  },
  {
   "cell_type": "code",
   "execution_count": 18,
   "metadata": {},
   "outputs": [
    {
     "data": {
      "image/png": "[encoded data removed]",
      "text/plain": [
       "<Figure size 432x288 with 1 Axes>"
      ]
     },
     "metadata": {},
     "output_type": "display_data"
    }
   ],
   "source": [
    "# y = df_all_data[\"busBunching\"]\n",
    "# df_all_data.drop('busBunching', axis=1, inplace=True)\n",
    "\n",
    "# n_pca = PCA().fit(df_all_data)\n",
    "# plt.plot(np.cumsum(n_pca.explained_variance_ratio_))\n",
    "# plt.xlabel('number of components')\n",
    "# plt.ylabel('cumulative explained variance');"
   ]
  },
  {
   "cell_type": "code",
   "execution_count": 19,
   "metadata": {},
   "outputs": [],
   "source": [
    "# pca = PCA(10).fit(df_all_data)"
   ]
  },
  {
   "cell_type": "code",
   "execution_count": 23,
   "metadata": {},
   "outputs": [
    {
     "name": "stdout",
     "output_type": "stream",
     "text": [
      "              route       tripNum  shapeSequence      shapeLat      shapeLon  \\\n",
      "PC-1   6.428749e-21  7.827035e-06       0.004341  7.146725e-07 -2.395987e-06   \n",
      "PC-2   4.353762e-17 -4.859801e-07       0.002456 -4.756196e-06  1.352148e-05   \n",
      "PC-3   1.245738e-18  1.757372e-03      -0.005118 -9.163273e-07  3.823787e-06   \n",
      "PC-4  -1.974543e-18 -3.931859e-03       0.001905 -8.000326e-07  4.647960e-06   \n",
      "PC-5   3.811442e-18  1.907240e-04       0.017343  6.907994e-07 -9.753151e-07   \n",
      "PC-6   1.155876e-17 -4.207354e-04      -0.017398 -1.706943e-06  2.200313e-05   \n",
      "PC-7   5.456365e-17  1.377366e-03      -0.001518  2.779221e-06 -1.296047e-05   \n",
      "PC-8  -6.086808e-18 -9.001301e-03       0.013757 -1.553668e-06  7.414438e-06   \n",
      "PC-9  -3.777632e-18 -7.813139e-03      -0.041267  1.382785e-05 -3.607375e-05   \n",
      "PC-10 -2.405315e-17 -3.222594e-03      -0.997536  1.976845e-05 -1.034416e-04   \n",
      "\n",
      "       distanceTraveledShape       busCode  gpsPointId        gpsLat  \\\n",
      "PC-1                0.995067 -1.670514e-35    0.008040  7.124319e-07   \n",
      "PC-2                0.098762  6.997878e-32   -0.012189 -4.756776e-06   \n",
      "PC-3                0.000029  1.054825e-27    0.327167 -9.105729e-07   \n",
      "PC-4                0.007092 -4.394953e-26   -0.941197 -8.263325e-07   \n",
      "PC-5               -0.003868  1.530208e-23    0.039526  6.452782e-07   \n",
      "PC-6                0.000877  1.017803e-21   -0.020530 -1.660304e-06   \n",
      "PC-7               -0.000348 -8.988551e-23   -0.011586  2.718275e-06   \n",
      "PC-8               -0.000096 -3.187659e-18    0.034419 -1.381490e-06   \n",
      "PC-9               -0.000617 -6.458684e-18   -0.059299  1.493027e-05   \n",
      "PC-10               0.004518 -4.783923e-17    0.000650  1.745590e-05   \n",
      "\n",
      "         gpsLon       ...        alertSubtype_JAM_MODERATE_TRAFFIC  \\\n",
      "PC-1  -0.000002       ...                                -0.000005   \n",
      "PC-2   0.000013       ...                                 0.000007   \n",
      "PC-3   0.000004       ...                                -0.000025   \n",
      "PC-4   0.000005       ...                                 0.000026   \n",
      "PC-5  -0.000001       ...                                 0.000112   \n",
      "PC-6   0.000022       ...                                 0.000104   \n",
      "PC-7  -0.000013       ...                                 0.000021   \n",
      "PC-8   0.000007       ...                                 0.000082   \n",
      "PC-9  -0.000039       ...                                -0.000012   \n",
      "PC-10 -0.000098       ...                                -0.000477   \n",
      "\n",
      "       alertSubtype_JAM_STAND_STILL_TRAFFIC  alertSubtype_POLICE_HIDING  \\\n",
      "PC-1                              -0.000002                1.463092e-07   \n",
      "PC-2                              -0.000020                1.196895e-06   \n",
      "PC-3                               0.000064               -5.527727e-07   \n",
      "PC-4                               0.000021                9.446390e-06   \n",
      "PC-5                               0.000067                9.611895e-06   \n",
      "PC-6                               0.000072                1.103492e-05   \n",
      "PC-7                               0.000084                4.776700e-05   \n",
      "PC-8                              -0.000258               -6.312968e-05   \n",
      "PC-9                               0.000081                3.641871e-05   \n",
      "PC-10                             -0.000574                3.526936e-05   \n",
      "\n",
      "       alertSubtype_POLICE_VISIBLE  alertType_-  alertType_ACCIDENT  \\\n",
      "PC-1                  1.680481e-06     0.000004       -2.280741e-07   \n",
      "PC-2                  7.820093e-06    -0.000025       -4.312587e-06   \n",
      "PC-3                 -1.688670e-05     0.000045        2.466399e-06   \n",
      "PC-4                  9.134075e-06    -0.000137        5.896198e-06   \n",
      "PC-5                  4.197661e-05    -0.000376        1.934637e-05   \n",
      "PC-6                 -1.150685e-05     0.000172        4.076777e-05   \n",
      "PC-7                 -3.132475e-07    -0.000480       -9.041840e-06   \n",
      "PC-8                  3.397342e-04     0.000020        4.652144e-05   \n",
      "PC-9                 -1.590088e-05    -0.000293        6.197040e-05   \n",
      "PC-10                 2.723265e-04     0.000168        2.131263e-04   \n",
      "\n",
      "       alertType_HAZARD  alertType_JAM  alertType_POLICE  jamBlockType_-  \n",
      "PC-1           0.000003      -0.000015          0.000009            -0.0  \n",
      "PC-2          -0.000009       0.000036          0.000002            -0.0  \n",
      "PC-3          -0.000035       0.000042         -0.000055            -0.0  \n",
      "PC-4          -0.000007       0.000118          0.000019             0.0  \n",
      "PC-5           0.000049       0.000087          0.000221            -0.0  \n",
      "PC-6          -0.000086       0.000532         -0.000658            -0.0  \n",
      "PC-7           0.000038       0.000056          0.000396            -0.0  \n",
      "PC-8          -0.000120      -0.000329          0.000381             0.0  \n",
      "PC-9           0.000200       0.000127         -0.000096             0.0  \n",
      "PC-10          0.000228      -0.001124          0.000514             0.0  \n",
      "\n",
      "[10 rows x 82 columns]\n"
     ]
    }
   ],
   "source": [
    "# Dump components relations with features:\n",
    "# print pd.DataFrame(pca.components_,columns=df_all_data.columns,index = ['PC-1','PC-2','PC-3','PC-4','PC-5','PC-6',\n",
    "#                                                                         'PC-7','PC-8','PC-9','PC-10'])\n"
   ]
  },
  {
   "cell_type": "code",
   "execution_count": null,
   "metadata": {},
   "outputs": [],
   "source": [
    "# Descriptive statistics\n",
    "profile = pandas_profiling.ProfileReport(df_all_data, check_correlation=True, correlation_threshold=0.5)"
   ]
  },
  {
   "cell_type": "code",
   "execution_count": null,
   "metadata": {},
   "outputs": [],
   "source": [
    "profile.to_file(outputfile=path + \"output_after_fe_profile.html\")"
   ]
  },
  {
   "cell_type": "markdown",
   "metadata": {},
   "source": [
    "## Model with all variables"
   ]
  },
  {
   "cell_type": "markdown",
   "metadata": {},
   "source": [
    "For headway prediction"
   ]
  },
  {
   "cell_type": "code",
   "execution_count": null,
   "metadata": {},
   "outputs": [],
   "source": [
    "# y = df_all_data.drop('busBunching', axis=1) # with classifier produce error: asking to convert to float (doesn't make sense, it's a class)\n",
    "y = df_all_data['headway']\n",
    "df_all_data.drop('headway', axis=1, inplace=True)\n",
    "\n",
    "X = df_all_data\n",
    "\n",
    "X_train_all, X_test_all, y_train_all, y_test_all = train_test_split(X, y, test_size=0.5)\n",
    "\n",
    "headway_busBunching_test = X_test_all[['headwayThreshold', 'busBunching']]\n",
    "X_test_all.drop('busBunching', axis=1, inplace=True)\n",
    "X_train_all.drop('busBunching', axis=1, inplace=True)"
   ]
  },
  {
   "cell_type": "markdown",
   "metadata": {},
   "source": [
    "For bus bunching prediction"
   ]
  },
  {
   "cell_type": "code",
   "execution_count": 67,
   "metadata": {},
   "outputs": [],
   "source": [
    "y = df_all_data['busBunching']\n",
    "df_all_data.drop('busBunching', axis=1, inplace=True)\n",
    "#df_all_data.drop('headway', axis=1, inplace=True)\n",
    "\n",
    "X = df_all_data\n",
    "\n",
    "X_train_all, X_test_all, y_train_all, y_test_all = train_test_split(X, y, test_size=0.5)"
   ]
  },
  {
   "cell_type": "code",
   "execution_count": 68,
   "metadata": {},
   "outputs": [],
   "source": [
    "# function to train the model and to calculate the RMSE with cross validation\n",
    "def rmse_cv(model, X_train, y_train):\n",
    "    rmse = np.sqrt(-cross_val_score(model, X_train, y_train, scoring = \"neg_mean_squared_error\", cv = 10))\n",
    "    return(rmse)\n",
    "\n",
    "# function to print the coefficients of the model\n",
    "def print_coefficients(model):\n",
    "    w = list(model.coef_)\n",
    "    # Parameters must be in reverse order because the poly function \n",
    "    w.reverse()\n",
    "    print (np.poly1d(w) + model.intercept_)\n",
    "\n",
    "# function to train the model and to return the score\n",
    "def train_model(model, X_train, y_train, X_test, y_test, print_coef):\n",
    "    start_time = time.time()\n",
    "\n",
    "    model.fit(X_train, y_train)\n",
    "    if (print_coef):\n",
    "        print_coefficients(model)\n",
    "    \n",
    "    score = model.score(X_test, y_test) #how well our model is\n",
    "    y_predict = model.predict(X_test)\n",
    "    execution_time = time.time() - start_time\n",
    "    return score, execution_time, y_predict\n",
    "\n",
    "# function to plot the RMSE vs parameter value\n",
    "def plot_rmse_param(series, param_name):\n",
    "    series.plot(title = \"Validation Error vs \" + param_name)\n",
    "    plt.xlabel(param_name)\n",
    "    plt.ylabel(\"RMSE\")\n",
    "    \n",
    "# function to get the best RMSE and the best parameter value of the model\n",
    "def best_rmse_param(series):\n",
    "    best_rmse = series.min()\n",
    "    best_param = series.idxmin() \n",
    "    \n",
    "    return(best_rmse, best_param)\n",
    "\n",
    "def get_accuracy(y_predicted, y_real, label):\n",
    "    \n",
    "    if label == \"headway\":\n",
    "        y_real['predictedBusBunching'] = y_real['headwayThreshold'].ge(y_predicted, axis=0).astype(np.float64)\n",
    "        accuracy = accuracy_score(y_real['busBunching'], y_real['predictedBusBunching']) #y_true, y_pred\n",
    "    else:\n",
    "        accuracy = accuracy_score(y_real, y_predicted) #y_true, y_pred\n",
    "    \n",
    "    return accuracy\n",
    "\n",
    "def get_fmeasure(y_predicted, y_real, label):\n",
    "    \n",
    "    if label == \"headway\":\n",
    "        y_real['predictedBusBunching'] = y_real['headwayThreshold'].ge(y_predicted, axis=0).astype(np.float64)\n",
    "        fmeasure = f1_score(y_real['busBunching'], y_real['predictedBusBunching']) #y_true, y_pred\n",
    "    else:\n",
    "        fmeasure = f1_score(y_real, y_predicted) #y_true, y_pred\n",
    "                                              \n",
    "    return fmeasure\n",
    "\n",
    "def get_precision(y_predicted, y_real, label):\n",
    "    \n",
    "    if label == \"headway\":\n",
    "        y_real['predictedBusBunching'] = y_real['headwayThreshold'].ge(y_predicted, axis=0).astype(np.float64)\n",
    "        precision = precision_score(y_real['busBunching'], y_real['predictedBusBunching']) #y_true, y_pred\n",
    "    else:\n",
    "        precision = precision_score(y_real, y_predicted) #y_true, y_pred\n",
    "                                              \n",
    "    return precision\n",
    "\n",
    "def get_recall(y_predicted, y_real, label):\n",
    "    \n",
    "    if label == \"headway\":\n",
    "        y_real['predictedBusBunching'] = y_real['headwayThreshold'].ge(y_predicted, axis=0).astype(np.float64)\n",
    "        recall = recall_score(y_real['busBunching'], y_real['predictedBusBunching']) #y_true, y_pred\n",
    "    else:\n",
    "        recall = recall_score(y_real, y_predicted) #y_true, y_pred\n",
    "                                              \n",
    "    return recall"
   ]
  },
  {
   "cell_type": "markdown",
   "metadata": {},
   "source": [
    "#### Modelo RF (Random Forest)\n",
    "\n",
    "Bad quality (better with less variables)\n",
    "\n",
    "Random Forest é um algoritmo que ajusta várias árvores de decisão de classificação em várias subamostras do conjunto de dados e usa a média para melhorar a precisão preditiva e controlar o ajuste excessivo. A quantidade de árvores (n_estimators) é um parâmetro, cujo valor, deve ser encontrado, para que o modelo melhor represente os dados."
   ]
  },
  {
   "cell_type": "code",
   "execution_count": null,
   "metadata": {},
   "outputs": [],
   "source": [
    "n_estimators = [1, 10, 50, 100]\n",
    "cv_rf_rmse = [rmse_cv(RandomForestRegressor(n_estimators = n, n_jobs=8), X_train_all, y_train_all).mean() \n",
    "            for n in n_estimators]\n",
    "\n",
    "series = pd.Series(cv_rf_rmse, index = n_estimators)\n",
    "plot_rmse_param(series, \"n_estimators\")"
   ]
  },
  {
   "cell_type": "code",
   "execution_count": null,
   "metadata": {},
   "outputs": [],
   "source": [
    "best_rmse_rf, best_estimator_rf_all = best_rmse_param(series)"
   ]
  },
  {
   "cell_type": "code",
   "execution_count": null,
   "metadata": {},
   "outputs": [],
   "source": [
    "n_min_samples_split = [2,3,4,5,6,7,8,9,10]\n",
    "cv_rf_rmse = [rmse_cv(RandomForestRegressor(n_estimators = best_estimator_rf_all, min_samples_split = n, n_jobs=8), X_train_all, y_train_all).mean() \n",
    "            for n in n_min_samples_split]\n",
    "\n",
    "series = pd.Series(cv_rf_rmse, index = n_min_samples_split)\n",
    "plot_rmse_param(series, \"n_min_samples_split\")"
   ]
  },
  {
   "cell_type": "code",
   "execution_count": null,
   "metadata": {},
   "outputs": [],
   "source": [
    "best_rmse_rf, best_split_rf = best_rmse_param(series)"
   ]
  },
  {
   "cell_type": "code",
   "execution_count": null,
   "metadata": {
    "scrolled": true
   },
   "outputs": [],
   "source": [
    "# best_rmse_rf, best_param_rf = best_rmse_param(series)\n",
    "\n",
    "model_rf = RandomForestRegressor(n_estimators = best_estimator_rf_all, min_samples_split = best_split_rf, n_jobs=8)\n",
    "score_rf_all, exec_time_all, y_predict_all = train_model(model_rf, X_train_all, y_train_all, X_test_all, y_test_all, \n",
    "                                      False)"
   ]
  },
  {
   "cell_type": "code",
   "execution_count": null,
   "metadata": {},
   "outputs": [],
   "source": [
    "accuracy_rf_all = get_accuracy(y_predict_all, headway_busBunching_test, \"headway\")\n",
    "precision_rf_all = get_precision(y_predict_all, headway_busBunching_test, \"headway\")\n",
    "recall_rf_all = get_recall(y_predict_all, headway_busBunching_test, \"headway\")\n",
    "fmeasure_rf_all = get_fmeasure(y_predict_all, headway_busBunching_test, \"headway\")"
   ]
  },
  {
   "cell_type": "code",
   "execution_count": null,
   "metadata": {},
   "outputs": [],
   "source": [
    "# del variables\n",
    "\n",
    "del df_all_data\n",
    "del cv_rf_rmse\n",
    "del series\n",
    "del model_rf\n",
    "del y\n",
    "del X\n",
    "del X_train_all\n",
    "del X_test_all\n",
    "del y_train_all\n",
    "del y_test_all"
   ]
  },
  {
   "cell_type": "markdown",
   "metadata": {},
   "source": [
    "#### Support Vector Regressor Model\n",
    "It takes to long to execute"
   ]
  },
  {
   "cell_type": "code",
   "execution_count": null,
   "metadata": {},
   "outputs": [],
   "source": [
    "# Support Vector Regressor Model - it takes to long to execute\n",
    "\n",
    "# cs = [0.01, 1, 5, 10, 25, 50]\n",
    "# cv_svr_rmse = [rmse_cv(SVR(C = c), X_train_all, y_train_all).mean() \n",
    "#             for c in cs]\n",
    "\n",
    "# series_svr = pd.Series(cv_svr_rmse, index = cs)\n",
    "# plot_rmse_param(series_svr, \"C\")"
   ]
  },
  {
   "cell_type": "code",
   "execution_count": null,
   "metadata": {},
   "outputs": [],
   "source": [
    "# best_rmse_svr_all, best_param_svr_all = best_rmse_param(series_svr)\n",
    "\n",
    "# model_svr_all = SVR(C = best_rmse_svr_all)\n",
    "# score_svr_all, exec_time_svr_all = train_model(model_svr_all, False)"
   ]
  },
  {
   "cell_type": "markdown",
   "metadata": {},
   "source": [
    "### Logistic Regression Model\n",
    "Good quality (better with more variables)"
   ]
  },
  {
   "cell_type": "code",
   "execution_count": null,
   "metadata": {},
   "outputs": [],
   "source": [
    "stop_criteria = [0.1, 0.01, 0.001, 0.0001]\n",
    "cv_lr_rmse = [rmse_cv(LogisticRegression(tol = t, n_jobs=8), X_train_all, y_train_all).mean() \n",
    "            for t in stop_criteria]\n",
    "\n",
    "series = pd.Series(cv_lr_rmse, index = stop_criteria)\n",
    "plot_rmse_param(series, \"stop_criteria\")"
   ]
  },
  {
   "cell_type": "code",
   "execution_count": null,
   "metadata": {},
   "outputs": [],
   "source": [
    "best_rmse_lr_all, best_stop_lr_all = best_rmse_param(series)"
   ]
  },
  {
   "cell_type": "code",
   "execution_count": null,
   "metadata": {},
   "outputs": [],
   "source": [
    "cs = [0.1, 0.3, 0.5, 0.7, 0.9, 1.0]\n",
    "cv_lr_rmse = [rmse_cv(LogisticRegression(tol = best_stop_lr_all, C = c, n_jobs=8), X_train_all, y_train_all).mean() \n",
    "            for c in cs]\n",
    "\n",
    "series = pd.Series(cv_lr_rmse, index = cs)\n",
    "plot_rmse_param(series, \"cs\")"
   ]
  },
  {
   "cell_type": "code",
   "execution_count": null,
   "metadata": {},
   "outputs": [],
   "source": [
    "best_rmse_lr_all, best_c_lr_all = best_rmse_param(series)"
   ]
  },
  {
   "cell_type": "code",
   "execution_count": null,
   "metadata": {},
   "outputs": [],
   "source": [
    "model_lr = LogisticRegression(tol = best_stop_lr_all, C = best_c_lr_all, n_jobs=8)\n",
    "score_lr_all, exec_time_lr_all, y_predict_lr_all = train_model(model_lr, X_train_all, y_train_all, X_test_all, y_test_all, \n",
    "                                      False)"
   ]
  },
  {
   "cell_type": "code",
   "execution_count": null,
   "metadata": {},
   "outputs": [],
   "source": [
    "accuracy_lr_all = get_accuracy(y_predict_lr_all, y_test_all, \"busBunching\")\n",
    "precision_lr_all = get_precision(y_predict_lr_all, y_test_all, \"busBunching\")\n",
    "recall_lr_all = get_recall(y_predict_lr_all, y_test_all, \"busBunching\")\n",
    "fmeasure_lr_all = get_fmeasure(y_predict_lr_all, y_test_all, \"busBunching\")"
   ]
  },
  {
   "cell_type": "markdown",
   "metadata": {},
   "source": [
    "### Lasso Model"
   ]
  },
  {
   "cell_type": "code",
   "execution_count": 69,
   "metadata": {},
   "outputs": [
    {
     "data": {
      "image/png": "[encoded data removed]",
      "text/plain": [
       "<Figure size 432x288 with 1 Axes>"
      ]
     },
     "metadata": {},
     "output_type": "display_data"
    }
   ],
   "source": [
    "alphas = [0.1, 0.01, 0.001, 0.0001]\n",
    "cv_lasso_rmse = [rmse_cv(Lasso(alpha = alpha, max_iter = 10000), X_train_all, y_train_all).mean() \n",
    "            for alpha in alphas]\n",
    "\n",
    "series = pd.Series(cv_lasso_rmse, index = alphas)\n",
    "plot_rmse_param(series, \"alphas\")"
   ]
  },
  {
   "cell_type": "code",
   "execution_count": 70,
   "metadata": {},
   "outputs": [],
   "source": [
    "best_rmse_lasso, best_alpha_lasso = best_rmse_param(series)"
   ]
  },
  {
   "cell_type": "code",
   "execution_count": 71,
   "metadata": {},
   "outputs": [],
   "source": [
    "model_lasso = Lasso(alpha = best_alpha_lasso, max_iter = 10000)\n",
    "score_lasso_all, exec_time_lasso_all, y_predict_lasso_all = train_model(model_lasso, X_train_all, y_train_all, \n",
    "                                                                        X_test_all, y_test_all, False)"
   ]
  },
  {
   "cell_type": "code",
   "execution_count": 72,
   "metadata": {},
   "outputs": [
    {
     "ename": "ValueError",
     "evalue": "Classification metrics can't handle a mix of binary and continuous targets",
     "output_type": "error",
     "traceback": [
      "\u001b[0;31m---------------------------------------------------------------------------\u001b[0m",
      "\u001b[0;31mValueError\u001b[0m                                Traceback (most recent call last)",
      "\u001b[0;32m<ipython-input-72-de955f9f3288>\u001b[0m in \u001b[0;36m<module>\u001b[0;34m()\u001b[0m\n\u001b[0;32m----> 1\u001b[0;31m \u001b[0maccuracy_lasso_all\u001b[0m \u001b[0;34m=\u001b[0m \u001b[0mget_accuracy\u001b[0m\u001b[0;34m(\u001b[0m\u001b[0my_predict_lasso_all\u001b[0m\u001b[0;34m,\u001b[0m \u001b[0my_test_all\u001b[0m\u001b[0;34m,\u001b[0m \u001b[0;34m\"busBunching\"\u001b[0m\u001b[0;34m)\u001b[0m\u001b[0;34m\u001b[0m\u001b[0m\n\u001b[0m\u001b[1;32m      2\u001b[0m \u001b[0mprecision_lasso_all\u001b[0m \u001b[0;34m=\u001b[0m \u001b[0mget_precision\u001b[0m\u001b[0;34m(\u001b[0m\u001b[0my_predict_lasso_all\u001b[0m\u001b[0;34m,\u001b[0m \u001b[0my_test_all\u001b[0m\u001b[0;34m,\u001b[0m \u001b[0;34m\"busBunching\"\u001b[0m\u001b[0;34m)\u001b[0m\u001b[0;34m\u001b[0m\u001b[0m\n\u001b[1;32m      3\u001b[0m \u001b[0mrecall_lasso_all\u001b[0m \u001b[0;34m=\u001b[0m \u001b[0mget_recall\u001b[0m\u001b[0;34m(\u001b[0m\u001b[0my_predict_lasso_all\u001b[0m\u001b[0;34m,\u001b[0m \u001b[0my_test_all\u001b[0m\u001b[0;34m,\u001b[0m \u001b[0;34m\"busBunching\"\u001b[0m\u001b[0;34m)\u001b[0m\u001b[0;34m\u001b[0m\u001b[0m\n\u001b[1;32m      4\u001b[0m \u001b[0mfmeasure_lasso_all\u001b[0m \u001b[0;34m=\u001b[0m \u001b[0mget_fmeasure\u001b[0m\u001b[0;34m(\u001b[0m\u001b[0my_predict_lasso_all\u001b[0m\u001b[0;34m,\u001b[0m \u001b[0my_test_all\u001b[0m\u001b[0;34m,\u001b[0m \u001b[0;34m\"busBunching\"\u001b[0m\u001b[0;34m)\u001b[0m\u001b[0;34m\u001b[0m\u001b[0m\n",
      "\u001b[0;32m<ipython-input-68-863499e6ab57>\u001b[0m in \u001b[0;36mget_accuracy\u001b[0;34m(y_predicted, y_real, label)\u001b[0m\n\u001b[1;32m     43\u001b[0m         \u001b[0maccuracy\u001b[0m \u001b[0;34m=\u001b[0m \u001b[0maccuracy_score\u001b[0m\u001b[0;34m(\u001b[0m\u001b[0my_real\u001b[0m\u001b[0;34m[\u001b[0m\u001b[0;34m'busBunching'\u001b[0m\u001b[0;34m]\u001b[0m\u001b[0;34m,\u001b[0m \u001b[0my_real\u001b[0m\u001b[0;34m[\u001b[0m\u001b[0;34m'predictedBusBunching'\u001b[0m\u001b[0;34m]\u001b[0m\u001b[0;34m)\u001b[0m \u001b[0;31m#y_true, y_pred\u001b[0m\u001b[0;34m\u001b[0m\u001b[0m\n\u001b[1;32m     44\u001b[0m     \u001b[0;32melse\u001b[0m\u001b[0;34m:\u001b[0m\u001b[0;34m\u001b[0m\u001b[0m\n\u001b[0;32m---> 45\u001b[0;31m         \u001b[0maccuracy\u001b[0m \u001b[0;34m=\u001b[0m \u001b[0maccuracy_score\u001b[0m\u001b[0;34m(\u001b[0m\u001b[0my_real\u001b[0m\u001b[0;34m,\u001b[0m \u001b[0my_predicted\u001b[0m\u001b[0;34m)\u001b[0m \u001b[0;31m#y_true, y_pred\u001b[0m\u001b[0;34m\u001b[0m\u001b[0m\n\u001b[0m\u001b[1;32m     46\u001b[0m \u001b[0;34m\u001b[0m\u001b[0m\n\u001b[1;32m     47\u001b[0m     \u001b[0;32mreturn\u001b[0m \u001b[0maccuracy\u001b[0m\u001b[0;34m\u001b[0m\u001b[0m\n",
      "\u001b[0;32m/home/veruska/anaconda2/lib/python2.7/site-packages/sklearn/metrics/classification.pyc\u001b[0m in \u001b[0;36maccuracy_score\u001b[0;34m(y_true, y_pred, normalize, sample_weight)\u001b[0m\n\u001b[1;32m    174\u001b[0m \u001b[0;34m\u001b[0m\u001b[0m\n\u001b[1;32m    175\u001b[0m     \u001b[0;31m# Compute accuracy for each possible representation\u001b[0m\u001b[0;34m\u001b[0m\u001b[0;34m\u001b[0m\u001b[0m\n\u001b[0;32m--> 176\u001b[0;31m     \u001b[0my_type\u001b[0m\u001b[0;34m,\u001b[0m \u001b[0my_true\u001b[0m\u001b[0;34m,\u001b[0m \u001b[0my_pred\u001b[0m \u001b[0;34m=\u001b[0m \u001b[0m_check_targets\u001b[0m\u001b[0;34m(\u001b[0m\u001b[0my_true\u001b[0m\u001b[0;34m,\u001b[0m \u001b[0my_pred\u001b[0m\u001b[0;34m)\u001b[0m\u001b[0;34m\u001b[0m\u001b[0m\n\u001b[0m\u001b[1;32m    177\u001b[0m     \u001b[0mcheck_consistent_length\u001b[0m\u001b[0;34m(\u001b[0m\u001b[0my_true\u001b[0m\u001b[0;34m,\u001b[0m \u001b[0my_pred\u001b[0m\u001b[0;34m,\u001b[0m \u001b[0msample_weight\u001b[0m\u001b[0;34m)\u001b[0m\u001b[0;34m\u001b[0m\u001b[0m\n\u001b[1;32m    178\u001b[0m     \u001b[0;32mif\u001b[0m \u001b[0my_type\u001b[0m\u001b[0;34m.\u001b[0m\u001b[0mstartswith\u001b[0m\u001b[0;34m(\u001b[0m\u001b[0;34m'multilabel'\u001b[0m\u001b[0;34m)\u001b[0m\u001b[0;34m:\u001b[0m\u001b[0;34m\u001b[0m\u001b[0m\n",
      "\u001b[0;32m/home/veruska/anaconda2/lib/python2.7/site-packages/sklearn/metrics/classification.pyc\u001b[0m in \u001b[0;36m_check_targets\u001b[0;34m(y_true, y_pred)\u001b[0m\n\u001b[1;32m     79\u001b[0m     \u001b[0;32mif\u001b[0m \u001b[0mlen\u001b[0m\u001b[0;34m(\u001b[0m\u001b[0my_type\u001b[0m\u001b[0;34m)\u001b[0m \u001b[0;34m>\u001b[0m \u001b[0;36m1\u001b[0m\u001b[0;34m:\u001b[0m\u001b[0;34m\u001b[0m\u001b[0m\n\u001b[1;32m     80\u001b[0m         raise ValueError(\"Classification metrics can't handle a mix of {0} \"\n\u001b[0;32m---> 81\u001b[0;31m                          \"and {1} targets\".format(type_true, type_pred))\n\u001b[0m\u001b[1;32m     82\u001b[0m \u001b[0;34m\u001b[0m\u001b[0m\n\u001b[1;32m     83\u001b[0m     \u001b[0;31m# We can't have more than one value on y_type => The set is no more needed\u001b[0m\u001b[0;34m\u001b[0m\u001b[0;34m\u001b[0m\u001b[0m\n",
      "\u001b[0;31mValueError\u001b[0m: Classification metrics can't handle a mix of binary and continuous targets"
     ]
    }
   ],
   "source": [
    "accuracy_lasso_all = get_accuracy(y_predict_lasso_all, y_test_all, \"busBunching\")\n",
    "precision_lasso_all = get_precision(y_predict_lasso_all, y_test_all, \"busBunching\")\n",
    "recall_lasso_all = get_recall(y_predict_lasso_all, y_test_all, \"busBunching\")\n",
    "fmeasure_lasso_all = get_fmeasure(y_predict_lasso_all, y_test_all, \"busBunching\")"
   ]
  },
  {
   "cell_type": "code",
   "execution_count": 73,
   "metadata": {},
   "outputs": [
    {
     "name": "stdout",
     "output_type": "stream",
     "text": [
      "Lasso choose 11 variables and remove others 71 variables.\n"
     ]
    }
   ],
   "source": [
    "coef = pd.Series(model_lasso.coef_, index = X_train_all.columns)\n",
    "print(\"Lasso choose \" + str(sum(coef != 0)) + \" variables and remove others \" + str(sum(coef == 0)) + \" variables.\")"
   ]
  },
  {
   "cell_type": "markdown",
   "metadata": {},
   "source": [
    "## Model with less (13) variables"
   ]
  },
  {
   "cell_type": "markdown",
   "metadata": {},
   "source": [
    "- Todas as variáveis de dia, mês e ano - data do gps é suficiente\n",
    "- alertInScale - alertIsJamUnifiedAlert é suficiente\n",
    "- alertLat e alertLon - localização do gps é suficiente\n",
    "- alertNThumbsUp e alertReliability - alertConfidence é suficiente\n",
    "- jamDelay e jamLenght - jamSeverity é suficiente"
   ]
  },
  {
   "cell_type": "code",
   "execution_count": null,
   "metadata": {},
   "outputs": [],
   "source": [
    "df_selected_data.drop(['DAY(alertDateTime)', 'DAY(jamUpdateDateTime)', 'MONTH(alertDateTime)', \n",
    "                        'MONTH(jamUpdateDateTime)', 'YEAR(alertDateTime)', 'YEAR(jamUpdateDateTime)',\n",
    "                       'alertInScale', 'alertLatitude', 'alertLongitude', 'alertNThumbsUp',\n",
    "                       'alertReliability', 'jamDelay', 'jamLength'], axis=1, inplace=True)"
   ]
  },
  {
   "cell_type": "markdown",
   "metadata": {},
   "source": [
    "Test with 50% of the variables."
   ]
  },
  {
   "cell_type": "raw",
   "metadata": {},
   "source": [
    "shapeId routeFrequency shapeSequence shapeLat shapeLon busCode gps_datetime stopPointId precipitation precipitationTime alertDateTime alertSubType alertConfidence alertDistanceToClosestShapePoint jamUpdateDateTime jamDelay jamLength jamLevel jamSeverity jamDistanceToClosestShapePoint headway headwayThreshold nextBusCode GPShour"
   ]
  },
  {
   "cell_type": "code",
   "execution_count": null,
   "metadata": {},
   "outputs": [],
   "source": [
    "#df_selected_data.drop(['route', 'tripNum', 'distanceTraveledShape', 'gpsPointId', 'gpsLat', 'gpsLon', \n",
    "#                       'distanceToShapePoint', 'problem', 'alertType', 'alertRoadType', 'alertNComments', \n",
    "#                       'alertNImages', 'alertNThumbsUp', 'alertReliability', 'alertReportMood', 'alertReportRating', \n",
    "#                       'alertSpeed', 'alertLatitude', 'alertLongitude', 'alertIsJamUnifiedAlert', 'alertInScale', \n",
    "#                       'jamBlockType', 'jamSpeedKM'], axis=1, inplace=True)"
   ]
  },
  {
   "cell_type": "code",
   "execution_count": null,
   "metadata": {},
   "outputs": [],
   "source": [
    "df_selected_data.head()"
   ]
  },
  {
   "cell_type": "markdown",
   "metadata": {},
   "source": [
    "Test with 25% of the variables."
   ]
  },
  {
   "cell_type": "raw",
   "metadata": {},
   "source": [
    "routeFrequency shapeLat shapeLon busCode gps_datetime precipitation alertSubType alertConfidence jamSeverity headway nextBusCode GPShour"
   ]
  },
  {
   "cell_type": "code",
   "execution_count": null,
   "metadata": {},
   "outputs": [],
   "source": [
    "# df_selected_data.drop(['route','tripNum','shapeId','shapeSequence','distanceTraveledShape','gpsPointId','gpsLat',\n",
    "#                        'gpsLon','distanceToShapePoint','gps_datetime','stopPointId','problem','precipitationTime',\n",
    "#                        'alertDateTime','alertType','alertRoadType','alertNComments','alertNImages','alertNThumbsUp',\n",
    "#                        'alertReliability','alertReportMood','alertReportRating','alertSpeed','alertLatitude',\n",
    "#                        'alertLongitude','alertDistanceToClosestShapePoint','alertIsJamUnifiedAlert','alertInScale',\n",
    "#                        'jamUpdateDateTime','jamExpirationDateTime','jamBlockType','jamDelay','jamLength','jamLevel',\n",
    "#                        'jamSpeedKM','jamDistanceToClosestShapePoint','headwayThreshold'], axis=1, inplace=True)"
   ]
  },
  {
   "cell_type": "code",
   "execution_count": null,
   "metadata": {},
   "outputs": [],
   "source": [
    "df_selected_data"
   ]
  },
  {
   "cell_type": "code",
   "execution_count": null,
   "metadata": {},
   "outputs": [],
   "source": [
    "# changing by shape data\n",
    "\n",
    "df_selected_data.gpsPointId = np.where(df_selected_data.gpsPointId.isnull(), 0, \n",
    "                                       df_selected_data.gpsPointId)\n",
    "df_selected_data.gpsLat = np.where(df_selected_data.gpsLat.isnull(), df_selected_data.shapeLat,\n",
    "                                   df_selected_data.gpsLat)\n",
    "df_selected_data.gpsLon = np.where(df_selected_data.gpsLon.isnull(), df_selected_data.shapeLon, \n",
    "                                   df_selected_data.gpsLon)\n",
    "df_selected_data.distanceToShapePoint = np.where(df_selected_data.distanceToShapePoint.isnull(), \n",
    "                                            0, df_selected_data.distanceToShapePoint)\n"
   ]
  },
  {
   "cell_type": "code",
   "execution_count": null,
   "metadata": {},
   "outputs": [],
   "source": [
    "#grouping by weekday and filling NA's with the median of the column\n",
    "numeric_feats = df_selected_data.dtypes[(df_selected_data.dtypes != \"object\") & \n",
    "                                        (df_selected_data.dtypes != \"datetime64[ns]\")\n",
    "                               & (df_selected_data.dtypes != \"bool\")].index\n",
    "df_selected_data[numeric_feats] = df_selected_data.groupby(['WEEKDAY(gps_datetime)'])[numeric_feats].transform(lambda x: x.fillna(x.median()))"
   ]
  },
  {
   "cell_type": "code",
   "execution_count": null,
   "metadata": {},
   "outputs": [],
   "source": [
    "# Converting bool to float\n",
    "df_selected_data.alertIsJamUnifiedAlert = df_selected_data.alertIsJamUnifiedAlert.astype(np.float64)\n",
    "df_selected_data.busBunching = df_selected_data.busBunching.astype(np.float64)"
   ]
  },
  {
   "cell_type": "code",
   "execution_count": null,
   "metadata": {},
   "outputs": [],
   "source": [
    "# Converting categorical variable\n",
    "\n",
    "df_selected_data = pd.get_dummies(df_selected_data)"
   ]
  },
  {
   "cell_type": "markdown",
   "metadata": {},
   "source": [
    "For headway prediction"
   ]
  },
  {
   "cell_type": "code",
   "execution_count": null,
   "metadata": {},
   "outputs": [],
   "source": [
    "# y = df_all_data.drop('busBunching', axis=1) # with classifier produce error\n",
    "y_sel = df_selected_data['headway']\n",
    "df_selected_data.drop('headway', axis=1, inplace=True)\n",
    "\n",
    "X_sel = df_selected_data\n",
    "\n",
    "X_train_sel, X_test_sel, y_train_sel, y_test_sel = train_test_split(X_sel, y_sel, test_size=0.5)\n",
    "\n",
    "headway_busBunching_test_sel = X_test_sel[['headwayThreshold', 'busBunching']]\n",
    "X_test_sel.drop('busBunching', axis=1, inplace=True)\n",
    "X_train_sel.drop('busBunching', axis=1, inplace=True)"
   ]
  },
  {
   "cell_type": "markdown",
   "metadata": {},
   "source": [
    "For bus bunching prediction"
   ]
  },
  {
   "cell_type": "code",
   "execution_count": null,
   "metadata": {},
   "outputs": [],
   "source": [
    "y_sel = df_selected_data['busBunching']\n",
    "df_selected_data.drop('busBunching', axis=1, inplace=True)\n",
    "#df_all_data.drop('headway', axis=1, inplace=True)\n",
    "\n",
    "X_sel = df_selected_data\n",
    "\n",
    "X_train_sel, X_test_sel, y_train_sel, y_test_sel = train_test_split(X_sel, y_sel, test_size=0.5)"
   ]
  },
  {
   "cell_type": "markdown",
   "metadata": {},
   "source": [
    "Random Forest Model"
   ]
  },
  {
   "cell_type": "code",
   "execution_count": null,
   "metadata": {},
   "outputs": [],
   "source": [
    "# best_rmse_rf_sel, best_param_rf_sel = best_rmse_param(series)\n",
    "\n",
    "model_rf_sel = RandomForestRegressor(n_estimators = best_estimator_rf_all,  min_samples_split = best_split_rf, n_jobs=8)\n",
    "score_rf_sel, exec_time_sel, y_predict_sel = train_model(model_rf_sel, X_train_sel, y_train_sel, X_test_sel, y_test_sel, False)"
   ]
  },
  {
   "cell_type": "code",
   "execution_count": null,
   "metadata": {},
   "outputs": [],
   "source": [
    "accuracy_rf_sel = get_accuracy(y_predict_sel, headway_busBunching_test_sel, \"headway\")\n",
    "precision_rf_sel = get_precision(y_predict_sel, headway_busBunching_test_sel \"headway\")\n",
    "recall_rf_sel = get_recall(y_predict_sel, headway_busBunching_test_sel \"headway\")\n",
    "fmeasure_rf_sel = get_fmeasure(y_predict_sel, headway_busBunching_test_sel \"headway\")"
   ]
  },
  {
   "cell_type": "code",
   "execution_count": null,
   "metadata": {},
   "outputs": [],
   "source": [
    "# cs = [0.01, 1, 5, 10, 25, 50]\n",
    "# cv_svr_rmse = [rmse_cv(SVR(C = c), X_train_sel, y_train_sel).mean() \n",
    "#             for c in cs]\n",
    "\n",
    "# series_svr = pd.Series(cv_svr_rmse, index = cs)\n",
    "# plot_rmse_param(series_svr, \"C\")"
   ]
  },
  {
   "cell_type": "code",
   "execution_count": null,
   "metadata": {},
   "outputs": [],
   "source": [
    "# best_rmse_svr_sel, best_param_svr_sel = best_rmse_param(series_svr)\n",
    "\n",
    "# model_svr_sel = SVR(C = best_param_svr_sel)\n",
    "# score_svr_sel, exec_time_sel_svr = train_model(model_svr_sel, False)"
   ]
  },
  {
   "cell_type": "markdown",
   "metadata": {},
   "source": [
    "#### Logistic Regression Model"
   ]
  },
  {
   "cell_type": "code",
   "execution_count": null,
   "metadata": {},
   "outputs": [],
   "source": [
    "model_lr_sel = LogisticRegression(tol = best_stop_lr_all, C = best_c_lr_all, n_jobs=8)\n",
    "score_lr_sel, exec_time_lr_sel, y_predict_lr_sel = train_model(model_lr_sel, X_train_sel, y_train_sel,\n",
    "                                                               X_test_sel, y_test_sel, False)"
   ]
  },
  {
   "cell_type": "code",
   "execution_count": null,
   "metadata": {},
   "outputs": [],
   "source": [
    "accuracy_lr_sel = get_accuracy(y_predict_lr_sel, y_test_sel, \"busBunching\")\n",
    "precision_lr_sel = get_precision(y_predict_lr_sel, y_test_sel, \"busBunching\")\n",
    "recall_lr_sel = get_recall(y_predict_lr_sel, y_test_sel, \"busBunching\")\n",
    "fmeasure_lr_sel = get_fmeasure(y_predict_lr_sel, y_test_sel, \"busBunching\")"
   ]
  },
  {
   "cell_type": "markdown",
   "metadata": {},
   "source": [
    "## Results"
   ]
  },
  {
   "cell_type": "markdown",
   "metadata": {},
   "source": [
    "Execution just with Random Forest because is more efficient with good accuracy."
   ]
  },
  {
   "cell_type": "code",
   "execution_count": null,
   "metadata": {},
   "outputs": [],
   "source": [
    "print(\"Data: %s rows\" % rows_number)\n",
    "print(\"Random Forest Model - All Variables: \\nEstimators = %s \\nN_Split = %s \\nAccuracy = %s \\nPrecision = %s \\nRecall = %s \\nF-Measure = %s \\nR2 = %s \\nExecution time = %s \\n\" % \n",
    "      (best_estimator_rf_all, best_split_rf, accuracy_rf_all, precision_rf_all, recall_rf_all, fmeasure_rf_all, score_rf_all, exec_time_all))\n",
    "print(\"Random Forest Model - Less Variables: \\nEstimators = %s \\nN_Split = %s \\nAccuracy = %s \\nPrecision = %s \\nRecall = %s \\nF-Measure = %s \\nR2 = %s \\nExecution time = %s \\n\" % \n",
    "      (best_estimator_rf_all, best_split_rf, accuracy_rf_sel, precision_rf_sel, recall_rf_sel, fmeasure_rf_sel, score_rf_sel, exec_time_sel))\n",
    "\n",
    "# print(\"SVR Model - All Variables: \\nEstimators = %s \\nRMSE = %s \\nR2 = %s \\nExecution time = %s \\n\" % \n",
    "#       (best_param_svr, best_rmse_svr, score_svr, exec_time_svr_all))\n",
    "# print(\"SVR Model - Less Variables: \\nEstimators = %s \\nRMSE = %s \\nR2 = %s \\nExecution time = %s \\n\" % \n",
    "#       (best_param_svr_sel, best_rmse_svr_sel, score_svr_sel, exec_time_svr_sel))\n"
   ]
  },
  {
   "cell_type": "code",
   "execution_count": null,
   "metadata": {},
   "outputs": [],
   "source": [
    "def plot_results(df_results, name):\n",
    "    fig, ax = plt.subplots(figsize=(7,5))\n",
    "    results_plot = df_results.plot.bar(x = \"Input\", logy=True, grid=True, colormap=\"tab20b\", ax=ax, rot=0)\n",
    "    plt.xlabel(\"\")\n",
    "    \n",
    "    results_plot.get_figure().savefig(path + name)"
   ]
  },
  {
   "cell_type": "markdown",
   "metadata": {},
   "source": [
    "Random Forest"
   ]
  },
  {
   "cell_type": "code",
   "execution_count": null,
   "metadata": {
    "scrolled": true
   },
   "outputs": [],
   "source": [
    "labels = [\"Input\",\"Accuracy\",\"Precision\",\"Recall\",\"F-Measure\",\"R2\",\"Execution Time (Min)\"]\n",
    "results = []\n",
    "results.append([\"RF - All variables\", accuracy_rf_all, precision_rf_all, recall_rf_all, fmeasure_rf_all, score_rf_all, (exec_time_all/60)])\n",
    "results.append([\"RF - Selected variables\", accuracy_rf_sel, precision_rf_sel, recall_rf_sel, fmeasure_rf_sel, score_rf_sel, (exec_time_sel/60)])\n",
    "\n",
    "df_results = pd.DataFrame.from_records(results, columns=labels)\n",
    "print(df_results)\n",
    "\n",
    "plot_results(df_results, \"results_comparison_rf.png\")"
   ]
  },
  {
   "cell_type": "code",
   "execution_count": null,
   "metadata": {},
   "outputs": [],
   "source": [
    "df_results"
   ]
  },
  {
   "cell_type": "markdown",
   "metadata": {},
   "source": [
    "Logistic Regression"
   ]
  },
  {
   "cell_type": "code",
   "execution_count": null,
   "metadata": {
    "scrolled": true
   },
   "outputs": [],
   "source": [
    "labels = [\"Input\",\"Accuracy\",\"Precision\",\"Recall\",\"F-Measure\",\"R2\",\"Execution Time (Min)\"]\n",
    "results = []\n",
    "results.append([\"LR - All variables\", accuracy_lr_all, precision_lr_all, recall_lr_all, fmeasure_lr_all, score_lr_all, (exec_time_lr_all/60)])\n",
    "results.append([\"LR - Selected variables\", accuracy_lr_sel, precision_lr_sel, recall_lr_sel, fmeasure_lr_sel, score_lr_sel, (exec_time_lr_sel/60)])\n",
    "\n",
    "df_results_lr = pd.DataFrame.from_records(results, columns=labels)\n",
    "print(df_results_lr)\n",
    "\n",
    "plot_results(df_results_lr, \"results_comparison_lr_1000000.png\")"
   ]
  },
  {
   "cell_type": "code",
   "execution_count": null,
   "metadata": {},
   "outputs": [],
   "source": [
    "df_results_lr"
   ]
  },
  {
   "cell_type": "markdown",
   "metadata": {},
   "source": [
    "Why is logistic regression better than random forest? In this method we represented our data with a huge amount of features. Having many features we need a very simple classifier in order to not overfit the data. Logistic regression is way more simple than random forest. Moreover, the sparsity of the data makes it very hard for the random forest to find good splits that will help in separating the classes."
   ]
  }
 ],
 "metadata": {
  "kernelspec": {
   "display_name": "Python 2",
   "language": "python",
   "name": "python2"
  },
  "language_info": {
   "codemirror_mode": {
    "name": "ipython",
    "version": 2
   },
   "file_extension": ".py",
   "mimetype": "text/x-python",
   "name": "python",
   "nbconvert_exporter": "python",
   "pygments_lexer": "ipython2",
   "version": "2.7.15"
  }
 },
 "nbformat": 4,
 "nbformat_minor": 2
}
