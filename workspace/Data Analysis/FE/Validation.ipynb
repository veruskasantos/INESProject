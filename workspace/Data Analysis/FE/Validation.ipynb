{
 "cells": [
  {
   "cell_type": "markdown",
   "metadata": {},
   "source": [
    "# Validation\n",
    "### Checking the relevance of Feature Engineering and correlation to remove unecessary variables and improve the accuracy\n",
    "\n",
    "The aim is to create a model to predict next headway with:\n",
    "* all variables\n",
    "* selected variables"
   ]
  },
  {
   "cell_type": "code",
   "execution_count": 1,
   "metadata": {},
   "outputs": [],
   "source": [
    "import pandas as pd\n",
    "#import pandas_profiling\n",
    "import numpy as np\n",
    "import os\n",
    "from sklearn.model_selection import cross_val_score, train_test_split\n",
    "from sklearn.ensemble import RandomForestRegressor\n",
    "from sklearn.ensemble import RandomForestClassifier\n",
    "from sklearn.linear_model import LogisticRegression\n",
    "from sklearn.svm import SVR\n",
    "from sklearn.metrics import mean_squared_error\n",
    "from sklearn.metrics import accuracy_score\n",
    "from sklearn.metrics import f1_score\n",
    "from sklearn.metrics import precision_score\n",
    "from sklearn.metrics import recall_score\n",
    "from matplotlib import pyplot as plt\n",
    "import time"
   ]
  },
  {
   "cell_type": "code",
   "execution_count": 2,
   "metadata": {},
   "outputs": [],
   "source": [
    "# Choose the city of analysis\n",
    "\n",
    "city = 'Recife'\n",
    "# city = 'CG'\n",
    "# city = 'Curitiba'"
   ]
  },
  {
   "cell_type": "code",
   "execution_count": 3,
   "metadata": {},
   "outputs": [],
   "source": [
    "path = os.getcwd() + \"/../data/output/\" + city + \"/\"\n",
    "\n",
    "# All variables\n",
    "all_data = \"new_feats_data.csv\"\n",
    "integrated_data_path = path + all_data"
   ]
  },
  {
   "cell_type": "code",
   "execution_count": 4,
   "metadata": {},
   "outputs": [],
   "source": [
    "# Reading data\n",
    "\n",
    "df_all_data = pd.read_csv(integrated_data_path)"
   ]
  },
  {
   "cell_type": "code",
   "execution_count": 5,
   "metadata": {},
   "outputs": [],
   "source": [
    "df_selected_data = pd.read_csv(integrated_data_path)"
   ]
  },
  {
   "cell_type": "code",
   "execution_count": 6,
   "metadata": {},
   "outputs": [],
   "source": [
    "rows_number = 1000000 #len(df_all_data) #100000"
   ]
  },
  {
   "cell_type": "code",
   "execution_count": 7,
   "metadata": {},
   "outputs": [],
   "source": [
    "df_all_data = df_all_data.loc[0:rows_number]\n",
    "df_selected_data = df_selected_data.loc[0:rows_number]"
   ]
  },
  {
   "cell_type": "markdown",
   "metadata": {},
   "source": [
    "### Converting NaN values\n",
    "\n",
    "Changing NaN by median or:\n",
    "- values of shape for gps"
   ]
  },
  {
   "cell_type": "code",
   "execution_count": null,
   "metadata": {},
   "outputs": [],
   "source": [
    "df_all_data.isnull().any()"
   ]
  },
  {
   "cell_type": "code",
   "execution_count": 8,
   "metadata": {},
   "outputs": [],
   "source": [
    "# changing by shape data\n",
    "df_all_data.gpsPointId = np.where(df_all_data.gpsPointId.isnull(), 0, df_all_data.gpsPointId)\n",
    "df_all_data.gpsLat = np.where(df_all_data.gpsLat.isnull(), df_all_data.shapeLat, df_all_data.gpsLat)\n",
    "df_all_data.gpsLon = np.where(df_all_data.gpsLon.isnull(), df_all_data.shapeLon, df_all_data.gpsLon)\n",
    "df_all_data.distanceToShapePoint = np.where(df_all_data.distanceToShapePoint.isnull(), \n",
    "                                            0, df_all_data.distanceToShapePoint)\n"
   ]
  },
  {
   "cell_type": "code",
   "execution_count": 9,
   "metadata": {},
   "outputs": [
    {
     "data": {
      "text/html": [
       "<div>\n",
       "<style scoped>\n",
       "    .dataframe tbody tr th:only-of-type {\n",
       "        vertical-align: middle;\n",
       "    }\n",
       "\n",
       "    .dataframe tbody tr th {\n",
       "        vertical-align: top;\n",
       "    }\n",
       "\n",
       "    .dataframe thead th {\n",
       "        text-align: right;\n",
       "    }\n",
       "</style>\n",
       "<table border=\"1\" class=\"dataframe\">\n",
       "  <thead>\n",
       "    <tr style=\"text-align: right;\">\n",
       "      <th></th>\n",
       "      <th>route</th>\n",
       "      <th>tripNum</th>\n",
       "      <th>shapeId</th>\n",
       "      <th>routeFrequency</th>\n",
       "      <th>shapeSequence</th>\n",
       "      <th>shapeLat</th>\n",
       "      <th>shapeLon</th>\n",
       "      <th>distanceTraveledShape</th>\n",
       "      <th>busCode</th>\n",
       "      <th>gpsPointId</th>\n",
       "      <th>...</th>\n",
       "      <th>YEAR(alertDateTime)</th>\n",
       "      <th>YEAR(jamUpdateDateTime)</th>\n",
       "      <th>MONTH(gps_datetime)</th>\n",
       "      <th>MONTH(precipitationTime)</th>\n",
       "      <th>MONTH(alertDateTime)</th>\n",
       "      <th>MONTH(jamUpdateDateTime)</th>\n",
       "      <th>WEEKDAY(gps_datetime)</th>\n",
       "      <th>WEEKDAY(precipitationTime)</th>\n",
       "      <th>WEEKDAY(alertDateTime)</th>\n",
       "      <th>WEEKDAY(jamUpdateDateTime)</th>\n",
       "    </tr>\n",
       "  </thead>\n",
       "  <tbody>\n",
       "    <tr>\n",
       "      <th>0</th>\n",
       "      <td>96</td>\n",
       "      <td>1</td>\n",
       "      <td>Route_219</td>\n",
       "      <td>low_frequency</td>\n",
       "      <td>22857</td>\n",
       "      <td>-8.046589</td>\n",
       "      <td>-34.878125</td>\n",
       "      <td>3606.0</td>\n",
       "      <td>50661</td>\n",
       "      <td>0.0</td>\n",
       "      <td>...</td>\n",
       "      <td>2018.0</td>\n",
       "      <td>2018.0</td>\n",
       "      <td>12</td>\n",
       "      <td>12</td>\n",
       "      <td>12.0</td>\n",
       "      <td>12.0</td>\n",
       "      <td>2</td>\n",
       "      <td>2</td>\n",
       "      <td>2.0</td>\n",
       "      <td>2.0</td>\n",
       "    </tr>\n",
       "    <tr>\n",
       "      <th>1</th>\n",
       "      <td>96</td>\n",
       "      <td>1</td>\n",
       "      <td>Route_219</td>\n",
       "      <td>low_frequency</td>\n",
       "      <td>22857</td>\n",
       "      <td>-8.046589</td>\n",
       "      <td>-34.878125</td>\n",
       "      <td>3606.0</td>\n",
       "      <td>50671</td>\n",
       "      <td>409090.0</td>\n",
       "      <td>...</td>\n",
       "      <td>2018.0</td>\n",
       "      <td>2018.0</td>\n",
       "      <td>12</td>\n",
       "      <td>12</td>\n",
       "      <td>12.0</td>\n",
       "      <td>12.0</td>\n",
       "      <td>2</td>\n",
       "      <td>2</td>\n",
       "      <td>2.0</td>\n",
       "      <td>2.0</td>\n",
       "    </tr>\n",
       "    <tr>\n",
       "      <th>2</th>\n",
       "      <td>96</td>\n",
       "      <td>1</td>\n",
       "      <td>Route_219</td>\n",
       "      <td>low_frequency</td>\n",
       "      <td>22857</td>\n",
       "      <td>-8.046589</td>\n",
       "      <td>-34.878125</td>\n",
       "      <td>3606.0</td>\n",
       "      <td>50669</td>\n",
       "      <td>406112.0</td>\n",
       "      <td>...</td>\n",
       "      <td>2018.0</td>\n",
       "      <td>2018.0</td>\n",
       "      <td>12</td>\n",
       "      <td>12</td>\n",
       "      <td>12.0</td>\n",
       "      <td>12.0</td>\n",
       "      <td>2</td>\n",
       "      <td>2</td>\n",
       "      <td>2.0</td>\n",
       "      <td>2.0</td>\n",
       "    </tr>\n",
       "    <tr>\n",
       "      <th>3</th>\n",
       "      <td>96</td>\n",
       "      <td>1</td>\n",
       "      <td>Route_219</td>\n",
       "      <td>low_frequency</td>\n",
       "      <td>22857</td>\n",
       "      <td>-8.046589</td>\n",
       "      <td>-34.878125</td>\n",
       "      <td>3606.0</td>\n",
       "      <td>50662</td>\n",
       "      <td>0.0</td>\n",
       "      <td>...</td>\n",
       "      <td>2018.0</td>\n",
       "      <td>2018.0</td>\n",
       "      <td>12</td>\n",
       "      <td>12</td>\n",
       "      <td>12.0</td>\n",
       "      <td>12.0</td>\n",
       "      <td>2</td>\n",
       "      <td>2</td>\n",
       "      <td>2.0</td>\n",
       "      <td>2.0</td>\n",
       "    </tr>\n",
       "    <tr>\n",
       "      <th>4</th>\n",
       "      <td>96</td>\n",
       "      <td>1</td>\n",
       "      <td>Route_219</td>\n",
       "      <td>low_frequency</td>\n",
       "      <td>22857</td>\n",
       "      <td>-8.046589</td>\n",
       "      <td>-34.878125</td>\n",
       "      <td>3606.0</td>\n",
       "      <td>50663</td>\n",
       "      <td>0.0</td>\n",
       "      <td>...</td>\n",
       "      <td>2018.0</td>\n",
       "      <td>2018.0</td>\n",
       "      <td>12</td>\n",
       "      <td>12</td>\n",
       "      <td>12.0</td>\n",
       "      <td>12.0</td>\n",
       "      <td>2</td>\n",
       "      <td>2</td>\n",
       "      <td>2.0</td>\n",
       "      <td>2.0</td>\n",
       "    </tr>\n",
       "  </tbody>\n",
       "</table>\n",
       "<p>5 rows × 60 columns</p>\n",
       "</div>"
      ],
      "text/plain": [
       "   route  tripNum    shapeId routeFrequency  shapeSequence  shapeLat  \\\n",
       "0     96        1  Route_219  low_frequency          22857 -8.046589   \n",
       "1     96        1  Route_219  low_frequency          22857 -8.046589   \n",
       "2     96        1  Route_219  low_frequency          22857 -8.046589   \n",
       "3     96        1  Route_219  low_frequency          22857 -8.046589   \n",
       "4     96        1  Route_219  low_frequency          22857 -8.046589   \n",
       "\n",
       "    shapeLon  distanceTraveledShape  busCode  gpsPointId  \\\n",
       "0 -34.878125                 3606.0    50661         0.0   \n",
       "1 -34.878125                 3606.0    50671    409090.0   \n",
       "2 -34.878125                 3606.0    50669    406112.0   \n",
       "3 -34.878125                 3606.0    50662         0.0   \n",
       "4 -34.878125                 3606.0    50663         0.0   \n",
       "\n",
       "              ...              YEAR(alertDateTime)  YEAR(jamUpdateDateTime)  \\\n",
       "0             ...                           2018.0                   2018.0   \n",
       "1             ...                           2018.0                   2018.0   \n",
       "2             ...                           2018.0                   2018.0   \n",
       "3             ...                           2018.0                   2018.0   \n",
       "4             ...                           2018.0                   2018.0   \n",
       "\n",
       "   MONTH(gps_datetime)  MONTH(precipitationTime) MONTH(alertDateTime)  \\\n",
       "0                   12                        12                 12.0   \n",
       "1                   12                        12                 12.0   \n",
       "2                   12                        12                 12.0   \n",
       "3                   12                        12                 12.0   \n",
       "4                   12                        12                 12.0   \n",
       "\n",
       "   MONTH(jamUpdateDateTime) WEEKDAY(gps_datetime) WEEKDAY(precipitationTime)  \\\n",
       "0                      12.0                     2                          2   \n",
       "1                      12.0                     2                          2   \n",
       "2                      12.0                     2                          2   \n",
       "3                      12.0                     2                          2   \n",
       "4                      12.0                     2                          2   \n",
       "\n",
       "   WEEKDAY(alertDateTime)  WEEKDAY(jamUpdateDateTime)  \n",
       "0                     2.0                         2.0  \n",
       "1                     2.0                         2.0  \n",
       "2                     2.0                         2.0  \n",
       "3                     2.0                         2.0  \n",
       "4                     2.0                         2.0  \n",
       "\n",
       "[5 rows x 60 columns]"
      ]
     },
     "execution_count": 9,
     "metadata": {},
     "output_type": "execute_result"
    }
   ],
   "source": [
    "#grouping by weekday and filling NA's with the median of the column\n",
    "numeric_feats = df_all_data.dtypes[(df_all_data.dtypes != \"object\") & (df_all_data.dtypes != \"datetime64[ns]\")\n",
    "                               & (df_all_data.dtypes != \"bool\")].index\n",
    "df_all_data[numeric_feats] = df_all_data.groupby(['WEEKDAY(gps_datetime)'])[numeric_feats].transform(lambda x: x.fillna(x.median()))\n",
    "\n",
    "df_all_data.head(5)"
   ]
  },
  {
   "cell_type": "code",
   "execution_count": null,
   "metadata": {},
   "outputs": [],
   "source": [
    "df_all_data.isnull().any()"
   ]
  },
  {
   "cell_type": "code",
   "execution_count": null,
   "metadata": {},
   "outputs": [],
   "source": [
    "df_all_data.dtypes"
   ]
  },
  {
   "cell_type": "code",
   "execution_count": 10,
   "metadata": {},
   "outputs": [],
   "source": [
    "# Converting bool to float\n",
    "df_all_data.alertIsJamUnifiedAlert = df_all_data.alertIsJamUnifiedAlert.astype(np.float64)\n",
    "df_all_data.alertInScale = df_all_data.alertInScale.astype(np.float64)\n",
    "df_all_data.busBunching = df_all_data.busBunching.astype(np.float64)"
   ]
  },
  {
   "cell_type": "markdown",
   "metadata": {},
   "source": [
    "### Converting categorical variables"
   ]
  },
  {
   "cell_type": "code",
   "execution_count": 11,
   "metadata": {},
   "outputs": [
    {
     "data": {
      "text/html": [
       "<div>\n",
       "<style scoped>\n",
       "    .dataframe tbody tr th:only-of-type {\n",
       "        vertical-align: middle;\n",
       "    }\n",
       "\n",
       "    .dataframe tbody tr th {\n",
       "        vertical-align: top;\n",
       "    }\n",
       "\n",
       "    .dataframe thead th {\n",
       "        text-align: right;\n",
       "    }\n",
       "</style>\n",
       "<table border=\"1\" class=\"dataframe\">\n",
       "  <thead>\n",
       "    <tr style=\"text-align: right;\">\n",
       "      <th></th>\n",
       "      <th>route</th>\n",
       "      <th>tripNum</th>\n",
       "      <th>shapeSequence</th>\n",
       "      <th>shapeLat</th>\n",
       "      <th>shapeLon</th>\n",
       "      <th>distanceTraveledShape</th>\n",
       "      <th>busCode</th>\n",
       "      <th>gpsPointId</th>\n",
       "      <th>gpsLat</th>\n",
       "      <th>gpsLon</th>\n",
       "      <th>...</th>\n",
       "      <th>alertType_-</th>\n",
       "      <th>alertType_ACCIDENT</th>\n",
       "      <th>alertType_CHIT_CHAT</th>\n",
       "      <th>alertType_HAZARD</th>\n",
       "      <th>alertType_JAM</th>\n",
       "      <th>alertType_POLICE</th>\n",
       "      <th>alertType_ROAD_CLOSED</th>\n",
       "      <th>jamBlockType_-</th>\n",
       "      <th>jamBlockType_ROAD_CLOSED_CONSTRUCTION</th>\n",
       "      <th>jamBlockType_ROAD_CLOSED_EVENT</th>\n",
       "    </tr>\n",
       "  </thead>\n",
       "  <tbody>\n",
       "    <tr>\n",
       "      <th>0</th>\n",
       "      <td>96</td>\n",
       "      <td>1</td>\n",
       "      <td>22857</td>\n",
       "      <td>-8.046589</td>\n",
       "      <td>-34.878125</td>\n",
       "      <td>3606.0</td>\n",
       "      <td>50661</td>\n",
       "      <td>0.0</td>\n",
       "      <td>-8.046589</td>\n",
       "      <td>-34.878125</td>\n",
       "      <td>...</td>\n",
       "      <td>0</td>\n",
       "      <td>0</td>\n",
       "      <td>0</td>\n",
       "      <td>1</td>\n",
       "      <td>0</td>\n",
       "      <td>0</td>\n",
       "      <td>0</td>\n",
       "      <td>1</td>\n",
       "      <td>0</td>\n",
       "      <td>0</td>\n",
       "    </tr>\n",
       "    <tr>\n",
       "      <th>1</th>\n",
       "      <td>96</td>\n",
       "      <td>1</td>\n",
       "      <td>22857</td>\n",
       "      <td>-8.046589</td>\n",
       "      <td>-34.878125</td>\n",
       "      <td>3606.0</td>\n",
       "      <td>50671</td>\n",
       "      <td>409090.0</td>\n",
       "      <td>-8.046559</td>\n",
       "      <td>-34.878171</td>\n",
       "      <td>...</td>\n",
       "      <td>0</td>\n",
       "      <td>0</td>\n",
       "      <td>0</td>\n",
       "      <td>1</td>\n",
       "      <td>0</td>\n",
       "      <td>0</td>\n",
       "      <td>0</td>\n",
       "      <td>1</td>\n",
       "      <td>0</td>\n",
       "      <td>0</td>\n",
       "    </tr>\n",
       "    <tr>\n",
       "      <th>2</th>\n",
       "      <td>96</td>\n",
       "      <td>1</td>\n",
       "      <td>22857</td>\n",
       "      <td>-8.046589</td>\n",
       "      <td>-34.878125</td>\n",
       "      <td>3606.0</td>\n",
       "      <td>50669</td>\n",
       "      <td>406112.0</td>\n",
       "      <td>-8.046468</td>\n",
       "      <td>-34.878234</td>\n",
       "      <td>...</td>\n",
       "      <td>0</td>\n",
       "      <td>0</td>\n",
       "      <td>0</td>\n",
       "      <td>1</td>\n",
       "      <td>0</td>\n",
       "      <td>0</td>\n",
       "      <td>0</td>\n",
       "      <td>1</td>\n",
       "      <td>0</td>\n",
       "      <td>0</td>\n",
       "    </tr>\n",
       "    <tr>\n",
       "      <th>3</th>\n",
       "      <td>96</td>\n",
       "      <td>1</td>\n",
       "      <td>22857</td>\n",
       "      <td>-8.046589</td>\n",
       "      <td>-34.878125</td>\n",
       "      <td>3606.0</td>\n",
       "      <td>50662</td>\n",
       "      <td>0.0</td>\n",
       "      <td>-8.046589</td>\n",
       "      <td>-34.878125</td>\n",
       "      <td>...</td>\n",
       "      <td>0</td>\n",
       "      <td>0</td>\n",
       "      <td>0</td>\n",
       "      <td>1</td>\n",
       "      <td>0</td>\n",
       "      <td>0</td>\n",
       "      <td>0</td>\n",
       "      <td>1</td>\n",
       "      <td>0</td>\n",
       "      <td>0</td>\n",
       "    </tr>\n",
       "    <tr>\n",
       "      <th>4</th>\n",
       "      <td>96</td>\n",
       "      <td>1</td>\n",
       "      <td>22857</td>\n",
       "      <td>-8.046589</td>\n",
       "      <td>-34.878125</td>\n",
       "      <td>3606.0</td>\n",
       "      <td>50663</td>\n",
       "      <td>0.0</td>\n",
       "      <td>-8.046589</td>\n",
       "      <td>-34.878125</td>\n",
       "      <td>...</td>\n",
       "      <td>0</td>\n",
       "      <td>0</td>\n",
       "      <td>0</td>\n",
       "      <td>1</td>\n",
       "      <td>0</td>\n",
       "      <td>0</td>\n",
       "      <td>0</td>\n",
       "      <td>1</td>\n",
       "      <td>0</td>\n",
       "      <td>0</td>\n",
       "    </tr>\n",
       "  </tbody>\n",
       "</table>\n",
       "<p>5 rows × 374 columns</p>\n",
       "</div>"
      ],
      "text/plain": [
       "   route  tripNum  shapeSequence  shapeLat   shapeLon  distanceTraveledShape  \\\n",
       "0     96        1          22857 -8.046589 -34.878125                 3606.0   \n",
       "1     96        1          22857 -8.046589 -34.878125                 3606.0   \n",
       "2     96        1          22857 -8.046589 -34.878125                 3606.0   \n",
       "3     96        1          22857 -8.046589 -34.878125                 3606.0   \n",
       "4     96        1          22857 -8.046589 -34.878125                 3606.0   \n",
       "\n",
       "   busCode  gpsPointId    gpsLat     gpsLon               ...                \\\n",
       "0    50661         0.0 -8.046589 -34.878125               ...                 \n",
       "1    50671    409090.0 -8.046559 -34.878171               ...                 \n",
       "2    50669    406112.0 -8.046468 -34.878234               ...                 \n",
       "3    50662         0.0 -8.046589 -34.878125               ...                 \n",
       "4    50663         0.0 -8.046589 -34.878125               ...                 \n",
       "\n",
       "   alertType_-  alertType_ACCIDENT  alertType_CHIT_CHAT  alertType_HAZARD  \\\n",
       "0            0                   0                    0                 1   \n",
       "1            0                   0                    0                 1   \n",
       "2            0                   0                    0                 1   \n",
       "3            0                   0                    0                 1   \n",
       "4            0                   0                    0                 1   \n",
       "\n",
       "   alertType_JAM  alertType_POLICE  alertType_ROAD_CLOSED  jamBlockType_-  \\\n",
       "0              0                 0                      0               1   \n",
       "1              0                 0                      0               1   \n",
       "2              0                 0                      0               1   \n",
       "3              0                 0                      0               1   \n",
       "4              0                 0                      0               1   \n",
       "\n",
       "   jamBlockType_ROAD_CLOSED_CONSTRUCTION  jamBlockType_ROAD_CLOSED_EVENT  \n",
       "0                                      0                               0  \n",
       "1                                      0                               0  \n",
       "2                                      0                               0  \n",
       "3                                      0                               0  \n",
       "4                                      0                               0  \n",
       "\n",
       "[5 rows x 374 columns]"
      ]
     },
     "execution_count": 11,
     "metadata": {},
     "output_type": "execute_result"
    }
   ],
   "source": [
    "df_all_data = pd.get_dummies(df_all_data)\n",
    "df_all_data.head()"
   ]
  },
  {
   "cell_type": "code",
   "execution_count": null,
   "metadata": {},
   "outputs": [],
   "source": [
    "# Descriptive statistics\n",
    "profile = pandas_profiling.ProfileReport(df_all_data, check_correlation=True, correlation_threshold=0.5)"
   ]
  },
  {
   "cell_type": "code",
   "execution_count": null,
   "metadata": {},
   "outputs": [],
   "source": [
    "profile.to_file(outputfile=path + \"output_after_fe_profile.html\")"
   ]
  },
  {
   "cell_type": "markdown",
   "metadata": {},
   "source": [
    "## Model with all variables"
   ]
  },
  {
   "cell_type": "markdown",
   "metadata": {},
   "source": [
    "For headway prediction"
   ]
  },
  {
   "cell_type": "code",
   "execution_count": null,
   "metadata": {},
   "outputs": [],
   "source": [
    "# y = df_all_data.drop('busBunching', axis=1) # with classifier produce error: asking to convert to float (doesn't make sense, it's a class)\n",
    "y = df_all_data['headway']\n",
    "df_all_data.drop('headway', axis=1, inplace=True)\n",
    "\n",
    "X = df_all_data\n",
    "\n",
    "X_train_all, X_test_all, y_train_all, y_test_all = train_test_split(X, y, test_size=0.5)\n",
    "\n",
    "headway_busBunching_test = X_test_all[['headwayThreshold', 'busBunching']]\n",
    "X_test_all.drop('busBunching', axis=1, inplace=True)\n",
    "X_train_all.drop('busBunching', axis=1, inplace=True)"
   ]
  },
  {
   "cell_type": "markdown",
   "metadata": {},
   "source": [
    "For bus bunching prediction"
   ]
  },
  {
   "cell_type": "code",
   "execution_count": 12,
   "metadata": {},
   "outputs": [],
   "source": [
    "y = df_all_data['busBunching']\n",
    "df_all_data.drop('busBunching', axis=1, inplace=True)\n",
    "#df_all_data.drop('headway', axis=1, inplace=True)\n",
    "\n",
    "X = df_all_data\n",
    "\n",
    "X_train_all, X_test_all, y_train_all, y_test_all = train_test_split(X, y, test_size=0.5)"
   ]
  },
  {
   "cell_type": "markdown",
   "metadata": {},
   "source": [
    "#### Modelo RF (Random Forest)\n",
    "Random Forest é um algoritmo que ajusta várias árvores de decisão de classificação em várias subamostras do conjunto de dados e usa a média para melhorar a precisão preditiva e controlar o ajuste excessivo. A quantidade de árvores (n_estimators) é um parâmetro, cujo valor, deve ser encontrado, para que o modelo melhor represente os dados."
   ]
  },
  {
   "cell_type": "code",
   "execution_count": 13,
   "metadata": {},
   "outputs": [],
   "source": [
    "# function to train the model and to calculate the RMSE with cross validation\n",
    "def rmse_cv(model, X_train, y_train):\n",
    "    rmse = np.sqrt(-cross_val_score(model, X_train, y_train, scoring = \"neg_mean_squared_error\", cv = 10))\n",
    "    return(rmse)\n",
    "\n",
    "# function to print the coefficients of the model\n",
    "def print_coefficients(model):\n",
    "    w = list(model.coef_)\n",
    "    # Parameters must be in reverse order because the poly function \n",
    "    w.reverse()\n",
    "    print (np.poly1d(w) + model.intercept_)\n",
    "\n",
    "# function to train the model and to return the score\n",
    "def train_model(model, X_train, y_train, X_test, y_test, print_coef):\n",
    "    start_time = time.time()\n",
    "\n",
    "    model.fit(X_train, y_train)\n",
    "#     if (print_coef):\n",
    "#         print_coefficients(model)\n",
    "    \n",
    "    score = model.score(X_test, y_test) #how well our model is\n",
    "    y_predict = model.predict(X_test)\n",
    "    execution_time = time.time() - start_time\n",
    "    return score, execution_time, y_predict\n",
    "\n",
    "# function to plot the RMSE vs parameter value\n",
    "def plot_rmse_param(series, param_name):\n",
    "    series.plot(title = \"Validation Error vs \" + param_name)\n",
    "    plt.xlabel(param_name)\n",
    "    plt.ylabel(\"RMSE\")\n",
    "    \n",
    "# function to get the best RMSE and the best parameter value of the model\n",
    "def best_rmse_param(series):\n",
    "    best_rmse = series.min()\n",
    "    best_param = series.idxmin() \n",
    "    \n",
    "    return(best_rmse, best_param)\n",
    "\n",
    "def get_accuracy(y_predicted, y_real, label):\n",
    "    \n",
    "    if label == \"headway\":\n",
    "        y_real['predictedBusBunching'] = y_real['headwayThreshold'].ge(y_predicted, axis=0).astype(np.float64)\n",
    "        accuracy = accuracy_score(y_real['busBunching'], y_real['predictedBusBunching']) #y_true, y_pred\n",
    "    else:\n",
    "        accuracy = accuracy_score(y_real, y_predicted) #y_true, y_pred\n",
    "    \n",
    "    return accuracy\n",
    "\n",
    "def get_fmeasure(y_predicted, y_real, label):\n",
    "    \n",
    "    if label == \"headway\":\n",
    "        y_real['predictedBusBunching'] = y_real['headwayThreshold'].ge(y_predicted, axis=0).astype(np.float64)\n",
    "        fmeasure = f1_score(y_real['busBunching'], y_real['predictedBusBunching']) #y_true, y_pred\n",
    "    else:\n",
    "        fmeasure = f1_score(y_real, y_predicted) #y_true, y_pred\n",
    "                                              \n",
    "    return fmeasure\n",
    "\n",
    "def get_precision(y_predicted, y_real, label):\n",
    "    \n",
    "    if label == \"headway\":\n",
    "        y_real['predictedBusBunching'] = y_real['headwayThreshold'].ge(y_predicted, axis=0).astype(np.float64)\n",
    "        precision = precision_score(y_real['busBunching'], y_real['predictedBusBunching']) #y_true, y_pred\n",
    "    else:\n",
    "        precision = precision_score(y_real, y_predicted) #y_true, y_pred\n",
    "                                              \n",
    "    return precision\n",
    "\n",
    "def get_recall(y_predicted, y_real, label):\n",
    "    \n",
    "    if label == \"headway\":\n",
    "        y_real['predictedBusBunching'] = y_real['headwayThreshold'].ge(y_predicted, axis=0).astype(np.float64)\n",
    "        recall = recall_score(y_real['busBunching'], y_real['predictedBusBunching']) #y_true, y_pred\n",
    "    else:\n",
    "        recall = recall_score(y_real, y_predicted) #y_true, y_pred\n",
    "                                              \n",
    "    return recall"
   ]
  },
  {
   "cell_type": "code",
   "execution_count": null,
   "metadata": {},
   "outputs": [],
   "source": [
    "n_estimators = [1, 10, 50, 100]\n",
    "cv_rf_rmse = [rmse_cv(RandomForestRegressor(n_estimators = n, n_jobs=8), X_train_all, y_train_all).mean() \n",
    "            for n in n_estimators]\n",
    "\n",
    "series = pd.Series(cv_rf_rmse, index = n_estimators)\n",
    "plot_rmse_param(series, \"n_estimators\")"
   ]
  },
  {
   "cell_type": "code",
   "execution_count": null,
   "metadata": {},
   "outputs": [],
   "source": [
    "best_rmse_rf, best_estimator_rf_all = best_rmse_param(series)"
   ]
  },
  {
   "cell_type": "code",
   "execution_count": null,
   "metadata": {},
   "outputs": [],
   "source": [
    "n_min_samples_split = [2,3,4,5,6,7,8,9,10]\n",
    "cv_rf_rmse = [rmse_cv(RandomForestRegressor(n_estimators = best_estimator_rf_all, min_samples_split = n, n_jobs=8), X_train_all, y_train_all).mean() \n",
    "            for n in n_min_samples_split]\n",
    "\n",
    "series = pd.Series(cv_rf_rmse, index = n_min_samples_split)\n",
    "plot_rmse_param(series, \"n_min_samples_split\")"
   ]
  },
  {
   "cell_type": "code",
   "execution_count": null,
   "metadata": {},
   "outputs": [],
   "source": [
    "best_rmse_rf, best_split_rf = best_rmse_param(series)"
   ]
  },
  {
   "cell_type": "code",
   "execution_count": null,
   "metadata": {
    "scrolled": true
   },
   "outputs": [],
   "source": [
    "# best_rmse_rf, best_param_rf = best_rmse_param(series)\n",
    "\n",
    "model_rf = RandomForestRegressor(n_estimators = best_estimator_rf_all, min_samples_split = best_split_rf, n_jobs=8)\n",
    "score_rf_all, exec_time_all, y_predict_all = train_model(model_rf, X_train_all, y_train_all, X_test_all, y_test_all, \n",
    "                                      False)"
   ]
  },
  {
   "cell_type": "code",
   "execution_count": null,
   "metadata": {},
   "outputs": [],
   "source": [
    "accuracy_rf_all = get_accuracy(y_predict_all, headway_busBunching_test, \"headway\")\n",
    "precision_rf_all = get_precision(y_predict_all, headway_busBunching_test, \"headway\")\n",
    "recall_rf_all = get_recall(y_predict_all, headway_busBunching_test, \"headway\")\n",
    "fmeasure_rf_all = get_fmeasure(y_predict_all, headway_busBunching_test, \"headway\")"
   ]
  },
  {
   "cell_type": "code",
   "execution_count": null,
   "metadata": {},
   "outputs": [],
   "source": [
    "# del variables\n",
    "\n",
    "del df_all_data\n",
    "del cv_rf_rmse\n",
    "del series\n",
    "del model_rf\n",
    "del y\n",
    "del X\n",
    "del X_train_all\n",
    "del X_test_all\n",
    "del y_train_all\n",
    "del y_test_all"
   ]
  },
  {
   "cell_type": "markdown",
   "metadata": {},
   "source": [
    "#### Support Vector Regressor Model"
   ]
  },
  {
   "cell_type": "code",
   "execution_count": null,
   "metadata": {},
   "outputs": [],
   "source": [
    "# Support Vector Regressor Model - it takes to long to execute\n",
    "\n",
    "# cs = [0.01, 1, 5, 10, 25, 50]\n",
    "# cv_svr_rmse = [rmse_cv(SVR(C = c), X_train_all, y_train_all).mean() \n",
    "#             for c in cs]\n",
    "\n",
    "# series_svr = pd.Series(cv_svr_rmse, index = cs)\n",
    "# plot_rmse_param(series_svr, \"C\")"
   ]
  },
  {
   "cell_type": "code",
   "execution_count": null,
   "metadata": {},
   "outputs": [],
   "source": [
    "# best_rmse_svr_all, best_param_svr_all = best_rmse_param(series_svr)\n",
    "\n",
    "# model_svr_all = SVR(C = best_rmse_svr_all)\n",
    "# score_svr_all, exec_time_svr_all = train_model(model_svr_all, False)"
   ]
  },
  {
   "cell_type": "markdown",
   "metadata": {},
   "source": [
    "#### Logistic Regression Model"
   ]
  },
  {
   "cell_type": "code",
   "execution_count": 14,
   "metadata": {},
   "outputs": [
    {
     "name": "stderr",
     "output_type": "stream",
     "text": [
      "c:\\python27\\lib\\site-packages\\sklearn\\linear_model\\logistic.py:433: FutureWarning: Default solver will be changed to 'lbfgs' in 0.22. Specify a solver to silence this warning.\n",
      "  FutureWarning)\n",
      "c:\\python27\\lib\\site-packages\\sklearn\\linear_model\\logistic.py:1297: UserWarning: 'n_jobs' > 1 does not have any effect when 'solver' is set to 'liblinear'. Got 'n_jobs' = 8.\n",
      "  \" = {}.\".format(effective_n_jobs(self.n_jobs)))\n",
      "c:\\python27\\lib\\site-packages\\sklearn\\svm\\base.py:922: ConvergenceWarning: Liblinear failed to converge, increase the number of iterations.\n",
      "  \"the number of iterations.\", ConvergenceWarning)\n"
     ]
    },
    {
     "data": {
      "image/png": "[encoded data removed]",
      "text/plain": [
       "<Figure size 432x288 with 1 Axes>"
      ]
     },
     "metadata": {
      "needs_background": "light"
     },
     "output_type": "display_data"
    }
   ],
   "source": [
    "stop_criteria = [0.1, 0.01, 0.001, 0.0001]\n",
    "cv_lr_rmse = [rmse_cv(LogisticRegression(tol = t, n_jobs=8), X_train_all, y_train_all).mean() \n",
    "            for t in stop_criteria]\n",
    "\n",
    "series = pd.Series(cv_lr_rmse, index = stop_criteria)\n",
    "plot_rmse_param(series, \"stop_criteria\")"
   ]
  },
  {
   "cell_type": "code",
   "execution_count": 15,
   "metadata": {},
   "outputs": [],
   "source": [
    "best_rmse_lr_all, best_stop_lr_all = best_rmse_param(series)"
   ]
  },
  {
   "cell_type": "code",
   "execution_count": 16,
   "metadata": {},
   "outputs": [
    {
     "data": {
      "image/png": "[encoded data removed]",
      "text/plain": [
       "<Figure size 432x288 with 1 Axes>"
      ]
     },
     "metadata": {
      "needs_background": "light"
     },
     "output_type": "display_data"
    }
   ],
   "source": [
    "cs = [0.1, 0.3, 0.5, 0.7, 0.9, 1.0]\n",
    "cv_lr_rmse = [rmse_cv(LogisticRegression(tol = best_stop_lr_all, C = c, n_jobs=8), X_train_all, y_train_all).mean() \n",
    "            for c in cs]\n",
    "\n",
    "series = pd.Series(cv_lr_rmse, index = cs)\n",
    "plot_rmse_param(series, \"cs\")"
   ]
  },
  {
   "cell_type": "code",
   "execution_count": 17,
   "metadata": {},
   "outputs": [],
   "source": [
    "best_rmse_lr_all, best_c_lr_all = best_rmse_param(series)"
   ]
  },
  {
   "cell_type": "code",
   "execution_count": 18,
   "metadata": {},
   "outputs": [],
   "source": [
    "model_lr = LogisticRegression(tol = best_stop_lr_all, C = best_c_lr_all, n_jobs=8)\n",
    "score_lr_all, exec_time_lr_all, y_predict_lr_all = train_model(model_lr, X_train_all, y_train_all, X_test_all, y_test_all, \n",
    "                                      False)"
   ]
  },
  {
   "cell_type": "code",
   "execution_count": 19,
   "metadata": {},
   "outputs": [],
   "source": [
    "accuracy_lr_all = get_accuracy(y_predict_lr_all, y_test_all, \"busBunching\")\n",
    "precision_lr_all = get_precision(y_predict_lr_all, y_test_all, \"busBunching\")\n",
    "recall_lr_all = get_recall(y_predict_lr_all, y_test_all, \"busBunching\")\n",
    "fmeasure_lr_all = get_fmeasure(y_predict_lr_all, y_test_all, \"busBunching\")"
   ]
  },
  {
   "cell_type": "markdown",
   "metadata": {},
   "source": [
    "Usar regressão (reduzir dimensionalidade) -> é linear (RF foi aleatório) ou outros modelos"
   ]
  },
  {
   "cell_type": "markdown",
   "metadata": {},
   "source": [
    "## Model with less (13) variables"
   ]
  },
  {
   "cell_type": "markdown",
   "metadata": {},
   "source": [
    "- Todas as variáveis de dia, mês e ano - data do gps é suficiente\n",
    "- alertInScale - alertIsJamUnifiedAlert é suficiente\n",
    "- alertLat e alertLon - localização do gps é suficiente\n",
    "- alertNThumbsUp e alertReliability - alertConfidence é suficiente\n",
    "- jamDelay e jamLenght - jamSeverity é suficiente"
   ]
  },
  {
   "cell_type": "code",
   "execution_count": 20,
   "metadata": {},
   "outputs": [],
   "source": [
    "df_selected_data.drop(['DAY(alertDateTime)', 'DAY(jamUpdateDateTime)', 'MONTH(alertDateTime)', \n",
    "                        'MONTH(jamUpdateDateTime)', 'YEAR(alertDateTime)', 'YEAR(jamUpdateDateTime)',\n",
    "                       'alertInScale', 'alertLatitude', 'alertLongitude', 'alertNThumbsUp',\n",
    "                       'alertReliability', 'jamDelay', 'jamLength'], axis=1, inplace=True)"
   ]
  },
  {
   "cell_type": "markdown",
   "metadata": {},
   "source": [
    "Test with 50% of the variables."
   ]
  },
  {
   "cell_type": "raw",
   "metadata": {},
   "source": [
    "shapeId routeFrequency shapeSequence shapeLat shapeLon busCode gps_datetime stopPointId precipitation precipitationTime alertDateTime alertSubType alertConfidence alertDistanceToClosestShapePoint jamUpdateDateTime jamDelay jamLength jamLevel jamSeverity jamDistanceToClosestShapePoint headway headwayThreshold nextBusCode GPShour"
   ]
  },
  {
   "cell_type": "code",
   "execution_count": null,
   "metadata": {},
   "outputs": [],
   "source": [
    "#df_selected_data.drop(['route', 'tripNum', 'distanceTraveledShape', 'gpsPointId', 'gpsLat', 'gpsLon', \n",
    "#                       'distanceToShapePoint', 'problem', 'alertType', 'alertRoadType', 'alertNComments', \n",
    "#                       'alertNImages', 'alertNThumbsUp', 'alertReliability', 'alertReportMood', 'alertReportRating', \n",
    "#                       'alertSpeed', 'alertLatitude', 'alertLongitude', 'alertIsJamUnifiedAlert', 'alertInScale', \n",
    "#                       'jamBlockType', 'jamSpeedKM'], axis=1, inplace=True)"
   ]
  },
  {
   "cell_type": "code",
   "execution_count": null,
   "metadata": {},
   "outputs": [],
   "source": [
    "df_selected_data.head()"
   ]
  },
  {
   "cell_type": "markdown",
   "metadata": {},
   "source": [
    "Test with 25% of the variables."
   ]
  },
  {
   "cell_type": "raw",
   "metadata": {},
   "source": [
    "routeFrequency shapeLat shapeLon busCode gps_datetime precipitation alertSubType alertConfidence jamSeverity headway nextBusCode GPShour"
   ]
  },
  {
   "cell_type": "code",
   "execution_count": null,
   "metadata": {},
   "outputs": [],
   "source": [
    "# df_selected_data.drop(['route','tripNum','shapeId','shapeSequence','distanceTraveledShape','gpsPointId','gpsLat',\n",
    "#                        'gpsLon','distanceToShapePoint','gps_datetime','stopPointId','problem','precipitationTime',\n",
    "#                        'alertDateTime','alertType','alertRoadType','alertNComments','alertNImages','alertNThumbsUp',\n",
    "#                        'alertReliability','alertReportMood','alertReportRating','alertSpeed','alertLatitude',\n",
    "#                        'alertLongitude','alertDistanceToClosestShapePoint','alertIsJamUnifiedAlert','alertInScale',\n",
    "#                        'jamUpdateDateTime','jamExpirationDateTime','jamBlockType','jamDelay','jamLength','jamLevel',\n",
    "#                        'jamSpeedKM','jamDistanceToClosestShapePoint','headwayThreshold'], axis=1, inplace=True)"
   ]
  },
  {
   "cell_type": "code",
   "execution_count": null,
   "metadata": {},
   "outputs": [],
   "source": [
    "df_selected_data"
   ]
  },
  {
   "cell_type": "code",
   "execution_count": 21,
   "metadata": {},
   "outputs": [],
   "source": [
    "# changing by shape data\n",
    "\n",
    "df_selected_data.gpsPointId = np.where(df_selected_data.gpsPointId.isnull(), 0, \n",
    "                                       df_selected_data.gpsPointId)\n",
    "df_selected_data.gpsLat = np.where(df_selected_data.gpsLat.isnull(), df_selected_data.shapeLat,\n",
    "                                   df_selected_data.gpsLat)\n",
    "df_selected_data.gpsLon = np.where(df_selected_data.gpsLon.isnull(), df_selected_data.shapeLon, \n",
    "                                   df_selected_data.gpsLon)\n",
    "df_selected_data.distanceToShapePoint = np.where(df_selected_data.distanceToShapePoint.isnull(), \n",
    "                                            0, df_selected_data.distanceToShapePoint)\n"
   ]
  },
  {
   "cell_type": "code",
   "execution_count": 22,
   "metadata": {},
   "outputs": [],
   "source": [
    "#grouping by weekday and filling NA's with the median of the column\n",
    "numeric_feats = df_selected_data.dtypes[(df_selected_data.dtypes != \"object\") & \n",
    "                                        (df_selected_data.dtypes != \"datetime64[ns]\")\n",
    "                               & (df_selected_data.dtypes != \"bool\")].index\n",
    "df_selected_data[numeric_feats] = df_selected_data.groupby(['WEEKDAY(gps_datetime)'])[numeric_feats].transform(lambda x: x.fillna(x.median()))"
   ]
  },
  {
   "cell_type": "code",
   "execution_count": 23,
   "metadata": {},
   "outputs": [],
   "source": [
    "# Converting bool to float\n",
    "df_selected_data.alertIsJamUnifiedAlert = df_selected_data.alertIsJamUnifiedAlert.astype(np.float64)\n",
    "df_selected_data.busBunching = df_selected_data.busBunching.astype(np.float64)"
   ]
  },
  {
   "cell_type": "code",
   "execution_count": 24,
   "metadata": {},
   "outputs": [],
   "source": [
    "# Converting categorical variable\n",
    "\n",
    "df_selected_data = pd.get_dummies(df_selected_data)"
   ]
  },
  {
   "cell_type": "markdown",
   "metadata": {},
   "source": [
    "For headway prediction"
   ]
  },
  {
   "cell_type": "code",
   "execution_count": null,
   "metadata": {},
   "outputs": [],
   "source": [
    "# y = df_all_data.drop('busBunching', axis=1) # with classifier produce error\n",
    "y_sel = df_selected_data['headway']\n",
    "df_selected_data.drop('headway', axis=1, inplace=True)\n",
    "\n",
    "X_sel = df_selected_data\n",
    "\n",
    "X_train_sel, X_test_sel, y_train_sel, y_test_sel = train_test_split(X_sel, y_sel, test_size=0.5)\n",
    "\n",
    "headway_busBunching_test_sel = X_test_sel[['headwayThreshold', 'busBunching']]\n",
    "X_test_sel.drop('busBunching', axis=1, inplace=True)\n",
    "X_train_sel.drop('busBunching', axis=1, inplace=True)"
   ]
  },
  {
   "cell_type": "markdown",
   "metadata": {},
   "source": [
    "For bus bunching prediction"
   ]
  },
  {
   "cell_type": "code",
   "execution_count": 25,
   "metadata": {},
   "outputs": [],
   "source": [
    "y_sel = df_selected_data['busBunching']\n",
    "df_selected_data.drop('busBunching', axis=1, inplace=True)\n",
    "#df_all_data.drop('headway', axis=1, inplace=True)\n",
    "\n",
    "X_sel = df_selected_data\n",
    "\n",
    "X_train_sel, X_test_sel, y_train_sel, y_test_sel = train_test_split(X_sel, y_sel, test_size=0.5)"
   ]
  },
  {
   "cell_type": "markdown",
   "metadata": {},
   "source": [
    "Random Forest Model"
   ]
  },
  {
   "cell_type": "code",
   "execution_count": null,
   "metadata": {},
   "outputs": [],
   "source": [
    "# best_rmse_rf_sel, best_param_rf_sel = best_rmse_param(series)\n",
    "\n",
    "model_rf_sel = RandomForestRegressor(n_estimators = best_estimator_rf_all,  min_samples_split = best_split_rf, n_jobs=8)\n",
    "score_rf_sel, exec_time_sel, y_predict_sel = train_model(model_rf_sel, X_train_sel, y_train_sel, X_test_sel, y_test_sel, False)"
   ]
  },
  {
   "cell_type": "code",
   "execution_count": null,
   "metadata": {},
   "outputs": [],
   "source": [
    "accuracy_rf_sel = get_accuracy(y_predict_sel, headway_busBunching_test_sel)\n",
    "precision_rf_sel = get_precision(y_predict_sel, headway_busBunching_test_sel)\n",
    "recall_rf_sel = get_recall(y_predict_sel, headway_busBunching_test_sel)\n",
    "fmeasure_rf_sel = get_fmeasure(y_predict_sel, headway_busBunching_test_sel)"
   ]
  },
  {
   "cell_type": "code",
   "execution_count": null,
   "metadata": {},
   "outputs": [],
   "source": [
    "# cs = [0.01, 1, 5, 10, 25, 50]\n",
    "# cv_svr_rmse = [rmse_cv(SVR(C = c), X_train_sel, y_train_sel).mean() \n",
    "#             for c in cs]\n",
    "\n",
    "# series_svr = pd.Series(cv_svr_rmse, index = cs)\n",
    "# plot_rmse_param(series_svr, \"C\")"
   ]
  },
  {
   "cell_type": "code",
   "execution_count": null,
   "metadata": {},
   "outputs": [],
   "source": [
    "# best_rmse_svr_sel, best_param_svr_sel = best_rmse_param(series_svr)\n",
    "\n",
    "# model_svr_sel = SVR(C = best_param_svr_sel)\n",
    "# score_svr_sel, exec_time_sel_svr = train_model(model_svr_sel, False)"
   ]
  },
  {
   "cell_type": "markdown",
   "metadata": {},
   "source": [
    "#### Logistic Regression Model"
   ]
  },
  {
   "cell_type": "code",
   "execution_count": 26,
   "metadata": {},
   "outputs": [],
   "source": [
    "model_lr_sel = LogisticRegression(tol = best_stop_lr_all, C = best_c_lr_all, n_jobs=8)\n",
    "score_lr_sel, exec_time_lr_sel, y_predict_lr_sel = train_model(model_lr_sel, X_train_sel, y_train_sel,\n",
    "                                                               X_test_sel, y_test_sel, False)"
   ]
  },
  {
   "cell_type": "code",
   "execution_count": 27,
   "metadata": {},
   "outputs": [],
   "source": [
    "accuracy_lr_sel = get_accuracy(y_predict_lr_sel, y_test_sel, \"busBunching\")\n",
    "precision_lr_sel = get_precision(y_predict_lr_sel, y_test_sel, \"busBunching\")\n",
    "recall_lr_sel = get_recall(y_predict_lr_sel, y_test_sel, \"busBunching\")\n",
    "fmeasure_lr_sel = get_fmeasure(y_predict_lr_sel, y_test_sel, \"busBunching\")"
   ]
  },
  {
   "cell_type": "markdown",
   "metadata": {},
   "source": [
    "## Results"
   ]
  },
  {
   "cell_type": "markdown",
   "metadata": {},
   "source": [
    "Execution just with Random Forest because is more efficient with good accuracy."
   ]
  },
  {
   "cell_type": "code",
   "execution_count": null,
   "metadata": {},
   "outputs": [],
   "source": [
    "print(\"Data: %s rows\" % rows_number)\n",
    "print(\"Random Forest Model - All Variables: \\nEstimators = %s \\nN_Split = %s \\nAccuracy = %s \\nPrecision = %s \\nRecall = %s \\nF-Measure = %s \\nR2 = %s \\nExecution time = %s \\n\" % \n",
    "      (best_estimator_rf_all, best_split_rf, accuracy_rf_all, precision_rf_all, recall_rf_all, fmeasure_rf_all, score_rf_all, exec_time_all))\n",
    "print(\"Random Forest Model - Less Variables: \\nEstimators = %s \\nN_Split = %s \\nAccuracy = %s \\nPrecision = %s \\nRecall = %s \\nF-Measure = %s \\nR2 = %s \\nExecution time = %s \\n\" % \n",
    "      (best_estimator_rf_all, best_split_rf, accuracy_rf_sel, precision_rf_sel, recall_rf_sel, fmeasure_rf_sel, score_rf_sel, exec_time_sel))\n",
    "\n",
    "# print(\"SVR Model - All Variables: \\nEstimators = %s \\nRMSE = %s \\nR2 = %s \\nExecution time = %s \\n\" % \n",
    "#       (best_param_svr, best_rmse_svr, score_svr, exec_time_svr_all))\n",
    "# print(\"SVR Model - Less Variables: \\nEstimators = %s \\nRMSE = %s \\nR2 = %s \\nExecution time = %s \\n\" % \n",
    "#       (best_param_svr_sel, best_rmse_svr_sel, score_svr_sel, exec_time_svr_sel))\n"
   ]
  },
  {
   "cell_type": "code",
   "execution_count": 28,
   "metadata": {},
   "outputs": [],
   "source": [
    "def plot_results(df_results, name):\n",
    "    fig, ax = plt.subplots(figsize=(7,5))\n",
    "    results_plot = df_results.plot.bar(x = \"Input\", logy=True, grid=True, colormap=\"tab20b\", ax=ax, rot=0)\n",
    "    plt.xlabel(\"\")\n",
    "    \n",
    "    results_plot.get_figure().savefig(path + name)"
   ]
  },
  {
   "cell_type": "markdown",
   "metadata": {},
   "source": [
    "Random Forest"
   ]
  },
  {
   "cell_type": "code",
   "execution_count": null,
   "metadata": {
    "scrolled": true
   },
   "outputs": [],
   "source": [
    "labels = [\"Input\",\"Accuracy\",\"Precision\",\"Recall\",\"F-Measure\",\"R2\",\"Execution Time (Min)\"]\n",
    "results = []\n",
    "results.append([\"RF - All variables\", accuracy_rf_all, precision_rf_all, recall_rf_all, fmeasure_rf_all, score_rf_all, (exec_time_all/60)])\n",
    "results.append([\"RF - Selected variables\", accuracy_rf_sel, precision_rf_sel, recall_rf_sel, fmeasure_rf_sel, score_rf_sel, (exec_time_sel/60)])\n",
    "\n",
    "df_results = pd.DataFrame.from_records(results, columns=labels)\n",
    "print(df_results)\n",
    "\n",
    "plot_results(df_results, \"results_comparison_rf.png\")"
   ]
  },
  {
   "cell_type": "code",
   "execution_count": null,
   "metadata": {},
   "outputs": [],
   "source": [
    "df_results"
   ]
  },
  {
   "cell_type": "markdown",
   "metadata": {},
   "source": [
    "Logistic Regression"
   ]
  },
  {
   "cell_type": "code",
   "execution_count": 29,
   "metadata": {
    "scrolled": true
   },
   "outputs": [
    {
     "name": "stdout",
     "output_type": "stream",
     "text": [
      "                     Input  Accuracy  Precision    Recall  F-Measure  \\\n",
      "0       LR - All variables  0.979586   0.928231  0.876571   0.901662   \n",
      "1  LR - Selected variables  0.973284   0.922212  0.818834   0.867454   \n",
      "\n",
      "         R2  Execution Time (Min)  \n",
      "0  0.979586              3.651583  \n",
      "1  0.973284              7.136333  \n"
     ]
    },
    {
     "data": {
      "image/png": "[encoded data removed]",
      "text/plain": [
       "<Figure size 504x360 with 1 Axes>"
      ]
     },
     "metadata": {
      "needs_background": "light"
     },
     "output_type": "display_data"
    }
   ],
   "source": [
    "labels = [\"Input\",\"Accuracy\",\"Precision\",\"Recall\",\"F-Measure\",\"R2\",\"Execution Time (Min)\"]\n",
    "results = []\n",
    "results.append([\"LR - All variables\", accuracy_lr_all, precision_lr_all, recall_lr_all, fmeasure_lr_all, score_lr_all, (exec_time_lr_all/60)])\n",
    "results.append([\"LR - Selected variables\", accuracy_lr_sel, precision_lr_sel, recall_lr_sel, fmeasure_lr_sel, score_lr_sel, (exec_time_lr_sel/60)])\n",
    "\n",
    "df_results_lr = pd.DataFrame.from_records(results, columns=labels)\n",
    "print(df_results_lr)\n",
    "\n",
    "plot_results(df_results_lr, \"results_comparison_lr_1000000.png\")"
   ]
  },
  {
   "cell_type": "code",
   "execution_count": 30,
   "metadata": {},
   "outputs": [
    {
     "data": {
      "text/html": [
       "<div>\n",
       "<style scoped>\n",
       "    .dataframe tbody tr th:only-of-type {\n",
       "        vertical-align: middle;\n",
       "    }\n",
       "\n",
       "    .dataframe tbody tr th {\n",
       "        vertical-align: top;\n",
       "    }\n",
       "\n",
       "    .dataframe thead th {\n",
       "        text-align: right;\n",
       "    }\n",
       "</style>\n",
       "<table border=\"1\" class=\"dataframe\">\n",
       "  <thead>\n",
       "    <tr style=\"text-align: right;\">\n",
       "      <th></th>\n",
       "      <th>Input</th>\n",
       "      <th>Accuracy</th>\n",
       "      <th>Precision</th>\n",
       "      <th>Recall</th>\n",
       "      <th>F-Measure</th>\n",
       "      <th>R2</th>\n",
       "      <th>Execution Time (Min)</th>\n",
       "    </tr>\n",
       "  </thead>\n",
       "  <tbody>\n",
       "    <tr>\n",
       "      <th>0</th>\n",
       "      <td>LR - All variables</td>\n",
       "      <td>0.979586</td>\n",
       "      <td>0.928231</td>\n",
       "      <td>0.876571</td>\n",
       "      <td>0.901662</td>\n",
       "      <td>0.979586</td>\n",
       "      <td>3.651583</td>\n",
       "    </tr>\n",
       "    <tr>\n",
       "      <th>1</th>\n",
       "      <td>LR - Selected variables</td>\n",
       "      <td>0.973284</td>\n",
       "      <td>0.922212</td>\n",
       "      <td>0.818834</td>\n",
       "      <td>0.867454</td>\n",
       "      <td>0.973284</td>\n",
       "      <td>7.136333</td>\n",
       "    </tr>\n",
       "  </tbody>\n",
       "</table>\n",
       "</div>"
      ],
      "text/plain": [
       "                     Input  Accuracy  Precision    Recall  F-Measure  \\\n",
       "0       LR - All variables  0.979586   0.928231  0.876571   0.901662   \n",
       "1  LR - Selected variables  0.973284   0.922212  0.818834   0.867454   \n",
       "\n",
       "         R2  Execution Time (Min)  \n",
       "0  0.979586              3.651583  \n",
       "1  0.973284              7.136333  "
      ]
     },
     "execution_count": 30,
     "metadata": {},
     "output_type": "execute_result"
    }
   ],
   "source": [
    "df_results_lr"
   ]
  }
 ],
 "metadata": {
  "kernelspec": {
   "display_name": "Python 2",
   "language": "python",
   "name": "python2"
  },
  "language_info": {
   "codemirror_mode": {
    "name": "ipython",
    "version": 2
   },
   "file_extension": ".py",
   "mimetype": "text/x-python",
   "name": "python",
   "nbconvert_exporter": "python",
   "pygments_lexer": "ipython2",
   "version": "2.7.13"
  }
 },
 "nbformat": 4,
 "nbformat_minor": 2
}
