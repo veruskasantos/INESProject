{
 "cells": [
  {
   "cell_type": "markdown",
   "metadata": {},
   "source": [
    "# Validation\n",
    "### Checking the relevance of Feature Engineering and correlation to remove unecessary variables and improve the accuracy\n",
    "\n",
    "The aim is to create a model to predict next headway with:\n",
    "* all variables\n",
    "* selected variables"
   ]
  },
  {
   "cell_type": "code",
   "execution_count": 30,
   "metadata": {},
   "outputs": [],
   "source": [
    "import pandas as pd\n",
    "import pandas_profiling\n",
    "import numpy as np\n",
    "import os\n",
    "from sklearn.model_selection import cross_val_score, train_test_split\n",
    "from sklearn.ensemble import RandomForestRegressor\n",
    "from sklearn.ensemble import RandomForestClassifier\n",
    "from sklearn.svm import SVR\n",
    "from sklearn.metrics import mean_squared_error\n",
    "from sklearn.metrics import accuracy_score\n",
    "from matplotlib import pyplot as plt\n",
    "import time"
   ]
  },
  {
   "cell_type": "code",
   "execution_count": 2,
   "metadata": {},
   "outputs": [],
   "source": [
    "# Choose the city of analysis\n",
    "\n",
    "city = 'Recife'\n",
    "# city = 'CG'\n",
    "# city = 'Curitiba'"
   ]
  },
  {
   "cell_type": "code",
   "execution_count": 37,
   "metadata": {},
   "outputs": [],
   "source": [
    "path = os.getcwd() + \"/../data/output/\" + city + \"/\"\n",
    "\n",
    "# All variables\n",
    "all_data = \"new_feats_data.csv\"\n",
    "integrated_data_path = path + all_data\n",
    "\n",
    "# Selected variables\n",
    "selected_data = \"selected_data.csv\"\n",
    "selected_data_path = path + selected_data"
   ]
  },
  {
   "cell_type": "code",
   "execution_count": 38,
   "metadata": {},
   "outputs": [],
   "source": [
    "# Reading data\n",
    "\n",
    "df_all_data = pd.read_csv(integrated_data_path)"
   ]
  },
  {
   "cell_type": "code",
   "execution_count": 39,
   "metadata": {},
   "outputs": [],
   "source": [
    "df_selected_data = pd.read_csv(integrated_data_path)"
   ]
  },
  {
   "cell_type": "code",
   "execution_count": 40,
   "metadata": {},
   "outputs": [],
   "source": [
    "rows_number = 3000\n",
    "\n",
    "df_all_data = df_all_data.loc[0:rows_number]\n",
    "df_selected_data = df_selected_data.loc[0:rows_number]"
   ]
  },
  {
   "cell_type": "markdown",
   "metadata": {},
   "source": [
    "### Converting NaN values\n",
    "\n",
    "Changing NaN by median or:\n",
    "- values of shape for gps"
   ]
  },
  {
   "cell_type": "code",
   "execution_count": 7,
   "metadata": {},
   "outputs": [
    {
     "data": {
      "text/plain": [
       "route                               False\n",
       "tripNum                             False\n",
       "shapeId                             False\n",
       "routeFrequency                      False\n",
       "shapeSequence                       False\n",
       "shapeLat                            False\n",
       "shapeLon                            False\n",
       "distanceTraveledShape               False\n",
       "busCode                             False\n",
       "gpsPointId                           True\n",
       "gpsLat                               True\n",
       "gpsLon                               True\n",
       "distanceToShapePoint                 True\n",
       "stopPointId                         False\n",
       "problem                             False\n",
       "precipitation                       False\n",
       "alertSubtype                        False\n",
       "alertType                           False\n",
       "alertRoadType                        True\n",
       "alertConfidence                      True\n",
       "alertNComments                       True\n",
       "alertNImages                         True\n",
       "alertNThumbsUp                       True\n",
       "alertReliability                     True\n",
       "alertReportMood                      True\n",
       "alertReportRating                    True\n",
       "alertSpeed                           True\n",
       "alertLatitude                        True\n",
       "alertLongitude                       True\n",
       "alertDistanceToClosestShapePoint     True\n",
       "alertIsJamUnifiedAlert              False\n",
       "alertInScale                        False\n",
       "jamBlockType                        False\n",
       "jamDelay                             True\n",
       "jamLength                            True\n",
       "jamLevel                             True\n",
       "jamSeverity                          True\n",
       "jamSpeedKM                           True\n",
       "jamDistanceToClosestShapePoint       True\n",
       "headway                             False\n",
       "headwayThreshold                    False\n",
       "busBunching                         False\n",
       "nextBusCode                         False\n",
       "GPShour                             False\n",
       "DAY(gps_datetime)                   False\n",
       "DAY(precipitationTime)              False\n",
       "DAY(alertDateTime)                   True\n",
       "DAY(jamUpdateDateTime)               True\n",
       "YEAR(gps_datetime)                  False\n",
       "YEAR(precipitationTime)             False\n",
       "YEAR(alertDateTime)                  True\n",
       "YEAR(jamUpdateDateTime)              True\n",
       "MONTH(gps_datetime)                 False\n",
       "MONTH(precipitationTime)            False\n",
       "MONTH(alertDateTime)                 True\n",
       "MONTH(jamUpdateDateTime)             True\n",
       "WEEKDAY(gps_datetime)               False\n",
       "WEEKDAY(precipitationTime)          False\n",
       "WEEKDAY(alertDateTime)               True\n",
       "WEEKDAY(jamUpdateDateTime)           True\n",
       "dtype: bool"
      ]
     },
     "execution_count": 7,
     "metadata": {},
     "output_type": "execute_result"
    }
   ],
   "source": [
    "df_all_data.isnull().any()"
   ]
  },
  {
   "cell_type": "code",
   "execution_count": 41,
   "metadata": {},
   "outputs": [],
   "source": [
    "# changing by shape data\n",
    "df_all_data.gpsPointId = np.where(df_all_data.gpsPointId.isnull(), 0, df_all_data.gpsPointId)\n",
    "df_all_data.gpsLat = np.where(df_all_data.gpsLat.isnull(), df_all_data.shapeLat, df_all_data.gpsLat)\n",
    "df_all_data.gpsLon = np.where(df_all_data.gpsLon.isnull(), df_all_data.shapeLon, df_all_data.gpsLon)\n",
    "df_all_data.distanceToShapePoint = np.where(df_all_data.distanceToShapePoint.isnull(), \n",
    "                                            0, df_all_data.distanceToShapePoint)\n"
   ]
  },
  {
   "cell_type": "code",
   "execution_count": 42,
   "metadata": {},
   "outputs": [
    {
     "data": {
      "text/html": [
       "<div>\n",
       "<style scoped>\n",
       "    .dataframe tbody tr th:only-of-type {\n",
       "        vertical-align: middle;\n",
       "    }\n",
       "\n",
       "    .dataframe tbody tr th {\n",
       "        vertical-align: top;\n",
       "    }\n",
       "\n",
       "    .dataframe thead th {\n",
       "        text-align: right;\n",
       "    }\n",
       "</style>\n",
       "<table border=\"1\" class=\"dataframe\">\n",
       "  <thead>\n",
       "    <tr style=\"text-align: right;\">\n",
       "      <th></th>\n",
       "      <th>route</th>\n",
       "      <th>tripNum</th>\n",
       "      <th>shapeId</th>\n",
       "      <th>routeFrequency</th>\n",
       "      <th>shapeSequence</th>\n",
       "      <th>shapeLat</th>\n",
       "      <th>shapeLon</th>\n",
       "      <th>distanceTraveledShape</th>\n",
       "      <th>busCode</th>\n",
       "      <th>gpsPointId</th>\n",
       "      <th>...</th>\n",
       "      <th>YEAR(alertDateTime)</th>\n",
       "      <th>YEAR(jamUpdateDateTime)</th>\n",
       "      <th>MONTH(gps_datetime)</th>\n",
       "      <th>MONTH(precipitationTime)</th>\n",
       "      <th>MONTH(alertDateTime)</th>\n",
       "      <th>MONTH(jamUpdateDateTime)</th>\n",
       "      <th>WEEKDAY(gps_datetime)</th>\n",
       "      <th>WEEKDAY(precipitationTime)</th>\n",
       "      <th>WEEKDAY(alertDateTime)</th>\n",
       "      <th>WEEKDAY(jamUpdateDateTime)</th>\n",
       "    </tr>\n",
       "  </thead>\n",
       "  <tbody>\n",
       "    <tr>\n",
       "      <th>0</th>\n",
       "      <td>96</td>\n",
       "      <td>1</td>\n",
       "      <td>Route_219</td>\n",
       "      <td>low_frequency</td>\n",
       "      <td>22857</td>\n",
       "      <td>-8.046589</td>\n",
       "      <td>-34.878125</td>\n",
       "      <td>3606.0</td>\n",
       "      <td>50661</td>\n",
       "      <td>0.0</td>\n",
       "      <td>...</td>\n",
       "      <td>2018.0</td>\n",
       "      <td>2018.0</td>\n",
       "      <td>12</td>\n",
       "      <td>12</td>\n",
       "      <td>12.0</td>\n",
       "      <td>12.0</td>\n",
       "      <td>2</td>\n",
       "      <td>2</td>\n",
       "      <td>2.0</td>\n",
       "      <td>2.0</td>\n",
       "    </tr>\n",
       "    <tr>\n",
       "      <th>1</th>\n",
       "      <td>96</td>\n",
       "      <td>1</td>\n",
       "      <td>Route_219</td>\n",
       "      <td>low_frequency</td>\n",
       "      <td>22857</td>\n",
       "      <td>-8.046589</td>\n",
       "      <td>-34.878125</td>\n",
       "      <td>3606.0</td>\n",
       "      <td>50671</td>\n",
       "      <td>409090.0</td>\n",
       "      <td>...</td>\n",
       "      <td>2018.0</td>\n",
       "      <td>2018.0</td>\n",
       "      <td>12</td>\n",
       "      <td>12</td>\n",
       "      <td>12.0</td>\n",
       "      <td>12.0</td>\n",
       "      <td>2</td>\n",
       "      <td>2</td>\n",
       "      <td>2.0</td>\n",
       "      <td>2.0</td>\n",
       "    </tr>\n",
       "    <tr>\n",
       "      <th>2</th>\n",
       "      <td>96</td>\n",
       "      <td>1</td>\n",
       "      <td>Route_219</td>\n",
       "      <td>low_frequency</td>\n",
       "      <td>22857</td>\n",
       "      <td>-8.046589</td>\n",
       "      <td>-34.878125</td>\n",
       "      <td>3606.0</td>\n",
       "      <td>50669</td>\n",
       "      <td>406112.0</td>\n",
       "      <td>...</td>\n",
       "      <td>2018.0</td>\n",
       "      <td>2018.0</td>\n",
       "      <td>12</td>\n",
       "      <td>12</td>\n",
       "      <td>12.0</td>\n",
       "      <td>12.0</td>\n",
       "      <td>2</td>\n",
       "      <td>2</td>\n",
       "      <td>2.0</td>\n",
       "      <td>2.0</td>\n",
       "    </tr>\n",
       "    <tr>\n",
       "      <th>3</th>\n",
       "      <td>96</td>\n",
       "      <td>1</td>\n",
       "      <td>Route_219</td>\n",
       "      <td>low_frequency</td>\n",
       "      <td>22857</td>\n",
       "      <td>-8.046589</td>\n",
       "      <td>-34.878125</td>\n",
       "      <td>3606.0</td>\n",
       "      <td>50662</td>\n",
       "      <td>0.0</td>\n",
       "      <td>...</td>\n",
       "      <td>2018.0</td>\n",
       "      <td>2018.0</td>\n",
       "      <td>12</td>\n",
       "      <td>12</td>\n",
       "      <td>12.0</td>\n",
       "      <td>12.0</td>\n",
       "      <td>2</td>\n",
       "      <td>2</td>\n",
       "      <td>2.0</td>\n",
       "      <td>2.0</td>\n",
       "    </tr>\n",
       "    <tr>\n",
       "      <th>4</th>\n",
       "      <td>96</td>\n",
       "      <td>1</td>\n",
       "      <td>Route_219</td>\n",
       "      <td>low_frequency</td>\n",
       "      <td>22857</td>\n",
       "      <td>-8.046589</td>\n",
       "      <td>-34.878125</td>\n",
       "      <td>3606.0</td>\n",
       "      <td>50663</td>\n",
       "      <td>0.0</td>\n",
       "      <td>...</td>\n",
       "      <td>2018.0</td>\n",
       "      <td>2018.0</td>\n",
       "      <td>12</td>\n",
       "      <td>12</td>\n",
       "      <td>12.0</td>\n",
       "      <td>12.0</td>\n",
       "      <td>2</td>\n",
       "      <td>2</td>\n",
       "      <td>2.0</td>\n",
       "      <td>2.0</td>\n",
       "    </tr>\n",
       "  </tbody>\n",
       "</table>\n",
       "<p>5 rows × 60 columns</p>\n",
       "</div>"
      ],
      "text/plain": [
       "   route  tripNum    shapeId routeFrequency  shapeSequence  shapeLat  \\\n",
       "0     96        1  Route_219  low_frequency          22857 -8.046589   \n",
       "1     96        1  Route_219  low_frequency          22857 -8.046589   \n",
       "2     96        1  Route_219  low_frequency          22857 -8.046589   \n",
       "3     96        1  Route_219  low_frequency          22857 -8.046589   \n",
       "4     96        1  Route_219  low_frequency          22857 -8.046589   \n",
       "\n",
       "    shapeLon  distanceTraveledShape  busCode  gpsPointId  ...  \\\n",
       "0 -34.878125                 3606.0    50661         0.0  ...   \n",
       "1 -34.878125                 3606.0    50671    409090.0  ...   \n",
       "2 -34.878125                 3606.0    50669    406112.0  ...   \n",
       "3 -34.878125                 3606.0    50662         0.0  ...   \n",
       "4 -34.878125                 3606.0    50663         0.0  ...   \n",
       "\n",
       "   YEAR(alertDateTime)  YEAR(jamUpdateDateTime)  MONTH(gps_datetime)  \\\n",
       "0               2018.0                   2018.0                   12   \n",
       "1               2018.0                   2018.0                   12   \n",
       "2               2018.0                   2018.0                   12   \n",
       "3               2018.0                   2018.0                   12   \n",
       "4               2018.0                   2018.0                   12   \n",
       "\n",
       "   MONTH(precipitationTime) MONTH(alertDateTime)  MONTH(jamUpdateDateTime)  \\\n",
       "0                        12                 12.0                      12.0   \n",
       "1                        12                 12.0                      12.0   \n",
       "2                        12                 12.0                      12.0   \n",
       "3                        12                 12.0                      12.0   \n",
       "4                        12                 12.0                      12.0   \n",
       "\n",
       "  WEEKDAY(gps_datetime) WEEKDAY(precipitationTime)  WEEKDAY(alertDateTime)  \\\n",
       "0                     2                          2                     2.0   \n",
       "1                     2                          2                     2.0   \n",
       "2                     2                          2                     2.0   \n",
       "3                     2                          2                     2.0   \n",
       "4                     2                          2                     2.0   \n",
       "\n",
       "   WEEKDAY(jamUpdateDateTime)  \n",
       "0                         2.0  \n",
       "1                         2.0  \n",
       "2                         2.0  \n",
       "3                         2.0  \n",
       "4                         2.0  \n",
       "\n",
       "[5 rows x 60 columns]"
      ]
     },
     "execution_count": 42,
     "metadata": {},
     "output_type": "execute_result"
    }
   ],
   "source": [
    "#grouping by weekday and filling NA's with the median of the column\n",
    "numeric_feats = df_all_data.dtypes[(df_all_data.dtypes != \"object\") & (df_all_data.dtypes != \"datetime64[ns]\")\n",
    "                               & (df_all_data.dtypes != \"bool\")].index\n",
    "df_all_data[numeric_feats] = df_all_data.groupby(['WEEKDAY(gps_datetime)'])[numeric_feats].transform(lambda x: x.fillna(x.median()))\n",
    "\n",
    "df_all_data.head(5)"
   ]
  },
  {
   "cell_type": "code",
   "execution_count": 10,
   "metadata": {},
   "outputs": [
    {
     "data": {
      "text/plain": [
       "route                               False\n",
       "tripNum                             False\n",
       "shapeId                             False\n",
       "routeFrequency                      False\n",
       "shapeSequence                       False\n",
       "shapeLat                            False\n",
       "shapeLon                            False\n",
       "distanceTraveledShape               False\n",
       "busCode                             False\n",
       "gpsPointId                          False\n",
       "gpsLat                              False\n",
       "gpsLon                              False\n",
       "distanceToShapePoint                False\n",
       "stopPointId                         False\n",
       "problem                             False\n",
       "precipitation                       False\n",
       "alertSubtype                        False\n",
       "alertType                           False\n",
       "alertRoadType                       False\n",
       "alertConfidence                     False\n",
       "alertNComments                      False\n",
       "alertNImages                        False\n",
       "alertNThumbsUp                      False\n",
       "alertReliability                    False\n",
       "alertReportMood                     False\n",
       "alertReportRating                   False\n",
       "alertSpeed                          False\n",
       "alertLatitude                       False\n",
       "alertLongitude                      False\n",
       "alertDistanceToClosestShapePoint    False\n",
       "alertIsJamUnifiedAlert              False\n",
       "alertInScale                        False\n",
       "jamBlockType                        False\n",
       "jamDelay                            False\n",
       "jamLength                           False\n",
       "jamLevel                            False\n",
       "jamSeverity                         False\n",
       "jamSpeedKM                          False\n",
       "jamDistanceToClosestShapePoint      False\n",
       "headway                             False\n",
       "headwayThreshold                    False\n",
       "busBunching                         False\n",
       "nextBusCode                         False\n",
       "GPShour                             False\n",
       "DAY(gps_datetime)                   False\n",
       "DAY(precipitationTime)              False\n",
       "DAY(alertDateTime)                  False\n",
       "DAY(jamUpdateDateTime)              False\n",
       "YEAR(gps_datetime)                  False\n",
       "YEAR(precipitationTime)             False\n",
       "YEAR(alertDateTime)                 False\n",
       "YEAR(jamUpdateDateTime)             False\n",
       "MONTH(gps_datetime)                 False\n",
       "MONTH(precipitationTime)            False\n",
       "MONTH(alertDateTime)                False\n",
       "MONTH(jamUpdateDateTime)            False\n",
       "WEEKDAY(gps_datetime)               False\n",
       "WEEKDAY(precipitationTime)          False\n",
       "WEEKDAY(alertDateTime)              False\n",
       "WEEKDAY(jamUpdateDateTime)          False\n",
       "dtype: bool"
      ]
     },
     "execution_count": 10,
     "metadata": {},
     "output_type": "execute_result"
    }
   ],
   "source": [
    "df_all_data.isnull().any()"
   ]
  },
  {
   "cell_type": "code",
   "execution_count": 11,
   "metadata": {},
   "outputs": [
    {
     "data": {
      "text/plain": [
       "route                                 int64\n",
       "tripNum                               int64\n",
       "shapeId                              object\n",
       "routeFrequency                       object\n",
       "shapeSequence                         int64\n",
       "shapeLat                            float64\n",
       "shapeLon                            float64\n",
       "distanceTraveledShape               float64\n",
       "busCode                               int64\n",
       "gpsPointId                          float64\n",
       "gpsLat                              float64\n",
       "gpsLon                              float64\n",
       "distanceToShapePoint                float64\n",
       "stopPointId                           int64\n",
       "problem                              object\n",
       "precipitation                       float64\n",
       "alertSubtype                         object\n",
       "alertType                            object\n",
       "alertRoadType                       float64\n",
       "alertConfidence                     float64\n",
       "alertNComments                      float64\n",
       "alertNImages                        float64\n",
       "alertNThumbsUp                      float64\n",
       "alertReliability                    float64\n",
       "alertReportMood                     float64\n",
       "alertReportRating                   float64\n",
       "alertSpeed                          float64\n",
       "alertLatitude                       float64\n",
       "alertLongitude                      float64\n",
       "alertDistanceToClosestShapePoint    float64\n",
       "alertIsJamUnifiedAlert                 bool\n",
       "alertInScale                           bool\n",
       "jamBlockType                         object\n",
       "jamDelay                            float64\n",
       "jamLength                           float64\n",
       "jamLevel                            float64\n",
       "jamSeverity                         float64\n",
       "jamSpeedKM                          float64\n",
       "jamDistanceToClosestShapePoint      float64\n",
       "headway                               int64\n",
       "headwayThreshold                      int64\n",
       "busBunching                            bool\n",
       "nextBusCode                           int64\n",
       "GPShour                               int64\n",
       "DAY(gps_datetime)                     int64\n",
       "DAY(precipitationTime)                int64\n",
       "DAY(alertDateTime)                  float64\n",
       "DAY(jamUpdateDateTime)              float64\n",
       "YEAR(gps_datetime)                    int64\n",
       "YEAR(precipitationTime)               int64\n",
       "YEAR(alertDateTime)                 float64\n",
       "YEAR(jamUpdateDateTime)             float64\n",
       "MONTH(gps_datetime)                   int64\n",
       "MONTH(precipitationTime)              int64\n",
       "MONTH(alertDateTime)                float64\n",
       "MONTH(jamUpdateDateTime)            float64\n",
       "WEEKDAY(gps_datetime)                 int64\n",
       "WEEKDAY(precipitationTime)            int64\n",
       "WEEKDAY(alertDateTime)              float64\n",
       "WEEKDAY(jamUpdateDateTime)          float64\n",
       "dtype: object"
      ]
     },
     "execution_count": 11,
     "metadata": {},
     "output_type": "execute_result"
    }
   ],
   "source": [
    "df_all_data.dtypes"
   ]
  },
  {
   "cell_type": "code",
   "execution_count": 43,
   "metadata": {},
   "outputs": [],
   "source": [
    "# Converting bool to float\n",
    "df_all_data.alertIsJamUnifiedAlert = df_all_data.alertIsJamUnifiedAlert.astype(np.float64)\n",
    "df_all_data.alertInScale = df_all_data.alertInScale.astype(np.float64)\n",
    "df_all_data.busBunching = df_all_data.busBunching.astype(np.float64)"
   ]
  },
  {
   "cell_type": "markdown",
   "metadata": {},
   "source": [
    "### Converting categorical variables"
   ]
  },
  {
   "cell_type": "code",
   "execution_count": 44,
   "metadata": {},
   "outputs": [
    {
     "data": {
      "text/html": [
       "<div>\n",
       "<style scoped>\n",
       "    .dataframe tbody tr th:only-of-type {\n",
       "        vertical-align: middle;\n",
       "    }\n",
       "\n",
       "    .dataframe tbody tr th {\n",
       "        vertical-align: top;\n",
       "    }\n",
       "\n",
       "    .dataframe thead th {\n",
       "        text-align: right;\n",
       "    }\n",
       "</style>\n",
       "<table border=\"1\" class=\"dataframe\">\n",
       "  <thead>\n",
       "    <tr style=\"text-align: right;\">\n",
       "      <th></th>\n",
       "      <th>route</th>\n",
       "      <th>tripNum</th>\n",
       "      <th>shapeSequence</th>\n",
       "      <th>shapeLat</th>\n",
       "      <th>shapeLon</th>\n",
       "      <th>distanceTraveledShape</th>\n",
       "      <th>busCode</th>\n",
       "      <th>gpsPointId</th>\n",
       "      <th>gpsLat</th>\n",
       "      <th>gpsLon</th>\n",
       "      <th>...</th>\n",
       "      <th>alertSubtype_JAM_MODERATE_TRAFFIC</th>\n",
       "      <th>alertSubtype_JAM_STAND_STILL_TRAFFIC</th>\n",
       "      <th>alertSubtype_POLICE_HIDING</th>\n",
       "      <th>alertSubtype_POLICE_VISIBLE</th>\n",
       "      <th>alertType_-</th>\n",
       "      <th>alertType_ACCIDENT</th>\n",
       "      <th>alertType_HAZARD</th>\n",
       "      <th>alertType_JAM</th>\n",
       "      <th>alertType_POLICE</th>\n",
       "      <th>jamBlockType_-</th>\n",
       "    </tr>\n",
       "  </thead>\n",
       "  <tbody>\n",
       "    <tr>\n",
       "      <th>0</th>\n",
       "      <td>96</td>\n",
       "      <td>1</td>\n",
       "      <td>22857</td>\n",
       "      <td>-8.046589</td>\n",
       "      <td>-34.878125</td>\n",
       "      <td>3606.0</td>\n",
       "      <td>50661</td>\n",
       "      <td>0.0</td>\n",
       "      <td>-8.046589</td>\n",
       "      <td>-34.878125</td>\n",
       "      <td>...</td>\n",
       "      <td>0</td>\n",
       "      <td>0</td>\n",
       "      <td>0</td>\n",
       "      <td>0</td>\n",
       "      <td>0</td>\n",
       "      <td>0</td>\n",
       "      <td>1</td>\n",
       "      <td>0</td>\n",
       "      <td>0</td>\n",
       "      <td>1</td>\n",
       "    </tr>\n",
       "    <tr>\n",
       "      <th>1</th>\n",
       "      <td>96</td>\n",
       "      <td>1</td>\n",
       "      <td>22857</td>\n",
       "      <td>-8.046589</td>\n",
       "      <td>-34.878125</td>\n",
       "      <td>3606.0</td>\n",
       "      <td>50671</td>\n",
       "      <td>409090.0</td>\n",
       "      <td>-8.046559</td>\n",
       "      <td>-34.878171</td>\n",
       "      <td>...</td>\n",
       "      <td>0</td>\n",
       "      <td>0</td>\n",
       "      <td>0</td>\n",
       "      <td>0</td>\n",
       "      <td>0</td>\n",
       "      <td>0</td>\n",
       "      <td>1</td>\n",
       "      <td>0</td>\n",
       "      <td>0</td>\n",
       "      <td>1</td>\n",
       "    </tr>\n",
       "    <tr>\n",
       "      <th>2</th>\n",
       "      <td>96</td>\n",
       "      <td>1</td>\n",
       "      <td>22857</td>\n",
       "      <td>-8.046589</td>\n",
       "      <td>-34.878125</td>\n",
       "      <td>3606.0</td>\n",
       "      <td>50669</td>\n",
       "      <td>406112.0</td>\n",
       "      <td>-8.046468</td>\n",
       "      <td>-34.878234</td>\n",
       "      <td>...</td>\n",
       "      <td>0</td>\n",
       "      <td>0</td>\n",
       "      <td>0</td>\n",
       "      <td>0</td>\n",
       "      <td>0</td>\n",
       "      <td>0</td>\n",
       "      <td>1</td>\n",
       "      <td>0</td>\n",
       "      <td>0</td>\n",
       "      <td>1</td>\n",
       "    </tr>\n",
       "    <tr>\n",
       "      <th>3</th>\n",
       "      <td>96</td>\n",
       "      <td>1</td>\n",
       "      <td>22857</td>\n",
       "      <td>-8.046589</td>\n",
       "      <td>-34.878125</td>\n",
       "      <td>3606.0</td>\n",
       "      <td>50662</td>\n",
       "      <td>0.0</td>\n",
       "      <td>-8.046589</td>\n",
       "      <td>-34.878125</td>\n",
       "      <td>...</td>\n",
       "      <td>0</td>\n",
       "      <td>0</td>\n",
       "      <td>0</td>\n",
       "      <td>0</td>\n",
       "      <td>0</td>\n",
       "      <td>0</td>\n",
       "      <td>1</td>\n",
       "      <td>0</td>\n",
       "      <td>0</td>\n",
       "      <td>1</td>\n",
       "    </tr>\n",
       "    <tr>\n",
       "      <th>4</th>\n",
       "      <td>96</td>\n",
       "      <td>1</td>\n",
       "      <td>22857</td>\n",
       "      <td>-8.046589</td>\n",
       "      <td>-34.878125</td>\n",
       "      <td>3606.0</td>\n",
       "      <td>50663</td>\n",
       "      <td>0.0</td>\n",
       "      <td>-8.046589</td>\n",
       "      <td>-34.878125</td>\n",
       "      <td>...</td>\n",
       "      <td>0</td>\n",
       "      <td>0</td>\n",
       "      <td>0</td>\n",
       "      <td>0</td>\n",
       "      <td>0</td>\n",
       "      <td>0</td>\n",
       "      <td>1</td>\n",
       "      <td>0</td>\n",
       "      <td>0</td>\n",
       "      <td>1</td>\n",
       "    </tr>\n",
       "  </tbody>\n",
       "</table>\n",
       "<p>5 rows × 158 columns</p>\n",
       "</div>"
      ],
      "text/plain": [
       "   route  tripNum  shapeSequence  shapeLat   shapeLon  distanceTraveledShape  \\\n",
       "0     96        1          22857 -8.046589 -34.878125                 3606.0   \n",
       "1     96        1          22857 -8.046589 -34.878125                 3606.0   \n",
       "2     96        1          22857 -8.046589 -34.878125                 3606.0   \n",
       "3     96        1          22857 -8.046589 -34.878125                 3606.0   \n",
       "4     96        1          22857 -8.046589 -34.878125                 3606.0   \n",
       "\n",
       "   busCode  gpsPointId    gpsLat     gpsLon  ...  \\\n",
       "0    50661         0.0 -8.046589 -34.878125  ...   \n",
       "1    50671    409090.0 -8.046559 -34.878171  ...   \n",
       "2    50669    406112.0 -8.046468 -34.878234  ...   \n",
       "3    50662         0.0 -8.046589 -34.878125  ...   \n",
       "4    50663         0.0 -8.046589 -34.878125  ...   \n",
       "\n",
       "   alertSubtype_JAM_MODERATE_TRAFFIC  alertSubtype_JAM_STAND_STILL_TRAFFIC  \\\n",
       "0                                  0                                     0   \n",
       "1                                  0                                     0   \n",
       "2                                  0                                     0   \n",
       "3                                  0                                     0   \n",
       "4                                  0                                     0   \n",
       "\n",
       "   alertSubtype_POLICE_HIDING  alertSubtype_POLICE_VISIBLE  alertType_-  \\\n",
       "0                           0                            0            0   \n",
       "1                           0                            0            0   \n",
       "2                           0                            0            0   \n",
       "3                           0                            0            0   \n",
       "4                           0                            0            0   \n",
       "\n",
       "   alertType_ACCIDENT  alertType_HAZARD  alertType_JAM  alertType_POLICE  \\\n",
       "0                   0                 1              0                 0   \n",
       "1                   0                 1              0                 0   \n",
       "2                   0                 1              0                 0   \n",
       "3                   0                 1              0                 0   \n",
       "4                   0                 1              0                 0   \n",
       "\n",
       "   jamBlockType_-  \n",
       "0               1  \n",
       "1               1  \n",
       "2               1  \n",
       "3               1  \n",
       "4               1  \n",
       "\n",
       "[5 rows x 158 columns]"
      ]
     },
     "execution_count": 44,
     "metadata": {},
     "output_type": "execute_result"
    }
   ],
   "source": [
    "df_all_data = pd.get_dummies(df_all_data)\n",
    "df_all_data.head()"
   ]
  },
  {
   "cell_type": "code",
   "execution_count": 14,
   "metadata": {},
   "outputs": [],
   "source": [
    "# Descriptive statistics\n",
    "profile = pandas_profiling.ProfileReport(df_all_data, check_correlation=True, correlation_threshold=0.5)"
   ]
  },
  {
   "cell_type": "code",
   "execution_count": 15,
   "metadata": {},
   "outputs": [],
   "source": [
    "profile.to_file(outputfile=integrated_data_path + \"output_after_fe_profile.html\")"
   ]
  },
  {
   "cell_type": "markdown",
   "metadata": {},
   "source": [
    "## Model with all variables"
   ]
  },
  {
   "cell_type": "code",
   "execution_count": 45,
   "metadata": {},
   "outputs": [
    {
     "name": "stderr",
     "output_type": "stream",
     "text": [
      "/home/veruska/.local/lib/python3.6/site-packages/pandas/core/frame.py:3940: SettingWithCopyWarning: \n",
      "A value is trying to be set on a copy of a slice from a DataFrame\n",
      "\n",
      "See the caveats in the documentation: http://pandas.pydata.org/pandas-docs/stable/indexing.html#indexing-view-versus-copy\n",
      "  errors=errors)\n"
     ]
    }
   ],
   "source": [
    "# y = df_all_data.drop('busBunching', axis=1) # with classifier produce error: asking to convert to float (doesn't make sense, it's a class)\n",
    "y = df_all_data['headway']\n",
    "df_all_data.drop('headway', axis=1, inplace=True)\n",
    "\n",
    "X = df_all_data\n",
    "\n",
    "X_train_all, X_test_all, y_train_all, y_test_all = train_test_split(X, y, test_size=0.5)\n",
    "\n",
    "headway_busBunching_test = X_test_all[['headwayThreshold', 'busBunching']]\n",
    "X_test_all.drop('busBunching', axis=1, inplace=True)\n",
    "X_train_all.drop('busBunching', axis=1, inplace=True)"
   ]
  },
  {
   "cell_type": "markdown",
   "metadata": {},
   "source": [
    "#### Modelo RF (Random Forest)\n",
    "Random Forest é um algoritmo que ajusta várias árvores de decisão de classificação em várias subamostras do conjunto de dados e usa a média para melhorar a precisão preditiva e controlar o ajuste excessivo. A quantidade de árvores (n_estimators) é um parâmetro, cujo valor, deve ser encontrado, para que o modelo melhor represente os dados."
   ]
  },
  {
   "cell_type": "code",
   "execution_count": 59,
   "metadata": {},
   "outputs": [],
   "source": [
    "# function to train the model and to calculate the RMSE with cross validation\n",
    "def rmse_cv(model, X_train, y_train):\n",
    "    rmse = np.sqrt(-cross_val_score(model, X_train, y_train, scoring = \"neg_mean_squared_error\", cv = 10))\n",
    "    return(rmse)\n",
    "\n",
    "# function to print the coefficients of the model\n",
    "def print_coefficients(model):\n",
    "    w = list(model.coef_)\n",
    "    # Parameters must be in reverse order because the poly function \n",
    "    w.reverse()\n",
    "    print (np.poly1d(w) + model.intercept_)\n",
    "\n",
    "# function to train the model and to return the score\n",
    "def train_model(model, X_train, y_train, X_test, y_test, print_coef):\n",
    "    start_time = time.time()\n",
    "\n",
    "    model.fit(X_train, y_train)\n",
    "#     if (print_coef):\n",
    "#         print_coefficients(model)\n",
    "    \n",
    "    score = model.score(X_test, y_test) #how well our model is\n",
    "    y_predict = model.predict(X_test)\n",
    "    execution_time = time.time() - start_time\n",
    "    return score, execution_time, y_predict\n",
    "\n",
    "# function to plot the RMSE vs parameter value\n",
    "def plot_rmse_param(series, param_name):\n",
    "    series.plot(title = \"Validation Error vs \" + param_name)\n",
    "    plt.xlabel(param_name)\n",
    "    plt.ylabel(\"RMSE\")\n",
    "    \n",
    "# function to get the best RMSE and the best parameter value of the model\n",
    "def best_rmse_param(series):\n",
    "    best_rmse = series.min()\n",
    "    best_param = series.idxmin() \n",
    "    \n",
    "    return(best_rmse, best_param)\n",
    "\n",
    "def get_accuracy(y_predicted, y_real):\n",
    "    y_real['predictedBusBunching'] = y_real['headwayThreshold'].ge(y_predicted, axis=0).astype(np.float64)\n",
    "    \n",
    "    accuracy = accuracy_score(y_real['busBunching'], y_real['predictedBusBunching']) #y_true, y_pred\n",
    "                                              \n",
    "    return accuracy"
   ]
  },
  {
   "cell_type": "code",
   "execution_count": 47,
   "metadata": {},
   "outputs": [
    {
     "data": {
      "image/png": "[encoded data removed]",
      "text/plain": [
       "<Figure size 800x550 with 1 Axes>"
      ]
     },
     "metadata": {},
     "output_type": "display_data"
    }
   ],
   "source": [
    "n_estimators = [1, 10, 50, 100]\n",
    "cv_rf_rmse = [rmse_cv(RandomForestRegressor(n_estimators = n), X_train_all, y_train_all).mean() \n",
    "            for n in n_estimators]\n",
    "\n",
    "series = pd.Series(cv_rf_rmse, index = n_estimators)\n",
    "plot_rmse_param(series, \"n_estimators\")"
   ]
  },
  {
   "cell_type": "code",
   "execution_count": 48,
   "metadata": {
    "scrolled": true
   },
   "outputs": [],
   "source": [
    "best_rmse_rf, best_param_rf = best_rmse_param(series)\n",
    "\n",
    "model_rf = RandomForestRegressor(n_estimators = best_param_rf)\n",
    "score_rf, exec_time_all, y_predict = train_model(model_rf, X_train_all, y_train_all, X_test_all, y_test_all, \n",
    "                                      False)"
   ]
  },
  {
   "cell_type": "code",
   "execution_count": 60,
   "metadata": {},
   "outputs": [
    {
     "name": "stderr",
     "output_type": "stream",
     "text": [
      "/home/veruska/.local/lib/python3.6/site-packages/ipykernel_launcher.py:40: SettingWithCopyWarning: \n",
      "A value is trying to be set on a copy of a slice from a DataFrame.\n",
      "Try using .loc[row_indexer,col_indexer] = value instead\n",
      "\n",
      "See the caveats in the documentation: http://pandas.pydata.org/pandas-docs/stable/indexing.html#indexing-view-versus-copy\n"
     ]
    }
   ],
   "source": [
    "accuracy_rf = get_accuracy(y_predict, headway_busBunching_test)"
   ]
  },
  {
   "cell_type": "code",
   "execution_count": null,
   "metadata": {},
   "outputs": [],
   "source": [
    "# Support Vector Regressor Model - it takes to long to execute\n",
    "\n",
    "# cs = [0.01, 1, 5, 10, 25, 50]\n",
    "# cv_svr_rmse = [rmse_cv(SVR(C = c), X_train_all, y_train_all).mean() \n",
    "#             for c in cs]\n",
    "\n",
    "# series_svr = pd.Series(cv_svr_rmse, index = cs)\n",
    "# plot_rmse_param(series_svr, \"C\")"
   ]
  },
  {
   "cell_type": "code",
   "execution_count": null,
   "metadata": {},
   "outputs": [],
   "source": [
    "# best_rmse_svr_all, best_param_svr_all = best_rmse_param(series_svr)\n",
    "\n",
    "# model_svr_all = SVR(C = best_rmse_svr_all)\n",
    "# score_svr_all, exec_time_svr_all = train_model(model_svr_all, False)"
   ]
  },
  {
   "cell_type": "markdown",
   "metadata": {},
   "source": [
    "Rodar paralelo\n",
    "\n",
    "Alterar para acurácia: pegar a saída e calcular com a coluna bb\n",
    "\n",
    "Tentar justificar com acurácia (parece estabilizar), tempo de execução e explicabilidade \n",
    "\n",
    "Usar regressão (reduzir dimensionalidade) -> é linear (RF foi aleatório) ou outros modelos"
   ]
  },
  {
   "cell_type": "markdown",
   "metadata": {},
   "source": [
    "## Model with less (13) variables"
   ]
  },
  {
   "cell_type": "markdown",
   "metadata": {},
   "source": [
    "- Todas as variáveis de dia, mês e ano - data do gps é suficiente\n",
    "- alertInScale - alertIsJamUnifiedAlert é suficiente\n",
    "- alertLat e alertLon - localização do gps é suficiente\n",
    "- alertNThumbsUp e alertReliability - alertConfidence é suficiente\n",
    "- jamDelay e jamLenght - jamSeverity é suficiente"
   ]
  },
  {
   "cell_type": "code",
   "execution_count": 62,
   "metadata": {},
   "outputs": [],
   "source": [
    "df_selected_data.drop(['DAY(alertDateTime)', 'DAY(jamUpdateDateTime)', 'MONTH(alertDateTime)', \n",
    "                       'MONTH(jamUpdateDateTime)', 'YEAR(alertDateTime)', 'YEAR(jamUpdateDateTime)',\n",
    "                      'alertInScale', 'alertLatitude', 'alertLongitude', 'alertNThumbsUp',\n",
    "                      'alertReliability', 'jamDelay', 'jamLength'], axis=1, inplace=True)"
   ]
  },
  {
   "cell_type": "code",
   "execution_count": 63,
   "metadata": {},
   "outputs": [],
   "source": [
    "# changing by shape data\n",
    "df_selected_data.gpsPointId = np.where(df_selected_data.gpsPointId.isnull(), 0, \n",
    "                                       df_selected_data.gpsPointId)\n",
    "df_selected_data.gpsLat = np.where(df_selected_data.gpsLat.isnull(), df_selected_data.shapeLat,\n",
    "                                   df_selected_data.gpsLat)\n",
    "df_selected_data.gpsLon = np.where(df_selected_data.gpsLon.isnull(), df_selected_data.shapeLon, \n",
    "                                   df_selected_data.gpsLon)\n",
    "df_selected_data.distanceToShapePoint = np.where(df_selected_data.distanceToShapePoint.isnull(), \n",
    "                                            0, df_selected_data.distanceToShapePoint)\n"
   ]
  },
  {
   "cell_type": "code",
   "execution_count": 64,
   "metadata": {},
   "outputs": [],
   "source": [
    "#grouping by weekday and filling NA's with the median of the column\n",
    "numeric_feats = df_selected_data.dtypes[(df_selected_data.dtypes != \"object\") & \n",
    "                                        (df_selected_data.dtypes != \"datetime64[ns]\")\n",
    "                               & (df_selected_data.dtypes != \"bool\")].index\n",
    "df_selected_data[numeric_feats] = df_selected_data.groupby(['WEEKDAY(gps_datetime)'])[numeric_feats].transform(lambda x: x.fillna(x.median()))"
   ]
  },
  {
   "cell_type": "code",
   "execution_count": 65,
   "metadata": {},
   "outputs": [],
   "source": [
    "# Converting bool to float\n",
    "df_selected_data.alertIsJamUnifiedAlert = df_selected_data.alertIsJamUnifiedAlert.astype(np.float64)\n",
    "df_selected_data.busBunching = df_selected_data.busBunching.astype(np.float64)"
   ]
  },
  {
   "cell_type": "code",
   "execution_count": 66,
   "metadata": {},
   "outputs": [],
   "source": [
    "# Converting categorical variable\n",
    "\n",
    "df_selected_data = pd.get_dummies(df_selected_data)"
   ]
  },
  {
   "cell_type": "code",
   "execution_count": 67,
   "metadata": {},
   "outputs": [
    {
     "name": "stderr",
     "output_type": "stream",
     "text": [
      "/home/veruska/.local/lib/python3.6/site-packages/pandas/core/frame.py:3940: SettingWithCopyWarning: \n",
      "A value is trying to be set on a copy of a slice from a DataFrame\n",
      "\n",
      "See the caveats in the documentation: http://pandas.pydata.org/pandas-docs/stable/indexing.html#indexing-view-versus-copy\n",
      "  errors=errors)\n"
     ]
    }
   ],
   "source": [
    "# y = df_all_data.drop('busBunching', axis=1) # with classifier produce error\n",
    "y_sel = df_selected_data['headway']\n",
    "df_selected_data.drop('headway', axis=1, inplace=True)\n",
    "\n",
    "X_sel = df_selected_data\n",
    "\n",
    "X_train_sel, X_test_sel, y_train_sel, y_test_sel = train_test_split(X_sel, y_sel, test_size=0.5)\n",
    "\n",
    "headway_busBunching_test_sel = X_test_sel[['headwayThreshold', 'busBunching']]\n",
    "X_test_sel.drop('busBunching', axis=1, inplace=True)\n",
    "X_train_sel.drop('busBunching', axis=1, inplace=True)"
   ]
  },
  {
   "cell_type": "code",
   "execution_count": 68,
   "metadata": {},
   "outputs": [
    {
     "data": {
      "image/png": "[encoded data removed]",
      "text/plain": [
       "<Figure size 800x550 with 1 Axes>"
      ]
     },
     "metadata": {},
     "output_type": "display_data"
    }
   ],
   "source": [
    "n_estimators = [1, 10, 50, 100]\n",
    "cv_rf_rmse = [rmse_cv(RandomForestRegressor(n_estimators = n), X_train_sel, y_train_sel).mean() \n",
    "            for n in n_estimators]\n",
    "\n",
    "series = pd.Series(cv_rf_rmse, index = n_estimators)\n",
    "plot_rmse_param(series, \"n_estimators\")"
   ]
  },
  {
   "cell_type": "code",
   "execution_count": 69,
   "metadata": {},
   "outputs": [],
   "source": [
    "best_rmse_rf_sel, best_param_rf_sel = best_rmse_param(series)\n",
    "\n",
    "model_rf_sel = RandomForestRegressor(n_estimators = best_param_rf_sel)\n",
    "score_rf_sel, exec_time_sel, y_predict_sel = train_model(model_rf_sel, X_train_sel, y_train_sel, X_test_sel, y_test_sel, False)"
   ]
  },
  {
   "cell_type": "code",
   "execution_count": 70,
   "metadata": {},
   "outputs": [
    {
     "name": "stderr",
     "output_type": "stream",
     "text": [
      "/home/veruska/.local/lib/python3.6/site-packages/ipykernel_launcher.py:40: SettingWithCopyWarning: \n",
      "A value is trying to be set on a copy of a slice from a DataFrame.\n",
      "Try using .loc[row_indexer,col_indexer] = value instead\n",
      "\n",
      "See the caveats in the documentation: http://pandas.pydata.org/pandas-docs/stable/indexing.html#indexing-view-versus-copy\n"
     ]
    }
   ],
   "source": [
    "accuracy_rf_sel = get_accuracy(y_predict_sel, headway_busBunching_test_sel)"
   ]
  },
  {
   "cell_type": "code",
   "execution_count": null,
   "metadata": {},
   "outputs": [],
   "source": [
    "# cs = [0.01, 1, 5, 10, 25, 50]\n",
    "# cv_svr_rmse = [rmse_cv(SVR(C = c), X_train_sel, y_train_sel).mean() \n",
    "#             for c in cs]\n",
    "\n",
    "# series_svr = pd.Series(cv_svr_rmse, index = cs)\n",
    "# plot_rmse_param(series_svr, \"C\")"
   ]
  },
  {
   "cell_type": "code",
   "execution_count": null,
   "metadata": {},
   "outputs": [],
   "source": [
    "# best_rmse_svr_sel, best_param_svr_sel = best_rmse_param(series_svr)\n",
    "\n",
    "# model_svr_sel = SVR(C = best_param_svr_sel)\n",
    "# score_svr_sel, exec_time_sel_svr = train_model(model_svr_sel, False)"
   ]
  },
  {
   "cell_type": "markdown",
   "metadata": {},
   "source": [
    "## Results"
   ]
  },
  {
   "cell_type": "markdown",
   "metadata": {},
   "source": [
    "Execution just with Random Forest because is more efficient with good accuracy."
   ]
  },
  {
   "cell_type": "code",
   "execution_count": 73,
   "metadata": {},
   "outputs": [
    {
     "name": "stdout",
     "output_type": "stream",
     "text": [
      "Data: 3000 rows\n",
      "Random Forest Model - All Variables: \n",
      "Estimators = 100 \n",
      "RMSE = 32.47772501768917 \n",
      "Accuracy = 0.8900732844770153 \n",
      "R2 = 0.6292350368035508 \n",
      "Execution time = 2.2685561180114746 \n",
      "\n",
      "Random Forest Model - Less Variables: \n",
      "Estimators = 50 \n",
      "RMSE = 36.95506700527589 \n",
      "Accuracy = 0.9000666222518321 \n",
      "R2 = 0.5964226784568878 \n",
      "Execution time = 1.0167832374572754 \n",
      "\n"
     ]
    }
   ],
   "source": [
    "print(\"Data: %s rows\" % rows_number)\n",
    "print(\"Random Forest Model - All Variables: \\nEstimators = %s \\nRMSE = %s \\nAccuracy = %s \\nR2 = %s \\nExecution time = %s \\n\" % \n",
    "      (best_param_rf, best_rmse_rf, accuracy_rf, score_rf, exec_time_all))\n",
    "print(\"Random Forest Model - Less Variables: \\nEstimators = %s \\nRMSE = %s \\nAccuracy = %s \\nR2 = %s \\nExecution time = %s \\n\" % \n",
    "      (best_param_rf_sel, best_rmse_rf_sel, accuracy_rf_sel, score_rf_sel, exec_time_sel))\n",
    "\n",
    "# print(\"SVR Model - All Variables: \\nEstimators = %s \\nRMSE = %s \\nR2 = %s \\nExecution time = %s \\n\" % \n",
    "#       (best_param_svr, best_rmse_svr, score_svr, exec_time_svr_all))\n",
    "# print(\"SVR Model - Less Variables: \\nEstimators = %s \\nRMSE = %s \\nR2 = %s \\nExecution time = %s \\n\" % \n",
    "#       (best_param_svr_sel, best_rmse_svr_sel, score_svr_sel, exec_time_svr_sel))\n"
   ]
  }
 ],
 "metadata": {
  "kernelspec": {
   "display_name": "Python 3",
   "language": "python",
   "name": "python3"
  },
  "language_info": {
   "codemirror_mode": {
    "name": "ipython",
    "version": 3
   },
   "file_extension": ".py",
   "mimetype": "text/x-python",
   "name": "python",
   "nbconvert_exporter": "python",
   "pygments_lexer": "ipython3",
   "version": "3.6.7"
  }
 },
 "nbformat": 4,
 "nbformat_minor": 2
}
