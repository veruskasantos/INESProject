{
 "cells": [
  {
   "cell_type": "markdown",
   "metadata": {},
   "source": [
    "# Validation\n",
    "### Checking the relevance of Feature Engineering and correlation to remove unecessary variables and improve the accuracy\n",
    "\n",
    "The aim is to create a model to predict next headway with:\n",
    "* all variables\n",
    "* selected variables"
   ]
  },
  {
   "cell_type": "code",
   "execution_count": 55,
   "metadata": {},
   "outputs": [],
   "source": [
    "import pandas as pd\n",
    "import pandas_profiling\n",
    "import numpy as np\n",
    "import os\n",
    "from sklearn.model_selection import cross_val_score, train_test_split\n",
    "from sklearn.ensemble import RandomForestRegressor\n",
    "from sklearn.ensemble import RandomForestClassifier\n",
    "from sklearn.svm import SVR\n",
    "from sklearn.metrics import mean_squared_error\n",
    "from matplotlib import pyplot as plt\n",
    "import time"
   ]
  },
  {
   "cell_type": "code",
   "execution_count": 5,
   "metadata": {},
   "outputs": [],
   "source": [
    "# Choose the city of analysis\n",
    "\n",
    "city = 'Recife'\n",
    "# city = 'CG'\n",
    "# city = 'Curitiba'"
   ]
  },
  {
   "cell_type": "code",
   "execution_count": 6,
   "metadata": {},
   "outputs": [],
   "source": [
    "path = os.getcwd() + \"/../data/output/\" + city + \"/\"\n",
    "\n",
    "# All variables\n",
    "all_data = \"new_feats_data.csv\"\n",
    "integrated_data_path = path + all_data\n",
    "\n",
    "# Selected variables\n",
    "selected_data = \"selected_data.csv\"\n",
    "selected_data_path = path + selected_data"
   ]
  },
  {
   "cell_type": "code",
   "execution_count": 30,
   "metadata": {},
   "outputs": [],
   "source": [
    "# Reading data\n",
    "\n",
    "df_all_data = pd.read_csv(integrated_data_path)"
   ]
  },
  {
   "cell_type": "code",
   "execution_count": 31,
   "metadata": {},
   "outputs": [],
   "source": [
    "df_selected_data = pd.read_csv(integrated_data_path)"
   ]
  },
  {
   "cell_type": "code",
   "execution_count": 32,
   "metadata": {},
   "outputs": [],
   "source": [
    "rows_number = 50000\n",
    "\n",
    "df_all_data = df_all_data.loc[0:rows_number]\n",
    "df_selected_data = df_selected_data.loc[0:rows_number]"
   ]
  },
  {
   "cell_type": "markdown",
   "metadata": {},
   "source": [
    "### Converting NaN values\n",
    "\n",
    "Changing NaN by median or:\n",
    "- values of shape for gps"
   ]
  },
  {
   "cell_type": "code",
   "execution_count": 10,
   "metadata": {},
   "outputs": [
    {
     "data": {
      "text/plain": [
       "route                               False\n",
       "tripNum                             False\n",
       "shapeId                             False\n",
       "routeFrequency                      False\n",
       "shapeSequence                       False\n",
       "shapeLat                            False\n",
       "shapeLon                            False\n",
       "distanceTraveledShape               False\n",
       "busCode                             False\n",
       "gpsPointId                           True\n",
       "gpsLat                               True\n",
       "gpsLon                               True\n",
       "distanceToShapePoint                 True\n",
       "stopPointId                         False\n",
       "problem                             False\n",
       "alertSubtype                        False\n",
       "alertType                           False\n",
       "alertRoadType                        True\n",
       "alertConfidence                      True\n",
       "alertNComments                       True\n",
       "alertNImages                         True\n",
       "alertNThumbsUp                       True\n",
       "alertReliability                     True\n",
       "alertReportMood                      True\n",
       "alertReportRating                    True\n",
       "alertSpeed                           True\n",
       "alertLatitude                        True\n",
       "alertLongitude                       True\n",
       "alertDistanceToClosestShapePoint     True\n",
       "alertIsJamUnifiedAlert              False\n",
       "alertInScale                        False\n",
       "jamBlockType                        False\n",
       "jamDelay                             True\n",
       "jamLength                            True\n",
       "jamLevel                             True\n",
       "jamSeverity                          True\n",
       "jamSpeedKM                           True\n",
       "jamDistanceToClosestShapePoint       True\n",
       "headway                             False\n",
       "busBunching                         False\n",
       "nextBusCode                         False\n",
       "DAY(gps_datetime)                   False\n",
       "DAY(alertDateTime)                   True\n",
       "DAY(jamUpdateDateTime)               True\n",
       "DAY(jamExpirationDateTime)           True\n",
       "YEAR(gps_datetime)                  False\n",
       "YEAR(alertDateTime)                  True\n",
       "YEAR(jamUpdateDateTime)              True\n",
       "YEAR(jamExpirationDateTime)          True\n",
       "MONTH(gps_datetime)                 False\n",
       "MONTH(alertDateTime)                 True\n",
       "MONTH(jamUpdateDateTime)             True\n",
       "MONTH(jamExpirationDateTime)         True\n",
       "WEEKDAY(gps_datetime)               False\n",
       "WEEKDAY(alertDateTime)               True\n",
       "WEEKDAY(jamUpdateDateTime)           True\n",
       "WEEKDAY(jamExpirationDateTime)       True\n",
       "dtype: bool"
      ]
     },
     "execution_count": 10,
     "metadata": {},
     "output_type": "execute_result"
    }
   ],
   "source": [
    "df_all_data.isnull().any()"
   ]
  },
  {
   "cell_type": "code",
   "execution_count": 33,
   "metadata": {},
   "outputs": [],
   "source": [
    "# changing by shape data\n",
    "df_all_data.gpsPointId = np.where(df_all_data.gpsPointId.isnull(), 0, df_all_data.gpsPointId)\n",
    "df_all_data.gpsLat = np.where(df_all_data.gpsLat.isnull(), df_all_data.shapeLat, df_all_data.gpsLat)\n",
    "df_all_data.gpsLon = np.where(df_all_data.gpsLon.isnull(), df_all_data.shapeLon, df_all_data.gpsLon)\n",
    "df_all_data.distanceToShapePoint = np.where(df_all_data.distanceToShapePoint.isnull(), \n",
    "                                            0, df_all_data.distanceToShapePoint)\n"
   ]
  },
  {
   "cell_type": "code",
   "execution_count": 34,
   "metadata": {},
   "outputs": [
    {
     "data": {
      "text/html": [
       "<div>\n",
       "<style scoped>\n",
       "    .dataframe tbody tr th:only-of-type {\n",
       "        vertical-align: middle;\n",
       "    }\n",
       "\n",
       "    .dataframe tbody tr th {\n",
       "        vertical-align: top;\n",
       "    }\n",
       "\n",
       "    .dataframe thead th {\n",
       "        text-align: right;\n",
       "    }\n",
       "</style>\n",
       "<table border=\"1\" class=\"dataframe\">\n",
       "  <thead>\n",
       "    <tr style=\"text-align: right;\">\n",
       "      <th></th>\n",
       "      <th>route</th>\n",
       "      <th>tripNum</th>\n",
       "      <th>shapeId</th>\n",
       "      <th>routeFrequency</th>\n",
       "      <th>shapeSequence</th>\n",
       "      <th>shapeLat</th>\n",
       "      <th>shapeLon</th>\n",
       "      <th>distanceTraveledShape</th>\n",
       "      <th>busCode</th>\n",
       "      <th>gpsPointId</th>\n",
       "      <th>...</th>\n",
       "      <th>YEAR(jamUpdateDateTime)</th>\n",
       "      <th>YEAR(jamExpirationDateTime)</th>\n",
       "      <th>MONTH(gps_datetime)</th>\n",
       "      <th>MONTH(alertDateTime)</th>\n",
       "      <th>MONTH(jamUpdateDateTime)</th>\n",
       "      <th>MONTH(jamExpirationDateTime)</th>\n",
       "      <th>WEEKDAY(gps_datetime)</th>\n",
       "      <th>WEEKDAY(alertDateTime)</th>\n",
       "      <th>WEEKDAY(jamUpdateDateTime)</th>\n",
       "      <th>WEEKDAY(jamExpirationDateTime)</th>\n",
       "    </tr>\n",
       "  </thead>\n",
       "  <tbody>\n",
       "    <tr>\n",
       "      <th>0</th>\n",
       "      <td>96</td>\n",
       "      <td>1</td>\n",
       "      <td>Route_219</td>\n",
       "      <td>low_frequency</td>\n",
       "      <td>22857</td>\n",
       "      <td>-8.046589</td>\n",
       "      <td>-34.878125</td>\n",
       "      <td>3606.0</td>\n",
       "      <td>50665</td>\n",
       "      <td>0.0</td>\n",
       "      <td>...</td>\n",
       "      <td>2018.0</td>\n",
       "      <td>2019.0</td>\n",
       "      <td>12</td>\n",
       "      <td>12.0</td>\n",
       "      <td>12.0</td>\n",
       "      <td>2.0</td>\n",
       "      <td>5</td>\n",
       "      <td>5.0</td>\n",
       "      <td>5.0</td>\n",
       "      <td>3.0</td>\n",
       "    </tr>\n",
       "    <tr>\n",
       "      <th>1</th>\n",
       "      <td>96</td>\n",
       "      <td>1</td>\n",
       "      <td>Route_219</td>\n",
       "      <td>low_frequency</td>\n",
       "      <td>22857</td>\n",
       "      <td>-8.046589</td>\n",
       "      <td>-34.878125</td>\n",
       "      <td>3606.0</td>\n",
       "      <td>50673</td>\n",
       "      <td>0.0</td>\n",
       "      <td>...</td>\n",
       "      <td>2018.0</td>\n",
       "      <td>2019.0</td>\n",
       "      <td>12</td>\n",
       "      <td>12.0</td>\n",
       "      <td>12.0</td>\n",
       "      <td>2.0</td>\n",
       "      <td>5</td>\n",
       "      <td>5.0</td>\n",
       "      <td>5.0</td>\n",
       "      <td>3.0</td>\n",
       "    </tr>\n",
       "    <tr>\n",
       "      <th>2</th>\n",
       "      <td>96</td>\n",
       "      <td>1</td>\n",
       "      <td>Route_219</td>\n",
       "      <td>low_frequency</td>\n",
       "      <td>22857</td>\n",
       "      <td>-8.046589</td>\n",
       "      <td>-34.878125</td>\n",
       "      <td>3606.0</td>\n",
       "      <td>50662</td>\n",
       "      <td>0.0</td>\n",
       "      <td>...</td>\n",
       "      <td>2018.0</td>\n",
       "      <td>2019.0</td>\n",
       "      <td>12</td>\n",
       "      <td>12.0</td>\n",
       "      <td>12.0</td>\n",
       "      <td>2.0</td>\n",
       "      <td>5</td>\n",
       "      <td>5.0</td>\n",
       "      <td>5.0</td>\n",
       "      <td>3.0</td>\n",
       "    </tr>\n",
       "    <tr>\n",
       "      <th>3</th>\n",
       "      <td>96</td>\n",
       "      <td>2</td>\n",
       "      <td>Route_219</td>\n",
       "      <td>low_frequency</td>\n",
       "      <td>22857</td>\n",
       "      <td>-8.046589</td>\n",
       "      <td>-34.878125</td>\n",
       "      <td>3606.0</td>\n",
       "      <td>50673</td>\n",
       "      <td>0.0</td>\n",
       "      <td>...</td>\n",
       "      <td>2018.0</td>\n",
       "      <td>2019.0</td>\n",
       "      <td>12</td>\n",
       "      <td>12.0</td>\n",
       "      <td>12.0</td>\n",
       "      <td>2.0</td>\n",
       "      <td>5</td>\n",
       "      <td>5.0</td>\n",
       "      <td>5.0</td>\n",
       "      <td>3.0</td>\n",
       "    </tr>\n",
       "    <tr>\n",
       "      <th>4</th>\n",
       "      <td>96</td>\n",
       "      <td>2</td>\n",
       "      <td>Route_219</td>\n",
       "      <td>low_frequency</td>\n",
       "      <td>22857</td>\n",
       "      <td>-8.046589</td>\n",
       "      <td>-34.878125</td>\n",
       "      <td>3606.0</td>\n",
       "      <td>50662</td>\n",
       "      <td>176265.0</td>\n",
       "      <td>...</td>\n",
       "      <td>2018.0</td>\n",
       "      <td>2019.0</td>\n",
       "      <td>12</td>\n",
       "      <td>12.0</td>\n",
       "      <td>12.0</td>\n",
       "      <td>2.0</td>\n",
       "      <td>5</td>\n",
       "      <td>5.0</td>\n",
       "      <td>5.0</td>\n",
       "      <td>3.0</td>\n",
       "    </tr>\n",
       "  </tbody>\n",
       "</table>\n",
       "<p>5 rows × 57 columns</p>\n",
       "</div>"
      ],
      "text/plain": [
       "   route  tripNum    shapeId routeFrequency  shapeSequence  shapeLat  \\\n",
       "0     96        1  Route_219  low_frequency          22857 -8.046589   \n",
       "1     96        1  Route_219  low_frequency          22857 -8.046589   \n",
       "2     96        1  Route_219  low_frequency          22857 -8.046589   \n",
       "3     96        2  Route_219  low_frequency          22857 -8.046589   \n",
       "4     96        2  Route_219  low_frequency          22857 -8.046589   \n",
       "\n",
       "    shapeLon  distanceTraveledShape  busCode  gpsPointId  \\\n",
       "0 -34.878125                 3606.0    50665         0.0   \n",
       "1 -34.878125                 3606.0    50673         0.0   \n",
       "2 -34.878125                 3606.0    50662         0.0   \n",
       "3 -34.878125                 3606.0    50673         0.0   \n",
       "4 -34.878125                 3606.0    50662    176265.0   \n",
       "\n",
       "                ...                YEAR(jamUpdateDateTime)  \\\n",
       "0               ...                                 2018.0   \n",
       "1               ...                                 2018.0   \n",
       "2               ...                                 2018.0   \n",
       "3               ...                                 2018.0   \n",
       "4               ...                                 2018.0   \n",
       "\n",
       "   YEAR(jamExpirationDateTime)  MONTH(gps_datetime)  MONTH(alertDateTime)  \\\n",
       "0                       2019.0                   12                  12.0   \n",
       "1                       2019.0                   12                  12.0   \n",
       "2                       2019.0                   12                  12.0   \n",
       "3                       2019.0                   12                  12.0   \n",
       "4                       2019.0                   12                  12.0   \n",
       "\n",
       "  MONTH(jamUpdateDateTime) MONTH(jamExpirationDateTime) WEEKDAY(gps_datetime)  \\\n",
       "0                     12.0                          2.0                     5   \n",
       "1                     12.0                          2.0                     5   \n",
       "2                     12.0                          2.0                     5   \n",
       "3                     12.0                          2.0                     5   \n",
       "4                     12.0                          2.0                     5   \n",
       "\n",
       "   WEEKDAY(alertDateTime)  WEEKDAY(jamUpdateDateTime)  \\\n",
       "0                     5.0                         5.0   \n",
       "1                     5.0                         5.0   \n",
       "2                     5.0                         5.0   \n",
       "3                     5.0                         5.0   \n",
       "4                     5.0                         5.0   \n",
       "\n",
       "   WEEKDAY(jamExpirationDateTime)  \n",
       "0                             3.0  \n",
       "1                             3.0  \n",
       "2                             3.0  \n",
       "3                             3.0  \n",
       "4                             3.0  \n",
       "\n",
       "[5 rows x 57 columns]"
      ]
     },
     "execution_count": 34,
     "metadata": {},
     "output_type": "execute_result"
    }
   ],
   "source": [
    "#grouping by weekday and filling NA's with the median of the column\n",
    "numeric_feats = df_all_data.dtypes[(df_all_data.dtypes != \"object\") & (df_all_data.dtypes != \"datetime64[ns]\")\n",
    "                               & (df_all_data.dtypes != \"bool\")].index\n",
    "df_all_data[numeric_feats] = df_all_data.groupby(['WEEKDAY(gps_datetime)'])[numeric_feats].transform(lambda x: x.fillna(x.median()))\n",
    "\n",
    "df_all_data.head(5)"
   ]
  },
  {
   "cell_type": "code",
   "execution_count": null,
   "metadata": {},
   "outputs": [],
   "source": [
    "df_all_data.isnull().any()"
   ]
  },
  {
   "cell_type": "code",
   "execution_count": null,
   "metadata": {},
   "outputs": [],
   "source": [
    "df_all_data.dtypes"
   ]
  },
  {
   "cell_type": "code",
   "execution_count": 35,
   "metadata": {},
   "outputs": [],
   "source": [
    "# Converting bool to float\n",
    "df_all_data.alertIsJamUnifiedAlert = df_all_data.alertIsJamUnifiedAlert.astype(np.float64)\n",
    "df_all_data.alertInScale = df_all_data.alertInScale.astype(np.float64)\n",
    "df_all_data.busBunching = df_all_data.busBunching.astype(np.float64)"
   ]
  },
  {
   "cell_type": "markdown",
   "metadata": {},
   "source": [
    "### Converting categorical variables"
   ]
  },
  {
   "cell_type": "code",
   "execution_count": 36,
   "metadata": {},
   "outputs": [
    {
     "data": {
      "text/html": [
       "<div>\n",
       "<style scoped>\n",
       "    .dataframe tbody tr th:only-of-type {\n",
       "        vertical-align: middle;\n",
       "    }\n",
       "\n",
       "    .dataframe tbody tr th {\n",
       "        vertical-align: top;\n",
       "    }\n",
       "\n",
       "    .dataframe thead th {\n",
       "        text-align: right;\n",
       "    }\n",
       "</style>\n",
       "<table border=\"1\" class=\"dataframe\">\n",
       "  <thead>\n",
       "    <tr style=\"text-align: right;\">\n",
       "      <th></th>\n",
       "      <th>route</th>\n",
       "      <th>tripNum</th>\n",
       "      <th>shapeSequence</th>\n",
       "      <th>shapeLat</th>\n",
       "      <th>shapeLon</th>\n",
       "      <th>distanceTraveledShape</th>\n",
       "      <th>busCode</th>\n",
       "      <th>gpsPointId</th>\n",
       "      <th>gpsLat</th>\n",
       "      <th>gpsLon</th>\n",
       "      <th>...</th>\n",
       "      <th>alertSubtype_JAM_STAND_STILL_TRAFFIC</th>\n",
       "      <th>alertSubtype_POLICE_HIDING</th>\n",
       "      <th>alertSubtype_POLICE_VISIBLE</th>\n",
       "      <th>alertType_-</th>\n",
       "      <th>alertType_ACCIDENT</th>\n",
       "      <th>alertType_HAZARD</th>\n",
       "      <th>alertType_JAM</th>\n",
       "      <th>alertType_POLICE</th>\n",
       "      <th>jamBlockType_-</th>\n",
       "      <th>jamBlockType_ROAD_CLOSED_EVENT</th>\n",
       "    </tr>\n",
       "  </thead>\n",
       "  <tbody>\n",
       "    <tr>\n",
       "      <th>0</th>\n",
       "      <td>96</td>\n",
       "      <td>1</td>\n",
       "      <td>22857</td>\n",
       "      <td>-8.046589</td>\n",
       "      <td>-34.878125</td>\n",
       "      <td>3606.0</td>\n",
       "      <td>50665</td>\n",
       "      <td>0.0</td>\n",
       "      <td>-8.046589</td>\n",
       "      <td>-34.878125</td>\n",
       "      <td>...</td>\n",
       "      <td>0</td>\n",
       "      <td>0</td>\n",
       "      <td>0</td>\n",
       "      <td>0</td>\n",
       "      <td>1</td>\n",
       "      <td>0</td>\n",
       "      <td>0</td>\n",
       "      <td>0</td>\n",
       "      <td>1</td>\n",
       "      <td>0</td>\n",
       "    </tr>\n",
       "    <tr>\n",
       "      <th>1</th>\n",
       "      <td>96</td>\n",
       "      <td>1</td>\n",
       "      <td>22857</td>\n",
       "      <td>-8.046589</td>\n",
       "      <td>-34.878125</td>\n",
       "      <td>3606.0</td>\n",
       "      <td>50673</td>\n",
       "      <td>0.0</td>\n",
       "      <td>-8.046589</td>\n",
       "      <td>-34.878125</td>\n",
       "      <td>...</td>\n",
       "      <td>0</td>\n",
       "      <td>0</td>\n",
       "      <td>0</td>\n",
       "      <td>0</td>\n",
       "      <td>1</td>\n",
       "      <td>0</td>\n",
       "      <td>0</td>\n",
       "      <td>0</td>\n",
       "      <td>1</td>\n",
       "      <td>0</td>\n",
       "    </tr>\n",
       "    <tr>\n",
       "      <th>2</th>\n",
       "      <td>96</td>\n",
       "      <td>1</td>\n",
       "      <td>22857</td>\n",
       "      <td>-8.046589</td>\n",
       "      <td>-34.878125</td>\n",
       "      <td>3606.0</td>\n",
       "      <td>50662</td>\n",
       "      <td>0.0</td>\n",
       "      <td>-8.046589</td>\n",
       "      <td>-34.878125</td>\n",
       "      <td>...</td>\n",
       "      <td>0</td>\n",
       "      <td>0</td>\n",
       "      <td>0</td>\n",
       "      <td>0</td>\n",
       "      <td>1</td>\n",
       "      <td>0</td>\n",
       "      <td>0</td>\n",
       "      <td>0</td>\n",
       "      <td>1</td>\n",
       "      <td>0</td>\n",
       "    </tr>\n",
       "    <tr>\n",
       "      <th>3</th>\n",
       "      <td>96</td>\n",
       "      <td>2</td>\n",
       "      <td>22857</td>\n",
       "      <td>-8.046589</td>\n",
       "      <td>-34.878125</td>\n",
       "      <td>3606.0</td>\n",
       "      <td>50673</td>\n",
       "      <td>0.0</td>\n",
       "      <td>-8.046589</td>\n",
       "      <td>-34.878125</td>\n",
       "      <td>...</td>\n",
       "      <td>0</td>\n",
       "      <td>0</td>\n",
       "      <td>0</td>\n",
       "      <td>0</td>\n",
       "      <td>1</td>\n",
       "      <td>0</td>\n",
       "      <td>0</td>\n",
       "      <td>0</td>\n",
       "      <td>1</td>\n",
       "      <td>0</td>\n",
       "    </tr>\n",
       "    <tr>\n",
       "      <th>4</th>\n",
       "      <td>96</td>\n",
       "      <td>2</td>\n",
       "      <td>22857</td>\n",
       "      <td>-8.046589</td>\n",
       "      <td>-34.878125</td>\n",
       "      <td>3606.0</td>\n",
       "      <td>50662</td>\n",
       "      <td>176265.0</td>\n",
       "      <td>-8.046504</td>\n",
       "      <td>-34.878170</td>\n",
       "      <td>...</td>\n",
       "      <td>0</td>\n",
       "      <td>0</td>\n",
       "      <td>0</td>\n",
       "      <td>0</td>\n",
       "      <td>1</td>\n",
       "      <td>0</td>\n",
       "      <td>0</td>\n",
       "      <td>0</td>\n",
       "      <td>1</td>\n",
       "      <td>0</td>\n",
       "    </tr>\n",
       "  </tbody>\n",
       "</table>\n",
       "<p>5 rows × 273 columns</p>\n",
       "</div>"
      ],
      "text/plain": [
       "   route  tripNum  shapeSequence  shapeLat   shapeLon  distanceTraveledShape  \\\n",
       "0     96        1          22857 -8.046589 -34.878125                 3606.0   \n",
       "1     96        1          22857 -8.046589 -34.878125                 3606.0   \n",
       "2     96        1          22857 -8.046589 -34.878125                 3606.0   \n",
       "3     96        2          22857 -8.046589 -34.878125                 3606.0   \n",
       "4     96        2          22857 -8.046589 -34.878125                 3606.0   \n",
       "\n",
       "   busCode  gpsPointId    gpsLat     gpsLon               ...                \\\n",
       "0    50665         0.0 -8.046589 -34.878125               ...                 \n",
       "1    50673         0.0 -8.046589 -34.878125               ...                 \n",
       "2    50662         0.0 -8.046589 -34.878125               ...                 \n",
       "3    50673         0.0 -8.046589 -34.878125               ...                 \n",
       "4    50662    176265.0 -8.046504 -34.878170               ...                 \n",
       "\n",
       "   alertSubtype_JAM_STAND_STILL_TRAFFIC  alertSubtype_POLICE_HIDING  \\\n",
       "0                                     0                           0   \n",
       "1                                     0                           0   \n",
       "2                                     0                           0   \n",
       "3                                     0                           0   \n",
       "4                                     0                           0   \n",
       "\n",
       "   alertSubtype_POLICE_VISIBLE  alertType_-  alertType_ACCIDENT  \\\n",
       "0                            0            0                   1   \n",
       "1                            0            0                   1   \n",
       "2                            0            0                   1   \n",
       "3                            0            0                   1   \n",
       "4                            0            0                   1   \n",
       "\n",
       "   alertType_HAZARD  alertType_JAM  alertType_POLICE  jamBlockType_-  \\\n",
       "0                 0              0                 0               1   \n",
       "1                 0              0                 0               1   \n",
       "2                 0              0                 0               1   \n",
       "3                 0              0                 0               1   \n",
       "4                 0              0                 0               1   \n",
       "\n",
       "   jamBlockType_ROAD_CLOSED_EVENT  \n",
       "0                               0  \n",
       "1                               0  \n",
       "2                               0  \n",
       "3                               0  \n",
       "4                               0  \n",
       "\n",
       "[5 rows x 273 columns]"
      ]
     },
     "execution_count": 36,
     "metadata": {},
     "output_type": "execute_result"
    }
   ],
   "source": [
    "df_all_data = pd.get_dummies(df_all_data)\n",
    "df_all_data.head()"
   ]
  },
  {
   "cell_type": "code",
   "execution_count": 15,
   "metadata": {},
   "outputs": [
    {
     "ename": "NameError",
     "evalue": "name 'pandas_profiling' is not defined",
     "output_type": "error",
     "traceback": [
      "\u001b[1;31m---------------------------------------------------------------------------\u001b[0m",
      "\u001b[1;31mNameError\u001b[0m                                 Traceback (most recent call last)",
      "\u001b[1;32m<ipython-input-15-f645f914c629>\u001b[0m in \u001b[0;36m<module>\u001b[1;34m()\u001b[0m\n\u001b[0;32m      1\u001b[0m \u001b[1;31m# Descriptive statistics\u001b[0m\u001b[1;33m\u001b[0m\u001b[1;33m\u001b[0m\u001b[0m\n\u001b[1;32m----> 2\u001b[1;33m \u001b[0mprofile\u001b[0m \u001b[1;33m=\u001b[0m \u001b[0mpandas_profiling\u001b[0m\u001b[1;33m.\u001b[0m\u001b[0mProfileReport\u001b[0m\u001b[1;33m(\u001b[0m\u001b[0mdf_all_data\u001b[0m\u001b[1;33m,\u001b[0m \u001b[0mcheck_correlation\u001b[0m\u001b[1;33m=\u001b[0m\u001b[0mTrue\u001b[0m\u001b[1;33m,\u001b[0m \u001b[0mcorrelation_threshold\u001b[0m\u001b[1;33m=\u001b[0m\u001b[1;36m0.5\u001b[0m\u001b[1;33m)\u001b[0m\u001b[1;33m\u001b[0m\u001b[0m\n\u001b[0m",
      "\u001b[1;31mNameError\u001b[0m: name 'pandas_profiling' is not defined"
     ]
    }
   ],
   "source": [
    "# Descriptive statistics\n",
    "profile = pandas_profiling.ProfileReport(df_all_data, check_correlation=True, correlation_threshold=0.5)"
   ]
  },
  {
   "cell_type": "markdown",
   "metadata": {},
   "source": [
    "## Model with all variables"
   ]
  },
  {
   "cell_type": "code",
   "execution_count": 37,
   "metadata": {},
   "outputs": [],
   "source": [
    "# y = df_all_data.drop('busBunching', axis=1) # with classifier produce error: asking to convert to float (doesn't make sense, it's a class)\n",
    "y = df_all_data['headway']\n",
    "\n",
    "df_all_data.drop('headway', axis=1, inplace=True)\n",
    "headway_busBunching = df_all_data['headwayThreshold', 'busBunching']\n",
    "df_all_data.drop('busBunching', axis=1, inplace=True)\n",
    " \n",
    "X = df_all_data\n",
    "\n",
    "X_train_all, X_test_all, y_train_all, y_test_all = train_test_split(X, y, test_size=0.5)"
   ]
  },
  {
   "cell_type": "markdown",
   "metadata": {},
   "source": [
    "#### Modelo RF (Random Forest)\n",
    "Random Forest é um algoritmo que ajusta várias árvores de decisão de classificação em várias subamostras do conjunto de dados e usa a média para melhorar a precisão preditiva e controlar o ajuste excessivo. A quantidade de árvores (n_estimators) é um parâmetro, cujo valor, deve ser encontrado, para que o modelo melhor represente os dados."
   ]
  },
  {
   "cell_type": "code",
   "execution_count": 51,
   "metadata": {},
   "outputs": [],
   "source": [
    "# function to train the model and to calculate the RMSE with cross validation\n",
    "def rmse_cv(model, X_train, y_train):\n",
    "    rmse = np.sqrt(-cross_val_score(model, X_train, y_train, scoring = \"neg_mean_squared_error\", cv = 10))\n",
    "    return(rmse)\n",
    "\n",
    "# function to print the coefficients of the model\n",
    "def print_coefficients(model):\n",
    "    w = list(model.coef_)\n",
    "    # Parameters must be in reverse order because the poly function \n",
    "    w.reverse()\n",
    "    print (np.poly1d(w) + model.intercept_)\n",
    "\n",
    "# function to train the model and to return the score\n",
    "def train_model(model, X_train, y_train, X_test, y_test, print_coef):\n",
    "    start_time = time.time()\n",
    "\n",
    "    model.fit(X_train, y_train)\n",
    "#     if (print_coef):\n",
    "#         print_coefficients(model)\n",
    "    \n",
    "    score = model.score(X_test, y_test) #how well our model is\n",
    "    y_predict = model.predict(X_test)\n",
    "    execution_time = time.time() - start_time\n",
    "    return score, execution_time, y_predict\n",
    "\n",
    "# function to plot the RMSE vs parameter value\n",
    "def plot_rmse_param(series, param_name):\n",
    "    series.plot(title = \"Validation Error vs \" + param_name)\n",
    "    plt.xlabel(param_name)\n",
    "    plt.ylabel(\"RMSE\")\n",
    "    \n",
    "# function to get the best RMSE and the best parameter value of the model\n",
    "def best_rmse_param(series):\n",
    "    best_rmse = series.min()\n",
    "    best_param = series.idxmin() \n",
    "    \n",
    "    return(best_rmse, best_param)\n",
    "\n",
    "def get_accuracy(y_predicted, y_real):\n",
    "    df['predictedBusBunching'] = np.where((y_predicted >= y_real['headwayThreshold'], 'True', 'False')\n",
    "                             \n",
    "    df['elderly'] = np.where((y_predicted >= y_real['headwayThreshold'], 'True', 'False')\n",
    "    "
   ]
  },
  {
   "cell_type": "code",
   "execution_count": 39,
   "metadata": {},
   "outputs": [
    {
     "data": {
      "image/png": "[encoded data removed]",
      "text/plain": [
       "<Figure size 432x288 with 1 Axes>"
      ]
     },
     "metadata": {
      "needs_background": "light"
     },
     "output_type": "display_data"
    }
   ],
   "source": [
    "n_estimators = [1, 10, 50, 100]\n",
    "cv_rf_rmse = [rmse_cv(RandomForestRegressor(n_estimators = n), X_train_all, y_train_all).mean() \n",
    "            for n in n_estimators]\n",
    "\n",
    "series = pd.Series(cv_rf_rmse, index = n_estimators)\n",
    "plot_rmse_param(series, \"n_estimators\")"
   ]
  },
  {
   "cell_type": "code",
   "execution_count": 52,
   "metadata": {
    "scrolled": true
   },
   "outputs": [],
   "source": [
    "best_rmse_rf, best_param_rf = best_rmse_param(series)\n",
    "\n",
    "model_rf = RandomForestRegressor(n_estimators = best_param_rf)\n",
    "score_rf, exec_time_all, y_predict = train_model(model_rf, X_train_all, y_train_all, X_test_all, y_test_all, \n",
    "                                      False)"
   ]
  },
  {
   "cell_type": "code",
   "execution_count": 57,
   "metadata": {},
   "outputs": [
    {
     "name": "stderr",
     "output_type": "stream",
     "text": [
      "c:\\python27\\lib\\site-packages\\sklearn\\svm\\base.py:196: FutureWarning: The default value of gamma will change from 'auto' to 'scale' in version 0.22 to account better for unscaled features. Set gamma explicitly to 'auto' or 'scale' to avoid this warning.\n",
      "  \"avoid this warning.\", FutureWarning)\n"
     ]
    },
    {
     "ename": "KeyboardInterrupt",
     "evalue": "",
     "output_type": "error",
     "traceback": [
      "\u001b[1;31m---------------------------------------------------------------------------\u001b[0m",
      "\u001b[1;31mKeyboardInterrupt\u001b[0m                         Traceback (most recent call last)",
      "\u001b[1;32m<ipython-input-57-2e234eb919d4>\u001b[0m in \u001b[0;36m<module>\u001b[1;34m()\u001b[0m\n\u001b[0;32m      1\u001b[0m \u001b[0mcs\u001b[0m \u001b[1;33m=\u001b[0m \u001b[1;33m[\u001b[0m\u001b[1;36m0.01\u001b[0m\u001b[1;33m,\u001b[0m \u001b[1;36m1\u001b[0m\u001b[1;33m,\u001b[0m \u001b[1;36m5\u001b[0m\u001b[1;33m,\u001b[0m \u001b[1;36m10\u001b[0m\u001b[1;33m,\u001b[0m \u001b[1;36m25\u001b[0m\u001b[1;33m,\u001b[0m \u001b[1;36m50\u001b[0m\u001b[1;33m]\u001b[0m\u001b[1;33m\u001b[0m\u001b[0m\n\u001b[0;32m      2\u001b[0m cv_svr_rmse = [rmse_cv(SVR(C = c), X_train_all, y_train_all).mean() \n\u001b[1;32m----> 3\u001b[1;33m             for c in cs]\n\u001b[0m\u001b[0;32m      4\u001b[0m \u001b[1;33m\u001b[0m\u001b[0m\n\u001b[0;32m      5\u001b[0m \u001b[0mseries_svr\u001b[0m \u001b[1;33m=\u001b[0m \u001b[0mpd\u001b[0m\u001b[1;33m.\u001b[0m\u001b[0mSeries\u001b[0m\u001b[1;33m(\u001b[0m\u001b[0mcv_svr_rmse\u001b[0m\u001b[1;33m,\u001b[0m \u001b[0mindex\u001b[0m \u001b[1;33m=\u001b[0m \u001b[0mcs\u001b[0m\u001b[1;33m)\u001b[0m\u001b[1;33m\u001b[0m\u001b[0m\n",
      "\u001b[1;32m<ipython-input-51-06fdeed7aa1f>\u001b[0m in \u001b[0;36mrmse_cv\u001b[1;34m(model, X_train, y_train)\u001b[0m\n\u001b[0;32m      1\u001b[0m \u001b[1;31m# function to train the model and to calculate the RMSE with cross validation\u001b[0m\u001b[1;33m\u001b[0m\u001b[1;33m\u001b[0m\u001b[0m\n\u001b[0;32m      2\u001b[0m \u001b[1;32mdef\u001b[0m \u001b[0mrmse_cv\u001b[0m\u001b[1;33m(\u001b[0m\u001b[0mmodel\u001b[0m\u001b[1;33m,\u001b[0m \u001b[0mX_train\u001b[0m\u001b[1;33m,\u001b[0m \u001b[0my_train\u001b[0m\u001b[1;33m)\u001b[0m\u001b[1;33m:\u001b[0m\u001b[1;33m\u001b[0m\u001b[0m\n\u001b[1;32m----> 3\u001b[1;33m     \u001b[0mrmse\u001b[0m \u001b[1;33m=\u001b[0m \u001b[0mnp\u001b[0m\u001b[1;33m.\u001b[0m\u001b[0msqrt\u001b[0m\u001b[1;33m(\u001b[0m\u001b[1;33m-\u001b[0m\u001b[0mcross_val_score\u001b[0m\u001b[1;33m(\u001b[0m\u001b[0mmodel\u001b[0m\u001b[1;33m,\u001b[0m \u001b[0mX_train\u001b[0m\u001b[1;33m,\u001b[0m \u001b[0my_train\u001b[0m\u001b[1;33m,\u001b[0m \u001b[0mscoring\u001b[0m \u001b[1;33m=\u001b[0m \u001b[1;34m\"neg_mean_squared_error\"\u001b[0m\u001b[1;33m,\u001b[0m \u001b[0mcv\u001b[0m \u001b[1;33m=\u001b[0m \u001b[1;36m10\u001b[0m\u001b[1;33m)\u001b[0m\u001b[1;33m)\u001b[0m\u001b[1;33m\u001b[0m\u001b[0m\n\u001b[0m\u001b[0;32m      4\u001b[0m     \u001b[1;32mreturn\u001b[0m\u001b[1;33m(\u001b[0m\u001b[0mrmse\u001b[0m\u001b[1;33m)\u001b[0m\u001b[1;33m\u001b[0m\u001b[0m\n\u001b[0;32m      5\u001b[0m \u001b[1;33m\u001b[0m\u001b[0m\n",
      "\u001b[1;32mc:\\python27\\lib\\site-packages\\sklearn\\model_selection\\_validation.pyc\u001b[0m in \u001b[0;36mcross_val_score\u001b[1;34m(estimator, X, y, groups, scoring, cv, n_jobs, verbose, fit_params, pre_dispatch, error_score)\u001b[0m\n\u001b[0;32m    400\u001b[0m                                 \u001b[0mfit_params\u001b[0m\u001b[1;33m=\u001b[0m\u001b[0mfit_params\u001b[0m\u001b[1;33m,\u001b[0m\u001b[1;33m\u001b[0m\u001b[0m\n\u001b[0;32m    401\u001b[0m                                 \u001b[0mpre_dispatch\u001b[0m\u001b[1;33m=\u001b[0m\u001b[0mpre_dispatch\u001b[0m\u001b[1;33m,\u001b[0m\u001b[1;33m\u001b[0m\u001b[0m\n\u001b[1;32m--> 402\u001b[1;33m                                 error_score=error_score)\n\u001b[0m\u001b[0;32m    403\u001b[0m     \u001b[1;32mreturn\u001b[0m \u001b[0mcv_results\u001b[0m\u001b[1;33m[\u001b[0m\u001b[1;34m'test_score'\u001b[0m\u001b[1;33m]\u001b[0m\u001b[1;33m\u001b[0m\u001b[0m\n\u001b[0;32m    404\u001b[0m \u001b[1;33m\u001b[0m\u001b[0m\n",
      "\u001b[1;32mc:\\python27\\lib\\site-packages\\sklearn\\model_selection\\_validation.pyc\u001b[0m in \u001b[0;36mcross_validate\u001b[1;34m(estimator, X, y, groups, scoring, cv, n_jobs, verbose, fit_params, pre_dispatch, return_train_score, return_estimator, error_score)\u001b[0m\n\u001b[0;32m    238\u001b[0m             \u001b[0mreturn_times\u001b[0m\u001b[1;33m=\u001b[0m\u001b[0mTrue\u001b[0m\u001b[1;33m,\u001b[0m \u001b[0mreturn_estimator\u001b[0m\u001b[1;33m=\u001b[0m\u001b[0mreturn_estimator\u001b[0m\u001b[1;33m,\u001b[0m\u001b[1;33m\u001b[0m\u001b[0m\n\u001b[0;32m    239\u001b[0m             error_score=error_score)\n\u001b[1;32m--> 240\u001b[1;33m         for train, test in cv.split(X, y, groups))\n\u001b[0m\u001b[0;32m    241\u001b[0m \u001b[1;33m\u001b[0m\u001b[0m\n\u001b[0;32m    242\u001b[0m     \u001b[0mzipped_scores\u001b[0m \u001b[1;33m=\u001b[0m \u001b[0mlist\u001b[0m\u001b[1;33m(\u001b[0m\u001b[0mzip\u001b[0m\u001b[1;33m(\u001b[0m\u001b[1;33m*\u001b[0m\u001b[0mscores\u001b[0m\u001b[1;33m)\u001b[0m\u001b[1;33m)\u001b[0m\u001b[1;33m\u001b[0m\u001b[0m\n",
      "\u001b[1;32mc:\\python27\\lib\\site-packages\\sklearn\\externals\\joblib\\parallel.pyc\u001b[0m in \u001b[0;36m__call__\u001b[1;34m(self, iterable)\u001b[0m\n\u001b[0;32m    918\u001b[0m                 \u001b[0mself\u001b[0m\u001b[1;33m.\u001b[0m\u001b[0m_iterating\u001b[0m \u001b[1;33m=\u001b[0m \u001b[0mself\u001b[0m\u001b[1;33m.\u001b[0m\u001b[0m_original_iterator\u001b[0m \u001b[1;32mis\u001b[0m \u001b[1;32mnot\u001b[0m \u001b[0mNone\u001b[0m\u001b[1;33m\u001b[0m\u001b[0m\n\u001b[0;32m    919\u001b[0m \u001b[1;33m\u001b[0m\u001b[0m\n\u001b[1;32m--> 920\u001b[1;33m             \u001b[1;32mwhile\u001b[0m \u001b[0mself\u001b[0m\u001b[1;33m.\u001b[0m\u001b[0mdispatch_one_batch\u001b[0m\u001b[1;33m(\u001b[0m\u001b[0miterator\u001b[0m\u001b[1;33m)\u001b[0m\u001b[1;33m:\u001b[0m\u001b[1;33m\u001b[0m\u001b[0m\n\u001b[0m\u001b[0;32m    921\u001b[0m                 \u001b[1;32mpass\u001b[0m\u001b[1;33m\u001b[0m\u001b[0m\n\u001b[0;32m    922\u001b[0m \u001b[1;33m\u001b[0m\u001b[0m\n",
      "\u001b[1;32mc:\\python27\\lib\\site-packages\\sklearn\\externals\\joblib\\parallel.pyc\u001b[0m in \u001b[0;36mdispatch_one_batch\u001b[1;34m(self, iterator)\u001b[0m\n\u001b[0;32m    757\u001b[0m                 \u001b[1;32mreturn\u001b[0m \u001b[0mFalse\u001b[0m\u001b[1;33m\u001b[0m\u001b[0m\n\u001b[0;32m    758\u001b[0m             \u001b[1;32melse\u001b[0m\u001b[1;33m:\u001b[0m\u001b[1;33m\u001b[0m\u001b[0m\n\u001b[1;32m--> 759\u001b[1;33m                 \u001b[0mself\u001b[0m\u001b[1;33m.\u001b[0m\u001b[0m_dispatch\u001b[0m\u001b[1;33m(\u001b[0m\u001b[0mtasks\u001b[0m\u001b[1;33m)\u001b[0m\u001b[1;33m\u001b[0m\u001b[0m\n\u001b[0m\u001b[0;32m    760\u001b[0m                 \u001b[1;32mreturn\u001b[0m \u001b[0mTrue\u001b[0m\u001b[1;33m\u001b[0m\u001b[0m\n\u001b[0;32m    761\u001b[0m \u001b[1;33m\u001b[0m\u001b[0m\n",
      "\u001b[1;32mc:\\python27\\lib\\site-packages\\sklearn\\externals\\joblib\\parallel.pyc\u001b[0m in \u001b[0;36m_dispatch\u001b[1;34m(self, batch)\u001b[0m\n\u001b[0;32m    714\u001b[0m         \u001b[1;32mwith\u001b[0m \u001b[0mself\u001b[0m\u001b[1;33m.\u001b[0m\u001b[0m_lock\u001b[0m\u001b[1;33m:\u001b[0m\u001b[1;33m\u001b[0m\u001b[0m\n\u001b[0;32m    715\u001b[0m             \u001b[0mjob_idx\u001b[0m \u001b[1;33m=\u001b[0m \u001b[0mlen\u001b[0m\u001b[1;33m(\u001b[0m\u001b[0mself\u001b[0m\u001b[1;33m.\u001b[0m\u001b[0m_jobs\u001b[0m\u001b[1;33m)\u001b[0m\u001b[1;33m\u001b[0m\u001b[0m\n\u001b[1;32m--> 716\u001b[1;33m             \u001b[0mjob\u001b[0m \u001b[1;33m=\u001b[0m \u001b[0mself\u001b[0m\u001b[1;33m.\u001b[0m\u001b[0m_backend\u001b[0m\u001b[1;33m.\u001b[0m\u001b[0mapply_async\u001b[0m\u001b[1;33m(\u001b[0m\u001b[0mbatch\u001b[0m\u001b[1;33m,\u001b[0m \u001b[0mcallback\u001b[0m\u001b[1;33m=\u001b[0m\u001b[0mcb\u001b[0m\u001b[1;33m)\u001b[0m\u001b[1;33m\u001b[0m\u001b[0m\n\u001b[0m\u001b[0;32m    717\u001b[0m             \u001b[1;31m# A job can complete so quickly than its callback is\u001b[0m\u001b[1;33m\u001b[0m\u001b[1;33m\u001b[0m\u001b[0m\n\u001b[0;32m    718\u001b[0m             \u001b[1;31m# called before we get here, causing self._jobs to\u001b[0m\u001b[1;33m\u001b[0m\u001b[1;33m\u001b[0m\u001b[0m\n",
      "\u001b[1;32mc:\\python27\\lib\\site-packages\\sklearn\\externals\\joblib\\_parallel_backends.pyc\u001b[0m in \u001b[0;36mapply_async\u001b[1;34m(self, func, callback)\u001b[0m\n\u001b[0;32m    180\u001b[0m     \u001b[1;32mdef\u001b[0m \u001b[0mapply_async\u001b[0m\u001b[1;33m(\u001b[0m\u001b[0mself\u001b[0m\u001b[1;33m,\u001b[0m \u001b[0mfunc\u001b[0m\u001b[1;33m,\u001b[0m \u001b[0mcallback\u001b[0m\u001b[1;33m=\u001b[0m\u001b[0mNone\u001b[0m\u001b[1;33m)\u001b[0m\u001b[1;33m:\u001b[0m\u001b[1;33m\u001b[0m\u001b[0m\n\u001b[0;32m    181\u001b[0m         \u001b[1;34m\"\"\"Schedule a func to be run\"\"\"\u001b[0m\u001b[1;33m\u001b[0m\u001b[0m\n\u001b[1;32m--> 182\u001b[1;33m         \u001b[0mresult\u001b[0m \u001b[1;33m=\u001b[0m \u001b[0mImmediateResult\u001b[0m\u001b[1;33m(\u001b[0m\u001b[0mfunc\u001b[0m\u001b[1;33m)\u001b[0m\u001b[1;33m\u001b[0m\u001b[0m\n\u001b[0m\u001b[0;32m    183\u001b[0m         \u001b[1;32mif\u001b[0m \u001b[0mcallback\u001b[0m\u001b[1;33m:\u001b[0m\u001b[1;33m\u001b[0m\u001b[0m\n\u001b[0;32m    184\u001b[0m             \u001b[0mcallback\u001b[0m\u001b[1;33m(\u001b[0m\u001b[0mresult\u001b[0m\u001b[1;33m)\u001b[0m\u001b[1;33m\u001b[0m\u001b[0m\n",
      "\u001b[1;32mc:\\python27\\lib\\site-packages\\sklearn\\externals\\joblib\\_parallel_backends.pyc\u001b[0m in \u001b[0;36m__init__\u001b[1;34m(self, batch)\u001b[0m\n\u001b[0;32m    547\u001b[0m         \u001b[1;31m# Don't delay the application, to avoid keeping the input\u001b[0m\u001b[1;33m\u001b[0m\u001b[1;33m\u001b[0m\u001b[0m\n\u001b[0;32m    548\u001b[0m         \u001b[1;31m# arguments in memory\u001b[0m\u001b[1;33m\u001b[0m\u001b[1;33m\u001b[0m\u001b[0m\n\u001b[1;32m--> 549\u001b[1;33m         \u001b[0mself\u001b[0m\u001b[1;33m.\u001b[0m\u001b[0mresults\u001b[0m \u001b[1;33m=\u001b[0m \u001b[0mbatch\u001b[0m\u001b[1;33m(\u001b[0m\u001b[1;33m)\u001b[0m\u001b[1;33m\u001b[0m\u001b[0m\n\u001b[0m\u001b[0;32m    550\u001b[0m \u001b[1;33m\u001b[0m\u001b[0m\n\u001b[0;32m    551\u001b[0m     \u001b[1;32mdef\u001b[0m \u001b[0mget\u001b[0m\u001b[1;33m(\u001b[0m\u001b[0mself\u001b[0m\u001b[1;33m)\u001b[0m\u001b[1;33m:\u001b[0m\u001b[1;33m\u001b[0m\u001b[0m\n",
      "\u001b[1;32mc:\\python27\\lib\\site-packages\\sklearn\\externals\\joblib\\parallel.pyc\u001b[0m in \u001b[0;36m__call__\u001b[1;34m(self)\u001b[0m\n\u001b[0;32m    223\u001b[0m         \u001b[1;32mwith\u001b[0m \u001b[0mparallel_backend\u001b[0m\u001b[1;33m(\u001b[0m\u001b[0mself\u001b[0m\u001b[1;33m.\u001b[0m\u001b[0m_backend\u001b[0m\u001b[1;33m,\u001b[0m \u001b[0mn_jobs\u001b[0m\u001b[1;33m=\u001b[0m\u001b[0mself\u001b[0m\u001b[1;33m.\u001b[0m\u001b[0m_n_jobs\u001b[0m\u001b[1;33m)\u001b[0m\u001b[1;33m:\u001b[0m\u001b[1;33m\u001b[0m\u001b[0m\n\u001b[0;32m    224\u001b[0m             return [func(*args, **kwargs)\n\u001b[1;32m--> 225\u001b[1;33m                     for func, args, kwargs in self.items]\n\u001b[0m\u001b[0;32m    226\u001b[0m \u001b[1;33m\u001b[0m\u001b[0m\n\u001b[0;32m    227\u001b[0m     \u001b[1;32mdef\u001b[0m \u001b[0m__len__\u001b[0m\u001b[1;33m(\u001b[0m\u001b[0mself\u001b[0m\u001b[1;33m)\u001b[0m\u001b[1;33m:\u001b[0m\u001b[1;33m\u001b[0m\u001b[0m\n",
      "\u001b[1;32mc:\\python27\\lib\\site-packages\\sklearn\\model_selection\\_validation.pyc\u001b[0m in \u001b[0;36m_fit_and_score\u001b[1;34m(estimator, X, y, scorer, train, test, verbose, parameters, fit_params, return_train_score, return_parameters, return_n_test_samples, return_times, return_estimator, error_score)\u001b[0m\n\u001b[0;32m    526\u001b[0m             \u001b[0mestimator\u001b[0m\u001b[1;33m.\u001b[0m\u001b[0mfit\u001b[0m\u001b[1;33m(\u001b[0m\u001b[0mX_train\u001b[0m\u001b[1;33m,\u001b[0m \u001b[1;33m**\u001b[0m\u001b[0mfit_params\u001b[0m\u001b[1;33m)\u001b[0m\u001b[1;33m\u001b[0m\u001b[0m\n\u001b[0;32m    527\u001b[0m         \u001b[1;32melse\u001b[0m\u001b[1;33m:\u001b[0m\u001b[1;33m\u001b[0m\u001b[0m\n\u001b[1;32m--> 528\u001b[1;33m             \u001b[0mestimator\u001b[0m\u001b[1;33m.\u001b[0m\u001b[0mfit\u001b[0m\u001b[1;33m(\u001b[0m\u001b[0mX_train\u001b[0m\u001b[1;33m,\u001b[0m \u001b[0my_train\u001b[0m\u001b[1;33m,\u001b[0m \u001b[1;33m**\u001b[0m\u001b[0mfit_params\u001b[0m\u001b[1;33m)\u001b[0m\u001b[1;33m\u001b[0m\u001b[0m\n\u001b[0m\u001b[0;32m    529\u001b[0m \u001b[1;33m\u001b[0m\u001b[0m\n\u001b[0;32m    530\u001b[0m     \u001b[1;32mexcept\u001b[0m \u001b[0mException\u001b[0m \u001b[1;32mas\u001b[0m \u001b[0me\u001b[0m\u001b[1;33m:\u001b[0m\u001b[1;33m\u001b[0m\u001b[0m\n",
      "\u001b[1;32mc:\\python27\\lib\\site-packages\\sklearn\\svm\\base.pyc\u001b[0m in \u001b[0;36mfit\u001b[1;34m(self, X, y, sample_weight)\u001b[0m\n\u001b[0;32m    210\u001b[0m \u001b[1;33m\u001b[0m\u001b[0m\n\u001b[0;32m    211\u001b[0m         \u001b[0mseed\u001b[0m \u001b[1;33m=\u001b[0m \u001b[0mrnd\u001b[0m\u001b[1;33m.\u001b[0m\u001b[0mrandint\u001b[0m\u001b[1;33m(\u001b[0m\u001b[0mnp\u001b[0m\u001b[1;33m.\u001b[0m\u001b[0miinfo\u001b[0m\u001b[1;33m(\u001b[0m\u001b[1;34m'i'\u001b[0m\u001b[1;33m)\u001b[0m\u001b[1;33m.\u001b[0m\u001b[0mmax\u001b[0m\u001b[1;33m)\u001b[0m\u001b[1;33m\u001b[0m\u001b[0m\n\u001b[1;32m--> 212\u001b[1;33m         \u001b[0mfit\u001b[0m\u001b[1;33m(\u001b[0m\u001b[0mX\u001b[0m\u001b[1;33m,\u001b[0m \u001b[0my\u001b[0m\u001b[1;33m,\u001b[0m \u001b[0msample_weight\u001b[0m\u001b[1;33m,\u001b[0m \u001b[0msolver_type\u001b[0m\u001b[1;33m,\u001b[0m \u001b[0mkernel\u001b[0m\u001b[1;33m,\u001b[0m \u001b[0mrandom_seed\u001b[0m\u001b[1;33m=\u001b[0m\u001b[0mseed\u001b[0m\u001b[1;33m)\u001b[0m\u001b[1;33m\u001b[0m\u001b[0m\n\u001b[0m\u001b[0;32m    213\u001b[0m         \u001b[1;31m# see comment on the other call to np.iinfo in this file\u001b[0m\u001b[1;33m\u001b[0m\u001b[1;33m\u001b[0m\u001b[0m\n\u001b[0;32m    214\u001b[0m \u001b[1;33m\u001b[0m\u001b[0m\n",
      "\u001b[1;32mc:\\python27\\lib\\site-packages\\sklearn\\svm\\base.pyc\u001b[0m in \u001b[0;36m_dense_fit\u001b[1;34m(self, X, y, sample_weight, solver_type, kernel, random_seed)\u001b[0m\n\u001b[0;32m    269\u001b[0m                 \u001b[0mcache_size\u001b[0m\u001b[1;33m=\u001b[0m\u001b[0mself\u001b[0m\u001b[1;33m.\u001b[0m\u001b[0mcache_size\u001b[0m\u001b[1;33m,\u001b[0m \u001b[0mcoef0\u001b[0m\u001b[1;33m=\u001b[0m\u001b[0mself\u001b[0m\u001b[1;33m.\u001b[0m\u001b[0mcoef0\u001b[0m\u001b[1;33m,\u001b[0m\u001b[1;33m\u001b[0m\u001b[0m\n\u001b[0;32m    270\u001b[0m                 \u001b[0mgamma\u001b[0m\u001b[1;33m=\u001b[0m\u001b[0mself\u001b[0m\u001b[1;33m.\u001b[0m\u001b[0m_gamma\u001b[0m\u001b[1;33m,\u001b[0m \u001b[0mepsilon\u001b[0m\u001b[1;33m=\u001b[0m\u001b[0mself\u001b[0m\u001b[1;33m.\u001b[0m\u001b[0mepsilon\u001b[0m\u001b[1;33m,\u001b[0m\u001b[1;33m\u001b[0m\u001b[0m\n\u001b[1;32m--> 271\u001b[1;33m                 max_iter=self.max_iter, random_seed=random_seed)\n\u001b[0m\u001b[0;32m    272\u001b[0m \u001b[1;33m\u001b[0m\u001b[0m\n\u001b[0;32m    273\u001b[0m         \u001b[0mself\u001b[0m\u001b[1;33m.\u001b[0m\u001b[0m_warn_from_fit_status\u001b[0m\u001b[1;33m(\u001b[0m\u001b[1;33m)\u001b[0m\u001b[1;33m\u001b[0m\u001b[0m\n",
      "\u001b[1;32msklearn\\svm\\libsvm.pyx\u001b[0m in \u001b[0;36msklearn.svm.libsvm.fit\u001b[1;34m()\u001b[0m\n",
      "\u001b[1;31mKeyboardInterrupt\u001b[0m: "
     ]
    }
   ],
   "source": [
    "cs = [0.01, 1, 5, 10, 25, 50]\n",
    "cv_svr_rmse = [rmse_cv(SVR(C = c), X_train_all, y_train_all).mean() \n",
    "            for c in cs]\n",
    "\n",
    "series_svr = pd.Series(cv_svr_rmse, index = cs)\n",
    "plot_rmse_param(series_svr, \"C\")"
   ]
  },
  {
   "cell_type": "code",
   "execution_count": null,
   "metadata": {},
   "outputs": [],
   "source": [
    "best_rmse_svr_all, best_param_svr_all = best_rmse_param(series_svr)\n",
    "\n",
    "model_svr_all = SVR(C = best_rmse_svr_all)\n",
    "score_svr_all, exec_time_svr_all = train_model(model_svr_all, False)"
   ]
  },
  {
   "cell_type": "markdown",
   "metadata": {},
   "source": [
    "Rodar paralelo\n",
    "\n",
    "Alterar para acurácia: pegar a saída e calcular com a coluna bb\n",
    "\n",
    "Tentar justificar com acurácia (parece estabilizar), tempo de execução e explicabilidade \n",
    "\n",
    "Usar regressão (reduzir dimensionalidade) -> é linear (RF foi aleatório) ou outros modelos"
   ]
  },
  {
   "cell_type": "markdown",
   "metadata": {},
   "source": [
    "## Model with less (13) variables"
   ]
  },
  {
   "cell_type": "markdown",
   "metadata": {},
   "source": [
    "- Todas as variáveis de dia, mês e ano - data do gps é suficiente\n",
    "- alertInScale - alertIsJamUnifiedAlert é suficiente\n",
    "- alertLat e alertLon - localização do gps é suficiente\n",
    "- alertNThumbsUp e alertReliability - alertConfidence é suficiente\n",
    "- jamDelay e jamLenght - jamSeverity é suficiente"
   ]
  },
  {
   "cell_type": "code",
   "execution_count": 41,
   "metadata": {},
   "outputs": [],
   "source": [
    "df_selected_data.drop(['DAY(alertDateTime)', 'DAY(jamUpdateDateTime)', 'MONTH(alertDateTime)', \n",
    "                       'MONTH(jamUpdateDateTime)', 'YEAR(alertDateTime)', 'YEAR(jamUpdateDateTime)',\n",
    "                      'alertInScale', 'alertLatitude', 'alertLongitude', 'alertNThumbsUp',\n",
    "                      'alertReliability', 'jamDelay', 'jamLength'], axis=1, inplace=True)"
   ]
  },
  {
   "cell_type": "code",
   "execution_count": 42,
   "metadata": {},
   "outputs": [],
   "source": [
    "# changing by shape data\n",
    "df_selected_data.gpsPointId = np.where(df_selected_data.gpsPointId.isnull(), 0, \n",
    "                                       df_selected_data.gpsPointId)\n",
    "df_selected_data.gpsLat = np.where(df_selected_data.gpsLat.isnull(), df_selected_data.shapeLat,\n",
    "                                   df_selected_data.gpsLat)\n",
    "df_selected_data.gpsLon = np.where(df_selected_data.gpsLon.isnull(), df_selected_data.shapeLon, \n",
    "                                   df_selected_data.gpsLon)\n",
    "df_selected_data.distanceToShapePoint = np.where(df_selected_data.distanceToShapePoint.isnull(), \n",
    "                                            0, df_selected_data.distanceToShapePoint)\n"
   ]
  },
  {
   "cell_type": "code",
   "execution_count": 43,
   "metadata": {},
   "outputs": [],
   "source": [
    "#grouping by weekday and filling NA's with the median of the column\n",
    "numeric_feats = df_selected_data.dtypes[(df_selected_data.dtypes != \"object\") & \n",
    "                                        (df_selected_data.dtypes != \"datetime64[ns]\")\n",
    "                               & (df_selected_data.dtypes != \"bool\")].index\n",
    "df_selected_data[numeric_feats] = df_selected_data.groupby(['WEEKDAY(gps_datetime)'])[numeric_feats].transform(lambda x: x.fillna(x.median()))"
   ]
  },
  {
   "cell_type": "code",
   "execution_count": 44,
   "metadata": {},
   "outputs": [],
   "source": [
    "# Converting bool to float\n",
    "df_selected_data.alertIsJamUnifiedAlert = df_selected_data.alertIsJamUnifiedAlert.astype(np.float64)\n",
    "df_selected_data.busBunching = df_selected_data.busBunching.astype(np.float64)"
   ]
  },
  {
   "cell_type": "code",
   "execution_count": 45,
   "metadata": {},
   "outputs": [],
   "source": [
    "# Converting categorical variable\n",
    "\n",
    "df_selected_data = pd.get_dummies(df_selected_data)"
   ]
  },
  {
   "cell_type": "code",
   "execution_count": 46,
   "metadata": {},
   "outputs": [],
   "source": [
    "# y = df_all_data.drop('busBunching', axis=1) # with classifier produce error\n",
    "y_sel = df_selected_data['headway']\n",
    "\n",
    "df_selected_data.drop('headway', axis=1, inplace=True)\n",
    "busBunching = df_selected_data['busBunching']\n",
    "df_selected_data.drop('busBunching', axis=1, inplace=True)\n",
    " \n",
    "X_sel = df_selected_data\n",
    "\n",
    "X_train_sel, X_test_sel, y_train_sel, y_test_sel = train_test_split(X_sel, y_sel, test_size=0.5)"
   ]
  },
  {
   "cell_type": "code",
   "execution_count": 47,
   "metadata": {},
   "outputs": [
    {
     "data": {
      "image/png": "[encoded data removed]",
      "text/plain": [
       "<Figure size 432x288 with 1 Axes>"
      ]
     },
     "metadata": {
      "needs_background": "light"
     },
     "output_type": "display_data"
    }
   ],
   "source": [
    "n_estimators = [1, 10, 50, 100]\n",
    "cv_rf_rmse = [rmse_cv(RandomForestRegressor(n_estimators = n), X_train_sel, y_train_sel).mean() \n",
    "            for n in n_estimators]\n",
    "\n",
    "series = pd.Series(cv_rf_rmse, index = n_estimators)\n",
    "plot_rmse_param(series, \"n_estimators\")"
   ]
  },
  {
   "cell_type": "code",
   "execution_count": 53,
   "metadata": {},
   "outputs": [],
   "source": [
    "best_rmse_rf_sel, best_param_rf_sel = best_rmse_param(series)\n",
    "\n",
    "model_rf_sel = RandomForestRegressor(n_estimators = best_param_rf_sel)\n",
    "score_rf_sel, exec_time_sel = train_model(model_rf_sel, X_train_sel, y_train_sel, X_test_sel, y_test_sel, False)"
   ]
  },
  {
   "cell_type": "code",
   "execution_count": null,
   "metadata": {},
   "outputs": [],
   "source": [
    "cs = [0.01, 1, 5, 10, 25, 50]\n",
    "cv_svr_rmse = [rmse_cv(SVR(C = c), X_train_sel, y_train_sel).mean() \n",
    "            for c in cs]\n",
    "\n",
    "series_svr = pd.Series(cv_svr_rmse, index = cs)\n",
    "plot_rmse_param(series_svr, \"C\")"
   ]
  },
  {
   "cell_type": "code",
   "execution_count": null,
   "metadata": {},
   "outputs": [],
   "source": [
    "best_rmse_svr_sel, best_param_svr_sel = best_rmse_param(series_svr)\n",
    "\n",
    "model_svr_sel = SVR(C = best_param_svr_sel)\n",
    "score_svr_sel, exec_time_sel_svr = train_model(model_svr_sel, False)"
   ]
  },
  {
   "cell_type": "markdown",
   "metadata": {},
   "source": [
    "## Results"
   ]
  },
  {
   "cell_type": "markdown",
   "metadata": {},
   "source": [
    "Execution just with Random Forest because is more efficient with good accuracy."
   ]
  },
  {
   "cell_type": "code",
   "execution_count": 54,
   "metadata": {},
   "outputs": [
    {
     "name": "stdout",
     "output_type": "stream",
     "text": [
      "Data: 50000 rows\n",
      "Random Forest Model - All Variables: \n",
      "Estimators = 100 \n",
      "RMSE = 36.38148260317509 \n",
      "R2 = 0.7601908436771817 \n",
      "Execution time = 69.8940000534 \n",
      "\n",
      "Random Forest Model - Less Variables: \n",
      "Estimators = 100 \n",
      "RMSE = 36.38148260317509 \n",
      "R2 = 0.7516999435901272 \n",
      "Execution time = 62.2489998341 \n",
      "\n"
     ]
    }
   ],
   "source": [
    "print(\"Data: %s rows\" % rows_number)\n",
    "print(\"Random Forest Model - All Variables: \\nEstimators = %s \\nRMSE = %s \\nR2 = %s \\nExecution time = %s \\n\" % \n",
    "      (best_param_rf, best_rmse_rf, score_rf, exec_time_all))\n",
    "print(\"Random Forest Model - Less Variables: \\nEstimators = %s \\nRMSE = %s \\nR2 = %s \\nExecution time = %s \\n\" % \n",
    "      (best_param_rf_sel, best_rmse_rf_sel, score_rf_sel, exec_time_sel))\n",
    "\n",
    "print(\"SVR Model - All Variables: \\nEstimators = %s \\nRMSE = %s \\nR2 = %s \\nExecution time = %s \\n\" % \n",
    "      (best_param_svr, best_rmse_svr, score_svr, exec_time_svr_all))\n",
    "print(\"Random Forest Model - Less Variables: \\nEstimators = %s \\nRMSE = %s \\nR2 = %s \\nExecution time = %s \\n\" % \n",
    "      (best_param_svr_sel, best_rmse_svr_sel, score_svr_sel, exec_time_svr_sel))\n"
   ]
  }
 ],
 "metadata": {
  "kernelspec": {
   "display_name": "Python 2",
   "language": "python",
   "name": "python2"
  },
  "language_info": {
   "codemirror_mode": {
    "name": "ipython",
    "version": 2
   },
   "file_extension": ".py",
   "mimetype": "text/x-python",
   "name": "python",
   "nbconvert_exporter": "python",
   "pygments_lexer": "ipython2",
   "version": "2.7.13"
  }
 },
 "nbformat": 4,
 "nbformat_minor": 2
}
