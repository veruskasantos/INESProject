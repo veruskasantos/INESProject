{
 "cells": [
  {
   "cell_type": "code",
   "execution_count": 1,
   "metadata": {},
   "outputs": [],
   "source": [
    "import pandas as pd\n",
    "import numpy as np\n",
    "#import matplotlib.pyplot as plt"
   ]
  },
  {
   "cell_type": "raw",
   "metadata": {},
   "source": [
    "route\ttripNum\tshapeId\trouteFrequency\tshapeSequence\tshapeLat\tshapeLon\tdistanceTraveledShape\tbusCode\tgpsPointId\tgpsLat\tgpsLon\tdistanceToShapePoint\tstopPointId\tproblem\tprecipitation\talertSubtype\talertType\talertRoadType\talertConfidence\talertNComments\talertNImages\talertNThumbsUp\talertReliability\talertReportMood\talertReportRating\talertSpeed\talertLatitude\talertLongitude\talertDistanceToClosestShapePoint\talertIsJamUnifiedAlert\talertInScale\tjamBlockType\tjamDelay\tjamLength\tjamLevel\tjamSeverity\tjamSpeedKM\tjamDistanceToClosestShapePoint\theadway\theadwayThreshold\tbusBunching\tGPShour\ttripNumSB\tshapeSequenceSB\tshapeLatSB\tshapeLonSB\tdistanceTraveledShapeSB\tbusCodeSB\tgpsPointIdSB\tgpsLatSB\tgpsLonSB\tdistanceToShapePointSB\tstopPointIdSB\tproblemSB\tprecipitationSB\talertSubtypeSB\talertTypeSB\talertRoadTypeSB\talertConfidenceSB\talertNCommentsSB\talertNImagesSB\talertNThumbsUpSB\talertReliabilitySB\talertReportMoodSB\talertReportRatingSB\talertSpeedSB\talertLatitudeSB\talertLongitudeSB\talertDistanceToClosestShapePointSB\talertIsJamUnifiedAlertSB\talertInScaleSB\tjamBlockTypeSB\tjamDelaySB\tjamLengthSB\tjamLevelSB\tjamSeveritySB\tjamSpeedKMSB\tjamDistanceToClosestShapePointSB\tDAY(gps_datetime)\tDAY(precipitationTime)\tDAY(alertDateTime)\tDAY(jamUpdateDateTime)\tDAY(gps_datetimeSB)\tDAY(precipitationTimeSB)\tDAY(alertDateTimeSB)\tDAY(jamUpdateDateTimeSB)\tYEAR(gps_datetime)\tYEAR(precipitationTime)\tYEAR(alertDateTime)\tYEAR(jamUpdateDateTime)\tYEAR(gps_datetimeSB)\tYEAR(precipitationTimeSB)\tYEAR(alertDateTimeSB)\tYEAR(jamUpdateDateTimeSB)\tMONTH(gps_datetime)\tMONTH(precipitationTime)\tMONTH(alertDateTime)\tMONTH(jamUpdateDateTime)\tMONTH(gps_datetimeSB)\tMONTH(precipitationTimeSB)\tMONTH(alertDateTimeSB)\tMONTH(jamUpdateDateTimeSB)\tWEEKDAY(gps_datetime)\tWEEKDAY(precipitationTime)\tWEEKDAY(alertDateTime)\tWEEKDAY(jamUpdateDateTime)\tWEEKDAY(gps_datetimeSB)\tWEEKDAY(precipitationTimeSB)\tWEEKDAY(alertDateTimeSB)\tWEEKDAY(jamUpdateDateTimeSB)"
   ]
  },
  {
   "cell_type": "code",
   "execution_count": null,
   "metadata": {},
   "outputs": [],
   "source": [
    "#Recife - 12 days\n",
    "#Curitiba - 31 days"
   ]
  },
  {
   "cell_type": "code",
   "execution_count": 2,
   "metadata": {},
   "outputs": [],
   "source": [
    "city = 'Curitiba'\n",
    "#city = 'Curitiba'"
   ]
  },
  {
   "cell_type": "code",
   "execution_count": 7,
   "metadata": {},
   "outputs": [
    {
     "name": "stdout",
     "output_type": "stream",
     "text": [
      "(1432633, 111)\n"
     ]
    }
   ],
   "source": [
    "file_path = '../../data/output/' + city + '/new_feats_data.csv'\n",
    "\n",
    "data = pd.read_csv(file_path)#, usecols=['route','busCode','alertSubtype','busBunching',\n",
    "                                       #'GPShour','tripNum', 'shapeId','alertType','alertRoadType','jamBlockType'])\n",
    "print(data.shape)"
   ]
  },
  {
   "cell_type": "code",
   "execution_count": 3,
   "metadata": {},
   "outputs": [
    {
     "name": "stdout",
     "output_type": "stream",
     "text": [
      "(6211570, 119)\n"
     ]
    }
   ],
   "source": [
    "file_path = '../../data/output/' + city + '/new_feats_data.csv'\n",
    "\n",
    "data = pd.read_csv(file_path)#, usecols=['route','busCode','alertSubtype','busBunching',\n",
    "                                       #'GPShour','tripNum', 'shapeId','alertType','alertRoadType','jamBlockType'])\n",
    "print(data.shape)"
   ]
  },
  {
   "cell_type": "code",
   "execution_count": 11,
   "metadata": {},
   "outputs": [
    {
     "data": {
      "text/plain": [
       "0          False\n",
       "1          False\n",
       "2          False\n",
       "3          False\n",
       "4          False\n",
       "           ...  \n",
       "1432628    False\n",
       "1432629    False\n",
       "1432630    False\n",
       "1432631    False\n",
       "1432632    False\n",
       "Name: busBunching, Length: 1432633, dtype: bool"
      ]
     },
     "execution_count": 11,
     "metadata": {},
     "output_type": "execute_result"
    }
   ],
   "source": [
    "data.busBunching"
   ]
  },
  {
   "cell_type": "code",
   "execution_count": 4,
   "metadata": {},
   "outputs": [
    {
     "data": {
      "text/html": [
       "<div>\n",
       "<style scoped>\n",
       "    .dataframe tbody tr th:only-of-type {\n",
       "        vertical-align: middle;\n",
       "    }\n",
       "\n",
       "    .dataframe tbody tr th {\n",
       "        vertical-align: top;\n",
       "    }\n",
       "\n",
       "    .dataframe thead th {\n",
       "        text-align: right;\n",
       "    }\n",
       "</style>\n",
       "<table border=\"1\" class=\"dataframe\">\n",
       "  <thead>\n",
       "    <tr style=\"text-align: right;\">\n",
       "      <th></th>\n",
       "      <th>route</th>\n",
       "      <th>tripNum</th>\n",
       "      <th>shapeId</th>\n",
       "      <th>busCode</th>\n",
       "      <th>alertSubtype</th>\n",
       "      <th>alertType</th>\n",
       "      <th>alertRoadType</th>\n",
       "      <th>jamBlockType</th>\n",
       "      <th>busBunching</th>\n",
       "      <th>GPShour</th>\n",
       "    </tr>\n",
       "  </thead>\n",
       "  <tbody>\n",
       "    <tr>\n",
       "      <th>0</th>\n",
       "      <td>68</td>\n",
       "      <td>3</td>\n",
       "      <td>Route_160</td>\n",
       "      <td>12021</td>\n",
       "      <td>NORMAL</td>\n",
       "      <td>NORMAL</td>\n",
       "      <td>NaN</td>\n",
       "      <td>-</td>\n",
       "      <td>False</td>\n",
       "      <td>6</td>\n",
       "    </tr>\n",
       "    <tr>\n",
       "      <th>1</th>\n",
       "      <td>68</td>\n",
       "      <td>3</td>\n",
       "      <td>Route_160</td>\n",
       "      <td>12021</td>\n",
       "      <td>NORMAL</td>\n",
       "      <td>NORMAL</td>\n",
       "      <td>NaN</td>\n",
       "      <td>NORMAL</td>\n",
       "      <td>False</td>\n",
       "      <td>6</td>\n",
       "    </tr>\n",
       "    <tr>\n",
       "      <th>2</th>\n",
       "      <td>68</td>\n",
       "      <td>3</td>\n",
       "      <td>Route_160</td>\n",
       "      <td>12021</td>\n",
       "      <td>NORMAL</td>\n",
       "      <td>NORMAL</td>\n",
       "      <td>NaN</td>\n",
       "      <td>-</td>\n",
       "      <td>False</td>\n",
       "      <td>6</td>\n",
       "    </tr>\n",
       "    <tr>\n",
       "      <th>3</th>\n",
       "      <td>68</td>\n",
       "      <td>3</td>\n",
       "      <td>Route_160</td>\n",
       "      <td>12021</td>\n",
       "      <td>NORMAL</td>\n",
       "      <td>NORMAL</td>\n",
       "      <td>NaN</td>\n",
       "      <td>-</td>\n",
       "      <td>False</td>\n",
       "      <td>6</td>\n",
       "    </tr>\n",
       "    <tr>\n",
       "      <th>4</th>\n",
       "      <td>68</td>\n",
       "      <td>3</td>\n",
       "      <td>Route_160</td>\n",
       "      <td>12021</td>\n",
       "      <td>NORMAL</td>\n",
       "      <td>NORMAL</td>\n",
       "      <td>NaN</td>\n",
       "      <td>-</td>\n",
       "      <td>False</td>\n",
       "      <td>6</td>\n",
       "    </tr>\n",
       "  </tbody>\n",
       "</table>\n",
       "</div>"
      ],
      "text/plain": [
       "   route  tripNum    shapeId  busCode alertSubtype alertType  alertRoadType  \\\n",
       "0     68        3  Route_160    12021       NORMAL    NORMAL            NaN   \n",
       "1     68        3  Route_160    12021       NORMAL    NORMAL            NaN   \n",
       "2     68        3  Route_160    12021       NORMAL    NORMAL            NaN   \n",
       "3     68        3  Route_160    12021       NORMAL    NORMAL            NaN   \n",
       "4     68        3  Route_160    12021       NORMAL    NORMAL            NaN   \n",
       "\n",
       "  jamBlockType  busBunching  GPShour  \n",
       "0            -        False        6  \n",
       "1       NORMAL        False        6  \n",
       "2            -        False        6  \n",
       "3            -        False        6  \n",
       "4            -        False        6  "
      ]
     },
     "execution_count": 4,
     "metadata": {},
     "output_type": "execute_result"
    }
   ],
   "source": [
    "data.head()"
   ]
  },
  {
   "cell_type": "code",
   "execution_count": 5,
   "metadata": {},
   "outputs": [
    {
     "data": {
      "text/plain": [
       "(1432633, 10)"
      ]
     },
     "execution_count": 5,
     "metadata": {},
     "output_type": "execute_result"
    }
   ],
   "source": [
    "data.shape"
   ]
  },
  {
   "cell_type": "code",
   "execution_count": null,
   "metadata": {},
   "outputs": [],
   "source": [
    "data.head()"
   ]
  },
  {
   "cell_type": "code",
   "execution_count": 211,
   "metadata": {},
   "outputs": [
    {
     "data": {
      "text/plain": [
       "(1657774, 111)"
      ]
     },
     "execution_count": 211,
     "metadata": {},
     "output_type": "execute_result"
    }
   ],
   "source": [
    "data.shape"
   ]
  },
  {
   "cell_type": "code",
   "execution_count": 19,
   "metadata": {},
   "outputs": [
    {
     "data": {
      "text/plain": [
       "Index(['route', 'tripNum', 'shapeId', 'routeFrequency', 'shapeSequence',\n",
       "       'shapeLat', 'shapeLon', 'distanceTraveledShape', 'busCode',\n",
       "       'gpsPointId',\n",
       "       ...\n",
       "       'MONTH(alertDateTimeSB)', 'MONTH(jamUpdateDateTimeSB)',\n",
       "       'WEEKDAY(gps_datetime)', 'WEEKDAY(precipitationTime)',\n",
       "       'WEEKDAY(alertDateTime)', 'WEEKDAY(jamUpdateDateTime)',\n",
       "       'WEEKDAY(gps_datetimeSB)', 'WEEKDAY(precipitationTimeSB)',\n",
       "       'WEEKDAY(alertDateTimeSB)', 'WEEKDAY(jamUpdateDateTimeSB)'],\n",
       "      dtype='object', length=111)"
      ]
     },
     "execution_count": 19,
     "metadata": {},
     "output_type": "execute_result"
    }
   ],
   "source": [
    "data.columns"
   ]
  },
  {
   "cell_type": "code",
   "execution_count": 5,
   "metadata": {},
   "outputs": [
    {
     "name": "stdout",
     "output_type": "stream",
     "text": [
      "busCode: 789\n"
     ]
    }
   ],
   "source": [
    "print('busCode: ' + str(len(data.busCode.unique()))) #Recife"
   ]
  },
  {
   "cell_type": "markdown",
   "metadata": {},
   "source": [
    "### Curitiba"
   ]
  },
  {
   "cell_type": "code",
   "execution_count": 5,
   "metadata": {},
   "outputs": [
    {
     "data": {
      "text/plain": [
       "351801"
      ]
     },
     "execution_count": 5,
     "metadata": {},
     "output_type": "execute_result"
    }
   ],
   "source": [
    "data.busBunching[data.busBunching == True].count()"
   ]
  },
  {
   "cell_type": "code",
   "execution_count": 6,
   "metadata": {},
   "outputs": [
    {
     "data": {
      "text/plain": [
       "0.056636405932799595"
      ]
     },
     "execution_count": 6,
     "metadata": {},
     "output_type": "execute_result"
    }
   ],
   "source": [
    "data.busBunching[data.busBunching == True].count() / len(data)"
   ]
  },
  {
   "cell_type": "code",
   "execution_count": 9,
   "metadata": {},
   "outputs": [
    {
     "data": {
      "text/html": [
       "<div>\n",
       "<style scoped>\n",
       "    .dataframe tbody tr th:only-of-type {\n",
       "        vertical-align: middle;\n",
       "    }\n",
       "\n",
       "    .dataframe tbody tr th {\n",
       "        vertical-align: top;\n",
       "    }\n",
       "\n",
       "    .dataframe thead th {\n",
       "        text-align: right;\n",
       "    }\n",
       "</style>\n",
       "<table border=\"1\" class=\"dataframe\">\n",
       "  <thead>\n",
       "    <tr style=\"text-align: right;\">\n",
       "      <th></th>\n",
       "      <th>route</th>\n",
       "      <th>tripNum</th>\n",
       "      <th>shapeId</th>\n",
       "      <th>busCode</th>\n",
       "      <th>alertSubtype</th>\n",
       "      <th>alertType</th>\n",
       "      <th>alertRoadType</th>\n",
       "      <th>jamBlockType</th>\n",
       "      <th>busBunching</th>\n",
       "      <th>GPShour</th>\n",
       "      <th>DAY(gps_datetime)</th>\n",
       "    </tr>\n",
       "  </thead>\n",
       "  <tbody>\n",
       "    <tr>\n",
       "      <td>0</td>\n",
       "      <td>232</td>\n",
       "      <td>1</td>\n",
       "      <td>1810</td>\n",
       "      <td>BA001</td>\n",
       "      <td>NORMAL</td>\n",
       "      <td>NORMAL</td>\n",
       "      <td>NaN</td>\n",
       "      <td>NORMAL</td>\n",
       "      <td>True</td>\n",
       "      <td>6</td>\n",
       "      <td>27</td>\n",
       "    </tr>\n",
       "    <tr>\n",
       "      <td>1</td>\n",
       "      <td>232</td>\n",
       "      <td>1</td>\n",
       "      <td>1810</td>\n",
       "      <td>BA001</td>\n",
       "      <td>NORMAL</td>\n",
       "      <td>NORMAL</td>\n",
       "      <td>NaN</td>\n",
       "      <td>NORMAL</td>\n",
       "      <td>True</td>\n",
       "      <td>6</td>\n",
       "      <td>27</td>\n",
       "    </tr>\n",
       "    <tr>\n",
       "      <td>2</td>\n",
       "      <td>232</td>\n",
       "      <td>1</td>\n",
       "      <td>1810</td>\n",
       "      <td>BA001</td>\n",
       "      <td>NORMAL</td>\n",
       "      <td>NORMAL</td>\n",
       "      <td>NaN</td>\n",
       "      <td>NORMAL</td>\n",
       "      <td>True</td>\n",
       "      <td>6</td>\n",
       "      <td>27</td>\n",
       "    </tr>\n",
       "    <tr>\n",
       "      <td>3</td>\n",
       "      <td>232</td>\n",
       "      <td>1</td>\n",
       "      <td>1810</td>\n",
       "      <td>BA001</td>\n",
       "      <td>NORMAL</td>\n",
       "      <td>NORMAL</td>\n",
       "      <td>NaN</td>\n",
       "      <td>NORMAL</td>\n",
       "      <td>True</td>\n",
       "      <td>6</td>\n",
       "      <td>27</td>\n",
       "    </tr>\n",
       "    <tr>\n",
       "      <td>4</td>\n",
       "      <td>232</td>\n",
       "      <td>1</td>\n",
       "      <td>1810</td>\n",
       "      <td>BA001</td>\n",
       "      <td>NORMAL</td>\n",
       "      <td>NORMAL</td>\n",
       "      <td>NaN</td>\n",
       "      <td>NORMAL</td>\n",
       "      <td>True</td>\n",
       "      <td>6</td>\n",
       "      <td>27</td>\n",
       "    </tr>\n",
       "  </tbody>\n",
       "</table>\n",
       "</div>"
      ],
      "text/plain": [
       "   route  tripNum  shapeId busCode alertSubtype alertType  alertRoadType  \\\n",
       "0    232        1     1810   BA001       NORMAL    NORMAL            NaN   \n",
       "1    232        1     1810   BA001       NORMAL    NORMAL            NaN   \n",
       "2    232        1     1810   BA001       NORMAL    NORMAL            NaN   \n",
       "3    232        1     1810   BA001       NORMAL    NORMAL            NaN   \n",
       "4    232        1     1810   BA001       NORMAL    NORMAL            NaN   \n",
       "\n",
       "  jamBlockType  busBunching  GPShour  DAY(gps_datetime)  \n",
       "0       NORMAL         True        6                 27  \n",
       "1       NORMAL         True        6                 27  \n",
       "2       NORMAL         True        6                 27  \n",
       "3       NORMAL         True        6                 27  \n",
       "4       NORMAL         True        6                 27  "
      ]
     },
     "execution_count": 9,
     "metadata": {},
     "output_type": "execute_result"
    }
   ],
   "source": [
    "data.head()"
   ]
  },
  {
   "cell_type": "code",
   "execution_count": 15,
   "metadata": {},
   "outputs": [
    {
     "name": "stdout",
     "output_type": "stream",
     "text": [
      "Routes: 219\n"
     ]
    }
   ],
   "source": [
    "print('Routes: ' + str(len(data.route.unique())))"
   ]
  },
  {
   "cell_type": "code",
   "execution_count": 16,
   "metadata": {},
   "outputs": [
    {
     "name": "stdout",
     "output_type": "stream",
     "text": [
      "shapeId: 443\n"
     ]
    }
   ],
   "source": [
    "print('shapeId: ' + str(len(data.shapeId.unique())))"
   ]
  },
  {
   "cell_type": "code",
   "execution_count": 17,
   "metadata": {},
   "outputs": [
    {
     "name": "stdout",
     "output_type": "stream",
     "text": [
      "busCode: 1496\n"
     ]
    }
   ],
   "source": [
    "print('busCode: ' + str(len(data.busCode.unique())))"
   ]
  },
  {
   "cell_type": "code",
   "execution_count": 18,
   "metadata": {},
   "outputs": [
    {
     "name": "stdout",
     "output_type": "stream",
     "text": [
      "alertSubtype: 28\n"
     ]
    }
   ],
   "source": [
    "print('alertSubtype: ' + str(len(data.alertSubtype.unique())))"
   ]
  },
  {
   "cell_type": "code",
   "execution_count": 19,
   "metadata": {},
   "outputs": [
    {
     "name": "stdout",
     "output_type": "stream",
     "text": [
      "alertType: 7\n"
     ]
    }
   ],
   "source": [
    "print('alertType: ' + str(len(data.alertType.unique())))"
   ]
  },
  {
   "cell_type": "code",
   "execution_count": 20,
   "metadata": {},
   "outputs": [
    {
     "name": "stdout",
     "output_type": "stream",
     "text": [
      "alertRoadType: 6\n"
     ]
    }
   ],
   "source": [
    "print('alertRoadType: ' + str(len(data.alertRoadType.unique())))"
   ]
  },
  {
   "cell_type": "code",
   "execution_count": 21,
   "metadata": {},
   "outputs": [
    {
     "name": "stdout",
     "output_type": "stream",
     "text": [
      "jamBlockType: 5\n"
     ]
    }
   ],
   "source": [
    "print('jamBlockType: ' + str(len(data.jamBlockType.unique())))"
   ]
  },
  {
   "cell_type": "markdown",
   "metadata": {},
   "source": [
    "### Recife"
   ]
  },
  {
   "cell_type": "code",
   "execution_count": 8,
   "metadata": {},
   "outputs": [
    {
     "name": "stdout",
     "output_type": "stream",
     "text": [
      "Routes: 106\n"
     ]
    }
   ],
   "source": [
    "print('Routes: ' + str(len(data.route.unique())))"
   ]
  },
  {
   "cell_type": "code",
   "execution_count": 10,
   "metadata": {},
   "outputs": [
    {
     "name": "stdout",
     "output_type": "stream",
     "text": [
      "Buses: 789\n"
     ]
    }
   ],
   "source": [
    "print('Buses: ' + str(len(data.busCode.unique())))"
   ]
  },
  {
   "cell_type": "markdown",
   "metadata": {},
   "source": [
    "#### Totalizando 2317x2(4634) colunas x 400+ de Recife"
   ]
  },
  {
   "cell_type": "raw",
   "metadata": {},
   "source": [
    "https://www.urbs.curitiba.pr.gov.br/institucional/urbs-em-numeros"
   ]
  },
  {
   "cell_type": "markdown",
   "metadata": {},
   "source": [
    "### 1. Quantidade média de ônibus nas rotas\n",
    "#### Em geral, as rotas tem 5 ônibus por dia"
   ]
  },
  {
   "cell_type": "code",
   "execution_count": 38,
   "metadata": {},
   "outputs": [
    {
     "data": {
      "text/plain": [
       "4.488250238462103"
      ]
     },
     "execution_count": 38,
     "metadata": {},
     "output_type": "execute_result"
    }
   ],
   "source": [
    "buses_per_route_day = data.groupby(['route','DAY(gps_datetime)'])['busCode'].nunique().groupby('route').mean()\n",
    "buses_per_route_day.mean()"
   ]
  },
  {
   "cell_type": "markdown",
   "metadata": {},
   "source": [
    "### 2. Proporção média dos dados de ônibus que têm dados de clima\n",
    "#### 100% dos dados de ônibus por parada contêm informações sobre o clima (dados da estação mais próxima)"
   ]
  },
  {
   "cell_type": "code",
   "execution_count": 8,
   "metadata": {},
   "outputs": [
    {
     "data": {
      "text/plain": [
       "False"
      ]
     },
     "execution_count": 8,
     "metadata": {},
     "output_type": "execute_result"
    }
   ],
   "source": [
    "data.precipitation.isnull().values.any()"
   ]
  },
  {
   "cell_type": "markdown",
   "metadata": {},
   "source": [
    "### 3. Proporção média dos dados de ônibus que têm dados de waze\n",
    "#### Em geral, 14% dos dados de ônibus por parada contêm informações sobre a via (dados apenas da rua analisada)"
   ]
  },
  {
   "cell_type": "code",
   "execution_count": 20,
   "metadata": {},
   "outputs": [
    {
     "data": {
      "text/plain": [
       "0                                        -\n",
       "1                                        -\n",
       "2                  HAZARD_ON_ROAD_POT_HOLE\n",
       "3                  HAZARD_ON_ROAD_POT_HOLE\n",
       "4                           POLICE_VISIBLE\n",
       "                        ...               \n",
       "1657769                                  -\n",
       "1657770                                  -\n",
       "1657771    HAZARD_ON_SHOULDER_MISSING_SIGN\n",
       "1657772                                  -\n",
       "1657773                                  -\n",
       "Name: alertSubtype, Length: 1657774, dtype: object"
      ]
     },
     "execution_count": 20,
     "metadata": {},
     "output_type": "execute_result"
    }
   ],
   "source": [
    "# No waze data: -\n",
    "data.alertSubtype"
   ]
  },
  {
   "cell_type": "code",
   "execution_count": 24,
   "metadata": {},
   "outputs": [
    {
     "name": "stdout",
     "output_type": "stream",
     "text": [
      "0.13715440102209348\n"
     ]
    }
   ],
   "source": [
    "waze_data_len = len(data.alertSubtype[data.alertSubtype != '-'])\n",
    "total = len(data.alertSubtype)\n",
    "\n",
    "perc = waze_data_len/total\n",
    "print(perc)"
   ]
  },
  {
   "cell_type": "markdown",
   "metadata": {},
   "source": [
    "#### Analisando por dia"
   ]
  },
  {
   "cell_type": "code",
   "execution_count": 93,
   "metadata": {},
   "outputs": [],
   "source": [
    "with_waze_data_per_day = data[data.alertSubtype != '-'].groupby(['DAY(gps_datetime)'])['alertSubtype'].count()\n",
    "total_data_per_day = data.groupby(['DAY(gps_datetime)'])['alertSubtype'].count()\n",
    "\n",
    "#when there is no data\n",
    "with_waze_data_per_day.loc[11] = 0\n",
    "with_waze_data_per_day = with_waze_data_per_day.sort_index()\n",
    "perc_waze_per_day =  with_waze_data_per_day / total_data_per_day\n",
    "perc_waze_per_day.mean()"
   ]
  },
  {
   "cell_type": "code",
   "execution_count": 151,
   "metadata": {},
   "outputs": [
    {
     "data": {
      "text/plain": [
       "Text(0.5, 1.0, 'Proportion of waze data per day')"
      ]
     },
     "execution_count": 151,
     "metadata": {},
     "output_type": "execute_result"
    },
    {
     "data": {
      "image/png": "[encoded data removed]",
      "text/plain": [
       "<Figure size 432x288 with 1 Axes>"
      ]
     },
     "metadata": {
      "needs_background": "light"
     },
     "output_type": "display_data"
    }
   ],
   "source": [
    "days = [1,2,3,4,5,6,7,8,9,10,11,12]\n",
    "plt.plot(pd.Series(perc_waze_per_day*100, index=days), 'bo')\n",
    "plt.ylabel('Percentage of waze data (%) ')\n",
    "plt.xlabel('Day')\n",
    "plt.title(\"Proportion of waze data per day\")"
   ]
  },
  {
   "cell_type": "markdown",
   "metadata": {},
   "source": [
    "### 4. Quantidade média de dados por dia"
   ]
  },
  {
   "cell_type": "code",
   "execution_count": 213,
   "metadata": {},
   "outputs": [
    {
     "name": "stdout",
     "output_type": "stream",
     "text": [
      "Mean of data per day: 138147.83333333334\n"
     ]
    },
    {
     "data": {
      "text/plain": [
       "DAY(gps_datetime)\n",
       "1      89559\n",
       "2      94298\n",
       "3     156547\n",
       "4     152470\n",
       "5     191541\n",
       "6     188843\n",
       "7     176768\n",
       "8     119352\n",
       "9      85932\n",
       "10    171937\n",
       "11    187497\n",
       "12     43030\n",
       "Name: busBunching, dtype: int64"
      ]
     },
     "execution_count": 213,
     "metadata": {},
     "output_type": "execute_result"
    }
   ],
   "source": [
    "print(\"Mean of data per day: \" + str(total_data_per_day.mean()))\n",
    "total_data_per_day"
   ]
  },
  {
   "cell_type": "markdown",
   "metadata": {},
   "source": [
    "### 5. Ocorrência média de aglomerados por parada\n",
    "#### Em média, 11% dos dados são aglomerados"
   ]
  },
  {
   "cell_type": "code",
   "execution_count": 161,
   "metadata": {},
   "outputs": [
    {
     "data": {
      "text/plain": [
       "0.11196452408748137"
      ]
     },
     "execution_count": 161,
     "metadata": {},
     "output_type": "execute_result"
    }
   ],
   "source": [
    "bb_data_per_day = data[data.busBunching == True].groupby(['DAY(gps_datetime)'])['busBunching'].count()\n",
    "total_data_per_day = data.groupby(['DAY(gps_datetime)'])['busBunching'].count()\n",
    "\n",
    "perc_bb_per_day =  bb_data_per_day / total_data_per_day\n",
    "perc_bb_per_day.mean()"
   ]
  },
  {
   "cell_type": "code",
   "execution_count": 162,
   "metadata": {},
   "outputs": [
    {
     "data": {
      "text/plain": [
       "Text(0.5, 1.0, 'Proportion of data with bus bunching per day')"
      ]
     },
     "execution_count": 162,
     "metadata": {},
     "output_type": "execute_result"
    },
    {
     "data": {
      "image/png": "[encoded data removed]",
      "text/plain": [
       "<Figure size 432x288 with 1 Axes>"
      ]
     },
     "metadata": {
      "needs_background": "light"
     },
     "output_type": "display_data"
    }
   ],
   "source": [
    "plt.plot(pd.Series(perc_bb_per_day*100, index=days), 'bo')\n",
    "plt.ylabel('Percentage of data with bus bunching (%)')\n",
    "plt.xlabel('Day')\n",
    "plt.title(\"Proportion of data with bus bunching per day\")"
   ]
  },
  {
   "cell_type": "markdown",
   "metadata": {},
   "source": [
    "### 6. Ocorrência média de aglomerados por ônibus\n",
    "#### Em geral (mediana), 8% dos dados por ônibus são aglomerados"
   ]
  },
  {
   "cell_type": "code",
   "execution_count": 188,
   "metadata": {},
   "outputs": [
    {
     "data": {
      "text/plain": [
       "0.08482757847868637"
      ]
     },
     "execution_count": 188,
     "metadata": {},
     "output_type": "execute_result"
    }
   ],
   "source": [
    "bb_data_per_bus = data[data.busBunching == True].groupby('busCode')['busBunching'].count()\n",
    "total_per_bus = data.groupby('busCode')['busBunching'].count()\n",
    "\n",
    "perc_bb_bus = bb_data_per_bus/total_per_bus\n",
    "perc_bb_bus.median()"
   ]
  },
  {
   "cell_type": "code",
   "execution_count": 181,
   "metadata": {},
   "outputs": [
    {
     "data": {
      "text/plain": [
       "busCode\n",
       "12021    0.021053\n",
       "12022    0.024560\n",
       "12023    0.031345\n",
       "12024    0.068901\n",
       "12025    0.051651\n",
       "           ...   \n",
       "81967    0.019231\n",
       "81971    0.025974\n",
       "81977    0.046171\n",
       "81981    0.250000\n",
       "81987    0.009537\n",
       "Name: busBunching, Length: 796, dtype: float64"
      ]
     },
     "execution_count": 181,
     "metadata": {},
     "output_type": "execute_result"
    }
   ],
   "source": [
    "# The visualization is too big\n",
    "# plt.plot(perc_bb_bus, perc_bb_bus.index.get_values(), 'bo')\n",
    "perc_bb_bus"
   ]
  },
  {
   "cell_type": "markdown",
   "metadata": {},
   "source": [
    "### 7. Horário de maior ocorrência de aglomerados\n",
    "#### O horário que mais ocorre BB é às 8h."
   ]
  },
  {
   "cell_type": "code",
   "execution_count": 193,
   "metadata": {},
   "outputs": [
    {
     "name": "stdout",
     "output_type": "stream",
     "text": [
      "Max value index: 8\n"
     ]
    },
    {
     "data": {
      "text/plain": [
       "GPShour\n",
       "0        88\n",
       "1        11\n",
       "2        26\n",
       "3        27\n",
       "4      1369\n",
       "5      8120\n",
       "6     13424\n",
       "7     15830\n",
       "8     16349\n",
       "9     10491\n",
       "10     7818\n",
       "11     7692\n",
       "12     9979\n",
       "13     9323\n",
       "14     8900\n",
       "15    10728\n",
       "16    11907\n",
       "17    12600\n",
       "18    14322\n",
       "19    15168\n",
       "20     9938\n",
       "21     5754\n",
       "22     3598\n",
       "23      804\n",
       "Name: busBunching, dtype: int64"
      ]
     },
     "execution_count": 193,
     "metadata": {},
     "output_type": "execute_result"
    }
   ],
   "source": [
    "bb_data_per_hour = data[data.busBunching == True].groupby('GPShour')['busBunching'].count()\n",
    "print(\"Max value index: \" + str(bb_data_per_hour.idxmax()))\n",
    "bb_data_per_hour"
   ]
  },
  {
   "cell_type": "code",
   "execution_count": 203,
   "metadata": {},
   "outputs": [
    {
     "data": {
      "text/plain": [
       "Text(0.5, 1.0, 'Total of bus bunching per hour')"
      ]
     },
     "execution_count": 203,
     "metadata": {},
     "output_type": "execute_result"
    },
    {
     "data": {
      "image/png": "[encoded data removed]",
      "text/plain": [
       "<Figure size 432x288 with 1 Axes>"
      ]
     },
     "metadata": {
      "needs_background": "light"
     },
     "output_type": "display_data"
    }
   ],
   "source": [
    "plt.plot(pd.Series(bb_data_per_hour, bb_data_per_hour.index), 'bo')\n",
    "plt.ylabel('Total of bus bunching')\n",
    "plt.xlabel('Hour')\n",
    "plt.title(\"Total of bus bunching per hour\")"
   ]
  },
  {
   "cell_type": "markdown",
   "metadata": {},
   "source": [
    "### 8. Rota com maior ocorrência de aglomerados\n",
    "#### A rota 16 apresenta a maior ocorrência de BB (16836 - 39%)"
   ]
  },
  {
   "cell_type": "code",
   "execution_count": 200,
   "metadata": {},
   "outputs": [
    {
     "name": "stdout",
     "output_type": "stream",
     "text": [
      "Max value route: 16\n",
      "route\n",
      "2         75\n",
      "3       7086\n",
      "4       6224\n",
      "6      11397\n",
      "16     16836\n",
      "       ...  \n",
      "547      725\n",
      "548      166\n",
      "555       18\n",
      "556        2\n",
      "561      254\n",
      "Name: busBunching, Length: 116, dtype: int64\n"
     ]
    },
    {
     "data": {
      "text/plain": [
       "route\n",
       "2      0.064267\n",
       "3      0.165337\n",
       "4      0.122880\n",
       "6      0.229588\n",
       "16     0.388670\n",
       "         ...   \n",
       "547    0.063280\n",
       "548    0.051093\n",
       "555    0.011905\n",
       "556    0.083333\n",
       "561    0.064746\n",
       "Name: busBunching, Length: 118, dtype: float64"
      ]
     },
     "execution_count": 200,
     "metadata": {},
     "output_type": "execute_result"
    }
   ],
   "source": [
    "bb_data_per_route = data[data.busBunching == True].groupby('route')['busBunching'].count()\n",
    "print(\"Max value route: \" + str(bb_data_per_route.idxmax()))\n",
    "print(bb_data_per_route)\n",
    "\n",
    "#proportion\n",
    "total_per_route = data.groupby('route')['busBunching'].count()\n",
    "\n",
    "perc_bb_route = bb_data_per_route/total_per_route\n",
    "perc_bb_route"
   ]
  },
  {
   "cell_type": "markdown",
   "metadata": {},
   "source": [
    "### 9. Proporção de viagens com aglomerados\n",
    "#### 50% das viagens apresentam pelo menos uma ocorrência de aglomerados"
   ]
  },
  {
   "cell_type": "code",
   "execution_count": 210,
   "metadata": {},
   "outputs": [
    {
     "data": {
      "text/plain": [
       "0.5050153531218015"
      ]
     },
     "execution_count": 210,
     "metadata": {},
     "output_type": "execute_result"
    }
   ],
   "source": [
    "trips_with_bb = data[data.busBunching == True].groupby(['DAY(gps_datetime)','tripNum','busCode'])['busBunching'].unique().count()\n",
    "total_trips = data.groupby(['DAY(gps_datetime)','tripNum','busCode'])['busBunching'].unique().count()\n",
    "\n",
    "perc_trips_with_bb = trips_with_bb/total_trips\n",
    "perc_trips_with_bb"
   ]
  }
 ],
 "metadata": {
  "kernelspec": {
   "display_name": "Python 3",
   "language": "python",
   "name": "python3"
  },
  "language_info": {
   "codemirror_mode": {
    "name": "ipython",
    "version": 3
   },
   "file_extension": ".py",
   "mimetype": "text/x-python",
   "name": "python",
   "nbconvert_exporter": "python",
   "pygments_lexer": "ipython3",
   "version": "3.6.9"
  }
 },
 "nbformat": 4,
 "nbformat_minor": 2
}
