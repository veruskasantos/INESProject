{
 "cells": [
  {
   "cell_type": "markdown",
   "metadata": {},
   "source": [
    "## Data integration script"
   ]
  },
  {
   "cell_type": "markdown",
   "metadata": {},
   "source": [
    "The aim of this task is to integrate in the same file the following data:\n",
    "- GPS;\n",
    "- Weather;\n",
    "- Waze;\n",
    "- GTFS\n",
    "\n",
    "Example of final file attributes (to use in ML algorithms):\n",
    "\n",
    "\n",
    "The task has the following steps:\n",
    "1. Clean the data (removing missing/wrong data);\n",
    "2. Label shape file with route type (low/high frequency)\n",
    "3. Update and run BULMA (matching of GPS and GTFS);\n",
    "4. Update and run BUSTE (interpolate stops timestamp)\n",
    "5. Label each GPS with headway value and BB (headway, BB, id_bus_bb)\n",
    "6. Label with precipitation (precipitation)"
   ]
  },
  {
   "cell_type": "code",
   "execution_count": 1,
   "metadata": {},
   "outputs": [],
   "source": [
    "import utm\n",
    "import os\n",
    "import pandas as pd"
   ]
  },
  {
   "cell_type": "markdown",
   "metadata": {},
   "source": [
    "### Data example\n",
    "\n",
    "#### GPS\n",
    "\n",
    "#### Weather\n",
    "\n",
    "#### Waze\n",
    "\n",
    "#### GTFS"
   ]
  },
  {
   "cell_type": "markdown",
   "metadata": {},
   "source": [
    "Pre-processing GPS data of Recife to separate files per day and to convert coordinates."
   ]
  },
  {
   "cell_type": "code",
   "execution_count": null,
   "metadata": {},
   "outputs": [],
   "source": [
    "def convertCoordinates(x, y):\n",
    "    if (x == '-' or x == '0' or y == '-' or y == '0'):\n",
    "        return ['-', '-']\n",
    "    \n",
    "    return utm.to_latlon(long(x), long(y), 25, 'M')\n",
    "    \n",
    "def separateGPSFilePerMonth(file_path):\n",
    "    DELIMITER = ','\n",
    "    october_file = open(file_path + 'GPS_data_october.csv', 'w')\n",
    "    november_file = open(file_path + 'GPS_data_november.csv', 'w')\n",
    "    december_file = open(file_path + 'GPS_data_december.csv', 'w')\n",
    "    columns_name = \"Unidad\" + DELIMITER +  \"Instante\" + DELIMITER + \"Estado\" + DELIMITER + \"Comunica\" + DELIMITER + \"CoordX\" + DELIMITER + \"CoordY\" + DELIMITER + \"Linea\" + DELIMITER + \"Ruta\" + DELIMITER + \"Posicion\" + DELIMITER + \"Viaje\" + DELIMITER + \"Velocidad\"\n",
    "    october_file.write(columns_name + '\\n')\n",
    "    november_file.write(columns_name + '\\n')\n",
    "    december_file.write(columns_name + '\\n')\n",
    "    \n",
    "    october = '2018-10'\n",
    "    november = '2018-11'\n",
    "    december = '2018-12'\n",
    "    \n",
    "    file_name = file_path + \"GPS_data.csv\"\n",
    "    with open(file_name, 'r') as gps_data:\n",
    "        next(gps_data)\n",
    "        for line in gps_data:\n",
    "            line_splitted = line.split(',')\n",
    "            date = line_splitted[1]\n",
    "            lat = line_splitted[4]\n",
    "            lon = line_splitted[5]\n",
    "            new_coordinates = convertCoordinates(lat, lon)\n",
    "            \n",
    "            new_line = line_splitted[0] + DELIMITER + line_splitted[1] + DELIMITER + line_splitted[2] + DELIMITER + line_splitted[3] + DELIMITER + str(new_coordinates[0]) + DELIMITER + str(new_coordinates[1]) + DELIMITER + line_splitted[6] + DELIMITER + line_splitted[7] + DELIMITER + line_splitted[8] + DELIMITER + line_splitted[9] + DELIMITER + line_splitted[10]\n",
    "            \n",
    "            if (october in date):\n",
    "                october_file.write(new_line)\n",
    "            elif (november in date):\n",
    "                november_file.write(new_line)\n",
    "            elif (december in date):\n",
    "                december_file.write(new_line)\n",
    "\n",
    "def separateGPSFilePerDay(file_path):\n",
    "    DELIMITER = ','\n",
    "    columns_name = \"Unidad\" + DELIMITER +  \"Instante\" + DELIMITER + \"Estado\" + DELIMITER + \"Comunica\" + DELIMITER + \"CoordX\" + DELIMITER + \"CoordY\" + DELIMITER + \"Linea\" + DELIMITER + \"Ruta\" + DELIMITER + \"Posicion\" + DELIMITER + \"Viaje\" + DELIMITER + \"Velocidad\"\n",
    "    file_name = file_path + \"GPS_data_october.csv\"\n",
    "    date_lines_dict = {}\n",
    "    with open(file_name, 'r') as gps_data:\n",
    "        next(gps_data)\n",
    "        for line in gps_data:\n",
    "            line_splitted = line.split(',')\n",
    "            date_time = line_splitted[1]\n",
    "            date = date_time.split(' ')[0]\n",
    "            \n",
    "            if (date not in date_lines_dict):\n",
    "                date_lines_dict[date] = []\n",
    "            \n",
    "            date_lines_dict[date].append(line)\n",
    "            \n",
    "    \n",
    "    for key in date_lines_dict:\n",
    "        new_file = open(file_path + 'GPS_data_' + key + '.csv', 'w')\n",
    "        new_file.write(columns_name + '\\n')\n",
    "        \n",
    "        for data_per_day in date_lines_dict[key]:\n",
    "            new_file.write(data_per_day)\n",
    "            \n",
    "        new_file.close()\n",
    "            \n",
    "file_path = os.getcwd() + \"/../data/input/Recife/GPS/\"\n",
    "\n",
    "separateGPSFilePerMonth(file_path)\n",
    "\n",
    "separateGPSFilePerDay(file_path)"
   ]
  },
  {
   "cell_type": "markdown",
   "metadata": {},
   "source": [
    "### 1. Clean the data\n",
    "Removing missing/wrong data"
   ]
  },
  {
   "cell_type": "code",
   "execution_count": 23,
   "metadata": {},
   "outputs": [],
   "source": [
    "# Waze\n",
    "# Removing lines from different city\n",
    "\n",
    "def removeDifferentCity(dir_name, city_label):\n",
    "    \n",
    "    for file_name in os.listdir(dir_name):\n",
    "        \n",
    "        if file_name.endswith(\".csv\"): # to get just files\n",
    "            file_path = dir_name + file_name\n",
    "\n",
    "            new_file = open(dir_name + 'clean/' + file_name, 'w')\n",
    "\n",
    "            with open(file_path, 'r') as waze_data:\n",
    "                new_file.write(next(waze_data)) # write the header\n",
    "                \n",
    "                for line in waze_data:\n",
    "                    line_splitted = line.split(',')\n",
    "                    city = line_splitted[1]\n",
    "\n",
    "                    if (city_label in city):\n",
    "                        new_file.write(line) # to add just lines of the city\n",
    "\n",
    "                new_file.close()\n",
    "            \n",
    "# Alert: create the folder 'clean', set the path and the city name            \n",
    "dir_path = os.getcwd() + \"/../data/input/Recife/Waze/\"\n",
    "city = 'Recife'\n",
    "removeDifferentCity(dir_path, city)"
   ]
  },
  {
   "cell_type": "code",
   "execution_count": null,
   "metadata": {},
   "outputs": [],
   "source": [
    "#check gps data and weather for cleaning"
   ]
  }
 ],
 "metadata": {
  "kernelspec": {
   "display_name": "Python 2",
   "language": "python",
   "name": "python2"
  },
  "language_info": {
   "codemirror_mode": {
    "name": "ipython",
    "version": 2
   },
   "file_extension": ".py",
   "mimetype": "text/x-python",
   "name": "python",
   "nbconvert_exporter": "python",
   "pygments_lexer": "ipython2",
   "version": "2.7.15"
  }
 },
 "nbformat": 4,
 "nbformat_minor": 2
}
