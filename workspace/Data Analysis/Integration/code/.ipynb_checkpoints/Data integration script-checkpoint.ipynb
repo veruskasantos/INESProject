{
 "cells": [
  {
   "cell_type": "markdown",
   "metadata": {},
   "source": [
    "## Data integration script"
   ]
  },
  {
   "cell_type": "markdown",
   "metadata": {},
   "source": [
    "The aim of this task is to integrate in the same file the following data:\n",
    "- GPS;\n",
    "- Weather;\n",
    "- Waze;\n",
    "- GTFS\n",
    "\n",
    "Example of final file attributes (to use in ML algorithms):\n",
    "\n",
    "\n",
    "The task has the following steps:\n",
    "1. Clean the data (removing missing/wrong data);\n",
    "2. Label shape file with route type (low/high frequency)\n",
    "3. Update and run BULMA (matching of GPS and GTFS);\n",
    "4. Update and run BUSTE (interpolate stops timestamp)\n",
    "5. Label each GPS with headway value and BB (headway, BB, id_bus_bb)\n",
    "6. Label with precipitation (precipitation)"
   ]
  },
  {
   "cell_type": "markdown",
   "metadata": {},
   "source": [
    "### Data example\n",
    "\n",
    "#### GPS\n",
    "\n",
    "#### Weather\n",
    "\n",
    "#### Waze\n",
    "\n",
    "#### GTFS"
   ]
  },
  {
   "cell_type": "markdown",
   "metadata": {},
   "source": [
    "### 1. Clean the data\n",
    "Removing missing/wrong data"
   ]
  }
 ],
 "metadata": {
  "kernelspec": {
   "display_name": "Python 3",
   "language": "python",
   "name": "python3"
  },
  "language_info": {
   "codemirror_mode": {
    "name": "ipython",
    "version": 3
   },
   "file_extension": ".py",
   "mimetype": "text/x-python",
   "name": "python",
   "nbconvert_exporter": "python",
   "pygments_lexer": "ipython3",
   "version": "3.6.7"
  }
 },
 "nbformat": 4,
 "nbformat_minor": 2
}
