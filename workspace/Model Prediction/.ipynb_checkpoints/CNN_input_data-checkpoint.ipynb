{
 "cells": [
  {
   "cell_type": "code",
   "execution_count": 1,
   "metadata": {},
   "outputs": [],
   "source": [
    "import numpy as np\n",
    "import pandas as pd\n",
    "import pickle\n",
    "import os\n",
    "from scipy.signal import savgol_filter"
   ]
  },
  {
   "cell_type": "code",
   "execution_count": 2,
   "metadata": {},
   "outputs": [],
   "source": [
    "filename = 'data/input/new_feats_data.csv'\n",
    "\n",
    "input_file = pd.read_csv(filename, index_col=None, header=0)"
   ]
  },
  {
   "cell_type": "code",
   "execution_count": 3,
   "metadata": {},
   "outputs": [
    {
     "data": {
      "text/plain": [
       "(1000, 60)"
      ]
     },
     "execution_count": 3,
     "metadata": {},
     "output_type": "execute_result"
    }
   ],
   "source": [
    "data = input_file[:1000000]\n",
    "data.shape"
   ]
  },
  {
   "cell_type": "code",
   "execution_count": 4,
   "metadata": {},
   "outputs": [],
   "source": [
    "# del input_file"
   ]
  },
  {
   "cell_type": "code",
   "execution_count": 3,
   "metadata": {},
   "outputs": [
    {
     "ename": "MemoryError",
     "evalue": "",
     "output_type": "error",
     "traceback": [
      "\u001b[0;31m---------------------------------------------------------------------------\u001b[0m",
      "\u001b[0;31mMemoryError\u001b[0m                               Traceback (most recent call last)",
      "\u001b[0;32m<ipython-input-3-80608b4d30e2>\u001b[0m in \u001b[0;36m<module>\u001b[0;34m\u001b[0m\n\u001b[1;32m      9\u001b[0m \u001b[0;34m\u001b[0m\u001b[0m\n\u001b[1;32m     10\u001b[0m \u001b[0mThreshold\u001b[0m \u001b[0;34m=\u001b[0m \u001b[0;36m1000\u001b[0m\u001b[0;34m\u001b[0m\u001b[0;34m\u001b[0m\u001b[0m\n\u001b[0;32m---> 11\u001b[0;31m \u001b[0mTotalInput\u001b[0m \u001b[0;34m=\u001b[0m \u001b[0mnp\u001b[0m\u001b[0;34m.\u001b[0m\u001b[0mzeros\u001b[0m\u001b[0;34m(\u001b[0m\u001b[0;34m(\u001b[0m\u001b[0mTotal_InstanceNumber\u001b[0m\u001b[0;34m,\u001b[0m \u001b[0;36m1\u001b[0m\u001b[0;34m,\u001b[0m \u001b[0mThreshold\u001b[0m\u001b[0;34m,\u001b[0m \u001b[0;36m5\u001b[0m\u001b[0;34m)\u001b[0m\u001b[0;34m,\u001b[0m \u001b[0mdtype\u001b[0m\u001b[0;34m=\u001b[0m\u001b[0mfloat\u001b[0m\u001b[0;34m)\u001b[0m\u001b[0;34m\u001b[0m\u001b[0;34m\u001b[0m\u001b[0m\n\u001b[0m\u001b[1;32m     12\u001b[0m \u001b[0mFinalLabel\u001b[0m \u001b[0;34m=\u001b[0m \u001b[0mnp\u001b[0m\u001b[0;34m.\u001b[0m\u001b[0mzeros\u001b[0m\u001b[0;34m(\u001b[0m\u001b[0;34m(\u001b[0m\u001b[0mTotal_InstanceNumber\u001b[0m\u001b[0;34m,\u001b[0m \u001b[0;36m1\u001b[0m\u001b[0;34m)\u001b[0m\u001b[0;34m,\u001b[0m \u001b[0mdtype\u001b[0m\u001b[0;34m=\u001b[0m\u001b[0mint\u001b[0m\u001b[0;34m)\u001b[0m\u001b[0;34m\u001b[0m\u001b[0;34m\u001b[0m\u001b[0m\n\u001b[1;32m     13\u001b[0m \u001b[0mcounter\u001b[0m \u001b[0;34m=\u001b[0m \u001b[0;36m0\u001b[0m\u001b[0;34m\u001b[0m\u001b[0;34m\u001b[0m\u001b[0m\n",
      "\u001b[0;31mMemoryError\u001b[0m: "
     ]
    }
   ],
   "source": [
    "Total_InstanceNumber = len(data)\n",
    "\n",
    "tripNum = data[\"tripNum\"]\n",
    "gpsPointId = data[\"gpsPointId\"]\n",
    "month = data[\"MONTH(gps_datetime)\"]\n",
    "distanceTraveledShape = data[\"distanceTraveledShape\"]\n",
    "alertConfidence = data[\"alertConfidence\"]\n",
    "bb = data[\"busBunching\"]\n",
    "\n",
    "Threshold = 1000\n",
    "TotalInput = np.zeros((Total_InstanceNumber, 1, Threshold, 5), dtype=float)\n",
    "FinalLabel = np.zeros((Total_InstanceNumber, 1), dtype=int)\n",
    "counter = 0\n",
    "\n",
    "for i in range(Total_InstanceNumber):\n",
    "    TotalInput[i, 0, 0:i, 0] = tripNum[i]\n",
    "    TotalInput[i, 0, 0:i, 1] = gpsPointId[i]\n",
    "    TotalInput[i, 0, 0:i, 2] = month[i]\n",
    "    TotalInput[i, 0, 0:i, 3] = distanceTraveledShape[i]\n",
    "    TotalInput[i, 0, 0:i, 4] = alertConfidence[i]\n",
    "    FinalLabel[i, 0] = bb[i]\n",
    "\n",
    "TotalInput = TotalInput[:Total_InstanceNumber, :, :, :]\n",
    "FinalLabel = FinalLabel[:Total_InstanceNumber, 0]"
   ]
  },
  {
   "cell_type": "code",
   "execution_count": 18,
   "metadata": {},
   "outputs": [
    {
     "data": {
      "text/plain": [
       "array([[[[0.0000e+00, 0.0000e+00, 0.0000e+00, 0.0000e+00, 0.0000e+00],\n",
       "         [0.0000e+00, 0.0000e+00, 0.0000e+00, 0.0000e+00, 0.0000e+00],\n",
       "         [0.0000e+00, 0.0000e+00, 0.0000e+00, 0.0000e+00, 0.0000e+00],\n",
       "         ...,\n",
       "         [0.0000e+00, 0.0000e+00, 0.0000e+00, 0.0000e+00, 0.0000e+00],\n",
       "         [0.0000e+00, 0.0000e+00, 0.0000e+00, 0.0000e+00, 0.0000e+00],\n",
       "         [0.0000e+00, 0.0000e+00, 0.0000e+00, 0.0000e+00, 0.0000e+00]]],\n",
       "\n",
       "\n",
       "       [[[1.0000e+00, 3.3000e+01, 1.2000e+01, 2.7940e+03, 0.0000e+00],\n",
       "         [0.0000e+00, 0.0000e+00, 0.0000e+00, 0.0000e+00, 0.0000e+00],\n",
       "         [0.0000e+00, 0.0000e+00, 0.0000e+00, 0.0000e+00, 0.0000e+00],\n",
       "         ...,\n",
       "         [0.0000e+00, 0.0000e+00, 0.0000e+00, 0.0000e+00, 0.0000e+00],\n",
       "         [0.0000e+00, 0.0000e+00, 0.0000e+00, 0.0000e+00, 0.0000e+00],\n",
       "         [0.0000e+00, 0.0000e+00, 0.0000e+00, 0.0000e+00, 0.0000e+00]]],\n",
       "\n",
       "\n",
       "       [[[1.0000e+00,        nan, 1.2000e+01, 2.9710e+03, 0.0000e+00],\n",
       "         [1.0000e+00,        nan, 1.2000e+01, 2.9710e+03, 0.0000e+00],\n",
       "         [0.0000e+00, 0.0000e+00, 0.0000e+00, 0.0000e+00, 0.0000e+00],\n",
       "         ...,\n",
       "         [0.0000e+00, 0.0000e+00, 0.0000e+00, 0.0000e+00, 0.0000e+00],\n",
       "         [0.0000e+00, 0.0000e+00, 0.0000e+00, 0.0000e+00, 0.0000e+00],\n",
       "         [0.0000e+00, 0.0000e+00, 0.0000e+00, 0.0000e+00, 0.0000e+00]]],\n",
       "\n",
       "\n",
       "       ...,\n",
       "\n",
       "\n",
       "       [[[1.0000e+00,        nan, 1.2000e+01, 1.3308e+04, 0.0000e+00],\n",
       "         [1.0000e+00,        nan, 1.2000e+01, 1.3308e+04, 0.0000e+00],\n",
       "         [1.0000e+00,        nan, 1.2000e+01, 1.3308e+04, 0.0000e+00],\n",
       "         ...,\n",
       "         [0.0000e+00, 0.0000e+00, 0.0000e+00, 0.0000e+00, 0.0000e+00],\n",
       "         [0.0000e+00, 0.0000e+00, 0.0000e+00, 0.0000e+00, 0.0000e+00],\n",
       "         [0.0000e+00, 0.0000e+00, 0.0000e+00, 0.0000e+00, 0.0000e+00]]],\n",
       "\n",
       "\n",
       "       [[[1.0000e+00, 2.8100e+02, 1.2000e+01, 1.0100e+02, 0.0000e+00],\n",
       "         [1.0000e+00, 2.8100e+02, 1.2000e+01, 1.0100e+02, 0.0000e+00],\n",
       "         [1.0000e+00, 2.8100e+02, 1.2000e+01, 1.0100e+02, 0.0000e+00],\n",
       "         ...,\n",
       "         [1.0000e+00, 2.8100e+02, 1.2000e+01, 1.0100e+02, 0.0000e+00],\n",
       "         [0.0000e+00, 0.0000e+00, 0.0000e+00, 0.0000e+00, 0.0000e+00],\n",
       "         [0.0000e+00, 0.0000e+00, 0.0000e+00, 0.0000e+00, 0.0000e+00]]],\n",
       "\n",
       "\n",
       "       [[[2.0000e+00, 3.1100e+02, 1.2000e+01, 1.0100e+02, 0.0000e+00],\n",
       "         [2.0000e+00, 3.1100e+02, 1.2000e+01, 1.0100e+02, 0.0000e+00],\n",
       "         [2.0000e+00, 3.1100e+02, 1.2000e+01, 1.0100e+02, 0.0000e+00],\n",
       "         ...,\n",
       "         [2.0000e+00, 3.1100e+02, 1.2000e+01, 1.0100e+02, 0.0000e+00],\n",
       "         [2.0000e+00, 3.1100e+02, 1.2000e+01, 1.0100e+02, 0.0000e+00],\n",
       "         [0.0000e+00, 0.0000e+00, 0.0000e+00, 0.0000e+00, 0.0000e+00]]]])"
      ]
     },
     "execution_count": 18,
     "metadata": {},
     "output_type": "execute_result"
    }
   ],
   "source": [
    "TotalInput"
   ]
  },
  {
   "cell_type": "code",
   "execution_count": 19,
   "metadata": {},
   "outputs": [],
   "source": [
    "with open('data/input/KerasData.pickle', 'wb') as f:  # Python 3: open(..., 'wb')\n",
    "    pickle.dump([TotalInput, FinalLabel], f)"
   ]
  },
  {
   "cell_type": "code",
   "execution_count": null,
   "metadata": {},
   "outputs": [],
   "source": []
  }
 ],
 "metadata": {
  "kernelspec": {
   "display_name": "Python 3",
   "language": "python",
   "name": "python3"
  },
  "language_info": {
   "codemirror_mode": {
    "name": "ipython",
    "version": 3
   },
   "file_extension": ".py",
   "mimetype": "text/x-python",
   "name": "python",
   "nbconvert_exporter": "python",
   "pygments_lexer": "ipython3",
   "version": "3.6.8"
  }
 },
 "nbformat": 4,
 "nbformat_minor": 2
}
