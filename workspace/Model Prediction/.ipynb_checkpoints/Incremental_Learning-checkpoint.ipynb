{
 "cells": [
  {
   "cell_type": "code",
   "execution_count": 1,
   "metadata": {},
   "outputs": [
    {
     "name": "stderr",
     "output_type": "stream",
     "text": [
      "/home/veruska/.local/lib/python3.6/site-packages/sklearn/externals/joblib/__init__.py:15: FutureWarning: sklearn.externals.joblib is deprecated in 0.21 and will be removed in 0.23. Please import this functionality directly from joblib, which can be installed with: pip install joblib. If this warning is raised when loading pickled models, you may need to re-serialize those models with scikit-learn 0.21+.\n",
      "  warnings.warn(msg, category=FutureWarning)\n"
     ]
    }
   ],
   "source": [
    "import numpy as np\n",
    "import pandas as pd\n",
    "import random\n",
    "from sklearn.ensemble import RandomForestClassifier\n",
    "from catboost import CatBoostClassifier\n",
    "from sklearn.metrics import accuracy_score, precision_score, recall_score, f1_score\n",
    "from sklearn.model_selection import train_test_split\n",
    "from xgboost.sklearn import XGBClassifier\n",
    "from sklearn.externals import joblib\n",
    "import time"
   ]
  },
  {
   "cell_type": "code",
   "execution_count": 4,
   "metadata": {},
   "outputs": [
    {
     "name": "stdout",
     "output_type": "stream",
     "text": [
      "(1432633, 420)\n",
      "(1432633, 1)\n"
     ]
    },
    {
     "data": {
      "text/html": [
       "<div>\n",
       "<style scoped>\n",
       "    .dataframe tbody tr th:only-of-type {\n",
       "        vertical-align: middle;\n",
       "    }\n",
       "\n",
       "    .dataframe tbody tr th {\n",
       "        vertical-align: top;\n",
       "    }\n",
       "\n",
       "    .dataframe thead th {\n",
       "        text-align: right;\n",
       "    }\n",
       "</style>\n",
       "<table border=\"1\" class=\"dataframe\">\n",
       "  <thead>\n",
       "    <tr style=\"text-align: right;\">\n",
       "      <th></th>\n",
       "      <th>route</th>\n",
       "      <th>tripNum</th>\n",
       "      <th>shapeSequence</th>\n",
       "      <th>shapeLat</th>\n",
       "      <th>shapeLon</th>\n",
       "      <th>distanceTraveledShape</th>\n",
       "      <th>busCode</th>\n",
       "      <th>gpsPointId</th>\n",
       "      <th>gpsLat</th>\n",
       "      <th>gpsLon</th>\n",
       "      <th>...</th>\n",
       "      <th>alertTypeSB_ACCIDENT</th>\n",
       "      <th>alertTypeSB_CHIT_CHAT</th>\n",
       "      <th>alertTypeSB_HAZARD</th>\n",
       "      <th>alertTypeSB_JAM</th>\n",
       "      <th>alertTypeSB_NORMAL</th>\n",
       "      <th>alertTypeSB_POLICE</th>\n",
       "      <th>alertTypeSB_ROAD_CLOSED</th>\n",
       "      <th>jamBlockTypeSB_-</th>\n",
       "      <th>jamBlockTypeSB_NORMAL</th>\n",
       "      <th>jamBlockTypeSB_ROAD_CLOSED_EVENT</th>\n",
       "    </tr>\n",
       "  </thead>\n",
       "  <tbody>\n",
       "    <tr>\n",
       "      <th>0</th>\n",
       "      <td>0.118068</td>\n",
       "      <td>0.066667</td>\n",
       "      <td>0.085019</td>\n",
       "      <td>0.264600</td>\n",
       "      <td>0.496150</td>\n",
       "      <td>0.057584</td>\n",
       "      <td>0.0</td>\n",
       "      <td>0.000000</td>\n",
       "      <td>0.266155</td>\n",
       "      <td>0.496047</td>\n",
       "      <td>...</td>\n",
       "      <td>0.0</td>\n",
       "      <td>0.0</td>\n",
       "      <td>0.0</td>\n",
       "      <td>1.0</td>\n",
       "      <td>0.0</td>\n",
       "      <td>0.0</td>\n",
       "      <td>0.0</td>\n",
       "      <td>1.0</td>\n",
       "      <td>0.0</td>\n",
       "      <td>0.0</td>\n",
       "    </tr>\n",
       "    <tr>\n",
       "      <th>1</th>\n",
       "      <td>0.118068</td>\n",
       "      <td>0.066667</td>\n",
       "      <td>0.085026</td>\n",
       "      <td>0.270218</td>\n",
       "      <td>0.501802</td>\n",
       "      <td>0.064231</td>\n",
       "      <td>0.0</td>\n",
       "      <td>0.000148</td>\n",
       "      <td>0.271812</td>\n",
       "      <td>0.501642</td>\n",
       "      <td>...</td>\n",
       "      <td>0.0</td>\n",
       "      <td>0.0</td>\n",
       "      <td>0.0</td>\n",
       "      <td>0.0</td>\n",
       "      <td>1.0</td>\n",
       "      <td>0.0</td>\n",
       "      <td>0.0</td>\n",
       "      <td>0.0</td>\n",
       "      <td>1.0</td>\n",
       "      <td>0.0</td>\n",
       "    </tr>\n",
       "    <tr>\n",
       "      <th>2</th>\n",
       "      <td>0.118068</td>\n",
       "      <td>0.066667</td>\n",
       "      <td>0.085033</td>\n",
       "      <td>0.273653</td>\n",
       "      <td>0.505296</td>\n",
       "      <td>0.068301</td>\n",
       "      <td>0.0</td>\n",
       "      <td>0.000000</td>\n",
       "      <td>0.275187</td>\n",
       "      <td>0.505192</td>\n",
       "      <td>...</td>\n",
       "      <td>0.0</td>\n",
       "      <td>0.0</td>\n",
       "      <td>0.0</td>\n",
       "      <td>1.0</td>\n",
       "      <td>0.0</td>\n",
       "      <td>0.0</td>\n",
       "      <td>0.0</td>\n",
       "      <td>1.0</td>\n",
       "      <td>0.0</td>\n",
       "      <td>0.0</td>\n",
       "    </tr>\n",
       "    <tr>\n",
       "      <th>3</th>\n",
       "      <td>0.118068</td>\n",
       "      <td>0.066667</td>\n",
       "      <td>0.085039</td>\n",
       "      <td>0.277433</td>\n",
       "      <td>0.509404</td>\n",
       "      <td>0.072900</td>\n",
       "      <td>0.0</td>\n",
       "      <td>0.000149</td>\n",
       "      <td>0.280622</td>\n",
       "      <td>0.510132</td>\n",
       "      <td>...</td>\n",
       "      <td>0.0</td>\n",
       "      <td>0.0</td>\n",
       "      <td>0.0</td>\n",
       "      <td>0.0</td>\n",
       "      <td>1.0</td>\n",
       "      <td>0.0</td>\n",
       "      <td>0.0</td>\n",
       "      <td>1.0</td>\n",
       "      <td>0.0</td>\n",
       "      <td>0.0</td>\n",
       "    </tr>\n",
       "    <tr>\n",
       "      <th>4</th>\n",
       "      <td>0.118068</td>\n",
       "      <td>0.066667</td>\n",
       "      <td>0.085053</td>\n",
       "      <td>0.280050</td>\n",
       "      <td>0.513166</td>\n",
       "      <td>0.077983</td>\n",
       "      <td>0.0</td>\n",
       "      <td>0.000155</td>\n",
       "      <td>0.281878</td>\n",
       "      <td>0.513178</td>\n",
       "      <td>...</td>\n",
       "      <td>0.0</td>\n",
       "      <td>0.0</td>\n",
       "      <td>0.0</td>\n",
       "      <td>1.0</td>\n",
       "      <td>0.0</td>\n",
       "      <td>0.0</td>\n",
       "      <td>0.0</td>\n",
       "      <td>1.0</td>\n",
       "      <td>0.0</td>\n",
       "      <td>0.0</td>\n",
       "    </tr>\n",
       "  </tbody>\n",
       "</table>\n",
       "<p>5 rows × 420 columns</p>\n",
       "</div>"
      ],
      "text/plain": [
       "      route   tripNum  shapeSequence  shapeLat  shapeLon  \\\n",
       "0  0.118068  0.066667       0.085019  0.264600  0.496150   \n",
       "1  0.118068  0.066667       0.085026  0.270218  0.501802   \n",
       "2  0.118068  0.066667       0.085033  0.273653  0.505296   \n",
       "3  0.118068  0.066667       0.085039  0.277433  0.509404   \n",
       "4  0.118068  0.066667       0.085053  0.280050  0.513166   \n",
       "\n",
       "   distanceTraveledShape  busCode  gpsPointId    gpsLat    gpsLon  ...  \\\n",
       "0               0.057584      0.0    0.000000  0.266155  0.496047  ...   \n",
       "1               0.064231      0.0    0.000148  0.271812  0.501642  ...   \n",
       "2               0.068301      0.0    0.000000  0.275187  0.505192  ...   \n",
       "3               0.072900      0.0    0.000149  0.280622  0.510132  ...   \n",
       "4               0.077983      0.0    0.000155  0.281878  0.513178  ...   \n",
       "\n",
       "   alertTypeSB_ACCIDENT  alertTypeSB_CHIT_CHAT  alertTypeSB_HAZARD  \\\n",
       "0                   0.0                    0.0                 0.0   \n",
       "1                   0.0                    0.0                 0.0   \n",
       "2                   0.0                    0.0                 0.0   \n",
       "3                   0.0                    0.0                 0.0   \n",
       "4                   0.0                    0.0                 0.0   \n",
       "\n",
       "   alertTypeSB_JAM  alertTypeSB_NORMAL  alertTypeSB_POLICE  \\\n",
       "0              1.0                 0.0                 0.0   \n",
       "1              0.0                 1.0                 0.0   \n",
       "2              1.0                 0.0                 0.0   \n",
       "3              0.0                 1.0                 0.0   \n",
       "4              1.0                 0.0                 0.0   \n",
       "\n",
       "   alertTypeSB_ROAD_CLOSED  jamBlockTypeSB_-  jamBlockTypeSB_NORMAL  \\\n",
       "0                      0.0               1.0                    0.0   \n",
       "1                      0.0               0.0                    1.0   \n",
       "2                      0.0               1.0                    0.0   \n",
       "3                      0.0               1.0                    0.0   \n",
       "4                      0.0               1.0                    0.0   \n",
       "\n",
       "   jamBlockTypeSB_ROAD_CLOSED_EVENT  \n",
       "0                               0.0  \n",
       "1                               0.0  \n",
       "2                               0.0  \n",
       "3                               0.0  \n",
       "4                               0.0  \n",
       "\n",
       "[5 rows x 420 columns]"
      ]
     },
     "execution_count": 4,
     "metadata": {},
     "output_type": "execute_result"
    }
   ],
   "source": [
    "data_path = 'data/output/normalized_data_X.csv'\n",
    "y_path = 'data/output/y.csv'\n",
    "\n",
    "data = pd.read_csv(data_path)\n",
    "y = pd.read_csv(y_path)\n",
    "print(data.shape)\n",
    "print(y.shape)\n",
    "data.head()"
   ]
  },
  {
   "cell_type": "code",
   "execution_count": null,
   "metadata": {},
   "outputs": [],
   "source": [
    "# Making training and test data: 80% Training, 20% Test\n",
    "random.seed(15) #to get always the same set\n",
    "train_X, test_X, train_Y, test_Y = train_test_split(data, y, test_size=0.20, random_state=7)\n",
    "train_X_1, train_X_2, train_Y_1, train_Y_2 = train_test_split(train_X, train_Y, test_size=0.50, random_state=7) "
   ]
  },
  {
   "cell_type": "code",
   "execution_count": 4,
   "metadata": {},
   "outputs": [],
   "source": [
    "#1%\n",
    "first_1perc_X = train_X_2[0:350]\n",
    "second_1perc_X = train_X_2[351:701]\n",
    "third_1perc_X = train_X_2[702:1052]\n",
    "first_1perc_Y = train_Y_2[0:350]\n",
    "second_1perc_Y = train_Y_2[351:701]\n",
    "third_1perc_Y = train_Y_2[702:1052]"
   ]
  },
  {
   "cell_type": "code",
   "execution_count": null,
   "metadata": {},
   "outputs": [],
   "source": [
    "#10%\n",
    "first_1perc_X = train_X_2[0:143263]\n",
    "second_1perc_X = train_X_2[143264:286527]\n",
    "third_1perc_X = train_X_2[286528:429791]\n",
    "first_1perc_Y = train_Y_2[0:143263]\n",
    "second_1perc_Y = train_Y_2[143264:286527]\n",
    "third_1perc_Y = train_Y_2[286528:429791]"
   ]
  },
  {
   "cell_type": "code",
   "execution_count": 5,
   "metadata": {},
   "outputs": [
    {
     "name": "stdout",
     "output_type": "stream",
     "text": [
      "(350, 420) (350, 1)\n",
      "(350, 420) (350, 1)\n",
      "(350, 420) (350, 1)\n"
     ]
    }
   ],
   "source": [
    "print(first_1perc_X.shape, first_1perc_Y.shape)\n",
    "print(second_1perc_X.shape, second_1perc_Y.shape)\n",
    "print(third_1perc_X.shape, third_1perc_Y.shape)"
   ]
  },
  {
   "cell_type": "markdown",
   "metadata": {},
   "source": [
    "### Stacking"
   ]
  },
  {
   "cell_type": "code",
   "execution_count": 4,
   "metadata": {},
   "outputs": [
    {
     "name": "stderr",
     "output_type": "stream",
     "text": [
      "/home/veruska_santos/.local/lib/python3.6/site-packages/sklearn/utils/deprecation.py:144: FutureWarning: The sklearn.ensemble.forest module is  deprecated in version 0.22 and will be removed in version 0.24. The corresponding classes / functions should instead be imported from sklearn.ensemble. Anything that cannot be imported from sklearn.ensemble is now part of the private API.\n",
      "  warnings.warn(message, FutureWarning)\n",
      "/home/veruska_santos/.local/lib/python3.6/site-packages/sklearn/utils/deprecation.py:144: FutureWarning: The sklearn.tree.tree module is  deprecated in version 0.22 and will be removed in version 0.24. The corresponding classes / functions should instead be imported from sklearn.tree. Anything that cannot be imported from sklearn.tree is now part of the private API.\n",
      "  warnings.warn(message, FutureWarning)\n",
      "/home/veruska_santos/.local/lib/python3.6/site-packages/sklearn/base.py:318: UserWarning: Trying to unpickle estimator DecisionTreeClassifier from version 0.21.3 when using version 0.22.1. This might lead to breaking code or invalid results. Use at your own risk.\n",
      "  UserWarning)\n",
      "/home/veruska_santos/.local/lib/python3.6/site-packages/sklearn/base.py:318: UserWarning: Trying to unpickle estimator RandomForestClassifier from version 0.21.3 when using version 0.22.1. This might lead to breaking code or invalid results. Use at your own risk.\n",
      "  UserWarning)\n",
      "/home/veruska_santos/.local/lib/python3.6/site-packages/ipykernel_launcher.py:4: SettingWithCopyWarning: \n",
      "A value is trying to be set on a copy of a slice from a DataFrame.\n",
      "Try using .loc[row_indexer,col_indexer] = value instead\n",
      "\n",
      "See the caveats in the documentation: https://pandas.pydata.org/pandas-docs/stable/user_guide/indexing.html#returning-a-view-versus-a-copy\n",
      "  after removing the cwd from sys.path.\n"
     ]
    }
   ],
   "source": [
    "rf = joblib.load('../data/Saved_RF_100_5_08_BB_class.pkl')\n",
    "rf_pred = rf.predict(train_X_1) #train_X\n",
    "\n",
    "train_X_1['rf'] = rf_pred\n",
    "train_X_2['rf'] = rf_pred"
   ]
  },
  {
   "cell_type": "code",
   "execution_count": 5,
   "metadata": {},
   "outputs": [
    {
     "name": "stderr",
     "output_type": "stream",
     "text": [
      "/home/veruska_santos/.local/lib/python3.6/site-packages/sklearn/preprocessing/_label.py:235: DataConversionWarning: A column-vector y was passed when a 1d array was expected. Please change the shape of y to (n_samples, ), for example using ravel().\n",
      "  y = column_or_1d(y, warn=True)\n",
      "/home/veruska_santos/.local/lib/python3.6/site-packages/sklearn/preprocessing/_label.py:268: DataConversionWarning: A column-vector y was passed when a 1d array was expected. Please change the shape of y to (n_samples, ), for example using ravel().\n",
      "  y = column_or_1d(y, warn=True)\n",
      "/home/veruska_santos/.local/lib/python3.6/site-packages/ipykernel_launcher.py:16: SettingWithCopyWarning: \n",
      "A value is trying to be set on a copy of a slice from a DataFrame.\n",
      "Try using .loc[row_indexer,col_indexer] = value instead\n",
      "\n",
      "See the caveats in the documentation: https://pandas.pydata.org/pandas-docs/stable/user_guide/indexing.html#returning-a-view-versus-a-copy\n",
      "  app.launch_new_instance()\n"
     ]
    }
   ],
   "source": [
    "rf_xgboost_stac = XGBClassifier(\n",
    "     learning_rate =0.1,\n",
    "     n_estimators=120, \n",
    "     max_depth=50,\n",
    "     min_child_weight=1,\n",
    "     gamma=0,\n",
    "     subsample=0.8,\n",
    "     colsample_bytree=0.8,\n",
    "     objective= 'binary:logistic',\n",
    "     nthread=-1,\n",
    "     scale_pos_weight=1,\n",
    "     seed=23)\n",
    "\n",
    "rf_xgboost_stac.fit(train_X_1, train_Y_1)\n",
    "xgb_pred = rf_xgboost_stac.predict(train_X_1)\n",
    "train_X_1['xgboost'] = xgb_pred\n",
    "train_X_2['xgboost'] = xgb_pred"
   ]
  },
  {
   "cell_type": "code",
   "execution_count": 8,
   "metadata": {},
   "outputs": [
    {
     "name": "stderr",
     "output_type": "stream",
     "text": [
      "/home/veruska_santos/.local/lib/python3.6/site-packages/ipykernel_launcher.py:30: SettingWithCopyWarning: \n",
      "A value is trying to be set on a copy of a slice from a DataFrame.\n",
      "Try using .loc[row_indexer,col_indexer] = value instead\n",
      "\n",
      "See the caveats in the documentation: https://pandas.pydata.org/pandas-docs/stable/user_guide/indexing.html#returning-a-view-versus-a-copy\n",
      "/home/veruska_santos/.local/lib/python3.6/site-packages/ipykernel_launcher.py:32: SettingWithCopyWarning: \n",
      "A value is trying to be set on a copy of a slice from a DataFrame.\n",
      "Try using .loc[row_indexer,col_indexer] = value instead\n",
      "\n",
      "See the caveats in the documentation: https://pandas.pydata.org/pandas-docs/stable/user_guide/indexing.html#returning-a-view-versus-a-copy\n"
     ]
    },
    {
     "data": {
      "text/plain": [
       "array([0., 0., 0., ..., 0., 0., 0.])"
      ]
     },
     "execution_count": 8,
     "metadata": {},
     "output_type": "execute_result"
    }
   ],
   "source": [
    "rf_xgboost_cb_v1 = CatBoostClassifier(\n",
    "    custom_loss=['Accuracy', 'Precision', 'Recall', 'F1'],\n",
    "    iterations=10000,\n",
    "    learning_rate=0.9,\n",
    "    random_seed=42,\n",
    "    depth=8,\n",
    "    l2_leaf_reg=5,\n",
    "    logging_level='Silent'\n",
    ")\n",
    "\n",
    "rf_xgboost_cb_v1.fit(train_X_1, train_Y_1)\n",
    "rf_xgboost_cb_v1.save_model('cat_1.model')\n",
    "\n",
    "\n",
    "#Incremetal Learning\n",
    "rf_xgboost_cb_final = CatBoostClassifier(\n",
    "    custom_loss=['Accuracy', 'Precision', 'Recall', 'F1'],\n",
    "    iterations=10000,\n",
    "    learning_rate=0.9,\n",
    "    random_seed=42,\n",
    "    depth=8,\n",
    "    l2_leaf_reg=5,\n",
    "    logging_level='Silent'\n",
    ")\n",
    "\n",
    "rf_xgboost_cb_final.fit(train_X_2, train_Y_2, init_model='cat_1.model')\n",
    "\n",
    "\n",
    "rf_pred_test = rf.predict(test_X)\n",
    "test_X['rf'] = rf_pred_test\n",
    "xgb_pred_test = rf_xgboost_stac.predict(test_X)\n",
    "test_X['xgboost'] = xgb_pred_test\n",
    "\n",
    "pred_array = rf_xgboost_cb_final.predict(test_X)\n",
    "pred_array"
   ]
  },
  {
   "cell_type": "code",
   "execution_count": 13,
   "metadata": {},
   "outputs": [
    {
     "name": "stdout",
     "output_type": "stream",
     "text": [
      "Accuracy: 0.9204682281250982\n",
      "Precision: 0.7592866292245541\n",
      "Recall: 0.5992689944785753\n",
      "F-measure: 0.6698539638386647\n"
     ]
    }
   ],
   "source": [
    "# Bus Bunching\n",
    "accuracy = accuracy_score(test_Y.busBunching.values, pred_array)\n",
    "precision = precision_score(test_Y.busBunching.values, pred_array)\n",
    "recall = recall_score(test_Y.busBunching.values, pred_array)\n",
    "f_measure = f1_score(test_Y.busBunching.values, pred_array)\n",
    "\n",
    "print(\"Accuracy: \" + str(accuracy))\n",
    "print(\"Precision: \" + str(precision))\n",
    "print(\"Recall: \" + str(recall))\n",
    "print(\"F-measure: \" + str(f_measure))"
   ]
  },
  {
   "cell_type": "code",
   "execution_count": 9,
   "metadata": {},
   "outputs": [
    {
     "name": "stderr",
     "output_type": "stream",
     "text": [
      "/home/veruska_santos/.local/lib/python3.6/site-packages/ipykernel_launcher.py:5: SettingWithCopyWarning: \n",
      "A value is trying to be set on a copy of a slice from a DataFrame.\n",
      "Try using .loc[row_indexer,col_indexer] = value instead\n",
      "\n",
      "See the caveats in the documentation: https://pandas.pydata.org/pandas-docs/stable/user_guide/indexing.html#returning-a-view-versus-a-copy\n",
      "  \"\"\"\n"
     ]
    }
   ],
   "source": [
    "# saving models\n",
    "joblib.dump(rf_xgboost_cb_final, 'Saved_stacking_IL_RF_XG_CB.pkl')\n",
    "\n",
    "# saving predictions\n",
    "test_Y['predStack'] = pred_array\n",
    "test_Y.to_csv(\"Saved_stacking_IL_RF_XG_CB_testY_pred.csv\", index=False)"
   ]
  },
  {
   "cell_type": "code",
   "execution_count": 12,
   "metadata": {},
   "outputs": [
    {
     "data": {
      "text/plain": [
       "array([0., 1., 0., ..., 0., 0., 0.])"
      ]
     },
     "execution_count": 12,
     "metadata": {},
     "output_type": "execute_result"
    }
   ],
   "source": [
    "test_Y.busBunching.values"
   ]
  },
  {
   "cell_type": "markdown",
   "metadata": {},
   "source": [
    "### Majoriting Voting"
   ]
  },
  {
   "cell_type": "code",
   "execution_count": 16,
   "metadata": {},
   "outputs": [],
   "source": [
    "def get_quality(pred):\n",
    "    accuracy = accuracy_score(test_Y.busBunching.values, pred)\n",
    "    precision = precision_score(test_Y.busBunching.values, pred)\n",
    "    recall = recall_score(test_Y.busBunching.values, pred)\n",
    "    f_measure = f1_score(test_Y.busBunching.values, pred)\n",
    "    \n",
    "    print(\"Accuracy: \" + str(accuracy))\n",
    "    print(\"Precision: \" + str(precision))\n",
    "    print(\"Recall: \" + str(recall))\n",
    "    print(\"F-measure: \" + str(f_measure))"
   ]
  },
  {
   "cell_type": "markdown",
   "metadata": {},
   "source": [
    "#### CatBoost"
   ]
  },
  {
   "cell_type": "code",
   "execution_count": 8,
   "metadata": {},
   "outputs": [],
   "source": [
    "model_1 = CatBoostClassifier(\n",
    "    custom_loss=['Accuracy', 'Precision', 'Recall', 'F1'],\n",
    "    iterations=10000,\n",
    "    learning_rate=0.9,\n",
    "    random_seed=42,\n",
    "    depth=8,\n",
    "    l2_leaf_reg=5,\n",
    "    logging_level='Silent'\n",
    ")\n",
    "model_1.fit(train_X_1, train_Y_1)\n",
    "\n",
    "model_1.save_model('cat_1.model')"
   ]
  },
  {
   "cell_type": "code",
   "execution_count": 17,
   "metadata": {},
   "outputs": [
    {
     "name": "stdout",
     "output_type": "stream",
     "text": [
      "Execution time (min): 96.1477279663086\n"
     ]
    }
   ],
   "source": [
    "model_2_v2 = CatBoostClassifier(\n",
    "    custom_loss=['Accuracy', 'Precision', 'Recall', 'F1'],\n",
    "    iterations=10000,\n",
    "    learning_rate=0.9,\n",
    "    random_seed=42,\n",
    "    depth=8,\n",
    "    l2_leaf_reg=5,\n",
    "    logging_level='Silent'\n",
    ")\n",
    "\n",
    "cat1_time = time.time()\n",
    "model_2_v2.fit(first_1perc_X, first_1perc_Y, init_model='cat_1.model')\n",
    "print(\"Execution time (min): \" + str(time.time() - cat1_time))\n",
    "\n",
    "model_2_v2.save_model('cat_2.model')"
   ]
  },
  {
   "cell_type": "code",
   "execution_count": 25,
   "metadata": {},
   "outputs": [
    {
     "name": "stdout",
     "output_type": "stream",
     "text": [
      "Execution time (min): 96.94785022735596\n"
     ]
    }
   ],
   "source": [
    "model_2_v3 = CatBoostClassifier(\n",
    "    custom_loss=['Accuracy', 'Precision', 'Recall', 'F1'],\n",
    "    iterations=10000,\n",
    "    learning_rate=0.9,\n",
    "    random_seed=42,\n",
    "    depth=8,\n",
    "    l2_leaf_reg=5,\n",
    "    logging_level='Silent'\n",
    ")\n",
    "cat2_time = time.time()\n",
    "model_2_v3.fit(second_1perc_X, second_1perc_Y, init_model='cat_2.model')\n",
    "print(\"Execution time (min): \" + str(time.time() - cat2_time))\n",
    "\n",
    "model_2_v3.save_model('cat_3.model')"
   ]
  },
  {
   "cell_type": "code",
   "execution_count": 33,
   "metadata": {},
   "outputs": [
    {
     "name": "stdout",
     "output_type": "stream",
     "text": [
      "Execution time (min): 97.91175985336304\n"
     ]
    }
   ],
   "source": [
    "model_2_v4 = CatBoostClassifier(\n",
    "    custom_loss=['Accuracy', 'Precision', 'Recall', 'F1'],\n",
    "    iterations=10000,\n",
    "    learning_rate=0.9,\n",
    "    random_seed=42,\n",
    "    depth=8,\n",
    "    l2_leaf_reg=5,\n",
    "    logging_level='Silent'\n",
    ")\n",
    "cat3_time = time.time()\n",
    "model_2_v4.fit(third_1perc_X, third_1perc_Y, init_model='cat_3.model')\n",
    "print(\"Execution time (min): \" + str(time.time() - cat3_time))"
   ]
  },
  {
   "cell_type": "code",
   "execution_count": 34,
   "metadata": {},
   "outputs": [
    {
     "name": "stdout",
     "output_type": "stream",
     "text": [
      "Accuracy: 0.8904466245763925\n",
      "Precision: 0.6668678894822382\n",
      "Recall: 0.3722684501127615\n",
      "F-measure: 0.47780809156241677\n"
     ]
    }
   ],
   "source": [
    "# Bus Bunching 50%-3% all data\n",
    "cat_pred = model_2_v4.predict(test_X)\n",
    "get_quality(cat_pred)"
   ]
  },
  {
   "cell_type": "code",
   "execution_count": 26,
   "metadata": {},
   "outputs": [
    {
     "name": "stdout",
     "output_type": "stream",
     "text": [
      "Accuracy: 0.8981317641967423\n",
      "Precision: 0.7285429141716567\n",
      "Recall: 0.38792544780568733\n",
      "F-measure: 0.5062755844243716\n"
     ]
    }
   ],
   "source": [
    "# Bus Bunching 50%-2% all data\n",
    "cat_pred = model_2_v3.predict(test_X)\n",
    "get_quality(cat_pred)"
   ]
  },
  {
   "cell_type": "code",
   "execution_count": 18,
   "metadata": {},
   "outputs": [
    {
     "name": "stdout",
     "output_type": "stream",
     "text": [
      "Accuracy: 0.9057122016424282\n",
      "Precision: 0.7792916847852346\n",
      "Recall: 0.4180988672006636\n",
      "F-measure: 0.5442183756790497\n"
     ]
    }
   ],
   "source": [
    "# Bus Bunching 50%-1% all data\n",
    "cat_pred = model_2_v2.predict(test_X)\n",
    "get_quality(cat_pred)"
   ]
  },
  {
   "cell_type": "code",
   "execution_count": 9,
   "metadata": {},
   "outputs": [
    {
     "name": "stdout",
     "output_type": "stream",
     "text": [
      "Accuracy: 0.9291096476073808\n",
      "Precision: 0.7820152549177037\n",
      "Recall: 0.6564533271120098\n",
      "F-measure: 0.7137542277339346\n"
     ]
    }
   ],
   "source": [
    "# Bus Bunching 50% all data\n",
    "cat_pred = model_1.predict(test_X)\n",
    "get_quality(cat_pred)"
   ]
  },
  {
   "cell_type": "raw",
   "metadata": {},
   "source": [
    "One day data"
   ]
  },
  {
   "cell_type": "code",
   "execution_count": 26,
   "metadata": {},
   "outputs": [
    {
     "name": "stdout",
     "output_type": "stream",
     "text": [
      "Accuracy: 0.9379695213565142\n",
      "Precision: 0.7379110251450677\n",
      "Recall: 0.5614422369389257\n",
      "F-measure: 0.63769327204346\n"
     ]
    }
   ],
   "source": [
    "cat_pred = model_2_v4.predict(test_X)\n",
    "\n",
    "# Bus Bunching 50%-3%\n",
    "accuracy = accuracy_score(test_Y.busBunching.values, cat_pred)\n",
    "precision = precision_score(test_Y.busBunching.values, cat_pred)\n",
    "recall = recall_score(test_Y.busBunching.values, cat_pred)\n",
    "f_measure = f1_score(test_Y.busBunching.values, cat_pred)\n",
    "\n",
    "print(\"Accuracy: \" + str(accuracy))\n",
    "print(\"Precision: \" + str(precision))\n",
    "print(\"Recall: \" + str(recall))\n",
    "print(\"F-measure: \" + str(f_measure))"
   ]
  },
  {
   "cell_type": "code",
   "execution_count": 18,
   "metadata": {},
   "outputs": [
    {
     "name": "stdout",
     "output_type": "stream",
     "text": [
      "Accuracy: 0.9425484724905201\n",
      "Precision: 0.7477718360071302\n",
      "Recall: 0.6173657100809419\n",
      "F-measure: 0.6763401854091092\n"
     ]
    }
   ],
   "source": [
    "cat_pred = model_2_v3.predict(test_X)\n",
    "\n",
    "# Bus Bunching 50%-2%\n",
    "accuracy = accuracy_score(test_Y.busBunching.values, cat_pred)\n",
    "precision = precision_score(test_Y.busBunching.values, cat_pred)\n",
    "recall = recall_score(test_Y.busBunching.values, cat_pred)\n",
    "f_measure = f1_score(test_Y.busBunching.values, cat_pred)\n",
    "\n",
    "print(\"Accuracy: \" + str(accuracy))\n",
    "print(\"Precision: \" + str(precision))\n",
    "print(\"Recall: \" + str(recall))\n",
    "print(\"F-measure: \" + str(f_measure))"
   ]
  },
  {
   "cell_type": "code",
   "execution_count": 11,
   "metadata": {},
   "outputs": [
    {
     "name": "stdout",
     "output_type": "stream",
     "text": [
      "Accuracy: 0.9479859769621521\n",
      "Precision: 0.8257731958762886\n",
      "Recall: 0.5894039735099338\n",
      "F-measure: 0.6878488621726063\n"
     ]
    }
   ],
   "source": [
    "cat_pred = model_2_v2.predict(test_X)\n",
    "\n",
    "# Bus Bunching 50%-1%\n",
    "accuracy = accuracy_score(test_Y.busBunching.values, cat_pred)\n",
    "precision = precision_score(test_Y.busBunching.values, cat_pred)\n",
    "recall = recall_score(test_Y.busBunching.values, cat_pred)\n",
    "f_measure = f1_score(test_Y.busBunching.values, cat_pred)\n",
    "\n",
    "print(\"Accuracy: \" + str(accuracy))\n",
    "print(\"Precision: \" + str(precision))\n",
    "print(\"Recall: \" + str(recall))\n",
    "print(\"F-measure: \" + str(f_measure))"
   ]
  },
  {
   "cell_type": "code",
   "execution_count": 6,
   "metadata": {},
   "outputs": [
    {
     "name": "stdout",
     "output_type": "stream",
     "text": [
      "Accuracy: 0.9291131376798696\n",
      "Precision: 0.7617805549185966\n",
      "Recall: 0.6889338206703476\n",
      "F-measure: 0.7235282107125842\n"
     ]
    }
   ],
   "source": [
    "cat_pred = model_2_v2.predict(test_X)\n",
    "\n",
    "# Bus Bunching 50%-50%\n",
    "accuracy = accuracy_score(test_Y.busBunching.values, cat_pred)\n",
    "precision = precision_score(test_Y.busBunching.values, cat_pred)\n",
    "recall = recall_score(test_Y.busBunching.values, cat_pred)\n",
    "f_measure = f1_score(test_Y.busBunching.values, cat_pred)\n",
    "\n",
    "print(\"Accuracy: \" + str(accuracy))\n",
    "print(\"Precision: \" + str(precision))\n",
    "print(\"Recall: \" + str(recall))\n",
    "print(\"F-measure: \" + str(f_measure))"
   ]
  },
  {
   "cell_type": "code",
   "execution_count": 34,
   "metadata": {},
   "outputs": [
    {
     "name": "stdout",
     "output_type": "stream",
     "text": [
      "Accuracy: 0.9567146025613508\n",
      "Precision: 0.851024208566108\n",
      "Recall: 0.6725533480500367\n",
      "F-measure: 0.7513357994245787\n"
     ]
    }
   ],
   "source": [
    "cat_pred = model_1.predict(test_X)\n",
    "\n",
    "# Bus Bunching 50%\n",
    "accuracy = accuracy_score(test_Y.busBunching.values, cat_pred)\n",
    "precision = precision_score(test_Y.busBunching.values, cat_pred)\n",
    "recall = recall_score(test_Y.busBunching.values, cat_pred)\n",
    "f_measure = f1_score(test_Y.busBunching.values, cat_pred)\n",
    "\n",
    "print(\"Accuracy: \" + str(accuracy))\n",
    "print(\"Precision: \" + str(precision))\n",
    "print(\"Recall: \" + str(recall))\n",
    "print(\"F-measure: \" + str(f_measure))"
   ]
  },
  {
   "cell_type": "markdown",
   "metadata": {},
   "source": [
    "#### XGBoost"
   ]
  },
  {
   "cell_type": "code",
   "execution_count": 10,
   "metadata": {},
   "outputs": [
    {
     "name": "stderr",
     "output_type": "stream",
     "text": [
      "/home/veruska_santos/.local/lib/python3.6/site-packages/sklearn/preprocessing/_label.py:235: DataConversionWarning: A column-vector y was passed when a 1d array was expected. Please change the shape of y to (n_samples, ), for example using ravel().\n",
      "  y = column_or_1d(y, warn=True)\n",
      "/home/veruska_santos/.local/lib/python3.6/site-packages/sklearn/preprocessing/_label.py:268: DataConversionWarning: A column-vector y was passed when a 1d array was expected. Please change the shape of y to (n_samples, ), for example using ravel().\n",
      "  y = column_or_1d(y, warn=True)\n"
     ]
    }
   ],
   "source": [
    "xgb_1 = XGBClassifier(\n",
    "     learning_rate =0.1,\n",
    "     n_estimators=120, \n",
    "     max_depth=50,\n",
    "     min_child_weight=1,\n",
    "     gamma=0,\n",
    "     subsample=0.8,\n",
    "     colsample_bytree=0.8,\n",
    "     objective= 'binary:logistic',\n",
    "     nthread=-1,\n",
    "     scale_pos_weight=1,\n",
    "     seed=23)\n",
    "xgb_1.fit(train_X_1, train_Y_1)\n",
    "\n",
    "xgb_1.save_model('xgb_1.model')"
   ]
  },
  {
   "cell_type": "code",
   "execution_count": 19,
   "metadata": {},
   "outputs": [
    {
     "name": "stderr",
     "output_type": "stream",
     "text": [
      "/home/veruska_santos/.local/lib/python3.6/site-packages/sklearn/preprocessing/_label.py:235: DataConversionWarning: A column-vector y was passed when a 1d array was expected. Please change the shape of y to (n_samples, ), for example using ravel().\n",
      "  y = column_or_1d(y, warn=True)\n",
      "/home/veruska_santos/.local/lib/python3.6/site-packages/sklearn/preprocessing/_label.py:268: DataConversionWarning: A column-vector y was passed when a 1d array was expected. Please change the shape of y to (n_samples, ), for example using ravel().\n",
      "  y = column_or_1d(y, warn=True)\n"
     ]
    },
    {
     "name": "stdout",
     "output_type": "stream",
     "text": [
      "Execution time (min): 4.232481479644775\n"
     ]
    }
   ],
   "source": [
    "xgb_2_v2 = XGBClassifier(\n",
    "     learning_rate =0.1,\n",
    "     n_estimators=120, \n",
    "     max_depth=50,\n",
    "     min_child_weight=1,\n",
    "     gamma=0,\n",
    "     subsample=0.8,\n",
    "     colsample_bytree=0.8,\n",
    "     objective= 'binary:logistic',\n",
    "     nthread=-1,\n",
    "     scale_pos_weight=1,\n",
    "     seed=23)\n",
    "xgb1_time = time.time()\n",
    "xgb_2_v2.fit(first_1perc_X, first_1perc_Y, xgb_model='xgb_1.model')\n",
    "print(\"Execution time (min): \" + str(time.time() - xgb1_time))\n",
    "xgb_2_v2.save_model('xgb_2.model')"
   ]
  },
  {
   "cell_type": "code",
   "execution_count": 27,
   "metadata": {},
   "outputs": [
    {
     "name": "stderr",
     "output_type": "stream",
     "text": [
      "/home/veruska_santos/.local/lib/python3.6/site-packages/sklearn/preprocessing/_label.py:235: DataConversionWarning: A column-vector y was passed when a 1d array was expected. Please change the shape of y to (n_samples, ), for example using ravel().\n",
      "  y = column_or_1d(y, warn=True)\n",
      "/home/veruska_santos/.local/lib/python3.6/site-packages/sklearn/preprocessing/_label.py:268: DataConversionWarning: A column-vector y was passed when a 1d array was expected. Please change the shape of y to (n_samples, ), for example using ravel().\n",
      "  y = column_or_1d(y, warn=True)\n"
     ]
    },
    {
     "name": "stdout",
     "output_type": "stream",
     "text": [
      "Execution time (min): 3.8110358715057373\n"
     ]
    }
   ],
   "source": [
    "xgb_2_v3 = XGBClassifier(\n",
    "     learning_rate =0.1,\n",
    "     n_estimators=120, \n",
    "     max_depth=50,\n",
    "     min_child_weight=1,\n",
    "     gamma=0,\n",
    "     subsample=0.8,\n",
    "     colsample_bytree=0.8,\n",
    "     objective= 'binary:logistic',\n",
    "     nthread=-1,\n",
    "     scale_pos_weight=1,\n",
    "     seed=23)\n",
    "xgb2_time = time.time()\n",
    "xgb_2_v3.fit(second_1perc_X, second_1perc_Y, xgb_model='xgb_2.model')\n",
    "print(\"Execution time (min): \" + str(time.time() - xgb2_time))\n",
    "xgb_2_v3.save_model('xgb_3.model')"
   ]
  },
  {
   "cell_type": "code",
   "execution_count": 35,
   "metadata": {},
   "outputs": [
    {
     "name": "stderr",
     "output_type": "stream",
     "text": [
      "/home/veruska_santos/.local/lib/python3.6/site-packages/sklearn/preprocessing/_label.py:235: DataConversionWarning: A column-vector y was passed when a 1d array was expected. Please change the shape of y to (n_samples, ), for example using ravel().\n",
      "  y = column_or_1d(y, warn=True)\n",
      "/home/veruska_santos/.local/lib/python3.6/site-packages/sklearn/preprocessing/_label.py:268: DataConversionWarning: A column-vector y was passed when a 1d array was expected. Please change the shape of y to (n_samples, ), for example using ravel().\n",
      "  y = column_or_1d(y, warn=True)\n"
     ]
    },
    {
     "name": "stdout",
     "output_type": "stream",
     "text": [
      "Execution time (min): 3.822972059249878\n"
     ]
    }
   ],
   "source": [
    "xgb_2_v4 = XGBClassifier(\n",
    "     learning_rate =0.1,\n",
    "     n_estimators=120, \n",
    "     max_depth=50,\n",
    "     min_child_weight=1,\n",
    "     gamma=0,\n",
    "     subsample=0.8,\n",
    "     colsample_bytree=0.8,\n",
    "     objective= 'binary:logistic',\n",
    "     nthread=-1,\n",
    "     scale_pos_weight=1,\n",
    "     seed=23)\n",
    "xgb3_time = time.time()\n",
    "xgb_2_v4.fit(third_1perc_X, third_1perc_Y, xgb_model='xgb_3.model')\n",
    "print(\"Execution time (min): \" + str(time.time() - xgb3_time))"
   ]
  },
  {
   "cell_type": "code",
   "execution_count": 36,
   "metadata": {},
   "outputs": [
    {
     "name": "stdout",
     "output_type": "stream",
     "text": [
      "Accuracy: 0.910507561242047\n",
      "Precision: 0.823423513527029\n",
      "Recall: 0.42683464240350466\n",
      "F-measure: 0.562228975313279\n"
     ]
    }
   ],
   "source": [
    "# Bus Bunching 50%-3% all data\n",
    "xgb_pred = xgb_2_v4.predict(test_X)\n",
    "get_quality(xgb_pred)"
   ]
  },
  {
   "cell_type": "code",
   "execution_count": 28,
   "metadata": {},
   "outputs": [
    {
     "name": "stdout",
     "output_type": "stream",
     "text": [
      "Accuracy: 0.9150830462748711\n",
      "Precision: 0.8164652567975831\n",
      "Recall: 0.47637193146175183\n",
      "F-measure: 0.6016861750020464\n"
     ]
    }
   ],
   "source": [
    "# Bus Bunching 50%-2% all data\n",
    "xgb_pred = xgb_2_v3.predict(test_X)\n",
    "get_quality(xgb_pred)"
   ]
  },
  {
   "cell_type": "code",
   "execution_count": 20,
   "metadata": {},
   "outputs": [
    {
     "name": "stdout",
     "output_type": "stream",
     "text": [
      "Accuracy: 0.9209568382735309\n",
      "Precision: 0.8319509857041637\n",
      "Recall: 0.517432667133266\n",
      "F-measure: 0.6380373981141122\n"
     ]
    }
   ],
   "source": [
    "# Bus Bunching 50%-1% all data\n",
    "xgb_pred = xgb_2_v2.predict(test_X)\n",
    "get_quality(xgb_pred)"
   ]
  },
  {
   "cell_type": "code",
   "execution_count": 11,
   "metadata": {},
   "outputs": [
    {
     "name": "stdout",
     "output_type": "stream",
     "text": [
      "Accuracy: 0.9325299186464103\n",
      "Precision: 0.879271609317725\n",
      "Recall: 0.5782720273738238\n",
      "F-measure: 0.6976918746481516\n"
     ]
    }
   ],
   "source": [
    "# Bus Bunching 50% all data\n",
    "xgb_pred = xgb_1.predict(test_X)\n",
    "get_quality(xgb_pred)"
   ]
  },
  {
   "cell_type": "raw",
   "metadata": {},
   "source": [
    "One day - data"
   ]
  },
  {
   "cell_type": "code",
   "execution_count": 28,
   "metadata": {},
   "outputs": [
    {
     "name": "stdout",
     "output_type": "stream",
     "text": [
      "Accuracy: 0.9333905702225084\n",
      "Precision: 0.6804384485666105\n",
      "Recall: 0.5938189845474614\n",
      "F-measure: 0.6341846758349705\n"
     ]
    }
   ],
   "source": [
    "xgb_pred = xgb_2_v4.predict(test_X)\n",
    "\n",
    "# Bus Bunching 50%-3%\n",
    "accuracy = accuracy_score(test_Y.busBunching.values, xgb_pred)\n",
    "precision = precision_score(test_Y.busBunching.values, xgb_pred)\n",
    "recall = recall_score(test_Y.busBunching.values, xgb_pred)\n",
    "f_measure = f1_score(test_Y.busBunching.values, xgb_pred)\n",
    "\n",
    "print(\"Accuracy: \" + str(accuracy))\n",
    "print(\"Precision: \" + str(precision))\n",
    "print(\"Recall: \" + str(recall))\n",
    "print(\"F-measure: \" + str(f_measure))"
   ]
  },
  {
   "cell_type": "code",
   "execution_count": 20,
   "metadata": {},
   "outputs": [
    {
     "name": "stdout",
     "output_type": "stream",
     "text": [
      "Accuracy: 0.943478571939615\n",
      "Precision: 0.7847847847847848\n",
      "Recall: 0.5768947755702722\n",
      "F-measure: 0.6649703138252756\n"
     ]
    }
   ],
   "source": [
    "xgb_pred = xgb_2_v3.predict(test_X)\n",
    "\n",
    "# Bus Bunching 50%-2%\n",
    "accuracy = accuracy_score(test_Y.busBunching.values, xgb_pred)\n",
    "precision = precision_score(test_Y.busBunching.values, xgb_pred)\n",
    "recall = recall_score(test_Y.busBunching.values, xgb_pred)\n",
    "f_measure = f1_score(test_Y.busBunching.values, xgb_pred)\n",
    "\n",
    "print(\"Accuracy: \" + str(accuracy))\n",
    "print(\"Precision: \" + str(precision))\n",
    "print(\"Recall: \" + str(recall))\n",
    "print(\"F-measure: \" + str(f_measure))"
   ]
  },
  {
   "cell_type": "code",
   "execution_count": 14,
   "metadata": {},
   "outputs": [
    {
     "name": "stdout",
     "output_type": "stream",
     "text": [
      "Accuracy: 0.9483437075194964\n",
      "Precision: 0.8503850385038504\n",
      "Recall: 0.5688005886681383\n",
      "F-measure: 0.681657848324515\n"
     ]
    }
   ],
   "source": [
    "xgb_pred = xgb_2_v2.predict(test_X)\n",
    "\n",
    "# Bus Bunching 50%-1%\n",
    "accuracy = accuracy_score(test_Y.busBunching.values, xgb_pred)\n",
    "precision = precision_score(test_Y.busBunching.values, xgb_pred)\n",
    "recall = recall_score(test_Y.busBunching.values, xgb_pred)\n",
    "f_measure = f1_score(test_Y.busBunching.values, xgb_pred)\n",
    "\n",
    "print(\"Accuracy: \" + str(accuracy))\n",
    "print(\"Precision: \" + str(precision))\n",
    "print(\"Recall: \" + str(recall))\n",
    "print(\"F-measure: \" + str(f_measure))"
   ]
  },
  {
   "cell_type": "code",
   "execution_count": 9,
   "metadata": {},
   "outputs": [
    {
     "name": "stdout",
     "output_type": "stream",
     "text": [
      "Accuracy: 0.9390074931856335\n",
      "Precision: 0.8725590592888167\n",
      "Recall: 0.6405371076029759\n",
      "F-measure: 0.7387586701745994\n"
     ]
    }
   ],
   "source": [
    "xgb_pred = xgb_2_v2.predict(test_X)\n",
    "\n",
    "# Bus Bunching 50%-50%\n",
    "accuracy = accuracy_score(test_Y.busBunching.values, xgb_pred)\n",
    "precision = precision_score(test_Y.busBunching.values, xgb_pred)\n",
    "recall = recall_score(test_Y.busBunching.values, xgb_pred)\n",
    "f_measure = f1_score(test_Y.busBunching.values, xgb_pred)\n",
    "\n",
    "print(\"Accuracy: \" + str(accuracy))\n",
    "print(\"Precision: \" + str(precision))\n",
    "print(\"Recall: \" + str(recall))\n",
    "print(\"F-measure: \" + str(f_measure))"
   ]
  },
  {
   "cell_type": "code",
   "execution_count": 36,
   "metadata": {},
   "outputs": [
    {
     "name": "stdout",
     "output_type": "stream",
     "text": [
      "Accuracy: 0.9567861486728196\n",
      "Precision: 0.9180509413067552\n",
      "Recall: 0.6100073583517293\n",
      "F-measure: 0.7329796640141468\n"
     ]
    }
   ],
   "source": [
    "xgb_pred = xgb_1.predict(test_X)\n",
    "\n",
    "# Bus Bunching 50%\n",
    "accuracy = accuracy_score(test_Y.busBunching.values, xgb_pred)\n",
    "precision = precision_score(test_Y.busBunching.values, xgb_pred)\n",
    "recall = recall_score(test_Y.busBunching.values, xgb_pred)\n",
    "f_measure = f1_score(test_Y.busBunching.values, xgb_pred)\n",
    "\n",
    "print(\"Accuracy: \" + str(accuracy))\n",
    "print(\"Precision: \" + str(precision))\n",
    "print(\"Recall: \" + str(recall))\n",
    "print(\"F-measure: \" + str(f_measure))"
   ]
  },
  {
   "cell_type": "markdown",
   "metadata": {},
   "source": [
    "#### Random Forest"
   ]
  },
  {
   "cell_type": "code",
   "execution_count": 12,
   "metadata": {},
   "outputs": [
    {
     "name": "stderr",
     "output_type": "stream",
     "text": [
      "/home/veruska_santos/.local/lib/python3.6/site-packages/ipykernel_launcher.py:4: DataConversionWarning: A column-vector y was passed when a 1d array was expected. Please change the shape of y to (n_samples,), for example using ravel().\n",
      "  after removing the cwd from sys.path.\n"
     ]
    },
    {
     "data": {
      "text/plain": [
       "RandomForestClassifier(bootstrap=True, ccp_alpha=0.0, class_weight=None,\n",
       "                       criterion='gini', max_depth=None, max_features=0.8,\n",
       "                       max_leaf_nodes=None, max_samples=None,\n",
       "                       min_impurity_decrease=0.0, min_impurity_split=None,\n",
       "                       min_samples_leaf=1, min_samples_split=5,\n",
       "                       min_weight_fraction_leaf=0.0, n_estimators=100,\n",
       "                       n_jobs=-1, oob_score=False, random_state=None, verbose=0,\n",
       "                       warm_start=True)"
      ]
     },
     "execution_count": 12,
     "metadata": {},
     "output_type": "execute_result"
    }
   ],
   "source": [
    "random.seed(42)\n",
    "rf_1 = RandomForestClassifier(n_estimators=100, min_samples_split=5,\n",
    "                           max_features=0.8, n_jobs=-1, warm_start=True)\n",
    "rf_1.fit(train_X_1, train_Y_1)"
   ]
  },
  {
   "cell_type": "code",
   "execution_count": 21,
   "metadata": {},
   "outputs": [
    {
     "name": "stdout",
     "output_type": "stream",
     "text": [
      "Execution time (min): 0.004337310791015625\n"
     ]
    },
    {
     "name": "stderr",
     "output_type": "stream",
     "text": [
      "/home/veruska_santos/.local/lib/python3.6/site-packages/ipykernel_launcher.py:3: DataConversionWarning: A column-vector y was passed when a 1d array was expected. Please change the shape of y to (n_samples,), for example using ravel().\n",
      "  This is separate from the ipykernel package so we can avoid doing imports until\n",
      "/home/veruska_santos/.local/lib/python3.6/site-packages/sklearn/ensemble/_forest.py:359: UserWarning: Warm-start fitting without increasing n_estimators does not fit new trees.\n",
      "  warn(\"Warm-start fitting without increasing n_estimators does not \"\n"
     ]
    }
   ],
   "source": [
    "random.seed(42)\n",
    "rf1_time = time.time()\n",
    "rf_1.fit(first_1perc_X, first_1perc_Y)\n",
    "print(\"Execution time (min): \" + str(time.time() - rf1_time))"
   ]
  },
  {
   "cell_type": "code",
   "execution_count": 29,
   "metadata": {},
   "outputs": [
    {
     "name": "stdout",
     "output_type": "stream",
     "text": [
      "Execution time (min): 0.002845287322998047\n"
     ]
    },
    {
     "name": "stderr",
     "output_type": "stream",
     "text": [
      "/home/veruska_santos/.local/lib/python3.6/site-packages/ipykernel_launcher.py:3: DataConversionWarning: A column-vector y was passed when a 1d array was expected. Please change the shape of y to (n_samples,), for example using ravel().\n",
      "  This is separate from the ipykernel package so we can avoid doing imports until\n",
      "/home/veruska_santos/.local/lib/python3.6/site-packages/sklearn/ensemble/_forest.py:359: UserWarning: Warm-start fitting without increasing n_estimators does not fit new trees.\n",
      "  warn(\"Warm-start fitting without increasing n_estimators does not \"\n"
     ]
    }
   ],
   "source": [
    "random.seed(42)\n",
    "rf2_time = time.time()\n",
    "rf_1.fit(second_1perc_X, second_1perc_Y)\n",
    "print(\"Execution time (min): \" + str(time.time() - rf2_time))"
   ]
  },
  {
   "cell_type": "code",
   "execution_count": 37,
   "metadata": {},
   "outputs": [
    {
     "name": "stdout",
     "output_type": "stream",
     "text": [
      "Execution time (min): 0.0033724308013916016\n"
     ]
    },
    {
     "name": "stderr",
     "output_type": "stream",
     "text": [
      "/home/veruska_santos/.local/lib/python3.6/site-packages/ipykernel_launcher.py:3: DataConversionWarning: A column-vector y was passed when a 1d array was expected. Please change the shape of y to (n_samples,), for example using ravel().\n",
      "  This is separate from the ipykernel package so we can avoid doing imports until\n",
      "/home/veruska_santos/.local/lib/python3.6/site-packages/sklearn/ensemble/_forest.py:359: UserWarning: Warm-start fitting without increasing n_estimators does not fit new trees.\n",
      "  warn(\"Warm-start fitting without increasing n_estimators does not \"\n"
     ]
    }
   ],
   "source": [
    "random.seed(42)\n",
    "rf3_time = time.time()\n",
    "rf_1.fit(third_1perc_X, third_1perc_Y)\n",
    "print(\"Execution time (min): \" + str(time.time() - rf3_time))"
   ]
  },
  {
   "cell_type": "code",
   "execution_count": 38,
   "metadata": {},
   "outputs": [
    {
     "name": "stdout",
     "output_type": "stream",
     "text": [
      "Accuracy: 0.9345402003999623\n",
      "Precision: 0.8786246418338108\n",
      "Recall: 0.5961583326852788\n",
      "F-measure: 0.7103409933283915\n"
     ]
    }
   ],
   "source": [
    "# Bus Bunching 50%-3% all data\n",
    "rf_pred = rf_1.predict(test_X)\n",
    "get_quality(rf_pred)"
   ]
  },
  {
   "cell_type": "code",
   "execution_count": 30,
   "metadata": {},
   "outputs": [
    {
     "name": "stdout",
     "output_type": "stream",
     "text": [
      "Accuracy: 0.9345402003999623\n",
      "Precision: 0.8786246418338108\n",
      "Recall: 0.5961583326852788\n",
      "F-measure: 0.7103409933283915\n"
     ]
    }
   ],
   "source": [
    "# Bus Bunching 50%-2% all data\n",
    "rf_pred = rf_1.predict(test_X)\n",
    "get_quality(rf_pred)"
   ]
  },
  {
   "cell_type": "code",
   "execution_count": 22,
   "metadata": {},
   "outputs": [
    {
     "name": "stdout",
     "output_type": "stream",
     "text": [
      "Accuracy: 0.9345402003999623\n",
      "Precision: 0.8786246418338108\n",
      "Recall: 0.5961583326852788\n",
      "F-measure: 0.7103409933283915\n"
     ]
    }
   ],
   "source": [
    "# Bus Bunching 50%-1% all data\n",
    "rf_pred = rf_1.predict(test_X)\n",
    "get_quality(rf_pred)"
   ]
  },
  {
   "cell_type": "code",
   "execution_count": 13,
   "metadata": {},
   "outputs": [
    {
     "name": "stdout",
     "output_type": "stream",
     "text": [
      "Accuracy: 0.9345402003999623\n",
      "Precision: 0.8786246418338108\n",
      "Recall: 0.5961583326852788\n",
      "F-measure: 0.7103409933283915\n"
     ]
    }
   ],
   "source": [
    "# Bus Bunching 50% all data\n",
    "rf_pred = rf_1.predict(test_X)\n",
    "get_quality(rf_pred)"
   ]
  },
  {
   "cell_type": "raw",
   "metadata": {},
   "source": [
    "One day - data"
   ]
  },
  {
   "cell_type": "code",
   "execution_count": 30,
   "metadata": {},
   "outputs": [
    {
     "name": "stdout",
     "output_type": "stream",
     "text": [
      "Accuracy: 0.9559991414466624\n",
      "Precision: 0.903470715835141\n",
      "Recall: 0.6129506990434143\n",
      "F-measure: 0.7303814116615519\n"
     ]
    }
   ],
   "source": [
    "rf_pred = rf_1.predict(test_X)\n",
    "\n",
    "# Bus Bunching 50%-3%\n",
    "accuracy = accuracy_score(test_Y.busBunching.values, rf_pred)\n",
    "precision = precision_score(test_Y.busBunching.values, rf_pred)\n",
    "recall = recall_score(test_Y.busBunching.values, rf_pred)\n",
    "f_measure = f1_score(test_Y.busBunching.values, rf_pred)\n",
    "\n",
    "print(\"Accuracy: \" + str(accuracy))\n",
    "print(\"Precision: \" + str(precision))\n",
    "print(\"Recall: \" + str(recall))\n",
    "print(\"F-measure: \" + str(f_measure))"
   ]
  },
  {
   "cell_type": "code",
   "execution_count": 22,
   "metadata": {},
   "outputs": [
    {
     "name": "stdout",
     "output_type": "stream",
     "text": [
      "Accuracy: 0.9559991414466624\n",
      "Precision: 0.903470715835141\n",
      "Recall: 0.6129506990434143\n",
      "F-measure: 0.7303814116615519\n"
     ]
    }
   ],
   "source": [
    "rf_pred = rf_1.predict(test_X)\n",
    "\n",
    "# Bus Bunching 50%-2%\n",
    "accuracy = accuracy_score(test_Y.busBunching.values, rf_pred)\n",
    "precision = precision_score(test_Y.busBunching.values, rf_pred)\n",
    "recall = recall_score(test_Y.busBunching.values, rf_pred)\n",
    "f_measure = f1_score(test_Y.busBunching.values, rf_pred)\n",
    "\n",
    "print(\"Accuracy: \" + str(accuracy))\n",
    "print(\"Precision: \" + str(precision))\n",
    "print(\"Recall: \" + str(recall))\n",
    "print(\"F-measure: \" + str(f_measure))"
   ]
  },
  {
   "cell_type": "code",
   "execution_count": 8,
   "metadata": {},
   "outputs": [
    {
     "name": "stdout",
     "output_type": "stream",
     "text": [
      "Accuracy: 0.9559991414466624\n",
      "Precision: 0.903470715835141\n",
      "Recall: 0.6129506990434143\n",
      "F-measure: 0.7303814116615519\n"
     ]
    }
   ],
   "source": [
    "rf_pred = rf_1.predict(test_X)\n",
    "\n",
    "# Bus Bunching 50%-1%\n",
    "accuracy = accuracy_score(test_Y.busBunching.values, rf_pred)\n",
    "precision = precision_score(test_Y.busBunching.values, rf_pred)\n",
    "recall = recall_score(test_Y.busBunching.values, rf_pred)\n",
    "f_measure = f1_score(test_Y.busBunching.values, rf_pred)\n",
    "\n",
    "print(\"Accuracy: \" + str(accuracy))\n",
    "print(\"Precision: \" + str(precision))\n",
    "print(\"Recall: \" + str(recall))\n",
    "print(\"F-measure: \" + str(f_measure))"
   ]
  },
  {
   "cell_type": "code",
   "execution_count": 12,
   "metadata": {},
   "outputs": [
    {
     "name": "stdout",
     "output_type": "stream",
     "text": [
      "Accuracy: 0.9390074931856335\n",
      "Precision: 0.8725590592888167\n",
      "Recall: 0.6405371076029759\n",
      "F-measure: 0.7387586701745994\n"
     ]
    }
   ],
   "source": [
    "rf_pred = xgb_2_v2.predict(test_X)\n",
    "\n",
    "# Bus Bunching 50%-50%\n",
    "accuracy = accuracy_score(test_Y.busBunching.values, rf_pred)\n",
    "precision = precision_score(test_Y.busBunching.values, rf_pred)\n",
    "recall = recall_score(test_Y.busBunching.values, rf_pred)\n",
    "f_measure = f1_score(test_Y.busBunching.values, rf_pred)\n",
    "\n",
    "print(\"Accuracy: \" + str(accuracy))\n",
    "print(\"Precision: \" + str(precision))\n",
    "print(\"Recall: \" + str(recall))\n",
    "print(\"F-measure: \" + str(f_measure))"
   ]
  },
  {
   "cell_type": "code",
   "execution_count": 38,
   "metadata": {},
   "outputs": [
    {
     "name": "stdout",
     "output_type": "stream",
     "text": [
      "Accuracy: 0.957072333118695\n",
      "Precision: 0.9129488574537541\n",
      "Recall: 0.6173657100809419\n",
      "F-measure: 0.736611062335382\n"
     ]
    }
   ],
   "source": [
    "rf_pred = rf_1.predict(test_X)\n",
    "\n",
    "# Bus Bunching 50%\n",
    "accuracy = accuracy_score(test_Y.busBunching.values, rf_pred)\n",
    "precision = precision_score(test_Y.busBunching.values, rf_pred)\n",
    "recall = recall_score(test_Y.busBunching.values, rf_pred)\n",
    "f_measure = f1_score(test_Y.busBunching.values, rf_pred)\n",
    "\n",
    "print(\"Accuracy: \" + str(accuracy))\n",
    "print(\"Precision: \" + str(precision))\n",
    "print(\"Recall: \" + str(recall))\n",
    "print(\"F-measure: \" + str(f_measure))"
   ]
  },
  {
   "cell_type": "code",
   "execution_count": 39,
   "metadata": {},
   "outputs": [],
   "source": [
    "final_predictions = []\n",
    "\n",
    "for i in range(0, len(rf_pred)):\n",
    "    temp_preds = []\n",
    "    temp_preds.append(rf_pred[i])\n",
    "    temp_preds.append(cat_pred[i])\n",
    "    temp_preds.append(xgb_pred[i])\n",
    "    \n",
    "    final_predictions.append(\n",
    "        max(temp_preds,key=temp_preds.count)\n",
    "    )"
   ]
  },
  {
   "cell_type": "code",
   "execution_count": 40,
   "metadata": {},
   "outputs": [
    {
     "name": "stdout",
     "output_type": "stream",
     "text": [
      "Accuracy: 0.9190966296369976\n",
      "Precision: 0.8795857988165681\n",
      "Recall: 0.46239987557352824\n",
      "F-measure: 0.6061471022987919\n"
     ]
    }
   ],
   "source": [
    "# Bus Bunching 50%-3% all data\n",
    "get_quality(final_predictions)"
   ]
  },
  {
   "cell_type": "code",
   "execution_count": 32,
   "metadata": {},
   "outputs": [
    {
     "name": "stdout",
     "output_type": "stream",
     "text": [
      "Accuracy: 0.9225169006760271\n",
      "Precision: 0.8739495798319328\n",
      "Recall: 0.4960468673043523\n",
      "F-measure: 0.632877482512857\n"
     ]
    }
   ],
   "source": [
    "# Bus Bunching 50%-2% all data\n",
    "get_quality(final_predictions)"
   ]
  },
  {
   "cell_type": "code",
   "execution_count": 24,
   "metadata": {},
   "outputs": [
    {
     "name": "stdout",
     "output_type": "stream",
     "text": [
      "Accuracy: 0.9257417276556834\n",
      "Precision: 0.8769720212673233\n",
      "Recall: 0.5216320605542163\n",
      "F-measure: 0.6541618581668646\n"
     ]
    }
   ],
   "source": [
    "# Bus Bunching 50%-1% all data\n",
    "get_quality(final_predictions)"
   ]
  },
  {
   "cell_type": "code",
   "execution_count": 15,
   "metadata": {},
   "outputs": [
    {
     "name": "stdout",
     "output_type": "stream",
     "text": [
      "Accuracy: 0.9361037528749472\n",
      "Precision: 0.8803527866391443\n",
      "Recall: 0.608056614044638\n",
      "F-measure: 0.7192971696666768\n"
     ]
    }
   ],
   "source": [
    "# Bus Bunching 50% all data\n",
    "get_quality(final_predictions)"
   ]
  },
  {
   "cell_type": "raw",
   "metadata": {},
   "source": [
    "One day - data"
   ]
  },
  {
   "cell_type": "code",
   "execution_count": 32,
   "metadata": {},
   "outputs": [
    {
     "name": "stdout",
     "output_type": "stream",
     "text": [
      "Accuracy: 0.9497746297488732\n",
      "Precision: 0.841831425598335\n",
      "Recall: 0.5952906548933039\n",
      "F-measure: 0.6974137931034482\n"
     ]
    }
   ],
   "source": [
    "# Bus Bunching 50%-3%\n",
    "accuracy = accuracy_score(test_Y.busBunching.values, final_predictions)\n",
    "precision = precision_score(test_Y.busBunching.values, final_predictions)\n",
    "recall = recall_score(test_Y.busBunching.values, final_predictions)\n",
    "f_measure = f1_score(test_Y.busBunching.values, final_predictions)\n",
    "\n",
    "print(\"Accuracy: \" + str(accuracy))\n",
    "print(\"Precision: \" + str(precision))\n",
    "print(\"Recall: \" + str(recall))\n",
    "print(\"F-measure: \" + str(f_measure))"
   ]
  },
  {
   "cell_type": "code",
   "execution_count": 24,
   "metadata": {},
   "outputs": [
    {
     "name": "stdout",
     "output_type": "stream",
     "text": [
      "Accuracy: 0.9530657508764399\n",
      "Precision: 0.8627450980392157\n",
      "Recall: 0.6151582045621781\n",
      "F-measure: 0.7182130584192441\n"
     ]
    }
   ],
   "source": [
    "# Bus Bunching 50%-2%\n",
    "accuracy = accuracy_score(test_Y.busBunching.values, final_predictions)\n",
    "precision = precision_score(test_Y.busBunching.values, final_predictions)\n",
    "recall = recall_score(test_Y.busBunching.values, final_predictions)\n",
    "f_measure = f1_score(test_Y.busBunching.values, final_predictions)\n",
    "\n",
    "print(\"Accuracy: \" + str(accuracy))\n",
    "print(\"Precision: \" + str(precision))\n",
    "print(\"Recall: \" + str(recall))\n",
    "print(\"F-measure: \" + str(f_measure))"
   ]
  },
  {
   "cell_type": "code",
   "execution_count": 16,
   "metadata": {},
   "outputs": [
    {
     "name": "stdout",
     "output_type": "stream",
     "text": [
      "Accuracy: 0.9522787436502826\n",
      "Precision: 0.8922902494331065\n",
      "Recall: 0.579102281089036\n",
      "F-measure: 0.7023650156180277\n"
     ]
    }
   ],
   "source": [
    "# Bus Bunching 50%-1%\n",
    "accuracy = accuracy_score(test_Y.busBunching.values, final_predictions)\n",
    "precision = precision_score(test_Y.busBunching.values, final_predictions)\n",
    "recall = recall_score(test_Y.busBunching.values, final_predictions)\n",
    "f_measure = f1_score(test_Y.busBunching.values, final_predictions)\n",
    "\n",
    "print(\"Accuracy: \" + str(accuracy))\n",
    "print(\"Precision: \" + str(precision))\n",
    "print(\"Recall: \" + str(recall))\n",
    "print(\"F-measure: \" + str(f_measure))"
   ]
  },
  {
   "cell_type": "code",
   "execution_count": 14,
   "metadata": {},
   "outputs": [
    {
     "name": "stdout",
     "output_type": "stream",
     "text": [
      "Accuracy: 0.9390074931856335\n",
      "Precision: 0.8725590592888167\n",
      "Recall: 0.6405371076029759\n",
      "F-measure: 0.7387586701745994\n"
     ]
    }
   ],
   "source": [
    "# Bus Bunching 50%-50%\n",
    "accuracy = accuracy_score(test_Y.busBunching.values, final_predictions)\n",
    "precision = precision_score(test_Y.busBunching.values, final_predictions)\n",
    "recall = recall_score(test_Y.busBunching.values, final_predictions)\n",
    "f_measure = f1_score(test_Y.busBunching.values, final_predictions)\n",
    "\n",
    "print(\"Accuracy: \" + str(accuracy))\n",
    "print(\"Precision: \" + str(precision))\n",
    "print(\"Recall: \" + str(recall))\n",
    "print(\"F-measure: \" + str(f_measure))"
   ]
  },
  {
   "cell_type": "code",
   "execution_count": 40,
   "metadata": {},
   "outputs": [
    {
     "name": "stdout",
     "output_type": "stream",
     "text": [
      "Accuracy: 0.9583601631251342\n",
      "Precision: 0.9155080213903743\n",
      "Recall: 0.6298749080206034\n",
      "F-measure: 0.7462946817785527\n"
     ]
    }
   ],
   "source": [
    "# Bus Bunching 50%\n",
    "accuracy = accuracy_score(test_Y.busBunching.values, final_predictions)\n",
    "precision = precision_score(test_Y.busBunching.values, final_predictions)\n",
    "recall = recall_score(test_Y.busBunching.values, final_predictions)\n",
    "f_measure = f1_score(test_Y.busBunching.values, final_predictions)\n",
    "\n",
    "print(\"Accuracy: \" + str(accuracy))\n",
    "print(\"Precision: \" + str(precision))\n",
    "print(\"Recall: \" + str(recall))\n",
    "print(\"F-measure: \" + str(f_measure))"
   ]
  },
  {
   "cell_type": "code",
   "execution_count": null,
   "metadata": {},
   "outputs": [],
   "source": []
  }
 ],
 "metadata": {
  "kernelspec": {
   "display_name": "Python 3",
   "language": "python",
   "name": "python3"
  },
  "language_info": {
   "codemirror_mode": {
    "name": "ipython",
    "version": 3
   },
   "file_extension": ".py",
   "mimetype": "text/x-python",
   "name": "python",
   "nbconvert_exporter": "python",
   "pygments_lexer": "ipython3",
   "version": "3.6.9"
  }
 },
 "nbformat": 4,
 "nbformat_minor": 4
}
