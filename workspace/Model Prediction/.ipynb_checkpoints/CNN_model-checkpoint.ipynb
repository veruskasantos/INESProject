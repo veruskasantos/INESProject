{
 "cells": [
  {
   "cell_type": "code",
   "execution_count": 1,
   "metadata": {},
   "outputs": [
    {
     "name": "stderr",
     "output_type": "stream",
     "text": [
      "Using TensorFlow backend.\n"
     ]
    }
   ],
   "source": [
    "import numpy as np\n",
    "import pandas as pd\n",
    "import keras\n",
    "from keras.models import Sequential\n",
    "from keras.layers import Dense, Dropout, Conv2D, Flatten, MaxPooling2D\n",
    "import pickle\n",
    "from keras.optimizers import Adam\n",
    "import os\n",
    "import random\n",
    "from sklearn.model_selection import train_test_split\n",
    "from sklearn.metrics import confusion_matrix\n",
    "import time\n",
    "import tensorflow as tf"
   ]
  },
  {
   "cell_type": "code",
   "execution_count": 2,
   "metadata": {},
   "outputs": [
    {
     "name": "stdout",
     "output_type": "stream",
     "text": [
      "<tensorflow.python.client.session.Session object at 0x7f52fc48b9b0>\n"
     ]
    }
   ],
   "source": [
    "tf.Session(config=tf.ConfigProto(allow_soft_placement=True, log_device_placement=True))\n",
    "sess = print(tf.Session(config=tf.ConfigProto(log_device_placement=True)))\n",
    "\n",
    "filename = 'data/input/KerasData500000.pickle'"
   ]
  },
  {
   "cell_type": "code",
   "execution_count": 4,
   "metadata": {},
   "outputs": [],
   "source": [
    "start_time = time.clock()\n",
    "np.random.seed(7)\n",
    "random.seed(7)"
   ]
  },
  {
   "cell_type": "code",
   "execution_count": 5,
   "metadata": {},
   "outputs": [],
   "source": [
    "with open(filename, mode='rb') as f:\n",
    "    TotalInput, FinalLabel = pickle.load(f, encoding='latin1')"
   ]
  },
  {
   "cell_type": "code",
   "execution_count": 9,
   "metadata": {},
   "outputs": [
    {
     "data": {
      "text/html": [
       "<div>\n",
       "<style scoped>\n",
       "    .dataframe tbody tr th:only-of-type {\n",
       "        vertical-align: middle;\n",
       "    }\n",
       "\n",
       "    .dataframe tbody tr th {\n",
       "        vertical-align: top;\n",
       "    }\n",
       "\n",
       "    .dataframe thead th {\n",
       "        text-align: right;\n",
       "    }\n",
       "</style>\n",
       "<table border=\"1\" class=\"dataframe\">\n",
       "  <thead>\n",
       "    <tr style=\"text-align: right;\">\n",
       "      <th></th>\n",
       "      <th>route</th>\n",
       "      <th>tripNum</th>\n",
       "      <th>shapeId</th>\n",
       "      <th>routeFrequency</th>\n",
       "      <th>shapeSequence</th>\n",
       "      <th>shapeLat</th>\n",
       "      <th>shapeLon</th>\n",
       "      <th>distanceTraveledShape</th>\n",
       "      <th>busCode</th>\n",
       "      <th>gpsPointId</th>\n",
       "      <th>...</th>\n",
       "      <th>YEAR(alertDateTime)</th>\n",
       "      <th>YEAR(jamUpdateDateTime)</th>\n",
       "      <th>MONTH(gps_datetime)</th>\n",
       "      <th>MONTH(precipitationTime)</th>\n",
       "      <th>MONTH(alertDateTime)</th>\n",
       "      <th>MONTH(jamUpdateDateTime)</th>\n",
       "      <th>WEEKDAY(gps_datetime)</th>\n",
       "      <th>WEEKDAY(precipitationTime)</th>\n",
       "      <th>WEEKDAY(alertDateTime)</th>\n",
       "      <th>WEEKDAY(jamUpdateDateTime)</th>\n",
       "    </tr>\n",
       "  </thead>\n",
       "  <tbody>\n",
       "    <tr>\n",
       "      <th>0</th>\n",
       "      <td>68</td>\n",
       "      <td>1</td>\n",
       "      <td>Route_160</td>\n",
       "      <td>low_frequency</td>\n",
       "      <td>12573</td>\n",
       "      <td>-8.036592</td>\n",
       "      <td>-34.975683</td>\n",
       "      <td>785.0</td>\n",
       "      <td>12021</td>\n",
       "      <td>27.0</td>\n",
       "      <td>...</td>\n",
       "      <td>NaN</td>\n",
       "      <td>NaN</td>\n",
       "      <td>12</td>\n",
       "      <td>12</td>\n",
       "      <td>NaN</td>\n",
       "      <td>NaN</td>\n",
       "      <td>0</td>\n",
       "      <td>0</td>\n",
       "      <td>NaN</td>\n",
       "      <td>NaN</td>\n",
       "    </tr>\n",
       "    <tr>\n",
       "      <th>1</th>\n",
       "      <td>68</td>\n",
       "      <td>1</td>\n",
       "      <td>Route_160</td>\n",
       "      <td>low_frequency</td>\n",
       "      <td>12581</td>\n",
       "      <td>-8.034150</td>\n",
       "      <td>-34.960756</td>\n",
       "      <td>2794.0</td>\n",
       "      <td>12021</td>\n",
       "      <td>33.0</td>\n",
       "      <td>...</td>\n",
       "      <td>2018.0</td>\n",
       "      <td>NaN</td>\n",
       "      <td>12</td>\n",
       "      <td>12</td>\n",
       "      <td>12.0</td>\n",
       "      <td>NaN</td>\n",
       "      <td>0</td>\n",
       "      <td>0</td>\n",
       "      <td>0.0</td>\n",
       "      <td>NaN</td>\n",
       "    </tr>\n",
       "    <tr>\n",
       "      <th>2</th>\n",
       "      <td>68</td>\n",
       "      <td>1</td>\n",
       "      <td>Route_160</td>\n",
       "      <td>low_frequency</td>\n",
       "      <td>12582</td>\n",
       "      <td>-8.032878</td>\n",
       "      <td>-34.959775</td>\n",
       "      <td>2971.0</td>\n",
       "      <td>12021</td>\n",
       "      <td>NaN</td>\n",
       "      <td>...</td>\n",
       "      <td>2018.0</td>\n",
       "      <td>NaN</td>\n",
       "      <td>12</td>\n",
       "      <td>12</td>\n",
       "      <td>12.0</td>\n",
       "      <td>NaN</td>\n",
       "      <td>0</td>\n",
       "      <td>0</td>\n",
       "      <td>0.0</td>\n",
       "      <td>NaN</td>\n",
       "    </tr>\n",
       "    <tr>\n",
       "      <th>3</th>\n",
       "      <td>68</td>\n",
       "      <td>1</td>\n",
       "      <td>Route_160</td>\n",
       "      <td>low_frequency</td>\n",
       "      <td>12583</td>\n",
       "      <td>-8.031478</td>\n",
       "      <td>-34.958622</td>\n",
       "      <td>3171.0</td>\n",
       "      <td>12021</td>\n",
       "      <td>35.0</td>\n",
       "      <td>...</td>\n",
       "      <td>2018.0</td>\n",
       "      <td>NaN</td>\n",
       "      <td>12</td>\n",
       "      <td>12</td>\n",
       "      <td>12.0</td>\n",
       "      <td>NaN</td>\n",
       "      <td>0</td>\n",
       "      <td>0</td>\n",
       "      <td>0.0</td>\n",
       "      <td>NaN</td>\n",
       "    </tr>\n",
       "    <tr>\n",
       "      <th>4</th>\n",
       "      <td>68</td>\n",
       "      <td>1</td>\n",
       "      <td>Route_160</td>\n",
       "      <td>low_frequency</td>\n",
       "      <td>12589</td>\n",
       "      <td>-8.036750</td>\n",
       "      <td>-34.946086</td>\n",
       "      <td>4838.0</td>\n",
       "      <td>12021</td>\n",
       "      <td>43.0</td>\n",
       "      <td>...</td>\n",
       "      <td>2018.0</td>\n",
       "      <td>NaN</td>\n",
       "      <td>12</td>\n",
       "      <td>12</td>\n",
       "      <td>12.0</td>\n",
       "      <td>NaN</td>\n",
       "      <td>0</td>\n",
       "      <td>0</td>\n",
       "      <td>0.0</td>\n",
       "      <td>NaN</td>\n",
       "    </tr>\n",
       "  </tbody>\n",
       "</table>\n",
       "<p>5 rows × 60 columns</p>\n",
       "</div>"
      ],
      "text/plain": [
       "   route  tripNum    shapeId routeFrequency  shapeSequence  shapeLat  \\\n",
       "0     68        1  Route_160  low_frequency          12573 -8.036592   \n",
       "1     68        1  Route_160  low_frequency          12581 -8.034150   \n",
       "2     68        1  Route_160  low_frequency          12582 -8.032878   \n",
       "3     68        1  Route_160  low_frequency          12583 -8.031478   \n",
       "4     68        1  Route_160  low_frequency          12589 -8.036750   \n",
       "\n",
       "    shapeLon  distanceTraveledShape  busCode  gpsPointId  ...  \\\n",
       "0 -34.975683                  785.0    12021        27.0  ...   \n",
       "1 -34.960756                 2794.0    12021        33.0  ...   \n",
       "2 -34.959775                 2971.0    12021         NaN  ...   \n",
       "3 -34.958622                 3171.0    12021        35.0  ...   \n",
       "4 -34.946086                 4838.0    12021        43.0  ...   \n",
       "\n",
       "   YEAR(alertDateTime)  YEAR(jamUpdateDateTime)  MONTH(gps_datetime)  \\\n",
       "0                  NaN                      NaN                   12   \n",
       "1               2018.0                      NaN                   12   \n",
       "2               2018.0                      NaN                   12   \n",
       "3               2018.0                      NaN                   12   \n",
       "4               2018.0                      NaN                   12   \n",
       "\n",
       "   MONTH(precipitationTime) MONTH(alertDateTime)  MONTH(jamUpdateDateTime)  \\\n",
       "0                        12                  NaN                       NaN   \n",
       "1                        12                 12.0                       NaN   \n",
       "2                        12                 12.0                       NaN   \n",
       "3                        12                 12.0                       NaN   \n",
       "4                        12                 12.0                       NaN   \n",
       "\n",
       "  WEEKDAY(gps_datetime) WEEKDAY(precipitationTime)  WEEKDAY(alertDateTime)  \\\n",
       "0                     0                          0                     NaN   \n",
       "1                     0                          0                     0.0   \n",
       "2                     0                          0                     0.0   \n",
       "3                     0                          0                     0.0   \n",
       "4                     0                          0                     0.0   \n",
       "\n",
       "   WEEKDAY(jamUpdateDateTime)  \n",
       "0                         NaN  \n",
       "1                         NaN  \n",
       "2                         NaN  \n",
       "3                         NaN  \n",
       "4                         NaN  \n",
       "\n",
       "[5 rows x 60 columns]"
      ]
     },
     "execution_count": 9,
     "metadata": {},
     "output_type": "execute_result"
    }
   ],
   "source": [
    "# input_file = pd.read_csv(filename, index_col=None, header=0)\n",
    "\n",
    "# input_file.head()"
   ]
  },
  {
   "cell_type": "code",
   "execution_count": 10,
   "metadata": {},
   "outputs": [
    {
     "data": {
      "text/plain": [
       "(1000, 60)"
      ]
     },
     "execution_count": 10,
     "metadata": {},
     "output_type": "execute_result"
    }
   ],
   "source": [
    "# TotalInput = input_file[:1000]\n",
    "# TotalInput.shape"
   ]
  },
  {
   "cell_type": "code",
   "execution_count": 11,
   "metadata": {},
   "outputs": [],
   "source": [
    "# del input_file"
   ]
  },
  {
   "cell_type": "code",
   "execution_count": 13,
   "metadata": {},
   "outputs": [],
   "source": [
    "# FinalLabel = TotalInput['busBunching']\n",
    "# TotalInput.drop('busBunching', axis=1, inplace=True)"
   ]
  },
  {
   "cell_type": "code",
   "execution_count": 6,
   "metadata": {},
   "outputs": [],
   "source": [
    "# NoClass = FinalLabel.nunique()\n",
    "# Threshold = 50\n",
    "\n",
    "NoClass = len(list(set(np.ndarray.flatten(FinalLabel))))\n",
    "Threshold = len(TotalInput[0, 0, :, 0])\n",
    "\n",
    "# Making training and test data: 80% Training, 20% Test\n",
    "Train_X, Test_X, Train_Y, Test_Y_ori = train_test_split(TotalInput, FinalLabel, test_size=0.20, random_state=7)\n",
    "\n",
    "Train_Y = keras.utils.to_categorical(Train_Y, num_classes=NoClass)\n",
    "Test_Y = keras.utils.to_categorical(Test_Y_ori, num_classes=NoClass)"
   ]
  },
  {
   "cell_type": "code",
   "execution_count": 7,
   "metadata": {},
   "outputs": [
    {
     "name": "stderr",
     "output_type": "stream",
     "text": [
      "WARNING: Logging before flag parsing goes to stderr.\n",
      "W0716 05:32:18.400836 139994596091712 deprecation_wrapper.py:119] From /home/veruska/.local/lib/python3.6/site-packages/keras/backend/tensorflow_backend.py:74: The name tf.get_default_graph is deprecated. Please use tf.compat.v1.get_default_graph instead.\n",
      "\n",
      "W0716 05:32:18.402231 139994596091712 deprecation_wrapper.py:119] From /home/veruska/.local/lib/python3.6/site-packages/keras/backend/tensorflow_backend.py:517: The name tf.placeholder is deprecated. Please use tf.compat.v1.placeholder instead.\n",
      "\n",
      "W0716 05:32:18.403925 139994596091712 deprecation_wrapper.py:119] From /home/veruska/.local/lib/python3.6/site-packages/keras/backend/tensorflow_backend.py:4138: The name tf.random_uniform is deprecated. Please use tf.random.uniform instead.\n",
      "\n",
      "W0716 05:32:18.420653 139994596091712 deprecation_wrapper.py:119] From /home/veruska/.local/lib/python3.6/site-packages/keras/backend/tensorflow_backend.py:3976: The name tf.nn.max_pool is deprecated. Please use tf.nn.max_pool2d instead.\n",
      "\n",
      "W0716 05:32:18.454423 139994596091712 deprecation_wrapper.py:119] From /home/veruska/.local/lib/python3.6/site-packages/keras/backend/tensorflow_backend.py:133: The name tf.placeholder_with_default is deprecated. Please use tf.compat.v1.placeholder_with_default instead.\n",
      "\n",
      "W0716 05:32:18.459540 139994596091712 deprecation.py:506] From /home/veruska/.local/lib/python3.6/site-packages/keras/backend/tensorflow_backend.py:3445: calling dropout (from tensorflow.python.ops.nn_ops) with keep_prob is deprecated and will be removed in a future version.\n",
      "Instructions for updating:\n",
      "Please use `rate` instead of `keep_prob`. Rate should be set to `rate = 1 - keep_prob`.\n"
     ]
    }
   ],
   "source": [
    "# Model and Compile\n",
    "model = Sequential()\n",
    "activ = 'relu'\n",
    "model.add(Conv2D(32, (1, 5), strides=(1, 1), padding='same', activation=activ, input_shape=(1, Threshold, 5)))\n",
    "model.add(Conv2D(32, (1, 5), strides=(1, 1), padding='same', activation=activ))\n",
    "model.add(MaxPooling2D(pool_size=(1, 2)))\n",
    "\n",
    "model.add(Conv2D(64, (1, 5), strides=(1, 1), padding='same', activation=activ))\n",
    "model.add(Conv2D(64, (1, 5), strides=(1, 1), padding='same', activation=activ))\n",
    "model.add(MaxPooling2D(pool_size=(1, 2)))\n",
    "\n",
    "model.add(Conv2D(128, (1, 5), strides=(1, 1), padding='same', activation=activ))\n",
    "model.add(Conv2D(128, (1, 5), strides=(1, 1), padding='same', activation=activ))\n",
    "model.add(MaxPooling2D(pool_size=(1, 2)))\n",
    "model.add(Dropout(.5))\n",
    "\n",
    "model.add(Flatten())\n",
    "A = model.output_shape\n",
    "model.add(Dense(int(A[1] * 1/5.), activation=activ))\n",
    "model.add(Dropout(.5))\n",
    "\n",
    "model.add(Dense(NoClass, activation='softmax'))"
   ]
  },
  {
   "cell_type": "code",
   "execution_count": 8,
   "metadata": {},
   "outputs": [
    {
     "name": "stderr",
     "output_type": "stream",
     "text": [
      "W0716 05:32:21.438313 139994596091712 deprecation_wrapper.py:119] From /home/veruska/.local/lib/python3.6/site-packages/keras/optimizers.py:790: The name tf.train.Optimizer is deprecated. Please use tf.compat.v1.train.Optimizer instead.\n",
      "\n",
      "W0716 05:32:21.443048 139994596091712 deprecation_wrapper.py:119] From /home/veruska/.local/lib/python3.6/site-packages/keras/backend/tensorflow_backend.py:3295: The name tf.log is deprecated. Please use tf.math.log instead.\n",
      "\n",
      "W0716 05:32:21.503671 139994596091712 deprecation.py:323] From /home/veruska/.local/lib/python3.6/site-packages/tensorflow/python/ops/math_grad.py:1250: add_dispatch_support.<locals>.wrapper (from tensorflow.python.ops.array_ops) is deprecated and will be removed in a future version.\n",
      "Instructions for updating:\n",
      "Use tf.where in 2.0, which has the same broadcast rule as np.where\n"
     ]
    },
    {
     "name": "stdout",
     "output_type": "stream",
     "text": [
      "Train on 800 samples, validate on 200 samples\n",
      "Epoch 1/10\n",
      "800/800 [==============================] - 10s 12ms/step - loss: nan - acc: 0.9688 - val_loss: nan - val_acc: 0.9750\n",
      "Epoch 2/10\n",
      "800/800 [==============================] - 8s 10ms/step - loss: nan - acc: 0.9800 - val_loss: nan - val_acc: 0.9750\n",
      "Epoch 3/10\n",
      "800/800 [==============================] - 8s 10ms/step - loss: nan - acc: 0.9800 - val_loss: nan - val_acc: 0.9750\n",
      "Epoch 4/10\n",
      "800/800 [==============================] - 8s 10ms/step - loss: nan - acc: 0.9800 - val_loss: nan - val_acc: 0.9750\n",
      "Epoch 5/10\n",
      "800/800 [==============================] - 8s 10ms/step - loss: nan - acc: 0.9800 - val_loss: nan - val_acc: 0.9750\n",
      "Epoch 6/10\n",
      "800/800 [==============================] - 8s 10ms/step - loss: nan - acc: 0.9800 - val_loss: nan - val_acc: 0.9750\n",
      "Epoch 7/10\n",
      "800/800 [==============================] - 8s 10ms/step - loss: nan - acc: 0.9800 - val_loss: nan - val_acc: 0.9750\n",
      "Epoch 8/10\n",
      "800/800 [==============================] - 8s 10ms/step - loss: nan - acc: 0.9800 - val_loss: nan - val_acc: 0.9750\n",
      "Epoch 9/10\n",
      "800/800 [==============================] - 8s 10ms/step - loss: nan - acc: 0.9800 - val_loss: nan - val_acc: 0.9750\n",
      "Epoch 10/10\n",
      "800/800 [==============================] - 8s 10ms/step - loss: nan - acc: 0.9800 - val_loss: nan - val_acc: 0.9750\n"
     ]
    }
   ],
   "source": [
    "optimizer = Adam(lr=0.001, beta_1=0.9, beta_2=0.999, epsilon=1e-08, decay=0.0)\n",
    "model.compile(optimizer=optimizer, loss='categorical_crossentropy', metrics=['accuracy'])\n",
    "\n",
    "offline_history = model.fit(Train_X, Train_Y, epochs=10, batch_size=64, shuffle=False,\n",
    "                            validation_data=(Test_X, Test_Y))\n",
    "hist = offline_history"
   ]
  },
  {
   "cell_type": "code",
   "execution_count": 9,
   "metadata": {},
   "outputs": [
    {
     "name": "stdout",
     "output_type": "stream",
     "text": [
      "the optimal epoch size: 0, the value of high accuracy 0.975\n"
     ]
    }
   ],
   "source": [
    "# Saving the test and training score for varying number of epochs.\n",
    "with open('Revised_accuracy_history_largeEpoch_NoSmoothing.pickle', 'wb') as f:\n",
    "    pickle.dump([hist.epoch, hist.history['acc'], hist.history['val_acc']], f)\n",
    "\n",
    "A = np.argmax(hist.history['val_acc'])\n",
    "print('the optimal epoch size: {}, the value of high accuracy {}'.format(hist.epoch[A], np.max(hist.history['val_acc'])))\n",
    "\n",
    "# Calculating the test accuracy, precision, recall\n",
    "Pred = model.predict(Test_X, batch_size=32)\n",
    "Pred_Label = np.argmax(Pred, axis=1)"
   ]
  },
  {
   "cell_type": "code",
   "execution_count": 31,
   "metadata": {},
   "outputs": [
    {
     "data": {
      "text/plain": [
       "[array([  0,   1,   2,   3,   4,   5,   6,   7,   8,   9,  10,  11,  12,\n",
       "         13,  14,  15,  16,  17,  18,  19,  20,  21,  22,  23,  24,  25,\n",
       "         26,  27,  28,  29,  30,  31,  32,  33,  34,  35,  36,  37,  38,\n",
       "         39,  40,  41,  42,  43,  44,  45,  46,  47,  48,  49,  50,  51,\n",
       "         52,  53,  54,  55,  56,  57,  58,  59,  60,  61,  62,  63,  64,\n",
       "         65,  66,  68,  69,  70,  71,  72,  73,  74,  75,  76,  77,  78,\n",
       "         79,  80,  81,  82,  83,  84,  85,  86,  87,  88,  89,  90,  92,\n",
       "         93,  94,  95,  96,  97,  98,  99, 100, 101, 102, 103, 104, 105,\n",
       "        106, 107, 108, 109, 110, 111, 112, 113, 114, 115, 116, 117, 118,\n",
       "        119, 120, 121, 122, 123, 124, 125, 126, 127, 128, 129, 130, 131,\n",
       "        132, 133, 135, 136, 137, 138, 139, 140, 141, 142, 143, 144, 145,\n",
       "        146, 147, 148, 149, 150, 151, 152, 153, 154, 155, 156, 157, 158,\n",
       "        159, 160, 161, 162, 163, 164, 165, 166, 167, 168, 169, 170, 171,\n",
       "        172, 173, 174, 175, 176, 178, 179, 180, 181, 182, 183, 184, 185,\n",
       "        186, 187, 188, 189, 190, 191, 192, 193, 194, 196, 197, 198, 199]),\n",
       " array([ 67,  91, 134, 177, 195])]"
      ]
     },
     "execution_count": 31,
     "metadata": {},
     "output_type": "execute_result"
    }
   ],
   "source": [
    "ActualPositive"
   ]
  },
  {
   "cell_type": "code",
   "execution_count": 32,
   "metadata": {},
   "outputs": [
    {
     "data": {
      "text/plain": [
       "[array([  0,   1,   2,   3,   4,   5,   6,   7,   8,   9,  10,  11,  12,\n",
       "         13,  14,  15,  16,  17,  18,  19,  20,  21,  22,  23,  24,  25,\n",
       "         26,  27,  28,  29,  30,  31,  32,  33,  34,  35,  36,  37,  38,\n",
       "         39,  40,  41,  42,  43,  44,  45,  46,  47,  48,  49,  50,  51,\n",
       "         52,  53,  54,  55,  56,  57,  58,  59,  60,  61,  62,  63,  64,\n",
       "         65,  66,  67,  68,  69,  70,  71,  72,  73,  74,  75,  76,  77,\n",
       "         78,  79,  80,  81,  82,  83,  84,  85,  86,  87,  88,  89,  90,\n",
       "         91,  92,  93,  94,  95,  96,  97,  98,  99, 100, 101, 102, 103,\n",
       "        104, 105, 106, 107, 108, 109, 110, 111, 112, 113, 114, 115, 116,\n",
       "        117, 118, 119, 120, 121, 122, 123, 124, 125, 126, 127, 128, 129,\n",
       "        130, 131, 132, 133, 134, 135, 136, 137, 138, 139, 140, 141, 142,\n",
       "        143, 144, 145, 146, 147, 148, 149, 150, 151, 152, 153, 154, 155,\n",
       "        156, 157, 158, 159, 160, 161, 162, 163, 164, 165, 166, 167, 168,\n",
       "        169, 170, 171, 172, 173, 174, 175, 176, 177, 178, 179, 180, 181,\n",
       "        182, 183, 184, 185, 186, 187, 188, 189, 190, 191, 192, 193, 194,\n",
       "        195, 196, 197, 198, 199]), array([], dtype=int64)]"
      ]
     },
     "execution_count": 32,
     "metadata": {},
     "output_type": "execute_result"
    }
   ],
   "source": [
    "PredictedPositive"
   ]
  },
  {
   "cell_type": "code",
   "execution_count": 33,
   "metadata": {},
   "outputs": [
    {
     "data": {
      "text/plain": [
       "[[0,\n",
       "  1,\n",
       "  2,\n",
       "  3,\n",
       "  4,\n",
       "  5,\n",
       "  6,\n",
       "  7,\n",
       "  8,\n",
       "  9,\n",
       "  10,\n",
       "  11,\n",
       "  12,\n",
       "  13,\n",
       "  14,\n",
       "  15,\n",
       "  16,\n",
       "  17,\n",
       "  18,\n",
       "  19,\n",
       "  20,\n",
       "  21,\n",
       "  22,\n",
       "  23,\n",
       "  24,\n",
       "  25,\n",
       "  26,\n",
       "  27,\n",
       "  28,\n",
       "  29,\n",
       "  30,\n",
       "  31,\n",
       "  32,\n",
       "  33,\n",
       "  34,\n",
       "  35,\n",
       "  36,\n",
       "  37,\n",
       "  38,\n",
       "  39,\n",
       "  40,\n",
       "  41,\n",
       "  42,\n",
       "  43,\n",
       "  44,\n",
       "  45,\n",
       "  46,\n",
       "  47,\n",
       "  48,\n",
       "  49,\n",
       "  50,\n",
       "  51,\n",
       "  52,\n",
       "  53,\n",
       "  54,\n",
       "  55,\n",
       "  56,\n",
       "  57,\n",
       "  58,\n",
       "  59,\n",
       "  60,\n",
       "  61,\n",
       "  62,\n",
       "  63,\n",
       "  64,\n",
       "  65,\n",
       "  66,\n",
       "  68,\n",
       "  69,\n",
       "  70,\n",
       "  71,\n",
       "  72,\n",
       "  73,\n",
       "  74,\n",
       "  75,\n",
       "  76,\n",
       "  77,\n",
       "  78,\n",
       "  79,\n",
       "  80,\n",
       "  81,\n",
       "  82,\n",
       "  83,\n",
       "  84,\n",
       "  85,\n",
       "  86,\n",
       "  87,\n",
       "  88,\n",
       "  89,\n",
       "  90,\n",
       "  92,\n",
       "  93,\n",
       "  94,\n",
       "  95,\n",
       "  96,\n",
       "  97,\n",
       "  98,\n",
       "  99,\n",
       "  100,\n",
       "  101,\n",
       "  102,\n",
       "  103,\n",
       "  104,\n",
       "  105,\n",
       "  106,\n",
       "  107,\n",
       "  108,\n",
       "  109,\n",
       "  110,\n",
       "  111,\n",
       "  112,\n",
       "  113,\n",
       "  114,\n",
       "  115,\n",
       "  116,\n",
       "  117,\n",
       "  118,\n",
       "  119,\n",
       "  120,\n",
       "  121,\n",
       "  122,\n",
       "  123,\n",
       "  124,\n",
       "  125,\n",
       "  126,\n",
       "  127,\n",
       "  128,\n",
       "  129,\n",
       "  130,\n",
       "  131,\n",
       "  132,\n",
       "  133,\n",
       "  135,\n",
       "  136,\n",
       "  137,\n",
       "  138,\n",
       "  139,\n",
       "  140,\n",
       "  141,\n",
       "  142,\n",
       "  143,\n",
       "  144,\n",
       "  145,\n",
       "  146,\n",
       "  147,\n",
       "  148,\n",
       "  149,\n",
       "  150,\n",
       "  151,\n",
       "  152,\n",
       "  153,\n",
       "  154,\n",
       "  155,\n",
       "  156,\n",
       "  157,\n",
       "  158,\n",
       "  159,\n",
       "  160,\n",
       "  161,\n",
       "  162,\n",
       "  163,\n",
       "  164,\n",
       "  165,\n",
       "  166,\n",
       "  167,\n",
       "  168,\n",
       "  169,\n",
       "  170,\n",
       "  171,\n",
       "  172,\n",
       "  173,\n",
       "  174,\n",
       "  175,\n",
       "  176,\n",
       "  178,\n",
       "  179,\n",
       "  180,\n",
       "  181,\n",
       "  182,\n",
       "  183,\n",
       "  184,\n",
       "  185,\n",
       "  186,\n",
       "  187,\n",
       "  188,\n",
       "  189,\n",
       "  190,\n",
       "  191,\n",
       "  192,\n",
       "  193,\n",
       "  194,\n",
       "  196,\n",
       "  197,\n",
       "  198,\n",
       "  199],\n",
       " []]"
      ]
     },
     "execution_count": 33,
     "metadata": {},
     "output_type": "execute_result"
    }
   ],
   "source": [
    "TruePositive"
   ]
  },
  {
   "cell_type": "code",
   "execution_count": 34,
   "metadata": {},
   "outputs": [
    {
     "data": {
      "text/plain": [
       "[[67, 91, 134, 177, 195], []]"
      ]
     },
     "execution_count": 34,
     "metadata": {},
     "output_type": "execute_result"
    }
   ],
   "source": [
    "FalsePositive"
   ]
  },
  {
   "cell_type": "code",
   "execution_count": 37,
   "metadata": {},
   "outputs": [
    {
     "ename": "NameError",
     "evalue": "name 'ConfusionM' is not defined",
     "output_type": "error",
     "traceback": [
      "\u001b[0;31m---------------------------------------------------------------------------\u001b[0m",
      "\u001b[0;31mNameError\u001b[0m                                 Traceback (most recent call last)",
      "\u001b[0;32m<ipython-input-37-4281a0091a92>\u001b[0m in \u001b[0;36m<module>\u001b[0;34m\u001b[0m\n\u001b[0;32m----> 1\u001b[0;31m \u001b[0mConfusionM\u001b[0m\u001b[0;34m\u001b[0m\u001b[0;34m\u001b[0m\u001b[0m\n\u001b[0m",
      "\u001b[0;31mNameError\u001b[0m: name 'ConfusionM' is not defined"
     ]
    }
   ],
   "source": [
    "ConfusionM"
   ]
  },
  {
   "cell_type": "code",
   "execution_count": 41,
   "metadata": {},
   "outputs": [],
   "source": [
    "ActualPositive = []\n",
    "for i in range(NoClass):\n",
    "    AA = np.where(Test_Y_ori == i)[0]\n",
    "    ActualPositive.append(AA)\n",
    "\n",
    "PredictedPositive = []\n",
    "for i in range(NoClass):\n",
    "    AA = np.where(Pred_Label == i)[0]\n",
    "    PredictedPositive.append(AA)\n",
    "\n",
    "TruePositive = []\n",
    "FalsePositive = []\n",
    "for i in range(NoClass):\n",
    "    AA = []\n",
    "    BB = []\n",
    "    for j in PredictedPositive[i]:\n",
    "        if Pred_Label[j] == Test_Y_ori[j]:\n",
    "            AA.append(j)\n",
    "        else:\n",
    "            BB.append(j)\n",
    "    TruePositive.append(AA)\n",
    "    FalsePositive.append(BB)\n",
    "Precision = []\n",
    "Recall = []\n",
    "\n",
    "\n",
    "precision = ( len(TruePositive[0]) + len(TruePositive[1]) ) / ( len(PredictedPositive[0]) + len(PredictedPositive[1]) )\n",
    "recall = ( len(TruePositive[0]) + len(TruePositive[1]) ) / ( len(ActualPositive[0]) + len(ActualPositive[1]) )\n",
    "                                                            \n",
    "# for i in range(NoClass):\n",
    "#     Precision.append(len(TruePositive[i]) * 1./len(PredictedPositive[i]))\n",
    "#     Recall.append(len(TruePositive[i]) * 1./len(ActualPositive[i]))\n",
    "\n",
    "ConfusionM = confusion_matrix(list(Test_Y_ori), Pred_Label, labels=[0, 1, 2, 3, 4])"
   ]
  },
  {
   "cell_type": "code",
   "execution_count": 43,
   "metadata": {},
   "outputs": [
    {
     "name": "stdout",
     "output_type": "stream",
     "text": [
      "Confusion Matrix:  [[195   0   0   0   0]\n",
      " [  5   0   0   0   0]\n",
      " [  0   0   0   0   0]\n",
      " [  0   0   0   0   0]\n",
      " [  0   0   0   0   0]]\n",
      "Recall 0.975\n",
      "precision 0.975\n",
      "629.704559 seconds\n"
     ]
    }
   ],
   "source": [
    "print('Confusion Matrix: ', ConfusionM)\n",
    "print(\"Recall\", recall)\n",
    "print('precision', precision)\n",
    "print(time.clock() - start_time, \"seconds\")"
   ]
  },
  {
   "cell_type": "code",
   "execution_count": null,
   "metadata": {},
   "outputs": [],
   "source": []
  },
  {
   "cell_type": "code",
   "execution_count": null,
   "metadata": {},
   "outputs": [],
   "source": []
  }
 ],
 "metadata": {
  "kernelspec": {
   "display_name": "Python 3",
   "language": "python",
   "name": "python3"
  },
  "language_info": {
   "codemirror_mode": {
    "name": "ipython",
    "version": 3
   },
   "file_extension": ".py",
   "mimetype": "text/x-python",
   "name": "python",
   "nbconvert_exporter": "python",
   "pygments_lexer": "ipython3",
   "version": "3.6.8"
  }
 },
 "nbformat": 4,
 "nbformat_minor": 2
}
