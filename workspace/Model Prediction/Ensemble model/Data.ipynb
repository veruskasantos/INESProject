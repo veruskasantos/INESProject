{
 "cells": [
  {
   "cell_type": "code",
   "execution_count": 4,
   "metadata": {},
   "outputs": [],
   "source": [
    "import pandas as pd"
   ]
  },
  {
   "cell_type": "code",
   "execution_count": 5,
   "metadata": {},
   "outputs": [
    {
     "name": "stdout",
     "output_type": "stream",
     "text": [
      "(6211570, 116)\n",
      "(6211570, 1)\n"
     ]
    },
    {
     "data": {
      "text/html": [
       "<div>\n",
       "<style scoped>\n",
       "    .dataframe tbody tr th:only-of-type {\n",
       "        vertical-align: middle;\n",
       "    }\n",
       "\n",
       "    .dataframe tbody tr th {\n",
       "        vertical-align: top;\n",
       "    }\n",
       "\n",
       "    .dataframe thead th {\n",
       "        text-align: right;\n",
       "    }\n",
       "</style>\n",
       "<table border=\"1\" class=\"dataframe\">\n",
       "  <thead>\n",
       "    <tr style=\"text-align: right;\">\n",
       "      <th></th>\n",
       "      <th>tripNum</th>\n",
       "      <th>shapeSequence</th>\n",
       "      <th>shapeLat</th>\n",
       "      <th>shapeLon</th>\n",
       "      <th>distanceTraveledShape</th>\n",
       "      <th>gpsPointId</th>\n",
       "      <th>gpsLat</th>\n",
       "      <th>gpsLon</th>\n",
       "      <th>distanceToShapePoint</th>\n",
       "      <th>stopPointId</th>\n",
       "      <th>...</th>\n",
       "      <th>alertSubtype_code</th>\n",
       "      <th>alertType_code</th>\n",
       "      <th>alertRoadType_code</th>\n",
       "      <th>jamBlockType_code</th>\n",
       "      <th>busCodeSB_code</th>\n",
       "      <th>alertSubtypeSB_code</th>\n",
       "      <th>alertTypeSB_code</th>\n",
       "      <th>alertRoadTypeSB_code</th>\n",
       "      <th>jamBlockTypeSB_code</th>\n",
       "      <th>problemSB_code</th>\n",
       "    </tr>\n",
       "  </thead>\n",
       "  <tbody>\n",
       "    <tr>\n",
       "      <th>0</th>\n",
       "      <td>0.0</td>\n",
       "      <td>0.899945</td>\n",
       "      <td>0.916733</td>\n",
       "      <td>0.788385</td>\n",
       "      <td>0.014696</td>\n",
       "      <td>0.000000</td>\n",
       "      <td>0.348779</td>\n",
       "      <td>0.517589</td>\n",
       "      <td>0.000000</td>\n",
       "      <td>0.550342</td>\n",
       "      <td>...</td>\n",
       "      <td>0.814815</td>\n",
       "      <td>0.666667</td>\n",
       "      <td>0.25</td>\n",
       "      <td>0.25</td>\n",
       "      <td>0.015395</td>\n",
       "      <td>0.814815</td>\n",
       "      <td>0.666667</td>\n",
       "      <td>0.25</td>\n",
       "      <td>0.333333</td>\n",
       "      <td>0.000000</td>\n",
       "    </tr>\n",
       "    <tr>\n",
       "      <th>1</th>\n",
       "      <td>0.0</td>\n",
       "      <td>0.899947</td>\n",
       "      <td>0.921318</td>\n",
       "      <td>0.772879</td>\n",
       "      <td>0.022706</td>\n",
       "      <td>0.000000</td>\n",
       "      <td>0.350518</td>\n",
       "      <td>0.513454</td>\n",
       "      <td>0.000000</td>\n",
       "      <td>0.550100</td>\n",
       "      <td>...</td>\n",
       "      <td>0.814815</td>\n",
       "      <td>0.666667</td>\n",
       "      <td>0.25</td>\n",
       "      <td>0.25</td>\n",
       "      <td>0.015395</td>\n",
       "      <td>0.814815</td>\n",
       "      <td>0.666667</td>\n",
       "      <td>0.25</td>\n",
       "      <td>0.333333</td>\n",
       "      <td>0.000000</td>\n",
       "    </tr>\n",
       "    <tr>\n",
       "      <th>2</th>\n",
       "      <td>0.0</td>\n",
       "      <td>0.899949</td>\n",
       "      <td>0.927984</td>\n",
       "      <td>0.771251</td>\n",
       "      <td>0.028732</td>\n",
       "      <td>0.000000</td>\n",
       "      <td>0.353047</td>\n",
       "      <td>0.513020</td>\n",
       "      <td>0.000000</td>\n",
       "      <td>0.653710</td>\n",
       "      <td>...</td>\n",
       "      <td>0.814815</td>\n",
       "      <td>0.666667</td>\n",
       "      <td>0.25</td>\n",
       "      <td>0.25</td>\n",
       "      <td>0.015395</td>\n",
       "      <td>0.814815</td>\n",
       "      <td>0.666667</td>\n",
       "      <td>0.25</td>\n",
       "      <td>0.333333</td>\n",
       "      <td>0.000000</td>\n",
       "    </tr>\n",
       "    <tr>\n",
       "      <th>3</th>\n",
       "      <td>0.0</td>\n",
       "      <td>0.899954</td>\n",
       "      <td>0.938787</td>\n",
       "      <td>0.776257</td>\n",
       "      <td>0.037058</td>\n",
       "      <td>0.012792</td>\n",
       "      <td>0.357100</td>\n",
       "      <td>0.514376</td>\n",
       "      <td>0.000048</td>\n",
       "      <td>0.653771</td>\n",
       "      <td>...</td>\n",
       "      <td>0.814815</td>\n",
       "      <td>0.666667</td>\n",
       "      <td>0.25</td>\n",
       "      <td>0.25</td>\n",
       "      <td>0.015395</td>\n",
       "      <td>0.814815</td>\n",
       "      <td>0.666667</td>\n",
       "      <td>0.25</td>\n",
       "      <td>0.333333</td>\n",
       "      <td>0.333333</td>\n",
       "    </tr>\n",
       "    <tr>\n",
       "      <th>4</th>\n",
       "      <td>0.0</td>\n",
       "      <td>0.899958</td>\n",
       "      <td>0.948479</td>\n",
       "      <td>0.772553</td>\n",
       "      <td>0.044445</td>\n",
       "      <td>0.000000</td>\n",
       "      <td>0.360821</td>\n",
       "      <td>0.513367</td>\n",
       "      <td>0.000000</td>\n",
       "      <td>0.653831</td>\n",
       "      <td>...</td>\n",
       "      <td>0.814815</td>\n",
       "      <td>0.666667</td>\n",
       "      <td>0.25</td>\n",
       "      <td>0.25</td>\n",
       "      <td>0.015395</td>\n",
       "      <td>0.814815</td>\n",
       "      <td>0.666667</td>\n",
       "      <td>0.25</td>\n",
       "      <td>0.333333</td>\n",
       "      <td>0.000000</td>\n",
       "    </tr>\n",
       "  </tbody>\n",
       "</table>\n",
       "<p>5 rows × 116 columns</p>\n",
       "</div>"
      ],
      "text/plain": [
       "   tripNum  shapeSequence  shapeLat  shapeLon  distanceTraveledShape  \\\n",
       "0      0.0       0.899945  0.916733  0.788385               0.014696   \n",
       "1      0.0       0.899947  0.921318  0.772879               0.022706   \n",
       "2      0.0       0.899949  0.927984  0.771251               0.028732   \n",
       "3      0.0       0.899954  0.938787  0.776257               0.037058   \n",
       "4      0.0       0.899958  0.948479  0.772553               0.044445   \n",
       "\n",
       "   gpsPointId    gpsLat    gpsLon  distanceToShapePoint  stopPointId  ...  \\\n",
       "0    0.000000  0.348779  0.517589              0.000000     0.550342  ...   \n",
       "1    0.000000  0.350518  0.513454              0.000000     0.550100  ...   \n",
       "2    0.000000  0.353047  0.513020              0.000000     0.653710  ...   \n",
       "3    0.012792  0.357100  0.514376              0.000048     0.653771  ...   \n",
       "4    0.000000  0.360821  0.513367              0.000000     0.653831  ...   \n",
       "\n",
       "   alertSubtype_code  alertType_code  alertRoadType_code  jamBlockType_code  \\\n",
       "0           0.814815        0.666667                0.25               0.25   \n",
       "1           0.814815        0.666667                0.25               0.25   \n",
       "2           0.814815        0.666667                0.25               0.25   \n",
       "3           0.814815        0.666667                0.25               0.25   \n",
       "4           0.814815        0.666667                0.25               0.25   \n",
       "\n",
       "   busCodeSB_code  alertSubtypeSB_code  alertTypeSB_code  \\\n",
       "0        0.015395             0.814815          0.666667   \n",
       "1        0.015395             0.814815          0.666667   \n",
       "2        0.015395             0.814815          0.666667   \n",
       "3        0.015395             0.814815          0.666667   \n",
       "4        0.015395             0.814815          0.666667   \n",
       "\n",
       "   alertRoadTypeSB_code  jamBlockTypeSB_code  problemSB_code  \n",
       "0                  0.25             0.333333        0.000000  \n",
       "1                  0.25             0.333333        0.000000  \n",
       "2                  0.25             0.333333        0.000000  \n",
       "3                  0.25             0.333333        0.333333  \n",
       "4                  0.25             0.333333        0.000000  \n",
       "\n",
       "[5 rows x 116 columns]"
      ]
     },
     "execution_count": 5,
     "metadata": {},
     "output_type": "execute_result"
    }
   ],
   "source": [
    "city = 'Curitiba'\n",
    "\n",
    "data_path = '../data/output/' + city + '/normalized_data_X_FE.csv'\n",
    "y_path = '../data/output/' + city + '/y_FE.csv'\n",
    "\n",
    "data = pd.read_csv(data_path)\n",
    "y = pd.read_csv(y_path)\n",
    "print(data.shape)\n",
    "print(y.shape)\n",
    "data.head()"
   ]
  },
  {
   "cell_type": "markdown",
   "metadata": {},
   "source": [
    "### City A"
   ]
  },
  {
   "cell_type": "code",
   "execution_count": 4,
   "metadata": {},
   "outputs": [
    {
     "data": {
      "text/plain": [
       "array([0.        , 0.09090909, 0.18181818, 0.27272727, 0.36363636,\n",
       "       0.45454545, 0.54545455, 0.63636364, 0.72727273, 0.81818182,\n",
       "       0.90909091, 1.        ])"
      ]
     },
     "execution_count": 4,
     "metadata": {},
     "output_type": "execute_result"
    }
   ],
   "source": [
    "data[\"DAY(gps_datetime)\"].sort_values().unique()"
   ]
  },
  {
   "cell_type": "raw",
   "metadata": {},
   "source": [
    "#City A\n",
    "\n",
    "1 69884\n",
    "2 73724\n",
    "3 134196\n",
    "4 133450\n",
    "5 172058\n",
    "6 168905\n",
    "7 155548\n",
    "8 98859\n",
    "9 67111\n",
    "10 152379\n",
    "11 167672\n",
    "12 38847\n",
    "\n",
    "5% - [1] - 69884\n",
    "25% - [1,2,3,9] - 344915\n",
    "41% - [1,2,3,4,5] - 583312\n",
    "52% - [1,2,3,4,5,6] - 752217\n",
    "75% - [1,2,3,4,5,6,7,8,9] - 1073735\n",
    "\n",
    "\n",
    "#Curitiba\n",
    "\n",
    "6 211 570 - 31 dias\n",
    "\n",
    "1 164351\n",
    "\n",
    "2,6% - [1] - 164351\n"
   ]
  },
  {
   "cell_type": "raw",
   "metadata": {},
   "source": [
    "1 - 0.\n",
    "2 - 0.09090909090909093\n",
    "3 - 0.18181818181818185\n",
    "4 - 0.2727272727272727\n",
    "5 - 0.3636363636363637\n",
    "6 - 0.4545454545454545\n",
    "7 - 0.5454545454545454\n",
    "8 - 0.6363636363636364\n",
    "9 - 0.7272727272727273\n",
    "10 - 0.81818182\n",
    "11 - 0.90909091\n",
    "12 - 1."
   ]
  },
  {
   "cell_type": "code",
   "execution_count": 5,
   "metadata": {},
   "outputs": [],
   "source": [
    "data5p = data[data[\"DAY(gps_datetime)\"] == 0.] #day 1 #1073735\n",
    "data25p = data[data[\"DAY(gps_datetime)\"].isin([0.,0.09090909090909093,0.18181818181818185,0.7272727272727273])] #days 1,2,3,9\n",
    "data41p = data[data[\"DAY(gps_datetime)\"].isin([0.,0.09090909090909093,0.18181818181818185,0.2727272727272727,\n",
    "                                               0.3636363636363637])] #days 1,2,3,4,5\n",
    "data52p = data[data[\"DAY(gps_datetime)\"].isin([0.,0.09090909090909093,0.18181818181818185,0.2727272727272727,0.3636363636363637,\n",
    "                                               0.4545454545454545])] #days 1,2,3,4,5,6\n",
    "data75p = data[data[\"DAY(gps_datetime)\"].isin([0.,0.09090909090909093,0.18181818181818185,0.2727272727272727,0.3636363636363637,\n",
    "                                               0.4545454545454545,0.5454545454545454,0.6363636363636364,0.7272727272727273])] #days 1,2,3,4,5,6,7,8,9\n",
    "\n",
    "y5p = y.loc[y.index[data5p.index]]\n",
    "y25p = y.loc[y.index[data25p.index]]\n",
    "y41p = y.loc[y.index[data41p.index]]\n",
    "y52p = y.loc[y.index[data52p.index]]\n",
    "y75p = y.loc[y.index[data75p.index]]"
   ]
  },
  {
   "cell_type": "code",
   "execution_count": 10,
   "metadata": {},
   "outputs": [],
   "source": [
    "# Save data\n",
    "\n",
    "output_path = '../data/output/'\n",
    "\n",
    "data5p.to_csv(output_path + \"normalized_data_X_headway_5p.csv\", index=False)\n",
    "y5p.to_csv(output_path + \"y_headway_5p.csv\", index=False)\n",
    "\n",
    "data25p.to_csv(output_path + \"normalized_data_X_headway_25p.csv\", index=False)\n",
    "y25p.to_csv(output_path + \"y_headway_25p.csv\", index=False)\n",
    "\n",
    "data41p.to_csv(output_path + \"normalized_data_X_headway_41p.csv\", index=False)\n",
    "y41p.to_csv(output_path + \"y_headway_41p.csv\", index=False)\n",
    "\n",
    "data52p.to_csv(output_path + \"normalized_data_X_headway_52p.csv\", index=False)\n",
    "y52p.to_csv(output_path + \"y_headway_52p.csv\", index=False)\n",
    "\n",
    "data75p.to_csv(output_path + \"normalized_data_X_headway_75p.csv\", index=False)\n",
    "y75p.to_csv(output_path + \"y_headway_75p.csv\", index=False)"
   ]
  },
  {
   "cell_type": "code",
   "execution_count": 7,
   "metadata": {},
   "outputs": [],
   "source": [
    "# alternative\n",
    "output_path = '../data/output/' + city + '/'\n",
    "#data41p.to_csv(output_path + \"normalized_data_X_41p.csv\", index=False)\n",
    "y5p.to_csv(output_path + \"y_headway_5p.csv\", index=False)"
   ]
  },
  {
   "cell_type": "markdown",
   "metadata": {},
   "source": [
    "### Curitiba"
   ]
  },
  {
   "cell_type": "raw",
   "metadata": {},
   "source": [
    "1 - 0. - 164351 - 2.65%\n",
    "2 - 0.03333333333333333 - 408096 - 6.57% \n",
    "3 - 0.06666666666666668 - 3411 - 0.06%\n",
    "4 - 0.1 - 242412 - 3.9%\n",
    "5 - 0.13333333333333333 - 154338 - 2.49%\n",
    "6 - 0.16666666666666666 - 402986 - 6.49%\n",
    "7 - 0.2 - 34152 - 0.55%\n",
    "8 - 0.2333333333333333 - 7734 - 0.13%\n",
    "9 - 0.26666666666666666 - 15031 - 0.25%\n",
    "10 - 0.3 - 21769 - 0.35%\n",
    "11 - 0.3333333333333333 - 253327 - 4.08%\n",
    "12 - 0.36666666666666653 - 162042 - 2.6%\n",
    "13 - 0.4 - 411203 - 6.62%\n",
    "14 - 0.43333333333333335 - 87019 - 1.4%\n",
    "15 - 0.4666666666666667 - 39404 - 0.63%\n",
    "16 - 0.5 - 84213 - 1.35%\n",
    "17 - 0.5333333333333333 - 436706 - 7.03%\n",
    "18 - 0.5666666666666667 - 261663 - 4.21%\n",
    "19 - 0.6 - 158248 - 2.55%\n",
    "20 - 0.6333333333333333 - 157064 - 2.53%\n",
    "21 - 0.6666666666666666 - 435339 - 7.01%\n",
    "22 - 0.7 - 420896 - 6.78%\n",
    "23 - 0.7333333333333333 - 412818 - 6.64%\n",
    "24 - 0.7666666666666667 - 106611 - 1.72%\n",
    "25 - 0.8 - 240493 - 3.87%\n",
    "26 - 0.8333333333333334 - 147388 - 2.37%\n",
    "27 - 0.8666666666666667 - 37113 - 0.6%\n",
    "28 - 0.9 - 382489 - 6.16%\n",
    "29 - 0.9333333333333332 - 408355 - 6.57%\n",
    "30 - 0.9666666666666668 - 105658 - 1.7%\n",
    "31 - 1. - 9241 - 0.15%\n",
    "\n",
    "\n",
    "100% - 6211570 - todos os dias\n",
    "\n",
    "75% - 4658677 - dias 1-22 e 25 e 27\n",
    "\n",
    "50% - 3105785 - dias 1-17 e 19\n",
    "\n",
    "25% - 1552892 - dias 1-10 e 12\n",
    "\n",
    "5% - 310578  - dias 1 e 5"
   ]
  },
  {
   "cell_type": "code",
   "execution_count": 4,
   "metadata": {},
   "outputs": [
    {
     "data": {
      "text/plain": [
       "array([0.        , 0.03333333, 0.06666667, 0.1       , 0.13333333,\n",
       "       0.16666667, 0.2       , 0.23333333, 0.26666667, 0.3       ,\n",
       "       0.33333333, 0.36666667, 0.4       , 0.43333333, 0.46666667,\n",
       "       0.5       , 0.53333333, 0.56666667, 0.6       , 0.63333333,\n",
       "       0.66666667, 0.7       , 0.73333333, 0.76666667, 0.8       ,\n",
       "       0.83333333, 0.86666667, 0.9       , 0.93333333, 0.96666667,\n",
       "       1.        ])"
      ]
     },
     "execution_count": 4,
     "metadata": {},
     "output_type": "execute_result"
    }
   ],
   "source": [
    "data[\"DAY(gps_datetime)\"].sort_values().unique()"
   ]
  },
  {
   "cell_type": "code",
   "execution_count": 68,
   "metadata": {},
   "outputs": [
    {
     "data": {
      "text/plain": [
       "0.9666666666666668"
      ]
     },
     "execution_count": 68,
     "metadata": {},
     "output_type": "execute_result"
    }
   ],
   "source": [
    "#data[(data[\"DAY(gps_datetime)\"] > 0.95) & (data[\"DAY(gps_datetime)\"] < 0.97)][\"DAY(gps_datetime)\"].iloc[0]"
   ]
  },
  {
   "cell_type": "code",
   "execution_count": 6,
   "metadata": {},
   "outputs": [],
   "source": [
    "def get_len_and_prop(day_ref):\n",
    "    len_day = len(data[data[\"DAY(gps_datetime)\"] == day_ref])\n",
    "    \n",
    "    print('Len: ' + str(len_day))\n",
    "    print('Prop: ' + str(len_day/len(data)*100))"
   ]
  },
  {
   "cell_type": "code",
   "execution_count": 69,
   "metadata": {},
   "outputs": [
    {
     "name": "stdout",
     "output_type": "stream",
     "text": [
      "Len: 105658\n",
      "Prop: 1.7009870290441869\n"
     ]
    }
   ],
   "source": [
    "get_len_and_prop(0.9666666666666668)"
   ]
  },
  {
   "cell_type": "code",
   "execution_count": null,
   "metadata": {},
   "outputs": [],
   "source": []
  },
  {
   "cell_type": "code",
   "execution_count": 70,
   "metadata": {},
   "outputs": [],
   "source": [
    "data5p = data[data[\"DAY(gps_datetime)\"].isin([0.,0.13333333333333333])] #days 1,5\n",
    "data25p = data[data[\"DAY(gps_datetime)\"].isin([0.,0.03333333333333333,0.06666666666666668,0.1,0.13333333333333333,\n",
    "                                               0.16666666666666666,0.2,0.2333333333333333,0.26666666666666666,0.3,\n",
    "                                               0.36666666666666653])] #days 1-10,12\n",
    "data50p = data[data[\"DAY(gps_datetime)\"].isin([0.,0.03333333333333333,0.06666666666666668,0.1,0.13333333333333333,\n",
    "                                               0.16666666666666666,0.2,0.2333333333333333,0.26666666666666666,0.3,\n",
    "                                               0.3333333333333333,0.36666666666666653,0.4,0.43333333333333335,\n",
    "                                               0.4666666666666667,0.5,0.5333333333333333,0.6])] #days 1-17,19\n",
    "data75p = data[data[\"DAY(gps_datetime)\"].isin([0.,0.03333333333333333,0.06666666666666668,0.1,0.13333333333333333,\n",
    "                                               0.16666666666666666,0.2,0.2333333333333333,0.26666666666666666,0.3,\n",
    "                                               0.3333333333333333,0.36666666666666653,0.4,0.43333333333333335,\n",
    "                                               0.4666666666666667,0.5,0.5333333333333333,0.5666666666666667,0.6,\n",
    "                                               0.6333333333333333,0.6666666666666666,0.7,0.8,\n",
    "                                               0.8666666666666667])] #days 1-22, 25, 27\n",
    "\n",
    "y5p = y.loc[y.index[data5p.index]]\n",
    "y25p = y.loc[y.index[data25p.index]]\n",
    "y50p = y.loc[y.index[data50p.index]]\n",
    "y75p = y.loc[y.index[data75p.index]]"
   ]
  },
  {
   "cell_type": "code",
   "execution_count": 71,
   "metadata": {},
   "outputs": [
    {
     "name": "stdout",
     "output_type": "stream",
     "text": [
      "5.13057085406749%\n",
      "26.021150852360996%\n",
      "49.688597246750824%\n",
      "74.68337312466896%\n"
     ]
    }
   ],
   "source": [
    "print(str(len(data5p)/len(data)*100) + '%')\n",
    "print(str(len(data25p)/len(data)*100) + '%')\n",
    "print(str(len(data50p)/len(data)*100) + '%')\n",
    "print(str(len(data75p)/len(data)*100) + '%')"
   ]
  },
  {
   "cell_type": "code",
   "execution_count": 72,
   "metadata": {},
   "outputs": [],
   "source": [
    "# Save data\n",
    "\n",
    "output_path = '../data/output/' + city\n",
    "\n",
    "data5p.to_csv(output_path + \"/normalized_data_X_headway_5p.csv\", index=False)\n",
    "y5p.to_csv(output_path + \"/y_headway_5p.csv\", index=False)\n",
    "\n",
    "data25p.to_csv(output_path + \"/normalized_data_X_headway_25p.csv\", index=False)\n",
    "y25p.to_csv(output_path + \"/y_headway_25p.csv\", index=False)\n",
    "\n",
    "data50p.to_csv(output_path + \"/normalized_data_X_headway_50p.csv\", index=False)\n",
    "y50p.to_csv(output_path + \"/y_headway_50p.csv\", index=False)\n",
    "\n",
    "data75p.to_csv(output_path + \"/normalized_data_X_headway_75p.csv\", index=False)\n",
    "y75p.to_csv(output_path + \"/y_headway_75p.csv\", index=False)"
   ]
  },
  {
   "cell_type": "code",
   "execution_count": null,
   "metadata": {},
   "outputs": [],
   "source": []
  },
  {
   "cell_type": "code",
   "execution_count": 8,
   "metadata": {},
   "outputs": [],
   "source": [
    "data3p = data[data[\"DAY(gps_datetime)\"] == 0.] #day 1 #164351\n",
    "y3p = y.loc[y.index[data3p.index]]"
   ]
  },
  {
   "cell_type": "code",
   "execution_count": 9,
   "metadata": {},
   "outputs": [],
   "source": [
    "# Save data\n",
    "\n",
    "output_path = '../data/output/' + city\n",
    "\n",
    "data3p.to_csv(output_path + \"/normalized_data_X_3p.csv\", index=False)\n",
    "y3p.to_csv(output_path + \"/y_3p.csv\", index=False)"
   ]
  },
  {
   "cell_type": "code",
   "execution_count": null,
   "metadata": {},
   "outputs": [],
   "source": []
  }
 ],
 "metadata": {
  "kernelspec": {
   "display_name": "Python 3",
   "language": "python",
   "name": "python3"
  },
  "language_info": {
   "codemirror_mode": {
    "name": "ipython",
    "version": 3
   },
   "file_extension": ".py",
   "mimetype": "text/x-python",
   "name": "python",
   "nbconvert_exporter": "python",
   "pygments_lexer": "ipython3",
   "version": "3.6.9"
  }
 },
 "nbformat": 4,
 "nbformat_minor": 2
}
