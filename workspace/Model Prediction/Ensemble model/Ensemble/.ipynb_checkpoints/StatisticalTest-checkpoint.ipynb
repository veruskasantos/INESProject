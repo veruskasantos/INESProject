{
 "cells": [
  {
   "cell_type": "code",
   "execution_count": 1,
   "metadata": {},
   "outputs": [],
   "source": [
    "from scipy.stats import mannwhitneyu\n",
    "from scipy.stats import friedmanchisquare\n",
    "import pandas as pd\n",
    "import math"
   ]
  },
  {
   "cell_type": "markdown",
   "metadata": {},
   "source": [
    "### Confidence Interval"
   ]
  },
  {
   "cell_type": "code",
   "execution_count": 19,
   "metadata": {},
   "outputs": [],
   "source": [
    "def get_CI(p, alpha, n):\n",
    "    dif = (1 - (alpha/2)) * math.sqrt((p*(1-p))/n)\n",
    "    print(dif)\n",
    "    return (p-dif, p+dif)"
   ]
  },
  {
   "cell_type": "markdown",
   "metadata": {},
   "source": [
    "#### Curitiba"
   ]
  },
  {
   "cell_type": "code",
   "execution_count": 10,
   "metadata": {},
   "outputs": [
    {
     "data": {
      "text/plain": [
       "1242314"
      ]
     },
     "execution_count": 10,
     "metadata": {},
     "output_type": "execute_result"
    }
   ],
   "source": [
    "len(preds_curitiba)"
   ]
  },
  {
   "cell_type": "code",
   "execution_count": 24,
   "metadata": {},
   "outputs": [
    {
     "name": "stdout",
     "output_type": "stream",
     "text": [
      "0.0002842633599830588\n"
     ]
    },
    {
     "data": {
      "text/plain": [
       "(0.8797157366400169, 0.8802842633599831)"
      ]
     },
     "execution_count": 24,
     "metadata": {},
     "output_type": "execute_result"
    }
   ],
   "source": [
    "get_CI(0.88, 0.05, 1242314) #precision"
   ]
  },
  {
   "cell_type": "code",
   "execution_count": 25,
   "metadata": {},
   "outputs": [
    {
     "name": "stdout",
     "output_type": "stream",
     "text": [
      "0.0004045705987946013\n"
     ]
    },
    {
     "data": {
      "text/plain": [
       "(0.6895954294012053, 0.6904045705987946)"
      ]
     },
     "execution_count": 25,
     "metadata": {},
     "output_type": "execute_result"
    }
   ],
   "source": [
    "get_CI(0.69, 0.05, 1242314) #recall"
   ]
  },
  {
   "cell_type": "code",
   "execution_count": 26,
   "metadata": {},
   "outputs": [
    {
     "name": "stdout",
     "output_type": "stream",
     "text": [
      "0.0003681274534503153\n"
     ]
    },
    {
     "data": {
      "text/plain": [
       "(0.7696318725465497, 0.7703681274534503)"
      ]
     },
     "execution_count": 26,
     "metadata": {},
     "output_type": "execute_result"
    }
   ],
   "source": [
    "get_CI(0.77, 0.05, 1242314) #f1"
   ]
  },
  {
   "cell_type": "markdown",
   "metadata": {},
   "source": [
    "#### CityA"
   ]
  },
  {
   "cell_type": "code",
   "execution_count": 21,
   "metadata": {},
   "outputs": [
    {
     "data": {
      "text/plain": [
       "286527"
      ]
     },
     "execution_count": 21,
     "metadata": {},
     "output_type": "execute_result"
    }
   ],
   "source": [
    "len(preds_cityA)"
   ]
  },
  {
   "cell_type": "code",
   "execution_count": 28,
   "metadata": {},
   "outputs": [
    {
     "name": "stdout",
     "output_type": "stream",
     "text": [
      "0.0004941522151642872\n"
     ]
    },
    {
     "data": {
      "text/plain": [
       "(0.9195058477848358, 0.9204941522151643)"
      ]
     },
     "execution_count": 28,
     "metadata": {},
     "output_type": "execute_result"
    }
   ],
   "source": [
    "get_CI(0.92, 0.05, 286527) #precision"
   ]
  },
  {
   "cell_type": "code",
   "execution_count": 29,
   "metadata": {},
   "outputs": [
    {
     "name": "stdout",
     "output_type": "stream",
     "text": [
      "0.000901765248906453\n"
     ]
    },
    {
     "data": {
      "text/plain": [
       "(0.42909823475109354, 0.43090176524890644)"
      ]
     },
     "execution_count": 29,
     "metadata": {},
     "output_type": "execute_result"
    }
   ],
   "source": [
    "get_CI(0.43, 0.05, 286527) #recall"
   ]
  },
  {
   "cell_type": "code",
   "execution_count": 30,
   "metadata": {},
   "outputs": [
    {
     "name": "stdout",
     "output_type": "stream",
     "text": [
      "0.0008958592320361333\n"
     ]
    },
    {
     "data": {
      "text/plain": [
       "(0.5891041407679638, 0.5908958592320361)"
      ]
     },
     "execution_count": 30,
     "metadata": {},
     "output_type": "execute_result"
    }
   ],
   "source": [
    "get_CI(0.59, 0.05, 286527) #f1"
   ]
  },
  {
   "cell_type": "markdown",
   "metadata": {},
   "source": [
    "### Q1 \n",
    "H1.0: Não há diferença significativa nos resultados de eficácia entre as cidades.\n",
    "\n",
    "H1.1: Há diferença significativa nos resultados de eficácia entre as cidades.\n",
    "\n",
    "Mann-Whitney (U) Test"
   ]
  },
  {
   "cell_type": "code",
   "execution_count": 6,
   "metadata": {
    "scrolled": true
   },
   "outputs": [
    {
     "name": "stdout",
     "output_type": "stream",
     "text": [
      "Statistics=174635662533.000, p=0.000\n"
     ]
    }
   ],
   "source": [
    "preds_cityA = pd.read_csv('outputs/ens_pred_q1_CityA.csv')\n",
    "preds_curitiba = pd.read_csv('outputs/ens_pred_q1_Curitiba.csv')\n",
    "\n",
    "stat, p = mannwhitneyu(list(preds_cityA.pred), list(preds_curitiba.pred))\n",
    "\n",
    "print('Statistics=%.3f, p=%.3f' % (stat, p))"
   ]
  },
  {
   "cell_type": "markdown",
   "metadata": {},
   "source": [
    "### Q2\n",
    "H1.0: Não há diferença significativa nos resultados .\n",
    "\n",
    "H1.1: Há diferença significativa nos resultados .\n",
    "\n",
    "Test"
   ]
  },
  {
   "cell_type": "code",
   "execution_count": 11,
   "metadata": {},
   "outputs": [
    {
     "name": "stdout",
     "output_type": "stream",
     "text": [
      "Statistics=39528.716, p=0.000\n"
     ]
    }
   ],
   "source": [
    "preds_rf_cityA = pd.read_csv('outputs/rf_pred_q2_CityA.csv')\n",
    "preds_cat_cityA = pd.read_csv('outputs/cat_pred_q2_CityA.csv')\n",
    "preds_xgb_cityA = pd.read_csv('outputs/xgb_pred_q2_CityA.csv')\n",
    "\n",
    "stat, p = friedmanchisquare(list(preds_rf_cityA.pred), list(preds_cat_cityA.pred), list(preds_xgb_cityA.pred))\n",
    "\n",
    "print('Statistics=%.3f, p=%.3f' % (stat, p))"
   ]
  },
  {
   "cell_type": "code",
   "execution_count": 12,
   "metadata": {},
   "outputs": [
    {
     "name": "stdout",
     "output_type": "stream",
     "text": [
      "Statistics=14546.481, p=0.000\n"
     ]
    }
   ],
   "source": [
    "preds_rf_curitiba = pd.read_csv('outputs/rf_pred_q2_Curitiba.csv')\n",
    "preds_cat_curitiba = pd.read_csv('outputs/cat_pred_q2_Curitiba.csv')\n",
    "preds_xgb_curitiba = pd.read_csv('outputs/xgb_pred_q2_Curitiba.csv')\n",
    "\n",
    "stat, p = friedmanchisquare(list(preds_rf_curitiba.pred), list(preds_cat_curitiba.pred), \n",
    "                            list(preds_xgb_curitiba.pred))\n",
    "\n",
    "print('Statistics=%.3f, p=%.3f' % (stat, p))"
   ]
  },
  {
   "cell_type": "code",
   "execution_count": null,
   "metadata": {},
   "outputs": [],
   "source": []
  }
 ],
 "metadata": {
  "kernelspec": {
   "display_name": "Python 3",
   "language": "python",
   "name": "python3"
  },
  "language_info": {
   "codemirror_mode": {
    "name": "ipython",
    "version": 3
   },
   "file_extension": ".py",
   "mimetype": "text/x-python",
   "name": "python",
   "nbconvert_exporter": "python",
   "pygments_lexer": "ipython3",
   "version": "3.6.9"
  }
 },
 "nbformat": 4,
 "nbformat_minor": 2
}
