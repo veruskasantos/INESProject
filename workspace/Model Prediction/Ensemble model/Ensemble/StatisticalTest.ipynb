{
 "cells": [
  {
   "cell_type": "code",
   "execution_count": 4,
   "metadata": {},
   "outputs": [],
   "source": [
    "from scipy.stats import mannwhitneyu\n",
    "from scipy.stats import friedmanchisquare\n",
    "import pandas as pd\n",
    "import math"
   ]
  },
  {
   "cell_type": "markdown",
   "metadata": {},
   "source": [
    "### Confidence Interval"
   ]
  },
  {
   "cell_type": "code",
   "execution_count": 19,
   "metadata": {},
   "outputs": [],
   "source": [
    "def get_CI(p, alpha, n):\n",
    "    dif = (1 - (alpha/2)) * math.sqrt((p*(1-p))/n)\n",
    "    print(dif)\n",
    "    return (p-dif, p+dif)"
   ]
  },
  {
   "cell_type": "markdown",
   "metadata": {},
   "source": [
    "#### Curitiba"
   ]
  },
  {
   "cell_type": "code",
   "execution_count": 10,
   "metadata": {},
   "outputs": [
    {
     "data": {
      "text/plain": [
       "1242314"
      ]
     },
     "execution_count": 10,
     "metadata": {},
     "output_type": "execute_result"
    }
   ],
   "source": [
    "len(preds_curitiba)"
   ]
  },
  {
   "cell_type": "code",
   "execution_count": 24,
   "metadata": {},
   "outputs": [
    {
     "name": "stdout",
     "output_type": "stream",
     "text": [
      "0.0002842633599830588\n"
     ]
    },
    {
     "data": {
      "text/plain": [
       "(0.8797157366400169, 0.8802842633599831)"
      ]
     },
     "execution_count": 24,
     "metadata": {},
     "output_type": "execute_result"
    }
   ],
   "source": [
    "get_CI(0.88, 0.05, 1242314) #precision"
   ]
  },
  {
   "cell_type": "code",
   "execution_count": 25,
   "metadata": {},
   "outputs": [
    {
     "name": "stdout",
     "output_type": "stream",
     "text": [
      "0.0004045705987946013\n"
     ]
    },
    {
     "data": {
      "text/plain": [
       "(0.6895954294012053, 0.6904045705987946)"
      ]
     },
     "execution_count": 25,
     "metadata": {},
     "output_type": "execute_result"
    }
   ],
   "source": [
    "get_CI(0.69, 0.05, 1242314) #recall"
   ]
  },
  {
   "cell_type": "code",
   "execution_count": 26,
   "metadata": {},
   "outputs": [
    {
     "name": "stdout",
     "output_type": "stream",
     "text": [
      "0.0003681274534503153\n"
     ]
    },
    {
     "data": {
      "text/plain": [
       "(0.7696318725465497, 0.7703681274534503)"
      ]
     },
     "execution_count": 26,
     "metadata": {},
     "output_type": "execute_result"
    }
   ],
   "source": [
    "get_CI(0.77, 0.05, 1242314) #f1"
   ]
  },
  {
   "cell_type": "markdown",
   "metadata": {},
   "source": [
    "#### CityA"
   ]
  },
  {
   "cell_type": "code",
   "execution_count": 21,
   "metadata": {},
   "outputs": [
    {
     "data": {
      "text/plain": [
       "286527"
      ]
     },
     "execution_count": 21,
     "metadata": {},
     "output_type": "execute_result"
    }
   ],
   "source": [
    "len(preds_cityA)"
   ]
  },
  {
   "cell_type": "code",
   "execution_count": 28,
   "metadata": {},
   "outputs": [
    {
     "name": "stdout",
     "output_type": "stream",
     "text": [
      "0.0004941522151642872\n"
     ]
    },
    {
     "data": {
      "text/plain": [
       "(0.9195058477848358, 0.9204941522151643)"
      ]
     },
     "execution_count": 28,
     "metadata": {},
     "output_type": "execute_result"
    }
   ],
   "source": [
    "get_CI(0.92, 0.05, 286527) #precision"
   ]
  },
  {
   "cell_type": "code",
   "execution_count": 29,
   "metadata": {},
   "outputs": [
    {
     "name": "stdout",
     "output_type": "stream",
     "text": [
      "0.000901765248906453\n"
     ]
    },
    {
     "data": {
      "text/plain": [
       "(0.42909823475109354, 0.43090176524890644)"
      ]
     },
     "execution_count": 29,
     "metadata": {},
     "output_type": "execute_result"
    }
   ],
   "source": [
    "get_CI(0.43, 0.05, 286527) #recall"
   ]
  },
  {
   "cell_type": "code",
   "execution_count": 30,
   "metadata": {},
   "outputs": [
    {
     "name": "stdout",
     "output_type": "stream",
     "text": [
      "0.0008958592320361333\n"
     ]
    },
    {
     "data": {
      "text/plain": [
       "(0.5891041407679638, 0.5908958592320361)"
      ]
     },
     "execution_count": 30,
     "metadata": {},
     "output_type": "execute_result"
    }
   ],
   "source": [
    "get_CI(0.59, 0.05, 286527) #f1"
   ]
  },
  {
   "cell_type": "markdown",
   "metadata": {},
   "source": [
    "### Q1 \n",
    "H1.0: Não há diferença significativa nos resultados de eficácia entre as cidades.\n",
    "\n",
    "H1.1: Há diferença significativa nos resultados de eficácia entre as cidades.\n",
    "\n",
    "Mann-Whitney (U) Test"
   ]
  },
  {
   "cell_type": "code",
   "execution_count": 7,
   "metadata": {},
   "outputs": [
    {
     "name": "stdout",
     "output_type": "stream",
     "text": [
      "Statistics=175073905579.500, p=0.000\n"
     ]
    }
   ],
   "source": [
    "preds_cityA = pd.read_csv('outputs/ens_pred_q1_CityA.csv')\n",
    "preds_curitiba = pd.read_csv('outputs/ens_pred_q1_Curitiba.csv')\n",
    "\n",
    "stat1, p1 = mannwhitneyu(list(preds_cityA.pred), list(preds_curitiba.pred))\n",
    "\n",
    "print('Statistics=%.3f, p=%.3f' % (stat1, p1))"
   ]
  },
  {
   "cell_type": "markdown",
   "metadata": {},
   "source": [
    "### Q2\n",
    "H1.0: Não há diferença significativa nos resultados .\n",
    "\n",
    "H1.1: Há diferença significativa nos resultados .\n",
    "\n",
    "Test Friedman"
   ]
  },
  {
   "cell_type": "code",
   "execution_count": 11,
   "metadata": {},
   "outputs": [
    {
     "name": "stdout",
     "output_type": "stream",
     "text": [
      "Statistics=39528.716, p=0.000\n"
     ]
    }
   ],
   "source": [
    "preds_rf_cityA = pd.read_csv('outputs/rf_pred_q2_CityA.csv')\n",
    "preds_cat_cityA = pd.read_csv('outputs/cat_pred_q2_CityA.csv')\n",
    "preds_xgb_cityA = pd.read_csv('outputs/xgb_pred_q2_CityA.csv')\n",
    "\n",
    "stat2ca, p2ca = friedmanchisquare(list(preds_rf_cityA.pred), list(preds_cat_cityA.pred), list(preds_xgb_cityA.pred))\n",
    "\n",
    "print('Statistics=%.3f, p=%.3f' % (stat2ca, p2ca))"
   ]
  },
  {
   "cell_type": "code",
   "execution_count": 3,
   "metadata": {},
   "outputs": [
    {
     "name": "stdout",
     "output_type": "stream",
     "text": [
      "Statistics=10547.298, p=0.000\n"
     ]
    }
   ],
   "source": [
    "preds_rf_curitiba = pd.read_csv('outputs/rf_pred_q2_Curitiba.csv')\n",
    "preds_cat_curitiba = pd.read_csv('outputs/cat_pred_q2_Curitiba.csv')\n",
    "preds_xgb_curitiba = pd.read_csv('outputs/xgb_pred_q2_Curitiba.csv')\n",
    "\n",
    "stat2, p2 = friedmanchisquare(list(preds_rf_curitiba.pred), list(preds_cat_curitiba.pred), \n",
    "                            list(preds_xgb_curitiba.pred))\n",
    "\n",
    "print('Statistics=%.3f, p=%.3f' % (stat2, p2))"
   ]
  },
  {
   "cell_type": "markdown",
   "metadata": {},
   "source": [
    "### Q3\n",
    "H1.0: Não há diferença significativa nos resultados de eficácia ao aumentar a quantidade de dados.\n",
    "\n",
    "H1.1: Há diferença significativa nos resultados de eficácia ao aumentar a quantidade de dados.\n",
    "\n",
    "Test Friedman"
   ]
  },
  {
   "cell_type": "code",
   "execution_count": 14,
   "metadata": {},
   "outputs": [
    {
     "name": "stdout",
     "output_type": "stream",
     "text": [
      "Statistics=33142.666, p=0.000\n"
     ]
    }
   ],
   "source": [
    "preds_ens5_cityA = pd.read_csv('outputs/q3/ens_pred_q3_5p_CityA.csv')\n",
    "preds_ens25_cityA = pd.read_csv('outputs/q3/ens_pred_q3_25p_CityA.csv')\n",
    "preds_ens52_cityA = pd.read_csv('outputs/q3/ens_pred_q3_52p_CityA.csv')\n",
    "preds_ens75_cityA = pd.read_csv('outputs/q3/ens_pred_q3_75p_CityA.csv')\n",
    "preds_ens100_cityA = pd.read_csv('outputs/q1/ens_pred_q1_CityA.csv')\n",
    "\n",
    "stat3ca, p3ca = friedmanchisquare(list(preds_ens5_cityA.pred), list(preds_ens25_cityA.pred), \n",
    "                                  list(preds_ens52_cityA.pred), list(preds_ens75_cityA.pred),\n",
    "                                  list(preds_ens100_cityA.pred))\n",
    "\n",
    "print('Statistics=%.3f, p=%.3f' % (stat3ca, p3ca))"
   ]
  },
  {
   "cell_type": "code",
   "execution_count": 12,
   "metadata": {},
   "outputs": [
    {
     "name": "stdout",
     "output_type": "stream",
     "text": [
      "Statistics=110284.458, p=0.000\n"
     ]
    }
   ],
   "source": [
    "preds_ens5_curitiba = pd.read_csv('outputs/q3/ens_pred_q3_5p_Curitiba.csv')\n",
    "preds_ens25_curitiba = pd.read_csv('outputs/q3/ens_pred_q3_25p_Curitiba.csv')\n",
    "preds_ens50_curitiba = pd.read_csv('outputs/q3/ens_pred_q3_50p_Curitiba.csv')\n",
    "preds_ens75_curitiba = pd.read_csv('outputs/q3/ens_pred_q3_75p_Curitiba.csv')\n",
    "preds_ens100_curitiba = pd.read_csv('outputs/q1/ens_pred_q1_Curitiba.csv')\n",
    "\n",
    "stat3, p3 = friedmanchisquare(list(preds_ens5_curitiba.pred), list(preds_ens25_curitiba.pred), \n",
    "                                  list(preds_ens50_curitiba.pred), list(preds_ens75_curitiba.pred),\n",
    "                                  list(preds_ens100_curitiba.pred))\n",
    "\n",
    "print('Statistics=%.3f, p=%.3f' % (stat3, p3))"
   ]
  },
  {
   "cell_type": "markdown",
   "metadata": {},
   "source": [
    "### Q4\n",
    "H1.0: Não há diferença significativa nos resultados .\n",
    "\n",
    "H1.1: Há diferença significativa nos resultados .\n",
    "\n",
    "Test Friedman"
   ]
  },
  {
   "cell_type": "code",
   "execution_count": 2,
   "metadata": {},
   "outputs": [
    {
     "name": "stdout",
     "output_type": "stream",
     "text": [
      "Statistics=156.340, p=0.000\n"
     ]
    }
   ],
   "source": [
    "preds_gps_gtfs_cityA = pd.read_csv('outputs/q4/ens_pred_q4_gps_gtfs_CityA.csv')\n",
    "preds_gps_gtfs_weather_cityA = pd.read_csv('outputs/q4/ens_pred_q4_gps_gtfs_weather_CityA.csv')\n",
    "preds_gps_gtfs_waze_cityA = pd.read_csv('outputs/q4/ens_pred_q4_gps_gtfs_waze_CityA.csv')\n",
    "preds_ens_all_cityA = pd.read_csv('outputs/q1/ens_pred_q1_CityA.csv')\n",
    "\n",
    "stat4ca, p4ca = friedmanchisquare(list(preds_gps_gtfs_cityA.pred), list(preds_gps_gtfs_weather_cityA.pred), \n",
    "                                  list(preds_gps_gtfs_waze_cityA.pred), list(preds_ens_all_cityA.pred))\n",
    "\n",
    "print('Statistics=%.3f, p=%.3f' % (stat4ca, p4ca))"
   ]
  },
  {
   "cell_type": "code",
   "execution_count": 3,
   "metadata": {},
   "outputs": [
    {
     "name": "stdout",
     "output_type": "stream",
     "text": [
      "Statistics=229.005, p=0.000\n"
     ]
    }
   ],
   "source": [
    "preds_gps_gtfs_curitiba = pd.read_csv('outputs/q4/ens_pred_q4_gps_gtfs_Curitiba.csv')\n",
    "preds_gps_gtfs_weather_curitiba = pd.read_csv('outputs/q4/ens_pred_q4_gps_gtfs_weather_Curitiba.csv')\n",
    "preds_gps_gtfs_waze_curitiba = pd.read_csv('outputs/q4/ens_pred_q4_gps_gtfs_waze_Curitiba.csv')\n",
    "preds_ens_all_curitiba = pd.read_csv('outputs/q1/ens_pred_q1_Curitiba.csv')\n",
    "\n",
    "stat4, p4 = friedmanchisquare(list(preds_gps_gtfs_curitiba.pred), list(preds_gps_gtfs_weather_curitiba.pred), \n",
    "                                  list(preds_gps_gtfs_waze_curitiba.pred), list(preds_ens_all_curitiba.pred))\n",
    "\n",
    "print('Statistics=%.3f, p=%.3f' % (stat4, p4))"
   ]
  },
  {
   "cell_type": "markdown",
   "metadata": {},
   "source": [
    "### Q5\n",
    "H1.0: Não há diferença significativa nos resultados .\n",
    "\n",
    "H1.1: Há diferença significativa nos resultados .\n",
    "\n",
    "Test Friedman"
   ]
  },
  {
   "cell_type": "code",
   "execution_count": 2,
   "metadata": {},
   "outputs": [
    {
     "name": "stdout",
     "output_type": "stream",
     "text": [
      "Statistics=266.047, p=0.000\n"
     ]
    }
   ],
   "source": [
    "preds_il50_cityA = pd.read_csv('outputs/q5/ens_pred_q5_50_CityA.csv')\n",
    "preds_il50_20_cityA = pd.read_csv('outputs/q5/ens_pred_q5_50_20_CityA.csv')\n",
    "preds_il50_40_cityA = pd.read_csv('outputs/q5/ens_pred_q5_50_40_CityA.csv')\n",
    "\n",
    "stat5ca, p5ca = friedmanchisquare(list(preds_il50_cityA.pred), list(preds_il50_20_cityA.pred), \n",
    "                                  list(preds_il50_40_cityA.pred))\n",
    "\n",
    "print('Statistics=%.3f, p=%.3f' % (stat5ca, p5ca))"
   ]
  },
  {
   "cell_type": "code",
   "execution_count": 3,
   "metadata": {},
   "outputs": [
    {
     "name": "stdout",
     "output_type": "stream",
     "text": [
      "Statistics=386.855, p=0.000\n"
     ]
    }
   ],
   "source": [
    "preds_il50_curitiba = pd.read_csv('outputs/q5/ens_pred_q5_50_Curitiba.csv')\n",
    "preds_il50_20_curitiba = pd.read_csv('outputs/q5/ens_pred_q5_50_20_Curitiba.csv')\n",
    "preds_il50_40_curitiba = pd.read_csv('outputs/q5/ens_pred_q5_50_40_Curitiba.csv')\n",
    "\n",
    "stat5, p5 = friedmanchisquare(list(preds_il50_curitiba.pred), list(preds_il50_20_curitiba.pred), \n",
    "                                  list(preds_il50_40_curitiba.pred))\n",
    "\n",
    "print('Statistics=%.3f, p=%.3f' % (stat5, p5))"
   ]
  },
  {
   "cell_type": "markdown",
   "metadata": {},
   "source": [
    "### Q7\n",
    "H1.0: Não há diferença significativa nos resultados .\n",
    "\n",
    "H1.1: Há diferença significativa nos resultados .\n",
    "\n",
    "Test Friedman"
   ]
  },
  {
   "cell_type": "code",
   "execution_count": 10,
   "metadata": {},
   "outputs": [
    {
     "name": "stdout",
     "output_type": "stream",
     "text": [
      "Statistics=818003.900, p=0.000\n"
     ]
    }
   ],
   "source": [
    "preds_ens_cityA = pd.read_csv('outputs/q1/ens_pred_q1_CityA.csv')\n",
    "preds_rli_cityA = pd.read_csv('outputs/q7/rli_pred_q7_CityA.csv')\n",
    "preds_rlo_cityA = pd.read_csv('outputs/q7/rlo_pred_q7_CityA.csv')\n",
    "preds_svm_cityA = pd.read_csv('outputs/q7/svm_pred_q7_CityA.csv')\n",
    "\n",
    "stat7ca, p7ca = friedmanchisquare(list(preds_ens_cityA.pred), list(preds_rli_cityA.pred), \n",
    "                                  list(preds_rlo_cityA.pred), list(preds_svm_cityA.pred))\n",
    "\n",
    "print('Statistics=%.3f, p=%.3f' % (stat7ca, p7ca))"
   ]
  },
  {
   "cell_type": "code",
   "execution_count": 12,
   "metadata": {},
   "outputs": [
    {
     "name": "stdout",
     "output_type": "stream",
     "text": [
      "Statistics=2448374.790, p=0.000\n"
     ]
    }
   ],
   "source": [
    "preds_ens_curitiba = pd.read_csv('outputs/q1/ens_pred_q1_Curitiba.csv')\n",
    "preds_rli_curitiba = pd.read_csv('outputs/q7/rli_pred_q7_Curitiba.csv')\n",
    "preds_rlo_curitiba = pd.read_csv('outputs/q7/rlo_pred_q7_Curitiba.csv')\n",
    "\n",
    "stat7, p7 = friedmanchisquare(list(preds_ens_curitiba.pred), list(preds_rli_curitiba.pred), \n",
    "                                  list(preds_rlo_curitiba.pred))\n",
    "\n",
    "print('Statistics=%.3f, p=%.3f' % (stat7, p7))"
   ]
  },
  {
   "cell_type": "code",
   "execution_count": null,
   "metadata": {},
   "outputs": [],
   "source": []
  }
 ],
 "metadata": {
  "kernelspec": {
   "display_name": "Python 3",
   "language": "python",
   "name": "python3"
  },
  "language_info": {
   "codemirror_mode": {
    "name": "ipython",
    "version": 3
   },
   "file_extension": ".py",
   "mimetype": "text/x-python",
   "name": "python",
   "nbconvert_exporter": "python",
   "pygments_lexer": "ipython3",
   "version": "3.6.9"
  }
 },
 "nbformat": 4,
 "nbformat_minor": 2
}
