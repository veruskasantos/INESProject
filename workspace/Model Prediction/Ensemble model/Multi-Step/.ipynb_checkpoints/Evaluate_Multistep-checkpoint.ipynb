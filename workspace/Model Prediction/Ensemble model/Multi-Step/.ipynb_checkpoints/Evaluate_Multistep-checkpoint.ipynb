{
 "cells": [
  {
   "cell_type": "code",
   "execution_count": 1,
   "metadata": {},
   "outputs": [],
   "source": [
    "import pandas as pd\n",
    "import numpy as np\n",
    "import random\n",
    "from sklearn.model_selection import train_test_split"
   ]
  },
  {
   "cell_type": "code",
   "execution_count": 3,
   "metadata": {},
   "outputs": [
    {
     "name": "stdout",
     "output_type": "stream",
     "text": [
      "(286527, 11)\n",
      "(286527, 11)\n",
      "(286527, 11)\n",
      "(286527, 12)\n",
      "    n0   n1   n2   n3   n4   n5   n6   n7   n8   n9  n10\n",
      "0  0.0  0.0  0.0  0.0  0.0  0.0  0.0  0.0  0.0  0.0  0.0\n",
      "1  1.0  1.0  1.0  1.0  1.0  1.0  1.0  1.0  1.0  1.0  1.0\n",
      "2  0.0  0.0  0.0  0.0  0.0  0.0  0.0  0.0  0.0  0.0  0.0\n",
      "3  0.0  0.0  0.0  0.0  0.0  0.0  0.0  0.0  0.0  0.0  0.0\n",
      "4  0.0  0.0  0.0  0.0  0.0  0.0  0.0  0.0  0.0  0.0  0.0\n",
      "    n0   n1   n2   n3   n4   n5   n6   n7   n8   n9  n10\n",
      "0  0.0  0.0  0.0  0.0  0.0  0.0  0.0  0.0  0.0  0.0  0.0\n",
      "1  0.0  0.0  1.0  1.0  1.0  1.0  1.0  1.0  1.0  1.0  1.0\n",
      "2  0.0  0.0  0.0  0.0  0.0  0.0  0.0  0.0  0.0  0.0  0.0\n",
      "3  0.0  0.0  0.0  0.0  0.0  0.0  0.0  0.0  0.0  0.0  0.0\n",
      "4  0.0  0.0  0.0  0.0  0.0  0.0  0.0  0.0  0.0  0.0  0.0\n",
      "    n0   n1   n2   n3   n4   n5   n6   n7   n8   n9  n10\n",
      "0  0.0  0.0  0.0  0.0  0.0  0.0  0.0  0.0  0.0  0.0  0.0\n",
      "1  1.0  1.0  1.0  1.0  1.0  1.0  1.0  1.0  1.0  1.0  1.0\n",
      "2  0.0  0.0  0.0  0.0  0.0  0.0  0.0  0.0  0.0  0.0  0.0\n",
      "3  0.0  0.0  0.0  0.0  0.0  0.0  0.0  0.0  0.0  0.0  0.0\n",
      "4  0.0  0.0  0.0  0.0  0.0  0.0  0.0  0.0  0.0  0.0  0.0\n"
     ]
    },
    {
     "data": {
      "text/html": [
       "<div>\n",
       "<style scoped>\n",
       "    .dataframe tbody tr th:only-of-type {\n",
       "        vertical-align: middle;\n",
       "    }\n",
       "\n",
       "    .dataframe tbody tr th {\n",
       "        vertical-align: top;\n",
       "    }\n",
       "\n",
       "    .dataframe thead th {\n",
       "        text-align: right;\n",
       "    }\n",
       "</style>\n",
       "<table border=\"1\" class=\"dataframe\">\n",
       "  <thead>\n",
       "    <tr style=\"text-align: right;\">\n",
       "      <th></th>\n",
       "      <th>Unnamed: 0</th>\n",
       "      <th>busBunching0</th>\n",
       "      <th>busBunching1</th>\n",
       "      <th>busBunching2</th>\n",
       "      <th>busBunching3</th>\n",
       "      <th>busBunching4</th>\n",
       "      <th>busBunching5</th>\n",
       "      <th>busBunching6</th>\n",
       "      <th>busBunching7</th>\n",
       "      <th>busBunching8</th>\n",
       "      <th>busBunching9</th>\n",
       "      <th>busBunching10</th>\n",
       "    </tr>\n",
       "  </thead>\n",
       "  <tbody>\n",
       "    <tr>\n",
       "      <th>0</th>\n",
       "      <td>341586</td>\n",
       "      <td>0.0</td>\n",
       "      <td>0</td>\n",
       "      <td>0</td>\n",
       "      <td>0</td>\n",
       "      <td>0</td>\n",
       "      <td>0</td>\n",
       "      <td>0</td>\n",
       "      <td>0</td>\n",
       "      <td>0</td>\n",
       "      <td>0</td>\n",
       "      <td>0</td>\n",
       "    </tr>\n",
       "    <tr>\n",
       "      <th>1</th>\n",
       "      <td>573490</td>\n",
       "      <td>1.0</td>\n",
       "      <td>1</td>\n",
       "      <td>1</td>\n",
       "      <td>1</td>\n",
       "      <td>1</td>\n",
       "      <td>1</td>\n",
       "      <td>1</td>\n",
       "      <td>1</td>\n",
       "      <td>1</td>\n",
       "      <td>1</td>\n",
       "      <td>1</td>\n",
       "    </tr>\n",
       "    <tr>\n",
       "      <th>2</th>\n",
       "      <td>50737</td>\n",
       "      <td>0.0</td>\n",
       "      <td>0</td>\n",
       "      <td>0</td>\n",
       "      <td>0</td>\n",
       "      <td>0</td>\n",
       "      <td>0</td>\n",
       "      <td>0</td>\n",
       "      <td>0</td>\n",
       "      <td>0</td>\n",
       "      <td>0</td>\n",
       "      <td>0</td>\n",
       "    </tr>\n",
       "    <tr>\n",
       "      <th>3</th>\n",
       "      <td>840747</td>\n",
       "      <td>0.0</td>\n",
       "      <td>0</td>\n",
       "      <td>0</td>\n",
       "      <td>0</td>\n",
       "      <td>0</td>\n",
       "      <td>0</td>\n",
       "      <td>0</td>\n",
       "      <td>0</td>\n",
       "      <td>0</td>\n",
       "      <td>0</td>\n",
       "      <td>0</td>\n",
       "    </tr>\n",
       "    <tr>\n",
       "      <th>4</th>\n",
       "      <td>796060</td>\n",
       "      <td>0.0</td>\n",
       "      <td>0</td>\n",
       "      <td>0</td>\n",
       "      <td>0</td>\n",
       "      <td>0</td>\n",
       "      <td>0</td>\n",
       "      <td>0</td>\n",
       "      <td>0</td>\n",
       "      <td>0</td>\n",
       "      <td>0</td>\n",
       "      <td>0</td>\n",
       "    </tr>\n",
       "  </tbody>\n",
       "</table>\n",
       "</div>"
      ],
      "text/plain": [
       "   Unnamed: 0  busBunching0  busBunching1  busBunching2  busBunching3  \\\n",
       "0      341586           0.0             0             0             0   \n",
       "1      573490           1.0             1             1             1   \n",
       "2       50737           0.0             0             0             0   \n",
       "3      840747           0.0             0             0             0   \n",
       "4      796060           0.0             0             0             0   \n",
       "\n",
       "   busBunching4  busBunching5  busBunching6  busBunching7  busBunching8  \\\n",
       "0             0             0             0             0             0   \n",
       "1             1             1             1             1             1   \n",
       "2             0             0             0             0             0   \n",
       "3             0             0             0             0             0   \n",
       "4             0             0             0             0             0   \n",
       "\n",
       "   busBunching9  busBunching10  \n",
       "0             0              0  \n",
       "1             1              1  \n",
       "2             0              0  \n",
       "3             0              0  \n",
       "4             0              0  "
      ]
     },
     "execution_count": 3,
     "metadata": {},
     "output_type": "execute_result"
    }
   ],
   "source": [
    "city = 'CityA'\n",
    "\n",
    "data_path = '../../data/output/' + city\n",
    "\n",
    "xgb = pd.read_csv(data_path + '/xgb_pred_multi_10.csv')\n",
    "cat = pd.read_csv(data_path + '/cat_pred_multi_10.csv')\n",
    "rf = pd.read_csv(data_path + '/rf_pred_multi_10.csv')\n",
    "\n",
    "#y = pd.read_csv(data_path + '/y_multistep10.csv')\n",
    "y_test = pd.read_csv(data_path + '/y_test_multistep10.csv')\n",
    "\n",
    "print(xgb.shape)\n",
    "print(cat.shape)\n",
    "print(rf.shape)\n",
    "print(y_test.shape)\n",
    "\n",
    "print(xgb.head())\n",
    "print(cat.head())\n",
    "print(rf.head())\n",
    "y_test.head()"
   ]
  },
  {
   "cell_type": "code",
   "execution_count": null,
   "metadata": {},
   "outputs": [],
   "source": [
    "data = pd.read_csv(data_path + '/normalized_data_X.csv')\n",
    "\n",
    "# Making training and test data: 80% Training, 20% Test\n",
    "random.seed(15) #to get always the same set\n",
    "train_X, test_X, train_Y, test_Y = train_test_split(data, y, test_size=0.20, random_state=7)\n",
    "test_Y.to_csv(data_path + '/y_test_multistep10.csv')\n",
    "test_Y.head()"
   ]
  },
  {
   "cell_type": "code",
   "execution_count": 11,
   "metadata": {},
   "outputs": [],
   "source": [
    "predictions = []\n",
    "n_steps = 10\n",
    "\n",
    "rf_pred = rf.to_numpy()\n",
    "cat_pred = cat.to_numpy()\n",
    "xgb_pred = xgb.to_numpy()\n",
    "\n",
    "for i in range(0, len(rf)):\n",
    "    pred_steps = []\n",
    "    \n",
    "    for n in range(0, n_steps+1):\n",
    "        temp_preds = []\n",
    "        temp_preds.append(rf_pred[i, n])\n",
    "        temp_preds.append(cat_pred[i, n])\n",
    "        temp_preds.append(xgb_pred[i, n])\n",
    "\n",
    "        pred_steps.append(\n",
    "            max(temp_preds,key=temp_preds.count)\n",
    "        )\n",
    "        \n",
    "    predictions.append(pred_steps)\n",
    "    \n",
    "final_predictions = np.array(predictions)"
   ]
  },
  {
   "cell_type": "code",
   "execution_count": 23,
   "metadata": {},
   "outputs": [
    {
     "data": {
      "text/plain": [
       "array([0., 1., 0., ..., 0., 0., 0.])"
      ]
     },
     "execution_count": 23,
     "metadata": {},
     "output_type": "execute_result"
    }
   ],
   "source": [
    "final_predictions[:,7]"
   ]
  },
  {
   "cell_type": "code",
   "execution_count": 13,
   "metadata": {},
   "outputs": [
    {
     "name": "stdout",
     "output_type": "stream",
     "text": [
      "7 - Preds : 9.30488226240459 | Y : 12.84974888928443\n"
     ]
    }
   ],
   "source": [
    "print('7 - Preds : ' + str(len(final_predictions[ (1==final_predictions[:,7]) ])/len(final_predictions)*100) +\n",
    "     ' | Y : ' + str(len(y_test[y_test.busBunching7 == 1].index)/len(y_test.index)*100))"
   ]
  },
  {
   "cell_type": "code",
   "execution_count": 14,
   "metadata": {},
   "outputs": [
    {
     "name": "stdout",
     "output_type": "stream",
     "text": [
      "8 - Preds : 9.258115291054596 | Y : 12.739811605887056\n"
     ]
    }
   ],
   "source": [
    "print('8 - Preds : ' + str(len(final_predictions[ (1==final_predictions[:,8]) ])/len(final_predictions)*100) +\n",
    "     ' | Y : ' + str(len(y_test[y_test.busBunching8 == 1].index)/len(y_test.index)*100))"
   ]
  },
  {
   "cell_type": "code",
   "execution_count": 15,
   "metadata": {},
   "outputs": [
    {
     "name": "stdout",
     "output_type": "stream",
     "text": [
      "9 - Preds : 9.169118442590053 | Y : 12.674547250346391\n"
     ]
    }
   ],
   "source": [
    "print('9 - Preds : ' + str(len(final_predictions[ (1==final_predictions[:,9]) ])/len(final_predictions)*100) +\n",
    "     ' | Y : ' + str(len(y_test[y_test.busBunching9 == 1].index)/len(y_test.index)*100))"
   ]
  },
  {
   "cell_type": "code",
   "execution_count": 16,
   "metadata": {},
   "outputs": [
    {
     "name": "stdout",
     "output_type": "stream",
     "text": [
      "10 - Preds : 9.138405804688563 | Y : 12.570194082931103\n"
     ]
    }
   ],
   "source": [
    "print('10 - Preds : ' + str(len(final_predictions[ (1==final_predictions[:,10]) ])/len(final_predictions)*100) +\n",
    "     ' | Y : ' + str(len(y_test[y_test.busBunching10 == 1].index)/len(y_test.index)*100))"
   ]
  },
  {
   "cell_type": "code",
   "execution_count": 10,
   "metadata": {},
   "outputs": [
    {
     "data": {
      "text/plain": [
       "0.13463652640065335"
      ]
     },
     "execution_count": 10,
     "metadata": {},
     "output_type": "execute_result"
    }
   ],
   "source": [
    "len(y_test[y_test.busBunching0 == 1].index)/len(y_test.index)*100"
   ]
  },
  {
   "cell_type": "code",
   "execution_count": null,
   "metadata": {},
   "outputs": [],
   "source": []
  }
 ],
 "metadata": {
  "kernelspec": {
   "display_name": "Python 3",
   "language": "python",
   "name": "python3"
  },
  "language_info": {
   "codemirror_mode": {
    "name": "ipython",
    "version": 3
   },
   "file_extension": ".py",
   "mimetype": "text/x-python",
   "name": "python",
   "nbconvert_exporter": "python",
   "pygments_lexer": "ipython3",
   "version": "3.8.5"
  }
 },
 "nbformat": 4,
 "nbformat_minor": 4
}
