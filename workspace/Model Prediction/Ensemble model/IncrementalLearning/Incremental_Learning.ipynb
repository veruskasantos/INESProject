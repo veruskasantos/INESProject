{
 "cells": [
  {
   "cell_type": "code",
   "execution_count": 1,
   "metadata": {},
   "outputs": [
    {
     "name": "stderr",
     "output_type": "stream",
     "text": [
      "/home/veruska/.local/lib/python3.6/site-packages/sklearn/externals/joblib/__init__.py:15: FutureWarning: sklearn.externals.joblib is deprecated in 0.21 and will be removed in 0.23. Please import this functionality directly from joblib, which can be installed with: pip install joblib. If this warning is raised when loading pickled models, you may need to re-serialize those models with scikit-learn 0.21+.\n",
      "  warnings.warn(msg, category=FutureWarning)\n"
     ]
    }
   ],
   "source": [
    "import numpy as np\n",
    "import pandas as pd\n",
    "import random\n",
    "from sklearn.ensemble import RandomForestClassifier\n",
    "from catboost import CatBoostClassifier\n",
    "from sklearn.metrics import accuracy_score, precision_score, recall_score, f1_score\n",
    "from sklearn.model_selection import train_test_split\n",
    "from xgboost.sklearn import XGBClassifier\n",
    "from sklearn.externals import joblib\n",
    "import time\n",
    "from incremental_trees.trees import StreamingRFC"
   ]
  },
  {
   "cell_type": "code",
   "execution_count": 2,
   "metadata": {},
   "outputs": [
    {
     "name": "stdout",
     "output_type": "stream",
     "text": [
      "(6211570, 116)\n",
      "(6211570, 1)\n"
     ]
    },
    {
     "data": {
      "text/html": [
       "<div>\n",
       "<style scoped>\n",
       "    .dataframe tbody tr th:only-of-type {\n",
       "        vertical-align: middle;\n",
       "    }\n",
       "\n",
       "    .dataframe tbody tr th {\n",
       "        vertical-align: top;\n",
       "    }\n",
       "\n",
       "    .dataframe thead th {\n",
       "        text-align: right;\n",
       "    }\n",
       "</style>\n",
       "<table border=\"1\" class=\"dataframe\">\n",
       "  <thead>\n",
       "    <tr style=\"text-align: right;\">\n",
       "      <th></th>\n",
       "      <th>tripNum</th>\n",
       "      <th>shapeSequence</th>\n",
       "      <th>shapeLat</th>\n",
       "      <th>shapeLon</th>\n",
       "      <th>distanceTraveledShape</th>\n",
       "      <th>gpsPointId</th>\n",
       "      <th>gpsLat</th>\n",
       "      <th>gpsLon</th>\n",
       "      <th>distanceToShapePoint</th>\n",
       "      <th>stopPointId</th>\n",
       "      <th>...</th>\n",
       "      <th>alertSubtype_code</th>\n",
       "      <th>alertType_code</th>\n",
       "      <th>alertRoadType_code</th>\n",
       "      <th>jamBlockType_code</th>\n",
       "      <th>busCodeSB_code</th>\n",
       "      <th>alertSubtypeSB_code</th>\n",
       "      <th>alertTypeSB_code</th>\n",
       "      <th>alertRoadTypeSB_code</th>\n",
       "      <th>jamBlockTypeSB_code</th>\n",
       "      <th>problemSB_code</th>\n",
       "    </tr>\n",
       "  </thead>\n",
       "  <tbody>\n",
       "    <tr>\n",
       "      <th>0</th>\n",
       "      <td>0.0</td>\n",
       "      <td>0.899945</td>\n",
       "      <td>0.916733</td>\n",
       "      <td>0.788385</td>\n",
       "      <td>0.014696</td>\n",
       "      <td>0.000000</td>\n",
       "      <td>0.348779</td>\n",
       "      <td>0.517589</td>\n",
       "      <td>0.000000</td>\n",
       "      <td>0.550342</td>\n",
       "      <td>...</td>\n",
       "      <td>0.814815</td>\n",
       "      <td>0.666667</td>\n",
       "      <td>0.25</td>\n",
       "      <td>0.25</td>\n",
       "      <td>0.015395</td>\n",
       "      <td>0.814815</td>\n",
       "      <td>0.666667</td>\n",
       "      <td>0.25</td>\n",
       "      <td>0.333333</td>\n",
       "      <td>0.000000</td>\n",
       "    </tr>\n",
       "    <tr>\n",
       "      <th>1</th>\n",
       "      <td>0.0</td>\n",
       "      <td>0.899947</td>\n",
       "      <td>0.921318</td>\n",
       "      <td>0.772879</td>\n",
       "      <td>0.022706</td>\n",
       "      <td>0.000000</td>\n",
       "      <td>0.350518</td>\n",
       "      <td>0.513454</td>\n",
       "      <td>0.000000</td>\n",
       "      <td>0.550100</td>\n",
       "      <td>...</td>\n",
       "      <td>0.814815</td>\n",
       "      <td>0.666667</td>\n",
       "      <td>0.25</td>\n",
       "      <td>0.25</td>\n",
       "      <td>0.015395</td>\n",
       "      <td>0.814815</td>\n",
       "      <td>0.666667</td>\n",
       "      <td>0.25</td>\n",
       "      <td>0.333333</td>\n",
       "      <td>0.000000</td>\n",
       "    </tr>\n",
       "    <tr>\n",
       "      <th>2</th>\n",
       "      <td>0.0</td>\n",
       "      <td>0.899949</td>\n",
       "      <td>0.927984</td>\n",
       "      <td>0.771251</td>\n",
       "      <td>0.028732</td>\n",
       "      <td>0.000000</td>\n",
       "      <td>0.353047</td>\n",
       "      <td>0.513020</td>\n",
       "      <td>0.000000</td>\n",
       "      <td>0.653710</td>\n",
       "      <td>...</td>\n",
       "      <td>0.814815</td>\n",
       "      <td>0.666667</td>\n",
       "      <td>0.25</td>\n",
       "      <td>0.25</td>\n",
       "      <td>0.015395</td>\n",
       "      <td>0.814815</td>\n",
       "      <td>0.666667</td>\n",
       "      <td>0.25</td>\n",
       "      <td>0.333333</td>\n",
       "      <td>0.000000</td>\n",
       "    </tr>\n",
       "    <tr>\n",
       "      <th>3</th>\n",
       "      <td>0.0</td>\n",
       "      <td>0.899954</td>\n",
       "      <td>0.938787</td>\n",
       "      <td>0.776257</td>\n",
       "      <td>0.037058</td>\n",
       "      <td>0.012792</td>\n",
       "      <td>0.357100</td>\n",
       "      <td>0.514376</td>\n",
       "      <td>0.000048</td>\n",
       "      <td>0.653771</td>\n",
       "      <td>...</td>\n",
       "      <td>0.814815</td>\n",
       "      <td>0.666667</td>\n",
       "      <td>0.25</td>\n",
       "      <td>0.25</td>\n",
       "      <td>0.015395</td>\n",
       "      <td>0.814815</td>\n",
       "      <td>0.666667</td>\n",
       "      <td>0.25</td>\n",
       "      <td>0.333333</td>\n",
       "      <td>0.333333</td>\n",
       "    </tr>\n",
       "    <tr>\n",
       "      <th>4</th>\n",
       "      <td>0.0</td>\n",
       "      <td>0.899958</td>\n",
       "      <td>0.948479</td>\n",
       "      <td>0.772553</td>\n",
       "      <td>0.044445</td>\n",
       "      <td>0.000000</td>\n",
       "      <td>0.360821</td>\n",
       "      <td>0.513367</td>\n",
       "      <td>0.000000</td>\n",
       "      <td>0.653831</td>\n",
       "      <td>...</td>\n",
       "      <td>0.814815</td>\n",
       "      <td>0.666667</td>\n",
       "      <td>0.25</td>\n",
       "      <td>0.25</td>\n",
       "      <td>0.015395</td>\n",
       "      <td>0.814815</td>\n",
       "      <td>0.666667</td>\n",
       "      <td>0.25</td>\n",
       "      <td>0.333333</td>\n",
       "      <td>0.000000</td>\n",
       "    </tr>\n",
       "  </tbody>\n",
       "</table>\n",
       "<p>5 rows × 116 columns</p>\n",
       "</div>"
      ],
      "text/plain": [
       "   tripNum  shapeSequence  shapeLat  shapeLon  distanceTraveledShape  \\\n",
       "0      0.0       0.899945  0.916733  0.788385               0.014696   \n",
       "1      0.0       0.899947  0.921318  0.772879               0.022706   \n",
       "2      0.0       0.899949  0.927984  0.771251               0.028732   \n",
       "3      0.0       0.899954  0.938787  0.776257               0.037058   \n",
       "4      0.0       0.899958  0.948479  0.772553               0.044445   \n",
       "\n",
       "   gpsPointId    gpsLat    gpsLon  distanceToShapePoint  stopPointId  ...  \\\n",
       "0    0.000000  0.348779  0.517589              0.000000     0.550342  ...   \n",
       "1    0.000000  0.350518  0.513454              0.000000     0.550100  ...   \n",
       "2    0.000000  0.353047  0.513020              0.000000     0.653710  ...   \n",
       "3    0.012792  0.357100  0.514376              0.000048     0.653771  ...   \n",
       "4    0.000000  0.360821  0.513367              0.000000     0.653831  ...   \n",
       "\n",
       "   alertSubtype_code  alertType_code  alertRoadType_code  jamBlockType_code  \\\n",
       "0           0.814815        0.666667                0.25               0.25   \n",
       "1           0.814815        0.666667                0.25               0.25   \n",
       "2           0.814815        0.666667                0.25               0.25   \n",
       "3           0.814815        0.666667                0.25               0.25   \n",
       "4           0.814815        0.666667                0.25               0.25   \n",
       "\n",
       "   busCodeSB_code  alertSubtypeSB_code  alertTypeSB_code  \\\n",
       "0        0.015395             0.814815          0.666667   \n",
       "1        0.015395             0.814815          0.666667   \n",
       "2        0.015395             0.814815          0.666667   \n",
       "3        0.015395             0.814815          0.666667   \n",
       "4        0.015395             0.814815          0.666667   \n",
       "\n",
       "   alertRoadTypeSB_code  jamBlockTypeSB_code  problemSB_code  \n",
       "0                  0.25             0.333333        0.000000  \n",
       "1                  0.25             0.333333        0.000000  \n",
       "2                  0.25             0.333333        0.000000  \n",
       "3                  0.25             0.333333        0.333333  \n",
       "4                  0.25             0.333333        0.000000  \n",
       "\n",
       "[5 rows x 116 columns]"
      ]
     },
     "execution_count": 2,
     "metadata": {},
     "output_type": "execute_result"
    }
   ],
   "source": [
    "city = 'Curitiba'\n",
    "\n",
    "data_path = '../../data/output/' + city + '/normalized_data_X_FE.csv'\n",
    "y_path = '../../data/output/' + city + '/y_FE.csv'\n",
    "\n",
    "data = pd.read_csv(data_path)\n",
    "y = pd.read_csv(y_path)\n",
    "print(data.shape)\n",
    "print(y.shape)\n",
    "data.head()"
   ]
  },
  {
   "cell_type": "code",
   "execution_count": 3,
   "metadata": {},
   "outputs": [],
   "source": [
    "# Making training and test data: 80% Training, 20% Test\n",
    "random.seed(15) #to get always the same set\n",
    "train_X, test_X, train_Y, test_Y = train_test_split(data, y, test_size=0.20, random_state=7)\n",
    "train_X_1, train_X_2, train_Y_1, train_Y_2 = train_test_split(train_X, train_Y, test_size=0.50, random_state=7) "
   ]
  },
  {
   "cell_type": "code",
   "execution_count": 4,
   "metadata": {},
   "outputs": [],
   "source": [
    "# proportions to split data\n",
    "\n",
    "#citya\n",
    "#perc20 = 286526\n",
    "#perc40 = 573053\n",
    "\n",
    "#curitiba\n",
    "perc20 = 1242314\n",
    "perc40 = 2484628"
   ]
  },
  {
   "cell_type": "code",
   "execution_count": 5,
   "metadata": {},
   "outputs": [
    {
     "name": "stdout",
     "output_type": "stream",
     "text": [
      "(1242314, 116) (1242314, 1)\n",
      "(1242314, 116) (1242314, 1)\n"
     ]
    }
   ],
   "source": [
    "#20%\n",
    "first_20perc_X = train_X_2[0:perc20]\n",
    "second_20perc_X = train_X_2[perc20:perc40]\n",
    "#third_20perc_X = train_X_2[573054:859580]\n",
    "first_20perc_Y = train_Y_2[0:perc20]\n",
    "second_20perc_Y = train_Y_2[perc20:perc40]\n",
    "#third_20perc_Y = train_Y_2[573054:859580]\n",
    "\n",
    "print(first_20perc_X.shape, first_20perc_Y.shape)\n",
    "print(second_20perc_X.shape, second_20perc_Y.shape)\n",
    "#print(third_10perc_X.shape, third_10perc_Y.shape)"
   ]
  },
  {
   "cell_type": "code",
   "execution_count": 4,
   "metadata": {},
   "outputs": [],
   "source": [
    "#1%\n",
    "first_1perc_X = train_X_2[0:350]\n",
    "second_1perc_X = train_X_2[351:701]\n",
    "third_1perc_X = train_X_2[702:1052]\n",
    "first_1perc_Y = train_Y_2[0:350]\n",
    "second_1perc_Y = train_Y_2[351:701]\n",
    "third_1perc_Y = train_Y_2[702:1052]\n",
    "\n",
    "print(first_1perc_X.shape, first_1perc_Y.shape)\n",
    "print(second_1perc_X.shape, second_1perc_Y.shape)\n",
    "print(third_1perc_X.shape, third_1perc_Y.shape)"
   ]
  },
  {
   "cell_type": "code",
   "execution_count": 10,
   "metadata": {},
   "outputs": [],
   "source": [
    "#10%\n",
    "first_10perc_X = train_X_2[0:143263]\n",
    "second_10perc_X = train_X_2[143264:286527]\n",
    "third_10perc_X = train_X_2[286528:429791]\n",
    "first_10perc_Y = train_Y_2[0:143263]\n",
    "second_10perc_Y = train_Y_2[143264:286527]\n",
    "third_10perc_Y = train_Y_2[286528:429791]\n",
    "\n",
    "print(first_10perc_X.shape, first_10perc_Y.shape)\n",
    "print(second_10perc_X.shape, second_10perc_Y.shape)\n",
    "print(third_10perc_X.shape, third_10perc_Y.shape)"
   ]
  },
  {
   "cell_type": "code",
   "execution_count": 6,
   "metadata": {},
   "outputs": [],
   "source": [
    "del data\n",
    "del y"
   ]
  },
  {
   "cell_type": "markdown",
   "metadata": {},
   "source": [
    "### Majoriting Voting"
   ]
  },
  {
   "cell_type": "code",
   "execution_count": 10,
   "metadata": {},
   "outputs": [],
   "source": [
    "def get_quality(pred):\n",
    "    accuracy = accuracy_score(test_Y, pred)\n",
    "    precision = precision_score(test_Y, pred)\n",
    "    recall = recall_score(test_Y, pred)\n",
    "    f_measure = f1_score(test_Y, pred)\n",
    "    \n",
    "    print(\"Accuracy: \" + str(accuracy))\n",
    "    print(\"Precision: \" + str(precision))\n",
    "    print(\"Recall: \" + str(recall))\n",
    "    print(\"F-measure: \" + str(f_measure))"
   ]
  },
  {
   "cell_type": "markdown",
   "metadata": {},
   "source": [
    "#### CatBoost"
   ]
  },
  {
   "cell_type": "code",
   "execution_count": 17,
   "metadata": {},
   "outputs": [],
   "source": [
    "# Curitiba\n",
    "best_learning_rate = 0.1\n",
    "best_iterations = 10000\n",
    "best_l2_leaf_reg = 5"
   ]
  },
  {
   "cell_type": "code",
   "execution_count": 7,
   "metadata": {},
   "outputs": [],
   "source": [
    "# City A\n",
    "best_learning_rate = 0.01\n",
    "best_iterations = 100000\n",
    "best_l2_leaf_reg = 1"
   ]
  },
  {
   "cell_type": "code",
   "execution_count": null,
   "metadata": {},
   "outputs": [],
   "source": [
    "# parameters with manual search\n",
    "best_learning_rate = 0.9\n",
    "best_iterations = 10000\n",
    "best_l2_leaf_reg = 5"
   ]
  },
  {
   "cell_type": "code",
   "execution_count": 13,
   "metadata": {},
   "outputs": [
    {
     "name": "stdout",
     "output_type": "stream",
     "text": [
      "Execution time: 81.33576728900273 min\n"
     ]
    }
   ],
   "source": [
    "#trainig catboost with 50% of data\n",
    "\n",
    "start = time.time()\n",
    "model_1 = CatBoostClassifier(\n",
    "    custom_loss=['Accuracy', 'Precision', 'Recall', 'F1'],\n",
    "    iterations=best_iterations,\n",
    "    learning_rate=best_learning_rate,\n",
    "    random_seed=42,\n",
    "    depth=8,\n",
    "    l2_leaf_reg=best_l2_leaf_reg,\n",
    "    logging_level='Silent'\n",
    ")\n",
    "model_1.fit(train_X_1, train_Y_1)\n",
    "print(\"Execution time: \" + str((time.time() - start)/60) + \" min\")\n",
    "\n",
    "model_1.save_model('models/cat1_50perc_grid_' + city + '.model')"
   ]
  },
  {
   "cell_type": "code",
   "execution_count": 18,
   "metadata": {},
   "outputs": [
    {
     "name": "stdout",
     "output_type": "stream",
     "text": [
      "Execution time: 38.7939369002978 min\n"
     ]
    }
   ],
   "source": [
    "#adding 20% of increments in the last model (with 50%)\n",
    "model_2_v2 = CatBoostClassifier(\n",
    "    custom_loss=['Accuracy', 'Precision', 'Recall', 'F1'],\n",
    "    iterations=best_iterations,\n",
    "    learning_rate=best_learning_rate,\n",
    "    random_seed=42,\n",
    "    depth=8,\n",
    "    l2_leaf_reg=best_l2_leaf_reg,\n",
    "    logging_level='Silent'\n",
    ")\n",
    "\n",
    "cat1_time = time.time()\n",
    "model_2_v2.fit(first_20perc_X, first_20perc_Y, init_model='models/cat1_50perc_grid_' + city + '.model')\n",
    "print(\"Execution time: \" + str((time.time() - cat1_time)/60) + \" min\")\n",
    "\n",
    "model_2_v2.save_model('models/cat2_20perc_grid_' + city + '.model')"
   ]
  },
  {
   "cell_type": "code",
   "execution_count": 26,
   "metadata": {},
   "outputs": [
    {
     "name": "stdout",
     "output_type": "stream",
     "text": [
      "Execution time: 38.961919685204826 min\n"
     ]
    }
   ],
   "source": [
    "#adding 20% of increments in the last model (with 70%)\n",
    "model_2_v3 = CatBoostClassifier(\n",
    "    custom_loss=['Accuracy', 'Precision', 'Recall', 'F1'],\n",
    "    iterations=best_iterations,\n",
    "    learning_rate=best_learning_rate,\n",
    "    random_seed=42,\n",
    "    depth=8,\n",
    "    l2_leaf_reg=best_l2_leaf_reg,\n",
    "    logging_level='Silent'\n",
    ")\n",
    "cat2_time = time.time()\n",
    "model_2_v3.fit(second_20perc_X, second_20perc_Y, init_model='models/cat2_20perc_grid_' + city + '.model')\n",
    "print(\"Execution time: \" + str((time.time() - cat2_time)/60) + \" min\")\n",
    "\n",
    "model_2_v3.save_model('models/cat3_40perc_grid_' + city + '.model')"
   ]
  },
  {
   "cell_type": "code",
   "execution_count": null,
   "metadata": {},
   "outputs": [],
   "source": [
    "#model_1 = CatBoostClassifier().load_model('models/cat1_50perc_grid.model')"
   ]
  },
  {
   "cell_type": "markdown",
   "metadata": {},
   "source": [
    "Curitiba"
   ]
  },
  {
   "cell_type": "code",
   "execution_count": 14,
   "metadata": {},
   "outputs": [
    {
     "name": "stdout",
     "output_type": "stream",
     "text": [
      "Accuracy: 0.9694626318306\n",
      "Precision: 0.8128694509909979\n",
      "Recall: 0.5983164839539877\n",
      "F-measure: 0.689282935419141\n"
     ]
    }
   ],
   "source": [
    "# 50% all data - grid\n",
    "cat_pred = model_1.predict(test_X)\n",
    "get_quality(cat_pred)"
   ]
  },
  {
   "cell_type": "code",
   "execution_count": 19,
   "metadata": {},
   "outputs": [
    {
     "name": "stdout",
     "output_type": "stream",
     "text": [
      "Accuracy: 0.9704374256427925\n",
      "Precision: 0.8129062296303194\n",
      "Recall: 0.6206401342262794\n",
      "F-measure: 0.7038798942140232\n"
     ]
    }
   ],
   "source": [
    "# 50%+20% all data - grid\n",
    "cat_pred = model_2_v2.predict(test_X)\n",
    "get_quality(cat_pred)"
   ]
  },
  {
   "cell_type": "code",
   "execution_count": 27,
   "metadata": {},
   "outputs": [
    {
     "name": "stdout",
     "output_type": "stream",
     "text": [
      "Accuracy: 0.9716778527811809\n",
      "Precision: 0.8139763427795447\n",
      "Recall: 0.6477413300345519\n",
      "F-measure: 0.7214062314422581\n"
     ]
    }
   ],
   "source": [
    "# 50%+40% all data - grid\n",
    "cat_pred = model_2_v3.predict(test_X)\n",
    "get_quality(cat_pred)"
   ]
  },
  {
   "cell_type": "markdown",
   "metadata": {},
   "source": [
    "City A"
   ]
  },
  {
   "cell_type": "code",
   "execution_count": 19,
   "metadata": {},
   "outputs": [
    {
     "name": "stdout",
     "output_type": "stream",
     "text": [
      "Accuracy: 0.9294621449287501\n",
      "Precision: 0.8534642032332563\n",
      "Recall: 0.5747725328563652\n",
      "F-measure: 0.6869278312189229\n"
     ]
    }
   ],
   "source": [
    "# 50% all data - grid\n",
    "cat_pred = model_1.predict(test_X)\n",
    "get_quality(cat_pred)"
   ]
  },
  {
   "cell_type": "code",
   "execution_count": 24,
   "metadata": {},
   "outputs": [
    {
     "name": "stdout",
     "output_type": "stream",
     "text": [
      "Accuracy: 0.9304952063854366\n",
      "Precision: 0.8333452414975707\n",
      "Recall: 0.6046867304352335\n",
      "F-measure: 0.7008367258033019\n"
     ]
    }
   ],
   "source": [
    "# 50%+20% all data - grid\n",
    "cat_pred = model_2_v2.predict(test_X)\n",
    "get_quality(cat_pred)"
   ]
  },
  {
   "cell_type": "code",
   "execution_count": 10,
   "metadata": {},
   "outputs": [
    {
     "name": "stdout",
     "output_type": "stream",
     "text": [
      "Accuracy: 0.9349066580112869\n",
      "Precision: 0.8331215728233249\n",
      "Recall: 0.6459029991964124\n",
      "F-measure: 0.7276629918960357\n"
     ]
    }
   ],
   "source": [
    "# 50%+40% all data - grid\n",
    "cat_pred = model_2_v3.predict(test_X)\n",
    "get_quality(cat_pred)"
   ]
  },
  {
   "cell_type": "code",
   "execution_count": null,
   "metadata": {},
   "outputs": [],
   "source": []
  },
  {
   "cell_type": "code",
   "execution_count": 24,
   "metadata": {},
   "outputs": [
    {
     "name": "stdout",
     "output_type": "stream",
     "text": [
      "Accuracy: 0.9147340390259906\n",
      "Precision: 0.6991272522522523\n",
      "Recall: 0.6437255359411048\n",
      "F-measure: 0.6702835472421286\n"
     ]
    }
   ],
   "source": [
    "# Bus Bunching 50%-40% all data - new rf\n",
    "cat_pred = model_2_v3.predict(test_X)\n",
    "get_quality(cat_pred)"
   ]
  },
  {
   "cell_type": "code",
   "execution_count": 14,
   "metadata": {},
   "outputs": [
    {
     "name": "stdout",
     "output_type": "stream",
     "text": [
      "Accuracy: 0.9200354591364862\n",
      "Precision: 0.731108553893364\n",
      "Recall: 0.6422998159525105\n",
      "F-measure: 0.683832864160733\n"
     ]
    }
   ],
   "source": [
    "# Bus Bunching 50%-20% all data - new rf\n",
    "cat_pred = model_2_v2.predict(test_X)\n",
    "get_quality(cat_pred)"
   ]
  },
  {
   "cell_type": "code",
   "execution_count": null,
   "metadata": {},
   "outputs": [],
   "source": []
  },
  {
   "cell_type": "code",
   "execution_count": 34,
   "metadata": {},
   "outputs": [
    {
     "name": "stdout",
     "output_type": "stream",
     "text": [
      "Accuracy: 0.8904466245763925\n",
      "Precision: 0.6668678894822382\n",
      "Recall: 0.3722684501127615\n",
      "F-measure: 0.47780809156241677\n"
     ]
    }
   ],
   "source": [
    "# Bus Bunching 50%-3% all data\n",
    "cat_pred = model_2_v4.predict(test_X)\n",
    "get_quality(cat_pred)"
   ]
  },
  {
   "cell_type": "code",
   "execution_count": 26,
   "metadata": {},
   "outputs": [
    {
     "name": "stdout",
     "output_type": "stream",
     "text": [
      "Accuracy: 0.8981317641967423\n",
      "Precision: 0.7285429141716567\n",
      "Recall: 0.38792544780568733\n",
      "F-measure: 0.5062755844243716\n"
     ]
    }
   ],
   "source": [
    "# Bus Bunching 50%-2% all data\n",
    "cat_pred = model_2_v3.predict(test_X)\n",
    "get_quality(cat_pred)"
   ]
  },
  {
   "cell_type": "code",
   "execution_count": 18,
   "metadata": {},
   "outputs": [
    {
     "name": "stdout",
     "output_type": "stream",
     "text": [
      "Accuracy: 0.9057122016424282\n",
      "Precision: 0.7792916847852346\n",
      "Recall: 0.4180988672006636\n",
      "F-measure: 0.5442183756790497\n"
     ]
    }
   ],
   "source": [
    "# Bus Bunching 50%-1% all data\n",
    "cat_pred = model_2_v2.predict(test_X)\n",
    "get_quality(cat_pred)"
   ]
  },
  {
   "cell_type": "code",
   "execution_count": 9,
   "metadata": {},
   "outputs": [
    {
     "name": "stdout",
     "output_type": "stream",
     "text": [
      "Accuracy: 0.9291096476073808\n",
      "Precision: 0.7820152549177037\n",
      "Recall: 0.6564533271120098\n",
      "F-measure: 0.7137542277339346\n"
     ]
    }
   ],
   "source": [
    "# Bus Bunching 50% all data\n",
    "cat_pred = model_1.predict(test_X)\n",
    "get_quality(cat_pred)"
   ]
  },
  {
   "cell_type": "raw",
   "metadata": {},
   "source": [
    "One day data"
   ]
  },
  {
   "cell_type": "code",
   "execution_count": 26,
   "metadata": {},
   "outputs": [
    {
     "name": "stdout",
     "output_type": "stream",
     "text": [
      "Accuracy: 0.9379695213565142\n",
      "Precision: 0.7379110251450677\n",
      "Recall: 0.5614422369389257\n",
      "F-measure: 0.63769327204346\n"
     ]
    }
   ],
   "source": [
    "cat_pred = model_2_v4.predict(test_X)\n",
    "\n",
    "# Bus Bunching 50%-3%\n",
    "accuracy = accuracy_score(test_Y.busBunching.values, cat_pred)\n",
    "precision = precision_score(test_Y.busBunching.values, cat_pred)\n",
    "recall = recall_score(test_Y.busBunching.values, cat_pred)\n",
    "f_measure = f1_score(test_Y.busBunching.values, cat_pred)\n",
    "\n",
    "print(\"Accuracy: \" + str(accuracy))\n",
    "print(\"Precision: \" + str(precision))\n",
    "print(\"Recall: \" + str(recall))\n",
    "print(\"F-measure: \" + str(f_measure))"
   ]
  },
  {
   "cell_type": "code",
   "execution_count": 18,
   "metadata": {},
   "outputs": [
    {
     "name": "stdout",
     "output_type": "stream",
     "text": [
      "Accuracy: 0.9425484724905201\n",
      "Precision: 0.7477718360071302\n",
      "Recall: 0.6173657100809419\n",
      "F-measure: 0.6763401854091092\n"
     ]
    }
   ],
   "source": [
    "cat_pred = model_2_v3.predict(test_X)\n",
    "\n",
    "# Bus Bunching 50%-2%\n",
    "accuracy = accuracy_score(test_Y.busBunching.values, cat_pred)\n",
    "precision = precision_score(test_Y.busBunching.values, cat_pred)\n",
    "recall = recall_score(test_Y.busBunching.values, cat_pred)\n",
    "f_measure = f1_score(test_Y.busBunching.values, cat_pred)\n",
    "\n",
    "print(\"Accuracy: \" + str(accuracy))\n",
    "print(\"Precision: \" + str(precision))\n",
    "print(\"Recall: \" + str(recall))\n",
    "print(\"F-measure: \" + str(f_measure))"
   ]
  },
  {
   "cell_type": "code",
   "execution_count": 11,
   "metadata": {},
   "outputs": [
    {
     "name": "stdout",
     "output_type": "stream",
     "text": [
      "Accuracy: 0.9479859769621521\n",
      "Precision: 0.8257731958762886\n",
      "Recall: 0.5894039735099338\n",
      "F-measure: 0.6878488621726063\n"
     ]
    }
   ],
   "source": [
    "cat_pred = model_2_v2.predict(test_X)\n",
    "\n",
    "# Bus Bunching 50%-1%\n",
    "accuracy = accuracy_score(test_Y.busBunching.values, cat_pred)\n",
    "precision = precision_score(test_Y.busBunching.values, cat_pred)\n",
    "recall = recall_score(test_Y.busBunching.values, cat_pred)\n",
    "f_measure = f1_score(test_Y.busBunching.values, cat_pred)\n",
    "\n",
    "print(\"Accuracy: \" + str(accuracy))\n",
    "print(\"Precision: \" + str(precision))\n",
    "print(\"Recall: \" + str(recall))\n",
    "print(\"F-measure: \" + str(f_measure))"
   ]
  },
  {
   "cell_type": "code",
   "execution_count": 6,
   "metadata": {},
   "outputs": [
    {
     "name": "stdout",
     "output_type": "stream",
     "text": [
      "Accuracy: 0.9291131376798696\n",
      "Precision: 0.7617805549185966\n",
      "Recall: 0.6889338206703476\n",
      "F-measure: 0.7235282107125842\n"
     ]
    }
   ],
   "source": [
    "cat_pred = model_2_v2.predict(test_X)\n",
    "\n",
    "# Bus Bunching 50%-50%\n",
    "accuracy = accuracy_score(test_Y.busBunching.values, cat_pred)\n",
    "precision = precision_score(test_Y.busBunching.values, cat_pred)\n",
    "recall = recall_score(test_Y.busBunching.values, cat_pred)\n",
    "f_measure = f1_score(test_Y.busBunching.values, cat_pred)\n",
    "\n",
    "print(\"Accuracy: \" + str(accuracy))\n",
    "print(\"Precision: \" + str(precision))\n",
    "print(\"Recall: \" + str(recall))\n",
    "print(\"F-measure: \" + str(f_measure))"
   ]
  },
  {
   "cell_type": "code",
   "execution_count": 34,
   "metadata": {},
   "outputs": [
    {
     "name": "stdout",
     "output_type": "stream",
     "text": [
      "Accuracy: 0.9567146025613508\n",
      "Precision: 0.851024208566108\n",
      "Recall: 0.6725533480500367\n",
      "F-measure: 0.7513357994245787\n"
     ]
    }
   ],
   "source": [
    "cat_pred = model_1.predict(test_X)\n",
    "\n",
    "# Bus Bunching 50%\n",
    "accuracy = accuracy_score(test_Y.busBunching.values, cat_pred)\n",
    "precision = precision_score(test_Y.busBunching.values, cat_pred)\n",
    "recall = recall_score(test_Y.busBunching.values, cat_pred)\n",
    "f_measure = f1_score(test_Y.busBunching.values, cat_pred)\n",
    "\n",
    "print(\"Accuracy: \" + str(accuracy))\n",
    "print(\"Precision: \" + str(precision))\n",
    "print(\"Recall: \" + str(recall))\n",
    "print(\"F-measure: \" + str(f_measure))"
   ]
  },
  {
   "cell_type": "markdown",
   "metadata": {},
   "source": [
    "#### XGBoost"
   ]
  },
  {
   "cell_type": "code",
   "execution_count": 11,
   "metadata": {},
   "outputs": [],
   "source": [
    "# City A\n",
    "best_estimator = 25\n",
    "best_depth = 5\n",
    "best_learning_rate = 0.01"
   ]
  },
  {
   "cell_type": "code",
   "execution_count": 8,
   "metadata": {},
   "outputs": [],
   "source": [
    "# Curitiba\n",
    "best_estimator = 150\n",
    "best_depth = 50\n",
    "best_learning_rate = 0.1"
   ]
  },
  {
   "cell_type": "code",
   "execution_count": null,
   "metadata": {},
   "outputs": [],
   "source": [
    "# parameters with manual search\n",
    "best_estimator = 120\n",
    "best_depth = 50\n",
    "best_learning_rate = 0.1"
   ]
  },
  {
   "cell_type": "code",
   "execution_count": 9,
   "metadata": {},
   "outputs": [
    {
     "name": "stderr",
     "output_type": "stream",
     "text": [
      "/home/veruska/.local/lib/python3.6/site-packages/xgboost/sklearn.py:892: UserWarning: The use of label encoder in XGBClassifier is deprecated and will be removed in a future release. To remove this warning, do the following: 1) Pass option use_label_encoder=False when constructing XGBClassifier object; and 2) Encode your labels (y) as integers starting with 0, i.e. 0, 1, 2, ..., [num_class - 1].\n",
      "  warnings.warn(label_encoder_deprecation_msg, UserWarning)\n",
      "/home/veruska/.local/lib/python3.6/site-packages/sklearn/preprocessing/_label.py:235: DataConversionWarning: A column-vector y was passed when a 1d array was expected. Please change the shape of y to (n_samples, ), for example using ravel().\n",
      "  y = column_or_1d(y, warn=True)\n",
      "/home/veruska/.local/lib/python3.6/site-packages/sklearn/preprocessing/_label.py:268: DataConversionWarning: A column-vector y was passed when a 1d array was expected. Please change the shape of y to (n_samples, ), for example using ravel().\n",
      "  y = column_or_1d(y, warn=True)\n"
     ]
    },
    {
     "name": "stdout",
     "output_type": "stream",
     "text": [
      "[20:15:25] WARNING: ../src/learner.cc:1061: Starting in XGBoost 1.3.0, the default evaluation metric used with the objective 'binary:logistic' was changed from 'error' to 'logloss'. Explicitly set eval_metric if you'd like to restore the old behavior.\n",
      "Execution time: 59.28151110013326 min\n"
     ]
    }
   ],
   "source": [
    "#trainig xgboost with 50% of data\n",
    "\n",
    "start = time.time()\n",
    "xgb_1 = XGBClassifier(\n",
    "     learning_rate=best_learning_rate,\n",
    "     n_estimators=best_estimator, \n",
    "     max_depth=best_depth,\n",
    "     min_child_weight=1,\n",
    "     gamma=0,\n",
    "     subsample=0.8,\n",
    "     colsample_bytree=0.8,\n",
    "     objective= 'binary:logistic',\n",
    "     nthread=-1,\n",
    "     scale_pos_weight=1,\n",
    "     seed=23)\n",
    "xgb_1.fit(train_X_1, train_Y_1)\n",
    "print(\"Execution time: \" + str((time.time() - start)/60) + \" min\")\n",
    "\n",
    "xgb_1.save_model('models/xgb1_50perc_grid_' + city + '.model')"
   ]
  },
  {
   "cell_type": "code",
   "execution_count": 20,
   "metadata": {},
   "outputs": [
    {
     "name": "stderr",
     "output_type": "stream",
     "text": [
      "/home/veruska/.local/lib/python3.6/site-packages/xgboost/sklearn.py:892: UserWarning: The use of label encoder in XGBClassifier is deprecated and will be removed in a future release. To remove this warning, do the following: 1) Pass option use_label_encoder=False when constructing XGBClassifier object; and 2) Encode your labels (y) as integers starting with 0, i.e. 0, 1, 2, ..., [num_class - 1].\n",
      "  warnings.warn(label_encoder_deprecation_msg, UserWarning)\n",
      "/home/veruska/.local/lib/python3.6/site-packages/sklearn/preprocessing/_label.py:235: DataConversionWarning: A column-vector y was passed when a 1d array was expected. Please change the shape of y to (n_samples, ), for example using ravel().\n",
      "  y = column_or_1d(y, warn=True)\n",
      "/home/veruska/.local/lib/python3.6/site-packages/sklearn/preprocessing/_label.py:268: DataConversionWarning: A column-vector y was passed when a 1d array was expected. Please change the shape of y to (n_samples, ), for example using ravel().\n",
      "  y = column_or_1d(y, warn=True)\n"
     ]
    },
    {
     "name": "stdout",
     "output_type": "stream",
     "text": [
      "[20:30:41] WARNING: ../src/learner.cc:1061: Starting in XGBoost 1.3.0, the default evaluation metric used with the objective 'binary:logistic' was changed from 'error' to 'logloss'. Explicitly set eval_metric if you'd like to restore the old behavior.\n",
      "Execution time: 19.53485087156296 min\n"
     ]
    }
   ],
   "source": [
    "#adding 20% of increments in the last model (with 50%)\n",
    "\n",
    "xgb_2_v2 = XGBClassifier(\n",
    "     learning_rate=best_learning_rate,\n",
    "     n_estimators=best_estimator, \n",
    "     max_depth=best_depth,\n",
    "     min_child_weight=1,\n",
    "     gamma=0,\n",
    "     subsample=0.8,\n",
    "     colsample_bytree=0.8,\n",
    "     objective= 'binary:logistic',\n",
    "     nthread=-1,\n",
    "     scale_pos_weight=1,\n",
    "     seed=23)\n",
    "\n",
    "xgb1_time = time.time()\n",
    "xgb_2_v2.fit(first_20perc_X, first_20perc_Y, xgb_model='models/xgb1_50perc_grid_' + city + '.model')\n",
    "print(\"Execution time: \" + str((time.time() - xgb1_time)/60) + \" min\")\n",
    "\n",
    "xgb_2_v2.save_model('models/xgb2_20perc_grid_' + city + '.model')"
   ]
  },
  {
   "cell_type": "code",
   "execution_count": 28,
   "metadata": {},
   "outputs": [
    {
     "name": "stderr",
     "output_type": "stream",
     "text": [
      "/home/veruska/.local/lib/python3.6/site-packages/xgboost/sklearn.py:892: UserWarning: The use of label encoder in XGBClassifier is deprecated and will be removed in a future release. To remove this warning, do the following: 1) Pass option use_label_encoder=False when constructing XGBClassifier object; and 2) Encode your labels (y) as integers starting with 0, i.e. 0, 1, 2, ..., [num_class - 1].\n",
      "  warnings.warn(label_encoder_deprecation_msg, UserWarning)\n",
      "/home/veruska/.local/lib/python3.6/site-packages/sklearn/preprocessing/_label.py:235: DataConversionWarning: A column-vector y was passed when a 1d array was expected. Please change the shape of y to (n_samples, ), for example using ravel().\n",
      "  y = column_or_1d(y, warn=True)\n",
      "/home/veruska/.local/lib/python3.6/site-packages/sklearn/preprocessing/_label.py:268: DataConversionWarning: A column-vector y was passed when a 1d array was expected. Please change the shape of y to (n_samples, ), for example using ravel().\n",
      "  y = column_or_1d(y, warn=True)\n"
     ]
    },
    {
     "name": "stdout",
     "output_type": "stream",
     "text": [
      "[21:39:28] WARNING: ../src/learner.cc:1061: Starting in XGBoost 1.3.0, the default evaluation metric used with the objective 'binary:logistic' was changed from 'error' to 'logloss'. Explicitly set eval_metric if you'd like to restore the old behavior.\n",
      "Execution time (min): 19.5987198193868\n"
     ]
    }
   ],
   "source": [
    "#adding 20% of increments in the last model (with 70%)\n",
    "\n",
    "xgb_2_v3 = XGBClassifier(\n",
    "     learning_rate=best_learning_rate,\n",
    "     n_estimators=best_estimator, \n",
    "     max_depth=best_depth,\n",
    "     min_child_weight=1,\n",
    "     gamma=0,\n",
    "     subsample=0.8,\n",
    "     colsample_bytree=0.8,\n",
    "     objective= 'binary:logistic',\n",
    "     nthread=-1,\n",
    "     scale_pos_weight=1,\n",
    "     seed=23)\n",
    "\n",
    "xgb2_time = time.time()\n",
    "xgb_2_v3.fit(second_20perc_X, second_20perc_Y, xgb_model='models/xgb2_20perc_grid_' + city + '.model')\n",
    "print(\"Execution time (min): \" + str((time.time() - xgb2_time)/60))\n",
    "\n",
    "xgb_2_v3.save_model('models/xgb3_40perc_grid_' + city + '.model')"
   ]
  },
  {
   "cell_type": "markdown",
   "metadata": {},
   "source": [
    "Curitiba"
   ]
  },
  {
   "cell_type": "code",
   "execution_count": 11,
   "metadata": {},
   "outputs": [
    {
     "name": "stdout",
     "output_type": "stream",
     "text": [
      "Accuracy: 0.9758386366087801\n",
      "Precision: 0.8582931901807775\n",
      "Recall: 0.6865588875143966\n",
      "F-measure: 0.7628805713112035\n"
     ]
    }
   ],
   "source": [
    "# 50% all data - grid\n",
    "xgb_pred = xgb_1.predict(test_X)\n",
    "get_quality(xgb_pred)"
   ]
  },
  {
   "cell_type": "code",
   "execution_count": 21,
   "metadata": {},
   "outputs": [
    {
     "name": "stdout",
     "output_type": "stream",
     "text": [
      "Accuracy: 0.9765091595200569\n",
      "Precision: 0.8529300761682563\n",
      "Recall: 0.7069487693554579\n",
      "F-measure: 0.7731085903546077\n"
     ]
    }
   ],
   "source": [
    "# 50%+20% all data - grid\n",
    "xgb_pred = xgb_2_v2.predict(test_X)\n",
    "get_quality(xgb_pred)"
   ]
  },
  {
   "cell_type": "code",
   "execution_count": 29,
   "metadata": {},
   "outputs": [
    {
     "name": "stdout",
     "output_type": "stream",
     "text": [
      "Accuracy: 0.9769752252651102\n",
      "Precision: 0.8492157814566211\n",
      "Recall: 0.7213667192765431\n",
      "F-measure: 0.7800876451141693\n"
     ]
    }
   ],
   "source": [
    "# 50%+40% all data - grid\n",
    "xgb_pred = xgb_2_v3.predict(test_X)\n",
    "get_quality(xgb_pred)"
   ]
  },
  {
   "cell_type": "markdown",
   "metadata": {},
   "source": [
    "City A"
   ]
  },
  {
   "cell_type": "code",
   "execution_count": 18,
   "metadata": {},
   "outputs": [
    {
     "name": "stdout",
     "output_type": "stream",
     "text": [
      "Accuracy: 0.8673283844105442\n",
      "Precision: 0.7812187812187812\n",
      "Recall: 0.020271146019649015\n",
      "F-measure: 0.039516903330132906\n"
     ]
    }
   ],
   "source": [
    "# 50% all data - grid\n",
    "xgb_pred = xgb_1.predict(test_X)\n",
    "get_quality(xgb_pred)"
   ]
  },
  {
   "cell_type": "code",
   "execution_count": 26,
   "metadata": {},
   "outputs": [
    {
     "name": "stdout",
     "output_type": "stream",
     "text": [
      "Accuracy: 0.8686755523912232\n",
      "Precision: 0.8860862489829129\n",
      "Recall: 0.028229255774165955\n",
      "F-measure: 0.05471536954228006\n"
     ]
    }
   ],
   "source": [
    "# 50%+20% all data - grid\n",
    "xgb_pred = xgb_2_v2.predict(test_X)\n",
    "get_quality(xgb_pred)"
   ]
  },
  {
   "cell_type": "code",
   "execution_count": 13,
   "metadata": {},
   "outputs": [
    {
     "name": "stdout",
     "output_type": "stream",
     "text": [
      "Accuracy: 0.8684591678969172\n",
      "Precision: 0.9080036798528058\n",
      "Recall: 0.02558519324986391\n",
      "F-measure: 0.049768051633723276\n"
     ]
    }
   ],
   "source": [
    "# 50%+40% all data - grid\n",
    "xgb_pred = xgb_2_v3.predict(test_X)\n",
    "get_quality(xgb_pred)"
   ]
  },
  {
   "cell_type": "code",
   "execution_count": null,
   "metadata": {},
   "outputs": [],
   "source": []
  },
  {
   "cell_type": "code",
   "execution_count": 26,
   "metadata": {},
   "outputs": [
    {
     "name": "stdout",
     "output_type": "stream",
     "text": [
      "Accuracy: 0.9336572120602945\n",
      "Precision: 0.8431056249123299\n",
      "Recall: 0.6232210902869586\n",
      "F-measure: 0.7166768515344373\n"
     ]
    }
   ],
   "source": [
    "# Bus Bunching 50%-40% all data - new rf\n",
    "xgb_pred = xgb_2_v3.predict(test_X)\n",
    "get_quality(xgb_pred)"
   ]
  },
  {
   "cell_type": "code",
   "execution_count": 16,
   "metadata": {},
   "outputs": [
    {
     "name": "stdout",
     "output_type": "stream",
     "text": [
      "Accuracy: 0.9327253627057834\n",
      "Precision: 0.8568048212371058\n",
      "Recall: 0.6007206366487804\n",
      "F-measure: 0.7062660002438133\n"
     ]
    }
   ],
   "source": [
    "# Bus Bunching 50%-20% all data - new rf\n",
    "xgb_pred = xgb_2_v2.predict(test_X)\n",
    "get_quality(xgb_pred)"
   ]
  },
  {
   "cell_type": "code",
   "execution_count": null,
   "metadata": {},
   "outputs": [],
   "source": []
  },
  {
   "cell_type": "code",
   "execution_count": 36,
   "metadata": {},
   "outputs": [
    {
     "name": "stdout",
     "output_type": "stream",
     "text": [
      "Accuracy: 0.910507561242047\n",
      "Precision: 0.823423513527029\n",
      "Recall: 0.42683464240350466\n",
      "F-measure: 0.562228975313279\n"
     ]
    }
   ],
   "source": [
    "# Bus Bunching 50%-3% all data\n",
    "xgb_pred = xgb_2_v4.predict(test_X)\n",
    "get_quality(xgb_pred)"
   ]
  },
  {
   "cell_type": "code",
   "execution_count": 28,
   "metadata": {},
   "outputs": [
    {
     "name": "stdout",
     "output_type": "stream",
     "text": [
      "Accuracy: 0.9150830462748711\n",
      "Precision: 0.8164652567975831\n",
      "Recall: 0.47637193146175183\n",
      "F-measure: 0.6016861750020464\n"
     ]
    }
   ],
   "source": [
    "# Bus Bunching 50%-2% all data\n",
    "xgb_pred = xgb_2_v3.predict(test_X)\n",
    "get_quality(xgb_pred)"
   ]
  },
  {
   "cell_type": "code",
   "execution_count": 20,
   "metadata": {},
   "outputs": [
    {
     "name": "stdout",
     "output_type": "stream",
     "text": [
      "Accuracy: 0.9209568382735309\n",
      "Precision: 0.8319509857041637\n",
      "Recall: 0.517432667133266\n",
      "F-measure: 0.6380373981141122\n"
     ]
    }
   ],
   "source": [
    "# Bus Bunching 50%-1% all data\n",
    "xgb_pred = xgb_2_v2.predict(test_X)\n",
    "get_quality(xgb_pred)"
   ]
  },
  {
   "cell_type": "code",
   "execution_count": 11,
   "metadata": {},
   "outputs": [
    {
     "name": "stdout",
     "output_type": "stream",
     "text": [
      "Accuracy: 0.9325299186464103\n",
      "Precision: 0.879271609317725\n",
      "Recall: 0.5782720273738238\n",
      "F-measure: 0.6976918746481516\n"
     ]
    }
   ],
   "source": [
    "# Bus Bunching 50% all data\n",
    "xgb_pred = xgb_1.predict(test_X)\n",
    "get_quality(xgb_pred)"
   ]
  },
  {
   "cell_type": "raw",
   "metadata": {},
   "source": [
    "One day - data"
   ]
  },
  {
   "cell_type": "code",
   "execution_count": 28,
   "metadata": {},
   "outputs": [
    {
     "name": "stdout",
     "output_type": "stream",
     "text": [
      "Accuracy: 0.9333905702225084\n",
      "Precision: 0.6804384485666105\n",
      "Recall: 0.5938189845474614\n",
      "F-measure: 0.6341846758349705\n"
     ]
    }
   ],
   "source": [
    "xgb_pred = xgb_2_v4.predict(test_X)\n",
    "\n",
    "# Bus Bunching 50%-3%\n",
    "accuracy = accuracy_score(test_Y.busBunching.values, xgb_pred)\n",
    "precision = precision_score(test_Y.busBunching.values, xgb_pred)\n",
    "recall = recall_score(test_Y.busBunching.values, xgb_pred)\n",
    "f_measure = f1_score(test_Y.busBunching.values, xgb_pred)\n",
    "\n",
    "print(\"Accuracy: \" + str(accuracy))\n",
    "print(\"Precision: \" + str(precision))\n",
    "print(\"Recall: \" + str(recall))\n",
    "print(\"F-measure: \" + str(f_measure))"
   ]
  },
  {
   "cell_type": "code",
   "execution_count": 20,
   "metadata": {},
   "outputs": [
    {
     "name": "stdout",
     "output_type": "stream",
     "text": [
      "Accuracy: 0.943478571939615\n",
      "Precision: 0.7847847847847848\n",
      "Recall: 0.5768947755702722\n",
      "F-measure: 0.6649703138252756\n"
     ]
    }
   ],
   "source": [
    "xgb_pred = xgb_2_v3.predict(test_X)\n",
    "\n",
    "# Bus Bunching 50%-2%\n",
    "accuracy = accuracy_score(test_Y.busBunching.values, xgb_pred)\n",
    "precision = precision_score(test_Y.busBunching.values, xgb_pred)\n",
    "recall = recall_score(test_Y.busBunching.values, xgb_pred)\n",
    "f_measure = f1_score(test_Y.busBunching.values, xgb_pred)\n",
    "\n",
    "print(\"Accuracy: \" + str(accuracy))\n",
    "print(\"Precision: \" + str(precision))\n",
    "print(\"Recall: \" + str(recall))\n",
    "print(\"F-measure: \" + str(f_measure))"
   ]
  },
  {
   "cell_type": "code",
   "execution_count": 14,
   "metadata": {},
   "outputs": [
    {
     "name": "stdout",
     "output_type": "stream",
     "text": [
      "Accuracy: 0.9483437075194964\n",
      "Precision: 0.8503850385038504\n",
      "Recall: 0.5688005886681383\n",
      "F-measure: 0.681657848324515\n"
     ]
    }
   ],
   "source": [
    "xgb_pred = xgb_2_v2.predict(test_X)\n",
    "\n",
    "# Bus Bunching 50%-1%\n",
    "accuracy = accuracy_score(test_Y.busBunching.values, xgb_pred)\n",
    "precision = precision_score(test_Y.busBunching.values, xgb_pred)\n",
    "recall = recall_score(test_Y.busBunching.values, xgb_pred)\n",
    "f_measure = f1_score(test_Y.busBunching.values, xgb_pred)\n",
    "\n",
    "print(\"Accuracy: \" + str(accuracy))\n",
    "print(\"Precision: \" + str(precision))\n",
    "print(\"Recall: \" + str(recall))\n",
    "print(\"F-measure: \" + str(f_measure))"
   ]
  },
  {
   "cell_type": "code",
   "execution_count": 9,
   "metadata": {},
   "outputs": [
    {
     "name": "stdout",
     "output_type": "stream",
     "text": [
      "Accuracy: 0.9390074931856335\n",
      "Precision: 0.8725590592888167\n",
      "Recall: 0.6405371076029759\n",
      "F-measure: 0.7387586701745994\n"
     ]
    }
   ],
   "source": [
    "xgb_pred = xgb_2_v2.predict(test_X)\n",
    "\n",
    "# Bus Bunching 50%-50%\n",
    "accuracy = accuracy_score(test_Y.busBunching.values, xgb_pred)\n",
    "precision = precision_score(test_Y.busBunching.values, xgb_pred)\n",
    "recall = recall_score(test_Y.busBunching.values, xgb_pred)\n",
    "f_measure = f1_score(test_Y.busBunching.values, xgb_pred)\n",
    "\n",
    "print(\"Accuracy: \" + str(accuracy))\n",
    "print(\"Precision: \" + str(precision))\n",
    "print(\"Recall: \" + str(recall))\n",
    "print(\"F-measure: \" + str(f_measure))"
   ]
  },
  {
   "cell_type": "code",
   "execution_count": 36,
   "metadata": {},
   "outputs": [
    {
     "name": "stdout",
     "output_type": "stream",
     "text": [
      "Accuracy: 0.9567861486728196\n",
      "Precision: 0.9180509413067552\n",
      "Recall: 0.6100073583517293\n",
      "F-measure: 0.7329796640141468\n"
     ]
    }
   ],
   "source": [
    "xgb_pred = xgb_1.predict(test_X)\n",
    "\n",
    "# Bus Bunching 50%\n",
    "accuracy = accuracy_score(test_Y.busBunching.values, xgb_pred)\n",
    "precision = precision_score(test_Y.busBunching.values, xgb_pred)\n",
    "recall = recall_score(test_Y.busBunching.values, xgb_pred)\n",
    "f_measure = f1_score(test_Y.busBunching.values, xgb_pred)\n",
    "\n",
    "print(\"Accuracy: \" + str(accuracy))\n",
    "print(\"Precision: \" + str(precision))\n",
    "print(\"Recall: \" + str(recall))\n",
    "print(\"F-measure: \" + str(f_measure))"
   ]
  },
  {
   "cell_type": "markdown",
   "metadata": {},
   "source": [
    "#### Random Forest"
   ]
  },
  {
   "cell_type": "code",
   "execution_count": 12,
   "metadata": {},
   "outputs": [
    {
     "name": "stderr",
     "output_type": "stream",
     "text": [
      "/home/veruska/.local/lib/python3.6/site-packages/ipykernel_launcher.py:18: DataConversionWarning: A column-vector y was passed when a 1d array was expected. Please change the shape of y to (n_samples,), for example using ravel().\n"
     ]
    },
    {
     "name": "stdout",
     "output_type": "stream",
     "text": [
      "Execution time: 6.281097590923309 min\n"
     ]
    }
   ],
   "source": [
    "#trainig rf with 50% of data\n",
    "\n",
    "start = time.time()\n",
    "random.seed(42)\n",
    "\n",
    "# Curitiba\n",
    "rf_1 = RandomForestClassifier(n_estimators=25, min_samples_split=5,\n",
    "                           max_features=0.5, n_jobs=-1, warm_start=True)\n",
    "\n",
    "# City A\n",
    "#rf_1 = RandomForestClassifier(n_estimators=25, min_samples_split=15,\n",
    "#                           max_features=0.9, n_jobs=-1, warm_start=True)\n",
    "\n",
    "# parameters with manual search\n",
    "#rf_1 = RandomForestClassifier(n_estimators=100, min_samples_split=5,\n",
    "#                           max_features=0.8, n_jobs=-1, warm_start=True)\n",
    "\n",
    "rf_1.fit(train_X_1, train_Y_1)\n",
    "\n",
    "print(\"Execution time: \" + str((time.time() - start)/60) + \" min\")"
   ]
  },
  {
   "cell_type": "code",
   "execution_count": 22,
   "metadata": {},
   "outputs": [
    {
     "name": "stdout",
     "output_type": "stream",
     "text": [
      "Execution time (min): 0.3027198314666748\n"
     ]
    },
    {
     "name": "stderr",
     "output_type": "stream",
     "text": [
      "/home/veruska/.local/lib/python3.6/site-packages/ipykernel_launcher.py:5: DataConversionWarning: A column-vector y was passed when a 1d array was expected. Please change the shape of y to (n_samples,), for example using ravel().\n",
      "  \"\"\"\n",
      "/home/veruska/.local/lib/python3.6/site-packages/sklearn/ensemble/_forest.py:359: UserWarning: Warm-start fitting without increasing n_estimators does not fit new trees.\n",
      "  warn(\"Warm-start fitting without increasing n_estimators does not \"\n"
     ]
    }
   ],
   "source": [
    "#adding 20% of increments in the last model (with 50%)\n",
    "\n",
    "random.seed(42)\n",
    "rf1_time = time.time()\n",
    "rf_1.fit(first_20perc_X, first_20perc_Y)\n",
    "print(\"Execution time (min): \" + str(time.time() - rf1_time))"
   ]
  },
  {
   "cell_type": "code",
   "execution_count": 30,
   "metadata": {},
   "outputs": [
    {
     "name": "stderr",
     "output_type": "stream",
     "text": [
      "/home/veruska/.local/lib/python3.6/site-packages/ipykernel_launcher.py:5: DataConversionWarning: A column-vector y was passed when a 1d array was expected. Please change the shape of y to (n_samples,), for example using ravel().\n",
      "  \"\"\"\n"
     ]
    },
    {
     "name": "stdout",
     "output_type": "stream",
     "text": [
      "Execution time (min): 3.1898694038391113\n"
     ]
    },
    {
     "name": "stderr",
     "output_type": "stream",
     "text": [
      "/home/veruska/.local/lib/python3.6/site-packages/sklearn/ensemble/_forest.py:359: UserWarning: Warm-start fitting without increasing n_estimators does not fit new trees.\n",
      "  warn(\"Warm-start fitting without increasing n_estimators does not \"\n"
     ]
    }
   ],
   "source": [
    "#adding 20% of increments in the last model (with 70%)\n",
    "\n",
    "random.seed(42)\n",
    "rf2_time = time.time()\n",
    "rf_1.fit(second_20perc_X, second_20perc_Y)\n",
    "print(\"Execution time (min): \" + str(time.time() - rf2_time))"
   ]
  },
  {
   "cell_type": "markdown",
   "metadata": {},
   "source": [
    "City A"
   ]
  },
  {
   "cell_type": "code",
   "execution_count": 16,
   "metadata": {},
   "outputs": [
    {
     "name": "stdout",
     "output_type": "stream",
     "text": [
      "Accuracy: 0.9264118215735341\n",
      "Precision: 0.8604219896150993\n",
      "Recall: 0.5412292298519843\n",
      "F-measure: 0.6644813264802762\n"
     ]
    }
   ],
   "source": [
    "# 50% all data - grid\n",
    "rf_pred = rf_1.predict(test_X)\n",
    "get_quality(rf_pred)"
   ]
  },
  {
   "cell_type": "code",
   "execution_count": 30,
   "metadata": {},
   "outputs": [
    {
     "name": "stdout",
     "output_type": "stream",
     "text": [
      "Accuracy: 0.9267014975901049\n",
      "Precision: 0.8636758680627405\n",
      "Recall: 0.5409700080358762\n",
      "F-measure: 0.6652534268409308\n"
     ]
    }
   ],
   "source": [
    "# 50%+20% all data - grid\n",
    "rf_pred = rf_1.predict(test_X)\n",
    "get_quality(rf_pred)"
   ]
  },
  {
   "cell_type": "code",
   "execution_count": 17,
   "metadata": {},
   "outputs": [
    {
     "name": "stdout",
     "output_type": "stream",
     "text": [
      "Accuracy: 0.9268061997647691\n",
      "Precision: 0.8647192873420344\n",
      "Recall: 0.5409959302174872\n",
      "F-measure: 0.6655823446868223\n"
     ]
    }
   ],
   "source": [
    "# 50%+40% all data - grid\n",
    "rf_pred = rf_1.predict(test_X)\n",
    "get_quality(rf_pred)"
   ]
  },
  {
   "cell_type": "markdown",
   "metadata": {},
   "source": [
    "Curitiba"
   ]
  },
  {
   "cell_type": "code",
   "execution_count": 13,
   "metadata": {},
   "outputs": [
    {
     "name": "stdout",
     "output_type": "stream",
     "text": [
      "Accuracy: 0.9735388959635004\n",
      "Precision: 0.8431419253178937\n",
      "Recall: 0.6543104551465256\n",
      "F-measure: 0.7368201942245031\n"
     ]
    }
   ],
   "source": [
    "# 50% all data - grid\n",
    "rf_pred = rf_1.predict(test_X)\n",
    "get_quality(rf_pred)"
   ]
  },
  {
   "cell_type": "code",
   "execution_count": 23,
   "metadata": {},
   "outputs": [
    {
     "name": "stdout",
     "output_type": "stream",
     "text": [
      "Accuracy: 0.973540505862447\n",
      "Precision: 0.8431853996408546\n",
      "Recall: 0.6542962362610019\n",
      "F-measure: 0.7368277783560042\n"
     ]
    }
   ],
   "source": [
    "# 50%+20% all data - grid\n",
    "rf_pred = rf_1.predict(test_X)\n",
    "get_quality(rf_pred)"
   ]
  },
  {
   "cell_type": "code",
   "execution_count": 31,
   "metadata": {},
   "outputs": [
    {
     "name": "stdout",
     "output_type": "stream",
     "text": [
      "Accuracy: 0.973538091014027\n",
      "Precision: 0.8431264772165118\n",
      "Recall: 0.6543104551465256\n",
      "F-measure: 0.7368142953213564\n"
     ]
    }
   ],
   "source": [
    "# 50%+40% all data - grid\n",
    "rf_pred = rf_1.predict(test_X)\n",
    "get_quality(rf_pred)"
   ]
  },
  {
   "cell_type": "code",
   "execution_count": null,
   "metadata": {},
   "outputs": [],
   "source": []
  },
  {
   "cell_type": "code",
   "execution_count": 17,
   "metadata": {},
   "outputs": [
    {
     "name": "stderr",
     "output_type": "stream",
     "text": [
      "/home/veruska/.local/lib/python3.6/site-packages/incremental_trees/trees.py:201: DataConversionWarning: A column-vector y was passed when a 1d array was expected. Please change the shape of y to (n_samples,), for example using ravel().\n",
      "  super().fit(*args)\n"
     ]
    },
    {
     "name": "stdout",
     "output_type": "stream",
     "text": [
      "Execution time (sec): 18.953135013580322\n"
     ]
    }
   ],
   "source": [
    "rf_1 = StreamingRFC(n_estimators=100, min_samples_split=5, max_features=0.8, n_jobs=-1)\n",
    "\n",
    "rf1_time = time.time()\n",
    "rf_1.partial_fit(train_X_1, train_Y_1, classes=np.unique(train_Y_1))\n",
    "print(\"Execution time (sec): \" + str(time.time() - rf1_time))"
   ]
  },
  {
   "cell_type": "code",
   "execution_count": 18,
   "metadata": {},
   "outputs": [
    {
     "name": "stderr",
     "output_type": "stream",
     "text": [
      "/home/veruska/.local/lib/python3.6/site-packages/incremental_trees/trees.py:201: DataConversionWarning: A column-vector y was passed when a 1d array was expected. Please change the shape of y to (n_samples,), for example using ravel().\n",
      "  super().fit(*args)\n"
     ]
    },
    {
     "name": "stdout",
     "output_type": "stream",
     "text": [
      "Execution time (sec): 10.187557697296143\n"
     ]
    }
   ],
   "source": [
    "rf1_time = time.time()\n",
    "rf_1.partial_fit(first_20perc_X, first_20perc_Y)\n",
    "print(\"Execution time (sec): \" + str(time.time() - rf1_time))"
   ]
  },
  {
   "cell_type": "code",
   "execution_count": 27,
   "metadata": {},
   "outputs": [
    {
     "name": "stderr",
     "output_type": "stream",
     "text": [
      "/home/veruska/.local/lib/python3.6/site-packages/incremental_trees/trees.py:201: DataConversionWarning: A column-vector y was passed when a 1d array was expected. Please change the shape of y to (n_samples,), for example using ravel().\n",
      "  super().fit(*args)\n"
     ]
    },
    {
     "name": "stdout",
     "output_type": "stream",
     "text": [
      "Execution time (sec): 9.983682632446289\n"
     ]
    }
   ],
   "source": [
    "rf2_time = time.time()\n",
    "rf_1.partial_fit(second_20perc_X, second_20perc_Y)\n",
    "print(\"Execution time (sec): \" + str(time.time() - rf2_time))"
   ]
  },
  {
   "cell_type": "code",
   "execution_count": 21,
   "metadata": {},
   "outputs": [
    {
     "name": "stderr",
     "output_type": "stream",
     "text": [
      "/home/veruska/.local/lib/python3.6/site-packages/incremental_trees/trees.py:201: DataConversionWarning: A column-vector y was passed when a 1d array was expected. Please change the shape of y to (n_samples,), for example using ravel().\n",
      "  super().fit(*args)\n"
     ]
    },
    {
     "name": "stdout",
     "output_type": "stream",
     "text": [
      "Execution time (sec): 4.9929211139678955\n"
     ]
    }
   ],
   "source": [
    "rf3_time = time.time()\n",
    "rf_1.partial_fit(third_10perc_X, third_10perc_Y)\n",
    "print(\"Execution time (sec): \" + str(time.time() - rf3_time))"
   ]
  },
  {
   "cell_type": "code",
   "execution_count": 28,
   "metadata": {},
   "outputs": [
    {
     "name": "stdout",
     "output_type": "stream",
     "text": [
      "Accuracy: 0.896665933751444\n",
      "Precision: 0.6620532649152604\n",
      "Recall: 0.4749202892915468\n",
      "F-measure: 0.5530867924528302\n"
     ]
    }
   ],
   "source": [
    "# Bus Bunching 50%-40% all data - new rf\n",
    "rf_pred = rf_1.predict(test_X)\n",
    "get_quality(rf_pred)"
   ]
  },
  {
   "cell_type": "code",
   "execution_count": 19,
   "metadata": {},
   "outputs": [
    {
     "name": "stdout",
     "output_type": "stream",
     "text": [
      "Accuracy: 0.8924952971273213\n",
      "Precision: 0.6951109326372854\n",
      "Recall: 0.35897037094641887\n",
      "F-measure: 0.47344399049556407\n"
     ]
    }
   ],
   "source": [
    "# Bus Bunching 50%-20% all data - new rf\n",
    "rf_pred = rf_1.predict(test_X)\n",
    "get_quality(rf_pred)"
   ]
  },
  {
   "cell_type": "code",
   "execution_count": 22,
   "metadata": {},
   "outputs": [
    {
     "name": "stdout",
     "output_type": "stream",
     "text": [
      "Accuracy: 0.8901185577624448\n",
      "Precision: 0.696058378019791\n",
      "Recall: 0.32638618866163777\n",
      "F-measure: 0.4443934634525112\n"
     ]
    }
   ],
   "source": [
    "# Bus Bunching 50%-30% all data\n",
    "rf_pred = rf_1.predict(test_X)\n",
    "get_quality(rf_pred)"
   ]
  },
  {
   "cell_type": "code",
   "execution_count": 20,
   "metadata": {},
   "outputs": [
    {
     "name": "stdout",
     "output_type": "stream",
     "text": [
      "Accuracy: 0.886021212660587\n",
      "Precision: 0.6130054603077628\n",
      "Recall: 0.4161547035798533\n",
      "F-measure: 0.4957539449711269\n"
     ]
    }
   ],
   "source": [
    "# Bus Bunching 50%-20% all data\n",
    "rf_pred = rf_1.predict(test_X)\n",
    "get_quality(rf_pred)"
   ]
  },
  {
   "cell_type": "code",
   "execution_count": 18,
   "metadata": {},
   "outputs": [
    {
     "name": "stdout",
     "output_type": "stream",
     "text": [
      "Accuracy: 0.8871240755670495\n",
      "Precision: 0.6705882352941176\n",
      "Recall: 0.3176763356404075\n",
      "F-measure: 0.43111939773446845\n"
     ]
    }
   ],
   "source": [
    "# Bus Bunching 50%-10% all data\n",
    "rf_pred = rf_1.predict(test_X)\n",
    "get_quality(rf_pred)"
   ]
  },
  {
   "cell_type": "code",
   "execution_count": 15,
   "metadata": {},
   "outputs": [
    {
     "name": "stdout",
     "output_type": "stream",
     "text": [
      "Accuracy: 0.8791143592052407\n",
      "Precision: 0.5508544581547834\n",
      "Recall: 0.5531534333929543\n",
      "F-measure: 0.5520015520920909\n"
     ]
    }
   ],
   "source": [
    "# Bus Bunching 50% all data - partialFit\n",
    "rf_pred = rf_1.predict(test_X)\n",
    "get_quality(rf_pred)"
   ]
  },
  {
   "cell_type": "code",
   "execution_count": null,
   "metadata": {},
   "outputs": [],
   "source": []
  },
  {
   "cell_type": "code",
   "execution_count": 38,
   "metadata": {},
   "outputs": [
    {
     "name": "stdout",
     "output_type": "stream",
     "text": [
      "Accuracy: 0.9345402003999623\n",
      "Precision: 0.8786246418338108\n",
      "Recall: 0.5961583326852788\n",
      "F-measure: 0.7103409933283915\n"
     ]
    }
   ],
   "source": [
    "# Bus Bunching 50%-3% all data\n",
    "rf_pred = rf_1.predict(test_X)\n",
    "get_quality(rf_pred)"
   ]
  },
  {
   "cell_type": "code",
   "execution_count": 30,
   "metadata": {},
   "outputs": [
    {
     "name": "stdout",
     "output_type": "stream",
     "text": [
      "Accuracy: 0.9345402003999623\n",
      "Precision: 0.8786246418338108\n",
      "Recall: 0.5961583326852788\n",
      "F-measure: 0.7103409933283915\n"
     ]
    }
   ],
   "source": [
    "# Bus Bunching 50%-2% all data\n",
    "rf_pred = rf_1.predict(test_X)\n",
    "get_quality(rf_pred)"
   ]
  },
  {
   "cell_type": "code",
   "execution_count": 22,
   "metadata": {},
   "outputs": [
    {
     "name": "stdout",
     "output_type": "stream",
     "text": [
      "Accuracy: 0.9345402003999623\n",
      "Precision: 0.8786246418338108\n",
      "Recall: 0.5961583326852788\n",
      "F-measure: 0.7103409933283915\n"
     ]
    }
   ],
   "source": [
    "# Bus Bunching 50%-1% all data\n",
    "rf_pred = rf_1.predict(test_X)\n",
    "get_quality(rf_pred)"
   ]
  },
  {
   "cell_type": "code",
   "execution_count": 13,
   "metadata": {},
   "outputs": [
    {
     "name": "stdout",
     "output_type": "stream",
     "text": [
      "Accuracy: 0.9345402003999623\n",
      "Precision: 0.8786246418338108\n",
      "Recall: 0.5961583326852788\n",
      "F-measure: 0.7103409933283915\n"
     ]
    }
   ],
   "source": [
    "# Bus Bunching 50% all data\n",
    "rf_pred = rf_1.predict(test_X)\n",
    "get_quality(rf_pred)"
   ]
  },
  {
   "cell_type": "raw",
   "metadata": {},
   "source": [
    "One day - data"
   ]
  },
  {
   "cell_type": "code",
   "execution_count": 30,
   "metadata": {},
   "outputs": [
    {
     "name": "stdout",
     "output_type": "stream",
     "text": [
      "Accuracy: 0.9559991414466624\n",
      "Precision: 0.903470715835141\n",
      "Recall: 0.6129506990434143\n",
      "F-measure: 0.7303814116615519\n"
     ]
    }
   ],
   "source": [
    "rf_pred = rf_1.predict(test_X)\n",
    "\n",
    "# Bus Bunching 50%-3%\n",
    "accuracy = accuracy_score(test_Y.busBunching.values, rf_pred)\n",
    "precision = precision_score(test_Y.busBunching.values, rf_pred)\n",
    "recall = recall_score(test_Y.busBunching.values, rf_pred)\n",
    "f_measure = f1_score(test_Y.busBunching.values, rf_pred)\n",
    "\n",
    "print(\"Accuracy: \" + str(accuracy))\n",
    "print(\"Precision: \" + str(precision))\n",
    "print(\"Recall: \" + str(recall))\n",
    "print(\"F-measure: \" + str(f_measure))"
   ]
  },
  {
   "cell_type": "code",
   "execution_count": 22,
   "metadata": {},
   "outputs": [
    {
     "name": "stdout",
     "output_type": "stream",
     "text": [
      "Accuracy: 0.9559991414466624\n",
      "Precision: 0.903470715835141\n",
      "Recall: 0.6129506990434143\n",
      "F-measure: 0.7303814116615519\n"
     ]
    }
   ],
   "source": [
    "rf_pred = rf_1.predict(test_X)\n",
    "\n",
    "# Bus Bunching 50%-2%\n",
    "accuracy = accuracy_score(test_Y.busBunching.values, rf_pred)\n",
    "precision = precision_score(test_Y.busBunching.values, rf_pred)\n",
    "recall = recall_score(test_Y.busBunching.values, rf_pred)\n",
    "f_measure = f1_score(test_Y.busBunching.values, rf_pred)\n",
    "\n",
    "print(\"Accuracy: \" + str(accuracy))\n",
    "print(\"Precision: \" + str(precision))\n",
    "print(\"Recall: \" + str(recall))\n",
    "print(\"F-measure: \" + str(f_measure))"
   ]
  },
  {
   "cell_type": "code",
   "execution_count": 8,
   "metadata": {},
   "outputs": [
    {
     "name": "stdout",
     "output_type": "stream",
     "text": [
      "Accuracy: 0.9559991414466624\n",
      "Precision: 0.903470715835141\n",
      "Recall: 0.6129506990434143\n",
      "F-measure: 0.7303814116615519\n"
     ]
    }
   ],
   "source": [
    "rf_pred = rf_1.predict(test_X)\n",
    "\n",
    "# Bus Bunching 50%-1%\n",
    "accuracy = accuracy_score(test_Y.busBunching.values, rf_pred)\n",
    "precision = precision_score(test_Y.busBunching.values, rf_pred)\n",
    "recall = recall_score(test_Y.busBunching.values, rf_pred)\n",
    "f_measure = f1_score(test_Y.busBunching.values, rf_pred)\n",
    "\n",
    "print(\"Accuracy: \" + str(accuracy))\n",
    "print(\"Precision: \" + str(precision))\n",
    "print(\"Recall: \" + str(recall))\n",
    "print(\"F-measure: \" + str(f_measure))"
   ]
  },
  {
   "cell_type": "code",
   "execution_count": 12,
   "metadata": {},
   "outputs": [
    {
     "name": "stdout",
     "output_type": "stream",
     "text": [
      "Accuracy: 0.9390074931856335\n",
      "Precision: 0.8725590592888167\n",
      "Recall: 0.6405371076029759\n",
      "F-measure: 0.7387586701745994\n"
     ]
    }
   ],
   "source": [
    "rf_pred = xgb_2_v2.predict(test_X)\n",
    "\n",
    "# Bus Bunching 50%-50%\n",
    "accuracy = accuracy_score(test_Y.busBunching.values, rf_pred)\n",
    "precision = precision_score(test_Y.busBunching.values, rf_pred)\n",
    "recall = recall_score(test_Y.busBunching.values, rf_pred)\n",
    "f_measure = f1_score(test_Y.busBunching.values, rf_pred)\n",
    "\n",
    "print(\"Accuracy: \" + str(accuracy))\n",
    "print(\"Precision: \" + str(precision))\n",
    "print(\"Recall: \" + str(recall))\n",
    "print(\"F-measure: \" + str(f_measure))"
   ]
  },
  {
   "cell_type": "code",
   "execution_count": 38,
   "metadata": {},
   "outputs": [
    {
     "name": "stdout",
     "output_type": "stream",
     "text": [
      "Accuracy: 0.957072333118695\n",
      "Precision: 0.9129488574537541\n",
      "Recall: 0.6173657100809419\n",
      "F-measure: 0.736611062335382\n"
     ]
    }
   ],
   "source": [
    "rf_pred = rf_1.predict(test_X)\n",
    "\n",
    "# Bus Bunching 50%\n",
    "accuracy = accuracy_score(test_Y.busBunching.values, rf_pred)\n",
    "precision = precision_score(test_Y.busBunching.values, rf_pred)\n",
    "recall = recall_score(test_Y.busBunching.values, rf_pred)\n",
    "f_measure = f1_score(test_Y.busBunching.values, rf_pred)\n",
    "\n",
    "print(\"Accuracy: \" + str(accuracy))\n",
    "print(\"Precision: \" + str(precision))\n",
    "print(\"Recall: \" + str(recall))\n",
    "print(\"F-measure: \" + str(f_measure))"
   ]
  },
  {
   "cell_type": "markdown",
   "metadata": {},
   "source": [
    "### Ensemble Evaluation"
   ]
  },
  {
   "cell_type": "code",
   "execution_count": 32,
   "metadata": {},
   "outputs": [],
   "source": [
    "final_predictions = []\n",
    "\n",
    "for i in range(0, len(rf_pred)):\n",
    "    temp_preds = []\n",
    "    temp_preds.append(rf_pred[i])\n",
    "    temp_preds.append(cat_pred[i])\n",
    "    temp_preds.append(xgb_pred[i])\n",
    "    \n",
    "    final_predictions.append(\n",
    "        max(temp_preds,key=temp_preds.count)\n",
    "    )"
   ]
  },
  {
   "cell_type": "markdown",
   "metadata": {},
   "source": [
    "City A"
   ]
  },
  {
   "cell_type": "code",
   "execution_count": 22,
   "metadata": {},
   "outputs": [
    {
     "name": "stdout",
     "output_type": "stream",
     "text": [
      "Accuracy: 0.9233021669860083\n",
      "Precision: 0.9018639554587267\n",
      "Recall: 0.4828783990460637\n",
      "F-measure: 0.6289843327930849\n"
     ]
    }
   ],
   "source": [
    "preds_pd = pd.DataFrame(final_predictions, columns=['pred'])\n",
    "preds_pd.to_csv('../Ensemble/outputs/q5/ens_pred_q5_50_' + city + '.csv', index=False)\n",
    "\n",
    "get_quality(final_predictions) #50% - grid"
   ]
  },
  {
   "cell_type": "code",
   "execution_count": 32,
   "metadata": {},
   "outputs": [
    {
     "name": "stdout",
     "output_type": "stream",
     "text": [
      "Accuracy: 0.9227088546629113\n",
      "Precision: 0.9221953851688165\n",
      "Recall: 0.4651735490058843\n",
      "F-measure: 0.6184092632159348\n"
     ]
    }
   ],
   "source": [
    "preds_pd = pd.DataFrame(final_predictions, columns=['pred'])\n",
    "preds_pd.to_csv('../Ensemble/outputs/q5/ens_pred_q5_50_20_' + city + '.csv', index=False)\n",
    "\n",
    "get_quality(final_predictions) #50%+20% - grid"
   ]
  },
  {
   "cell_type": "code",
   "execution_count": 19,
   "metadata": {},
   "outputs": [
    {
     "name": "stdout",
     "output_type": "stream",
     "text": [
      "Accuracy: 0.9243491887326499\n",
      "Precision: 0.9268576046875789\n",
      "Recall: 0.4756461103766493\n",
      "F-measure: 0.6286702984205297\n"
     ]
    }
   ],
   "source": [
    "preds_pd = pd.DataFrame(final_predictions, columns=['pred'])\n",
    "preds_pd.to_csv('../Ensemble/outputs/q5/ens_pred_q5_50_40_' + city + '.csv', index=False)\n",
    "\n",
    "get_quality(final_predictions) #50%+40% - grid"
   ]
  },
  {
   "cell_type": "markdown",
   "metadata": {},
   "source": [
    "Curitiba"
   ]
  },
  {
   "cell_type": "code",
   "execution_count": 16,
   "metadata": {},
   "outputs": [
    {
     "name": "stdout",
     "output_type": "stream",
     "text": [
      "Accuracy: 0.9746207480556446\n",
      "Precision: 0.8589933382679497\n",
      "Recall: 0.6600406660125979\n",
      "F-measure: 0.7464882728011001\n"
     ]
    }
   ],
   "source": [
    "preds_pd = pd.DataFrame(final_predictions, columns=['pred'])\n",
    "preds_pd.to_csv('../Ensemble/outputs/q5/ens_pred_q5_50_' + city + '.csv', index=False)\n",
    "\n",
    "get_quality(final_predictions) #50% - grid"
   ]
  },
  {
   "cell_type": "code",
   "execution_count": 25,
   "metadata": {},
   "outputs": [
    {
     "name": "stdout",
     "output_type": "stream",
     "text": [
      "Accuracy: 0.9755802478278438\n",
      "Precision: 0.8622988838962169\n",
      "Recall: 0.6767051998464361\n",
      "F-measure: 0.7583113582587774\n"
     ]
    }
   ],
   "source": [
    "preds_pd = pd.DataFrame(final_predictions, columns=['pred'])\n",
    "preds_pd.to_csv('../Ensemble/outputs/q5/ens_pred_q5_50_20_' + city + '.csv', index=False)\n",
    "\n",
    "get_quality(final_predictions) #50%+20% - grid"
   ]
  },
  {
   "cell_type": "code",
   "execution_count": 33,
   "metadata": {},
   "outputs": [
    {
     "name": "stdout",
     "output_type": "stream",
     "text": [
      "Accuracy: 0.97629423801068\n",
      "Precision: 0.8641781737193764\n",
      "Recall: 0.689644385673051\n",
      "F-measure: 0.7671089882486912\n"
     ]
    }
   ],
   "source": [
    "preds_pd = pd.DataFrame(final_predictions, columns=['pred'])\n",
    "preds_pd.to_csv('../Ensemble/outputs/q5/ens_pred_q5_50_40_' + city + '.csv', index=False)\n",
    "\n",
    "get_quality(final_predictions) #50%+40% - grid"
   ]
  },
  {
   "cell_type": "code",
   "execution_count": null,
   "metadata": {},
   "outputs": [],
   "source": []
  },
  {
   "cell_type": "code",
   "execution_count": 30,
   "metadata": {},
   "outputs": [
    {
     "name": "stdout",
     "output_type": "stream",
     "text": [
      "Accuracy: 0.9313467840727052\n",
      "Precision: 0.8405259365994237\n",
      "Recall: 0.6048422635248982\n",
      "F-measure: 0.703468652486546\n"
     ]
    }
   ],
   "source": [
    "# Bus Bunching 50%-40% all data - new rf\n",
    "get_quality(final_predictions)"
   ]
  },
  {
   "cell_type": "code",
   "execution_count": 21,
   "metadata": {},
   "outputs": [
    {
     "name": "stdout",
     "output_type": "stream",
     "text": [
      "Accuracy: 0.9298530330474964\n",
      "Precision: 0.8599142968445657\n",
      "Recall: 0.5722062368768955\n",
      "F-measure: 0.6871604899839682\n"
     ]
    }
   ],
   "source": [
    "# Bus Bunching 50%-20% all data - new rf\n",
    "get_quality(final_predictions)"
   ]
  },
  {
   "cell_type": "code",
   "execution_count": null,
   "metadata": {},
   "outputs": [],
   "source": []
  },
  {
   "cell_type": "code",
   "execution_count": 40,
   "metadata": {},
   "outputs": [
    {
     "name": "stdout",
     "output_type": "stream",
     "text": [
      "Accuracy: 0.9190966296369976\n",
      "Precision: 0.8795857988165681\n",
      "Recall: 0.46239987557352824\n",
      "F-measure: 0.6061471022987919\n"
     ]
    }
   ],
   "source": [
    "# Bus Bunching 50%-3% all data\n",
    "get_quality(final_predictions)"
   ]
  },
  {
   "cell_type": "code",
   "execution_count": 32,
   "metadata": {},
   "outputs": [
    {
     "name": "stdout",
     "output_type": "stream",
     "text": [
      "Accuracy: 0.9225169006760271\n",
      "Precision: 0.8739495798319328\n",
      "Recall: 0.4960468673043523\n",
      "F-measure: 0.632877482512857\n"
     ]
    }
   ],
   "source": [
    "# Bus Bunching 50%-2% all data\n",
    "get_quality(final_predictions)"
   ]
  },
  {
   "cell_type": "code",
   "execution_count": 24,
   "metadata": {},
   "outputs": [
    {
     "name": "stdout",
     "output_type": "stream",
     "text": [
      "Accuracy: 0.9257417276556834\n",
      "Precision: 0.8769720212673233\n",
      "Recall: 0.5216320605542163\n",
      "F-measure: 0.6541618581668646\n"
     ]
    }
   ],
   "source": [
    "# Bus Bunching 50%-1% all data\n",
    "get_quality(final_predictions)"
   ]
  },
  {
   "cell_type": "code",
   "execution_count": 15,
   "metadata": {},
   "outputs": [
    {
     "name": "stdout",
     "output_type": "stream",
     "text": [
      "Accuracy: 0.9361037528749472\n",
      "Precision: 0.8803527866391443\n",
      "Recall: 0.608056614044638\n",
      "F-measure: 0.7192971696666768\n"
     ]
    }
   ],
   "source": [
    "# Bus Bunching 50% all data\n",
    "get_quality(final_predictions)"
   ]
  },
  {
   "cell_type": "raw",
   "metadata": {},
   "source": [
    "One day - data"
   ]
  },
  {
   "cell_type": "code",
   "execution_count": 32,
   "metadata": {},
   "outputs": [
    {
     "name": "stdout",
     "output_type": "stream",
     "text": [
      "Accuracy: 0.9497746297488732\n",
      "Precision: 0.841831425598335\n",
      "Recall: 0.5952906548933039\n",
      "F-measure: 0.6974137931034482\n"
     ]
    }
   ],
   "source": [
    "# Bus Bunching 50%-3%\n",
    "accuracy = accuracy_score(test_Y.busBunching.values, final_predictions)\n",
    "precision = precision_score(test_Y.busBunching.values, final_predictions)\n",
    "recall = recall_score(test_Y.busBunching.values, final_predictions)\n",
    "f_measure = f1_score(test_Y.busBunching.values, final_predictions)\n",
    "\n",
    "print(\"Accuracy: \" + str(accuracy))\n",
    "print(\"Precision: \" + str(precision))\n",
    "print(\"Recall: \" + str(recall))\n",
    "print(\"F-measure: \" + str(f_measure))"
   ]
  },
  {
   "cell_type": "code",
   "execution_count": 24,
   "metadata": {},
   "outputs": [
    {
     "name": "stdout",
     "output_type": "stream",
     "text": [
      "Accuracy: 0.9530657508764399\n",
      "Precision: 0.8627450980392157\n",
      "Recall: 0.6151582045621781\n",
      "F-measure: 0.7182130584192441\n"
     ]
    }
   ],
   "source": [
    "# Bus Bunching 50%-2%\n",
    "accuracy = accuracy_score(test_Y.busBunching.values, final_predictions)\n",
    "precision = precision_score(test_Y.busBunching.values, final_predictions)\n",
    "recall = recall_score(test_Y.busBunching.values, final_predictions)\n",
    "f_measure = f1_score(test_Y.busBunching.values, final_predictions)\n",
    "\n",
    "print(\"Accuracy: \" + str(accuracy))\n",
    "print(\"Precision: \" + str(precision))\n",
    "print(\"Recall: \" + str(recall))\n",
    "print(\"F-measure: \" + str(f_measure))"
   ]
  },
  {
   "cell_type": "code",
   "execution_count": 16,
   "metadata": {},
   "outputs": [
    {
     "name": "stdout",
     "output_type": "stream",
     "text": [
      "Accuracy: 0.9522787436502826\n",
      "Precision: 0.8922902494331065\n",
      "Recall: 0.579102281089036\n",
      "F-measure: 0.7023650156180277\n"
     ]
    }
   ],
   "source": [
    "# Bus Bunching 50%-1%\n",
    "accuracy = accuracy_score(test_Y.busBunching.values, final_predictions)\n",
    "precision = precision_score(test_Y.busBunching.values, final_predictions)\n",
    "recall = recall_score(test_Y.busBunching.values, final_predictions)\n",
    "f_measure = f1_score(test_Y.busBunching.values, final_predictions)\n",
    "\n",
    "print(\"Accuracy: \" + str(accuracy))\n",
    "print(\"Precision: \" + str(precision))\n",
    "print(\"Recall: \" + str(recall))\n",
    "print(\"F-measure: \" + str(f_measure))"
   ]
  },
  {
   "cell_type": "code",
   "execution_count": 14,
   "metadata": {},
   "outputs": [
    {
     "name": "stdout",
     "output_type": "stream",
     "text": [
      "Accuracy: 0.9390074931856335\n",
      "Precision: 0.8725590592888167\n",
      "Recall: 0.6405371076029759\n",
      "F-measure: 0.7387586701745994\n"
     ]
    }
   ],
   "source": [
    "# Bus Bunching 50%-50%\n",
    "accuracy = accuracy_score(test_Y.busBunching.values, final_predictions)\n",
    "precision = precision_score(test_Y.busBunching.values, final_predictions)\n",
    "recall = recall_score(test_Y.busBunching.values, final_predictions)\n",
    "f_measure = f1_score(test_Y.busBunching.values, final_predictions)\n",
    "\n",
    "print(\"Accuracy: \" + str(accuracy))\n",
    "print(\"Precision: \" + str(precision))\n",
    "print(\"Recall: \" + str(recall))\n",
    "print(\"F-measure: \" + str(f_measure))"
   ]
  },
  {
   "cell_type": "code",
   "execution_count": 40,
   "metadata": {},
   "outputs": [
    {
     "name": "stdout",
     "output_type": "stream",
     "text": [
      "Accuracy: 0.9583601631251342\n",
      "Precision: 0.9155080213903743\n",
      "Recall: 0.6298749080206034\n",
      "F-measure: 0.7462946817785527\n"
     ]
    }
   ],
   "source": [
    "# Bus Bunching 50%\n",
    "accuracy = accuracy_score(test_Y.busBunching.values, final_predictions)\n",
    "precision = precision_score(test_Y.busBunching.values, final_predictions)\n",
    "recall = recall_score(test_Y.busBunching.values, final_predictions)\n",
    "f_measure = f1_score(test_Y.busBunching.values, final_predictions)\n",
    "\n",
    "print(\"Accuracy: \" + str(accuracy))\n",
    "print(\"Precision: \" + str(precision))\n",
    "print(\"Recall: \" + str(recall))\n",
    "print(\"F-measure: \" + str(f_measure))"
   ]
  },
  {
   "cell_type": "code",
   "execution_count": null,
   "metadata": {},
   "outputs": [],
   "source": []
  }
 ],
 "metadata": {
  "kernelspec": {
   "display_name": "Python 3",
   "language": "python",
   "name": "python3"
  },
  "language_info": {
   "codemirror_mode": {
    "name": "ipython",
    "version": 3
   },
   "file_extension": ".py",
   "mimetype": "text/x-python",
   "name": "python",
   "nbconvert_exporter": "python",
   "pygments_lexer": "ipython3",
   "version": "3.6.9"
  }
 },
 "nbformat": 4,
 "nbformat_minor": 4
}
