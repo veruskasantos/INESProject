{
 "cells": [
  {
   "cell_type": "code",
   "execution_count": 2,
   "metadata": {},
   "outputs": [
    {
     "name": "stderr",
     "output_type": "stream",
     "text": [
      "/home/veruska/.local/lib/python3.6/site-packages/sklearn/externals/joblib/__init__.py:15: FutureWarning: sklearn.externals.joblib is deprecated in 0.21 and will be removed in 0.23. Please import this functionality directly from joblib, which can be installed with: pip install joblib. If this warning is raised when loading pickled models, you may need to re-serialize those models with scikit-learn 0.21+.\n",
      "  warnings.warn(msg, category=FutureWarning)\n"
     ]
    }
   ],
   "source": [
    "import numpy as np\n",
    "import pandas as pd\n",
    "import random\n",
    "from sklearn.ensemble import RandomForestClassifier\n",
    "from sklearn.metrics import accuracy_score, precision_score, recall_score, f1_score, make_scorer\n",
    "from sklearn.model_selection import cross_val_score, train_test_split, GridSearchCV\n",
    "import matplotlib.pyplot as plt\n",
    "import time\n",
    "#import seaborn as sns\n",
    "from sklearn.externals import joblib\n",
    "import csv\n",
    "import shap"
   ]
  },
  {
   "cell_type": "code",
   "execution_count": 3,
   "metadata": {},
   "outputs": [
    {
     "name": "stdout",
     "output_type": "stream",
     "text": [
      "(1432633, 420)\n",
      "(1432633, 1)\n"
     ]
    },
    {
     "data": {
      "text/html": [
       "<div>\n",
       "<style scoped>\n",
       "    .dataframe tbody tr th:only-of-type {\n",
       "        vertical-align: middle;\n",
       "    }\n",
       "\n",
       "    .dataframe tbody tr th {\n",
       "        vertical-align: top;\n",
       "    }\n",
       "\n",
       "    .dataframe thead th {\n",
       "        text-align: right;\n",
       "    }\n",
       "</style>\n",
       "<table border=\"1\" class=\"dataframe\">\n",
       "  <thead>\n",
       "    <tr style=\"text-align: right;\">\n",
       "      <th></th>\n",
       "      <th>route</th>\n",
       "      <th>tripNum</th>\n",
       "      <th>shapeSequence</th>\n",
       "      <th>shapeLat</th>\n",
       "      <th>shapeLon</th>\n",
       "      <th>distanceTraveledShape</th>\n",
       "      <th>busCode</th>\n",
       "      <th>gpsPointId</th>\n",
       "      <th>gpsLat</th>\n",
       "      <th>gpsLon</th>\n",
       "      <th>...</th>\n",
       "      <th>alertTypeSB_ACCIDENT</th>\n",
       "      <th>alertTypeSB_CHIT_CHAT</th>\n",
       "      <th>alertTypeSB_HAZARD</th>\n",
       "      <th>alertTypeSB_JAM</th>\n",
       "      <th>alertTypeSB_NORMAL</th>\n",
       "      <th>alertTypeSB_POLICE</th>\n",
       "      <th>alertTypeSB_ROAD_CLOSED</th>\n",
       "      <th>jamBlockTypeSB_-</th>\n",
       "      <th>jamBlockTypeSB_NORMAL</th>\n",
       "      <th>jamBlockTypeSB_ROAD_CLOSED_EVENT</th>\n",
       "    </tr>\n",
       "  </thead>\n",
       "  <tbody>\n",
       "    <tr>\n",
       "      <th>0</th>\n",
       "      <td>0.118068</td>\n",
       "      <td>0.066667</td>\n",
       "      <td>0.085019</td>\n",
       "      <td>0.264600</td>\n",
       "      <td>0.496150</td>\n",
       "      <td>0.057584</td>\n",
       "      <td>0.0</td>\n",
       "      <td>0.000000</td>\n",
       "      <td>0.266155</td>\n",
       "      <td>0.496047</td>\n",
       "      <td>...</td>\n",
       "      <td>0.0</td>\n",
       "      <td>0.0</td>\n",
       "      <td>0.0</td>\n",
       "      <td>1.0</td>\n",
       "      <td>0.0</td>\n",
       "      <td>0.0</td>\n",
       "      <td>0.0</td>\n",
       "      <td>1.0</td>\n",
       "      <td>0.0</td>\n",
       "      <td>0.0</td>\n",
       "    </tr>\n",
       "    <tr>\n",
       "      <th>1</th>\n",
       "      <td>0.118068</td>\n",
       "      <td>0.066667</td>\n",
       "      <td>0.085026</td>\n",
       "      <td>0.270218</td>\n",
       "      <td>0.501802</td>\n",
       "      <td>0.064231</td>\n",
       "      <td>0.0</td>\n",
       "      <td>0.000148</td>\n",
       "      <td>0.271812</td>\n",
       "      <td>0.501642</td>\n",
       "      <td>...</td>\n",
       "      <td>0.0</td>\n",
       "      <td>0.0</td>\n",
       "      <td>0.0</td>\n",
       "      <td>0.0</td>\n",
       "      <td>1.0</td>\n",
       "      <td>0.0</td>\n",
       "      <td>0.0</td>\n",
       "      <td>0.0</td>\n",
       "      <td>1.0</td>\n",
       "      <td>0.0</td>\n",
       "    </tr>\n",
       "    <tr>\n",
       "      <th>2</th>\n",
       "      <td>0.118068</td>\n",
       "      <td>0.066667</td>\n",
       "      <td>0.085033</td>\n",
       "      <td>0.273653</td>\n",
       "      <td>0.505296</td>\n",
       "      <td>0.068301</td>\n",
       "      <td>0.0</td>\n",
       "      <td>0.000000</td>\n",
       "      <td>0.275187</td>\n",
       "      <td>0.505192</td>\n",
       "      <td>...</td>\n",
       "      <td>0.0</td>\n",
       "      <td>0.0</td>\n",
       "      <td>0.0</td>\n",
       "      <td>1.0</td>\n",
       "      <td>0.0</td>\n",
       "      <td>0.0</td>\n",
       "      <td>0.0</td>\n",
       "      <td>1.0</td>\n",
       "      <td>0.0</td>\n",
       "      <td>0.0</td>\n",
       "    </tr>\n",
       "    <tr>\n",
       "      <th>3</th>\n",
       "      <td>0.118068</td>\n",
       "      <td>0.066667</td>\n",
       "      <td>0.085039</td>\n",
       "      <td>0.277433</td>\n",
       "      <td>0.509404</td>\n",
       "      <td>0.072900</td>\n",
       "      <td>0.0</td>\n",
       "      <td>0.000149</td>\n",
       "      <td>0.280622</td>\n",
       "      <td>0.510132</td>\n",
       "      <td>...</td>\n",
       "      <td>0.0</td>\n",
       "      <td>0.0</td>\n",
       "      <td>0.0</td>\n",
       "      <td>0.0</td>\n",
       "      <td>1.0</td>\n",
       "      <td>0.0</td>\n",
       "      <td>0.0</td>\n",
       "      <td>1.0</td>\n",
       "      <td>0.0</td>\n",
       "      <td>0.0</td>\n",
       "    </tr>\n",
       "    <tr>\n",
       "      <th>4</th>\n",
       "      <td>0.118068</td>\n",
       "      <td>0.066667</td>\n",
       "      <td>0.085053</td>\n",
       "      <td>0.280050</td>\n",
       "      <td>0.513166</td>\n",
       "      <td>0.077983</td>\n",
       "      <td>0.0</td>\n",
       "      <td>0.000155</td>\n",
       "      <td>0.281878</td>\n",
       "      <td>0.513178</td>\n",
       "      <td>...</td>\n",
       "      <td>0.0</td>\n",
       "      <td>0.0</td>\n",
       "      <td>0.0</td>\n",
       "      <td>1.0</td>\n",
       "      <td>0.0</td>\n",
       "      <td>0.0</td>\n",
       "      <td>0.0</td>\n",
       "      <td>1.0</td>\n",
       "      <td>0.0</td>\n",
       "      <td>0.0</td>\n",
       "    </tr>\n",
       "  </tbody>\n",
       "</table>\n",
       "<p>5 rows × 420 columns</p>\n",
       "</div>"
      ],
      "text/plain": [
       "      route   tripNum  shapeSequence  shapeLat  shapeLon  \\\n",
       "0  0.118068  0.066667       0.085019  0.264600  0.496150   \n",
       "1  0.118068  0.066667       0.085026  0.270218  0.501802   \n",
       "2  0.118068  0.066667       0.085033  0.273653  0.505296   \n",
       "3  0.118068  0.066667       0.085039  0.277433  0.509404   \n",
       "4  0.118068  0.066667       0.085053  0.280050  0.513166   \n",
       "\n",
       "   distanceTraveledShape  busCode  gpsPointId    gpsLat    gpsLon  ...  \\\n",
       "0               0.057584      0.0    0.000000  0.266155  0.496047  ...   \n",
       "1               0.064231      0.0    0.000148  0.271812  0.501642  ...   \n",
       "2               0.068301      0.0    0.000000  0.275187  0.505192  ...   \n",
       "3               0.072900      0.0    0.000149  0.280622  0.510132  ...   \n",
       "4               0.077983      0.0    0.000155  0.281878  0.513178  ...   \n",
       "\n",
       "   alertTypeSB_ACCIDENT  alertTypeSB_CHIT_CHAT  alertTypeSB_HAZARD  \\\n",
       "0                   0.0                    0.0                 0.0   \n",
       "1                   0.0                    0.0                 0.0   \n",
       "2                   0.0                    0.0                 0.0   \n",
       "3                   0.0                    0.0                 0.0   \n",
       "4                   0.0                    0.0                 0.0   \n",
       "\n",
       "   alertTypeSB_JAM  alertTypeSB_NORMAL  alertTypeSB_POLICE  \\\n",
       "0              1.0                 0.0                 0.0   \n",
       "1              0.0                 1.0                 0.0   \n",
       "2              1.0                 0.0                 0.0   \n",
       "3              0.0                 1.0                 0.0   \n",
       "4              1.0                 0.0                 0.0   \n",
       "\n",
       "   alertTypeSB_ROAD_CLOSED  jamBlockTypeSB_-  jamBlockTypeSB_NORMAL  \\\n",
       "0                      0.0               1.0                    0.0   \n",
       "1                      0.0               0.0                    1.0   \n",
       "2                      0.0               1.0                    0.0   \n",
       "3                      0.0               1.0                    0.0   \n",
       "4                      0.0               1.0                    0.0   \n",
       "\n",
       "   jamBlockTypeSB_ROAD_CLOSED_EVENT  \n",
       "0                               0.0  \n",
       "1                               0.0  \n",
       "2                               0.0  \n",
       "3                               0.0  \n",
       "4                               0.0  \n",
       "\n",
       "[5 rows x 420 columns]"
      ]
     },
     "execution_count": 3,
     "metadata": {},
     "output_type": "execute_result"
    }
   ],
   "source": [
    "city = 'CityA'\n",
    "#city = 'Curitiba'\n",
    "\n",
    "data_path = '../../data/output/' + city + '/normalized_data_X.csv'\n",
    "y_path = '../../data/output/' + city + '/y.csv'\n",
    "\n",
    "data = pd.read_csv(data_path)\n",
    "y = pd.read_csv(y_path)\n",
    "print(data.shape)\n",
    "print(y.shape)\n",
    "data.head()"
   ]
  },
  {
   "cell_type": "code",
   "execution_count": 13,
   "metadata": {},
   "outputs": [
    {
     "name": "stdout",
     "output_type": "stream",
     "text": [
      "(5000, 420)\n",
      "(5000, 1)\n"
     ]
    }
   ],
   "source": [
    "# same data of rvm test\n",
    "# for the experiment with the rvm\n",
    "data_size = 5000\n",
    "\n",
    "data = data[0:data_size]\n",
    "y = y[0:data_size]\n",
    "print(data.shape)\n",
    "print(y.shape)"
   ]
  },
  {
   "cell_type": "code",
   "execution_count": 4,
   "metadata": {},
   "outputs": [
    {
     "data": {
      "text/plain": [
       "(1432633, 100)"
      ]
     },
     "execution_count": 4,
     "metadata": {},
     "output_type": "execute_result"
    }
   ],
   "source": [
    "selected_index=[0,1,2,3,5,7,9,10,11,12,13,15,17,18,19,20,21,22,\n",
    "                23,24,25,27,28,29,31,32,33,34,35,37,39,40,41,42,43,44,\n",
    "                45,46,47,48,49,50,51,52,69,70,71,72,73,74,75,76,77,78,\n",
    "                79,80,81,82,83,84,85,90,93,95,96,97,98,99,100,101,104,105,\n",
    "                106,107,108,109,110,111,112,113,114,116,117,118,119,126,128,129,130,131,\n",
    "                132,133,136,137,138,139,140,142,143,144]\n",
    "\n",
    "# get columns name by index\n",
    "data = data[data.columns[selected_index]]\n",
    "data.shape"
   ]
  },
  {
   "cell_type": "code",
   "execution_count": 4,
   "metadata": {},
   "outputs": [],
   "source": [
    "# Making training and test data: 80% Training, 20% Test\n",
    "random.seed(15) #to get always the same set\n",
    "train_X, test_X, train_Y, test_Y = train_test_split(data, y, test_size=0.20, random_state=7)"
   ]
  },
  {
   "cell_type": "code",
   "execution_count": 5,
   "metadata": {},
   "outputs": [],
   "source": [
    "# Saving test files\n",
    "# test_X.to_csv(\"../../data/output/test_X.csv\", index=False)\n",
    "# test_Y.to_csv(\"../../data/output/test_Y.csv\", index=False)\n",
    "\n",
    "# Reading same test files to be used in the same experiments\n",
    "test_path = '../../data/output/' + city\n",
    "\n",
    "test_X = pd.read_csv(test_path + '/test_X.csv')\n",
    "test_Y = pd.read_csv(test_path + '/test_Y.csv')"
   ]
  },
  {
   "cell_type": "markdown",
   "metadata": {},
   "source": [
    "### Random Forest"
   ]
  },
  {
   "cell_type": "markdown",
   "metadata": {},
   "source": [
    "A random forest is a meta estimator that fits a number of classifying decision trees on various sub-samples of the dataset and uses averaging to improve the predictive accuracy and control over-fitting."
   ]
  },
  {
   "cell_type": "code",
   "execution_count": null,
   "metadata": {},
   "outputs": [
    {
     "name": "stderr",
     "output_type": "stream",
     "text": [
      "/home/veruska/.local/lib/python3.6/site-packages/sklearn/model_selection/_validation.py:515: DataConversionWarning: A column-vector y was passed when a 1d array was expected. Please change the shape of y to (n_samples,), for example using ravel().\n",
      "  estimator.fit(X_train, y_train, **fit_params)\n",
      "/home/veruska/.local/lib/python3.6/site-packages/sklearn/model_selection/_validation.py:515: DataConversionWarning: A column-vector y was passed when a 1d array was expected. Please change the shape of y to (n_samples,), for example using ravel().\n",
      "  estimator.fit(X_train, y_train, **fit_params)\n",
      "/home/veruska/.local/lib/python3.6/site-packages/sklearn/model_selection/_validation.py:515: DataConversionWarning: A column-vector y was passed when a 1d array was expected. Please change the shape of y to (n_samples,), for example using ravel().\n",
      "  estimator.fit(X_train, y_train, **fit_params)\n",
      "/home/veruska/.local/lib/python3.6/site-packages/sklearn/model_selection/_validation.py:515: DataConversionWarning: A column-vector y was passed when a 1d array was expected. Please change the shape of y to (n_samples,), for example using ravel().\n",
      "  estimator.fit(X_train, y_train, **fit_params)\n",
      "/home/veruska/.local/lib/python3.6/site-packages/sklearn/model_selection/_validation.py:515: DataConversionWarning: A column-vector y was passed when a 1d array was expected. Please change the shape of y to (n_samples,), for example using ravel().\n",
      "  estimator.fit(X_train, y_train, **fit_params)\n",
      "/home/veruska/.local/lib/python3.6/site-packages/sklearn/model_selection/_validation.py:515: DataConversionWarning: A column-vector y was passed when a 1d array was expected. Please change the shape of y to (n_samples,), for example using ravel().\n",
      "  estimator.fit(X_train, y_train, **fit_params)\n",
      "/home/veruska/.local/lib/python3.6/site-packages/sklearn/model_selection/_validation.py:515: DataConversionWarning: A column-vector y was passed when a 1d array was expected. Please change the shape of y to (n_samples,), for example using ravel().\n",
      "  estimator.fit(X_train, y_train, **fit_params)\n",
      "/home/veruska/.local/lib/python3.6/site-packages/sklearn/model_selection/_validation.py:515: DataConversionWarning: A column-vector y was passed when a 1d array was expected. Please change the shape of y to (n_samples,), for example using ravel().\n",
      "  estimator.fit(X_train, y_train, **fit_params)\n",
      "/home/veruska/.local/lib/python3.6/site-packages/sklearn/model_selection/_validation.py:515: DataConversionWarning: A column-vector y was passed when a 1d array was expected. Please change the shape of y to (n_samples,), for example using ravel().\n",
      "  estimator.fit(X_train, y_train, **fit_params)\n",
      "/home/veruska/.local/lib/python3.6/site-packages/sklearn/model_selection/_validation.py:515: DataConversionWarning: A column-vector y was passed when a 1d array was expected. Please change the shape of y to (n_samples,), for example using ravel().\n",
      "  estimator.fit(X_train, y_train, **fit_params)\n",
      "/home/veruska/.local/lib/python3.6/site-packages/sklearn/model_selection/_validation.py:515: DataConversionWarning: A column-vector y was passed when a 1d array was expected. Please change the shape of y to (n_samples,), for example using ravel().\n",
      "  estimator.fit(X_train, y_train, **fit_params)\n",
      "/home/veruska/.local/lib/python3.6/site-packages/sklearn/model_selection/_validation.py:515: DataConversionWarning: A column-vector y was passed when a 1d array was expected. Please change the shape of y to (n_samples,), for example using ravel().\n",
      "  estimator.fit(X_train, y_train, **fit_params)\n",
      "/home/veruska/.local/lib/python3.6/site-packages/sklearn/model_selection/_validation.py:515: DataConversionWarning: A column-vector y was passed when a 1d array was expected. Please change the shape of y to (n_samples,), for example using ravel().\n",
      "  estimator.fit(X_train, y_train, **fit_params)\n",
      "/home/veruska/.local/lib/python3.6/site-packages/sklearn/model_selection/_validation.py:515: DataConversionWarning: A column-vector y was passed when a 1d array was expected. Please change the shape of y to (n_samples,), for example using ravel().\n",
      "  estimator.fit(X_train, y_train, **fit_params)\n",
      "/home/veruska/.local/lib/python3.6/site-packages/sklearn/model_selection/_validation.py:515: DataConversionWarning: A column-vector y was passed when a 1d array was expected. Please change the shape of y to (n_samples,), for example using ravel().\n",
      "  estimator.fit(X_train, y_train, **fit_params)\n",
      "/home/veruska/.local/lib/python3.6/site-packages/sklearn/model_selection/_validation.py:515: DataConversionWarning: A column-vector y was passed when a 1d array was expected. Please change the shape of y to (n_samples,), for example using ravel().\n",
      "  estimator.fit(X_train, y_train, **fit_params)\n",
      "/home/veruska/.local/lib/python3.6/site-packages/sklearn/model_selection/_validation.py:515: DataConversionWarning: A column-vector y was passed when a 1d array was expected. Please change the shape of y to (n_samples,), for example using ravel().\n",
      "  estimator.fit(X_train, y_train, **fit_params)\n",
      "/home/veruska/.local/lib/python3.6/site-packages/sklearn/model_selection/_validation.py:515: DataConversionWarning: A column-vector y was passed when a 1d array was expected. Please change the shape of y to (n_samples,), for example using ravel().\n",
      "  estimator.fit(X_train, y_train, **fit_params)\n",
      "/home/veruska/.local/lib/python3.6/site-packages/sklearn/model_selection/_validation.py:515: DataConversionWarning: A column-vector y was passed when a 1d array was expected. Please change the shape of y to (n_samples,), for example using ravel().\n",
      "  estimator.fit(X_train, y_train, **fit_params)\n",
      "/home/veruska/.local/lib/python3.6/site-packages/sklearn/model_selection/_validation.py:515: DataConversionWarning: A column-vector y was passed when a 1d array was expected. Please change the shape of y to (n_samples,), for example using ravel().\n",
      "  estimator.fit(X_train, y_train, **fit_params)\n",
      "/home/veruska/.local/lib/python3.6/site-packages/sklearn/model_selection/_validation.py:515: DataConversionWarning: A column-vector y was passed when a 1d array was expected. Please change the shape of y to (n_samples,), for example using ravel().\n",
      "  estimator.fit(X_train, y_train, **fit_params)\n",
      "/home/veruska/.local/lib/python3.6/site-packages/sklearn/model_selection/_validation.py:515: DataConversionWarning: A column-vector y was passed when a 1d array was expected. Please change the shape of y to (n_samples,), for example using ravel().\n",
      "  estimator.fit(X_train, y_train, **fit_params)\n",
      "/home/veruska/.local/lib/python3.6/site-packages/sklearn/model_selection/_validation.py:515: DataConversionWarning: A column-vector y was passed when a 1d array was expected. Please change the shape of y to (n_samples,), for example using ravel().\n",
      "  estimator.fit(X_train, y_train, **fit_params)\n",
      "/home/veruska/.local/lib/python3.6/site-packages/sklearn/model_selection/_validation.py:515: DataConversionWarning: A column-vector y was passed when a 1d array was expected. Please change the shape of y to (n_samples,), for example using ravel().\n",
      "  estimator.fit(X_train, y_train, **fit_params)\n",
      "/home/veruska/.local/lib/python3.6/site-packages/sklearn/model_selection/_validation.py:515: DataConversionWarning: A column-vector y was passed when a 1d array was expected. Please change the shape of y to (n_samples,), for example using ravel().\n",
      "  estimator.fit(X_train, y_train, **fit_params)\n"
     ]
    },
    {
     "data": {
      "image/png": "[encoded data removed]",
      "text/plain": [
       "<Figure size 432x288 with 1 Axes>"
      ]
     },
     "metadata": {},
     "output_type": "display_data"
    }
   ],
   "source": [
    "start = time.time()\n",
    "\n",
    "n_estimators = [10, 50, 100, 120, 150] #number of trees\n",
    "cv_rf_rmse = [rmse_cv(RandomForestClassifier(n_estimators = n, n_jobs=-1), train_X, train_Y).mean() \n",
    "            for n in n_estimators]\n",
    "\n",
    "series = pd.Series(cv_rf_rmse, index = n_estimators)\n",
    "plot_rmse_param(series, \"n_estimators\")\n",
    "best_rmse_rf, best_estimator_rf = best_rmse_param(series)"
   ]
  },
  {
   "cell_type": "code",
   "execution_count": null,
   "metadata": {},
   "outputs": [
    {
     "name": "stderr",
     "output_type": "stream",
     "text": [
      "/home/veruska/.local/lib/python3.6/site-packages/sklearn/model_selection/_validation.py:515: DataConversionWarning: A column-vector y was passed when a 1d array was expected. Please change the shape of y to (n_samples,), for example using ravel().\n",
      "  estimator.fit(X_train, y_train, **fit_params)\n",
      "/home/veruska/.local/lib/python3.6/site-packages/sklearn/model_selection/_validation.py:515: DataConversionWarning: A column-vector y was passed when a 1d array was expected. Please change the shape of y to (n_samples,), for example using ravel().\n",
      "  estimator.fit(X_train, y_train, **fit_params)\n",
      "/home/veruska/.local/lib/python3.6/site-packages/sklearn/model_selection/_validation.py:515: DataConversionWarning: A column-vector y was passed when a 1d array was expected. Please change the shape of y to (n_samples,), for example using ravel().\n",
      "  estimator.fit(X_train, y_train, **fit_params)\n",
      "/home/veruska/.local/lib/python3.6/site-packages/sklearn/model_selection/_validation.py:515: DataConversionWarning: A column-vector y was passed when a 1d array was expected. Please change the shape of y to (n_samples,), for example using ravel().\n",
      "  estimator.fit(X_train, y_train, **fit_params)\n",
      "/home/veruska/.local/lib/python3.6/site-packages/sklearn/model_selection/_validation.py:515: DataConversionWarning: A column-vector y was passed when a 1d array was expected. Please change the shape of y to (n_samples,), for example using ravel().\n",
      "  estimator.fit(X_train, y_train, **fit_params)\n",
      "/home/veruska/.local/lib/python3.6/site-packages/sklearn/model_selection/_validation.py:515: DataConversionWarning: A column-vector y was passed when a 1d array was expected. Please change the shape of y to (n_samples,), for example using ravel().\n",
      "  estimator.fit(X_train, y_train, **fit_params)\n",
      "/home/veruska/.local/lib/python3.6/site-packages/sklearn/model_selection/_validation.py:515: DataConversionWarning: A column-vector y was passed when a 1d array was expected. Please change the shape of y to (n_samples,), for example using ravel().\n",
      "  estimator.fit(X_train, y_train, **fit_params)\n",
      "/home/veruska/.local/lib/python3.6/site-packages/sklearn/model_selection/_validation.py:515: DataConversionWarning: A column-vector y was passed when a 1d array was expected. Please change the shape of y to (n_samples,), for example using ravel().\n",
      "  estimator.fit(X_train, y_train, **fit_params)\n",
      "/home/veruska/.local/lib/python3.6/site-packages/sklearn/model_selection/_validation.py:515: DataConversionWarning: A column-vector y was passed when a 1d array was expected. Please change the shape of y to (n_samples,), for example using ravel().\n",
      "  estimator.fit(X_train, y_train, **fit_params)\n",
      "/home/veruska/.local/lib/python3.6/site-packages/sklearn/model_selection/_validation.py:515: DataConversionWarning: A column-vector y was passed when a 1d array was expected. Please change the shape of y to (n_samples,), for example using ravel().\n",
      "  estimator.fit(X_train, y_train, **fit_params)\n",
      "/home/veruska/.local/lib/python3.6/site-packages/sklearn/model_selection/_validation.py:515: DataConversionWarning: A column-vector y was passed when a 1d array was expected. Please change the shape of y to (n_samples,), for example using ravel().\n",
      "  estimator.fit(X_train, y_train, **fit_params)\n",
      "/home/veruska/.local/lib/python3.6/site-packages/sklearn/model_selection/_validation.py:515: DataConversionWarning: A column-vector y was passed when a 1d array was expected. Please change the shape of y to (n_samples,), for example using ravel().\n",
      "  estimator.fit(X_train, y_train, **fit_params)\n",
      "/home/veruska/.local/lib/python3.6/site-packages/sklearn/model_selection/_validation.py:515: DataConversionWarning: A column-vector y was passed when a 1d array was expected. Please change the shape of y to (n_samples,), for example using ravel().\n",
      "  estimator.fit(X_train, y_train, **fit_params)\n",
      "/home/veruska/.local/lib/python3.6/site-packages/sklearn/model_selection/_validation.py:515: DataConversionWarning: A column-vector y was passed when a 1d array was expected. Please change the shape of y to (n_samples,), for example using ravel().\n",
      "  estimator.fit(X_train, y_train, **fit_params)\n",
      "/home/veruska/.local/lib/python3.6/site-packages/sklearn/model_selection/_validation.py:515: DataConversionWarning: A column-vector y was passed when a 1d array was expected. Please change the shape of y to (n_samples,), for example using ravel().\n",
      "  estimator.fit(X_train, y_train, **fit_params)\n"
     ]
    }
   ],
   "source": [
    "n_min_samples_split = [5, 10, 15, 20, 25]\n",
    "cv_rf_rmse = [rmse_cv(RandomForestClassifier(n_estimators = best_estimator_rf, min_samples_split = n, n_jobs=-1), \n",
    "                      train_X, train_Y).mean() \n",
    "            for n in n_min_samples_split]\n",
    "\n",
    "series = pd.Series(cv_rf_rmse, index = n_min_samples_split)\n",
    "plot_rmse_param(series, \"n_min_samples_split\")\n",
    "best_rmse_rf, best_split_rf = best_rmse_param(series)"
   ]
  },
  {
   "cell_type": "code",
   "execution_count": null,
   "metadata": {},
   "outputs": [],
   "source": [
    "n_features = [0.25, 0.33, 0.5, 0.75, 0.8]\n",
    "cv_rf_rmse = [rmse_cv(RandomForestClassifier(n_estimators=best_estimator_rf, min_samples_split=best_split_rf,\n",
    "                                            max_features=n, n_jobs=-1), \n",
    "                      train_X, train_Y).mean() \n",
    "            for n in n_features]\n",
    "\n",
    "series = pd.Series(cv_rf_rmse, index = n_features)\n",
    "plot_rmse_param(series, \"max_features\")\n",
    "best_rmse_rf, best_max_feat_rf = best_rmse_param(series)"
   ]
  },
  {
   "cell_type": "code",
   "execution_count": 11,
   "metadata": {},
   "outputs": [
    {
     "name": "stdout",
     "output_type": "stream",
     "text": [
      "best_estimator_rf: 150\n",
      "best_split_rf: 5\n",
      "best_max_features_rf: 0.8\n"
     ]
    }
   ],
   "source": [
    "#Curitiba\n",
    "print(\"best_estimator_rf: \" + str(best_estimator_rf))\n",
    "print(\"best_split_rf: \" + str(best_split_rf))\n",
    "print(\"best_max_features_rf: \" + str(best_max_feat_rf))"
   ]
  },
  {
   "cell_type": "code",
   "execution_count": 6,
   "metadata": {},
   "outputs": [],
   "source": [
    "best_estimator_rf = 100\n",
    "best_split_rf = 5\n",
    "best_max_feat_rf = 0.8"
   ]
  },
  {
   "cell_type": "code",
   "execution_count": 16,
   "metadata": {},
   "outputs": [
    {
     "name": "stdout",
     "output_type": "stream",
     "text": [
      "best_estimator_rf: 100\n",
      "best_split_rf: 5\n",
      "best_max_features_rf: 0.8\n"
     ]
    }
   ],
   "source": [
    "#Recife\n",
    "print(\"best_estimator_rf: \" + str(best_estimator_rf))\n",
    "print(\"best_split_rf: \" + str(best_split_rf))\n",
    "print(\"best_max_features_rf: \" + str(best_max_feat_rf))"
   ]
  },
  {
   "cell_type": "code",
   "execution_count": 7,
   "metadata": {},
   "outputs": [
    {
     "name": "stderr",
     "output_type": "stream",
     "text": [
      "A column-vector y was passed when a 1d array was expected. Please change the shape of y to (n_samples,), for example using ravel().\n"
     ]
    },
    {
     "name": "stdout",
     "output_type": "stream",
     "text": [
      "Execution time: 24.46661021709442 min\n"
     ]
    }
   ],
   "source": [
    "#Recife\n",
    "random.seed(42)\n",
    "\n",
    "try:\n",
    "    start\n",
    "except NameError: # start does not exist at all\n",
    "    start = time.time()\n",
    "\n",
    "rf = RandomForestClassifier(n_estimators=best_estimator_rf, min_samples_split=best_split_rf,\n",
    "                           max_features=best_max_feat_rf, n_jobs=-1)\n",
    "rf.fit(train_X, train_Y)\n",
    "\n",
    "end = time.time()\n",
    "print(\"Execution time: \" + str((end - start)/60) + \" min\")"
   ]
  },
  {
   "cell_type": "code",
   "execution_count": 20,
   "metadata": {},
   "outputs": [
    {
     "name": "stderr",
     "output_type": "stream",
     "text": [
      "/home/veruska/.local/lib/python3.6/site-packages/ipykernel_launcher.py:10: DataConversionWarning: A column-vector y was passed when a 1d array was expected. Please change the shape of y to (n_samples,), for example using ravel().\n",
      "  # Remove the CWD from sys.path while we load stuff.\n"
     ]
    },
    {
     "name": "stdout",
     "output_type": "stream",
     "text": [
      "Execution time: 30.421087340513864 min\n"
     ]
    }
   ],
   "source": [
    "#Recife - all data\n",
    "random.seed(42)\n",
    "\n",
    "try:\n",
    "    start\n",
    "except NameError: # start does not exist at all\n",
    "    start = time.time()\n",
    "\n",
    "rf = RandomForestClassifier(n_estimators=best_estimator_rf, min_samples_split=best_split_rf,\n",
    "                           max_features=best_max_feat_rf, n_jobs=-1)\n",
    "rf.fit(train_X, train_Y)\n",
    "\n",
    "end = time.time()\n",
    "print(\"Execution time: \" + str((end - start)/60) + \" min\")"
   ]
  },
  {
   "cell_type": "code",
   "execution_count": 9,
   "metadata": {},
   "outputs": [
    {
     "name": "stderr",
     "output_type": "stream",
     "text": [
      "/home/veruska/.local/lib/python3.6/site-packages/sklearn/model_selection/_search.py:739: DataConversionWarning: A column-vector y was passed when a 1d array was expected. Please change the shape of y to (n_samples,), for example using ravel().\n",
      "  self.best_estimator_.fit(X, y, **fit_params)\n"
     ]
    },
    {
     "name": "stdout",
     "output_type": "stream",
     "text": [
      "Execution time: 137.12549107869467 min\n"
     ]
    },
    {
     "ename": "TypeError",
     "evalue": "must be str, not dict",
     "output_type": "error",
     "traceback": [
      "\u001b[0;31m---------------------------------------------------------------------------\u001b[0m",
      "\u001b[0;31mTypeError\u001b[0m                                 Traceback (most recent call last)",
      "\u001b[0;32m<ipython-input-9-f6f943c44587>\u001b[0m in \u001b[0;36m<module>\u001b[0;34m\u001b[0m\n\u001b[1;32m     15\u001b[0m \u001b[0mend\u001b[0m \u001b[0;34m=\u001b[0m \u001b[0mtime\u001b[0m\u001b[0;34m.\u001b[0m\u001b[0mtime\u001b[0m\u001b[0;34m(\u001b[0m\u001b[0;34m)\u001b[0m\u001b[0;34m\u001b[0m\u001b[0;34m\u001b[0m\u001b[0m\n\u001b[1;32m     16\u001b[0m \u001b[0mprint\u001b[0m\u001b[0;34m(\u001b[0m\u001b[0;34m\"Execution time: \"\u001b[0m \u001b[0;34m+\u001b[0m \u001b[0mstr\u001b[0m\u001b[0;34m(\u001b[0m\u001b[0;34m(\u001b[0m\u001b[0mend\u001b[0m \u001b[0;34m-\u001b[0m \u001b[0mstart\u001b[0m\u001b[0;34m)\u001b[0m\u001b[0;34m/\u001b[0m\u001b[0;36m60\u001b[0m\u001b[0;34m)\u001b[0m \u001b[0;34m+\u001b[0m \u001b[0;34m\" min\"\u001b[0m\u001b[0;34m)\u001b[0m\u001b[0;34m\u001b[0m\u001b[0;34m\u001b[0m\u001b[0m\n\u001b[0;32m---> 17\u001b[0;31m \u001b[0mprint\u001b[0m\u001b[0;34m(\u001b[0m\u001b[0;34m\"The best parameters values are: \"\u001b[0m \u001b[0;34m+\u001b[0m \u001b[0mgridS\u001b[0m\u001b[0;34m.\u001b[0m\u001b[0mget_params\u001b[0m\u001b[0;34m(\u001b[0m\u001b[0;34m)\u001b[0m\u001b[0;34m)\u001b[0m\u001b[0;34m\u001b[0m\u001b[0;34m\u001b[0m\u001b[0m\n\u001b[0m",
      "\u001b[0;31mTypeError\u001b[0m: must be str, not dict"
     ]
    }
   ],
   "source": [
    "# City A\n",
    "# GridSearch to find best parameter values using the smaller dataset (5%)\n",
    "random.seed(42)\n",
    "\n",
    "rf_parameters = {\n",
    "    'n_estimators':[25, 50, 75, 100, 125, 150],\n",
    "    'min_samples_split':[1, 5, 10, 15, 20, 25],\n",
    "    'max_features':[0.5, 0.6, 0.7, 0.8, 0.9]\n",
    "}\n",
    "\n",
    "start = time.time()\n",
    "\n",
    "rf = RandomForestClassifier()\n",
    "gridS = GridSearchCV(rf, rf_parameters, scoring=make_scorer(f1_score), n_jobs=-1)\n",
    "gridS.fit(data, y)\n",
    "\n",
    "end = time.time()\n",
    "print(\"Execution time: \" + str((end - start)/60) + \" min\")\n",
    "print(\"The best parameters values are: \" + gridS.get_params())"
   ]
  },
  {
   "cell_type": "code",
   "execution_count": 11,
   "metadata": {},
   "outputs": [
    {
     "data": {
      "text/plain": [
       "RandomForestClassifier(bootstrap=True, ccp_alpha=0.0, class_weight=None,\n",
       "                       criterion='gini', max_depth=None, max_features=0.9,\n",
       "                       max_leaf_nodes=None, max_samples=None,\n",
       "                       min_impurity_decrease=0.0, min_impurity_split=None,\n",
       "                       min_samples_leaf=1, min_samples_split=15,\n",
       "                       min_weight_fraction_leaf=0.0, n_estimators=25,\n",
       "                       n_jobs=None, oob_score=False, random_state=None,\n",
       "                       verbose=0, warm_start=False)"
      ]
     },
     "execution_count": 11,
     "metadata": {},
     "output_type": "execute_result"
    }
   ],
   "source": [
    "gridS.best_estimator_"
   ]
  },
  {
   "cell_type": "code",
   "execution_count": 5,
   "metadata": {},
   "outputs": [
    {
     "name": "stderr",
     "output_type": "stream",
     "text": [
      "/home/veruska/.local/lib/python3.6/site-packages/ipykernel_launcher.py:10: DataConversionWarning: A column-vector y was passed when a 1d array was expected. Please change the shape of y to (n_samples,), for example using ravel().\n",
      "  # Remove the CWD from sys.path while we load stuff.\n"
     ]
    },
    {
     "name": "stdout",
     "output_type": "stream",
     "text": [
      "Execution time: 7.436480136712392 min\n"
     ]
    }
   ],
   "source": [
    "# Random Forest after GridSearch\n",
    "\n",
    "# values of the gridSearch (previous step)\n",
    "best_estimator_rf = 25\n",
    "best_split_rf = 15\n",
    "best_max_feat_rf = 0.9\n",
    "\n",
    "start = time.time()\n",
    "\n",
    "rf = RandomForestClassifier(n_estimators=best_estimator_rf, min_samples_split=best_split_rf,\n",
    "                           max_features=best_max_feat_rf, n_jobs=-1)\n",
    "rf.fit(train_X, train_Y)\n",
    "\n",
    "end = time.time()\n",
    "print(\"Execution time: \" + str((end - start)/60) + \" min\")"
   ]
  },
  {
   "cell_type": "code",
   "execution_count": null,
   "metadata": {},
   "outputs": [
    {
     "name": "stderr",
     "output_type": "stream",
     "text": [
      "/usr/lib/python3/dist-packages/ipykernel_launcher.py:11: DataConversionWarning: A column-vector y was passed when a 1d array was expected. Please change the shape of y to (n_samples,), for example using ravel().\n",
      "  # This is added back by InteractiveShellApp.init_path()\n"
     ]
    }
   ],
   "source": [
    "#Curitiba\n",
    "random.seed(42)\n",
    "\n",
    "try:\n",
    "    start\n",
    "except NameError: # start does not exist at all\n",
    "    start = time.time()\n",
    "\n",
    "rf = RandomForestClassifier(n_estimators=best_estimator_rf, min_samples_split=best_split_rf,\n",
    "                           max_features=best_max_feat_rf, n_jobs=-1)\n",
    "rf.fit(train_X, train_Y)\n",
    "\n",
    "end = time.time()\n",
    "print(\"Execution time: \" + str((end - start)/60) + \" min\")"
   ]
  },
  {
   "cell_type": "code",
   "execution_count": 17,
   "metadata": {},
   "outputs": [
    {
     "name": "stdout",
     "output_type": "stream",
     "text": [
      "Execution time: 2931.5283333977063 min\n"
     ]
    }
   ],
   "source": [
    "print(\"Execution time: \" + str((end - start)/60) + \" min\")"
   ]
  },
  {
   "cell_type": "code",
   "execution_count": 18,
   "metadata": {},
   "outputs": [
    {
     "data": {
      "text/plain": [
       "['Saved_Recife_RF_100_5_08_BB_class_5000.pkl']"
      ]
     },
     "execution_count": 18,
     "metadata": {},
     "output_type": "execute_result"
    }
   ],
   "source": [
    "# Saving a pickle file for the model\n",
    "joblib.dump(rf, 'Saved_Recife_RF_100_5_08_BB_class_' + str(data_size) + '.pkl')"
   ]
  },
  {
   "cell_type": "code",
   "execution_count": null,
   "metadata": {},
   "outputs": [],
   "source": []
  },
  {
   "cell_type": "code",
   "execution_count": 8,
   "metadata": {},
   "outputs": [
    {
     "data": {
      "text/plain": [
       "['Saved_Curitiba_RF_10_5_08_gps_gtfs_BB_class.pkl']"
      ]
     },
     "execution_count": 8,
     "metadata": {},
     "output_type": "execute_result"
    }
   ],
   "source": [
    "# Saving a pickle file for the model\n",
    "joblib.dump(rf, 'Saved_Curitiba_RF_10_5_08_gps_gtfs_BB_class.pkl')"
   ]
  },
  {
   "cell_type": "markdown",
   "metadata": {},
   "source": [
    "### SHAP values"
   ]
  },
  {
   "cell_type": "markdown",
   "metadata": {},
   "source": [
    "#### City A"
   ]
  },
  {
   "cell_type": "code",
   "execution_count": null,
   "metadata": {},
   "outputs": [],
   "source": [
    "# explain the model's predictions using SHAP\n",
    "explainer = shap.TreeExplainer(rf)\n",
    "shap_values = explainer.shap_values(train_X)\n",
    "shap.summary_plot(shap_values, train_X, plot_type=\"bar\")"
   ]
  },
  {
   "cell_type": "markdown",
   "metadata": {},
   "source": [
    "#### Curitiba"
   ]
  },
  {
   "cell_type": "code",
   "execution_count": null,
   "metadata": {},
   "outputs": [],
   "source": [
    "# explain the model's predictions using SHAP\n",
    "explainer = shap.TreeExplainer(rf)\n",
    "shap_values = explainer.shap_values(train_X)\n",
    "shap.summary_plot(shap_values, train_X, plot_type=\"bar\")"
   ]
  },
  {
   "cell_type": "markdown",
   "metadata": {},
   "source": [
    "### Evaluating model"
   ]
  },
  {
   "cell_type": "code",
   "execution_count": 8,
   "metadata": {},
   "outputs": [],
   "source": [
    "def get_quality(bb_pred):\n",
    "    #headway\n",
    "    #alpha = y.headwayThreshold[test_Y.index]\n",
    "    \n",
    "    #bb_pred = np.less_equal(pred, alpha)\n",
    "    #bb_label = np.less_equal(test_Y, alpha)\n",
    "    \n",
    "    #rmse = np.sqrt(mean_squared_error(test_Y, pred))\n",
    "    #print('RMSE: ' + str(rmse))\n",
    "    \n",
    "    bb_label = test_Y\n",
    "    \n",
    "    # Bus Bunching\n",
    "    print(\"Accuracy: \" + str(accuracy_score(bb_label, bb_pred)))\n",
    "    print(\"Precision: \" + str(precision_score(bb_label, bb_pred)))\n",
    "    print(\"Recall: \" + str(recall_score(bb_label, bb_pred)))\n",
    "    print(\"F-measure: \" + str(f1_score(bb_label, bb_pred)))"
   ]
  },
  {
   "cell_type": "code",
   "execution_count": 7,
   "metadata": {},
   "outputs": [
    {
     "data": {
      "text/plain": [
       "array([0., 1., 0., ..., 0., 0., 0.])"
      ]
     },
     "execution_count": 7,
     "metadata": {},
     "output_type": "execute_result"
    }
   ],
   "source": [
    "pred_array = rf.predict(test_X)\n",
    "pred_array"
   ]
  },
  {
   "cell_type": "markdown",
   "metadata": {},
   "source": [
    "R2 coefficient (score) of determination is a statistical measure of how well the regression predictions approximate the real data points. The best one is 1."
   ]
  },
  {
   "cell_type": "code",
   "execution_count": 8,
   "metadata": {},
   "outputs": [
    {
     "name": "stdout",
     "output_type": "stream",
     "text": [
      "0.9449475965615806 of the data is been explained by the model.\n"
     ]
    }
   ],
   "source": [
    "r2 = rf.score(test_X, test_Y)\n",
    "print(str(r2) + \" of the data is been explained by the model.\")"
   ]
  },
  {
   "cell_type": "markdown",
   "metadata": {},
   "source": [
    "### City A"
   ]
  },
  {
   "cell_type": "code",
   "execution_count": 9,
   "metadata": {},
   "outputs": [
    {
     "name": "stdout",
     "output_type": "stream",
     "text": [
      "Accuracy: 0.9449475965615806\n",
      "Precision: 0.8895684559401373\n",
      "Recall: 0.6748839982372916\n",
      "F-measure: 0.767496020281823\n"
     ]
    }
   ],
   "source": [
    "get_quality(pred_array) # 100%"
   ]
  },
  {
   "cell_type": "markdown",
   "metadata": {},
   "source": [
    "### Curitiba"
   ]
  },
  {
   "cell_type": "code",
   "execution_count": 17,
   "metadata": {},
   "outputs": [
    {
     "name": "stdout",
     "output_type": "stream",
     "text": [
      "Accuracy: 0.9728333333333333\n",
      "Precision: 0.9343065693430657\n",
      "Recall: 0.7384615384615385\n",
      "F-measure: 0.8249194414607948\n"
     ]
    }
   ],
   "source": [
    "get_quality(pred_array) #30000"
   ]
  },
  {
   "cell_type": "code",
   "execution_count": 27,
   "metadata": {},
   "outputs": [
    {
     "name": "stdout",
     "output_type": "stream",
     "text": [
      "Accuracy: 0.9698\n",
      "Precision: 0.9042904290429042\n",
      "Recall: 0.6919191919191919\n",
      "F-measure: 0.7839771101573676\n"
     ]
    }
   ],
   "source": [
    "get_quality(pred_array) #25000"
   ]
  },
  {
   "cell_type": "code",
   "execution_count": 37,
   "metadata": {},
   "outputs": [
    {
     "name": "stdout",
     "output_type": "stream",
     "text": [
      "Accuracy: 0.972\n",
      "Precision: 0.8990384615384616\n",
      "Recall: 0.6726618705035972\n",
      "F-measure: 0.7695473251028807\n"
     ]
    }
   ],
   "source": [
    "get_quality(pred_array) #20000"
   ]
  },
  {
   "cell_type": "code",
   "execution_count": 47,
   "metadata": {},
   "outputs": [
    {
     "name": "stdout",
     "output_type": "stream",
     "text": [
      "Accuracy: 0.969\n",
      "Precision: 0.9019607843137255\n",
      "Recall: 0.5257142857142857\n",
      "F-measure: 0.6642599277978339\n"
     ]
    }
   ],
   "source": [
    "get_quality(pred_array) #15000"
   ]
  },
  {
   "cell_type": "code",
   "execution_count": 11,
   "metadata": {},
   "outputs": [
    {
     "name": "stdout",
     "output_type": "stream",
     "text": [
      "Accuracy: 0.9845\n",
      "Precision: 0.9666666666666667\n",
      "Recall: 0.4915254237288136\n",
      "F-measure: 0.651685393258427\n"
     ]
    }
   ],
   "source": [
    "get_quality(pred_array) #10000"
   ]
  },
  {
   "cell_type": "code",
   "execution_count": 21,
   "metadata": {},
   "outputs": [
    {
     "name": "stdout",
     "output_type": "stream",
     "text": [
      "Accuracy: 0.99\n",
      "Precision: 0.0\n",
      "Recall: 0.0\n",
      "F-measure: 0.0\n"
     ]
    },
    {
     "name": "stderr",
     "output_type": "stream",
     "text": [
      "/home/veruska/.local/lib/python3.6/site-packages/sklearn/metrics/_classification.py:1272: UndefinedMetricWarning: Precision is ill-defined and being set to 0.0 due to no predicted samples. Use `zero_division` parameter to control this behavior.\n",
      "  _warn_prf(average, modifier, msg_start, len(result))\n"
     ]
    }
   ],
   "source": [
    "get_quality(pred_array) #5000"
   ]
  },
  {
   "cell_type": "code",
   "execution_count": null,
   "metadata": {},
   "outputs": [],
   "source": []
  },
  {
   "cell_type": "code",
   "execution_count": 10,
   "metadata": {},
   "outputs": [
    {
     "name": "stdout",
     "output_type": "stream",
     "text": [
      "Accuracy: 0.9517741783496844\n",
      "Precision: 0.9029391660970608\n",
      "Recall: 0.7191072400653239\n",
      "F-measure: 0.8006060606060607\n"
     ]
    }
   ],
   "source": [
    "get_quality(pred_array) # all data"
   ]
  },
  {
   "cell_type": "code",
   "execution_count": 11,
   "metadata": {},
   "outputs": [
    {
     "name": "stdout",
     "output_type": "stream",
     "text": [
      "Accuracy: 0.9520115032789231\n",
      "Precision: 0.9019004759283841\n",
      "Recall: 0.7221142131321772\n",
      "F-measure: 0.8020557411033052\n"
     ]
    }
   ],
   "source": [
    "# Recife - gps+gtfs+waze\n",
    "print(\"Accuracy: \" + str(accuracy))\n",
    "print(\"Precision: \" + str(precision))\n",
    "print(\"Recall: \" + str(recall))\n",
    "print(\"F-measure: \" + str(f_measure))"
   ]
  },
  {
   "cell_type": "code",
   "execution_count": 11,
   "metadata": {},
   "outputs": [
    {
     "name": "stdout",
     "output_type": "stream",
     "text": [
      "Accuracy: 0.9528561008212141\n",
      "Precision: 0.9019915974471633\n",
      "Recall: 0.7290613578038728\n",
      "F-measure: 0.8063591272685571\n"
     ]
    }
   ],
   "source": [
    "# Recife - gps+gtfs+weather\n",
    "print(\"Accuracy: \" + str(accuracy))\n",
    "print(\"Precision: \" + str(precision))\n",
    "print(\"Recall: \" + str(recall))\n",
    "print(\"F-measure: \" + str(f_measure))"
   ]
  },
  {
   "cell_type": "code",
   "execution_count": 11,
   "metadata": {},
   "outputs": [
    {
     "name": "stdout",
     "output_type": "stream",
     "text": [
      "Accuracy: 0.9533028300997811\n",
      "Precision: 0.9006774162770728\n",
      "Recall: 0.7341161832179797\n",
      "F-measure: 0.8089117395029991\n"
     ]
    }
   ],
   "source": [
    "# Recife - gps+gtfs\n",
    "print(\"Accuracy: \" + str(accuracy))\n",
    "print(\"Precision: \" + str(precision))\n",
    "print(\"Recall: \" + str(recall))\n",
    "print(\"F-measure: \" + str(f_measure))"
   ]
  },
  {
   "cell_type": "code",
   "execution_count": 16,
   "metadata": {},
   "outputs": [
    {
     "name": "stdout",
     "output_type": "stream",
     "text": [
      "Accuracy: 0.9811674021221688\n",
      "Precision: 0.8821594332709063\n",
      "Recall: 0.7702228099361572\n",
      "F-measure: 0.8223996842121244\n"
     ]
    }
   ],
   "source": [
    "# Curitiba - All\n",
    "print(\"Accuracy: \" + str(accuracy))\n",
    "print(\"Precision: \" + str(precision))\n",
    "print(\"Recall: \" + str(recall))\n",
    "print(\"F-measure: \" + str(f_measure))"
   ]
  },
  {
   "cell_type": "code",
   "execution_count": 24,
   "metadata": {},
   "outputs": [
    {
     "name": "stdout",
     "output_type": "stream",
     "text": [
      "Accuracy: 0.975\n",
      "Precision: 1.0\n",
      "Recall: 0.5454545454545454\n",
      "F-measure: 0.7058823529411764\n"
     ]
    }
   ],
   "source": [
    "# 1000, to compare with rvm\n",
    "print(\"Accuracy: \" + str(accuracy))\n",
    "print(\"Precision: \" + str(precision))\n",
    "print(\"Recall: \" + str(recall))\n",
    "print(\"F-measure: \" + str(f_measure))"
   ]
  },
  {
   "cell_type": "code",
   "execution_count": 11,
   "metadata": {},
   "outputs": [
    {
     "name": "stdout",
     "output_type": "stream",
     "text": [
      "Accuracy: 0.975\n",
      "Precision: 0.9753086419753086\n",
      "Recall: 0.8586956521739131\n",
      "F-measure: 0.9132947976878614\n"
     ]
    }
   ],
   "source": [
    "# 3000, to compare with rvm\n",
    "print(\"Accuracy: \" + str(accuracy))\n",
    "print(\"Precision: \" + str(precision))\n",
    "print(\"Recall: \" + str(recall))\n",
    "print(\"F-measure: \" + str(f_measure))"
   ]
  },
  {
   "cell_type": "code",
   "execution_count": 19,
   "metadata": {},
   "outputs": [
    {
     "name": "stdout",
     "output_type": "stream",
     "text": [
      "Accuracy: 0.8988542092019252\n",
      "Precision: 0.7688557659979828\n",
      "Recall: 0.3556782538818467\n",
      "F-measure: 0.4863619445970615\n"
     ]
    }
   ],
   "source": [
    "print(\"Accuracy: \" + str(accuracy))\n",
    "print(\"Precision: \" + str(precision))\n",
    "print(\"Recall: \" + str(recall))\n",
    "print(\"F-measure: \" + str(f_measure))"
   ]
  },
  {
   "cell_type": "markdown",
   "metadata": {},
   "source": [
    "### Graphs"
   ]
  },
  {
   "cell_type": "code",
   "execution_count": null,
   "metadata": {},
   "outputs": [],
   "source": [
    "sns.set(style=\"whitegrid\")\n",
    "\n",
    "# Plot the residuals after fitting a linear model\n",
    "ax = sns.residplot(test_Y, pred, color=\"g\")\n",
    "ax.set_title('Residuals')\n",
    "ax.set_ylim([-600, 600])\n"
   ]
  },
  {
   "cell_type": "code",
   "execution_count": null,
   "metadata": {},
   "outputs": [],
   "source": [
    "# Print all error to see if there is standard or some big outliers\n",
    "plt.figure()\n",
    "plt.plot(test_Y, pred, 'ro', ms=0.5)\n",
    "# plt.ylim(10, 40)\n",
    "plt.xlabel('Headway (Label)')\n",
    "plt.ylabel('Predicted Headway')\n",
    "plt.show()"
   ]
  },
  {
   "cell_type": "code",
   "execution_count": null,
   "metadata": {},
   "outputs": [],
   "source": [
    "diff = test_Y - np.array(pred).flatten()\n",
    "num_bins = 10\n",
    "width = 5\n",
    "height = 5\n",
    "plt.hist(diff, num_bins, facecolor='blue', alpha=0.5, log=True)\n",
    "plt.xlabel('Residual')\n",
    "plt.ylabel('Total')\n",
    "plt.title('Distribution of the residual (label - prediction)')\n",
    "plt.rcParams[\"figure.figsize\"] = (width,height) \n",
    "plt.show()"
   ]
  },
  {
   "cell_type": "code",
   "execution_count": null,
   "metadata": {},
   "outputs": [],
   "source": []
  },
  {
   "cell_type": "code",
   "execution_count": null,
   "metadata": {},
   "outputs": [],
   "source": [
    "# Features importance\n",
    "\n",
    "#create dictionary\n",
    "f_imps = {}\n",
    "for i in range(len(features)):\n",
    "    f_imps[features[i]] = rf.feature_importances_[i]\n",
    "    \n",
    "#sort dictionary \n",
    "sorted_feature_names = sorted(f_imps, key=f_imps.__getitem__, reverse=True)\n",
    "sorted_values = sorted(f_imps.values(), reverse=True)\n",
    "\n",
    "num_to_print = 20\n",
    "for i in range(num_to_print):\n",
    "    print(\"%15s %4.3f\" % (sorted_feature_names[i], sorted_values[i]))"
   ]
  }
 ],
 "metadata": {
  "kernelspec": {
   "display_name": "Python 3",
   "language": "python",
   "name": "python3"
  },
  "language_info": {
   "codemirror_mode": {
    "name": "ipython",
    "version": 3
   },
   "file_extension": ".py",
   "mimetype": "text/x-python",
   "name": "python",
   "nbconvert_exporter": "python",
   "pygments_lexer": "ipython3",
   "version": "3.6.9"
  }
 },
 "nbformat": 4,
 "nbformat_minor": 2
}
