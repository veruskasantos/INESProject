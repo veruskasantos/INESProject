{
 "cells": [
  {
   "cell_type": "code",
   "execution_count": 1,
   "metadata": {},
   "outputs": [
    {
     "name": "stderr",
     "output_type": "stream",
     "text": [
      "/home/veruska/.local/lib/python3.6/site-packages/sklearn/externals/joblib/__init__.py:15: DeprecationWarning: sklearn.externals.joblib is deprecated in 0.21 and will be removed in 0.23. Please import this functionality directly from joblib, which can be installed with: pip install joblib. If this warning is raised when loading pickled models, you may need to re-serialize those models with scikit-learn 0.21+.\n",
      "  warnings.warn(msg, category=DeprecationWarning)\n"
     ]
    }
   ],
   "source": [
    "import numpy as np\n",
    "import pandas as pd\n",
    "import random\n",
    "from sklearn.ensemble import RandomForestRegressor, RandomForestClassifier\n",
    "from sklearn.metrics import mean_squared_error, accuracy_score, precision_score, recall_score, f1_score\n",
    "from sklearn.model_selection import cross_val_score, train_test_split\n",
    "from sklearn.preprocessing import StandardScaler\n",
    "from sklearn import preprocessing\n",
    "import matplotlib.pyplot as plt\n",
    "import time\n",
    "import seaborn as sns\n",
    "from sklearn.externals import joblib\n",
    "import csv\n",
    "from numpy import genfromtxt"
   ]
  },
  {
   "cell_type": "code",
   "execution_count": 3,
   "metadata": {},
   "outputs": [
    {
     "name": "stdout",
     "output_type": "stream",
     "text": [
      "(1432633, 145)\n",
      "(1432633, 1)\n"
     ]
    },
    {
     "data": {
      "text/html": [
       "<div>\n",
       "<style scoped>\n",
       "    .dataframe tbody tr th:only-of-type {\n",
       "        vertical-align: middle;\n",
       "    }\n",
       "\n",
       "    .dataframe tbody tr th {\n",
       "        vertical-align: top;\n",
       "    }\n",
       "\n",
       "    .dataframe thead th {\n",
       "        text-align: right;\n",
       "    }\n",
       "</style>\n",
       "<table border=\"1\" class=\"dataframe\">\n",
       "  <thead>\n",
       "    <tr style=\"text-align: right;\">\n",
       "      <th></th>\n",
       "      <th>tripNum</th>\n",
       "      <th>shapeLat</th>\n",
       "      <th>shapeLon</th>\n",
       "      <th>distanceTraveledShape</th>\n",
       "      <th>distanceToShapePoint</th>\n",
       "      <th>stopPointId</th>\n",
       "      <th>precipitation</th>\n",
       "      <th>precipitationStationDistance</th>\n",
       "      <th>alertRoadType</th>\n",
       "      <th>alertConfidence</th>\n",
       "      <th>...</th>\n",
       "      <th>alertTypeSB_ACCIDENT</th>\n",
       "      <th>alertTypeSB_CHIT_CHAT</th>\n",
       "      <th>alertTypeSB_HAZARD</th>\n",
       "      <th>alertTypeSB_JAM</th>\n",
       "      <th>alertTypeSB_NORMAL</th>\n",
       "      <th>alertTypeSB_POLICE</th>\n",
       "      <th>alertTypeSB_ROAD_CLOSED</th>\n",
       "      <th>jamBlockTypeSB_-</th>\n",
       "      <th>jamBlockTypeSB_NORMAL</th>\n",
       "      <th>jamBlockTypeSB_ROAD_CLOSED_EVENT</th>\n",
       "    </tr>\n",
       "  </thead>\n",
       "  <tbody>\n",
       "    <tr>\n",
       "      <th>0</th>\n",
       "      <td>0.066667</td>\n",
       "      <td>0.264600</td>\n",
       "      <td>0.496150</td>\n",
       "      <td>0.057584</td>\n",
       "      <td>0.000000</td>\n",
       "      <td>0.337464</td>\n",
       "      <td>0.0</td>\n",
       "      <td>0.086264</td>\n",
       "      <td>0.166667</td>\n",
       "      <td>1.0</td>\n",
       "      <td>...</td>\n",
       "      <td>0</td>\n",
       "      <td>0</td>\n",
       "      <td>0</td>\n",
       "      <td>1</td>\n",
       "      <td>0</td>\n",
       "      <td>0</td>\n",
       "      <td>0</td>\n",
       "      <td>1</td>\n",
       "      <td>0</td>\n",
       "      <td>0</td>\n",
       "    </tr>\n",
       "    <tr>\n",
       "      <th>1</th>\n",
       "      <td>0.066667</td>\n",
       "      <td>0.270218</td>\n",
       "      <td>0.501802</td>\n",
       "      <td>0.064231</td>\n",
       "      <td>0.000520</td>\n",
       "      <td>0.337602</td>\n",
       "      <td>0.0</td>\n",
       "      <td>0.076526</td>\n",
       "      <td>0.166667</td>\n",
       "      <td>1.0</td>\n",
       "      <td>...</td>\n",
       "      <td>0</td>\n",
       "      <td>0</td>\n",
       "      <td>0</td>\n",
       "      <td>0</td>\n",
       "      <td>1</td>\n",
       "      <td>0</td>\n",
       "      <td>0</td>\n",
       "      <td>0</td>\n",
       "      <td>1</td>\n",
       "      <td>0</td>\n",
       "    </tr>\n",
       "    <tr>\n",
       "      <th>2</th>\n",
       "      <td>0.066667</td>\n",
       "      <td>0.273653</td>\n",
       "      <td>0.505296</td>\n",
       "      <td>0.068301</td>\n",
       "      <td>0.000000</td>\n",
       "      <td>0.337739</td>\n",
       "      <td>0.0</td>\n",
       "      <td>0.070547</td>\n",
       "      <td>0.166667</td>\n",
       "      <td>1.0</td>\n",
       "      <td>...</td>\n",
       "      <td>0</td>\n",
       "      <td>0</td>\n",
       "      <td>0</td>\n",
       "      <td>1</td>\n",
       "      <td>0</td>\n",
       "      <td>0</td>\n",
       "      <td>0</td>\n",
       "      <td>1</td>\n",
       "      <td>0</td>\n",
       "      <td>0</td>\n",
       "    </tr>\n",
       "    <tr>\n",
       "      <th>3</th>\n",
       "      <td>0.066667</td>\n",
       "      <td>0.277433</td>\n",
       "      <td>0.509404</td>\n",
       "      <td>0.072900</td>\n",
       "      <td>0.013820</td>\n",
       "      <td>0.337877</td>\n",
       "      <td>0.0</td>\n",
       "      <td>0.063791</td>\n",
       "      <td>0.166667</td>\n",
       "      <td>1.0</td>\n",
       "      <td>...</td>\n",
       "      <td>0</td>\n",
       "      <td>0</td>\n",
       "      <td>0</td>\n",
       "      <td>0</td>\n",
       "      <td>1</td>\n",
       "      <td>0</td>\n",
       "      <td>0</td>\n",
       "      <td>1</td>\n",
       "      <td>0</td>\n",
       "      <td>0</td>\n",
       "    </tr>\n",
       "    <tr>\n",
       "      <th>4</th>\n",
       "      <td>0.066667</td>\n",
       "      <td>0.280050</td>\n",
       "      <td>0.513166</td>\n",
       "      <td>0.077983</td>\n",
       "      <td>0.002486</td>\n",
       "      <td>0.297398</td>\n",
       "      <td>0.0</td>\n",
       "      <td>0.058487</td>\n",
       "      <td>0.166667</td>\n",
       "      <td>1.0</td>\n",
       "      <td>...</td>\n",
       "      <td>0</td>\n",
       "      <td>0</td>\n",
       "      <td>0</td>\n",
       "      <td>1</td>\n",
       "      <td>0</td>\n",
       "      <td>0</td>\n",
       "      <td>0</td>\n",
       "      <td>1</td>\n",
       "      <td>0</td>\n",
       "      <td>0</td>\n",
       "    </tr>\n",
       "  </tbody>\n",
       "</table>\n",
       "<p>5 rows × 145 columns</p>\n",
       "</div>"
      ],
      "text/plain": [
       "    tripNum  shapeLat  shapeLon  distanceTraveledShape  distanceToShapePoint  \\\n",
       "0  0.066667  0.264600  0.496150               0.057584              0.000000   \n",
       "1  0.066667  0.270218  0.501802               0.064231              0.000520   \n",
       "2  0.066667  0.273653  0.505296               0.068301              0.000000   \n",
       "3  0.066667  0.277433  0.509404               0.072900              0.013820   \n",
       "4  0.066667  0.280050  0.513166               0.077983              0.002486   \n",
       "\n",
       "   stopPointId  precipitation  precipitationStationDistance  alertRoadType  \\\n",
       "0     0.337464            0.0                      0.086264       0.166667   \n",
       "1     0.337602            0.0                      0.076526       0.166667   \n",
       "2     0.337739            0.0                      0.070547       0.166667   \n",
       "3     0.337877            0.0                      0.063791       0.166667   \n",
       "4     0.297398            0.0                      0.058487       0.166667   \n",
       "\n",
       "   alertConfidence  ...  alertTypeSB_ACCIDENT  alertTypeSB_CHIT_CHAT  \\\n",
       "0              1.0  ...                     0                      0   \n",
       "1              1.0  ...                     0                      0   \n",
       "2              1.0  ...                     0                      0   \n",
       "3              1.0  ...                     0                      0   \n",
       "4              1.0  ...                     0                      0   \n",
       "\n",
       "   alertTypeSB_HAZARD  alertTypeSB_JAM  alertTypeSB_NORMAL  \\\n",
       "0                   0                1                   0   \n",
       "1                   0                0                   1   \n",
       "2                   0                1                   0   \n",
       "3                   0                0                   1   \n",
       "4                   0                1                   0   \n",
       "\n",
       "   alertTypeSB_POLICE  alertTypeSB_ROAD_CLOSED  jamBlockTypeSB_-  \\\n",
       "0                   0                        0                 1   \n",
       "1                   0                        0                 0   \n",
       "2                   0                        0                 1   \n",
       "3                   0                        0                 1   \n",
       "4                   0                        0                 1   \n",
       "\n",
       "   jamBlockTypeSB_NORMAL  jamBlockTypeSB_ROAD_CLOSED_EVENT  \n",
       "0                      0                                 0  \n",
       "1                      1                                 0  \n",
       "2                      0                                 0  \n",
       "3                      0                                 0  \n",
       "4                      0                                 0  \n",
       "\n",
       "[5 rows x 145 columns]"
      ]
     },
     "execution_count": 3,
     "metadata": {},
     "output_type": "execute_result"
    }
   ],
   "source": [
    "data_path = '../../data/output/normalized_data_X_5p.csv'\n",
    "y_path = '../../data/output/y_5p.csv'\n",
    "\n",
    "data = pd.read_csv(data_path)\n",
    "y = pd.read_csv(y_path)\n",
    "print(data.shape)\n",
    "print(y.shape)\n",
    "data.head()"
   ]
  },
  {
   "cell_type": "code",
   "execution_count": 4,
   "metadata": {},
   "outputs": [
    {
     "data": {
      "text/plain": [
       "(1432633, 100)"
      ]
     },
     "execution_count": 4,
     "metadata": {},
     "output_type": "execute_result"
    }
   ],
   "source": [
    "selected_index=[0,1,2,3,5,7,9,10,11,12,13,15,17,18,19,20,21,22,\n",
    "                23,24,25,27,28,29,31,32,33,34,35,37,39,40,41,42,43,44,\n",
    "                45,46,47,48,49,50,51,52,69,70,71,72,73,74,75,76,77,78,\n",
    "                79,80,81,82,83,84,85,90,93,95,96,97,98,99,100,101,104,105,\n",
    "                106,107,108,109,110,111,112,113,114,116,117,118,119,126,128,129,130,131,\n",
    "                132,133,136,137,138,139,140,142,143,144]\n",
    "\n",
    "# get columns name by index\n",
    "data = data[data.columns[selected_index]]\n",
    "data.shape"
   ]
  },
  {
   "cell_type": "code",
   "execution_count": 5,
   "metadata": {},
   "outputs": [
    {
     "data": {
      "text/plain": [
       "0.13544362024328632"
      ]
     },
     "execution_count": 5,
     "metadata": {},
     "output_type": "execute_result"
    }
   ],
   "source": [
    "len(y[y.busBunching == 1]) / len(y)"
   ]
  },
  {
   "cell_type": "code",
   "execution_count": null,
   "metadata": {},
   "outputs": [],
   "source": [
    "# same data of rvm test\n",
    "data = data[0:3000]\n",
    "y = y[0:3000]\n",
    "print(data.shape)\n",
    "print(y.shape)"
   ]
  },
  {
   "cell_type": "code",
   "execution_count": 6,
   "metadata": {},
   "outputs": [],
   "source": [
    "# Making training and test data: 80% Training, 20% Test\n",
    "random.seed(15) #to get always the same set\n",
    "train_X, test_X, train_Y, test_Y = train_test_split(data, y, test_size=0.20, random_state=7)"
   ]
  },
  {
   "cell_type": "code",
   "execution_count": 5,
   "metadata": {},
   "outputs": [],
   "source": [
    "test_X.to_csv(\"../../data/output/test_X.csv\", index=False)\n",
    "test_Y.to_csv(\"../../data/output/test_Y.csv\", index=False)"
   ]
  },
  {
   "cell_type": "code",
   "execution_count": 7,
   "metadata": {},
   "outputs": [],
   "source": [
    "def rmse_cv(model, X_train, y_train):\n",
    "    rmse = np.sqrt(-cross_val_score(model, X_train, y_train, scoring = \"neg_mean_squared_error\", cv = 5))\n",
    "    return(rmse)\n",
    "\n",
    "# function to plot the RMSE vs parameter value\n",
    "def plot_rmse_param(series, param_name):\n",
    "    series.plot(title = \"Validation Error vs \" + param_name)\n",
    "    plt.xlabel(param_name)\n",
    "    plt.ylabel(\"RMSE\")\n",
    "    \n",
    "# function to get the best RMSE and the best parameter value of the model\n",
    "def best_rmse_param(series):\n",
    "    best_rmse = series.min()\n",
    "    best_param = series.idxmin() \n",
    "    \n",
    "    return(best_rmse, best_param)"
   ]
  },
  {
   "cell_type": "code",
   "execution_count": 8,
   "metadata": {},
   "outputs": [],
   "source": [
    "del data\n",
    "del y"
   ]
  },
  {
   "cell_type": "markdown",
   "metadata": {},
   "source": [
    "### Random Forest"
   ]
  },
  {
   "cell_type": "markdown",
   "metadata": {},
   "source": [
    "A random forest is a meta estimator that fits a number of classifying decision trees on various sub-samples of the dataset and uses averaging to improve the predictive accuracy and control over-fitting."
   ]
  },
  {
   "cell_type": "code",
   "execution_count": null,
   "metadata": {},
   "outputs": [
    {
     "name": "stderr",
     "output_type": "stream",
     "text": [
      "/home/veruska/.local/lib/python3.6/site-packages/sklearn/model_selection/_validation.py:516: DataConversionWarning: A column-vector y was passed when a 1d array was expected. Please change the shape of y to (n_samples,), for example using ravel().\n",
      "  estimator.fit(X_train, y_train, **fit_params)\n",
      "/home/veruska/.local/lib/python3.6/site-packages/sklearn/model_selection/_validation.py:516: DataConversionWarning: A column-vector y was passed when a 1d array was expected. Please change the shape of y to (n_samples,), for example using ravel().\n",
      "  estimator.fit(X_train, y_train, **fit_params)\n",
      "/home/veruska/.local/lib/python3.6/site-packages/sklearn/model_selection/_validation.py:516: DataConversionWarning: A column-vector y was passed when a 1d array was expected. Please change the shape of y to (n_samples,), for example using ravel().\n",
      "  estimator.fit(X_train, y_train, **fit_params)\n",
      "/home/veruska/.local/lib/python3.6/site-packages/sklearn/model_selection/_validation.py:516: DataConversionWarning: A column-vector y was passed when a 1d array was expected. Please change the shape of y to (n_samples,), for example using ravel().\n",
      "  estimator.fit(X_train, y_train, **fit_params)\n",
      "/home/veruska/.local/lib/python3.6/site-packages/sklearn/model_selection/_validation.py:516: DataConversionWarning: A column-vector y was passed when a 1d array was expected. Please change the shape of y to (n_samples,), for example using ravel().\n",
      "  estimator.fit(X_train, y_train, **fit_params)\n",
      "/home/veruska/.local/lib/python3.6/site-packages/sklearn/model_selection/_validation.py:516: DataConversionWarning: A column-vector y was passed when a 1d array was expected. Please change the shape of y to (n_samples,), for example using ravel().\n",
      "  estimator.fit(X_train, y_train, **fit_params)\n",
      "/home/veruska/.local/lib/python3.6/site-packages/sklearn/model_selection/_validation.py:516: DataConversionWarning: A column-vector y was passed when a 1d array was expected. Please change the shape of y to (n_samples,), for example using ravel().\n",
      "  estimator.fit(X_train, y_train, **fit_params)\n",
      "/home/veruska/.local/lib/python3.6/site-packages/sklearn/model_selection/_validation.py:516: DataConversionWarning: A column-vector y was passed when a 1d array was expected. Please change the shape of y to (n_samples,), for example using ravel().\n",
      "  estimator.fit(X_train, y_train, **fit_params)\n",
      "/home/veruska/.local/lib/python3.6/site-packages/sklearn/model_selection/_validation.py:516: DataConversionWarning: A column-vector y was passed when a 1d array was expected. Please change the shape of y to (n_samples,), for example using ravel().\n",
      "  estimator.fit(X_train, y_train, **fit_params)\n",
      "/home/veruska/.local/lib/python3.6/site-packages/sklearn/model_selection/_validation.py:516: DataConversionWarning: A column-vector y was passed when a 1d array was expected. Please change the shape of y to (n_samples,), for example using ravel().\n",
      "  estimator.fit(X_train, y_train, **fit_params)\n",
      "/home/veruska/.local/lib/python3.6/site-packages/sklearn/model_selection/_validation.py:516: DataConversionWarning: A column-vector y was passed when a 1d array was expected. Please change the shape of y to (n_samples,), for example using ravel().\n",
      "  estimator.fit(X_train, y_train, **fit_params)\n",
      "/home/veruska/.local/lib/python3.6/site-packages/sklearn/model_selection/_validation.py:516: DataConversionWarning: A column-vector y was passed when a 1d array was expected. Please change the shape of y to (n_samples,), for example using ravel().\n",
      "  estimator.fit(X_train, y_train, **fit_params)\n",
      "/home/veruska/.local/lib/python3.6/site-packages/sklearn/model_selection/_validation.py:516: DataConversionWarning: A column-vector y was passed when a 1d array was expected. Please change the shape of y to (n_samples,), for example using ravel().\n",
      "  estimator.fit(X_train, y_train, **fit_params)\n"
     ]
    }
   ],
   "source": [
    "start = time.time()\n",
    "\n",
    "n_estimators = [10, 50, 100, 120, 150, 170, 200] #number of trees\n",
    "cv_rf_rmse = [rmse_cv(RandomForestClassifier(n_estimators = n, n_jobs=-1), train_X, train_Y).mean() \n",
    "            for n in n_estimators]\n",
    "\n",
    "series = pd.Series(cv_rf_rmse, index = n_estimators)\n",
    "plot_rmse_param(series, \"n_estimators\")\n",
    "best_rmse_rf, best_estimator_rf = best_rmse_param(series)"
   ]
  },
  {
   "cell_type": "code",
   "execution_count": null,
   "metadata": {},
   "outputs": [],
   "source": [
    "n_min_samples_split = [5, 10, 15, 20, 25]\n",
    "cv_rf_rmse = [rmse_cv(RandomForestClassifier(n_estimators = best_estimator_rf, min_samples_split = n, n_jobs=-1), \n",
    "                      train_X, train_Y).mean() \n",
    "            for n in n_min_samples_split]\n",
    "\n",
    "series = pd.Series(cv_rf_rmse, index = n_min_samples_split)\n",
    "plot_rmse_param(series, \"n_min_samples_split\")\n",
    "best_rmse_rf, best_split_rf = best_rmse_param(series)"
   ]
  },
  {
   "cell_type": "code",
   "execution_count": null,
   "metadata": {},
   "outputs": [],
   "source": [
    "n_features = [0.25, 0.33, 0.5, 0.75, 0.8]\n",
    "cv_rf_rmse = [rmse_cv(RandomForestClassifier(n_estimators=best_estimator_rf, min_samples_split=best_split_rf,\n",
    "                                            max_features=n, n_jobs=-1), \n",
    "                      train_X, train_Y).mean() \n",
    "            for n in n_features]\n",
    "\n",
    "series = pd.Series(cv_rf_rmse, index = n_features)\n",
    "plot_rmse_param(series, \"max_features\")\n",
    "best_rmse_rf, best_max_feat_rf = best_rmse_param(series)"
   ]
  },
  {
   "cell_type": "code",
   "execution_count": 7,
   "metadata": {},
   "outputs": [],
   "source": [
    "best_estimator_rf = 100\n",
    "best_split_rf = 5\n",
    "best_max_feat_rf = 0.8"
   ]
  },
  {
   "cell_type": "code",
   "execution_count": 14,
   "metadata": {},
   "outputs": [
    {
     "name": "stdout",
     "output_type": "stream",
     "text": [
      "best_estimator_rf: 200\n",
      "best_split_rf: 10\n",
      "best_max_features_rf: 0.8\n"
     ]
    }
   ],
   "source": [
    "print(\"best_estimator_rf: \" + str(best_estimator_rf))\n",
    "print(\"best_split_rf: \" + str(best_split_rf))\n",
    "print(\"best_max_features_rf: \" + str(best_max_feat_rf))"
   ]
  },
  {
   "cell_type": "code",
   "execution_count": null,
   "metadata": {},
   "outputs": [],
   "source": [
    "random.seed(42)\n",
    "\n",
    "try:\n",
    "    start\n",
    "except NameError: # start does not exist at all\n",
    "    start = time.time()\n",
    "\n",
    "rf = RandomForestClassifier(n_estimators=best_estimator_rf, min_samples_split=best_split_rf,\n",
    "                           max_features=best_max_feat_rf, n_jobs=-1)\n",
    "rf.fit(train_X, train_Y)\n",
    "\n",
    "end = time.time()\n",
    "print(\"Execution time: \" + str((end - start)/60) + \" min\")"
   ]
  },
  {
   "cell_type": "code",
   "execution_count": 15,
   "metadata": {},
   "outputs": [
    {
     "data": {
      "text/plain": [
       "['Saved_RF_200_10_08_manualAuto100_BB_class.pkl']"
      ]
     },
     "execution_count": 15,
     "metadata": {},
     "output_type": "execute_result"
    }
   ],
   "source": [
    "# Saving a pickle file for the model\n",
    "joblib.dump(rf, 'Saved_RF_100_5_08_BB_class_3000.pkl')"
   ]
  },
  {
   "cell_type": "markdown",
   "metadata": {},
   "source": [
    "### Evaluating model"
   ]
  },
  {
   "cell_type": "markdown",
   "metadata": {},
   "source": [
    "R2 coefficient (score) of determination is a statistical measure of how well the regression predictions approximate the real data points. The best one is 1."
   ]
  },
  {
   "cell_type": "code",
   "execution_count": null,
   "metadata": {},
   "outputs": [],
   "source": [
    "r2 = rf.score(test_X, test_Y)\n",
    "r2"
   ]
  },
  {
   "cell_type": "code",
   "execution_count": null,
   "metadata": {},
   "outputs": [],
   "source": [
    "print(str(r2) + \" of the data is been explained by the model.\")"
   ]
  },
  {
   "cell_type": "code",
   "execution_count": 16,
   "metadata": {},
   "outputs": [],
   "source": [
    "pred_array = rf.predict(test_X)"
   ]
  },
  {
   "cell_type": "code",
   "execution_count": 17,
   "metadata": {},
   "outputs": [
    {
     "data": {
      "text/plain": [
       "array([0., 0., 0., ..., 0., 0., 0.])"
      ]
     },
     "execution_count": 17,
     "metadata": {},
     "output_type": "execute_result"
    }
   ],
   "source": [
    "pred_array"
   ]
  },
  {
   "cell_type": "code",
   "execution_count": null,
   "metadata": {},
   "outputs": [],
   "source": [
    "# Testing\n",
    "# rf_load = joblib.load('Saved_RF_100_5_075.pkl')\n",
    "# pred_array = rf_load.predict(test_X)\n",
    "\n",
    "# removing the array of each element\n",
    "pred = []\n",
    "for p in pred_array:\n",
    "    pred.append(p)\n",
    "\n",
    "rmse_rf = np.sqrt(mean_squared_error(test_Y, pred))\n",
    "print(rmse_rf)"
   ]
  },
  {
   "cell_type": "code",
   "execution_count": null,
   "metadata": {},
   "outputs": [],
   "source": [
    "print(min(pred))\n",
    "print(max(pred))"
   ]
  },
  {
   "cell_type": "code",
   "execution_count": null,
   "metadata": {},
   "outputs": [],
   "source": [
    "pred"
   ]
  },
  {
   "cell_type": "code",
   "execution_count": null,
   "metadata": {},
   "outputs": [],
   "source": [
    "test_Y"
   ]
  },
  {
   "cell_type": "code",
   "execution_count": null,
   "metadata": {},
   "outputs": [],
   "source": [
    "alpha = y_threshold[test_Y.index]\n",
    "alpha"
   ]
  },
  {
   "cell_type": "code",
   "execution_count": null,
   "metadata": {},
   "outputs": [],
   "source": [
    "bb_pred = np.less_equal(pred, alpha)\n",
    "bb_label = np.less_equal(test_Y, alpha)"
   ]
  },
  {
   "cell_type": "code",
   "execution_count": null,
   "metadata": {},
   "outputs": [],
   "source": [
    "bb_pred"
   ]
  },
  {
   "cell_type": "code",
   "execution_count": null,
   "metadata": {},
   "outputs": [],
   "source": [
    "bb_label"
   ]
  },
  {
   "cell_type": "code",
   "execution_count": null,
   "metadata": {},
   "outputs": [],
   "source": [
    "pred_bb = []\n",
    "for x in pred:\n",
    "    if x <= 0.5:\n",
    "        pred_bb.append(0)\n",
    "    else:\n",
    "        pred_bb.append(1)\n",
    "\n",
    "pred_bb"
   ]
  },
  {
   "cell_type": "code",
   "execution_count": 18,
   "metadata": {},
   "outputs": [],
   "source": [
    "# Bus Bunching\n",
    "accuracy = accuracy_score(test_Y, pred_array)\n",
    "precision = precision_score(test_Y, pred_array)\n",
    "recall = recall_score(test_Y, pred_array)\n",
    "f_measure = f1_score(test_Y, pred_array)"
   ]
  },
  {
   "cell_type": "code",
   "execution_count": null,
   "metadata": {},
   "outputs": [],
   "source": [
    "# Headway\n",
    "accuracy = accuracy_score(bb_label, bb_pred)\n",
    "precision = precision_score(bb_label, bb_pred)\n",
    "recall = recall_score(bb_label, bb_pred)\n",
    "f_measure = f1_score(bb_label, bb_pred)"
   ]
  },
  {
   "cell_type": "code",
   "execution_count": null,
   "metadata": {},
   "outputs": [],
   "source": [
    "# 3000, to compare with rvm\n",
    "print(\"Accuracy: \" + str(accuracy))\n",
    "print(\"Precision: \" + str(precision))\n",
    "print(\"Recall: \" + str(recall))\n",
    "print(\"F-measure: \" + str(f_measure))"
   ]
  },
  {
   "cell_type": "code",
   "execution_count": 19,
   "metadata": {},
   "outputs": [
    {
     "name": "stdout",
     "output_type": "stream",
     "text": [
      "Accuracy: 0.8988542092019252\n",
      "Precision: 0.7688557659979828\n",
      "Recall: 0.3556782538818467\n",
      "F-measure: 0.4863619445970615\n"
     ]
    }
   ],
   "source": [
    "print(\"Accuracy: \" + str(accuracy))\n",
    "print(\"Precision: \" + str(precision))\n",
    "print(\"Recall: \" + str(recall))\n",
    "print(\"F-measure: \" + str(f_measure))"
   ]
  },
  {
   "cell_type": "markdown",
   "metadata": {},
   "source": [
    "### Graphs"
   ]
  },
  {
   "cell_type": "code",
   "execution_count": null,
   "metadata": {},
   "outputs": [],
   "source": [
    "sns.set(style=\"whitegrid\")\n",
    "\n",
    "# Plot the residuals after fitting a linear model\n",
    "ax = sns.residplot(test_Y, pred, color=\"g\")\n",
    "ax.set_title('Residuals')\n",
    "ax.set_ylim([-600, 600])\n"
   ]
  },
  {
   "cell_type": "code",
   "execution_count": null,
   "metadata": {},
   "outputs": [],
   "source": [
    "# Print all error to see if there is standard or some big outliers\n",
    "plt.figure()\n",
    "plt.plot(test_Y, pred, 'ro', ms=0.5)\n",
    "# plt.ylim(10, 40)\n",
    "plt.xlabel('Headway (Label)')\n",
    "plt.ylabel('Predicted Headway')\n",
    "plt.show()"
   ]
  },
  {
   "cell_type": "code",
   "execution_count": null,
   "metadata": {},
   "outputs": [],
   "source": [
    "diff = test_Y - np.array(pred).flatten()\n",
    "num_bins = 10\n",
    "width = 5\n",
    "height = 5\n",
    "plt.hist(diff, num_bins, facecolor='blue', alpha=0.5, log=True)\n",
    "plt.xlabel('Residual')\n",
    "plt.ylabel('Total')\n",
    "plt.title('Distribution of the residual (label - prediction)')\n",
    "plt.rcParams[\"figure.figsize\"] = (width,height) \n",
    "plt.show()"
   ]
  },
  {
   "cell_type": "code",
   "execution_count": null,
   "metadata": {},
   "outputs": [],
   "source": []
  },
  {
   "cell_type": "code",
   "execution_count": null,
   "metadata": {},
   "outputs": [],
   "source": [
    "# Features importance\n",
    "\n",
    "#create dictionary\n",
    "f_imps = {}\n",
    "for i in range(len(features)):\n",
    "    f_imps[features[i]] = rf.feature_importances_[i]\n",
    "    \n",
    "#sort dictionary \n",
    "sorted_feature_names = sorted(f_imps, key=f_imps.__getitem__, reverse=True)\n",
    "sorted_values = sorted(f_imps.values(), reverse=True)\n",
    "\n",
    "num_to_print = 20\n",
    "for i in range(num_to_print):\n",
    "    print(\"%15s %4.3f\" % (sorted_feature_names[i], sorted_values[i]))"
   ]
  },
  {
   "cell_type": "markdown",
   "metadata": {},
   "source": [
    "### Analysing error prediction"
   ]
  },
  {
   "cell_type": "code",
   "execution_count": null,
   "metadata": {},
   "outputs": [],
   "source": [
    "data_test = data.loc[test_Y.index]\n",
    "\n",
    "wrong_preds = data_test[pred != test_Y]"
   ]
  },
  {
   "cell_type": "code",
   "execution_count": null,
   "metadata": {},
   "outputs": [],
   "source": [
    "wrong_preds"
   ]
  },
  {
   "cell_type": "code",
   "execution_count": null,
   "metadata": {},
   "outputs": [],
   "source": [
    "# num_bins = 10\n",
    "# width = 50\n",
    "# height = 25\n",
    "plt.hist(wrong_preds.route, num_bins, facecolor='blue', alpha=0.5)\n",
    "plt.xlabel('Rotas')\n",
    "plt.ylabel('Total')\n",
    "plt.title('Rotas que o modelo errou a predição')\n",
    "# plt.xticks(np.arange(0, 500, 1))\n",
    "# plt.rcParams[\"figure.figsize\"] = (width,height)\n",
    "plt.show()"
   ]
  }
 ],
 "metadata": {
  "kernelspec": {
   "display_name": "Python 3",
   "language": "python",
   "name": "python3"
  },
  "language_info": {
   "codemirror_mode": {
    "name": "ipython",
    "version": 3
   },
   "file_extension": ".py",
   "mimetype": "text/x-python",
   "name": "python",
   "nbconvert_exporter": "python",
   "pygments_lexer": "ipython3",
   "version": "3.6.8"
  }
 },
 "nbformat": 4,
 "nbformat_minor": 2
}
