{
 "cells": [
  {
   "cell_type": "code",
   "execution_count": 1,
   "metadata": {},
   "outputs": [],
   "source": [
    "import numpy as np\n",
    "import pandas as pd\n",
    "import random\n",
    "from sklearn.metrics import mean_squared_error, accuracy_score, precision_score, recall_score, f1_score\n",
    "from sklearn.model_selection import cross_val_score, train_test_split\n",
    "import joblib\n",
    "from sklearn_rvm import EMRVR\n",
    "import time"
   ]
  },
  {
   "cell_type": "code",
   "execution_count": null,
   "metadata": {},
   "outputs": [],
   "source": [
    "city = 'CityA'\n",
    "\n",
    "data_path = '../../data/output/' + city + '/normalized_data_X.csv'\n",
    "y_path = '../../data/output/' + city + '/y_headway.csv'\n",
    "\n",
    "data = pd.read_csv(data_path)\n",
    "y = pd.read_csv(y_path)\n",
    "print(data.shape)\n",
    "print(y.shape)\n",
    "data.head()"
   ]
  },
  {
   "cell_type": "code",
   "execution_count": null,
   "metadata": {},
   "outputs": [],
   "source": [
    "data_size = 5000 #[25000, 20000, 15000, 10000, 5000]\n",
    "\n",
    "data = data[0:data_size]\n",
    "y = y[0:data_size]\n",
    "print(data.shape)\n",
    "print(y.shape)"
   ]
  },
  {
   "cell_type": "code",
   "execution_count": null,
   "metadata": {},
   "outputs": [],
   "source": [
    "# Making training and test data: 80% Training, 20% Test\n",
    "random.seed(15) #to get always the same set\n",
    "train_X, test_X, train_Y, test_Y = train_test_split(data, y.headway, test_size=0.20, random_state=7)"
   ]
  },
  {
   "cell_type": "code",
   "execution_count": null,
   "metadata": {},
   "outputs": [],
   "source": [
    "def get_quality(pred):\n",
    "    alpha = y.headwayThreshold[test_Y.index]\n",
    "    \n",
    "    bb_pred = np.less_equal(pred, alpha)\n",
    "    bb_label = np.less_equal(test_Y, alpha)\n",
    "    \n",
    "    rmse = np.sqrt(mean_squared_error(test_Y, pred))\n",
    "    print('RMSE: ' + str(rmse))\n",
    "    \n",
    "    # Bus Bunching\n",
    "    print(\"Accuracy: \" + str(accuracy_score(bb_label, bb_pred)))\n",
    "    print(\"Precision: \" + str(precision_score(bb_label, bb_pred)))\n",
    "    print(\"Recall: \" + str(recall_score(bb_label, bb_pred)))\n",
    "    print(\"F-measure: \" + str(f1_score(bb_label, bb_pred)))"
   ]
  },
  {
   "cell_type": "markdown",
   "metadata": {},
   "source": [
    "### EMRVR"
   ]
  },
  {
   "cell_type": "code",
   "execution_count": 18,
   "metadata": {},
   "outputs": [
    {
     "name": "stderr",
     "output_type": "stream",
     "text": [
      "/home/bsantosveruska/.local/lib/python3.6/site-packages/sklearn_rvm/em_rvm.py:271: FutureWarning: The default value of gamma will change from 'auto' to 'scale' in version 0.22 to account better for unscaled features. Set gamma explicitly to 'auto' or 'scale' to avoid this warning.\n",
      "  \"avoid this warning.\", FutureWarning)\n"
     ]
    }
   ],
   "source": [
    "start = time.time()\n",
    "model = EMRVR(kernel='rbf')\n",
    "model.fit(train_X, train_Y)\n",
    "end = time.time()"
   ]
  },
  {
   "cell_type": "code",
   "execution_count": 19,
   "metadata": {},
   "outputs": [
    {
     "name": "stdout",
     "output_type": "stream",
     "text": [
      "[ 36.87679915  42.18403718  27.33883025  56.28692048  68.66993479\n",
      "  54.65171241  47.59285944  57.90222329  72.36305307  19.09400899\n",
      "  57.1019482   43.3864396   16.76216912  62.31474858  42.6884708\n",
      "  64.10642024  56.39939895  21.865746    29.05417514  23.81958479\n",
      "  23.47292655  85.26417275  41.81323341  70.84021604  27.08657395\n",
      "  14.99005623  41.9587176   39.51941237  38.31518055  51.91676658\n",
      "  51.23124627  39.71774848  50.75488138  49.12422731  53.64632241\n",
      "  65.48176808  27.17471852  62.430919    55.87919962  55.60943066\n",
      "  77.50995191  38.9462002   46.42513989  53.75326394  22.91604042\n",
      "  44.67091067  65.28474456  60.53788125  88.86336222   0.7262629\n",
      "  63.57957191  61.52757587  54.26588111  42.59096304  69.344652\n",
      "  44.02944144  46.44049312  51.5628343   20.63231824  73.09155307\n",
      "  30.53955114  56.59225382  45.12229408  70.70443881  47.85978304\n",
      "  42.5649331   63.84768335  57.16769426  56.1408498   34.34731711\n",
      "  73.23939591  18.83488862  73.18240229  37.34934406  70.02020545\n",
      "  66.66386881  37.5889532   41.92412209  70.37129881  77.88355933\n",
      "  43.94295442  48.21506056  24.97812708  51.48059271  63.94198376\n",
      "  55.32883236  61.21562904  42.20665733  28.07826906  65.71368577\n",
      "  61.19835835  34.18956276  29.37248093  87.39845993  51.33021806\n",
      "  76.53013233  43.59318796  44.79571874  42.30319357  67.15844429\n",
      "  37.70510665  49.79860705  68.93570531  80.62897989  49.50359586\n",
      "  32.55978829  50.56998759  61.74395928  50.65394834  49.16132786\n",
      "  46.23430619  44.06454201  74.55928503  48.43030248  44.07688781\n",
      "  32.53441365  56.95951437  66.74753473  26.65507224  31.46277461\n",
      "  35.78608287 226.66184569  73.37045265  64.47621932  59.451019\n",
      "  35.97797164  56.72517262  40.74258933  59.90345981  45.20249089\n",
      "  85.80101513  63.45050483  47.59091468  68.19948751  35.79497077\n",
      "  58.6776539   87.47238706  32.60258419  74.95940218  42.5275167\n",
      "  64.47718227  42.57877167  59.63918281  35.5769202   46.57321978\n",
      "  59.00607231  21.14877285  77.44851337  39.01949446  32.48989533\n",
      " 108.73368161  52.10761042  16.08481473  47.2234772   24.8014685\n",
      "  40.31799547  58.70683272  38.18792556  25.95699182  41.49237989\n",
      "  72.20764067  46.21548338  45.84089372  57.32947689  42.19547004\n",
      "  40.82228728  55.37821663  52.29489965  53.3482093   64.36317671\n",
      "  33.62063657  18.44118335  24.68193504  51.20999008  65.66063042\n",
      "  86.05661251  58.87793353  38.16746718  46.62009632  -3.29327657\n",
      "  85.05342574  56.88351473  23.56442814  44.54439346  32.32282614\n",
      "  54.93895499  48.35495834  41.60108008  26.70984747  69.82697086\n",
      "  40.27344063  65.74456493  56.09309374  57.92914891  55.86359806\n",
      "  49.61910862  28.6632113    5.04687016  68.67207219  29.5723214\n",
      "  69.06766745  32.64253957  57.81004586  58.71306497  54.12426297\n",
      "  29.23254437  74.48154386  65.4652914   72.17954816  29.47406608\n",
      "  73.39431948  24.37021283  42.26061189  53.08163507  57.66165138\n",
      "  77.05168337  35.35888999  56.88546022  67.1232217   33.79417358\n",
      "  32.43951905  26.33977747  56.92372391  39.36784129  45.53022849\n",
      "  46.66341665   7.28961277  35.50395225  51.80686217  53.74816028\n",
      "  19.87200156  11.73706579  36.16718264  65.15878303  39.23995282\n",
      "  59.74536968  40.33917152  46.36727971  32.12032388  46.57400109\n",
      "  48.51699192  61.48285621  85.12810794  46.36344394  49.90162223\n",
      "  41.78394381  54.36573489  67.05649915  40.12345051  73.30386557\n",
      "  48.64581862  55.74771859  66.93426936  70.29868301   9.77240396\n",
      "  75.4776173   18.22747642  21.68086996  46.52840627  63.88482979\n",
      "  34.32522049  73.74148691  60.26995307  68.84608796  39.15159688\n",
      "  57.26560097  47.32955953  59.10336339  42.62213044  47.50890715\n",
      "  67.17767435  29.3339959   51.28970982  54.35781759  68.72454869\n",
      "  44.66040977  33.02461817  62.75417239  72.7274666   49.2673728\n",
      "  72.42349589  45.23428965  38.31102533  65.21382688  27.91956994\n",
      "  71.56907273  50.76591105  47.23951855  51.7056617   50.33747517\n",
      "  29.48433248  67.54061244  70.73961762  40.79456815  30.19527442\n",
      "  46.24826149  30.20469673  26.72306417  49.31515505  48.39853396\n",
      "  52.01951516  66.60749336  43.10444691  71.50819117  51.69345321\n",
      "  79.36900741  53.27176424  41.24677045  23.24152309  91.29598663\n",
      "  70.92433062  55.62568084  44.10916369  24.04329524  42.86352676\n",
      "  49.24093717  40.77187337  49.34130434  63.06032461  68.56171682\n",
      "  13.71449341  88.8759726   65.80486032  87.78124712  40.06903917\n",
      "  65.45627882  67.47520546  18.53486853  64.78528602  28.61795553\n",
      "  55.00581213  21.3265387   38.23374835  57.1536684   25.01046594\n",
      "  12.47122203  33.16015637  62.89699856  80.82170299  71.08685802\n",
      "  34.78659218  54.23266709  46.11131922  61.3481035   48.68363279\n",
      "  54.47580933  53.80593082  62.2100889   35.26794523  56.53297869\n",
      "  52.04323755  59.10838884  45.28029784  64.32153071  41.08914304\n",
      "  60.19403724  49.36244885  45.95768587  50.92166496   8.78105703\n",
      "  68.76309763  37.8124629   75.93518044  62.89607595  70.82103769\n",
      "  35.14635083  51.67278426  50.64091082  11.32007717  47.11154657\n",
      "  31.6074671   46.16169404  43.97516071  43.72244189  50.8241428\n",
      "  43.33067365  45.85767738  54.3858266   47.92974106  54.39611783\n",
      "  66.54852298  31.6305431   27.95065406  45.66788727  35.84797388\n",
      "  55.95600214  39.14541079  48.4085582   62.68522194  57.91307479\n",
      "  50.52049817  55.71995094  37.63430876  55.34132653  86.72880821\n",
      "  47.37969989  72.75058981  91.88266453  22.63594298  35.81821596\n",
      "  38.77532084  45.20336977  62.15635699  21.56106167  45.40692462\n",
      "  44.01452152  37.61417016  63.22638313  30.57179631  44.61280278\n",
      "  25.66190494  67.60356496  71.26801129  42.56765714  34.87467178\n",
      "  43.4763456   45.48550413  34.47701432  79.17826863  79.78040028\n",
      "  48.65945934  70.67951121  80.80485629  65.80958899  57.54384802\n",
      "  63.0891777   37.19415188  41.69917384  50.76002919  61.444398\n",
      "  63.46597266  59.20964878  41.1892697   59.09835948  76.47532322\n",
      "  62.25767177  32.36512532  38.23675154  80.72162293  33.34735865\n",
      "  38.63823714  35.41971419  41.19926208  28.6433365   47.82347289\n",
      "  42.23924889  53.49078098  92.98401465  57.00495766  69.93704503\n",
      "  24.64201347  65.83595067  71.31499017  34.16780017  43.55890641\n",
      "  53.70174489  48.04288019 150.13747173  44.81672683  56.41165564\n",
      "  35.09423558  59.97476159  42.85299257  44.55651741  46.32941228\n",
      "  40.10712347  20.6636258   69.48057261  89.95677131  55.51266149\n",
      "  69.77923654  64.49844489  73.36981843  36.26778797  46.12786754\n",
      "  47.16520834  40.86149689  46.4434879   57.3877977   72.85287503\n",
      "  73.06899295  64.69958306  43.22853256  79.45769687  49.93968254\n",
      "  70.73258482 129.50674777  45.53268279  42.25950234  38.13727056\n",
      "  44.52080962  74.75811638  42.97638732 142.66237206  39.92400084\n",
      "  70.64360004  66.70219344  50.53839243  34.2823363   39.03497026\n",
      "  81.24233018  55.97731792  49.45467975  39.27889387 123.0401381\n",
      "  51.60429436  69.46003767  38.25385168  64.35046419  42.1697537\n",
      "  64.00692667  23.89199101  64.13697513  24.32433807  78.88913883\n",
      "  66.97318447  38.57413188  60.34146697  51.13785223  30.88430354\n",
      "  80.9726902   27.82253637  59.095206    39.32458203  73.85769641\n",
      "  38.49364361  48.02864159  64.57162742  21.58398448  45.32355656\n",
      "  76.44078719  37.50721564  57.56999938  42.5394071   31.79295382\n",
      "  61.0352927   79.69496779  68.85928883  69.83803622  10.547762\n",
      "  28.83143551  79.37755551  59.05520023  25.92818081  30.93364573\n",
      "  43.91978361  55.2520843   66.69910855  28.27617527  37.96826336\n",
      "  42.7686532   69.47085506  35.63082371  63.20712923  81.28717247\n",
      "  53.43345014  68.79949485  63.09818142  85.09606818  63.22996327\n",
      "  60.07927163  60.39914229  82.69062403  41.86544958  34.09549882\n",
      "  67.20662244  13.62643517  26.76564685  31.07689596  31.72199935\n",
      "  39.08067821  16.36267085 233.93388875  79.41273306  33.58512659\n",
      "  64.56122045  43.77473546  86.65076877  50.26439398  42.22204017\n",
      "  42.26242198  95.28137959  83.97289771  22.25576054  47.93777567\n",
      "  74.21027252  50.93451143  77.90971456  62.6844646   82.82305312\n",
      "  62.81677765  26.92620514  47.07646739  38.2902283   24.30948908\n",
      "  57.96841264  50.58990783  45.79193629  61.39997368  84.07853802\n",
      "  77.3392323   61.939494    45.51020858  74.83203052  27.32529089\n",
      "  57.2928293   50.88807259  31.6329757   43.91869209  38.5550847\n",
      "  43.30101819  90.59593418  75.70903843  55.94085355  35.37318525\n",
      "  41.36158529  87.25904663  62.48375302  76.28937711  83.43128839\n",
      "  38.50185159  59.13942068  40.29111907  43.1800194   51.57810918\n",
      "  40.72105475  69.7569061   68.38091164  64.58847902  37.95676077\n",
      "  46.42137851  43.39006172  59.38575053  14.73785966  53.67243582\n",
      "  39.17545322  44.76009583  35.97405757  43.82121949  38.43724614\n",
      "  56.37466561  33.145141    30.83770897  79.76045037  41.45158951\n",
      "  22.15614337  29.82848832  27.52652292  65.67200181  72.43239973\n",
      "  97.26264478  33.52810416  62.60404555  53.41199463  66.40256424\n",
      "  57.99726083  69.66912313  22.31924599  59.42491213  68.34816253\n",
      "  28.49231403  29.4174789   66.77450851  62.57236952  71.26770616\n",
      "  29.62933412  82.96695155  43.84190136  52.22137609 110.82979654\n",
      "  74.13811851  27.56159557  42.42337057  48.24569877  56.45425289\n",
      "  70.0243598   25.09513906  59.1655202   35.89894154  66.96471859\n",
      "  36.26288784  41.23257361  26.87649048  52.18389362  56.87302944\n",
      "  48.57013176  65.46335691  61.37488286  35.23217145  54.58304154\n",
      "  35.78031706  37.39550562  67.43404311  71.97869049  77.02049881\n",
      "  32.34952764  83.15615308  53.60719115  49.24164938  58.58704443\n",
      "  17.0514121   33.66544646  35.51954162  25.35380489  58.26561188\n",
      "  59.9343635   38.56629161  51.29700754  63.30869797  47.8303068\n",
      "  73.22990362  13.24516711  47.30950868  38.45196343  99.80089238\n",
      "  57.21477679  41.74788213  20.34818416  35.29071206  44.35578949\n",
      "  59.82303063  78.85434686  77.37588936  50.1959994   24.37959454\n",
      " 126.14156741   5.79824065  55.02091375  72.70652089  59.98197072\n",
      "  12.2616199   55.51281274  87.33532688  62.47058752  41.77799035\n",
      "  21.86062583  70.75606147  25.13231881  34.54815342  58.55858958\n",
      "  80.1912457   44.28729404  52.20306342  46.10782202  55.17983665\n",
      "  64.6769629   52.65083819  41.05119949  41.40284673  34.69276426\n",
      "  32.09449883 100.70157976  40.21610335   2.21804948  60.84967495\n",
      "  32.79510302  59.30349918  46.44206514  76.18655267  54.63182526\n",
      "  69.1635849  105.69089115  36.56514131  57.21765963  78.30056581\n",
      "  57.896583    18.58551764  63.27078906  65.64388458  63.59151817\n",
      "  53.86227825  26.8925097   72.98937583  37.71089249  26.88278851\n",
      "  73.84636122  79.56536885  51.69558567  45.42013977  67.90784138\n",
      "  71.93403548  11.97443824  50.2145038   41.5931331   48.32871181\n",
      "  54.26260605  57.26992033  23.72532026  69.35694314  69.99888579\n",
      "  21.43823108  25.41293112  38.45415569  48.18774085  70.3513643\n",
      "  44.81950209  63.56050528  62.06800534  52.49348418  54.37916116\n",
      "  28.16113547  38.53736774  71.33418496  36.89735718  47.14913094\n",
      "  29.038527    70.81944152  66.4320094   62.35971002  56.51150701\n",
      "  70.24044099  53.8104824   46.46240604  85.85221981  48.22964847\n",
      "  36.88683802  38.2481104   64.32332096  69.39364732  62.48710204\n",
      "  39.88134251  58.24832874  30.85604405  43.32150211  27.50101645\n",
      "  64.6111267   28.46090317  88.58011859  53.88426431  41.57947024\n",
      "  58.75106294  57.28454977  33.02713771  15.78312417  62.83276965\n",
      "  68.51665831  29.72235983  78.16131802  34.02931463  49.85925066\n",
      "  59.4927226   44.88931146  38.75528283  68.9138281   66.30976203\n",
      "  56.61631469  66.39845026  84.18535039  51.02965038  34.48163115\n",
      "  84.14985195  71.55030755  63.20438036  59.04594824  58.3469889\n",
      "  59.84713047  51.3370807   21.70557177  35.62856086  51.13320127\n",
      "  72.68470428  79.76466048  63.15866004  29.37934575  43.28073647\n",
      "  26.17612138  72.59370156  57.24725892  28.00030033  53.77621131\n",
      "  78.68207723  70.70993028  60.22155663  65.04993154  38.88333261\n",
      "  64.6732688   34.04741606  57.34480942  96.67627568 107.444432\n",
      "  48.7110402   76.82034014  34.56330926  66.55511528  33.01151188\n",
      "  69.38312104 131.40861892  89.35689339  41.60773847  35.44873757\n",
      "  82.76819117  67.8624853   41.3457475   37.38776171  29.92982899\n",
      "  56.57883005  53.41482166  34.70336877  42.50953018  31.4140539\n",
      "  77.33755647  76.52419356 155.67020053  80.5360372   70.39418752\n",
      "  40.77587251  41.43962139  64.46646329  42.6456237   37.09252243\n",
      "  67.23872853  30.14555629  57.96209407  56.74236653  35.86939079\n",
      "  51.37495444  64.93275329  25.64222096  82.49886334  36.40360788\n",
      "  68.70705864  64.63356226  23.59503913  16.16567955  78.43345768\n",
      "  52.10202979 237.29362524  31.66239494  58.12791316  38.70060396\n",
      "  75.42915546  40.48518354  61.57191455  53.23491424  46.21553654\n",
      "  50.39091587  62.15919191  64.1889037   61.39766028  70.04056731\n",
      "  79.06390529  83.212644    66.25727542  81.2955997   50.99883598\n",
      "  52.14071172  49.71327763  41.90201748  64.85863137  32.46929787\n",
      "  56.5729617   30.17679939  78.81560392  94.59038952  70.30020608\n",
      "  44.11561305  63.4748203   58.85071425  74.76414829  39.0549875\n",
      "  45.61057374  34.82780383  59.52236722  12.44147384  66.37166138\n",
      "  57.05266726  68.79550482  61.88329281  14.47384425  27.95257646\n",
      "  39.22581986  33.3661404   38.62970304  39.42284949  59.25085386\n",
      "  65.0535511   53.90930329  72.54155847  75.08332799  45.58780874\n",
      "  41.22369232 109.54060199  38.55787737  57.51876139  28.46866873\n",
      "  48.07014076  77.45046886  58.12648722  48.55509126  40.32385884\n",
      "  36.15822781  60.65440162  81.5997983   63.53897803  33.49284153\n",
      "  50.06366672  23.79631539  78.10499238  28.29763354  69.2978937 ]\n",
      "3406    False\n",
      "757     False\n",
      "3624    False\n",
      "4544    False\n",
      "3235    False\n",
      "        ...  \n",
      "4630    False\n",
      "4730    False\n",
      "1918    False\n",
      "2481    False\n",
      "3528    False\n",
      "Name: headwayThreshold, Length: 1000, dtype: bool\n"
     ]
    }
   ],
   "source": [
    "pred_array = model.predict(test_X)\n",
    "print(pred_array)\n",
    "\n",
    "alpha = y.headwayThreshold[test_Y.index]\n",
    "preds = np.less_equal(pred_array, alpha)\n",
    "print(preds)"
   ]
  },
  {
   "cell_type": "code",
   "execution_count": 8,
   "metadata": {},
   "outputs": [
    {
     "name": "stdout",
     "output_type": "stream",
     "text": [
      "Execution time: 1055.1490277290345 min\n"
     ]
    }
   ],
   "source": [
    "print(\"Execution time: \" + str((end - start)/60) + \" min\") # citya - poly - 25000"
   ]
  },
  {
   "cell_type": "code",
   "execution_count": 12,
   "metadata": {},
   "outputs": [
    {
     "name": "stdout",
     "output_type": "stream",
     "text": [
      "Execution time: 13.535858897368113 min\n"
     ]
    }
   ],
   "source": [
    "print(\"Execution time: \" + str((end - start)/60) + \" min\") # citya - poly - 5000"
   ]
  },
  {
   "cell_type": "code",
   "execution_count": 14,
   "metadata": {},
   "outputs": [
    {
     "name": "stdout",
     "output_type": "stream",
     "text": [
      "Execution time: 1727.3742672642072 min\n"
     ]
    }
   ],
   "source": [
    "print(\"Execution time: \" + str((end - start)/60) + \" min\") # citya - rbf - 25000"
   ]
  },
  {
   "cell_type": "code",
   "execution_count": 20,
   "metadata": {},
   "outputs": [
    {
     "name": "stdout",
     "output_type": "stream",
     "text": [
      "Execution time: 9.383394706249238 min\n"
     ]
    }
   ],
   "source": [
    "print(\"Execution time: \" + str((end - start)/60) + \" min\") # citya - rbf - 5000"
   ]
  },
  {
   "cell_type": "code",
   "execution_count": 19,
   "metadata": {},
   "outputs": [
    {
     "name": "stdout",
     "output_type": "stream",
     "text": [
      "Execution time: 74.23662619988123 min\n"
     ]
    }
   ],
   "source": [
    "print(\"Execution time: \" + str((end - start)/60) + \" min\") # citya - linear - 25000"
   ]
  },
  {
   "cell_type": "code",
   "execution_count": 16,
   "metadata": {},
   "outputs": [
    {
     "name": "stdout",
     "output_type": "stream",
     "text": [
      "Execution time: 1.752597403526306 min\n"
     ]
    }
   ],
   "source": [
    "print(\"Execution time: \" + str((end - start)/60) + \" min\") # citya - linear - 5000"
   ]
  },
  {
   "cell_type": "code",
   "execution_count": null,
   "metadata": {},
   "outputs": [],
   "source": [
    "print(\"Execution time: \" + str((end - start)/60) + \" min\") # curitiba - poly - 25000"
   ]
  },
  {
   "cell_type": "code",
   "execution_count": null,
   "metadata": {},
   "outputs": [],
   "source": [
    "print(\"Execution time: \" + str((end - start)/60) + \" min\") # curitiba - poly - 5000"
   ]
  },
  {
   "cell_type": "code",
   "execution_count": null,
   "metadata": {},
   "outputs": [],
   "source": [
    "print(\"Execution time: \" + str((end - start)/60) + \" min\") # curitiba - rbf - 25000"
   ]
  },
  {
   "cell_type": "code",
   "execution_count": null,
   "metadata": {},
   "outputs": [],
   "source": [
    "print(\"Execution time: \" + str((end - start)/60) + \" min\") # curitiba - rbf - 5000"
   ]
  },
  {
   "cell_type": "code",
   "execution_count": null,
   "metadata": {},
   "outputs": [],
   "source": [
    "print(\"Execution time: \" + str((end - start)/60) + \" min\") # curitiba - linear - 25000"
   ]
  },
  {
   "cell_type": "code",
   "execution_count": null,
   "metadata": {},
   "outputs": [],
   "source": [
    "print(\"Execution time: \" + str((end - start)/60) + \" min\") # curitiba - linear - 5000"
   ]
  },
  {
   "cell_type": "markdown",
   "metadata": {},
   "source": [
    "### RBF"
   ]
  },
  {
   "cell_type": "markdown",
   "metadata": {},
   "source": [
    "#### Curitiba"
   ]
  },
  {
   "cell_type": "code",
   "execution_count": null,
   "metadata": {},
   "outputs": [],
   "source": [
    "preds_pd = pd.DataFrame(preds, columns=['pred'])\n",
    "preds_pd.to_csv('outputs/q7/rvm_rbf_pred_q7_' + str(data_size) + '_' + city + '.csv', index=False)\n",
    "\n",
    "get_quality(pred_array) #25000"
   ]
  },
  {
   "cell_type": "code",
   "execution_count": null,
   "metadata": {},
   "outputs": [],
   "source": [
    "preds_pd = pd.DataFrame(preds, columns=['pred'])\n",
    "preds_pd.to_csv('outputs/q7/rvm_rbf_pred_q7_' + str(data_size) + '_' + city + '.csv', index=False)\n",
    "\n",
    "get_quality(pred_array) #20000"
   ]
  },
  {
   "cell_type": "code",
   "execution_count": null,
   "metadata": {},
   "outputs": [],
   "source": [
    "preds_pd = pd.DataFrame(preds, columns=['pred'])\n",
    "preds_pd.to_csv('outputs/q7/rvm_rbf_pred_q7_' + str(data_size) + '_' + city + '.csv', index=False)\n",
    "\n",
    "get_quality(pred_array) #15000"
   ]
  },
  {
   "cell_type": "code",
   "execution_count": null,
   "metadata": {},
   "outputs": [],
   "source": [
    "preds_pd = pd.DataFrame(preds, columns=['pred'])\n",
    "preds_pd.to_csv('outputs/q7/rvm_rbf_pred_q7_' + str(data_size) + '_' + city + '.csv', index=False)\n",
    "\n",
    "get_quality(pred_array) #10000"
   ]
  },
  {
   "cell_type": "code",
   "execution_count": null,
   "metadata": {},
   "outputs": [],
   "source": [
    "preds_pd = pd.DataFrame(preds, columns=['pred'])\n",
    "preds_pd.to_csv('outputs/q7/rvm_rbf_pred_q7_' + str(data_size) + '_' + city + '.csv', index=False)\n",
    "\n",
    "get_quality(pred_array) #5000"
   ]
  },
  {
   "cell_type": "markdown",
   "metadata": {},
   "source": [
    "#### City A"
   ]
  },
  {
   "cell_type": "code",
   "execution_count": 16,
   "metadata": {},
   "outputs": [
    {
     "name": "stdout",
     "output_type": "stream",
     "text": [
      "RMSE: 31.3234356072465\n",
      "Accuracy: 0.9246\n",
      "Precision: 0.6021505376344086\n",
      "Recall: 0.1414141414141414\n",
      "F-measure: 0.22903885480572597\n"
     ]
    }
   ],
   "source": [
    "preds_pd = pd.DataFrame(preds, columns=['pred'])\n",
    "preds_pd.to_csv('../../Ensemble model/Ensemble/outputs/q7/rvm_rbf_pred_q7_' + str(data_size) + '_' + city + '.csv', index=False)\n",
    "\n",
    "get_quality(pred_array) #25000"
   ]
  },
  {
   "cell_type": "code",
   "execution_count": 9,
   "metadata": {},
   "outputs": [
    {
     "name": "stdout",
     "output_type": "stream",
     "text": [
      "RMSE: 41.07967535357329\n",
      "Accuracy: 0.987\n",
      "Precision: 0.0\n",
      "Recall: 0.0\n",
      "F-measure: 0.0\n"
     ]
    }
   ],
   "source": [
    "preds_pd = pd.DataFrame(preds, columns=['pred'])\n",
    "preds_pd.to_csv('../../Ensemble model/Ensemble/outputs/q7/rvm_rbf_pred_q7_' + str(data_size) + '_' + city + '.csv', index=False)\n",
    "\n",
    "get_quality(pred_array) #5000"
   ]
  },
  {
   "cell_type": "code",
   "execution_count": null,
   "metadata": {},
   "outputs": [],
   "source": []
  },
  {
   "cell_type": "code",
   "execution_count": null,
   "metadata": {},
   "outputs": [],
   "source": []
  },
  {
   "cell_type": "code",
   "execution_count": null,
   "metadata": {},
   "outputs": [],
   "source": []
  },
  {
   "cell_type": "code",
   "execution_count": null,
   "metadata": {},
   "outputs": [],
   "source": [
    "get_quality(pred_array) #25000"
   ]
  },
  {
   "cell_type": "code",
   "execution_count": 15,
   "metadata": {},
   "outputs": [
    {
     "name": "stdout",
     "output_type": "stream",
     "text": [
      "RMSE: 26.99151654920116\n",
      "Accuracy: 0.934\n",
      "Precision: 0.9166666666666666\n",
      "Recall: 0.7475728155339806\n",
      "F-measure: 0.8235294117647058\n"
     ]
    }
   ],
   "source": [
    "get_quality(pred_array) #5000"
   ]
  },
  {
   "cell_type": "code",
   "execution_count": 8,
   "metadata": {},
   "outputs": [
    {
     "name": "stdout",
     "output_type": "stream",
     "text": [
      "RMSE: 38.61351299825054\n",
      "Accuracy: 0.826\n",
      "Precision: 0.5278969957081545\n",
      "Recall: 0.6577540106951871\n",
      "F-measure: 0.5857142857142857\n"
     ]
    }
   ],
   "source": [
    "get_quality(pred_array) #10000"
   ]
  },
  {
   "cell_type": "code",
   "execution_count": 9,
   "metadata": {},
   "outputs": [
    {
     "name": "stdout",
     "output_type": "stream",
     "text": [
      "RMSE: 42.91724483387854\n",
      "Accuracy: 0.865\n",
      "Precision: 0.6616666666666666\n",
      "Recall: 0.662771285475793\n",
      "F-measure: 0.6622185154295246\n"
     ]
    }
   ],
   "source": [
    "get_quality(pred_array) #15000"
   ]
  },
  {
   "cell_type": "code",
   "execution_count": 9,
   "metadata": {},
   "outputs": [
    {
     "name": "stdout",
     "output_type": "stream",
     "text": [
      "RMSE: 47.259825764333144\n",
      "Accuracy: 0.81125\n",
      "Precision: 0.47853403141361256\n",
      "Recall: 0.6400560224089635\n",
      "F-measure: 0.5476333133612941\n"
     ]
    }
   ],
   "source": [
    "get_quality(pred_array) #20000"
   ]
  },
  {
   "cell_type": "code",
   "execution_count": 13,
   "metadata": {},
   "outputs": [
    {
     "name": "stdout",
     "output_type": "stream",
     "text": [
      "RMSE: 44.0995410484576\n",
      "Accuracy: 0.8228\n",
      "Precision: 0.42971887550200805\n",
      "Recall: 0.5737265415549598\n",
      "F-measure: 0.4913892078071183\n"
     ]
    }
   ],
   "source": [
    "get_quality(pred_array) #25000"
   ]
  },
  {
   "cell_type": "code",
   "execution_count": null,
   "metadata": {},
   "outputs": [],
   "source": []
  },
  {
   "cell_type": "code",
   "execution_count": null,
   "metadata": {},
   "outputs": [],
   "source": [
    "rmse = np.sqrt(mean_squared_error(test_Y, pred_array))\n",
    "print('RMSE: ' + str(rmse)) #rbf-30000"
   ]
  },
  {
   "cell_type": "code",
   "execution_count": null,
   "metadata": {},
   "outputs": [],
   "source": [
    "get_quality(pred_array) #rbf-30000"
   ]
  },
  {
   "cell_type": "code",
   "execution_count": 7,
   "metadata": {},
   "outputs": [
    {
     "name": "stdout",
     "output_type": "stream",
     "text": [
      "RMSE: 25.08775719784502\n"
     ]
    }
   ],
   "source": [
    "rmse = np.sqrt(mean_squared_error(test_Y, pred_array))\n",
    "print('RMSE: ' + str(rmse)) #rbf-3000"
   ]
  },
  {
   "cell_type": "code",
   "execution_count": 9,
   "metadata": {},
   "outputs": [
    {
     "name": "stdout",
     "output_type": "stream",
     "text": [
      "Accuracy: 0.9533333333333334\n",
      "Precision: 0.9848484848484849\n",
      "Recall: 0.7065217391304348\n",
      "F-measure: 0.8227848101265823\n"
     ]
    }
   ],
   "source": [
    "get_quality(pred_array) #rbf-3000"
   ]
  },
  {
   "cell_type": "code",
   "execution_count": 7,
   "metadata": {},
   "outputs": [
    {
     "name": "stdout",
     "output_type": "stream",
     "text": [
      "RMSE: 43.86635136944401\n"
     ]
    }
   ],
   "source": [
    "rmse = np.sqrt(mean_squared_error(test_Y, pred_array))\n",
    "print('RMSE: ' + str(rmse)) #rbf-1000"
   ]
  },
  {
   "cell_type": "code",
   "execution_count": 13,
   "metadata": {},
   "outputs": [
    {
     "name": "stdout",
     "output_type": "stream",
     "text": [
      "Accuracy: 0.94\n",
      "Precision: 0.4\n",
      "Recall: 0.18181818181818182\n",
      "F-measure: 0.25000000000000006\n"
     ]
    }
   ],
   "source": [
    "get_quality(pred_array) #rbf-1000"
   ]
  },
  {
   "cell_type": "markdown",
   "metadata": {},
   "source": [
    "### Linear"
   ]
  },
  {
   "cell_type": "markdown",
   "metadata": {},
   "source": [
    "#### Curitiba"
   ]
  },
  {
   "cell_type": "code",
   "execution_count": null,
   "metadata": {},
   "outputs": [],
   "source": [
    "preds_pd = pd.DataFrame(preds, columns=['pred'])\n",
    "preds_pd.to_csv('outputs/q7/rvm_linear_pred_q7_' + str(data_size) + '_' + city + '.csv', index=False)\n",
    "\n",
    "get_quality(pred_array) #25000"
   ]
  },
  {
   "cell_type": "code",
   "execution_count": null,
   "metadata": {},
   "outputs": [],
   "source": [
    "preds_pd = pd.DataFrame(preds, columns=['pred'])\n",
    "preds_pd.to_csv('outputs/q7/rvm_linear_pred_q7_' + str(data_size) + '_' + city + '.csv', index=False)\n",
    "\n",
    "get_quality(pred_array) #20000"
   ]
  },
  {
   "cell_type": "code",
   "execution_count": null,
   "metadata": {},
   "outputs": [],
   "source": [
    "preds_pd = pd.DataFrame(preds, columns=['pred'])\n",
    "preds_pd.to_csv('outputs/q7/rvm_linear_pred_q7_' + str(data_size) + '_' + city + '.csv', index=False)\n",
    "\n",
    "get_quality(pred_array) #15000"
   ]
  },
  {
   "cell_type": "code",
   "execution_count": null,
   "metadata": {},
   "outputs": [],
   "source": [
    "preds_pd = pd.DataFrame(preds, columns=['pred'])\n",
    "preds_pd.to_csv('outputs/q7/rvm_linear_pred_q7_' + str(data_size) + '_' + city + '.csv', index=False)\n",
    "\n",
    "get_quality(pred_array) #10000"
   ]
  },
  {
   "cell_type": "code",
   "execution_count": null,
   "metadata": {},
   "outputs": [],
   "source": [
    "preds_pd = pd.DataFrame(preds, columns=['pred'])\n",
    "preds_pd.to_csv('outputs/q7/rvm_linear_pred_q7_' + str(data_size) + '_' + city + '.csv', index=False)\n",
    "\n",
    "get_quality(pred_array) #5000"
   ]
  },
  {
   "cell_type": "markdown",
   "metadata": {},
   "source": [
    "#### CityA"
   ]
  },
  {
   "cell_type": "code",
   "execution_count": 20,
   "metadata": {},
   "outputs": [
    {
     "name": "stdout",
     "output_type": "stream",
     "text": [
      "RMSE: 33.24640614962295\n",
      "Accuracy: 0.9298\n",
      "Precision: 0.9411764705882353\n",
      "Recall: 0.12121212121212122\n",
      "F-measure: 0.21476510067114093\n"
     ]
    }
   ],
   "source": [
    "preds_pd = pd.DataFrame(preds, columns=['pred'])\n",
    "preds_pd.to_csv('../../Ensemble model/Ensemble/outputs/q7/rvm_linear_pred_q7_' + str(data_size) + '_' + city + '.csv', index=False)\n",
    "\n",
    "get_quality(pred_array) #25000"
   ]
  },
  {
   "cell_type": "code",
   "execution_count": 17,
   "metadata": {},
   "outputs": [
    {
     "name": "stdout",
     "output_type": "stream",
     "text": [
      "RMSE: 42.87077858174348\n",
      "Accuracy: 0.987\n",
      "Precision: 0.0\n",
      "Recall: 0.0\n",
      "F-measure: 0.0\n"
     ]
    }
   ],
   "source": [
    "preds_pd = pd.DataFrame(preds, columns=['pred'])\n",
    "preds_pd.to_csv('../../Ensemble model/Ensemble/outputs/q7/rvm_linear_pred_q7_' + str(data_size) + '_' + city + '.csv', index=False)\n",
    "\n",
    "get_quality(pred_array) #5000"
   ]
  },
  {
   "cell_type": "code",
   "execution_count": null,
   "metadata": {},
   "outputs": [],
   "source": []
  },
  {
   "cell_type": "code",
   "execution_count": 8,
   "metadata": {},
   "outputs": [
    {
     "name": "stdout",
     "output_type": "stream",
     "text": [
      "RMSE: 43.477460345852435\n",
      "Accuracy: 0.94\n",
      "Precision: 0.4\n",
      "Recall: 0.18181818181818182\n",
      "F-measure: 0.25000000000000006\n"
     ]
    }
   ],
   "source": [
    "get_quality(pred_array) #1000"
   ]
  },
  {
   "cell_type": "code",
   "execution_count": 12,
   "metadata": {},
   "outputs": [
    {
     "name": "stdout",
     "output_type": "stream",
     "text": [
      "RMSE: 27.051489268519177\n",
      "Accuracy: 0.938\n",
      "Precision: 0.9337349397590361\n",
      "Recall: 0.7524271844660194\n",
      "F-measure: 0.8333333333333334\n"
     ]
    }
   ],
   "source": [
    "get_quality(pred_array) #5000"
   ]
  },
  {
   "cell_type": "code",
   "execution_count": 11,
   "metadata": {},
   "outputs": [
    {
     "name": "stdout",
     "output_type": "stream",
     "text": [
      "RMSE: 42.63768314043779\n",
      "Accuracy: 0.8255\n",
      "Precision: 0.5273522975929978\n",
      "Recall: 0.6443850267379679\n",
      "F-measure: 0.5800240673886883\n"
     ]
    }
   ],
   "source": [
    "get_quality(pred_array) #10000"
   ]
  },
  {
   "cell_type": "code",
   "execution_count": 12,
   "metadata": {},
   "outputs": [
    {
     "name": "stdout",
     "output_type": "stream",
     "text": [
      "RMSE: 45.559858114008414\n",
      "Accuracy: 0.864\n",
      "Precision: 0.6583747927031509\n",
      "Recall: 0.662771285475793\n",
      "F-measure: 0.6605657237936773\n"
     ]
    }
   ],
   "source": [
    "get_quality(pred_array) #15000"
   ]
  },
  {
   "cell_type": "code",
   "execution_count": 12,
   "metadata": {},
   "outputs": [
    {
     "name": "stdout",
     "output_type": "stream",
     "text": [
      "RMSE: 51.55758430185139\n",
      "Accuracy: 0.80075\n",
      "Precision: 0.4573484069886948\n",
      "Recall: 0.623249299719888\n",
      "F-measure: 0.5275637225844695\n"
     ]
    }
   ],
   "source": [
    "get_quality(pred_array) #20000"
   ]
  },
  {
   "cell_type": "code",
   "execution_count": 9,
   "metadata": {},
   "outputs": [
    {
     "name": "stdout",
     "output_type": "stream",
     "text": [
      "RMSE: 47.66864772541542\n",
      "Accuracy: 0.8094\n",
      "Precision: 0.39902439024390246\n",
      "Recall: 0.5482573726541555\n",
      "F-measure: 0.4618859401468097\n"
     ]
    }
   ],
   "source": [
    "get_quality(pred_array) #25000"
   ]
  },
  {
   "cell_type": "code",
   "execution_count": 9,
   "metadata": {},
   "outputs": [
    {
     "name": "stdout",
     "output_type": "stream",
     "text": [
      "RMSE: 44.178654729052894\n",
      "Accuracy: 0.8045\n",
      "Precision: 0.39619520264681557\n",
      "Recall: 0.5195227765726681\n",
      "F-measure: 0.44955419990614737\n"
     ]
    }
   ],
   "source": [
    "get_quality(pred_array) #30000"
   ]
  },
  {
   "cell_type": "code",
   "execution_count": 7,
   "metadata": {},
   "outputs": [
    {
     "name": "stdout",
     "output_type": "stream",
     "text": [
      "RMSE: 21.693086312479963\n"
     ]
    }
   ],
   "source": [
    "rmse = np.sqrt(mean_squared_error(test_Y, pred_array))\n",
    "print('RMSE: ' + str(rmse)) #linear-4000"
   ]
  },
  {
   "cell_type": "code",
   "execution_count": 7,
   "metadata": {},
   "outputs": [
    {
     "name": "stdout",
     "output_type": "stream",
     "text": [
      "RMSE: 44.16072216916598\n"
     ]
    }
   ],
   "source": [
    "rmse = np.sqrt(mean_squared_error(test_Y, pred_array))\n",
    "print('RMSE: ' + str(rmse)) #linear-30000"
   ]
  },
  {
   "cell_type": "code",
   "execution_count": 13,
   "metadata": {},
   "outputs": [
    {
     "name": "stdout",
     "output_type": "stream",
     "text": [
      "RMSE: 42.63768314043779\n"
     ]
    }
   ],
   "source": [
    "rmse = np.sqrt(mean_squared_error(test_Y, pred_array))\n",
    "print('RMSE: ' + str(rmse)) #linear-10000"
   ]
  },
  {
   "cell_type": "code",
   "execution_count": 10,
   "metadata": {},
   "outputs": [
    {
     "name": "stdout",
     "output_type": "stream",
     "text": [
      "RMSE: 38.61351299825054\n"
     ]
    }
   ],
   "source": [
    "rmse = np.sqrt(mean_squared_error(test_Y, pred_array))\n",
    "print('RMSE: ' + str(rmse)) #rbf-10000"
   ]
  },
  {
   "cell_type": "markdown",
   "metadata": {},
   "source": [
    "### Poly"
   ]
  },
  {
   "cell_type": "markdown",
   "metadata": {},
   "source": [
    "#### Curitiba"
   ]
  },
  {
   "cell_type": "code",
   "execution_count": null,
   "metadata": {},
   "outputs": [],
   "source": [
    "preds_pd = pd.DataFrame(preds, columns=['pred'])\n",
    "preds_pd.to_csv('../../Ensemble model/Ensemble/outputs/q7/rvm_poly_pred_q7_' + str(data_size) + '_' + \n",
    "                city + '.csv', index=False)\n",
    "\n",
    "get_quality(pred_array) #25000"
   ]
  },
  {
   "cell_type": "code",
   "execution_count": null,
   "metadata": {},
   "outputs": [],
   "source": [
    "preds_pd = pd.DataFrame(preds, columns=['pred'])\n",
    "preds_pd.to_csv('../../Ensemble model/Ensemble/outputs/q7/rvm_poly_pred_q7_' + str(data_size) + '_' + \n",
    "                city + '.csv', index=False)\n",
    "\n",
    "get_quality(pred_array) #20000"
   ]
  },
  {
   "cell_type": "code",
   "execution_count": null,
   "metadata": {},
   "outputs": [],
   "source": [
    "preds_pd = pd.DataFrame(preds, columns=['pred'])\n",
    "preds_pd.to_csv('../../Ensemble model/Ensemble/outputs/q7/rvm_poly_pred_q7_' + str(data_size) + '_' + \n",
    "                city + '.csv', index=False)\n",
    "\n",
    "get_quality(pred_array) #15000"
   ]
  },
  {
   "cell_type": "code",
   "execution_count": null,
   "metadata": {},
   "outputs": [],
   "source": [
    "preds_pd = pd.DataFrame(preds, columns=['pred'])\n",
    "preds_pd.to_csv('../../Ensemble model/Ensemble/outputs/q7/rvm_poly_pred_q7_' + str(data_size) + '_' + \n",
    "                city + '.csv', index=False)\n",
    "\n",
    "get_quality(pred_array) #10000"
   ]
  },
  {
   "cell_type": "code",
   "execution_count": null,
   "metadata": {},
   "outputs": [],
   "source": [
    "preds_pd = pd.DataFrame(preds, columns=['pred'])\n",
    "preds_pd.to_csv('../../Ensemble model/Ensemble/outputs/q7/rvm_poly_pred_q7_' + str(data_size) + '_' + \n",
    "                city + '.csv', index=False)\n",
    "\n",
    "get_quality(pred_array) #5000"
   ]
  },
  {
   "cell_type": "markdown",
   "metadata": {},
   "source": [
    "#### CityA"
   ]
  },
  {
   "cell_type": "code",
   "execution_count": 9,
   "metadata": {},
   "outputs": [
    {
     "name": "stdout",
     "output_type": "stream",
     "text": [
      "RMSE: 30.29444355156745\n",
      "Accuracy: 0.9252\n",
      "Precision: 0.6195652173913043\n",
      "Recall: 0.14393939393939395\n",
      "F-measure: 0.2336065573770492\n"
     ]
    }
   ],
   "source": [
    "preds_pd = pd.DataFrame(preds, columns=['pred'])\n",
    "preds_pd.to_csv('../../Ensemble model/Ensemble/outputs/q7/rvm_poly_pred_q7_' + str(data_size) + '_' + \n",
    "                city + '.csv', index=False)\n",
    "\n",
    "get_quality(pred_array) #25000"
   ]
  },
  {
   "cell_type": "code",
   "execution_count": null,
   "metadata": {},
   "outputs": [],
   "source": [
    "preds_pd = pd.DataFrame(preds, columns=['pred'])\n",
    "preds_pd.to_csv('../../Ensemble model/Ensemble/outputs/q7/rvm_poly_pred_q7_' + str(data_size) + '_' + \n",
    "                city + '.csv', index=False)\n",
    "\n",
    "get_quality(pred_array) #20000"
   ]
  },
  {
   "cell_type": "code",
   "execution_count": null,
   "metadata": {},
   "outputs": [],
   "source": [
    "preds_pd = pd.DataFrame(preds, columns=['pred'])\n",
    "preds_pd.to_csv('../../Ensemble model/Ensemble/outputs/q7/rvm_poly_pred_q7_' + str(data_size) + '_' + \n",
    "                city + '.csv', index=False)\n",
    "\n",
    "get_quality(pred_array) #15000"
   ]
  },
  {
   "cell_type": "code",
   "execution_count": null,
   "metadata": {},
   "outputs": [],
   "source": [
    "preds_pd = pd.DataFrame(preds, columns=['pred'])\n",
    "preds_pd.to_csv('../../Ensemble model/Ensemble/outputs/q7/rvm_poly_pred_q7_' + str(data_size) + '_' + \n",
    "                city + '.csv', index=False)\n",
    "\n",
    "get_quality(pred_array) #10000"
   ]
  },
  {
   "cell_type": "code",
   "execution_count": 13,
   "metadata": {},
   "outputs": [
    {
     "name": "stdout",
     "output_type": "stream",
     "text": [
      "RMSE: 38.68908291267115\n",
      "Accuracy: 0.984\n",
      "Precision: 0.0\n",
      "Recall: 0.0\n",
      "F-measure: 0.0\n"
     ]
    }
   ],
   "source": [
    "preds_pd = pd.DataFrame(preds, columns=['pred'])\n",
    "preds_pd.to_csv('../../Ensemble model/Ensemble/outputs/q7/rvm_poly_pred_q7_' + str(data_size) + '_' + \n",
    "                city + '.csv', index=False)\n",
    "\n",
    "get_quality(pred_array) #5000"
   ]
  },
  {
   "cell_type": "code",
   "execution_count": null,
   "metadata": {},
   "outputs": [],
   "source": []
  },
  {
   "cell_type": "code",
   "execution_count": 11,
   "metadata": {},
   "outputs": [
    {
     "name": "stdout",
     "output_type": "stream",
     "text": [
      "RMSE: 43.333844703118544\n",
      "Accuracy: 0.945\n",
      "Precision: 0.5\n",
      "Recall: 0.09090909090909091\n",
      "F-measure: 0.15384615384615385\n"
     ]
    }
   ],
   "source": [
    "get_quality(pred_array) #1000"
   ]
  },
  {
   "cell_type": "code",
   "execution_count": 9,
   "metadata": {},
   "outputs": [
    {
     "name": "stdout",
     "output_type": "stream",
     "text": [
      "RMSE: 26.030245432060145\n",
      "Accuracy: 0.942\n",
      "Precision: 0.9457831325301205\n",
      "Recall: 0.7621359223300971\n",
      "F-measure: 0.8440860215053764\n"
     ]
    }
   ],
   "source": [
    "get_quality(pred_array) #5000"
   ]
  },
  {
   "cell_type": "code",
   "execution_count": 8,
   "metadata": {},
   "outputs": [
    {
     "name": "stdout",
     "output_type": "stream",
     "text": [
      "RMSE: 34.9088053711807\n",
      "Accuracy: 0.86\n",
      "Precision: 0.6186868686868687\n",
      "Recall: 0.6550802139037433\n",
      "F-measure: 0.6363636363636364\n"
     ]
    }
   ],
   "source": [
    "get_quality(pred_array) #10000"
   ]
  },
  {
   "cell_type": "code",
   "execution_count": 16,
   "metadata": {},
   "outputs": [
    {
     "name": "stdout",
     "output_type": "stream",
     "text": [
      "RMSE: 40.08488186678014\n",
      "Accuracy: 0.8786666666666667\n",
      "Precision: 0.7124773960216998\n",
      "Recall: 0.657762938230384\n",
      "F-measure: 0.6840277777777778\n"
     ]
    }
   ],
   "source": [
    "get_quality(pred_array) #15000"
   ]
  },
  {
   "cell_type": "code",
   "execution_count": 8,
   "metadata": {},
   "outputs": [
    {
     "name": "stdout",
     "output_type": "stream",
     "text": [
      "RMSE: 41.57439986464653\n",
      "Accuracy: 0.8305\n",
      "Precision: 0.5213776722090261\n",
      "Recall: 0.6148459383753502\n",
      "F-measure: 0.56426735218509\n"
     ]
    }
   ],
   "source": [
    "get_quality(pred_array) #20000"
   ]
  },
  {
   "cell_type": "code",
   "execution_count": 9,
   "metadata": {},
   "outputs": [
    {
     "name": "stdout",
     "output_type": "stream",
     "text": [
      "RMSE: 39.17801609109757\n",
      "Accuracy: 0.8412\n",
      "Precision: 0.4720930232558139\n",
      "Recall: 0.5442359249329759\n",
      "F-measure: 0.5056039850560398\n"
     ]
    }
   ],
   "source": [
    "get_quality(pred_array) #25000"
   ]
  },
  {
   "cell_type": "code",
   "execution_count": null,
   "metadata": {},
   "outputs": [],
   "source": [
    "get_quality(pred_array) #30000"
   ]
  },
  {
   "cell_type": "code",
   "execution_count": 7,
   "metadata": {},
   "outputs": [
    {
     "name": "stdout",
     "output_type": "stream",
     "text": [
      "RMSE: 34.9088053711807\n"
     ]
    }
   ],
   "source": [
    "rmse = np.sqrt(mean_squared_error(test_Y, pred_array))\n",
    "print('RMSE: ' + str(rmse)) #poly #base toda e 3ll0000- kernel dead"
   ]
  },
  {
   "cell_type": "code",
   "execution_count": null,
   "metadata": {},
   "outputs": [],
   "source": []
  }
 ],
 "metadata": {
  "kernelspec": {
   "display_name": "Python 3",
   "language": "python",
   "name": "python3"
  },
  "language_info": {
   "codemirror_mode": {
    "name": "ipython",
    "version": 3
   },
   "file_extension": ".py",
   "mimetype": "text/x-python",
   "name": "python",
   "nbconvert_exporter": "python",
   "pygments_lexer": "ipython3",
   "version": "3.6.9"
  }
 },
 "nbformat": 4,
 "nbformat_minor": 4
}
