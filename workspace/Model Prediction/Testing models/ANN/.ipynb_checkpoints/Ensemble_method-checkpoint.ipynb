{
 "cells": [
  {
   "cell_type": "code",
   "execution_count": 12,
   "metadata": {},
   "outputs": [],
   "source": [
    "import numpy as np\n",
    "import pandas as pd\n",
    "import random\n",
    "from sklearn.ensemble import RandomForestRegressor\n",
    "from sklearn.metrics import mean_squared_error\n",
    "from sklearn.model_selection import cross_val_score, train_test_split\n",
    "from sklearn import preprocessing\n",
    "from sklearn.ensemble import VotingRegressor\n",
    "from sklearn.externals import joblib\n",
    "from keras.models import Sequential\n",
    "from keras.layers import Dense\n",
    "from keras.engine.input_layer import Input\n",
    "from keras.wrappers.scikit_learn import KerasRegressor\n",
    "import matplotlib.mlab as mlab\n",
    "import seaborn as sns\n",
    "import time"
   ]
  },
  {
   "cell_type": "code",
   "execution_count": 2,
   "metadata": {},
   "outputs": [],
   "source": [
    "file_path = '../../data/input/integrated_data_dummy.csv'\n",
    "\n",
    "data = pd.read_csv(file_path)\n",
    "data = data.sort_values([\"busCode\",\"busCodeSB\"])"
   ]
  },
  {
   "cell_type": "code",
   "execution_count": 3,
   "metadata": {},
   "outputs": [],
   "source": [
    "target_col = ['headway']\n",
    "bb_col = ['busBunching']\n",
    "features = list(set(list(data.columns))-set(target_col)-set(bb_col))"
   ]
  },
  {
   "cell_type": "code",
   "execution_count": 4,
   "metadata": {},
   "outputs": [],
   "source": [
    "# Get label column and remove it from data\n",
    "y = data['headway']\n",
    "data.drop('headway', axis=1, inplace=True)\n",
    "data.drop('busBunching', axis=1, inplace=True)"
   ]
  },
  {
   "cell_type": "code",
   "execution_count": 5,
   "metadata": {},
   "outputs": [],
   "source": [
    "# Normalize data\n",
    "min_max_scaler = preprocessing.MinMaxScaler()\n",
    "data_scale = min_max_scaler.fit_transform(data)"
   ]
  },
  {
   "cell_type": "code",
   "execution_count": 6,
   "metadata": {},
   "outputs": [],
   "source": [
    "# Making training and test data: 80% Training, 20% Test\n",
    "random.seed(15) #to get always the same set\n",
    "train_X, test_X, train_Y, test_Y = train_test_split(data_scale, y, test_size=0.20, random_state=7)"
   ]
  },
  {
   "cell_type": "code",
   "execution_count": 99,
   "metadata": {},
   "outputs": [
    {
     "data": {
      "text/plain": [
       "array([[0.10733453, 0.03333333, 0.07182589, ..., 1.        , 0.        ,\n",
       "        0.        ],\n",
       "       [0.15921288, 0.16666667, 0.16925417, ..., 1.        , 0.        ,\n",
       "        0.        ],\n",
       "       [0.09481216, 0.16666667, 0.05398263, ..., 0.        , 0.        ,\n",
       "        0.        ],\n",
       "       ...,\n",
       "       [0.2862254 , 0.        , 0.31435234, ..., 1.        , 0.        ,\n",
       "        0.        ],\n",
       "       [0.22182469, 0.26666667, 0.23445642, ..., 1.        , 0.        ,\n",
       "        0.        ],\n",
       "       [0.25402504, 0.03333333, 0.40348079, ..., 1.        , 0.        ,\n",
       "        0.        ]])"
      ]
     },
     "execution_count": 99,
     "metadata": {},
     "output_type": "execute_result"
    }
   ],
   "source": [
    "test_X"
   ]
  },
  {
   "cell_type": "markdown",
   "metadata": {},
   "source": [
    "### Artificial Neural Network Model"
   ]
  },
  {
   "cell_type": "code",
   "execution_count": 7,
   "metadata": {},
   "outputs": [],
   "source": [
    "# Define model - Deep Feed Forward\n",
    "random.seed(42)\n",
    "\n",
    "def create_model():\n",
    "\n",
    "    ann_model = Sequential()\n",
    "    ann_model.add(Dense(350, input_dim=len(features), activation= \"relu\"))\n",
    "    ann_model.add(Dense(350, activation= \"relu\"))\n",
    "    ann_model.add(Dense(350, activation= \"relu\"))\n",
    "    ann_model.add(Dense(300, activation= \"relu\"))\n",
    "    ann_model.add(Dense(300, activation= \"relu\"))\n",
    "    ann_model.add(Dense(300, activation= \"relu\"))\n",
    "    ann_model.add(Dense(250, activation= \"relu\"))\n",
    "    ann_model.add(Dense(250, activation= \"relu\"))\n",
    "    ann_model.add(Dense(250, activation= \"relu\"))\n",
    "    ann_model.add(Dense(250, activation= \"relu\"))\n",
    "    ann_model.add(Dense(200, activation= \"relu\"))\n",
    "    ann_model.add(Dense(200, activation= \"relu\"))\n",
    "    ann_model.add(Dense(200, activation= \"relu\"))\n",
    "    ann_model.add(Dense(200, activation= \"relu\"))\n",
    "    ann_model.add(Dense(150, activation= \"relu\"))\n",
    "    ann_model.add(Dense(150, activation= \"relu\"))\n",
    "    ann_model.add(Dense(150, activation= \"relu\"))\n",
    "    ann_model.add(Dense(150, activation= \"relu\"))\n",
    "    ann_model.add(Dense(150, activation= \"relu\"))\n",
    "    ann_model.add(Dense(150, activation= \"relu\"))\n",
    "    ann_model.add(Dense(100, activation= \"relu\"))\n",
    "    ann_model.add(Dense(100, activation= \"relu\"))\n",
    "    ann_model.add(Dense(100, activation= \"relu\"))\n",
    "    ann_model.add(Dense(100, activation= \"relu\"))\n",
    "    ann_model.add(Dense(100, activation= \"relu\"))\n",
    "    ann_model.add(Dense(100, activation= \"relu\"))\n",
    "    ann_model.add(Dense(50, activation= \"relu\"))\n",
    "    ann_model.add(Dense(50, activation= \"relu\"))\n",
    "    ann_model.add(Dense(50, activation= \"relu\"))\n",
    "    ann_model.add(Dense(50, activation= \"relu\"))\n",
    "    ann_model.add(Dense(50, activation= \"relu\"))\n",
    "    ann_model.add(Dense(50, activation= \"relu\"))\n",
    "    ann_model.add(Dense(50, activation= \"relu\"))\n",
    "    ann_model.add(Dense(25, activation= \"relu\"))\n",
    "    ann_model.add(Dense(25, activation= \"relu\"))\n",
    "    ann_model.add(Dense(25, activation= \"relu\"))\n",
    "    ann_model.add(Dense(25, activation= \"relu\"))\n",
    "    ann_model.add(Dense(25, activation= \"relu\"))\n",
    "    ann_model.add(Dense(25, activation= \"relu\"))\n",
    "    ann_model.add(Dense(25, activation= \"relu\")) #40 hidden layers\n",
    "    ann_model.add(Dense(1))\n",
    "\n",
    "    ann_model.compile(loss= \"mean_squared_error\", optimizer=\"adam\", metrics=[\"mean_squared_error\"])\n",
    "\n",
    "    return ann_model\n",
    "\n",
    "estimator = KerasRegressor(build_fn=create_model, epochs=100, batch_size=128)"
   ]
  },
  {
   "cell_type": "markdown",
   "metadata": {},
   "source": [
    "### Random Forest Model"
   ]
  },
  {
   "cell_type": "code",
   "execution_count": 8,
   "metadata": {},
   "outputs": [],
   "source": [
    "best_estimator_rf = 100\n",
    "best_split_rf = 5\n",
    "best_max_feat_rf = 0.8\n",
    "\n",
    "random.seed(42)\n",
    "rf_model = RandomForestRegressor(n_estimators=best_estimator_rf, min_samples_split=best_split_rf,\n",
    "                           max_features=best_max_feat_rf, n_jobs=8)"
   ]
  },
  {
   "cell_type": "markdown",
   "metadata": {},
   "source": [
    "### Ensemble Model"
   ]
  },
  {
   "cell_type": "code",
   "execution_count": 9,
   "metadata": {},
   "outputs": [
    {
     "name": "stderr",
     "output_type": "stream",
     "text": [
      "WARNING: Logging before flag parsing goes to stderr.\n",
      "W0923 14:40:52.649756 140376032859968 deprecation_wrapper.py:119] From /home/veruska/.local/lib/python3.6/site-packages/keras/backend/tensorflow_backend.py:74: The name tf.get_default_graph is deprecated. Please use tf.compat.v1.get_default_graph instead.\n",
      "\n",
      "W0923 14:40:52.683718 140376032859968 deprecation_wrapper.py:119] From /home/veruska/.local/lib/python3.6/site-packages/keras/backend/tensorflow_backend.py:517: The name tf.placeholder is deprecated. Please use tf.compat.v1.placeholder instead.\n",
      "\n",
      "W0923 14:40:52.687411 140376032859968 deprecation_wrapper.py:119] From /home/veruska/.local/lib/python3.6/site-packages/keras/backend/tensorflow_backend.py:4138: The name tf.random_uniform is deprecated. Please use tf.random.uniform instead.\n",
      "\n",
      "W0923 14:40:52.980712 140376032859968 deprecation_wrapper.py:119] From /home/veruska/.local/lib/python3.6/site-packages/keras/optimizers.py:790: The name tf.train.Optimizer is deprecated. Please use tf.compat.v1.train.Optimizer instead.\n",
      "\n",
      "W0923 14:40:53.141397 140376032859968 deprecation_wrapper.py:119] From /home/veruska/.local/lib/python3.6/site-packages/keras/backend/tensorflow_backend.py:986: The name tf.assign_add is deprecated. Please use tf.compat.v1.assign_add instead.\n",
      "\n",
      "W0923 14:40:53.772662 140376032859968 deprecation_wrapper.py:119] From /home/veruska/.local/lib/python3.6/site-packages/keras/backend/tensorflow_backend.py:973: The name tf.assign is deprecated. Please use tf.compat.v1.assign instead.\n",
      "\n"
     ]
    },
    {
     "name": "stdout",
     "output_type": "stream",
     "text": [
      "Epoch 1/100\n",
      "1146106/1146106 [==============================] - 82s 72us/step - loss: 1092.8371 - mean_squared_error: 1092.8371\n",
      "Epoch 2/100\n",
      "1146106/1146106 [==============================] - 81s 71us/step - loss: 851.6647 - mean_squared_error: 851.6647\n",
      "Epoch 3/100\n",
      "1146106/1146106 [==============================] - 81s 71us/step - loss: 794.2726 - mean_squared_error: 794.2726\n",
      "Epoch 4/100\n",
      "1146106/1146106 [==============================] - 81s 71us/step - loss: 753.9554 - mean_squared_error: 753.9554\n",
      "Epoch 5/100\n",
      "1146106/1146106 [==============================] - 81s 71us/step - loss: 716.3793 - mean_squared_error: 716.3793\n",
      "Epoch 6/100\n",
      "1146106/1146106 [==============================] - 81s 71us/step - loss: 689.6643 - mean_squared_error: 689.6643\n",
      "Epoch 7/100\n",
      "1146106/1146106 [==============================] - 81s 71us/step - loss: 662.2581 - mean_squared_error: 662.2581\n",
      "Epoch 8/100\n",
      "1146106/1146106 [==============================] - 81s 71us/step - loss: 638.8599 - mean_squared_error: 638.8599\n",
      "Epoch 9/100\n",
      "1146106/1146106 [==============================] - 81s 71us/step - loss: 619.9501 - mean_squared_error: 619.9501\n",
      "Epoch 10/100\n",
      "1146106/1146106 [==============================] - 81s 71us/step - loss: 599.2013 - mean_squared_error: 599.2013\n",
      "Epoch 11/100\n",
      "1146106/1146106 [==============================] - 81s 71us/step - loss: 585.7499 - mean_squared_error: 585.7499\n",
      "Epoch 12/100\n",
      "1146106/1146106 [==============================] - 81s 71us/step - loss: 567.3535 - mean_squared_error: 567.3535\n",
      "Epoch 13/100\n",
      "1146106/1146106 [==============================] - 81s 71us/step - loss: 565.8209 - mean_squared_error: 565.8209\n",
      "Epoch 14/100\n",
      "1146106/1146106 [==============================] - 81s 71us/step - loss: 540.9822 - mean_squared_error: 540.9822\n",
      "Epoch 15/100\n",
      "1146106/1146106 [==============================] - 81s 71us/step - loss: 522.1175 - mean_squared_error: 522.1175\n",
      "Epoch 16/100\n",
      "1146106/1146106 [==============================] - 81s 71us/step - loss: 518.8403 - mean_squared_error: 518.8403\n",
      "Epoch 17/100\n",
      "1146106/1146106 [==============================] - 81s 71us/step - loss: 502.7168 - mean_squared_error: 502.7168\n",
      "Epoch 18/100\n",
      "1146106/1146106 [==============================] - 81s 71us/step - loss: 508.0762 - mean_squared_error: 508.0762\n",
      "Epoch 19/100\n",
      "1146106/1146106 [==============================] - 81s 71us/step - loss: 485.2187 - mean_squared_error: 485.2187\n",
      "Epoch 20/100\n",
      "1146106/1146106 [==============================] - 81s 71us/step - loss: 470.1567 - mean_squared_error: 470.1567\n",
      "Epoch 21/100\n",
      "1146106/1146106 [==============================] - 81s 71us/step - loss: 464.9069 - mean_squared_error: 464.9069\n",
      "Epoch 22/100\n",
      "1146106/1146106 [==============================] - 82s 71us/step - loss: 451.4887 - mean_squared_error: 451.4887\n",
      "Epoch 23/100\n",
      "1146106/1146106 [==============================] - 81s 71us/step - loss: 444.1073 - mean_squared_error: 444.1073\n",
      "Epoch 24/100\n",
      "1146106/1146106 [==============================] - 82s 71us/step - loss: 435.4603 - mean_squared_error: 435.4603\n",
      "Epoch 25/100\n",
      "1146106/1146106 [==============================] - 81s 71us/step - loss: 422.7719 - mean_squared_error: 422.7719\n",
      "Epoch 26/100\n",
      "1146106/1146106 [==============================] - 81s 71us/step - loss: 423.7570 - mean_squared_error: 423.7570\n",
      "Epoch 27/100\n",
      "1146106/1146106 [==============================] - 81s 71us/step - loss: 412.9106 - mean_squared_error: 412.9106\n",
      "Epoch 28/100\n",
      "1146106/1146106 [==============================] - 81s 71us/step - loss: 403.5162 - mean_squared_error: 403.5162\n",
      "Epoch 29/100\n",
      "1146106/1146106 [==============================] - 81s 71us/step - loss: 394.3920 - mean_squared_error: 394.3920\n",
      "Epoch 30/100\n",
      "1146106/1146106 [==============================] - 81s 71us/step - loss: 399.5481 - mean_squared_error: 399.5481\n",
      "Epoch 31/100\n",
      "1146106/1146106 [==============================] - 81s 71us/step - loss: 381.4094 - mean_squared_error: 381.4094\n",
      "Epoch 32/100\n",
      "1146106/1146106 [==============================] - 81s 71us/step - loss: 382.3527 - mean_squared_error: 382.3527\n",
      "Epoch 33/100\n",
      "1146106/1146106 [==============================] - 81s 71us/step - loss: 374.8054 - mean_squared_error: 374.8054\n",
      "Epoch 34/100\n",
      "1146106/1146106 [==============================] - 81s 71us/step - loss: 380.8887 - mean_squared_error: 380.8887\n",
      "Epoch 36/100\n",
      "1146106/1146106 [==============================] - 81s 71us/step - loss: 352.7840 - mean_squared_error: 352.7840\n",
      "Epoch 37/100\n",
      " 694400/1146106 [=================>............] - ETA: 31s - loss: 347.8304 - mean_squared_error: 347.8304"
     ]
    },
    {
     "name": "stderr",
     "output_type": "stream",
     "text": [
      "IOPub message rate exceeded.\n",
      "The notebook server will temporarily stop sending output\n",
      "to the client in order to avoid crashing it.\n",
      "To change this limit, set the config variable\n",
      "`--NotebookApp.iopub_msg_rate_limit`.\n",
      "\n",
      "Current values:\n",
      "NotebookApp.iopub_msg_rate_limit=1000.0 (msgs/sec)\n",
      "NotebookApp.rate_limit_window=3.0 (secs)\n",
      "\n"
     ]
    },
    {
     "name": "stdout",
     "output_type": "stream",
     "text": [
      "1146106/1146106 [==============================] - 81s 71us/step - loss: 333.8952 - mean_squared_error: 333.8952\n",
      "Epoch 42/100\n",
      "1146106/1146106 [==============================] - 81s 71us/step - loss: 323.0097 - mean_squared_error: 323.0097\n",
      "Epoch 43/100\n",
      "1146106/1146106 [==============================] - 81s 71us/step - loss: 320.5664 - mean_squared_error: 320.5664\n",
      "Epoch 44/100\n",
      "1146106/1146106 [==============================] - 81s 71us/step - loss: 315.5020 - mean_squared_error: 315.5020\n",
      "Epoch 45/100\n",
      "1146106/1146106 [==============================] - 81s 71us/step - loss: 320.2648 - mean_squared_error: 320.2648\n",
      "Epoch 46/100\n",
      "1146106/1146106 [==============================] - 81s 71us/step - loss: 317.2705 - mean_squared_error: 317.2705\n",
      "Epoch 47/100\n",
      "1146106/1146106 [==============================] - 81s 71us/step - loss: 308.5056 - mean_squared_error: 308.5056\n",
      "Epoch 48/100\n",
      "1146106/1146106 [==============================] - 81s 71us/step - loss: 303.6348 - mean_squared_error: 303.6348\n",
      "Epoch 49/100\n",
      "1146106/1146106 [==============================] - 81s 71us/step - loss: 305.7544 - mean_squared_error: 305.7544\n",
      "Epoch 50/100\n",
      "1146106/1146106 [==============================] - 81s 71us/step - loss: 327.8697 - mean_squared_error: 327.8697\n",
      "Epoch 51/100\n",
      "1146106/1146106 [==============================] - 81s 71us/step - loss: 355.6560 - mean_squared_error: 355.6560\n",
      "Epoch 52/100\n",
      "1146106/1146106 [==============================] - 81s 71us/step - loss: 295.9774 - mean_squared_error: 295.9774\n",
      "Epoch 53/100\n",
      "1146106/1146106 [==============================] - 81s 71us/step - loss: 290.2678 - mean_squared_error: 290.2678\n",
      "Epoch 54/100\n",
      "1146106/1146106 [==============================] - 81s 71us/step - loss: 282.6030 - mean_squared_error: 282.6030\n",
      "Epoch 55/100\n",
      "1146106/1146106 [==============================] - 81s 71us/step - loss: 281.3405 - mean_squared_error: 281.3405\n",
      "Epoch 56/100\n",
      "1146106/1146106 [==============================] - 81s 71us/step - loss: 277.8116 - mean_squared_error: 277.8116\n",
      "Epoch 57/100\n",
      "1146106/1146106 [==============================] - 81s 71us/step - loss: 281.8607 - mean_squared_error: 281.8607\n",
      "Epoch 58/100\n",
      "1146106/1146106 [==============================] - 81s 71us/step - loss: 276.9693 - mean_squared_error: 276.9693\n",
      "Epoch 59/100\n",
      "1146106/1146106 [==============================] - 81s 71us/step - loss: 273.6462 - mean_squared_error: 273.6462\n",
      "Epoch 60/100\n",
      "1146106/1146106 [==============================] - 81s 71us/step - loss: 273.5845 - mean_squared_error: 273.5845\n",
      "Epoch 61/100\n",
      "1146106/1146106 [==============================] - 81s 71us/step - loss: 263.5939 - mean_squared_error: 263.5939\n",
      "Epoch 62/100\n",
      "1146106/1146106 [==============================] - 81s 71us/step - loss: 268.5848 - mean_squared_error: 268.5848\n",
      "Epoch 63/100\n",
      "1146106/1146106 [==============================] - 81s 71us/step - loss: 274.8053 - mean_squared_error: 274.8053\n",
      "Epoch 64/100\n",
      "1146106/1146106 [==============================] - 81s 71us/step - loss: 249.9730 - mean_squared_error: 249.9730\n",
      "Epoch 66/100\n",
      "1146106/1146106 [==============================] - 81s 71us/step - loss: 248.0156 - mean_squared_error: 248.0156\n",
      "Epoch 67/100\n",
      "1146106/1146106 [==============================] - 81s 71us/step - loss: 6030.6636 - mean_squared_error: 6030.6636\n",
      "Epoch 68/100\n",
      "1146106/1146106 [==============================] - 81s 71us/step - loss: 249.6426 - mean_squared_error: 249.6426\n",
      "Epoch 69/100\n",
      "1146106/1146106 [==============================] - 81s 71us/step - loss: 243.8629 - mean_squared_error: 243.8629\n",
      "Epoch 70/100\n",
      "1146106/1146106 [==============================] - 81s 71us/step - loss: 244.5891 - mean_squared_error: 244.5891\n",
      "Epoch 71/100\n",
      "1146106/1146106 [==============================] - 81s 71us/step - loss: 243.6414 - mean_squared_error: 243.6414\n",
      "Epoch 72/100\n",
      "1146106/1146106 [==============================] - 81s 71us/step - loss: 235.7328 - mean_squared_error: 235.7328\n",
      "Epoch 73/100\n",
      "1146106/1146106 [==============================] - 81s 71us/step - loss: 231.6502 - mean_squared_error: 231.6502\n",
      "Epoch 74/100\n",
      "1146106/1146106 [==============================] - 81s 71us/step - loss: 230.6606 - mean_squared_error: 230.6606\n",
      "Epoch 75/100\n",
      "1146106/1146106 [==============================] - 81s 71us/step - loss: 240.0590 - mean_squared_error: 240.0590\n",
      "Epoch 76/100\n",
      "1146106/1146106 [==============================] - 81s 71us/step - loss: 233.7292 - mean_squared_error: 233.7292\n",
      "Epoch 77/100\n",
      "1146106/1146106 [==============================] - 81s 71us/step - loss: 225.2024 - mean_squared_error: 225.2024\n",
      "Epoch 78/100\n",
      "1146106/1146106 [==============================] - 81s 71us/step - loss: 221.9348 - mean_squared_error: 221.9348\n",
      "Epoch 79/100\n",
      "1146106/1146106 [==============================] - 81s 71us/step - loss: 224.3016 - mean_squared_error: 224.3016\n",
      "Epoch 80/100\n",
      "1146106/1146106 [==============================] - 81s 71us/step - loss: 252.7114 - mean_squared_error: 252.7114\n",
      "Epoch 81/100\n",
      "1146106/1146106 [==============================] - 81s 71us/step - loss: 226.7070 - mean_squared_error: 226.7070\n",
      "Epoch 82/100\n",
      "1146106/1146106 [==============================] - 81s 71us/step - loss: 215.4307 - mean_squared_error: 215.4307\n",
      "Epoch 83/100\n",
      "1146106/1146106 [==============================] - 81s 71us/step - loss: 213.9384 - mean_squared_error: 213.9384\n",
      "Epoch 84/100\n",
      "1146106/1146106 [==============================] - 81s 71us/step - loss: 214.6425 - mean_squared_error: 214.6425\n",
      "Epoch 85/100\n",
      "1146106/1146106 [==============================] - 81s 71us/step - loss: 235.5598 - mean_squared_error: 235.5598\n",
      "Epoch 86/100\n",
      "1146106/1146106 [==============================] - 81s 71us/step - loss: 219.1517 - mean_squared_error: 219.1517\n",
      "Epoch 87/100\n",
      "1146106/1146106 [==============================] - 81s 71us/step - loss: 208.2474 - mean_squared_error: 208.2474\n",
      "Epoch 88/100\n",
      "1146106/1146106 [==============================] - 81s 71us/step - loss: 381.3821 - mean_squared_error: 381.3821\n",
      "Epoch 89/100\n",
      "1146106/1146106 [==============================] - 81s 71us/step - loss: 210.6602 - mean_squared_error: 210.6602\n",
      "Epoch 90/100\n",
      "1146106/1146106 [==============================] - 81s 71us/step - loss: 234.1084 - mean_squared_error: 234.1084\n",
      "Epoch 91/100\n",
      "1146106/1146106 [==============================] - 81s 71us/step - loss: 217.9349 - mean_squared_error: 217.9349\n",
      "Epoch 92/100\n",
      "1146106/1146106 [==============================] - 81s 71us/step - loss: 210.6414 - mean_squared_error: 210.6414\n",
      "Epoch 93/100\n",
      "1146106/1146106 [==============================] - 81s 71us/step - loss: 218.8262 - mean_squared_error: 218.8262\n",
      "Epoch 94/100\n",
      "1146106/1146106 [==============================] - 81s 71us/step - loss: 200.2553 - mean_squared_error: 200.2553\n",
      "Epoch 95/100\n",
      "1146106/1146106 [==============================] - 81s 71us/step - loss: 201.8092 - mean_squared_error: 201.8092\n",
      "Epoch 96/100\n",
      "1146106/1146106 [==============================] - 81s 71us/step - loss: 198.9643 - mean_squared_error: 198.9643\n",
      "Epoch 97/100\n",
      "1146106/1146106 [==============================] - 81s 71us/step - loss: 203.5167 - mean_squared_error: 203.5167\n",
      "Epoch 98/100\n",
      "1146106/1146106 [==============================] - 81s 71us/step - loss: 199.3701 - mean_squared_error: 199.3701\n",
      "Epoch 99/100\n",
      "1146106/1146106 [==============================] - 81s 71us/step - loss: 194.1075 - mean_squared_error: 194.1075\n",
      "Epoch 100/100\n",
      "1146106/1146106 [==============================] - 81s 71us/step - loss: 198.6186 - mean_squared_error: 198.6186\n"
     ]
    },
    {
     "data": {
      "text/plain": [
       "VotingRegressor(estimators=[('ann',\n",
       "                             <keras.wrappers.scikit_learn.KerasRegressor object at 0x7fab65b56c88>),\n",
       "                            ('rf',\n",
       "                             RandomForestRegressor(bootstrap=True,\n",
       "                                                   criterion='mse',\n",
       "                                                   max_depth=None,\n",
       "                                                   max_features=0.8,\n",
       "                                                   max_leaf_nodes=None,\n",
       "                                                   min_impurity_decrease=0.0,\n",
       "                                                   min_impurity_split=None,\n",
       "                                                   min_samples_leaf=1,\n",
       "                                                   min_samples_split=5,\n",
       "                                                   min_weight_fraction_leaf=0.0,\n",
       "                                                   n_estimators=100, n_jobs=8,\n",
       "                                                   oob_score=False,\n",
       "                                                   random_state=None, verbose=0,\n",
       "                                                   warm_start=False))],\n",
       "                n_jobs=None, weights=None)"
      ]
     },
     "execution_count": 9,
     "metadata": {},
     "output_type": "execute_result"
    }
   ],
   "source": [
    "ensemble = VotingRegressor([('ann', estimator), ('rf', rf_model)])\n",
    "model_history = ensemble.fit(train_X, train_Y)\n",
    "\n",
    "# Saving a pickle file for the model\n",
    "joblib.dump(ensemble, 'Saved_ensemble_ann_rf.pkl')"
   ]
  },
  {
   "cell_type": "code",
   "execution_count": 10,
   "metadata": {},
   "outputs": [
    {
     "name": "stdout",
     "output_type": "stream",
     "text": [
      "0.9139754802912976 of the data is been explained by the model (overfitting).\n"
     ]
    }
   ],
   "source": [
    "# Testing\n",
    "# ensemble_load = joblib.load('Saved_ensemble_ann_rf.pkl') \n",
    "# print(assert ensemble.score(test_X, test_Y) == ensemble_load.score(test_X, test_Y))\n",
    "\n",
    "r2 = ensemble.score(test_X, test_Y)\n",
    "print(str(r2) + \" of the data is been explained by the model.\")"
   ]
  },
  {
   "cell_type": "code",
   "execution_count": 13,
   "metadata": {},
   "outputs": [
    {
     "name": "stdout",
     "output_type": "stream",
     "text": [
      "RMSE: 11.190060764526246\n"
     ]
    }
   ],
   "source": [
    "pred = ensemble.predict(test_X)\n",
    "rmse_ensemble = np.sqrt(mean_squared_error(test_Y, pred))\n",
    "print('RMSE: ' + str(rmse_ensemble))"
   ]
  },
  {
   "cell_type": "code",
   "execution_count": 14,
   "metadata": {},
   "outputs": [
    {
     "ename": "NameError",
     "evalue": "name 'model_history' is not defined",
     "output_type": "error",
     "traceback": [
      "\u001b[0;31m---------------------------------------------------------------------------\u001b[0m",
      "\u001b[0;31mNameError\u001b[0m                                 Traceback (most recent call last)",
      "\u001b[0;32m<ipython-input-14-c2d6d7e4605e>\u001b[0m in \u001b[0;36m<module>\u001b[0;34m\u001b[0m\n\u001b[1;32m      1\u001b[0m \u001b[0;31m# Plot training & validation loss values\u001b[0m\u001b[0;34m\u001b[0m\u001b[0;34m\u001b[0m\u001b[0;34m\u001b[0m\u001b[0m\n\u001b[0;32m----> 2\u001b[0;31m \u001b[0mplt\u001b[0m\u001b[0;34m.\u001b[0m\u001b[0mplot\u001b[0m\u001b[0;34m(\u001b[0m\u001b[0mmodel_history\u001b[0m\u001b[0;34m.\u001b[0m\u001b[0mhistory\u001b[0m\u001b[0;34m[\u001b[0m\u001b[0;34m'loss'\u001b[0m\u001b[0;34m]\u001b[0m\u001b[0;34m)\u001b[0m\u001b[0;34m\u001b[0m\u001b[0;34m\u001b[0m\u001b[0m\n\u001b[0m\u001b[1;32m      3\u001b[0m \u001b[0mplt\u001b[0m\u001b[0;34m.\u001b[0m\u001b[0mtitle\u001b[0m\u001b[0;34m(\u001b[0m\u001b[0;34m'Model loss'\u001b[0m\u001b[0;34m)\u001b[0m\u001b[0;34m\u001b[0m\u001b[0;34m\u001b[0m\u001b[0m\n\u001b[1;32m      4\u001b[0m \u001b[0mplt\u001b[0m\u001b[0;34m.\u001b[0m\u001b[0mylabel\u001b[0m\u001b[0;34m(\u001b[0m\u001b[0;34m'Loss (MSE)'\u001b[0m\u001b[0;34m)\u001b[0m\u001b[0;34m\u001b[0m\u001b[0;34m\u001b[0m\u001b[0m\n\u001b[1;32m      5\u001b[0m \u001b[0mplt\u001b[0m\u001b[0;34m.\u001b[0m\u001b[0mxlabel\u001b[0m\u001b[0;34m(\u001b[0m\u001b[0;34m'Epoch'\u001b[0m\u001b[0;34m)\u001b[0m\u001b[0;34m\u001b[0m\u001b[0;34m\u001b[0m\u001b[0m\n",
      "\u001b[0;31mNameError\u001b[0m: name 'model_history' is not defined"
     ]
    }
   ],
   "source": [
    "# Plot training & validation loss values\n",
    "plt.plot(model_history.history['loss'])\n",
    "plt.title('Model loss')\n",
    "plt.ylabel('Loss (MSE)')\n",
    "plt.xlabel('Epoch')\n",
    "plt.legend(['Train', 'Test'], loc='upper left')\n",
    "plt.show()"
   ]
  },
  {
   "cell_type": "code",
   "execution_count": 15,
   "metadata": {},
   "outputs": [
    {
     "name": "stdout",
     "output_type": "stream",
     "text": [
      "2.236390442197285\n",
      "821.3191901429191\n"
     ]
    }
   ],
   "source": [
    "print(min(pred))\n",
    "print(max(pred))"
   ]
  },
  {
   "cell_type": "code",
   "execution_count": 16,
   "metadata": {},
   "outputs": [
    {
     "data": {
      "text/plain": [
       "Text(0.5, 1.0, 'Residuals')"
      ]
     },
     "execution_count": 16,
     "metadata": {},
     "output_type": "execute_result"
    },
    {
     "data": {
      "image/png": "[encoded data removed]",
      "text/plain": [
       "<Figure size 432x288 with 1 Axes>"
      ]
     },
     "metadata": {},
     "output_type": "display_data"
    }
   ],
   "source": [
    "sns.set(style=\"whitegrid\")\n",
    "\n",
    "# Plot the residuals after fitting a linear model\n",
    "sns.residplot(test_Y, pred, color=\"g\").set_title('Residuals')"
   ]
  },
  {
   "cell_type": "code",
   "execution_count": 17,
   "metadata": {},
   "outputs": [
    {
     "data": {
      "image/png": "[encoded data removed]",
      "text/plain": [
       "<Figure size 432x288 with 1 Axes>"
      ]
     },
     "metadata": {},
     "output_type": "display_data"
    }
   ],
   "source": [
    "# Print all error to see if there is standard or some big outliers\n",
    "plt.figure()\n",
    "plt.plot(test_Y, pred, 'ro', ms=0.5)\n",
    "plt.xlabel('Label')\n",
    "plt.ylabel('Predicted Headway')\n",
    "plt.show()"
   ]
  },
  {
   "cell_type": "code",
   "execution_count": 21,
   "metadata": {},
   "outputs": [
    {
     "data": {
      "image/png": "[encoded data removed]",
      "text/plain": [
       "<Figure size 432x288 with 1 Axes>"
      ]
     },
     "metadata": {},
     "output_type": "display_data"
    }
   ],
   "source": [
    "diff = test_Y - np.array(pred).flatten()\n",
    "num_bins = 10\n",
    "plt.hist(diff, num_bins, facecolor='blue', alpha=0.5, log=True)\n",
    "plt.xlabel('Residual')\n",
    "plt.ylabel('Total')\n",
    "plt.title('Distribution of the residual (label - prediction)')\n",
    "plt.show()"
   ]
  }
 ],
 "metadata": {
  "kernelspec": {
   "display_name": "Python 3",
   "language": "python",
   "name": "python3"
  },
  "language_info": {
   "codemirror_mode": {
    "name": "ipython",
    "version": 3
   },
   "file_extension": ".py",
   "mimetype": "text/x-python",
   "name": "python",
   "nbconvert_exporter": "python",
   "pygments_lexer": "ipython3",
   "version": "3.6.8"
  }
 },
 "nbformat": 4,
 "nbformat_minor": 2
}
