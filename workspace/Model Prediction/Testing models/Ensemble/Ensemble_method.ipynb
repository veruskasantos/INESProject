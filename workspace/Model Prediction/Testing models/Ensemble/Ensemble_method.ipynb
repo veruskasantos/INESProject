{
 "cells": [
  {
   "cell_type": "code",
   "execution_count": 10,
   "metadata": {},
   "outputs": [],
   "source": [
    "import numpy as np\n",
    "import pandas as pd\n",
    "import random\n",
    "from sklearn.ensemble import RandomForestRegressor, RandomForestClassifier\n",
    "from catboost import CatBoostClassifier\n",
    "from sklearn.metrics import mean_squared_error, accuracy_score, precision_score, recall_score, f1_score\n",
    "from sklearn.model_selection import cross_val_score, train_test_split\n",
    "from sklearn import preprocessing\n",
    "from sklearn.ensemble import VotingRegressor\n",
    "from sklearn.neighbors import KNeighborsClassifier\n",
    "from xgboost.sklearn import XGBClassifier\n",
    "from sklearn.neighbors import KNeighborsClassifier\n",
    "from sklearn.externals import joblib\n",
    "from keras.models import Sequential\n",
    "from keras.layers import Dense\n",
    "from keras.engine.input_layer import Input\n",
    "from keras.wrappers.scikit_learn import KerasRegressor\n",
    "from sklearn.multioutput import MultiOutputClassifier\n",
    "import matplotlib.mlab as mlab\n",
    "import matplotlib.pyplot as plt\n",
    "import seaborn as sns\n",
    "import time"
   ]
  },
  {
   "cell_type": "code",
   "execution_count": 11,
   "metadata": {},
   "outputs": [
    {
     "name": "stdout",
     "output_type": "stream",
     "text": [
      "(69884, 420)\n",
      "(69884, 1)\n"
     ]
    },
    {
     "data": {
      "text/html": [
       "<div>\n",
       "<style scoped>\n",
       "    .dataframe tbody tr th:only-of-type {\n",
       "        vertical-align: middle;\n",
       "    }\n",
       "\n",
       "    .dataframe tbody tr th {\n",
       "        vertical-align: top;\n",
       "    }\n",
       "\n",
       "    .dataframe thead th {\n",
       "        text-align: right;\n",
       "    }\n",
       "</style>\n",
       "<table border=\"1\" class=\"dataframe\">\n",
       "  <thead>\n",
       "    <tr style=\"text-align: right;\">\n",
       "      <th></th>\n",
       "      <th>route</th>\n",
       "      <th>tripNum</th>\n",
       "      <th>shapeSequence</th>\n",
       "      <th>shapeLat</th>\n",
       "      <th>shapeLon</th>\n",
       "      <th>distanceTraveledShape</th>\n",
       "      <th>busCode</th>\n",
       "      <th>gpsPointId</th>\n",
       "      <th>gpsLat</th>\n",
       "      <th>gpsLon</th>\n",
       "      <th>...</th>\n",
       "      <th>alertTypeSB_ACCIDENT</th>\n",
       "      <th>alertTypeSB_CHIT_CHAT</th>\n",
       "      <th>alertTypeSB_HAZARD</th>\n",
       "      <th>alertTypeSB_JAM</th>\n",
       "      <th>alertTypeSB_NORMAL</th>\n",
       "      <th>alertTypeSB_POLICE</th>\n",
       "      <th>alertTypeSB_ROAD_CLOSED</th>\n",
       "      <th>jamBlockTypeSB_-</th>\n",
       "      <th>jamBlockTypeSB_NORMAL</th>\n",
       "      <th>jamBlockTypeSB_ROAD_CLOSED_EVENT</th>\n",
       "    </tr>\n",
       "  </thead>\n",
       "  <tbody>\n",
       "    <tr>\n",
       "      <th>0</th>\n",
       "      <td>0.118068</td>\n",
       "      <td>0.0</td>\n",
       "      <td>0.084945</td>\n",
       "      <td>0.264128</td>\n",
       "      <td>0.439400</td>\n",
       "      <td>0.010487</td>\n",
       "      <td>0.0</td>\n",
       "      <td>0.000006</td>\n",
       "      <td>0.265656</td>\n",
       "      <td>0.439493</td>\n",
       "      <td>...</td>\n",
       "      <td>0.0</td>\n",
       "      <td>0.0</td>\n",
       "      <td>0.0</td>\n",
       "      <td>0.0</td>\n",
       "      <td>1.0</td>\n",
       "      <td>0.0</td>\n",
       "      <td>0.0</td>\n",
       "      <td>0.0</td>\n",
       "      <td>1.0</td>\n",
       "      <td>0.0</td>\n",
       "    </tr>\n",
       "    <tr>\n",
       "      <th>1</th>\n",
       "      <td>0.118068</td>\n",
       "      <td>0.0</td>\n",
       "      <td>0.084965</td>\n",
       "      <td>0.264428</td>\n",
       "      <td>0.443488</td>\n",
       "      <td>0.014304</td>\n",
       "      <td>0.0</td>\n",
       "      <td>0.000009</td>\n",
       "      <td>0.265956</td>\n",
       "      <td>0.444051</td>\n",
       "      <td>...</td>\n",
       "      <td>0.0</td>\n",
       "      <td>0.0</td>\n",
       "      <td>0.0</td>\n",
       "      <td>0.0</td>\n",
       "      <td>1.0</td>\n",
       "      <td>0.0</td>\n",
       "      <td>0.0</td>\n",
       "      <td>0.0</td>\n",
       "      <td>1.0</td>\n",
       "      <td>0.0</td>\n",
       "    </tr>\n",
       "    <tr>\n",
       "      <th>2</th>\n",
       "      <td>0.118068</td>\n",
       "      <td>0.0</td>\n",
       "      <td>0.084972</td>\n",
       "      <td>0.263625</td>\n",
       "      <td>0.448606</td>\n",
       "      <td>0.018030</td>\n",
       "      <td>0.0</td>\n",
       "      <td>0.000010</td>\n",
       "      <td>0.264915</td>\n",
       "      <td>0.448957</td>\n",
       "      <td>...</td>\n",
       "      <td>0.0</td>\n",
       "      <td>0.0</td>\n",
       "      <td>0.0</td>\n",
       "      <td>0.0</td>\n",
       "      <td>1.0</td>\n",
       "      <td>0.0</td>\n",
       "      <td>0.0</td>\n",
       "      <td>0.0</td>\n",
       "      <td>1.0</td>\n",
       "      <td>0.0</td>\n",
       "    </tr>\n",
       "    <tr>\n",
       "      <th>3</th>\n",
       "      <td>0.118068</td>\n",
       "      <td>0.0</td>\n",
       "      <td>0.084979</td>\n",
       "      <td>0.261608</td>\n",
       "      <td>0.458297</td>\n",
       "      <td>0.025182</td>\n",
       "      <td>0.0</td>\n",
       "      <td>0.000014</td>\n",
       "      <td>0.263352</td>\n",
       "      <td>0.456961</td>\n",
       "      <td>...</td>\n",
       "      <td>0.0</td>\n",
       "      <td>0.0</td>\n",
       "      <td>0.0</td>\n",
       "      <td>0.0</td>\n",
       "      <td>1.0</td>\n",
       "      <td>0.0</td>\n",
       "      <td>0.0</td>\n",
       "      <td>0.0</td>\n",
       "      <td>1.0</td>\n",
       "      <td>0.0</td>\n",
       "    </tr>\n",
       "    <tr>\n",
       "      <th>4</th>\n",
       "      <td>0.118068</td>\n",
       "      <td>0.0</td>\n",
       "      <td>0.084985</td>\n",
       "      <td>0.260228</td>\n",
       "      <td>0.463266</td>\n",
       "      <td>0.028953</td>\n",
       "      <td>0.0</td>\n",
       "      <td>0.000000</td>\n",
       "      <td>0.261792</td>\n",
       "      <td>0.463170</td>\n",
       "      <td>...</td>\n",
       "      <td>0.0</td>\n",
       "      <td>0.0</td>\n",
       "      <td>0.0</td>\n",
       "      <td>0.0</td>\n",
       "      <td>1.0</td>\n",
       "      <td>0.0</td>\n",
       "      <td>0.0</td>\n",
       "      <td>0.0</td>\n",
       "      <td>1.0</td>\n",
       "      <td>0.0</td>\n",
       "    </tr>\n",
       "  </tbody>\n",
       "</table>\n",
       "<p>5 rows × 420 columns</p>\n",
       "</div>"
      ],
      "text/plain": [
       "      route  tripNum  shapeSequence  shapeLat  shapeLon  \\\n",
       "0  0.118068      0.0       0.084945  0.264128  0.439400   \n",
       "1  0.118068      0.0       0.084965  0.264428  0.443488   \n",
       "2  0.118068      0.0       0.084972  0.263625  0.448606   \n",
       "3  0.118068      0.0       0.084979  0.261608  0.458297   \n",
       "4  0.118068      0.0       0.084985  0.260228  0.463266   \n",
       "\n",
       "   distanceTraveledShape  busCode  gpsPointId    gpsLat    gpsLon  ...  \\\n",
       "0               0.010487      0.0    0.000006  0.265656  0.439493  ...   \n",
       "1               0.014304      0.0    0.000009  0.265956  0.444051  ...   \n",
       "2               0.018030      0.0    0.000010  0.264915  0.448957  ...   \n",
       "3               0.025182      0.0    0.000014  0.263352  0.456961  ...   \n",
       "4               0.028953      0.0    0.000000  0.261792  0.463170  ...   \n",
       "\n",
       "   alertTypeSB_ACCIDENT  alertTypeSB_CHIT_CHAT  alertTypeSB_HAZARD  \\\n",
       "0                   0.0                    0.0                 0.0   \n",
       "1                   0.0                    0.0                 0.0   \n",
       "2                   0.0                    0.0                 0.0   \n",
       "3                   0.0                    0.0                 0.0   \n",
       "4                   0.0                    0.0                 0.0   \n",
       "\n",
       "   alertTypeSB_JAM  alertTypeSB_NORMAL  alertTypeSB_POLICE  \\\n",
       "0              0.0                 1.0                 0.0   \n",
       "1              0.0                 1.0                 0.0   \n",
       "2              0.0                 1.0                 0.0   \n",
       "3              0.0                 1.0                 0.0   \n",
       "4              0.0                 1.0                 0.0   \n",
       "\n",
       "   alertTypeSB_ROAD_CLOSED  jamBlockTypeSB_-  jamBlockTypeSB_NORMAL  \\\n",
       "0                      0.0               0.0                    1.0   \n",
       "1                      0.0               0.0                    1.0   \n",
       "2                      0.0               0.0                    1.0   \n",
       "3                      0.0               0.0                    1.0   \n",
       "4                      0.0               0.0                    1.0   \n",
       "\n",
       "   jamBlockTypeSB_ROAD_CLOSED_EVENT  \n",
       "0                               0.0  \n",
       "1                               0.0  \n",
       "2                               0.0  \n",
       "3                               0.0  \n",
       "4                               0.0  \n",
       "\n",
       "[5 rows x 420 columns]"
      ]
     },
     "execution_count": 11,
     "metadata": {},
     "output_type": "execute_result"
    }
   ],
   "source": [
    "data_path = '../../data/output/normalized_data_X_5p.csv'\n",
    "y_path = '../../data/output/y_5p.csv'\n",
    "\n",
    "data = pd.read_csv(data_path)\n",
    "y = pd.read_csv(y_path)\n",
    "print(data.shape)\n",
    "print(y.shape)\n",
    "data.head()"
   ]
  },
  {
   "cell_type": "code",
   "execution_count": 3,
   "metadata": {},
   "outputs": [],
   "source": [
    "# FILTERING HIGHER HEADWAYS (2% of the data)\n",
    "# two_hours = 120\n",
    "# data = data[data.headway <= two_hours]"
   ]
  },
  {
   "cell_type": "code",
   "execution_count": 3,
   "metadata": {},
   "outputs": [],
   "source": [
    "target_col = ['headway']\n",
    "bb_col = ['busBunching']\n",
    "hd_threshold = [\"headwayThreshold\"]\n",
    "features = list(set(list(data.columns))-set(target_col)-set(bb_col)-set(hd_threshold))"
   ]
  },
  {
   "cell_type": "code",
   "execution_count": 12,
   "metadata": {},
   "outputs": [
    {
     "name": "stdout",
     "output_type": "stream",
     "text": [
      "(1000, 420)\n",
      "(1000, 1)\n"
     ]
    }
   ],
   "source": [
    "# same data of rvm test\n",
    "data = data[0:1000]\n",
    "y = y[0:1000]\n",
    "print(data.shape)\n",
    "print(y.shape)"
   ]
  },
  {
   "cell_type": "code",
   "execution_count": 13,
   "metadata": {},
   "outputs": [],
   "source": [
    "# Making training and test data: 80% Training, 20% Test\n",
    "random.seed(15) #to get always the same set\n",
    "train_X, test_X, train_Y, test_Y = train_test_split(data, y, test_size=0.20, random_state=7)"
   ]
  },
  {
   "cell_type": "code",
   "execution_count": 4,
   "metadata": {},
   "outputs": [],
   "source": [
    "del data\n",
    "del y"
   ]
  },
  {
   "cell_type": "markdown",
   "metadata": {},
   "source": [
    "### Artificial Neural Network Model"
   ]
  },
  {
   "cell_type": "code",
   "execution_count": 7,
   "metadata": {},
   "outputs": [],
   "source": [
    "# Define model - Deep Feed Forward\n",
    "random.seed(42)\n",
    "\n",
    "def create_model():\n",
    "\n",
    "    ann_model = Sequential()\n",
    "    ann_model.add(Dense(350, input_dim=len(features), activation= \"relu\"))\n",
    "    ann_model.add(Dense(350, activation= \"relu\"))\n",
    "    ann_model.add(Dense(350, activation= \"relu\"))\n",
    "    ann_model.add(Dense(300, activation= \"relu\"))\n",
    "    ann_model.add(Dense(300, activation= \"relu\"))\n",
    "    ann_model.add(Dense(300, activation= \"relu\"))\n",
    "    ann_model.add(Dense(250, activation= \"relu\"))\n",
    "    ann_model.add(Dense(250, activation= \"relu\"))\n",
    "    ann_model.add(Dense(250, activation= \"relu\"))\n",
    "    ann_model.add(Dense(250, activation= \"relu\"))\n",
    "    ann_model.add(Dense(200, activation= \"relu\"))\n",
    "    ann_model.add(Dense(200, activation= \"relu\"))\n",
    "    ann_model.add(Dense(200, activation= \"relu\"))\n",
    "    ann_model.add(Dense(200, activation= \"relu\"))\n",
    "    ann_model.add(Dense(150, activation= \"relu\"))\n",
    "    ann_model.add(Dense(150, activation= \"relu\"))\n",
    "    ann_model.add(Dense(150, activation= \"relu\"))\n",
    "    ann_model.add(Dense(150, activation= \"relu\"))\n",
    "    ann_model.add(Dense(150, activation= \"relu\"))\n",
    "    ann_model.add(Dense(150, activation= \"relu\"))\n",
    "    ann_model.add(Dense(100, activation= \"relu\"))\n",
    "    ann_model.add(Dense(100, activation= \"relu\"))\n",
    "    ann_model.add(Dense(100, activation= \"relu\"))\n",
    "    ann_model.add(Dense(100, activation= \"relu\"))\n",
    "    ann_model.add(Dense(100, activation= \"relu\"))\n",
    "    ann_model.add(Dense(100, activation= \"relu\"))\n",
    "    ann_model.add(Dense(50, activation= \"relu\"))\n",
    "    ann_model.add(Dense(50, activation= \"relu\"))\n",
    "    ann_model.add(Dense(50, activation= \"relu\"))\n",
    "    ann_model.add(Dense(50, activation= \"relu\"))\n",
    "    ann_model.add(Dense(50, activation= \"relu\"))\n",
    "    ann_model.add(Dense(50, activation= \"relu\"))\n",
    "    ann_model.add(Dense(50, activation= \"relu\"))\n",
    "    ann_model.add(Dense(25, activation= \"relu\"))\n",
    "    ann_model.add(Dense(25, activation= \"relu\"))\n",
    "    ann_model.add(Dense(25, activation= \"relu\"))\n",
    "    ann_model.add(Dense(25, activation= \"relu\"))\n",
    "    ann_model.add(Dense(25, activation= \"relu\"))\n",
    "    ann_model.add(Dense(25, activation= \"relu\"))\n",
    "    ann_model.add(Dense(25, activation= \"relu\")) #40 hidden layers\n",
    "    ann_model.add(Dense(1))\n",
    "\n",
    "    ann_model.compile(loss= \"mean_squared_error\", optimizer=\"adam\", metrics=[\"mean_squared_error\"])\n",
    "\n",
    "    return ann_model\n",
    "\n",
    "estimator = KerasRegressor(build_fn=create_model, epochs=100, batch_size=128)"
   ]
  },
  {
   "cell_type": "markdown",
   "metadata": {},
   "source": [
    "### Random Forest Model"
   ]
  },
  {
   "cell_type": "code",
   "execution_count": 8,
   "metadata": {},
   "outputs": [],
   "source": [
    "best_estimator_rf = 100\n",
    "best_split_rf = 5\n",
    "best_max_feat_rf = 0.75\n",
    "\n",
    "random.seed(42)\n",
    "rf_model = RandomForestRegressor(n_estimators=best_estimator_rf, min_samples_split=best_split_rf,\n",
    "                           max_features=best_max_feat_rf, n_jobs=-1)"
   ]
  },
  {
   "cell_type": "markdown",
   "metadata": {},
   "source": [
    "### Ensemble Model"
   ]
  },
  {
   "cell_type": "code",
   "execution_count": 9,
   "metadata": {},
   "outputs": [
    {
     "name": "stderr",
     "output_type": "stream",
     "text": [
      "WARNING: Logging before flag parsing goes to stderr.\n",
      "W1014 14:42:21.257663 140533026596672 deprecation_wrapper.py:119] From /home/veruska/.local/lib/python3.6/site-packages/keras/backend/tensorflow_backend.py:74: The name tf.get_default_graph is deprecated. Please use tf.compat.v1.get_default_graph instead.\n",
      "\n",
      "W1014 14:42:21.266859 140533026596672 deprecation_wrapper.py:119] From /home/veruska/.local/lib/python3.6/site-packages/keras/backend/tensorflow_backend.py:517: The name tf.placeholder is deprecated. Please use tf.compat.v1.placeholder instead.\n",
      "\n",
      "W1014 14:42:21.268163 140533026596672 deprecation_wrapper.py:119] From /home/veruska/.local/lib/python3.6/site-packages/keras/backend/tensorflow_backend.py:4138: The name tf.random_uniform is deprecated. Please use tf.random.uniform instead.\n",
      "\n",
      "W1014 14:42:21.593521 140533026596672 deprecation_wrapper.py:119] From /home/veruska/.local/lib/python3.6/site-packages/keras/optimizers.py:790: The name tf.train.Optimizer is deprecated. Please use tf.compat.v1.train.Optimizer instead.\n",
      "\n",
      "W1014 14:42:21.753116 140533026596672 deprecation_wrapper.py:119] From /home/veruska/.local/lib/python3.6/site-packages/keras/backend/tensorflow_backend.py:986: The name tf.assign_add is deprecated. Please use tf.compat.v1.assign_add instead.\n",
      "\n",
      "W1014 14:42:22.327399 140533026596672 deprecation_wrapper.py:119] From /home/veruska/.local/lib/python3.6/site-packages/keras/backend/tensorflow_backend.py:973: The name tf.assign is deprecated. Please use tf.compat.v1.assign instead.\n",
      "\n"
     ]
    },
    {
     "name": "stdout",
     "output_type": "stream",
     "text": [
      "Epoch 1/100\n",
      "1146106/1146106 [==============================] - 82s 72us/step - loss: 1073.1738 - mean_squared_error: 1073.1738\n",
      "Epoch 2/100\n",
      "1146106/1146106 [==============================] - 81s 70us/step - loss: 856.9459 - mean_squared_error: 856.9459\n",
      "Epoch 3/100\n",
      " 768896/1146106 [===================>..........] - ETA: 26s - loss: 790.3078 - mean_squared_error: 790.3078"
     ]
    },
    {
     "ename": "KeyboardInterrupt",
     "evalue": "",
     "output_type": "error",
     "traceback": [
      "\u001b[0;31m---------------------------------------------------------------------------\u001b[0m",
      "\u001b[0;31mKeyboardInterrupt\u001b[0m                         Traceback (most recent call last)",
      "\u001b[0;32m<ipython-input-9-d124e895a764>\u001b[0m in \u001b[0;36m<module>\u001b[0;34m\u001b[0m\n\u001b[1;32m      2\u001b[0m \u001b[0;31m# ensemble = VotingRegressor([('ann', estimator), ('rf', rf_model)], [0.25, 0.75])\u001b[0m\u001b[0;34m\u001b[0m\u001b[0;34m\u001b[0m\u001b[0;34m\u001b[0m\u001b[0m\n\u001b[1;32m      3\u001b[0m \u001b[0;34m\u001b[0m\u001b[0m\n\u001b[0;32m----> 4\u001b[0;31m \u001b[0mmodel_history\u001b[0m \u001b[0;34m=\u001b[0m \u001b[0mensemble\u001b[0m\u001b[0;34m.\u001b[0m\u001b[0mfit\u001b[0m\u001b[0;34m(\u001b[0m\u001b[0mtrain_X\u001b[0m\u001b[0;34m,\u001b[0m \u001b[0mtrain_Y\u001b[0m\u001b[0;34m)\u001b[0m\u001b[0;34m\u001b[0m\u001b[0;34m\u001b[0m\u001b[0m\n\u001b[0m\u001b[1;32m      5\u001b[0m \u001b[0;34m\u001b[0m\u001b[0m\n\u001b[1;32m      6\u001b[0m \u001b[0;31m# Saving a pickle file for the model\u001b[0m\u001b[0;34m\u001b[0m\u001b[0;34m\u001b[0m\u001b[0;34m\u001b[0m\u001b[0m\n",
      "\u001b[0;32m~/.local/lib/python3.6/site-packages/sklearn/ensemble/voting.py\u001b[0m in \u001b[0;36mfit\u001b[0;34m(self, X, y, sample_weight)\u001b[0m\n\u001b[1;32m    455\u001b[0m         \u001b[0mself\u001b[0m \u001b[0;34m:\u001b[0m \u001b[0mobject\u001b[0m\u001b[0;34m\u001b[0m\u001b[0;34m\u001b[0m\u001b[0m\n\u001b[1;32m    456\u001b[0m         \"\"\"\n\u001b[0;32m--> 457\u001b[0;31m         \u001b[0;32mreturn\u001b[0m \u001b[0msuper\u001b[0m\u001b[0;34m(\u001b[0m\u001b[0;34m)\u001b[0m\u001b[0;34m.\u001b[0m\u001b[0mfit\u001b[0m\u001b[0;34m(\u001b[0m\u001b[0mX\u001b[0m\u001b[0;34m,\u001b[0m \u001b[0my\u001b[0m\u001b[0;34m,\u001b[0m \u001b[0msample_weight\u001b[0m\u001b[0;34m)\u001b[0m\u001b[0;34m\u001b[0m\u001b[0;34m\u001b[0m\u001b[0m\n\u001b[0m\u001b[1;32m    458\u001b[0m \u001b[0;34m\u001b[0m\u001b[0m\n\u001b[1;32m    459\u001b[0m     \u001b[0;32mdef\u001b[0m \u001b[0mpredict\u001b[0m\u001b[0;34m(\u001b[0m\u001b[0mself\u001b[0m\u001b[0;34m,\u001b[0m \u001b[0mX\u001b[0m\u001b[0;34m)\u001b[0m\u001b[0;34m:\u001b[0m\u001b[0;34m\u001b[0m\u001b[0;34m\u001b[0m\u001b[0m\n",
      "\u001b[0;32m~/.local/lib/python3.6/site-packages/sklearn/ensemble/voting.py\u001b[0m in \u001b[0;36mfit\u001b[0;34m(self, X, y, sample_weight)\u001b[0m\n\u001b[1;32m     99\u001b[0m                 delayed(_parallel_fit_estimator)(clone(clf), X, y,\n\u001b[1;32m    100\u001b[0m                                                  sample_weight=sample_weight)\n\u001b[0;32m--> 101\u001b[0;31m                 \u001b[0;32mfor\u001b[0m \u001b[0mclf\u001b[0m \u001b[0;32min\u001b[0m \u001b[0mclfs\u001b[0m \u001b[0;32mif\u001b[0m \u001b[0mclf\u001b[0m \u001b[0;32mnot\u001b[0m \u001b[0;32min\u001b[0m \u001b[0;34m(\u001b[0m\u001b[0;32mNone\u001b[0m\u001b[0;34m,\u001b[0m \u001b[0;34m'drop'\u001b[0m\u001b[0;34m)\u001b[0m\u001b[0;34m\u001b[0m\u001b[0;34m\u001b[0m\u001b[0m\n\u001b[0m\u001b[1;32m    102\u001b[0m             )\n\u001b[1;32m    103\u001b[0m \u001b[0;34m\u001b[0m\u001b[0m\n",
      "\u001b[0;32m~/.local/lib/python3.6/site-packages/joblib/parallel.py\u001b[0m in \u001b[0;36m__call__\u001b[0;34m(self, iterable)\u001b[0m\n\u001b[1;32m    919\u001b[0m             \u001b[0;31m# remaining jobs.\u001b[0m\u001b[0;34m\u001b[0m\u001b[0;34m\u001b[0m\u001b[0;34m\u001b[0m\u001b[0m\n\u001b[1;32m    920\u001b[0m             \u001b[0mself\u001b[0m\u001b[0;34m.\u001b[0m\u001b[0m_iterating\u001b[0m \u001b[0;34m=\u001b[0m \u001b[0;32mFalse\u001b[0m\u001b[0;34m\u001b[0m\u001b[0;34m\u001b[0m\u001b[0m\n\u001b[0;32m--> 921\u001b[0;31m             \u001b[0;32mif\u001b[0m \u001b[0mself\u001b[0m\u001b[0;34m.\u001b[0m\u001b[0mdispatch_one_batch\u001b[0m\u001b[0;34m(\u001b[0m\u001b[0miterator\u001b[0m\u001b[0;34m)\u001b[0m\u001b[0;34m:\u001b[0m\u001b[0;34m\u001b[0m\u001b[0;34m\u001b[0m\u001b[0m\n\u001b[0m\u001b[1;32m    922\u001b[0m                 \u001b[0mself\u001b[0m\u001b[0;34m.\u001b[0m\u001b[0m_iterating\u001b[0m \u001b[0;34m=\u001b[0m \u001b[0mself\u001b[0m\u001b[0;34m.\u001b[0m\u001b[0m_original_iterator\u001b[0m \u001b[0;32mis\u001b[0m \u001b[0;32mnot\u001b[0m \u001b[0;32mNone\u001b[0m\u001b[0;34m\u001b[0m\u001b[0;34m\u001b[0m\u001b[0m\n\u001b[1;32m    923\u001b[0m \u001b[0;34m\u001b[0m\u001b[0m\n",
      "\u001b[0;32m~/.local/lib/python3.6/site-packages/joblib/parallel.py\u001b[0m in \u001b[0;36mdispatch_one_batch\u001b[0;34m(self, iterator)\u001b[0m\n\u001b[1;32m    757\u001b[0m                 \u001b[0;32mreturn\u001b[0m \u001b[0;32mFalse\u001b[0m\u001b[0;34m\u001b[0m\u001b[0;34m\u001b[0m\u001b[0m\n\u001b[1;32m    758\u001b[0m             \u001b[0;32melse\u001b[0m\u001b[0;34m:\u001b[0m\u001b[0;34m\u001b[0m\u001b[0;34m\u001b[0m\u001b[0m\n\u001b[0;32m--> 759\u001b[0;31m                 \u001b[0mself\u001b[0m\u001b[0;34m.\u001b[0m\u001b[0m_dispatch\u001b[0m\u001b[0;34m(\u001b[0m\u001b[0mtasks\u001b[0m\u001b[0;34m)\u001b[0m\u001b[0;34m\u001b[0m\u001b[0;34m\u001b[0m\u001b[0m\n\u001b[0m\u001b[1;32m    760\u001b[0m                 \u001b[0;32mreturn\u001b[0m \u001b[0;32mTrue\u001b[0m\u001b[0;34m\u001b[0m\u001b[0;34m\u001b[0m\u001b[0m\n\u001b[1;32m    761\u001b[0m \u001b[0;34m\u001b[0m\u001b[0m\n",
      "\u001b[0;32m~/.local/lib/python3.6/site-packages/joblib/parallel.py\u001b[0m in \u001b[0;36m_dispatch\u001b[0;34m(self, batch)\u001b[0m\n\u001b[1;32m    714\u001b[0m         \u001b[0;32mwith\u001b[0m \u001b[0mself\u001b[0m\u001b[0;34m.\u001b[0m\u001b[0m_lock\u001b[0m\u001b[0;34m:\u001b[0m\u001b[0;34m\u001b[0m\u001b[0;34m\u001b[0m\u001b[0m\n\u001b[1;32m    715\u001b[0m             \u001b[0mjob_idx\u001b[0m \u001b[0;34m=\u001b[0m \u001b[0mlen\u001b[0m\u001b[0;34m(\u001b[0m\u001b[0mself\u001b[0m\u001b[0;34m.\u001b[0m\u001b[0m_jobs\u001b[0m\u001b[0;34m)\u001b[0m\u001b[0;34m\u001b[0m\u001b[0;34m\u001b[0m\u001b[0m\n\u001b[0;32m--> 716\u001b[0;31m             \u001b[0mjob\u001b[0m \u001b[0;34m=\u001b[0m \u001b[0mself\u001b[0m\u001b[0;34m.\u001b[0m\u001b[0m_backend\u001b[0m\u001b[0;34m.\u001b[0m\u001b[0mapply_async\u001b[0m\u001b[0;34m(\u001b[0m\u001b[0mbatch\u001b[0m\u001b[0;34m,\u001b[0m \u001b[0mcallback\u001b[0m\u001b[0;34m=\u001b[0m\u001b[0mcb\u001b[0m\u001b[0;34m)\u001b[0m\u001b[0;34m\u001b[0m\u001b[0;34m\u001b[0m\u001b[0m\n\u001b[0m\u001b[1;32m    717\u001b[0m             \u001b[0;31m# A job can complete so quickly than its callback is\u001b[0m\u001b[0;34m\u001b[0m\u001b[0;34m\u001b[0m\u001b[0;34m\u001b[0m\u001b[0m\n\u001b[1;32m    718\u001b[0m             \u001b[0;31m# called before we get here, causing self._jobs to\u001b[0m\u001b[0;34m\u001b[0m\u001b[0;34m\u001b[0m\u001b[0;34m\u001b[0m\u001b[0m\n",
      "\u001b[0;32m~/.local/lib/python3.6/site-packages/joblib/_parallel_backends.py\u001b[0m in \u001b[0;36mapply_async\u001b[0;34m(self, func, callback)\u001b[0m\n\u001b[1;32m    180\u001b[0m     \u001b[0;32mdef\u001b[0m \u001b[0mapply_async\u001b[0m\u001b[0;34m(\u001b[0m\u001b[0mself\u001b[0m\u001b[0;34m,\u001b[0m \u001b[0mfunc\u001b[0m\u001b[0;34m,\u001b[0m \u001b[0mcallback\u001b[0m\u001b[0;34m=\u001b[0m\u001b[0;32mNone\u001b[0m\u001b[0;34m)\u001b[0m\u001b[0;34m:\u001b[0m\u001b[0;34m\u001b[0m\u001b[0;34m\u001b[0m\u001b[0m\n\u001b[1;32m    181\u001b[0m         \u001b[0;34m\"\"\"Schedule a func to be run\"\"\"\u001b[0m\u001b[0;34m\u001b[0m\u001b[0;34m\u001b[0m\u001b[0m\n\u001b[0;32m--> 182\u001b[0;31m         \u001b[0mresult\u001b[0m \u001b[0;34m=\u001b[0m \u001b[0mImmediateResult\u001b[0m\u001b[0;34m(\u001b[0m\u001b[0mfunc\u001b[0m\u001b[0;34m)\u001b[0m\u001b[0;34m\u001b[0m\u001b[0;34m\u001b[0m\u001b[0m\n\u001b[0m\u001b[1;32m    183\u001b[0m         \u001b[0;32mif\u001b[0m \u001b[0mcallback\u001b[0m\u001b[0;34m:\u001b[0m\u001b[0;34m\u001b[0m\u001b[0;34m\u001b[0m\u001b[0m\n\u001b[1;32m    184\u001b[0m             \u001b[0mcallback\u001b[0m\u001b[0;34m(\u001b[0m\u001b[0mresult\u001b[0m\u001b[0;34m)\u001b[0m\u001b[0;34m\u001b[0m\u001b[0;34m\u001b[0m\u001b[0m\n",
      "\u001b[0;32m~/.local/lib/python3.6/site-packages/joblib/_parallel_backends.py\u001b[0m in \u001b[0;36m__init__\u001b[0;34m(self, batch)\u001b[0m\n\u001b[1;32m    547\u001b[0m         \u001b[0;31m# Don't delay the application, to avoid keeping the input\u001b[0m\u001b[0;34m\u001b[0m\u001b[0;34m\u001b[0m\u001b[0;34m\u001b[0m\u001b[0m\n\u001b[1;32m    548\u001b[0m         \u001b[0;31m# arguments in memory\u001b[0m\u001b[0;34m\u001b[0m\u001b[0;34m\u001b[0m\u001b[0;34m\u001b[0m\u001b[0m\n\u001b[0;32m--> 549\u001b[0;31m         \u001b[0mself\u001b[0m\u001b[0;34m.\u001b[0m\u001b[0mresults\u001b[0m \u001b[0;34m=\u001b[0m \u001b[0mbatch\u001b[0m\u001b[0;34m(\u001b[0m\u001b[0;34m)\u001b[0m\u001b[0;34m\u001b[0m\u001b[0;34m\u001b[0m\u001b[0m\n\u001b[0m\u001b[1;32m    550\u001b[0m \u001b[0;34m\u001b[0m\u001b[0m\n\u001b[1;32m    551\u001b[0m     \u001b[0;32mdef\u001b[0m \u001b[0mget\u001b[0m\u001b[0;34m(\u001b[0m\u001b[0mself\u001b[0m\u001b[0;34m)\u001b[0m\u001b[0;34m:\u001b[0m\u001b[0;34m\u001b[0m\u001b[0;34m\u001b[0m\u001b[0m\n",
      "\u001b[0;32m~/.local/lib/python3.6/site-packages/joblib/parallel.py\u001b[0m in \u001b[0;36m__call__\u001b[0;34m(self)\u001b[0m\n\u001b[1;32m    223\u001b[0m         \u001b[0;32mwith\u001b[0m \u001b[0mparallel_backend\u001b[0m\u001b[0;34m(\u001b[0m\u001b[0mself\u001b[0m\u001b[0;34m.\u001b[0m\u001b[0m_backend\u001b[0m\u001b[0;34m,\u001b[0m \u001b[0mn_jobs\u001b[0m\u001b[0;34m=\u001b[0m\u001b[0mself\u001b[0m\u001b[0;34m.\u001b[0m\u001b[0m_n_jobs\u001b[0m\u001b[0;34m)\u001b[0m\u001b[0;34m:\u001b[0m\u001b[0;34m\u001b[0m\u001b[0;34m\u001b[0m\u001b[0m\n\u001b[1;32m    224\u001b[0m             return [func(*args, **kwargs)\n\u001b[0;32m--> 225\u001b[0;31m                     for func, args, kwargs in self.items]\n\u001b[0m\u001b[1;32m    226\u001b[0m \u001b[0;34m\u001b[0m\u001b[0m\n\u001b[1;32m    227\u001b[0m     \u001b[0;32mdef\u001b[0m \u001b[0m__len__\u001b[0m\u001b[0;34m(\u001b[0m\u001b[0mself\u001b[0m\u001b[0;34m)\u001b[0m\u001b[0;34m:\u001b[0m\u001b[0;34m\u001b[0m\u001b[0;34m\u001b[0m\u001b[0m\n",
      "\u001b[0;32m~/.local/lib/python3.6/site-packages/joblib/parallel.py\u001b[0m in \u001b[0;36m<listcomp>\u001b[0;34m(.0)\u001b[0m\n\u001b[1;32m    223\u001b[0m         \u001b[0;32mwith\u001b[0m \u001b[0mparallel_backend\u001b[0m\u001b[0;34m(\u001b[0m\u001b[0mself\u001b[0m\u001b[0;34m.\u001b[0m\u001b[0m_backend\u001b[0m\u001b[0;34m,\u001b[0m \u001b[0mn_jobs\u001b[0m\u001b[0;34m=\u001b[0m\u001b[0mself\u001b[0m\u001b[0;34m.\u001b[0m\u001b[0m_n_jobs\u001b[0m\u001b[0;34m)\u001b[0m\u001b[0;34m:\u001b[0m\u001b[0;34m\u001b[0m\u001b[0;34m\u001b[0m\u001b[0m\n\u001b[1;32m    224\u001b[0m             return [func(*args, **kwargs)\n\u001b[0;32m--> 225\u001b[0;31m                     for func, args, kwargs in self.items]\n\u001b[0m\u001b[1;32m    226\u001b[0m \u001b[0;34m\u001b[0m\u001b[0m\n\u001b[1;32m    227\u001b[0m     \u001b[0;32mdef\u001b[0m \u001b[0m__len__\u001b[0m\u001b[0;34m(\u001b[0m\u001b[0mself\u001b[0m\u001b[0;34m)\u001b[0m\u001b[0;34m:\u001b[0m\u001b[0;34m\u001b[0m\u001b[0;34m\u001b[0m\u001b[0m\n",
      "\u001b[0;32m~/.local/lib/python3.6/site-packages/sklearn/ensemble/voting.py\u001b[0m in \u001b[0;36m_parallel_fit_estimator\u001b[0;34m(estimator, X, y, sample_weight)\u001b[0m\n\u001b[1;32m     41\u001b[0m             \u001b[0;32mraise\u001b[0m\u001b[0;34m\u001b[0m\u001b[0;34m\u001b[0m\u001b[0m\n\u001b[1;32m     42\u001b[0m     \u001b[0;32melse\u001b[0m\u001b[0;34m:\u001b[0m\u001b[0;34m\u001b[0m\u001b[0;34m\u001b[0m\u001b[0m\n\u001b[0;32m---> 43\u001b[0;31m         \u001b[0mestimator\u001b[0m\u001b[0;34m.\u001b[0m\u001b[0mfit\u001b[0m\u001b[0;34m(\u001b[0m\u001b[0mX\u001b[0m\u001b[0;34m,\u001b[0m \u001b[0my\u001b[0m\u001b[0;34m)\u001b[0m\u001b[0;34m\u001b[0m\u001b[0;34m\u001b[0m\u001b[0m\n\u001b[0m\u001b[1;32m     44\u001b[0m     \u001b[0;32mreturn\u001b[0m \u001b[0mestimator\u001b[0m\u001b[0;34m\u001b[0m\u001b[0;34m\u001b[0m\u001b[0m\n\u001b[1;32m     45\u001b[0m \u001b[0;34m\u001b[0m\u001b[0m\n",
      "\u001b[0;32m~/.local/lib/python3.6/site-packages/keras/wrappers/scikit_learn.py\u001b[0m in \u001b[0;36mfit\u001b[0;34m(self, x, y, **kwargs)\u001b[0m\n\u001b[1;32m    150\u001b[0m         \u001b[0mfit_args\u001b[0m\u001b[0;34m.\u001b[0m\u001b[0mupdate\u001b[0m\u001b[0;34m(\u001b[0m\u001b[0mkwargs\u001b[0m\u001b[0;34m)\u001b[0m\u001b[0;34m\u001b[0m\u001b[0;34m\u001b[0m\u001b[0m\n\u001b[1;32m    151\u001b[0m \u001b[0;34m\u001b[0m\u001b[0m\n\u001b[0;32m--> 152\u001b[0;31m         \u001b[0mhistory\u001b[0m \u001b[0;34m=\u001b[0m \u001b[0mself\u001b[0m\u001b[0;34m.\u001b[0m\u001b[0mmodel\u001b[0m\u001b[0;34m.\u001b[0m\u001b[0mfit\u001b[0m\u001b[0;34m(\u001b[0m\u001b[0mx\u001b[0m\u001b[0;34m,\u001b[0m \u001b[0my\u001b[0m\u001b[0;34m,\u001b[0m \u001b[0;34m**\u001b[0m\u001b[0mfit_args\u001b[0m\u001b[0;34m)\u001b[0m\u001b[0;34m\u001b[0m\u001b[0;34m\u001b[0m\u001b[0m\n\u001b[0m\u001b[1;32m    153\u001b[0m \u001b[0;34m\u001b[0m\u001b[0m\n\u001b[1;32m    154\u001b[0m         \u001b[0;32mreturn\u001b[0m \u001b[0mhistory\u001b[0m\u001b[0;34m\u001b[0m\u001b[0;34m\u001b[0m\u001b[0m\n",
      "\u001b[0;32m~/.local/lib/python3.6/site-packages/keras/engine/training.py\u001b[0m in \u001b[0;36mfit\u001b[0;34m(self, x, y, batch_size, epochs, verbose, callbacks, validation_split, validation_data, shuffle, class_weight, sample_weight, initial_epoch, steps_per_epoch, validation_steps, **kwargs)\u001b[0m\n\u001b[1;32m   1037\u001b[0m                                         \u001b[0minitial_epoch\u001b[0m\u001b[0;34m=\u001b[0m\u001b[0minitial_epoch\u001b[0m\u001b[0;34m,\u001b[0m\u001b[0;34m\u001b[0m\u001b[0;34m\u001b[0m\u001b[0m\n\u001b[1;32m   1038\u001b[0m                                         \u001b[0msteps_per_epoch\u001b[0m\u001b[0;34m=\u001b[0m\u001b[0msteps_per_epoch\u001b[0m\u001b[0;34m,\u001b[0m\u001b[0;34m\u001b[0m\u001b[0;34m\u001b[0m\u001b[0m\n\u001b[0;32m-> 1039\u001b[0;31m                                         validation_steps=validation_steps)\n\u001b[0m\u001b[1;32m   1040\u001b[0m \u001b[0;34m\u001b[0m\u001b[0m\n\u001b[1;32m   1041\u001b[0m     def evaluate(self, x=None, y=None,\n",
      "\u001b[0;32m~/.local/lib/python3.6/site-packages/keras/engine/training_arrays.py\u001b[0m in \u001b[0;36mfit_loop\u001b[0;34m(model, f, ins, out_labels, batch_size, epochs, verbose, callbacks, val_f, val_ins, shuffle, callback_metrics, initial_epoch, steps_per_epoch, validation_steps)\u001b[0m\n\u001b[1;32m    197\u001b[0m                     \u001b[0mins_batch\u001b[0m\u001b[0;34m[\u001b[0m\u001b[0mi\u001b[0m\u001b[0;34m]\u001b[0m \u001b[0;34m=\u001b[0m \u001b[0mins_batch\u001b[0m\u001b[0;34m[\u001b[0m\u001b[0mi\u001b[0m\u001b[0;34m]\u001b[0m\u001b[0;34m.\u001b[0m\u001b[0mtoarray\u001b[0m\u001b[0;34m(\u001b[0m\u001b[0;34m)\u001b[0m\u001b[0;34m\u001b[0m\u001b[0;34m\u001b[0m\u001b[0m\n\u001b[1;32m    198\u001b[0m \u001b[0;34m\u001b[0m\u001b[0m\n\u001b[0;32m--> 199\u001b[0;31m                 \u001b[0mouts\u001b[0m \u001b[0;34m=\u001b[0m \u001b[0mf\u001b[0m\u001b[0;34m(\u001b[0m\u001b[0mins_batch\u001b[0m\u001b[0;34m)\u001b[0m\u001b[0;34m\u001b[0m\u001b[0;34m\u001b[0m\u001b[0m\n\u001b[0m\u001b[1;32m    200\u001b[0m                 \u001b[0mouts\u001b[0m \u001b[0;34m=\u001b[0m \u001b[0mto_list\u001b[0m\u001b[0;34m(\u001b[0m\u001b[0mouts\u001b[0m\u001b[0;34m)\u001b[0m\u001b[0;34m\u001b[0m\u001b[0;34m\u001b[0m\u001b[0m\n\u001b[1;32m    201\u001b[0m                 \u001b[0;32mfor\u001b[0m \u001b[0ml\u001b[0m\u001b[0;34m,\u001b[0m \u001b[0mo\u001b[0m \u001b[0;32min\u001b[0m \u001b[0mzip\u001b[0m\u001b[0;34m(\u001b[0m\u001b[0mout_labels\u001b[0m\u001b[0;34m,\u001b[0m \u001b[0mouts\u001b[0m\u001b[0;34m)\u001b[0m\u001b[0;34m:\u001b[0m\u001b[0;34m\u001b[0m\u001b[0;34m\u001b[0m\u001b[0m\n",
      "\u001b[0;32m~/.local/lib/python3.6/site-packages/keras/backend/tensorflow_backend.py\u001b[0m in \u001b[0;36m__call__\u001b[0;34m(self, inputs)\u001b[0m\n\u001b[1;32m   2713\u001b[0m                 \u001b[0;32mreturn\u001b[0m \u001b[0mself\u001b[0m\u001b[0;34m.\u001b[0m\u001b[0m_legacy_call\u001b[0m\u001b[0;34m(\u001b[0m\u001b[0minputs\u001b[0m\u001b[0;34m)\u001b[0m\u001b[0;34m\u001b[0m\u001b[0;34m\u001b[0m\u001b[0m\n\u001b[1;32m   2714\u001b[0m \u001b[0;34m\u001b[0m\u001b[0m\n\u001b[0;32m-> 2715\u001b[0;31m             \u001b[0;32mreturn\u001b[0m \u001b[0mself\u001b[0m\u001b[0;34m.\u001b[0m\u001b[0m_call\u001b[0m\u001b[0;34m(\u001b[0m\u001b[0minputs\u001b[0m\u001b[0;34m)\u001b[0m\u001b[0;34m\u001b[0m\u001b[0;34m\u001b[0m\u001b[0m\n\u001b[0m\u001b[1;32m   2716\u001b[0m         \u001b[0;32melse\u001b[0m\u001b[0;34m:\u001b[0m\u001b[0;34m\u001b[0m\u001b[0;34m\u001b[0m\u001b[0m\n\u001b[1;32m   2717\u001b[0m             \u001b[0;32mif\u001b[0m \u001b[0mpy_any\u001b[0m\u001b[0;34m(\u001b[0m\u001b[0mis_tensor\u001b[0m\u001b[0;34m(\u001b[0m\u001b[0mx\u001b[0m\u001b[0;34m)\u001b[0m \u001b[0;32mfor\u001b[0m \u001b[0mx\u001b[0m \u001b[0;32min\u001b[0m \u001b[0minputs\u001b[0m\u001b[0;34m)\u001b[0m\u001b[0;34m:\u001b[0m\u001b[0;34m\u001b[0m\u001b[0;34m\u001b[0m\u001b[0m\n",
      "\u001b[0;32m~/.local/lib/python3.6/site-packages/keras/backend/tensorflow_backend.py\u001b[0m in \u001b[0;36m_call\u001b[0;34m(self, inputs)\u001b[0m\n\u001b[1;32m   2673\u001b[0m             \u001b[0mfetched\u001b[0m \u001b[0;34m=\u001b[0m \u001b[0mself\u001b[0m\u001b[0;34m.\u001b[0m\u001b[0m_callable_fn\u001b[0m\u001b[0;34m(\u001b[0m\u001b[0;34m*\u001b[0m\u001b[0marray_vals\u001b[0m\u001b[0;34m,\u001b[0m \u001b[0mrun_metadata\u001b[0m\u001b[0;34m=\u001b[0m\u001b[0mself\u001b[0m\u001b[0;34m.\u001b[0m\u001b[0mrun_metadata\u001b[0m\u001b[0;34m)\u001b[0m\u001b[0;34m\u001b[0m\u001b[0;34m\u001b[0m\u001b[0m\n\u001b[1;32m   2674\u001b[0m         \u001b[0;32melse\u001b[0m\u001b[0;34m:\u001b[0m\u001b[0;34m\u001b[0m\u001b[0;34m\u001b[0m\u001b[0m\n\u001b[0;32m-> 2675\u001b[0;31m             \u001b[0mfetched\u001b[0m \u001b[0;34m=\u001b[0m \u001b[0mself\u001b[0m\u001b[0;34m.\u001b[0m\u001b[0m_callable_fn\u001b[0m\u001b[0;34m(\u001b[0m\u001b[0;34m*\u001b[0m\u001b[0marray_vals\u001b[0m\u001b[0;34m)\u001b[0m\u001b[0;34m\u001b[0m\u001b[0;34m\u001b[0m\u001b[0m\n\u001b[0m\u001b[1;32m   2676\u001b[0m         \u001b[0;32mreturn\u001b[0m \u001b[0mfetched\u001b[0m\u001b[0;34m[\u001b[0m\u001b[0;34m:\u001b[0m\u001b[0mlen\u001b[0m\u001b[0;34m(\u001b[0m\u001b[0mself\u001b[0m\u001b[0;34m.\u001b[0m\u001b[0moutputs\u001b[0m\u001b[0;34m)\u001b[0m\u001b[0;34m]\u001b[0m\u001b[0;34m\u001b[0m\u001b[0;34m\u001b[0m\u001b[0m\n\u001b[1;32m   2677\u001b[0m \u001b[0;34m\u001b[0m\u001b[0m\n",
      "\u001b[0;32m~/.local/lib/python3.6/site-packages/tensorflow/python/client/session.py\u001b[0m in \u001b[0;36m__call__\u001b[0;34m(self, *args, **kwargs)\u001b[0m\n\u001b[1;32m   1456\u001b[0m         ret = tf_session.TF_SessionRunCallable(self._session._session,\n\u001b[1;32m   1457\u001b[0m                                                \u001b[0mself\u001b[0m\u001b[0;34m.\u001b[0m\u001b[0m_handle\u001b[0m\u001b[0;34m,\u001b[0m \u001b[0margs\u001b[0m\u001b[0;34m,\u001b[0m\u001b[0;34m\u001b[0m\u001b[0;34m\u001b[0m\u001b[0m\n\u001b[0;32m-> 1458\u001b[0;31m                                                run_metadata_ptr)\n\u001b[0m\u001b[1;32m   1459\u001b[0m         \u001b[0;32mif\u001b[0m \u001b[0mrun_metadata\u001b[0m\u001b[0;34m:\u001b[0m\u001b[0;34m\u001b[0m\u001b[0;34m\u001b[0m\u001b[0m\n\u001b[1;32m   1460\u001b[0m           \u001b[0mproto_data\u001b[0m \u001b[0;34m=\u001b[0m \u001b[0mtf_session\u001b[0m\u001b[0;34m.\u001b[0m\u001b[0mTF_GetBuffer\u001b[0m\u001b[0;34m(\u001b[0m\u001b[0mrun_metadata_ptr\u001b[0m\u001b[0;34m)\u001b[0m\u001b[0;34m\u001b[0m\u001b[0;34m\u001b[0m\u001b[0m\n",
      "\u001b[0;31mKeyboardInterrupt\u001b[0m: "
     ]
    }
   ],
   "source": [
    "ensemble = VotingRegressor([('ann', estimator), ('rf', rf_model)])\n",
    "# ensemble = VotingRegressor([('ann', estimator), ('rf', rf_model)], [0.25, 0.75])\n",
    "\n",
    "model_history = ensemble.fit(train_X, train_Y)\n",
    "\n",
    "# Saving a pickle file for the model\n",
    "# joblib.dump(ensemble, 'Saved_ensemble_ann_rf.pkl')"
   ]
  },
  {
   "cell_type": "code",
   "execution_count": null,
   "metadata": {},
   "outputs": [],
   "source": [
    "# Saving a pickle file for the model\n",
    "joblib.dump(ensemble, 'Saved_ensemble_ann_rf_gps_gtfs_waze.pkl')"
   ]
  },
  {
   "cell_type": "code",
   "execution_count": 10,
   "metadata": {},
   "outputs": [
    {
     "ename": "AttributeError",
     "evalue": "'VotingRegressor' object has no attribute 'to_json'",
     "output_type": "error",
     "traceback": [
      "\u001b[0;31m---------------------------------------------------------------------------\u001b[0m",
      "\u001b[0;31mAttributeError\u001b[0m                            Traceback (most recent call last)",
      "\u001b[0;32m<ipython-input-10-7f6096b48410>\u001b[0m in \u001b[0;36m<module>\u001b[0;34m\u001b[0m\n\u001b[1;32m      1\u001b[0m \u001b[0;31m# serialize model to JSON\u001b[0m\u001b[0;34m\u001b[0m\u001b[0;34m\u001b[0m\u001b[0;34m\u001b[0m\u001b[0m\n\u001b[0;32m----> 2\u001b[0;31m \u001b[0mmodel_json\u001b[0m \u001b[0;34m=\u001b[0m \u001b[0mensemble\u001b[0m\u001b[0;34m.\u001b[0m\u001b[0mto_json\u001b[0m\u001b[0;34m(\u001b[0m\u001b[0;34m)\u001b[0m\u001b[0;34m\u001b[0m\u001b[0;34m\u001b[0m\u001b[0m\n\u001b[0m\u001b[1;32m      3\u001b[0m \u001b[0;32mwith\u001b[0m \u001b[0mopen\u001b[0m\u001b[0;34m(\u001b[0m\u001b[0;34m\"Saved_ensemble_ann_rf.json\"\u001b[0m\u001b[0;34m,\u001b[0m \u001b[0;34m\"w\"\u001b[0m\u001b[0;34m)\u001b[0m \u001b[0;32mas\u001b[0m \u001b[0mjson_file\u001b[0m\u001b[0;34m:\u001b[0m\u001b[0;34m\u001b[0m\u001b[0;34m\u001b[0m\u001b[0m\n\u001b[1;32m      4\u001b[0m     \u001b[0mjson_file\u001b[0m\u001b[0;34m.\u001b[0m\u001b[0mwrite\u001b[0m\u001b[0;34m(\u001b[0m\u001b[0mmodel_json\u001b[0m\u001b[0;34m)\u001b[0m\u001b[0;34m\u001b[0m\u001b[0;34m\u001b[0m\u001b[0m\n\u001b[1;32m      5\u001b[0m \u001b[0;34m\u001b[0m\u001b[0m\n",
      "\u001b[0;31mAttributeError\u001b[0m: 'VotingRegressor' object has no attribute 'to_json'"
     ]
    }
   ],
   "source": [
    "# serialize model to JSON\n",
    "model_json = ensemble.to_json()\n",
    "with open(\"Saved_ensemble_ann_rf.json\", \"w\") as json_file:\n",
    "    json_file.write(model_json)\n",
    "\n",
    "# serialize weights to HDF5\n",
    "ensemble.save_weights(\"Saved_ensemble_ann_rf.h5\")"
   ]
  },
  {
   "cell_type": "code",
   "execution_count": null,
   "metadata": {},
   "outputs": [],
   "source": [
    "# load json and create model\n",
    "json_file = open(\"Saved_ensemble_ann_rf.json\", 'r')\n",
    "loaded_model_json = json_file.read()\n",
    "json_file.close()\n",
    "loaded_ensemble = model_from_json(loaded_model_json)\n",
    "\n",
    "# load weights into new model\n",
    "loaded_ensemble.load_weights(\"Saved_ensemble_ann_rf.h5\")"
   ]
  },
  {
   "cell_type": "code",
   "execution_count": 13,
   "metadata": {},
   "outputs": [
    {
     "name": "stdout",
     "output_type": "stream",
     "text": [
      "0.9110362437508533 of the data is been explained by the model.\n"
     ]
    }
   ],
   "source": [
    "# Testing\n",
    "# ensemble_load = joblib.load('Saved_ensemble_ann_rf.pkl') \n",
    "\n",
    "r2 = ensemble.score(test_X, test_Y)\n",
    "print(str(r2) + \" of the data is been explained by the model.\")"
   ]
  },
  {
   "cell_type": "code",
   "execution_count": 14,
   "metadata": {},
   "outputs": [],
   "source": [
    "pred_array = ensemble.predict(test_X)\n",
    "# removing the array of each element\n",
    "pred = []\n",
    "for p in pred_array:\n",
    "    pred.append(p)"
   ]
  },
  {
   "cell_type": "code",
   "execution_count": 15,
   "metadata": {},
   "outputs": [
    {
     "name": "stdout",
     "output_type": "stream",
     "text": [
      "RMSE: 11.379622946180477\n"
     ]
    }
   ],
   "source": [
    "rmse_ensemble = np.sqrt(mean_squared_error(test_Y, pred))\n",
    "print('RMSE: ' + str(rmse_ensemble))"
   ]
  },
  {
   "cell_type": "code",
   "execution_count": 16,
   "metadata": {},
   "outputs": [
    {
     "name": "stdout",
     "output_type": "stream",
     "text": [
      "-0.6894040054139637\n",
      "855.0166991412451\n"
     ]
    }
   ],
   "source": [
    "print(min(pred))\n",
    "print(max(pred))"
   ]
  },
  {
   "cell_type": "code",
   "execution_count": null,
   "metadata": {},
   "outputs": [],
   "source": []
  },
  {
   "cell_type": "code",
   "execution_count": 14,
   "metadata": {},
   "outputs": [
    {
     "data": {
      "text/plain": [
       "[79.75750708047445,\n",
       " 8.60137370136806,\n",
       " 14.684301962022655,\n",
       " 23.640552951812744,\n",
       " 29.82436444527762,\n",
       " 24.86532673024099,\n",
       " 34.54785563382236,\n",
       " 16.059246487753732,\n",
       " 33.10449321129209,\n",
       " 92.00352208871551,\n",
       " 41.00388928404309,\n",
       " 73.3005848722912,\n",
       " 7.809535925183979,\n",
       " 5.446959387824649,\n",
       " 10.589710184006464,\n",
       " 12.882876208532423,\n",
       " 34.13400903904902,\n",
       " 3.957438760757446,\n",
       " 23.251643422362093,\n",
       " 27.024398173014326,\n",
       " 9.05687241508847,\n",
       " 25.851686227096614,\n",
       " 13.981360912867958,\n",
       " 12.037009054547266,\n",
       " 15.310100610947712,\n",
       " 72.99503587486628,\n",
       " 10.865424662998745,\n",
       " 19.822064355693335,\n",
       " 268.8203242507209,\n",
       " 36.34643377084443,\n",
       " 9.406814143044606,\n",
       " 28.843554991305137,\n",
       " 10.57414121082851,\n",
       " 25.56401214599609,\n",
       " 17.839225890568322,\n",
       " 4.1380053515909045,\n",
       " 33.86892912092663,\n",
       " 14.570769330705915,\n",
       " 12.953734591166178,\n",
       " 11.107158788408551,\n",
       " 9.557621159689766,\n",
       " 8.605540935153051,\n",
       " 199.0028899158296,\n",
       " 7.726329036167689,\n",
       " 12.24779386577676,\n",
       " 13.497360268910725,\n",
       " 24.07799072865077,\n",
       " 14.436349837530226,\n",
       " 62.523255813796794,\n",
       " 70.13588796270463,\n",
       " 17.37308563633708,\n",
       " 16.346481134142195,\n",
       " 4.857102876935686,\n",
       " 15.91739796720232,\n",
       " 13.854805662700109,\n",
       " 25.57802517191569,\n",
       " 40.529063887096584,\n",
       " 17.48020341001238,\n",
       " 28.503753269195556,\n",
       " 9.161538901374453,\n",
       " 51.24448210035051,\n",
       " 21.502830628531317,\n",
       " 19.61547074006646,\n",
       " 7.425259727544082,\n",
       " 62.797731929234104,\n",
       " 14.299842457362585,\n",
       " 21.550829013874008,\n",
       " 8.233904986426944,\n",
       " 39.54720445015317,\n",
       " 19.85212864303589,\n",
       " 24.754407758712773,\n",
       " 38.249157208033964,\n",
       " 32.44605414454142,\n",
       " 40.535372865222755,\n",
       " 7.899542884661521,\n",
       " 37.44802564784459,\n",
       " 19.440986224583217,\n",
       " 40.46164967346191,\n",
       " 21.953577056802196,\n",
       " 18.10587815204637,\n",
       " 20.34076859555926,\n",
       " 19.849411789031254,\n",
       " 12.445902594553958,\n",
       " 24.958858700888495,\n",
       " 11.384956627437045,\n",
       " 10.965049137660435,\n",
       " 18.424282113574804,\n",
       " 8.41926357505435,\n",
       " 105.48369760713123,\n",
       " 7.164228649139404,\n",
       " 19.686482929593044,\n",
       " 84.93881877790179,\n",
       " 69.00800461396716,\n",
       " 7.270585014343262,\n",
       " 25.7767486441476,\n",
       " 15.163375616164435,\n",
       " 17.04424386687506,\n",
       " 13.55533841682203,\n",
       " 14.434543062556871,\n",
       " 38.385707433791396,\n",
       " 20.480549899328324,\n",
       " 14.557960387638637,\n",
       " 5.365870070205623,\n",
       " 9.229152530670165,\n",
       " 14.645358813149587,\n",
       " 9.263045917692638,\n",
       " 11.741014235087805,\n",
       " 20.911929715292793,\n",
       " 7.5575266816275475,\n",
       " 13.569719652720861,\n",
       " 12.042220999595449,\n",
       " 37.302226759229384,\n",
       " 7.816791877564929,\n",
       " 16.860205808185395,\n",
       " 55.369540997823094,\n",
       " 50.39813085065569,\n",
       " 18.9300488201323,\n",
       " 339.8910615234375,\n",
       " 51.61554780106319,\n",
       " 7.586638221278334,\n",
       " 5.317390061060588,\n",
       " 14.417643841202647,\n",
       " 40.90836836714972,\n",
       " 21.334750925881522,\n",
       " 58.985323216756186,\n",
       " 36.10728322928292,\n",
       " 11.967725177674069,\n",
       " 24.39834031736696,\n",
       " 12.60086203602382,\n",
       " 28.66942503465925,\n",
       " 5.49866602289109,\n",
       " 7.244487595611836,\n",
       " 59.24857975788859,\n",
       " 123.73506107148668,\n",
       " 21.926478075844898,\n",
       " 30.822090417044503,\n",
       " 60.181767669677726,\n",
       " 3.388392689023699,\n",
       " 32.36287172504112,\n",
       " 43.649910430181606,\n",
       " 19.194466198330836,\n",
       " 17.435392765045165,\n",
       " 29.344612084524975,\n",
       " 12.316572988328478,\n",
       " 6.205016755966913,\n",
       " 36.92863471112933,\n",
       " 19.282710201263423,\n",
       " 81.03752921328193,\n",
       " 59.47442198134913,\n",
       " 30.962735492342993,\n",
       " 25.71922405460903,\n",
       " 23.904115356990268,\n",
       " 9.118285974048433,\n",
       " 33.1936703692845,\n",
       " 9.345961694626581,\n",
       " 57.189389587402346,\n",
       " 8.793271606626964,\n",
       " 54.07611090015229,\n",
       " 6.052142170588176,\n",
       " 8.713093590872628,\n",
       " 15.41972499720256,\n",
       " 33.02911863726661,\n",
       " 18.50985556484404,\n",
       " 17.885112714313326,\n",
       " 49.486752430870425,\n",
       " 6.198204485790037,\n",
       " 11.59475599534171,\n",
       " 9.925926332746233,\n",
       " 13.88495970498948,\n",
       " 15.147057260604129,\n",
       " 10.661054686410086,\n",
       " 18.22851262592134,\n",
       " 13.95904069410052,\n",
       " 17.090866465878175,\n",
       " 42.562709439958844,\n",
       " 10.740437657393418,\n",
       " 23.585562014443532,\n",
       " 10.025395172399875,\n",
       " 78.00349875313894,\n",
       " 41.923578132662406,\n",
       " 30.453271429400424,\n",
       " 30.029798848833355,\n",
       " 35.814449665614525,\n",
       " 12.610898810910973,\n",
       " 11.95508450172061,\n",
       " 15.036490747179304,\n",
       " 33.76251028442383,\n",
       " 9.930238739195326,\n",
       " 122.07691761707125,\n",
       " 13.427439314887637,\n",
       " 18.342320663997107,\n",
       " 9.602673678171065,\n",
       " 14.548552712031773,\n",
       " 8.022039795103527,\n",
       " 22.87358947917394,\n",
       " 26.69142639886765,\n",
       " 4.480669441223145,\n",
       " 50.64250385466076,\n",
       " 7.156491282326835,\n",
       " 6.134533814566476,\n",
       " 16.032959659031455,\n",
       " 24.678185846981034,\n",
       " 16.040269480024065,\n",
       " 12.76137986600967,\n",
       " 26.883415080479214,\n",
       " 5.8380289548403255,\n",
       " 6.4967783494264015,\n",
       " 12.198521324430192,\n",
       " 153.57371315220425,\n",
       " 13.1176875365121,\n",
       " 9.393973425183976,\n",
       " 67.40017469751265,\n",
       " 35.468444973536904,\n",
       " 6.460457243056523,\n",
       " 55.963753011629166,\n",
       " 11.138947894777571,\n",
       " 44.042324923924035,\n",
       " 23.596203256334572,\n",
       " 7.640862745829992,\n",
       " 59.075088084629606,\n",
       " 20.617323886689686,\n",
       " 37.128694521767756,\n",
       " 10.097428782326833,\n",
       " 14.312323551177977,\n",
       " 34.732476104736335,\n",
       " 4.84188078389849,\n",
       " 18.43524988119943,\n",
       " 11.072279771895635,\n",
       " 17.92215162440709,\n",
       " 16.419339921133858,\n",
       " 30.50312038421631,\n",
       " 8.989184734707786,\n",
       " 34.01020754441761,\n",
       " 260.3522594168527,\n",
       " 29.766996338262192,\n",
       " 50.275743077596026,\n",
       " 531.8585540306455,\n",
       " 10.5826330306923,\n",
       " 19.896869367781143,\n",
       " 59.49900352478027,\n",
       " 76.72838534836542,\n",
       " 4.09975335093907,\n",
       " 15.842280656905404,\n",
       " 38.85945808688078,\n",
       " 295.87108843360005,\n",
       " 24.407899045126776,\n",
       " 47.59138917102236,\n",
       " 19.604187307811912,\n",
       " 53.62378056262787,\n",
       " 18.27385288801647,\n",
       " 35.6753000327519,\n",
       " 7.226645153045654,\n",
       " 21.787594192868195,\n",
       " 13.417523793175105,\n",
       " 15.577935929252988,\n",
       " 9.018767193005715,\n",
       " 7.983149503435409,\n",
       " 17.449339179266065,\n",
       " 9.788288357870918,\n",
       " 97.76894948904855,\n",
       " 45.69084291127854,\n",
       " 32.637215358189174,\n",
       " 42.52120445687431,\n",
       " 26.50028156477032,\n",
       " 21.49906968598139,\n",
       " 19.969545947483613,\n",
       " 25.109603773571198,\n",
       " 37.189846036638535,\n",
       " 9.704820236338168,\n",
       " 11.956262347993395,\n",
       " 13.218366275514876,\n",
       " 4.819456462860108,\n",
       " 83.94680561901275,\n",
       " 19.454400337219237,\n",
       " 41.82344413448516,\n",
       " 3.252460263660976,\n",
       " 18.71178707159133,\n",
       " 15.201702063696729,\n",
       " 7.463467025443074,\n",
       " 5.633921291351318,\n",
       " 18.730796465555827,\n",
       " 23.24246815345401,\n",
       " 68.56383274187361,\n",
       " 21.139920386723112,\n",
       " 29.730932204803864,\n",
       " 13.569502640587942,\n",
       " 21.447723472050253,\n",
       " 6.055901996612549,\n",
       " 26.579319187345956,\n",
       " 136.91288119797477,\n",
       " 8.859115980420793,\n",
       " 4.519062710898263,\n",
       " 26.20414463536977,\n",
       " 583.2237854003906,\n",
       " 78.24278897639684,\n",
       " 11.19614306804112,\n",
       " 24.1771323768979,\n",
       " 30.747286868867423,\n",
       " 46.67880595784374,\n",
       " 41.85856629453386,\n",
       " 13.78588204501924,\n",
       " 15.588783012935092,\n",
       " 16.94894756738241,\n",
       " 30.822311008403826,\n",
       " 28.159812580835254,\n",
       " 20.195797003973098,\n",
       " 19.080227346692766,\n",
       " 39.82508443414598,\n",
       " 16.577026613417125,\n",
       " 33.42835264260428,\n",
       " 48.266342080615814,\n",
       " 18.596354419625683,\n",
       " 85.59896830267309,\n",
       " 8.475143819354829,\n",
       " 8.511917699442282,\n",
       " 5.409729377564929,\n",
       " 34.09483466139294,\n",
       " 39.870302303132554,\n",
       " 25.395712903736992,\n",
       " 14.772709943680534,\n",
       " 12.840417865208217,\n",
       " 28.085111415318075,\n",
       " 5.742810285460897,\n",
       " 62.642447688148145,\n",
       " 98.14608321271625,\n",
       " 11.68022104246792,\n",
       " 25.520985336806742,\n",
       " 6.171848425183978,\n",
       " 10.085577240634272,\n",
       " 12.739679969605948,\n",
       " 34.3991895424979,\n",
       " 12.34080150987115,\n",
       " 16.94091696185157,\n",
       " 34.50872356939935,\n",
       " 38.43794482094902,\n",
       " 23.31795643496823,\n",
       " 9.936368606022425,\n",
       " 16.90311447715759,\n",
       " 20.654875644586024,\n",
       " 37.730757545471185,\n",
       " 12.609524595533099,\n",
       " 13.846963048117498,\n",
       " 14.940555200552012,\n",
       " 34.182519147600445,\n",
       " 96.99866027396068,\n",
       " 56.995658514642095,\n",
       " 10.569217472803023,\n",
       " 33.50276577758788,\n",
       " 19.248855394363403,\n",
       " 63.969660645984476,\n",
       " 43.78337413315546,\n",
       " 6.263617579868862,\n",
       " 10.785905826114474,\n",
       " 10.425878221602666,\n",
       " 14.152022507622128,\n",
       " 10.697646843484986,\n",
       " 14.172060979570661,\n",
       " 4.19127716745649,\n",
       " 14.785831438064575,\n",
       " 81.41869746180942,\n",
       " 13.278446214040121,\n",
       " 20.594584113257273,\n",
       " 27.14346476037161,\n",
       " 2.258544853755406,\n",
       " 110.96645776657832,\n",
       " 19.055553809393018,\n",
       " 42.75838368424915,\n",
       " 51.00822438339961,\n",
       " 15.283757197788782,\n",
       " 15.676164297376362,\n",
       " 4.977817831675211,\n",
       " 11.725016146680492,\n",
       " 4.221641677402315,\n",
       " 15.292959210867412,\n",
       " 16.785190117790584,\n",
       " 64.85189321377577,\n",
       " 11.031921520233155,\n",
       " 32.444514073227396,\n",
       " 30.429133514404295,\n",
       " 17.03572904423305,\n",
       " 50.76706602180776,\n",
       " 22.25352906472342,\n",
       " 5.156624399209951,\n",
       " 8.220110281081428,\n",
       " 14.186128813153221,\n",
       " 10.638646061306911,\n",
       " 14.499770216805597,\n",
       " 32.58283914402553,\n",
       " 26.031891081673756,\n",
       " 7.588691715785436,\n",
       " 17.122655839920046,\n",
       " 46.61591293965789,\n",
       " 12.276600140162877,\n",
       " 106.74150632149832,\n",
       " 12.936730371566046,\n",
       " 103.91595251973469,\n",
       " 19.805206456502276,\n",
       " 13.881411225091846,\n",
       " 23.8111214528765,\n",
       " 59.112664698646185,\n",
       " 9.497020541690643,\n",
       " 53.061455283755365,\n",
       " 19.458911318097794,\n",
       " 16.454497641608825,\n",
       " 11.148051772253854,\n",
       " 19.018768533252533,\n",
       " 28.747133751460478,\n",
       " 17.972301670619416,\n",
       " 36.23875251079741,\n",
       " 21.200577810559956,\n",
       " 34.98392321268717,\n",
       " 20.81550336395198,\n",
       " 25.066880917685367,\n",
       " 8.39556334151104,\n",
       " 25.031004778725762,\n",
       " 43.02478484108333,\n",
       " 74.11776467023577,\n",
       " 55.565089911869606,\n",
       " 10.120075620560419,\n",
       " 27.53194296191988,\n",
       " 18.062688485133187,\n",
       " 12.884206416943371,\n",
       " 18.62388557815552,\n",
       " 9.95148186256772,\n",
       " 16.82959733972921,\n",
       " 4.072420441945393,\n",
       " 14.423777527127946,\n",
       " 11.073687802087694,\n",
       " 5.946224795230023,\n",
       " 11.387125829424178,\n",
       " 9.514118492671424,\n",
       " 17.210476401374454,\n",
       " 55.290347693307055,\n",
       " 15.94725539470854,\n",
       " 251.11408105904715,\n",
       " 7.841803372337704,\n",
       " 33.382208422161284,\n",
       " 14.967951777412779,\n",
       " 44.93076597522554,\n",
       " 24.07144444747198,\n",
       " 49.02804179963613,\n",
       " 17.17020394661313,\n",
       " 8.149272265215457,\n",
       " 29.392436616625105,\n",
       " 14.224189819517589,\n",
       " 13.572526871817452,\n",
       " 27.087421687674606,\n",
       " 24.77633670479911,\n",
       " 18.5506709589277,\n",
       " 31.671934497833256,\n",
       " 2.334384139469692,\n",
       " 60.42754940425987,\n",
       " 2.8868264176504956,\n",
       " 14.29411971782503,\n",
       " 25.332249033428383,\n",
       " 2.7550894966125488,\n",
       " 69.03601093110584,\n",
       " 22.193413110658717,\n",
       " 12.090875965935844,\n",
       " 28.171536995115744,\n",
       " 20.811015091850642,\n",
       " 86.131119400751,\n",
       " 77.70775345865886,\n",
       " 8.540747767312185,\n",
       " 118.42874346837957,\n",
       " 12.868471576509023,\n",
       " 39.429272319248746,\n",
       " 10.104592709677558,\n",
       " 8.562236661093575,\n",
       " 35.269677453903924,\n",
       " 50.30298370869954,\n",
       " 21.17691938512563,\n",
       " 7.039969455943834,\n",
       " 19.77219623384022,\n",
       " 16.1622131616997,\n",
       " 5.141022232055664,\n",
       " 8.863681758517309,\n",
       " 7.4070318472726004,\n",
       " 16.851036759859554,\n",
       " 15.792735858372279,\n",
       " 10.134407741001676,\n",
       " 20.17050508774927,\n",
       " 8.166416872841971,\n",
       " 72.08359004865373,\n",
       " 19.308827250889372,\n",
       " 84.7938024902344,\n",
       " 110.3195945491378,\n",
       " 9.666435713631767,\n",
       " 16.323988803599306,\n",
       " 9.297052048505643,\n",
       " 48.101056261335096,\n",
       " 22.060238711584184,\n",
       " 41.90226499394008,\n",
       " 8.586671432495116,\n",
       " 14.198360220384801,\n",
       " 18.030340876988,\n",
       " 52.65239914231074,\n",
       " 6.585778604234968,\n",
       " 76.04542857796805,\n",
       " 55.47428632397673,\n",
       " 14.80026415852138,\n",
       " 5.215980411529541,\n",
       " 5.116348026160038,\n",
       " 5.7905503878820515,\n",
       " 16.615971899395895,\n",
       " 12.5340670219603,\n",
       " 52.21465995461601,\n",
       " 73.44776117234002,\n",
       " 18.936032404763356,\n",
       " 12.465990479696366,\n",
       " 14.230219976515999,\n",
       " 7.8194425661821905,\n",
       " 51.30928084856504,\n",
       " 139.3268170282273,\n",
       " 8.468527025164981,\n",
       " 2.6650418775649296,\n",
       " 41.36838199651808,\n",
       " 18.859602929705666,\n",
       " 107.55731126331149,\n",
       " 16.60021185802278,\n",
       " 8.209458492824009,\n",
       " 11.578833671024867,\n",
       " 15.273721739087787,\n",
       " 9.162232361748105,\n",
       " 14.617606541588193,\n",
       " 9.800004744938443,\n",
       " 65.2845384078253,\n",
       " 40.43271076874505,\n",
       " 14.053897544588363,\n",
       " 20.507611571720673,\n",
       " 37.06504787781126,\n",
       " 25.581826047079904,\n",
       " 4.577362180074056,\n",
       " 21.6960189720418,\n",
       " 26.989578515915646,\n",
       " 34.63886151613507,\n",
       " 13.239217249370757,\n",
       " 13.738861266272409,\n",
       " 30.31302396779754,\n",
       " 25.1634944837661,\n",
       " 4.451358498164586,\n",
       " 3.3801852758333277,\n",
       " 9.87810634077163,\n",
       " 33.12768477448964,\n",
       " 31.238574641454775,\n",
       " 21.838872302282425,\n",
       " 28.56693896557036,\n",
       " 81.07399353027344,\n",
       " 32.21223588062468,\n",
       " 15.169179343698344,\n",
       " 10.509601952416556,\n",
       " 5.4832965278625485,\n",
       " 109.37717671381964,\n",
       " 10.903384937236837,\n",
       " 12.622964958100091,\n",
       " 25.75236510794503,\n",
       " 37.093749582744785,\n",
       " 12.27489213507516,\n",
       " 33.00073685564314,\n",
       " 4.36772575378418,\n",
       " 12.987923576899938,\n",
       " 6.836047219412667,\n",
       " 52.57277118937174,\n",
       " 21.688061530158635,\n",
       " 18.228293905530652,\n",
       " 46.374525688898,\n",
       " 6.836863027209327,\n",
       " 11.441113642556328,\n",
       " 11.84875021089826,\n",
       " 12.621745202291583,\n",
       " 7.909228549230666,\n",
       " 11.453519763946534,\n",
       " 34.379618766421366,\n",
       " 26.796245045583497,\n",
       " 41.759272540137886,\n",
       " 22.16239591948604,\n",
       " 11.425410676592872,\n",
       " 60.0010504989624,\n",
       " 21.31111000028008,\n",
       " 27.957773468017578,\n",
       " 15.433064608256021,\n",
       " 17.96661440949213,\n",
       " 16.001162740979876,\n",
       " 27.53819188490368,\n",
       " 31.955280997866677,\n",
       " 5.5848834968748555,\n",
       " 33.63021154567174,\n",
       " 20.383387248200258,\n",
       " 34.75037324342273,\n",
       " 9.867627428921786,\n",
       " 27.145393858228413,\n",
       " 37.498084439958845,\n",
       " 22.924605519430976,\n",
       " 26.41251083646502,\n",
       " 26.163780877249586,\n",
       " 10.188590089343844,\n",
       " 66.8747591450018,\n",
       " 7.176986689431327,\n",
       " 5.063307188942319,\n",
       " 8.901341958000547,\n",
       " 18.620882254100984,\n",
       " 15.017995752970373,\n",
       " 15.43265785226368,\n",
       " 70.90123906126476,\n",
       " 30.456356126529318,\n",
       " 16.109052864074705,\n",
       " 19.571291049131577,\n",
       " 6.081359987349737,\n",
       " 11.751825191514317,\n",
       " 2.8017264013744536,\n",
       " 29.924895760672435,\n",
       " 23.038681102752683,\n",
       " 12.312045694342938,\n",
       " 7.188244342622302,\n",
       " 22.51062733949934,\n",
       " 10.96283784730094,\n",
       " 17.741612362089608,\n",
       " 42.81278085214854,\n",
       " 10.741708241318213,\n",
       " 10.645317541576565,\n",
       " 136.91907123602005,\n",
       " 16.496143288748605,\n",
       " 51.39707044764928,\n",
       " 8.789321378526232,\n",
       " 20.477713970729287,\n",
       " 2.6579793775649296,\n",
       " 22.987525327459558,\n",
       " 9.843621578563342,\n",
       " 94.34545018223353,\n",
       " 11.889960208983645,\n",
       " 25.30217019818459,\n",
       " 32.77973481332688,\n",
       " 22.363050078982397,\n",
       " 28.5524373668489,\n",
       " 39.49457985033307,\n",
       " 82.67743412853422,\n",
       " 27.484368474324548,\n",
       " 50.41906394766936,\n",
       " 25.565329155876523,\n",
       " 20.348494902722244,\n",
       " 46.25479566066868,\n",
       " 32.27093461445399,\n",
       " 30.271769514440187,\n",
       " 13.53082983334859,\n",
       " 59.9974454664255,\n",
       " 16.67122085843767,\n",
       " 43.202745882901276,\n",
       " 19.275808481191657,\n",
       " 7.070812710898263,\n",
       " 26.64619561713082,\n",
       " 24.299269591740206,\n",
       " 40.01054891531809,\n",
       " 41.03683668409075,\n",
       " 37.71805981082008,\n",
       " 13.314425951078341,\n",
       " 11.339347343444825,\n",
       " 23.57919724709647,\n",
       " 29.33664514378139,\n",
       " 50.75080036926269,\n",
       " 5.226398001988728,\n",
       " 17.060925653185162,\n",
       " 22.897367653438025,\n",
       " 291.1565039382208,\n",
       " 15.48007300567627,\n",
       " 8.669005162920271,\n",
       " 4.815827591850644,\n",
       " 16.697951259431385,\n",
       " 15.86003827176775,\n",
       " 56.04698805930399,\n",
       " 74.65913107808433,\n",
       " 44.5259814213344,\n",
       " 20.589463337943663,\n",
       " 12.78225317437308,\n",
       " 31.709949073791506,\n",
       " 58.82034142721269,\n",
       " 9.134482063111804,\n",
       " 43.67280885314942,\n",
       " 60.070393217904225,\n",
       " 6.612211520422074,\n",
       " 13.371497974668229,\n",
       " 66.76717257254464,\n",
       " 44.42851359558105,\n",
       " 27.0137034601484,\n",
       " 17.708084891727992,\n",
       " 37.65658827318465,\n",
       " 14.127921085630142,\n",
       " 433.14839016287664,\n",
       " 34.84206409503887,\n",
       " 5.532913901374453,\n",
       " 24.149453342801053,\n",
       " 23.467397329602917,\n",
       " 5.89361620281269,\n",
       " 36.51583766682943,\n",
       " 11.368688509623208,\n",
       " 81.03886207362584,\n",
       " 26.62777279935564,\n",
       " 19.553161663418727,\n",
       " 35.83167765045166,\n",
       " 65.05144505852219,\n",
       " 42.743753976004456,\n",
       " 20.65580707005092,\n",
       " 7.673885638645717,\n",
       " 11.7174250188555,\n",
       " 11.788937733241493,\n",
       " 62.314615766252786,\n",
       " 15.096441521054224,\n",
       " 14.901549654279435,\n",
       " 14.01175014041719,\n",
       " 8.65486199315389,\n",
       " 39.692572496868316,\n",
       " 29.64735325622559,\n",
       " 95.12651572223348,\n",
       " 18.75929678171331,\n",
       " 37.57532863598778,\n",
       " 24.775735541752404,\n",
       " 36.20479638806019,\n",
       " 17.083104719434466,\n",
       " 133.72104139055526,\n",
       " 26.472539966583245,\n",
       " 10.653360093071349,\n",
       " 11.70525070135934,\n",
       " 96.76202755737303,\n",
       " 26.79237754948933,\n",
       " 10.299055418741137,\n",
       " 9.955689143589565,\n",
       " 15.133013738607431,\n",
       " 14.136744476863317,\n",
       " 35.40235110800607,\n",
       " 18.25213729558672,\n",
       " 16.05505883516584,\n",
       " 35.29252035195486,\n",
       " 20.361927918025426,\n",
       " 8.371596686771937,\n",
       " 4.575569708687918,\n",
       " 30.4366512621925,\n",
       " 16.535213681175595,\n",
       " 71.68968641589937,\n",
       " 23.465088231767925,\n",
       " 17.70841316858927,\n",
       " 8.4637562386649,\n",
       " 32.138839111328124,\n",
       " 23.564702144622803,\n",
       " 66.41955306716193,\n",
       " 7.631929879143125,\n",
       " 59.46324548775809,\n",
       " 50.36170194571359,\n",
       " 33.934469673701685,\n",
       " 23.750961013248983,\n",
       " 138.52033220563618,\n",
       " 15.268271672054805,\n",
       " 35.166763894217354,\n",
       " 17.039806292034328,\n",
       " 17.47451414871216,\n",
       " 5.829949615660167,\n",
       " 6.608348425183976,\n",
       " 18.185347034759854,\n",
       " 47.40113681684222,\n",
       " 4.206973425183977,\n",
       " 41.858965081714445,\n",
       " 17.316946254366922,\n",
       " 31.044283752986363,\n",
       " 25.64100181325277,\n",
       " 17.138723322941708,\n",
       " 12.648217633945082,\n",
       " 4.401496423019474,\n",
       " 8.871823727743967,\n",
       " 62.36223392577398,\n",
       " 25.108022160121372,\n",
       " 36.0072904510498,\n",
       " 15.422728120531353,\n",
       " 10.523186198288228,\n",
       " 15.247546237152891,\n",
       " 43.2870197819301,\n",
       " 28.298784015655517,\n",
       " 7.008506169818697,\n",
       " 13.409421796072099,\n",
       " 22.812411267152594,\n",
       " 27.22578072448004,\n",
       " 32.97964532421162,\n",
       " 57.637988376303674,\n",
       " 43.22270988682338,\n",
       " 70.6092151392817,\n",
       " 45.595467375751184,\n",
       " 11.744562856129235,\n",
       " 41.51420579892113,\n",
       " 8.90766315889565,\n",
       " 60.07624747503371,\n",
       " 18.584184631166003,\n",
       " 5.768735329945882,\n",
       " 10.957638837541854,\n",
       " 21.5623411467416,\n",
       " 15.713459526243664,\n",
       " 18.829992570604595,\n",
       " 8.58896449661255,\n",
       " 3.6381490204220723,\n",
       " 33.35452797154017,\n",
       " 24.73708760488601,\n",
       " 7.063904716764176,\n",
       " 25.478680465334932,\n",
       " 22.183678115844728,\n",
       " 25.241375398181738,\n",
       " 13.058518600282216,\n",
       " 11.436372004703008,\n",
       " 38.65685115796044,\n",
       " 26.127539260319306,\n",
       " 23.37136790429978,\n",
       " 63.38495176914761,\n",
       " 63.566864309401744,\n",
       " 16.15055846386864,\n",
       " 52.837897914341525,\n",
       " 11.611348440442768,\n",
       " 30.932218759809224,\n",
       " 10.884425490788052,\n",
       " 31.106881016867504,\n",
       " 48.459816833496106,\n",
       " 10.2645587141359,\n",
       " 222.39352526564826,\n",
       " 19.210739620208738,\n",
       " 16.56175274349394,\n",
       " 10.929087837582543,\n",
       " 12.432621297563825,\n",
       " 78.50147441900344,\n",
       " 16.459668212708973,\n",
       " 47.09826676177978,\n",
       " 60.16079139854796,\n",
       " 8.898695476531982,\n",
       " 50.095974981762105,\n",
       " 32.22249608248757,\n",
       " 51.19502225856038,\n",
       " 17.765429988651483,\n",
       " 23.342765393756686,\n",
       " 43.49733118075416,\n",
       " 9.702580297197615,\n",
       " 7.5606186478024435,\n",
       " 17.481924296606152,\n",
       " 8.436854856400263,\n",
       " 424.37566627720423,\n",
       " 8.179854651769002,\n",
       " 28.107652867187955,\n",
       " 59.6297463033767,\n",
       " 52.27160445658366,\n",
       " 27.36184937722342,\n",
       " 39.20101555415562,\n",
       " 21.313995287032352,\n",
       " 57.98863576180594,\n",
       " 31.43837545776367,\n",
       " 156.75327355521068,\n",
       " 63.70287905774798,\n",
       " 151.33072743733723,\n",
       " 14.278336582910448,\n",
       " 54.339610837465756,\n",
       " 85.34112350899832,\n",
       " 43.41429734366281,\n",
       " 20.424387025015697,\n",
       " 21.72879957199097,\n",
       " 42.384093566894535,\n",
       " 10.993287326086136,\n",
       " 20.1613256875901,\n",
       " 25.342506518227708,\n",
       " 11.120434630621045,\n",
       " 74.49624570792062,\n",
       " 28.939679107302712,\n",
       " 218.55834208461215,\n",
       " 4.148169853755405,\n",
       " 52.22844925471715,\n",
       " 25.85273240825108,\n",
       " 47.46167010661533,\n",
       " 31.36519622530256,\n",
       " 18.80181990178426,\n",
       " 6.441591220492407,\n",
       " 37.16732765881428,\n",
       " 46.05218652634393,\n",
       " 4.7366936632792145,\n",
       " 44.56153169595626,\n",
       " 15.329641100202286,\n",
       " 24.70699982997349,\n",
       " 15.366054789043611,\n",
       " 12.862525755473548,\n",
       " 36.24669722420829,\n",
       " 31.929478836901772,\n",
       " 19.13628652572632,\n",
       " 22.327665699005124,\n",
       " 13.256681266603017,\n",
       " 19.41285555594308,\n",
       " 34.52406231253488,\n",
       " 46.191231468200684,\n",
       " 31.309684620085218,\n",
       " 18.47646644651735,\n",
       " 5.705318214598156,\n",
       " 6.445660055631167,\n",
       " 31.736881828118207,\n",
       " 9.228610329945882,\n",
       " 107.59443583025252,\n",
       " 21.35652948688325,\n",
       " 16.145621315547395,\n",
       " 18.853563574109756,\n",
       " 48.418600867861784,\n",
       " 13.182258366539362,\n",
       " 9.753404519778826,\n",
       " 11.789283892690916,\n",
       " 10.967256329491025,\n",
       " 19.294156417301725,\n",
       " 10.271817181723456,\n",
       " 6.6414978868393675,\n",
       " 10.852279988788425,\n",
       " 54.719710691691475,\n",
       " 16.564552805945986,\n",
       " 17.06033879198347,\n",
       " 37.200612224892616,\n",
       " 68.42222399321057,\n",
       " 6.2247754537491575,\n",
       " 7.389465529123942,\n",
       " 30.068967284611297,\n",
       " 3.9880559052039577,\n",
       " 104.13407295590355,\n",
       " 9.84214651952471,\n",
       " 17.532410423097154,\n",
       " 138.66583134024486,\n",
       " 11.08979182088943,\n",
       " 18.451400938760663,\n",
       " 16.248661218915665,\n",
       " 28.9723802982512,\n",
       " 8.00525270861671,\n",
       " 19.64515154193696,\n",
       " 9.33192103930882,\n",
       " 19.128070131392708,\n",
       " 61.46127913266135,\n",
       " 17.504389471970597,\n",
       " 9.51893751689366,\n",
       " 39.8278945236206,\n",
       " 54.88698637317476,\n",
       " 5.77446760559082,\n",
       " 70.24606815592448,\n",
       " 14.09238770203363,\n",
       " 25.439436119806196,\n",
       " 3.3155269966125487,\n",
       " 28.857751364026747,\n",
       " 6.156967730930873,\n",
       " 23.50844778024583,\n",
       " 19.859626989818754,\n",
       " 11.631794070331168,\n",
       " 21.051889981769378,\n",
       " 29.9175431217012,\n",
       " 3.1005031870887394,\n",
       " 30.103086071014403,\n",
       " 5.835863329932803,\n",
       " 36.251075203668506,\n",
       " 13.8520926500048,\n",
       " 23.847573389870785,\n",
       " 62.10959071568081,\n",
       " 49.2550344863165,\n",
       " 13.75157269183072,\n",
       " 5.408140632976185,\n",
       " 24.263306151798794,\n",
       " 10.645517334595386,\n",
       " 18.638552945454915,\n",
       " 49.27373707653227,\n",
       " 21.033733620234898,\n",
       " 18.745574495497202,\n",
       " 5.446557565705601,\n",
       " 12.840035095850626,\n",
       " 26.486821267066063,\n",
       " 18.770598255520774,\n",
       " 48.65963987077986,\n",
       " 11.30087394332886,\n",
       " 25.396561523982456,\n",
       " 6.1183704561506005,\n",
       " 56.51778495266737,\n",
       " 23.630437794821603,\n",
       " 12.809934009915308,\n",
       " 28.31994247545515,\n",
       " 54.64344226146881,\n",
       " 22.437833021799722,\n",
       " 19.08781536338443,\n",
       " 30.524292380262764,\n",
       " 3.12793528456915,\n",
       " 19.925413038707916,\n",
       " 37.17495697711763,\n",
       " 7.222630610148112,\n",
       " 24.80667510545408,\n",
       " 8.880683989570256,\n",
       " 9.385135506931322,\n",
       " 7.498141400473458,\n",
       " 17.19475995599656,\n",
       " 25.970318189117304,\n",
       " 37.54581473940895,\n",
       " 11.397033556702848,\n",
       " 32.63361080750965,\n",
       " 4.214610329945883,\n",
       " 96.06092076764787,\n",
       " 6.1445109426407605,\n",
       " 26.41108981468564,\n",
       " 8.686452271416073,\n",
       " 35.53146812057495,\n",
       " 21.782033276149203,\n",
       " 37.263012921139264,\n",
       " 26.957710439046227,\n",
       " 13.881018020084927,\n",
       " 16.68794759677705,\n",
       " 13.5530717074324,\n",
       " ...]"
      ]
     },
     "execution_count": 14,
     "metadata": {},
     "output_type": "execute_result"
    }
   ],
   "source": [
    "pred"
   ]
  },
  {
   "cell_type": "code",
   "execution_count": 15,
   "metadata": {},
   "outputs": [
    {
     "data": {
      "text/plain": [
       "341586     84\n",
       "573490      4\n",
       "50737      12\n",
       "840747     25\n",
       "796060     30\n",
       "           ..\n",
       "1421784    16\n",
       "514588      3\n",
       "1169290    82\n",
       "1023921    12\n",
       "988420     15\n",
       "Name: headway, Length: 286527, dtype: int64"
      ]
     },
     "execution_count": 15,
     "metadata": {},
     "output_type": "execute_result"
    }
   ],
   "source": [
    "test_Y"
   ]
  },
  {
   "cell_type": "code",
   "execution_count": 17,
   "metadata": {},
   "outputs": [
    {
     "data": {
      "text/plain": [
       "341586     5\n",
       "573490     4\n",
       "50737      5\n",
       "840747     5\n",
       "796060     5\n",
       "          ..\n",
       "1421784    5\n",
       "514588     6\n",
       "1169290    5\n",
       "1023921    5\n",
       "988420     5\n",
       "Name: headwayThreshold, Length: 286527, dtype: int64"
      ]
     },
     "execution_count": 17,
     "metadata": {},
     "output_type": "execute_result"
    }
   ],
   "source": [
    "alpha = y_threshold[test_Y.index]\n",
    "alpha"
   ]
  },
  {
   "cell_type": "code",
   "execution_count": 18,
   "metadata": {},
   "outputs": [],
   "source": [
    "bb_pred = np.less_equal(pred, alpha)\n",
    "bb_label = np.less_equal(test_Y, alpha)"
   ]
  },
  {
   "cell_type": "code",
   "execution_count": 18,
   "metadata": {},
   "outputs": [
    {
     "data": {
      "text/plain": [
       "341586     False\n",
       "573490     False\n",
       "50737      False\n",
       "840747     False\n",
       "796060     False\n",
       "           ...  \n",
       "1421784    False\n",
       "514588     False\n",
       "1169290    False\n",
       "1023921    False\n",
       "988420     False\n",
       "Name: headwayThreshold, Length: 286527, dtype: bool"
      ]
     },
     "execution_count": 18,
     "metadata": {},
     "output_type": "execute_result"
    }
   ],
   "source": [
    "bb_pred"
   ]
  },
  {
   "cell_type": "code",
   "execution_count": 19,
   "metadata": {},
   "outputs": [
    {
     "data": {
      "text/plain": [
       "341586     False\n",
       "573490      True\n",
       "50737      False\n",
       "840747     False\n",
       "796060     False\n",
       "           ...  \n",
       "1421784    False\n",
       "514588      True\n",
       "1169290    False\n",
       "1023921    False\n",
       "988420     False\n",
       "Length: 286527, dtype: bool"
      ]
     },
     "execution_count": 19,
     "metadata": {},
     "output_type": "execute_result"
    }
   ],
   "source": [
    "bb_label"
   ]
  },
  {
   "cell_type": "code",
   "execution_count": 19,
   "metadata": {},
   "outputs": [],
   "source": [
    "accuracy = accuracy_score(bb_label, bb_pred)\n",
    "precision = precision_score(bb_label, bb_pred)\n",
    "recall = recall_score(bb_label, bb_pred)\n",
    "f_measure = f1_score(bb_label, bb_pred)"
   ]
  },
  {
   "cell_type": "code",
   "execution_count": 20,
   "metadata": {},
   "outputs": [
    {
     "name": "stdout",
     "output_type": "stream",
     "text": [
      "Accuracy: 0.8903663529091499\n",
      "Precision: 0.952386966405658\n",
      "Recall: 0.19547917152707572\n",
      "F-measure: 0.32437896548015915\n"
     ]
    }
   ],
   "source": [
    "print(\"Accuracy: \" + str(accuracy))\n",
    "print(\"Precision: \" + str(precision))\n",
    "print(\"Recall: \" + str(recall))\n",
    "print(\"F-measure: \" + str(f_measure))"
   ]
  },
  {
   "cell_type": "code",
   "execution_count": null,
   "metadata": {},
   "outputs": [],
   "source": []
  },
  {
   "cell_type": "code",
   "execution_count": 14,
   "metadata": {},
   "outputs": [
    {
     "ename": "AttributeError",
     "evalue": "'VotingRegressor' object has no attribute 'history'",
     "output_type": "error",
     "traceback": [
      "\u001b[0;31m---------------------------------------------------------------------------\u001b[0m",
      "\u001b[0;31mAttributeError\u001b[0m                            Traceback (most recent call last)",
      "\u001b[0;32m<ipython-input-14-c2d6d7e4605e>\u001b[0m in \u001b[0;36m<module>\u001b[0;34m\u001b[0m\n\u001b[1;32m      1\u001b[0m \u001b[0;31m# Plot training & validation loss values\u001b[0m\u001b[0;34m\u001b[0m\u001b[0;34m\u001b[0m\u001b[0;34m\u001b[0m\u001b[0m\n\u001b[0;32m----> 2\u001b[0;31m \u001b[0mplt\u001b[0m\u001b[0;34m.\u001b[0m\u001b[0mplot\u001b[0m\u001b[0;34m(\u001b[0m\u001b[0mmodel_history\u001b[0m\u001b[0;34m.\u001b[0m\u001b[0mhistory\u001b[0m\u001b[0;34m[\u001b[0m\u001b[0;34m'loss'\u001b[0m\u001b[0;34m]\u001b[0m\u001b[0;34m)\u001b[0m\u001b[0;34m\u001b[0m\u001b[0;34m\u001b[0m\u001b[0m\n\u001b[0m\u001b[1;32m      3\u001b[0m \u001b[0mplt\u001b[0m\u001b[0;34m.\u001b[0m\u001b[0mtitle\u001b[0m\u001b[0;34m(\u001b[0m\u001b[0;34m'Model loss'\u001b[0m\u001b[0;34m)\u001b[0m\u001b[0;34m\u001b[0m\u001b[0;34m\u001b[0m\u001b[0m\n\u001b[1;32m      4\u001b[0m \u001b[0mplt\u001b[0m\u001b[0;34m.\u001b[0m\u001b[0mylabel\u001b[0m\u001b[0;34m(\u001b[0m\u001b[0;34m'Loss (MSE)'\u001b[0m\u001b[0;34m)\u001b[0m\u001b[0;34m\u001b[0m\u001b[0;34m\u001b[0m\u001b[0m\n\u001b[1;32m      5\u001b[0m \u001b[0mplt\u001b[0m\u001b[0;34m.\u001b[0m\u001b[0mxlabel\u001b[0m\u001b[0;34m(\u001b[0m\u001b[0;34m'Epoch'\u001b[0m\u001b[0;34m)\u001b[0m\u001b[0;34m\u001b[0m\u001b[0;34m\u001b[0m\u001b[0m\n",
      "\u001b[0;31mAttributeError\u001b[0m: 'VotingRegressor' object has no attribute 'history'"
     ]
    }
   ],
   "source": [
    "# Plot training & validation loss values\n",
    "plt.plot(model_history.history['loss'])\n",
    "plt.title('Model loss')\n",
    "plt.ylabel('Loss (MSE)')\n",
    "plt.xlabel('Epoch')\n",
    "plt.legend(['Train', 'Test'], loc='upper left')\n",
    "plt.show()"
   ]
  },
  {
   "cell_type": "code",
   "execution_count": 14,
   "metadata": {},
   "outputs": [
    {
     "data": {
      "text/plain": [
       "Text(0.5, 1.0, 'Residuals')"
      ]
     },
     "execution_count": 14,
     "metadata": {},
     "output_type": "execute_result"
    },
    {
     "data": {
      "image/png": "[encoded data removed]",
      "text/plain": [
       "<Figure size 432x288 with 1 Axes>"
      ]
     },
     "metadata": {},
     "output_type": "display_data"
    }
   ],
   "source": [
    "sns.set(style=\"whitegrid\")\n",
    "\n",
    "# Plot the residuals after fitting a linear model\n",
    "sns.residplot(test_Y, pred, color=\"g\").set_title('Residuals')"
   ]
  },
  {
   "cell_type": "code",
   "execution_count": 15,
   "metadata": {},
   "outputs": [
    {
     "data": {
      "image/png": "[encoded data removed]",
      "text/plain": [
       "<Figure size 432x288 with 1 Axes>"
      ]
     },
     "metadata": {},
     "output_type": "display_data"
    }
   ],
   "source": [
    "# Print all error to see if there is standard or some big outliers\n",
    "plt.figure()\n",
    "plt.plot(test_Y, pred, 'ro', ms=0.5)\n",
    "plt.xlabel('Headway (Label)')\n",
    "plt.ylabel('Predicted Headway')\n",
    "plt.show()"
   ]
  },
  {
   "cell_type": "code",
   "execution_count": 16,
   "metadata": {},
   "outputs": [
    {
     "data": {
      "image/png": "[encoded data removed]",
      "text/plain": [
       "<Figure size 432x288 with 1 Axes>"
      ]
     },
     "metadata": {},
     "output_type": "display_data"
    }
   ],
   "source": [
    "diff = test_Y - np.array(pred).flatten()\n",
    "num_bins = 10\n",
    "plt.hist(diff, num_bins, facecolor='blue', alpha=0.5, log=True)\n",
    "plt.xlabel('Residual')\n",
    "plt.ylabel('Total')\n",
    "plt.title('Distribution of the residual (label - prediction)')\n",
    "plt.show()"
   ]
  },
  {
   "cell_type": "markdown",
   "metadata": {},
   "source": [
    "### Majoriting Voting: Random Forest, Gradient Boosting (or KNN), XGBoost"
   ]
  },
  {
   "cell_type": "code",
   "execution_count": 14,
   "metadata": {},
   "outputs": [],
   "source": [
    "rf = joblib.load('../RandomForest/Saved_RF_100_5_08_BB_class_1000.pkl')\n",
    "# gb = joblib.load('../GradientBoosting/Saved_GB_BB_class.pkl') \n",
    "# knn = joblib.load('../KNN/Saved_KNN_5_distance.pkl')\n",
    "catBoost = joblib.load('../CatBoost/Saved_CatBoost_BB_class_1000.pkl')\n",
    "xgb = joblib.load('../XGBoost/Saved_XGB_BB_class_1000.pkl')"
   ]
  },
  {
   "cell_type": "code",
   "execution_count": 15,
   "metadata": {},
   "outputs": [],
   "source": [
    "rf_pred = rf.predict(test_X) #train_X\n",
    "# gb_pred = gb.predict(test_X)\n",
    "# knn_pred = knn.predict(test_X)\n",
    "cat_pred = catBoost.predict(test_X)\n",
    "xgb_pred = xgb.predict(test_X)"
   ]
  },
  {
   "cell_type": "code",
   "execution_count": 16,
   "metadata": {},
   "outputs": [],
   "source": [
    "final_predictions = []\n",
    "\n",
    "for i in range(0, len(rf_pred)):\n",
    "    temp_preds = []\n",
    "    temp_preds.append(rf_pred[i])\n",
    "    temp_preds.append(cat_pred[i])\n",
    "    # temp_preds.append(knn_pred[i])\n",
    "#     temp_preds.append(gb_pred[i])\n",
    "    temp_preds.append(xgb_pred[i])\n",
    "    \n",
    "    final_predictions.append(\n",
    "        max(temp_preds,key=temp_preds.count)\n",
    "    )"
   ]
  },
  {
   "cell_type": "code",
   "execution_count": null,
   "metadata": {},
   "outputs": [],
   "source": [
    "accuracy = accuracy_score(test_Y, final_predictions)\n",
    "precision = precision_score(test_Y, final_predictions)\n",
    "recall = recall_score(test_Y, final_predictions)\n",
    "f_measure = f1_score(test_Y, final_predictions)"
   ]
  },
  {
   "cell_type": "code",
   "execution_count": 8,
   "metadata": {},
   "outputs": [
    {
     "name": "stdout",
     "output_type": "stream",
     "text": [
      "Accuracy: 0.9512401972588971\n",
      "Precision: 0.9091453275690057\n",
      "Recall: 0.7086606008761698\n",
      "F-measure: 0.796480545398925\n"
     ]
    }
   ],
   "source": [
    "#Random Forest, KNN, CatBoost, XGBoost\n",
    "print(\"Accuracy: \" + str(accuracy))\n",
    "print(\"Precision: \" + str(precision))\n",
    "print(\"Recall: \" + str(recall))\n",
    "print(\"F-measure: \" + str(f_measure))"
   ]
  },
  {
   "cell_type": "code",
   "execution_count": null,
   "metadata": {},
   "outputs": [],
   "source": [
    "#Random Forest, CatBoost, XGBoost - 1000, to compare with rvm\n",
    "print(\"Accuracy: \" + str(accuracy))\n",
    "print(\"Precision: \" + str(precision))\n",
    "print(\"Recall: \" + str(recall))\n",
    "print(\"F-measure: \" + str(f_measure))"
   ]
  },
  {
   "cell_type": "code",
   "execution_count": 9,
   "metadata": {},
   "outputs": [
    {
     "name": "stdout",
     "output_type": "stream",
     "text": [
      "Accuracy: 0.9733333333333334\n",
      "Precision: 0.9634146341463414\n",
      "Recall: 0.8586956521739131\n",
      "F-measure: 0.9080459770114943\n"
     ]
    }
   ],
   "source": [
    "#Random Forest, CatBoost, XGBoost - 3000, to compare with rvm\n",
    "print(\"Accuracy: \" + str(accuracy))\n",
    "print(\"Precision: \" + str(precision))\n",
    "print(\"Recall: \" + str(recall))\n",
    "print(\"F-measure: \" + str(f_measure))"
   ]
  },
  {
   "cell_type": "code",
   "execution_count": 16,
   "metadata": {},
   "outputs": [
    {
     "name": "stdout",
     "output_type": "stream",
     "text": [
      "Accuracy: 0.9518439797994604\n",
      "Precision: 0.9075627487746307\n",
      "Recall: 0.7151670684604816\n",
      "F-measure: 0.7999594061702621\n"
     ]
    }
   ],
   "source": [
    "#Random Forest, CatBoost, XGBoost - all data\n",
    "print(\"Accuracy: \" + str(accuracy))\n",
    "print(\"Precision: \" + str(precision))\n",
    "print(\"Recall: \" + str(recall))\n",
    "print(\"F-measure: \" + str(f_measure))"
   ]
  },
  {
   "cell_type": "code",
   "execution_count": 11,
   "metadata": {},
   "outputs": [
    {
     "name": "stdout",
     "output_type": "stream",
     "text": [
      "Accuracy: 0.9497394660887106\n",
      "Precision: 0.9118849666076053\n",
      "Recall: 0.6937294242683464\n",
      "F-measure: 0.7879867500920132\n"
     ]
    }
   ],
   "source": [
    "#Random Forest, KNN, XGBoost\n",
    "print(\"Accuracy: \" + str(accuracy))\n",
    "print(\"Precision: \" + str(precision))\n",
    "print(\"Recall: \" + str(recall))\n",
    "print(\"F-measure: \" + str(f_measure))"
   ]
  },
  {
   "cell_type": "code",
   "execution_count": 10,
   "metadata": {},
   "outputs": [
    {
     "name": "stdout",
     "output_type": "stream",
     "text": [
      "Accuracy: 0.9403023100789804\n",
      "Precision: 0.9032754864397866\n",
      "Recall: 0.6233507011950126\n",
      "F-measure: 0.7376493504501603\n"
     ]
    }
   ],
   "source": [
    "#Random Forest, Gradient Boosting, XGBoost\n",
    "print(\"Accuracy: \" + str(accuracy))\n",
    "print(\"Precision: \" + str(precision))\n",
    "print(\"Recall: \" + str(recall))\n",
    "print(\"F-measure: \" + str(f_measure))"
   ]
  },
  {
   "cell_type": "markdown",
   "metadata": {},
   "source": [
    "### Stacking"
   ]
  },
  {
   "cell_type": "markdown",
   "metadata": {},
   "source": [
    "#### 1. rf>xgboost>knn(final) 1 day\n",
    "Accuracy: 0.9653001359376118, 0.9996422694426558, 0.9997853616655935, 0.9995707233311869, 0.9997138155541246, 0.9997853616655935\n",
    "Precision: 0.9405241935483871, 0.42857142857142855, 1.0, 1.0, 0.75, 1.0\n",
    "Recall: 0.6865342163355408, 0.75, 0.5, 0.25, 0.5, 0.4\n",
    "F-measure: 0.7937048064653338, 0.5454545454545454, 0.6666666666666666, 0.4, 0.6, 0.5714285714285715"
   ]
  },
  {
   "cell_type": "code",
   "execution_count": 5,
   "metadata": {},
   "outputs": [
    {
     "name": "stderr",
     "output_type": "stream",
     "text": [
      "/home/veruska/.local/lib/python3.6/site-packages/sklearn/utils/deprecation.py:144: FutureWarning: The sklearn.ensemble.forest module is  deprecated in version 0.22 and will be removed in version 0.24. The corresponding classes / functions should instead be imported from sklearn.ensemble. Anything that cannot be imported from sklearn.ensemble is now part of the private API.\n",
      "  warnings.warn(message, FutureWarning)\n",
      "/home/veruska/.local/lib/python3.6/site-packages/sklearn/utils/deprecation.py:144: FutureWarning: The sklearn.tree.tree module is  deprecated in version 0.22 and will be removed in version 0.24. The corresponding classes / functions should instead be imported from sklearn.tree. Anything that cannot be imported from sklearn.tree is now part of the private API.\n",
      "  warnings.warn(message, FutureWarning)\n",
      "/home/veruska/.local/lib/python3.6/site-packages/sklearn/base.py:318: UserWarning: Trying to unpickle estimator DecisionTreeClassifier from version 0.21.3 when using version 0.22.1. This might lead to breaking code or invalid results. Use at your own risk.\n",
      "  UserWarning)\n",
      "/home/veruska/.local/lib/python3.6/site-packages/sklearn/base.py:318: UserWarning: Trying to unpickle estimator RandomForestClassifier from version 0.21.3 when using version 0.22.1. This might lead to breaking code or invalid results. Use at your own risk.\n",
      "  UserWarning)\n"
     ]
    },
    {
     "data": {
      "text/plain": [
       "array([0., 1., 0., ..., 0., 0., 0.])"
      ]
     },
     "execution_count": 5,
     "metadata": {},
     "output_type": "execute_result"
    }
   ],
   "source": [
    "rf = joblib.load('../RandomForest/Saved_RF_100_5_08_BB_class.pkl')\n",
    "rf_pred = rf.predict(train_X) #train_X\n",
    "\n",
    "rf_pred"
   ]
  },
  {
   "cell_type": "code",
   "execution_count": 6,
   "metadata": {},
   "outputs": [],
   "source": [
    "train_X['rf'] = rf_pred"
   ]
  },
  {
   "cell_type": "code",
   "execution_count": 6,
   "metadata": {},
   "outputs": [
    {
     "data": {
      "text/plain": [
       "223035     0.0\n",
       "704879     1.0\n",
       "1412767    0.0\n",
       "486302     0.0\n",
       "203578     1.0\n",
       "Name: rf, dtype: float64"
      ]
     },
     "execution_count": 6,
     "metadata": {},
     "output_type": "execute_result"
    }
   ],
   "source": [
    "train_X['rf'].head(5)"
   ]
  },
  {
   "cell_type": "code",
   "execution_count": 8,
   "metadata": {},
   "outputs": [
    {
     "name": "stderr",
     "output_type": "stream",
     "text": [
      "/home/veruska/.local/lib/python3.6/site-packages/sklearn/preprocessing/_label.py:235: DataConversionWarning: A column-vector y was passed when a 1d array was expected. Please change the shape of y to (n_samples, ), for example using ravel().\n",
      "  y = column_or_1d(y, warn=True)\n",
      "/home/veruska/.local/lib/python3.6/site-packages/sklearn/preprocessing/_label.py:268: DataConversionWarning: A column-vector y was passed when a 1d array was expected. Please change the shape of y to (n_samples, ), for example using ravel().\n",
      "  y = column_or_1d(y, warn=True)\n"
     ]
    },
    {
     "ename": "MemoryError",
     "evalue": "Unable to allocate 3.59 GiB for an array with shape (421, 1146106) and data type float64",
     "output_type": "error",
     "traceback": [
      "\u001b[0;31m---------------------------------------------------------------------------\u001b[0m",
      "\u001b[0;31mMemoryError\u001b[0m                               Traceback (most recent call last)",
      "\u001b[0;32m<ipython-input-8-a6fc3612a942>\u001b[0m in \u001b[0;36m<module>\u001b[0;34m\u001b[0m\n\u001b[1;32m     12\u001b[0m      seed=23)\n\u001b[1;32m     13\u001b[0m \u001b[0;34m\u001b[0m\u001b[0m\n\u001b[0;32m---> 14\u001b[0;31m \u001b[0mrf_xgboost_stac\u001b[0m\u001b[0;34m.\u001b[0m\u001b[0mfit\u001b[0m\u001b[0;34m(\u001b[0m\u001b[0mtrain_X\u001b[0m\u001b[0;34m,\u001b[0m \u001b[0mtrain_Y\u001b[0m\u001b[0;34m)\u001b[0m\u001b[0;34m\u001b[0m\u001b[0;34m\u001b[0m\u001b[0m\n\u001b[0m\u001b[1;32m     15\u001b[0m \u001b[0mxgb_pred\u001b[0m \u001b[0;34m=\u001b[0m \u001b[0mrf_xgboost_stac\u001b[0m\u001b[0;34m.\u001b[0m\u001b[0mpredict\u001b[0m\u001b[0;34m(\u001b[0m\u001b[0mtrain_X\u001b[0m\u001b[0;34m)\u001b[0m\u001b[0;34m\u001b[0m\u001b[0;34m\u001b[0m\u001b[0m\n",
      "\u001b[0;32m~/.local/lib/python3.6/site-packages/xgboost/sklearn.py\u001b[0m in \u001b[0;36mfit\u001b[0;34m(self, X, y, sample_weight, eval_set, eval_metric, early_stopping_rounds, verbose, xgb_model, sample_weight_eval_set, callbacks)\u001b[0m\n\u001b[1;32m    724\u001b[0m         \u001b[0;32melse\u001b[0m\u001b[0;34m:\u001b[0m\u001b[0;34m\u001b[0m\u001b[0;34m\u001b[0m\u001b[0m\n\u001b[1;32m    725\u001b[0m             train_dmatrix = DMatrix(X, label=training_labels,\n\u001b[0;32m--> 726\u001b[0;31m                                     missing=self.missing, nthread=self.n_jobs)\n\u001b[0m\u001b[1;32m    727\u001b[0m \u001b[0;34m\u001b[0m\u001b[0m\n\u001b[1;32m    728\u001b[0m         self._Booster = train(xgb_options, train_dmatrix, self.get_num_boosting_rounds(),\n",
      "\u001b[0;32m~/.local/lib/python3.6/site-packages/xgboost/core.py\u001b[0m in \u001b[0;36m__init__\u001b[0;34m(self, data, label, missing, weight, silent, feature_names, feature_types, nthread)\u001b[0m\n\u001b[1;32m    378\u001b[0m         data, feature_names, feature_types = _maybe_pandas_data(data,\n\u001b[1;32m    379\u001b[0m                                                                 \u001b[0mfeature_names\u001b[0m\u001b[0;34m,\u001b[0m\u001b[0;34m\u001b[0m\u001b[0;34m\u001b[0m\u001b[0m\n\u001b[0;32m--> 380\u001b[0;31m                                                                 feature_types)\n\u001b[0m\u001b[1;32m    381\u001b[0m \u001b[0;34m\u001b[0m\u001b[0m\n\u001b[1;32m    382\u001b[0m         data, feature_names, feature_types = _maybe_dt_data(data,\n",
      "\u001b[0;32m~/.local/lib/python3.6/site-packages/xgboost/core.py\u001b[0m in \u001b[0;36m_maybe_pandas_data\u001b[0;34m(data, feature_names, feature_types)\u001b[0m\n\u001b[1;32m    251\u001b[0m         \u001b[0mfeature_types\u001b[0m \u001b[0;34m=\u001b[0m \u001b[0;34m[\u001b[0m\u001b[0mPANDAS_DTYPE_MAPPER\u001b[0m\u001b[0;34m[\u001b[0m\u001b[0mdtype\u001b[0m\u001b[0;34m.\u001b[0m\u001b[0mname\u001b[0m\u001b[0;34m]\u001b[0m \u001b[0;32mfor\u001b[0m \u001b[0mdtype\u001b[0m \u001b[0;32min\u001b[0m \u001b[0mdata_dtypes\u001b[0m\u001b[0;34m]\u001b[0m\u001b[0;34m\u001b[0m\u001b[0;34m\u001b[0m\u001b[0m\n\u001b[1;32m    252\u001b[0m \u001b[0;34m\u001b[0m\u001b[0m\n\u001b[0;32m--> 253\u001b[0;31m     \u001b[0mdata\u001b[0m \u001b[0;34m=\u001b[0m \u001b[0mdata\u001b[0m\u001b[0;34m.\u001b[0m\u001b[0mvalues\u001b[0m\u001b[0;34m.\u001b[0m\u001b[0mastype\u001b[0m\u001b[0;34m(\u001b[0m\u001b[0;34m'float'\u001b[0m\u001b[0;34m)\u001b[0m\u001b[0;34m\u001b[0m\u001b[0;34m\u001b[0m\u001b[0m\n\u001b[0m\u001b[1;32m    254\u001b[0m \u001b[0;34m\u001b[0m\u001b[0m\n\u001b[1;32m    255\u001b[0m     \u001b[0;32mreturn\u001b[0m \u001b[0mdata\u001b[0m\u001b[0;34m,\u001b[0m \u001b[0mfeature_names\u001b[0m\u001b[0;34m,\u001b[0m \u001b[0mfeature_types\u001b[0m\u001b[0;34m\u001b[0m\u001b[0;34m\u001b[0m\u001b[0m\n",
      "\u001b[0;32m~/.local/lib/python3.6/site-packages/pandas/core/generic.py\u001b[0m in \u001b[0;36mvalues\u001b[0;34m(self)\u001b[0m\n\u001b[1;32m   5483\u001b[0m                ['monkey', nan, None]], dtype=object)\n\u001b[1;32m   5484\u001b[0m         \"\"\"\n\u001b[0;32m-> 5485\u001b[0;31m         \u001b[0mself\u001b[0m\u001b[0;34m.\u001b[0m\u001b[0m_consolidate_inplace\u001b[0m\u001b[0;34m(\u001b[0m\u001b[0;34m)\u001b[0m\u001b[0;34m\u001b[0m\u001b[0;34m\u001b[0m\u001b[0m\n\u001b[0m\u001b[1;32m   5486\u001b[0m         \u001b[0;32mreturn\u001b[0m \u001b[0mself\u001b[0m\u001b[0;34m.\u001b[0m\u001b[0m_data\u001b[0m\u001b[0;34m.\u001b[0m\u001b[0mas_array\u001b[0m\u001b[0;34m(\u001b[0m\u001b[0mtranspose\u001b[0m\u001b[0;34m=\u001b[0m\u001b[0mself\u001b[0m\u001b[0;34m.\u001b[0m\u001b[0m_AXIS_REVERSED\u001b[0m\u001b[0;34m)\u001b[0m\u001b[0;34m\u001b[0m\u001b[0;34m\u001b[0m\u001b[0m\n\u001b[1;32m   5487\u001b[0m \u001b[0;34m\u001b[0m\u001b[0m\n",
      "\u001b[0;32m~/.local/lib/python3.6/site-packages/pandas/core/generic.py\u001b[0m in \u001b[0;36m_consolidate_inplace\u001b[0;34m(self)\u001b[0m\n\u001b[1;32m   5344\u001b[0m             \u001b[0mself\u001b[0m\u001b[0;34m.\u001b[0m\u001b[0m_data\u001b[0m \u001b[0;34m=\u001b[0m \u001b[0mself\u001b[0m\u001b[0;34m.\u001b[0m\u001b[0m_data\u001b[0m\u001b[0;34m.\u001b[0m\u001b[0mconsolidate\u001b[0m\u001b[0;34m(\u001b[0m\u001b[0;34m)\u001b[0m\u001b[0;34m\u001b[0m\u001b[0;34m\u001b[0m\u001b[0m\n\u001b[1;32m   5345\u001b[0m \u001b[0;34m\u001b[0m\u001b[0m\n\u001b[0;32m-> 5346\u001b[0;31m         \u001b[0mself\u001b[0m\u001b[0;34m.\u001b[0m\u001b[0m_protect_consolidate\u001b[0m\u001b[0;34m(\u001b[0m\u001b[0mf\u001b[0m\u001b[0;34m)\u001b[0m\u001b[0;34m\u001b[0m\u001b[0;34m\u001b[0m\u001b[0m\n\u001b[0m\u001b[1;32m   5347\u001b[0m \u001b[0;34m\u001b[0m\u001b[0m\n\u001b[1;32m   5348\u001b[0m     \u001b[0;32mdef\u001b[0m \u001b[0m_consolidate\u001b[0m\u001b[0;34m(\u001b[0m\u001b[0mself\u001b[0m\u001b[0;34m,\u001b[0m \u001b[0minplace\u001b[0m\u001b[0;34m:\u001b[0m \u001b[0mbool_t\u001b[0m \u001b[0;34m=\u001b[0m \u001b[0;32mFalse\u001b[0m\u001b[0;34m)\u001b[0m\u001b[0;34m:\u001b[0m\u001b[0;34m\u001b[0m\u001b[0;34m\u001b[0m\u001b[0m\n",
      "\u001b[0;32m~/.local/lib/python3.6/site-packages/pandas/core/generic.py\u001b[0m in \u001b[0;36m_protect_consolidate\u001b[0;34m(self, f)\u001b[0m\n\u001b[1;32m   5333\u001b[0m         \"\"\"\n\u001b[1;32m   5334\u001b[0m         \u001b[0mblocks_before\u001b[0m \u001b[0;34m=\u001b[0m \u001b[0mlen\u001b[0m\u001b[0;34m(\u001b[0m\u001b[0mself\u001b[0m\u001b[0;34m.\u001b[0m\u001b[0m_data\u001b[0m\u001b[0;34m.\u001b[0m\u001b[0mblocks\u001b[0m\u001b[0;34m)\u001b[0m\u001b[0;34m\u001b[0m\u001b[0;34m\u001b[0m\u001b[0m\n\u001b[0;32m-> 5335\u001b[0;31m         \u001b[0mresult\u001b[0m \u001b[0;34m=\u001b[0m \u001b[0mf\u001b[0m\u001b[0;34m(\u001b[0m\u001b[0;34m)\u001b[0m\u001b[0;34m\u001b[0m\u001b[0;34m\u001b[0m\u001b[0m\n\u001b[0m\u001b[1;32m   5336\u001b[0m         \u001b[0;32mif\u001b[0m \u001b[0mlen\u001b[0m\u001b[0;34m(\u001b[0m\u001b[0mself\u001b[0m\u001b[0;34m.\u001b[0m\u001b[0m_data\u001b[0m\u001b[0;34m.\u001b[0m\u001b[0mblocks\u001b[0m\u001b[0;34m)\u001b[0m \u001b[0;34m!=\u001b[0m \u001b[0mblocks_before\u001b[0m\u001b[0;34m:\u001b[0m\u001b[0;34m\u001b[0m\u001b[0;34m\u001b[0m\u001b[0m\n\u001b[1;32m   5337\u001b[0m             \u001b[0mself\u001b[0m\u001b[0;34m.\u001b[0m\u001b[0m_clear_item_cache\u001b[0m\u001b[0;34m(\u001b[0m\u001b[0;34m)\u001b[0m\u001b[0;34m\u001b[0m\u001b[0;34m\u001b[0m\u001b[0m\n",
      "\u001b[0;32m~/.local/lib/python3.6/site-packages/pandas/core/generic.py\u001b[0m in \u001b[0;36mf\u001b[0;34m()\u001b[0m\n\u001b[1;32m   5342\u001b[0m \u001b[0;34m\u001b[0m\u001b[0m\n\u001b[1;32m   5343\u001b[0m         \u001b[0;32mdef\u001b[0m \u001b[0mf\u001b[0m\u001b[0;34m(\u001b[0m\u001b[0;34m)\u001b[0m\u001b[0;34m:\u001b[0m\u001b[0;34m\u001b[0m\u001b[0;34m\u001b[0m\u001b[0m\n\u001b[0;32m-> 5344\u001b[0;31m             \u001b[0mself\u001b[0m\u001b[0;34m.\u001b[0m\u001b[0m_data\u001b[0m \u001b[0;34m=\u001b[0m \u001b[0mself\u001b[0m\u001b[0;34m.\u001b[0m\u001b[0m_data\u001b[0m\u001b[0;34m.\u001b[0m\u001b[0mconsolidate\u001b[0m\u001b[0;34m(\u001b[0m\u001b[0;34m)\u001b[0m\u001b[0;34m\u001b[0m\u001b[0;34m\u001b[0m\u001b[0m\n\u001b[0m\u001b[1;32m   5345\u001b[0m \u001b[0;34m\u001b[0m\u001b[0m\n\u001b[1;32m   5346\u001b[0m         \u001b[0mself\u001b[0m\u001b[0;34m.\u001b[0m\u001b[0m_protect_consolidate\u001b[0m\u001b[0;34m(\u001b[0m\u001b[0mf\u001b[0m\u001b[0;34m)\u001b[0m\u001b[0;34m\u001b[0m\u001b[0;34m\u001b[0m\u001b[0m\n",
      "\u001b[0;32m~/.local/lib/python3.6/site-packages/pandas/core/internals/managers.py\u001b[0m in \u001b[0;36mconsolidate\u001b[0;34m(self)\u001b[0m\n\u001b[1;32m    938\u001b[0m         \u001b[0mbm\u001b[0m \u001b[0;34m=\u001b[0m \u001b[0mtype\u001b[0m\u001b[0;34m(\u001b[0m\u001b[0mself\u001b[0m\u001b[0;34m)\u001b[0m\u001b[0;34m(\u001b[0m\u001b[0mself\u001b[0m\u001b[0;34m.\u001b[0m\u001b[0mblocks\u001b[0m\u001b[0;34m,\u001b[0m \u001b[0mself\u001b[0m\u001b[0;34m.\u001b[0m\u001b[0maxes\u001b[0m\u001b[0;34m)\u001b[0m\u001b[0;34m\u001b[0m\u001b[0;34m\u001b[0m\u001b[0m\n\u001b[1;32m    939\u001b[0m         \u001b[0mbm\u001b[0m\u001b[0;34m.\u001b[0m\u001b[0m_is_consolidated\u001b[0m \u001b[0;34m=\u001b[0m \u001b[0;32mFalse\u001b[0m\u001b[0;34m\u001b[0m\u001b[0;34m\u001b[0m\u001b[0m\n\u001b[0;32m--> 940\u001b[0;31m         \u001b[0mbm\u001b[0m\u001b[0;34m.\u001b[0m\u001b[0m_consolidate_inplace\u001b[0m\u001b[0;34m(\u001b[0m\u001b[0;34m)\u001b[0m\u001b[0;34m\u001b[0m\u001b[0;34m\u001b[0m\u001b[0m\n\u001b[0m\u001b[1;32m    941\u001b[0m         \u001b[0;32mreturn\u001b[0m \u001b[0mbm\u001b[0m\u001b[0;34m\u001b[0m\u001b[0;34m\u001b[0m\u001b[0m\n\u001b[1;32m    942\u001b[0m \u001b[0;34m\u001b[0m\u001b[0m\n",
      "\u001b[0;32m~/.local/lib/python3.6/site-packages/pandas/core/internals/managers.py\u001b[0m in \u001b[0;36m_consolidate_inplace\u001b[0;34m(self)\u001b[0m\n\u001b[1;32m    943\u001b[0m     \u001b[0;32mdef\u001b[0m \u001b[0m_consolidate_inplace\u001b[0m\u001b[0;34m(\u001b[0m\u001b[0mself\u001b[0m\u001b[0;34m)\u001b[0m\u001b[0;34m:\u001b[0m\u001b[0;34m\u001b[0m\u001b[0;34m\u001b[0m\u001b[0m\n\u001b[1;32m    944\u001b[0m         \u001b[0;32mif\u001b[0m \u001b[0;32mnot\u001b[0m \u001b[0mself\u001b[0m\u001b[0;34m.\u001b[0m\u001b[0mis_consolidated\u001b[0m\u001b[0;34m(\u001b[0m\u001b[0;34m)\u001b[0m\u001b[0;34m:\u001b[0m\u001b[0;34m\u001b[0m\u001b[0;34m\u001b[0m\u001b[0m\n\u001b[0;32m--> 945\u001b[0;31m             \u001b[0mself\u001b[0m\u001b[0;34m.\u001b[0m\u001b[0mblocks\u001b[0m \u001b[0;34m=\u001b[0m \u001b[0mtuple\u001b[0m\u001b[0;34m(\u001b[0m\u001b[0m_consolidate\u001b[0m\u001b[0;34m(\u001b[0m\u001b[0mself\u001b[0m\u001b[0;34m.\u001b[0m\u001b[0mblocks\u001b[0m\u001b[0;34m)\u001b[0m\u001b[0;34m)\u001b[0m\u001b[0;34m\u001b[0m\u001b[0;34m\u001b[0m\u001b[0m\n\u001b[0m\u001b[1;32m    946\u001b[0m             \u001b[0mself\u001b[0m\u001b[0;34m.\u001b[0m\u001b[0m_is_consolidated\u001b[0m \u001b[0;34m=\u001b[0m \u001b[0;32mTrue\u001b[0m\u001b[0;34m\u001b[0m\u001b[0;34m\u001b[0m\u001b[0m\n\u001b[1;32m    947\u001b[0m             \u001b[0mself\u001b[0m\u001b[0;34m.\u001b[0m\u001b[0m_known_consolidated\u001b[0m \u001b[0;34m=\u001b[0m \u001b[0;32mTrue\u001b[0m\u001b[0;34m\u001b[0m\u001b[0;34m\u001b[0m\u001b[0m\n",
      "\u001b[0;32m~/.local/lib/python3.6/site-packages/pandas/core/internals/managers.py\u001b[0m in \u001b[0;36m_consolidate\u001b[0;34m(blocks)\u001b[0m\n\u001b[1;32m   1885\u001b[0m     \u001b[0;32mfor\u001b[0m \u001b[0;34m(\u001b[0m\u001b[0m_can_consolidate\u001b[0m\u001b[0;34m,\u001b[0m \u001b[0mdtype\u001b[0m\u001b[0;34m)\u001b[0m\u001b[0;34m,\u001b[0m \u001b[0mgroup_blocks\u001b[0m \u001b[0;32min\u001b[0m \u001b[0mgrouper\u001b[0m\u001b[0;34m:\u001b[0m\u001b[0;34m\u001b[0m\u001b[0;34m\u001b[0m\u001b[0m\n\u001b[1;32m   1886\u001b[0m         merged_blocks = _merge_blocks(\n\u001b[0;32m-> 1887\u001b[0;31m             \u001b[0mlist\u001b[0m\u001b[0;34m(\u001b[0m\u001b[0mgroup_blocks\u001b[0m\u001b[0;34m)\u001b[0m\u001b[0;34m,\u001b[0m \u001b[0mdtype\u001b[0m\u001b[0;34m=\u001b[0m\u001b[0mdtype\u001b[0m\u001b[0;34m,\u001b[0m \u001b[0m_can_consolidate\u001b[0m\u001b[0;34m=\u001b[0m\u001b[0m_can_consolidate\u001b[0m\u001b[0;34m\u001b[0m\u001b[0;34m\u001b[0m\u001b[0m\n\u001b[0m\u001b[1;32m   1888\u001b[0m         )\n\u001b[1;32m   1889\u001b[0m         \u001b[0mnew_blocks\u001b[0m \u001b[0;34m=\u001b[0m \u001b[0m_extend_blocks\u001b[0m\u001b[0;34m(\u001b[0m\u001b[0mmerged_blocks\u001b[0m\u001b[0;34m,\u001b[0m \u001b[0mnew_blocks\u001b[0m\u001b[0;34m)\u001b[0m\u001b[0;34m\u001b[0m\u001b[0;34m\u001b[0m\u001b[0m\n",
      "\u001b[0;32m~/.local/lib/python3.6/site-packages/pandas/core/internals/blocks.py\u001b[0m in \u001b[0;36m_merge_blocks\u001b[0;34m(blocks, dtype, _can_consolidate)\u001b[0m\n\u001b[1;32m   3078\u001b[0m         \u001b[0;31m# combination of those slices is a slice, too.\u001b[0m\u001b[0;34m\u001b[0m\u001b[0;34m\u001b[0m\u001b[0;34m\u001b[0m\u001b[0m\n\u001b[1;32m   3079\u001b[0m         \u001b[0mnew_mgr_locs\u001b[0m \u001b[0;34m=\u001b[0m \u001b[0mnp\u001b[0m\u001b[0;34m.\u001b[0m\u001b[0mconcatenate\u001b[0m\u001b[0;34m(\u001b[0m\u001b[0;34m[\u001b[0m\u001b[0mb\u001b[0m\u001b[0;34m.\u001b[0m\u001b[0mmgr_locs\u001b[0m\u001b[0;34m.\u001b[0m\u001b[0mas_array\u001b[0m \u001b[0;32mfor\u001b[0m \u001b[0mb\u001b[0m \u001b[0;32min\u001b[0m \u001b[0mblocks\u001b[0m\u001b[0;34m]\u001b[0m\u001b[0;34m)\u001b[0m\u001b[0;34m\u001b[0m\u001b[0;34m\u001b[0m\u001b[0m\n\u001b[0;32m-> 3080\u001b[0;31m         \u001b[0mnew_values\u001b[0m \u001b[0;34m=\u001b[0m \u001b[0mnp\u001b[0m\u001b[0;34m.\u001b[0m\u001b[0mvstack\u001b[0m\u001b[0;34m(\u001b[0m\u001b[0;34m[\u001b[0m\u001b[0mb\u001b[0m\u001b[0;34m.\u001b[0m\u001b[0mvalues\u001b[0m \u001b[0;32mfor\u001b[0m \u001b[0mb\u001b[0m \u001b[0;32min\u001b[0m \u001b[0mblocks\u001b[0m\u001b[0;34m]\u001b[0m\u001b[0;34m)\u001b[0m\u001b[0;34m\u001b[0m\u001b[0;34m\u001b[0m\u001b[0m\n\u001b[0m\u001b[1;32m   3081\u001b[0m \u001b[0;34m\u001b[0m\u001b[0m\n\u001b[1;32m   3082\u001b[0m         \u001b[0margsort\u001b[0m \u001b[0;34m=\u001b[0m \u001b[0mnp\u001b[0m\u001b[0;34m.\u001b[0m\u001b[0margsort\u001b[0m\u001b[0;34m(\u001b[0m\u001b[0mnew_mgr_locs\u001b[0m\u001b[0;34m)\u001b[0m\u001b[0;34m\u001b[0m\u001b[0;34m\u001b[0m\u001b[0m\n",
      "\u001b[0;32m<__array_function__ internals>\u001b[0m in \u001b[0;36mvstack\u001b[0;34m(*args, **kwargs)\u001b[0m\n",
      "\u001b[0;32m~/.local/lib/python3.6/site-packages/numpy/core/shape_base.py\u001b[0m in \u001b[0;36mvstack\u001b[0;34m(tup)\u001b[0m\n\u001b[1;32m    281\u001b[0m     \u001b[0;32mif\u001b[0m \u001b[0;32mnot\u001b[0m \u001b[0misinstance\u001b[0m\u001b[0;34m(\u001b[0m\u001b[0marrs\u001b[0m\u001b[0;34m,\u001b[0m \u001b[0mlist\u001b[0m\u001b[0;34m)\u001b[0m\u001b[0;34m:\u001b[0m\u001b[0;34m\u001b[0m\u001b[0;34m\u001b[0m\u001b[0m\n\u001b[1;32m    282\u001b[0m         \u001b[0marrs\u001b[0m \u001b[0;34m=\u001b[0m \u001b[0;34m[\u001b[0m\u001b[0marrs\u001b[0m\u001b[0;34m]\u001b[0m\u001b[0;34m\u001b[0m\u001b[0;34m\u001b[0m\u001b[0m\n\u001b[0;32m--> 283\u001b[0;31m     \u001b[0;32mreturn\u001b[0m \u001b[0m_nx\u001b[0m\u001b[0;34m.\u001b[0m\u001b[0mconcatenate\u001b[0m\u001b[0;34m(\u001b[0m\u001b[0marrs\u001b[0m\u001b[0;34m,\u001b[0m \u001b[0;36m0\u001b[0m\u001b[0;34m)\u001b[0m\u001b[0;34m\u001b[0m\u001b[0;34m\u001b[0m\u001b[0m\n\u001b[0m\u001b[1;32m    284\u001b[0m \u001b[0;34m\u001b[0m\u001b[0m\n\u001b[1;32m    285\u001b[0m \u001b[0;34m\u001b[0m\u001b[0m\n",
      "\u001b[0;32m<__array_function__ internals>\u001b[0m in \u001b[0;36mconcatenate\u001b[0;34m(*args, **kwargs)\u001b[0m\n",
      "\u001b[0;31mMemoryError\u001b[0m: Unable to allocate 3.59 GiB for an array with shape (421, 1146106) and data type float64"
     ]
    }
   ],
   "source": [
    "rf_xgboost_stac = XGBClassifier(\n",
    "     learning_rate =0.1,\n",
    "     n_estimators=120, \n",
    "     max_depth=50,\n",
    "     min_child_weight=1,\n",
    "     gamma=0,\n",
    "     subsample=0.8,\n",
    "     colsample_bytree=0.8,\n",
    "     objective= 'binary:logistic',\n",
    "     nthread=-1,\n",
    "     scale_pos_weight=1,\n",
    "     seed=23)\n",
    "\n",
    "rf_xgboost_stac.fit(train_X, train_Y)\n",
    "xgb_pred = rf_xgboost_stac.predict(train_X)"
   ]
  },
  {
   "cell_type": "code",
   "execution_count": null,
   "metadata": {},
   "outputs": [],
   "source": [
    "train_X['xgboost'] = xgb_pred"
   ]
  },
  {
   "cell_type": "code",
   "execution_count": 10,
   "metadata": {},
   "outputs": [
    {
     "name": "stderr",
     "output_type": "stream",
     "text": [
      "/home/veruska/.local/lib/python3.6/site-packages/ipykernel_launcher.py:3: DataConversionWarning: A column-vector y was passed when a 1d array was expected. Please change the shape of y to (n_samples, ), for example using ravel().\n",
      "  This is separate from the ipykernel package so we can avoid doing imports until\n"
     ]
    },
    {
     "data": {
      "text/plain": [
       "KNeighborsClassifier(algorithm='auto', leaf_size=30, metric='minkowski',\n",
       "                     metric_params=None, n_jobs=-1, n_neighbors=5, p=2,\n",
       "                     weights='uniform')"
      ]
     },
     "execution_count": 10,
     "metadata": {},
     "output_type": "execute_result"
    }
   ],
   "source": [
    "rf_xgboost_knn_final = KNeighborsClassifier(n_jobs=-1)\n",
    "\n",
    "rf_xgboost_knn_final.fit(train_X, train_Y)"
   ]
  },
  {
   "cell_type": "code",
   "execution_count": 11,
   "metadata": {},
   "outputs": [
    {
     "name": "stderr",
     "output_type": "stream",
     "text": [
      "/home/veruska/.local/lib/python3.6/site-packages/ipykernel_launcher.py:2: SettingWithCopyWarning: \n",
      "A value is trying to be set on a copy of a slice from a DataFrame.\n",
      "Try using .loc[row_indexer,col_indexer] = value instead\n",
      "\n",
      "See the caveats in the documentation: http://pandas.pydata.org/pandas-docs/stable/user_guide/indexing.html#returning-a-view-versus-a-copy\n",
      "  \n",
      "/home/veruska/.local/lib/python3.6/site-packages/ipykernel_launcher.py:4: SettingWithCopyWarning: \n",
      "A value is trying to be set on a copy of a slice from a DataFrame.\n",
      "Try using .loc[row_indexer,col_indexer] = value instead\n",
      "\n",
      "See the caveats in the documentation: http://pandas.pydata.org/pandas-docs/stable/user_guide/indexing.html#returning-a-view-versus-a-copy\n",
      "  after removing the cwd from sys.path.\n"
     ]
    }
   ],
   "source": [
    "rf_pred_test = rf.predict(test_X)\n",
    "test_X['rf'] = rf_pred_test\n",
    "xgb_pred_test = rf_xgboost_stac.predict(test_X)\n",
    "test_X['xgboost'] = xgb_pred_test"
   ]
  },
  {
   "cell_type": "code",
   "execution_count": 12,
   "metadata": {},
   "outputs": [
    {
     "data": {
      "text/plain": [
       "array([0., 0., 0., ..., 0., 0., 0.])"
      ]
     },
     "execution_count": 12,
     "metadata": {},
     "output_type": "execute_result"
    }
   ],
   "source": [
    "pred_array = rf_xgboost_knn_final.predict(test_X)\n",
    "pred_array"
   ]
  },
  {
   "cell_type": "code",
   "execution_count": 13,
   "metadata": {},
   "outputs": [],
   "source": [
    "# Bus Bunching\n",
    "accuracy = accuracy_score(test_Y, pred_array)\n",
    "precision = precision_score(test_Y, pred_array)\n",
    "recall = recall_score(test_Y, pred_array)\n",
    "f_measure = f1_score(test_Y, pred_array)"
   ]
  },
  {
   "cell_type": "code",
   "execution_count": 14,
   "metadata": {},
   "outputs": [
    {
     "name": "stdout",
     "output_type": "stream",
     "text": [
      "Accuracy: 0.9863346927094513\n",
      "Precision: 0.9850498338870431\n",
      "Recall: 0.8727005150846211\n",
      "F-measure: 0.925477955520874\n"
     ]
    }
   ],
   "source": [
    "print(\"Accuracy: \" + str(accuracy))\n",
    "print(\"Precision: \" + str(precision))\n",
    "print(\"Recall: \" + str(recall))\n",
    "print(\"F-measure: \" + str(f_measure))"
   ]
  },
  {
   "cell_type": "code",
   "execution_count": 16,
   "metadata": {},
   "outputs": [
    {
     "data": {
      "text/plain": [
       "['Saved_rf_xgboost_knn_final.pkl']"
      ]
     },
     "execution_count": 16,
     "metadata": {},
     "output_type": "execute_result"
    }
   ],
   "source": [
    "# Saving a pickle file for the model\n",
    "joblib.dump(rf_xgboost_knn_final, 'Saved_rf_xgboost_knn_final.pkl')"
   ]
  },
  {
   "cell_type": "markdown",
   "metadata": {},
   "source": [
    "#### 1.1. rf>xgboost>catboost"
   ]
  },
  {
   "cell_type": "code",
   "execution_count": 11,
   "metadata": {},
   "outputs": [
    {
     "name": "stderr",
     "output_type": "stream",
     "text": [
      "/home/veruska/.local/lib/python3.6/site-packages/ipykernel_launcher.py:15: SettingWithCopyWarning: \n",
      "A value is trying to be set on a copy of a slice from a DataFrame.\n",
      "Try using .loc[row_indexer,col_indexer] = value instead\n",
      "\n",
      "See the caveats in the documentation: http://pandas.pydata.org/pandas-docs/stable/user_guide/indexing.html#returning-a-view-versus-a-copy\n",
      "  from ipykernel import kernelapp as app\n",
      "/home/veruska/.local/lib/python3.6/site-packages/ipykernel_launcher.py:17: SettingWithCopyWarning: \n",
      "A value is trying to be set on a copy of a slice from a DataFrame.\n",
      "Try using .loc[row_indexer,col_indexer] = value instead\n",
      "\n",
      "See the caveats in the documentation: http://pandas.pydata.org/pandas-docs/stable/user_guide/indexing.html#returning-a-view-versus-a-copy\n"
     ]
    },
    {
     "data": {
      "text/plain": [
       "array([0., 1., 0., ..., 0., 0., 0.])"
      ]
     },
     "execution_count": 11,
     "metadata": {},
     "output_type": "execute_result"
    }
   ],
   "source": [
    "rf_xgboost_cb_final = model = CatBoostClassifier(\n",
    "    custom_loss=['Accuracy', 'Precision', 'Recall', 'F1'],\n",
    "    iterations=10000,\n",
    "    learning_rate=0.9,\n",
    "    random_seed=42,\n",
    "    depth=8,\n",
    "    l2_leaf_reg=5,\n",
    "    logging_level='Silent'\n",
    ")\n",
    "\n",
    "rf_xgboost_cb_final.fit(train_X, train_Y)\n",
    "\n",
    "\n",
    "rf_pred_test = rf.predict(test_X)\n",
    "test_X['rf'] = rf_pred_test\n",
    "xgb_pred_test = rf_xgboost_stac.predict(test_X)\n",
    "test_X['xgboost'] = xgb_pred_test\n",
    "\n",
    "\n",
    "pred_array = rf_xgboost_cb_final.predict(test_X)\n",
    "pred_array"
   ]
  },
  {
   "cell_type": "code",
   "execution_count": 12,
   "metadata": {},
   "outputs": [
    {
     "name": "stdout",
     "output_type": "stream",
     "text": [
      "Accuracy: 0.9517846485671507\n",
      "Precision: 0.9034213098729228\n",
      "Recall: 0.7187184073411619\n",
      "F-measure: 0.8005543765429425\n"
     ]
    }
   ],
   "source": [
    "# Bus Bunching\n",
    "accuracy = accuracy_score(test_Y, pred_array)\n",
    "precision = precision_score(test_Y, pred_array)\n",
    "recall = recall_score(test_Y, pred_array)\n",
    "f_measure = f1_score(test_Y, pred_array)\n",
    "\n",
    "print(\"Accuracy: \" + str(accuracy))\n",
    "print(\"Precision: \" + str(precision))\n",
    "print(\"Recall: \" + str(recall))\n",
    "print(\"F-measure: \" + str(f_measure))"
   ]
  },
  {
   "cell_type": "markdown",
   "metadata": {},
   "source": [
    "#### 1.2. rf>xgboost>knn>catboost"
   ]
  },
  {
   "cell_type": "code",
   "execution_count": 9,
   "metadata": {},
   "outputs": [
    {
     "name": "stderr",
     "output_type": "stream",
     "text": [
      "/home/veruska/.local/lib/python3.6/site-packages/ipykernel_launcher.py:2: DataConversionWarning: A column-vector y was passed when a 1d array was expected. Please change the shape of y to (n_samples, ), for example using ravel().\n",
      "  \n",
      "/home/veruska/.local/lib/python3.6/site-packages/ipykernel_launcher.py:4: SettingWithCopyWarning: \n",
      "A value is trying to be set on a copy of a slice from a DataFrame.\n",
      "Try using .loc[row_indexer,col_indexer] = value instead\n",
      "\n",
      "See the caveats in the documentation: http://pandas.pydata.org/pandas-docs/stable/user_guide/indexing.html#returning-a-view-versus-a-copy\n",
      "  after removing the cwd from sys.path.\n",
      "/home/veruska/.local/lib/python3.6/site-packages/ipykernel_launcher.py:20: SettingWithCopyWarning: \n",
      "A value is trying to be set on a copy of a slice from a DataFrame.\n",
      "Try using .loc[row_indexer,col_indexer] = value instead\n",
      "\n",
      "See the caveats in the documentation: http://pandas.pydata.org/pandas-docs/stable/user_guide/indexing.html#returning-a-view-versus-a-copy\n",
      "/home/veruska/.local/lib/python3.6/site-packages/ipykernel_launcher.py:22: SettingWithCopyWarning: \n",
      "A value is trying to be set on a copy of a slice from a DataFrame.\n",
      "Try using .loc[row_indexer,col_indexer] = value instead\n",
      "\n",
      "See the caveats in the documentation: http://pandas.pydata.org/pandas-docs/stable/user_guide/indexing.html#returning-a-view-versus-a-copy\n",
      "/home/veruska/.local/lib/python3.6/site-packages/ipykernel_launcher.py:24: SettingWithCopyWarning: \n",
      "A value is trying to be set on a copy of a slice from a DataFrame.\n",
      "Try using .loc[row_indexer,col_indexer] = value instead\n",
      "\n",
      "See the caveats in the documentation: http://pandas.pydata.org/pandas-docs/stable/user_guide/indexing.html#returning-a-view-versus-a-copy\n"
     ]
    },
    {
     "data": {
      "text/plain": [
       "array([0., 1., 0., ..., 0., 0., 0.])"
      ]
     },
     "execution_count": 9,
     "metadata": {},
     "output_type": "execute_result"
    }
   ],
   "source": [
    "rf_xgboost_knn = KNeighborsClassifier(n_jobs=-1)\n",
    "rf_xgboost_knn.fit(train_X, train_Y)\n",
    "knn_pred = rf_xgboost_knn.predict(train_X)\n",
    "train_X['knn'] = knn_pred\n",
    "\n",
    "\n",
    "rf_xgboost_knn_cb_final = model = CatBoostClassifier(\n",
    "    custom_loss=['Accuracy', 'Precision', 'Recall', 'F1'],\n",
    "    iterations=10000,\n",
    "    learning_rate=0.9,\n",
    "    random_seed=42,\n",
    "    depth=8,\n",
    "    l2_leaf_reg=5,\n",
    "    logging_level='Silent'\n",
    ")\n",
    "\n",
    "rf_xgboost_knn_cb_final.fit(train_X, train_Y)\n",
    "\n",
    "rf_pred_test = rf.predict(test_X)\n",
    "test_X['rf'] = rf_pred_test\n",
    "xgb_pred_test = rf_xgboost_stac.predict(test_X)\n",
    "test_X['xgboost'] = xgb_pred_test\n",
    "knn_pred_test = rf_xgboost_knn.predict(test_X)\n",
    "test_X['knn'] = knn_pred_test\n",
    "\n",
    "pred_array = rf_xgboost_knn_cb_final.predict(test_X)\n",
    "pred_array"
   ]
  },
  {
   "cell_type": "code",
   "execution_count": 10,
   "metadata": {},
   "outputs": [
    {
     "name": "stdout",
     "output_type": "stream",
     "text": [
      "Accuracy: 0.9517811584946619\n",
      "Precision: 0.9033130273316611\n",
      "Recall: 0.7187961738859943\n",
      "F-measure: 0.8005600946964228\n"
     ]
    }
   ],
   "source": [
    "# Bus Bunching\n",
    "accuracy = accuracy_score(test_Y, pred_array)\n",
    "precision = precision_score(test_Y, pred_array)\n",
    "recall = recall_score(test_Y, pred_array)\n",
    "f_measure = f1_score(test_Y, pred_array)\n",
    "\n",
    "print(\"Accuracy: \" + str(accuracy))\n",
    "print(\"Precision: \" + str(precision))\n",
    "print(\"Recall: \" + str(recall))\n",
    "print(\"F-measure: \" + str(f_measure))"
   ]
  },
  {
   "cell_type": "markdown",
   "metadata": {},
   "source": [
    "#### 1.3. rf>xgboost>catboost>knn"
   ]
  },
  {
   "cell_type": "code",
   "execution_count": 9,
   "metadata": {},
   "outputs": [
    {
     "name": "stderr",
     "output_type": "stream",
     "text": [
      "/home/veruska/.local/lib/python3.6/site-packages/ipykernel_launcher.py:12: SettingWithCopyWarning: \n",
      "A value is trying to be set on a copy of a slice from a DataFrame.\n",
      "Try using .loc[row_indexer,col_indexer] = value instead\n",
      "\n",
      "See the caveats in the documentation: http://pandas.pydata.org/pandas-docs/stable/user_guide/indexing.html#returning-a-view-versus-a-copy\n",
      "  if sys.path[0] == '':\n",
      "/home/veruska/.local/lib/python3.6/site-packages/ipykernel_launcher.py:16: DataConversionWarning: A column-vector y was passed when a 1d array was expected. Please change the shape of y to (n_samples, ), for example using ravel().\n",
      "  app.launch_new_instance()\n",
      "/home/veruska/.local/lib/python3.6/site-packages/ipykernel_launcher.py:20: SettingWithCopyWarning: \n",
      "A value is trying to be set on a copy of a slice from a DataFrame.\n",
      "Try using .loc[row_indexer,col_indexer] = value instead\n",
      "\n",
      "See the caveats in the documentation: http://pandas.pydata.org/pandas-docs/stable/user_guide/indexing.html#returning-a-view-versus-a-copy\n",
      "/home/veruska/.local/lib/python3.6/site-packages/ipykernel_launcher.py:22: SettingWithCopyWarning: \n",
      "A value is trying to be set on a copy of a slice from a DataFrame.\n",
      "Try using .loc[row_indexer,col_indexer] = value instead\n",
      "\n",
      "See the caveats in the documentation: http://pandas.pydata.org/pandas-docs/stable/user_guide/indexing.html#returning-a-view-versus-a-copy\n",
      "/home/veruska/.local/lib/python3.6/site-packages/ipykernel_launcher.py:24: SettingWithCopyWarning: \n",
      "A value is trying to be set on a copy of a slice from a DataFrame.\n",
      "Try using .loc[row_indexer,col_indexer] = value instead\n",
      "\n",
      "See the caveats in the documentation: http://pandas.pydata.org/pandas-docs/stable/user_guide/indexing.html#returning-a-view-versus-a-copy\n"
     ]
    },
    {
     "data": {
      "text/plain": [
       "array([0., 1., 0., ..., 0., 0., 0.])"
      ]
     },
     "execution_count": 9,
     "metadata": {},
     "output_type": "execute_result"
    }
   ],
   "source": [
    "rf_xgboost_cb = model = CatBoostClassifier(\n",
    "    custom_loss=['Accuracy', 'Precision', 'Recall', 'F1'],\n",
    "    iterations=10000,\n",
    "    learning_rate=0.9,\n",
    "    random_seed=42,\n",
    "    depth=8,\n",
    "    l2_leaf_reg=5,\n",
    "    logging_level='Silent'\n",
    ")\n",
    "rf_xgboost_cb.fit(train_X, train_Y)\n",
    "cb_pred = rf_xgboost_cb.predict(train_X)\n",
    "train_X['cb'] = cb_pred\n",
    "\n",
    "\n",
    "rf_xgboost_cb_knn = KNeighborsClassifier(n_jobs=-1)\n",
    "rf_xgboost_cb_knn.fit(train_X, train_Y)\n",
    "\n",
    "\n",
    "rf_pred_test = rf.predict(test_X)\n",
    "test_X['rf'] = rf_pred_test\n",
    "xgb_pred_test = rf_xgboost_stac.predict(test_X)\n",
    "test_X['xgboost'] = xgb_pred_test\n",
    "cb_pred_test = rf_xgboost_cb.predict(test_X)\n",
    "test_X['cb'] = cb_pred_test\n",
    "\n",
    "pred_array = rf_xgboost_cb_knn.predict(test_X)\n",
    "pred_array"
   ]
  },
  {
   "cell_type": "code",
   "execution_count": 10,
   "metadata": {},
   "outputs": [
    {
     "name": "stdout",
     "output_type": "stream",
     "text": [
      "Accuracy: 0.9515857144352888\n",
      "Precision: 0.9035577771243752\n",
      "Recall: 0.7169297768100164\n",
      "F-measure: 0.7994970080652156\n"
     ]
    }
   ],
   "source": [
    "# Bus Bunching\n",
    "accuracy = accuracy_score(test_Y, pred_array)\n",
    "precision = precision_score(test_Y, pred_array)\n",
    "recall = recall_score(test_Y, pred_array)\n",
    "f_measure = f1_score(test_Y, pred_array)\n",
    "\n",
    "print(\"Accuracy: \" + str(accuracy))\n",
    "print(\"Precision: \" + str(precision))\n",
    "print(\"Recall: \" + str(recall))\n",
    "print(\"F-measure: \" + str(f_measure))"
   ]
  },
  {
   "cell_type": "markdown",
   "metadata": {},
   "source": [
    "#### 2. rf>knn>xgboost (MELHOR NA MENOR BASE)\n"
   ]
  },
  {
   "cell_type": "code",
   "execution_count": 4,
   "metadata": {},
   "outputs": [
    {
     "data": {
      "text/plain": [
       "array([0., 1., 0., ..., 0., 0., 0.])"
      ]
     },
     "execution_count": 4,
     "metadata": {},
     "output_type": "execute_result"
    }
   ],
   "source": [
    "rf = joblib.load('../RandomForest/Saved_RF_100_5_08_BB_class.pkl')\n",
    "rf_pred = rf.predict(train_X) #train_X\n",
    "\n",
    "rf_pred"
   ]
  },
  {
   "cell_type": "code",
   "execution_count": 7,
   "metadata": {},
   "outputs": [
    {
     "name": "stderr",
     "output_type": "stream",
     "text": [
      "/home/veruska/.local/lib/python3.6/site-packages/ipykernel_launcher.py:4: DataConversionWarning: A column-vector y was passed when a 1d array was expected. Please change the shape of y to (n_samples, ), for example using ravel().\n",
      "  after removing the cwd from sys.path.\n",
      "/home/veruska/.local/lib/python3.6/site-packages/sklearn/preprocessing/label.py:219: DataConversionWarning: A column-vector y was passed when a 1d array was expected. Please change the shape of y to (n_samples, ), for example using ravel().\n",
      "  y = column_or_1d(y, warn=True)\n",
      "/home/veruska/.local/lib/python3.6/site-packages/sklearn/preprocessing/label.py:252: DataConversionWarning: A column-vector y was passed when a 1d array was expected. Please change the shape of y to (n_samples, ), for example using ravel().\n",
      "  y = column_or_1d(y, warn=True)\n"
     ]
    },
    {
     "ename": "MemoryError",
     "evalue": "Unable to allocate array with shape (483656732,) and data type float32",
     "output_type": "error",
     "traceback": [
      "\u001b[0;31m---------------------------------------------------------------------------\u001b[0m",
      "\u001b[0;31mMemoryError\u001b[0m                               Traceback (most recent call last)",
      "\u001b[0;32m<ipython-input-7-21ebfb76d642>\u001b[0m in \u001b[0;36m<module>\u001b[0;34m\u001b[0m\n\u001b[1;32m     19\u001b[0m      \u001b[0mscale_pos_weight\u001b[0m\u001b[0;34m=\u001b[0m\u001b[0;36m1\u001b[0m\u001b[0;34m,\u001b[0m\u001b[0;34m\u001b[0m\u001b[0;34m\u001b[0m\u001b[0m\n\u001b[1;32m     20\u001b[0m      seed=23)\n\u001b[0;32m---> 21\u001b[0;31m \u001b[0mrf_knn_xgboost\u001b[0m\u001b[0;34m.\u001b[0m\u001b[0mfit\u001b[0m\u001b[0;34m(\u001b[0m\u001b[0mtrain_X\u001b[0m\u001b[0;34m,\u001b[0m \u001b[0mtrain_Y\u001b[0m\u001b[0;34m)\u001b[0m\u001b[0;34m\u001b[0m\u001b[0;34m\u001b[0m\u001b[0m\n\u001b[0m\u001b[1;32m     22\u001b[0m \u001b[0mrf_knn_xgboost_pred\u001b[0m \u001b[0;34m=\u001b[0m \u001b[0mrf_knn_xgboost\u001b[0m\u001b[0;34m.\u001b[0m\u001b[0mpredict\u001b[0m\u001b[0;34m(\u001b[0m\u001b[0mtrain_X\u001b[0m\u001b[0;34m)\u001b[0m\u001b[0;34m\u001b[0m\u001b[0;34m\u001b[0m\u001b[0m\n\u001b[1;32m     23\u001b[0m \u001b[0;34m\u001b[0m\u001b[0m\n",
      "\u001b[0;32m~/.local/lib/python3.6/site-packages/xgboost/sklearn.py\u001b[0m in \u001b[0;36mfit\u001b[0;34m(self, X, y, sample_weight, eval_set, eval_metric, early_stopping_rounds, verbose, xgb_model, sample_weight_eval_set, callbacks)\u001b[0m\n\u001b[1;32m    724\u001b[0m         \u001b[0;32melse\u001b[0m\u001b[0;34m:\u001b[0m\u001b[0;34m\u001b[0m\u001b[0;34m\u001b[0m\u001b[0m\n\u001b[1;32m    725\u001b[0m             train_dmatrix = DMatrix(X, label=training_labels,\n\u001b[0;32m--> 726\u001b[0;31m                                     missing=self.missing, nthread=self.n_jobs)\n\u001b[0m\u001b[1;32m    727\u001b[0m \u001b[0;34m\u001b[0m\u001b[0m\n\u001b[1;32m    728\u001b[0m         self._Booster = train(xgb_options, train_dmatrix, self.get_num_boosting_rounds(),\n",
      "\u001b[0;32m~/.local/lib/python3.6/site-packages/xgboost/core.py\u001b[0m in \u001b[0;36m__init__\u001b[0;34m(self, data, label, missing, weight, silent, feature_names, feature_types, nthread)\u001b[0m\n\u001b[1;32m    402\u001b[0m             \u001b[0mself\u001b[0m\u001b[0;34m.\u001b[0m\u001b[0m_init_from_csc\u001b[0m\u001b[0;34m(\u001b[0m\u001b[0mdata\u001b[0m\u001b[0;34m)\u001b[0m\u001b[0;34m\u001b[0m\u001b[0;34m\u001b[0m\u001b[0m\n\u001b[1;32m    403\u001b[0m         \u001b[0;32melif\u001b[0m \u001b[0misinstance\u001b[0m\u001b[0;34m(\u001b[0m\u001b[0mdata\u001b[0m\u001b[0;34m,\u001b[0m \u001b[0mnp\u001b[0m\u001b[0;34m.\u001b[0m\u001b[0mndarray\u001b[0m\u001b[0;34m)\u001b[0m\u001b[0;34m:\u001b[0m\u001b[0;34m\u001b[0m\u001b[0;34m\u001b[0m\u001b[0m\n\u001b[0;32m--> 404\u001b[0;31m             \u001b[0mself\u001b[0m\u001b[0;34m.\u001b[0m\u001b[0m_init_from_npy2d\u001b[0m\u001b[0;34m(\u001b[0m\u001b[0mdata\u001b[0m\u001b[0;34m,\u001b[0m \u001b[0mmissing\u001b[0m\u001b[0;34m,\u001b[0m \u001b[0mnthread\u001b[0m\u001b[0;34m)\u001b[0m\u001b[0;34m\u001b[0m\u001b[0;34m\u001b[0m\u001b[0m\n\u001b[0m\u001b[1;32m    405\u001b[0m         \u001b[0;32melif\u001b[0m \u001b[0misinstance\u001b[0m\u001b[0;34m(\u001b[0m\u001b[0mdata\u001b[0m\u001b[0;34m,\u001b[0m \u001b[0mDataTable\u001b[0m\u001b[0;34m)\u001b[0m\u001b[0;34m:\u001b[0m\u001b[0;34m\u001b[0m\u001b[0;34m\u001b[0m\u001b[0m\n\u001b[1;32m    406\u001b[0m             \u001b[0mself\u001b[0m\u001b[0;34m.\u001b[0m\u001b[0m_init_from_dt\u001b[0m\u001b[0;34m(\u001b[0m\u001b[0mdata\u001b[0m\u001b[0;34m,\u001b[0m \u001b[0mnthread\u001b[0m\u001b[0;34m)\u001b[0m\u001b[0;34m\u001b[0m\u001b[0;34m\u001b[0m\u001b[0m\n",
      "\u001b[0;32m~/.local/lib/python3.6/site-packages/xgboost/core.py\u001b[0m in \u001b[0;36m_init_from_npy2d\u001b[0;34m(self, mat, missing, nthread)\u001b[0m\n\u001b[1;32m    476\u001b[0m         \u001b[0;31m# we try to avoid data copies if possible (reshape returns a view when possible\u001b[0m\u001b[0;34m\u001b[0m\u001b[0;34m\u001b[0m\u001b[0;34m\u001b[0m\u001b[0m\n\u001b[1;32m    477\u001b[0m         \u001b[0;31m# and we explicitly tell np.array to try and avoid copying)\u001b[0m\u001b[0;34m\u001b[0m\u001b[0;34m\u001b[0m\u001b[0;34m\u001b[0m\u001b[0m\n\u001b[0;32m--> 478\u001b[0;31m         \u001b[0mdata\u001b[0m \u001b[0;34m=\u001b[0m \u001b[0mnp\u001b[0m\u001b[0;34m.\u001b[0m\u001b[0marray\u001b[0m\u001b[0;34m(\u001b[0m\u001b[0mmat\u001b[0m\u001b[0;34m.\u001b[0m\u001b[0mreshape\u001b[0m\u001b[0;34m(\u001b[0m\u001b[0mmat\u001b[0m\u001b[0;34m.\u001b[0m\u001b[0msize\u001b[0m\u001b[0;34m)\u001b[0m\u001b[0;34m,\u001b[0m \u001b[0mcopy\u001b[0m\u001b[0;34m=\u001b[0m\u001b[0;32mFalse\u001b[0m\u001b[0;34m,\u001b[0m \u001b[0mdtype\u001b[0m\u001b[0;34m=\u001b[0m\u001b[0mnp\u001b[0m\u001b[0;34m.\u001b[0m\u001b[0mfloat32\u001b[0m\u001b[0;34m)\u001b[0m\u001b[0;34m\u001b[0m\u001b[0;34m\u001b[0m\u001b[0m\n\u001b[0m\u001b[1;32m    479\u001b[0m         \u001b[0mhandle\u001b[0m \u001b[0;34m=\u001b[0m \u001b[0mctypes\u001b[0m\u001b[0;34m.\u001b[0m\u001b[0mc_void_p\u001b[0m\u001b[0;34m(\u001b[0m\u001b[0;34m)\u001b[0m\u001b[0;34m\u001b[0m\u001b[0;34m\u001b[0m\u001b[0m\n\u001b[1;32m    480\u001b[0m         \u001b[0mmissing\u001b[0m \u001b[0;34m=\u001b[0m \u001b[0mmissing\u001b[0m \u001b[0;32mif\u001b[0m \u001b[0mmissing\u001b[0m \u001b[0;32mis\u001b[0m \u001b[0;32mnot\u001b[0m \u001b[0;32mNone\u001b[0m \u001b[0;32melse\u001b[0m \u001b[0mnp\u001b[0m\u001b[0;34m.\u001b[0m\u001b[0mnan\u001b[0m\u001b[0;34m\u001b[0m\u001b[0;34m\u001b[0m\u001b[0m\n",
      "\u001b[0;31mMemoryError\u001b[0m: Unable to allocate array with shape (483656732,) and data type float32"
     ]
    }
   ],
   "source": [
    "train_X['rf'] = rf_pred\n",
    "\n",
    "rf_knn = KNeighborsClassifier(n_jobs=-1)\n",
    "rf_knn.fit(train_X, train_Y)\n",
    "rf_knn_pred = rf_knn.predict(train_X)\n",
    "train_X['knn'] = rf_knn_pred\n",
    "#testes: diminuir n=100 e del preds\n",
    "\n",
    "rf_knn_xgboost = XGBClassifier(\n",
    "     learning_rate =0.1,\n",
    "     n_estimators=120, \n",
    "     max_depth=50,\n",
    "     min_child_weight=1,\n",
    "     gamma=0,\n",
    "     subsample=0.8,\n",
    "     colsample_bytree=0.8,\n",
    "     objective= 'binary:logistic',\n",
    "     nthread=-1,\n",
    "     scale_pos_weight=1,\n",
    "     seed=23)\n",
    "rf_knn_xgboost.fit(train_X, train_Y)\n",
    "rf_knn_xgboost_pred = rf_knn_xgboost.predict(train_X)\n",
    "\n",
    "\n",
    "rf_pred_test = rf.predict(test_X)\n",
    "test_X['rf'] = rf_pred_test\n",
    "rf_knn_pred_test = rf_knn.predict(test_X)\n",
    "test_X['knn'] = rf_knn_pred_test\n",
    "\n",
    "pred_array = rf_knn_xgboost.predict(test_X)\n",
    "pred_array"
   ]
  },
  {
   "cell_type": "code",
   "execution_count": null,
   "metadata": {},
   "outputs": [],
   "source": [
    "# Bus Bunching\n",
    "accuracy = accuracy_score(test_Y, pred_array)\n",
    "precision = precision_score(test_Y, pred_array)\n",
    "recall = recall_score(test_Y, pred_array)\n",
    "f_measure = f1_score(test_Y, pred_array)"
   ]
  },
  {
   "cell_type": "code",
   "execution_count": null,
   "metadata": {},
   "outputs": [],
   "source": [
    "print(\"Accuracy: \" + str(accuracy))\n",
    "print(\"Precision: \" + str(precision))\n",
    "print(\"Recall: \" + str(recall))\n",
    "print(\"F-measure: \" + str(f_measure))"
   ]
  },
  {
   "cell_type": "code",
   "execution_count": 10,
   "metadata": {},
   "outputs": [
    {
     "name": "stdout",
     "output_type": "stream",
     "text": [
      "Accuracy: 0.9881948916076412\n",
      "Precision: 0.9830097087378641\n",
      "Recall: 0.8940397350993378\n",
      "F-measure: 0.9364161849710982\n"
     ]
    }
   ],
   "source": [
    "print(\"Accuracy: \" + str(accuracy))\n",
    "print(\"Precision: \" + str(precision))\n",
    "print(\"Recall: \" + str(recall))\n",
    "print(\"F-measure: \" + str(f_measure)) #1day"
   ]
  },
  {
   "cell_type": "markdown",
   "metadata": {},
   "source": [
    "#### 2.1 rf>catboost>xgboost"
   ]
  },
  {
   "cell_type": "code",
   "execution_count": 5,
   "metadata": {},
   "outputs": [
    {
     "name": "stderr",
     "output_type": "stream",
     "text": [
      "/home/veruska/.local/lib/python3.6/site-packages/ipykernel_launcher.py:1: SettingWithCopyWarning: \n",
      "A value is trying to be set on a copy of a slice from a DataFrame.\n",
      "Try using .loc[row_indexer,col_indexer] = value instead\n",
      "\n",
      "See the caveats in the documentation: http://pandas.pydata.org/pandas-docs/stable/user_guide/indexing.html#returning-a-view-versus-a-copy\n",
      "  \"\"\"Entry point for launching an IPython kernel.\n",
      "/home/veruska/.local/lib/python3.6/site-packages/ipykernel_launcher.py:14: SettingWithCopyWarning: \n",
      "A value is trying to be set on a copy of a slice from a DataFrame.\n",
      "Try using .loc[row_indexer,col_indexer] = value instead\n",
      "\n",
      "See the caveats in the documentation: http://pandas.pydata.org/pandas-docs/stable/user_guide/indexing.html#returning-a-view-versus-a-copy\n",
      "  \n",
      "/home/veruska/.local/lib/python3.6/site-packages/sklearn/preprocessing/label.py:219: DataConversionWarning: A column-vector y was passed when a 1d array was expected. Please change the shape of y to (n_samples, ), for example using ravel().\n",
      "  y = column_or_1d(y, warn=True)\n",
      "/home/veruska/.local/lib/python3.6/site-packages/sklearn/preprocessing/label.py:252: DataConversionWarning: A column-vector y was passed when a 1d array was expected. Please change the shape of y to (n_samples, ), for example using ravel().\n",
      "  y = column_or_1d(y, warn=True)\n",
      "/home/veruska/.local/lib/python3.6/site-packages/ipykernel_launcher.py:34: SettingWithCopyWarning: \n",
      "A value is trying to be set on a copy of a slice from a DataFrame.\n",
      "Try using .loc[row_indexer,col_indexer] = value instead\n",
      "\n",
      "See the caveats in the documentation: http://pandas.pydata.org/pandas-docs/stable/user_guide/indexing.html#returning-a-view-versus-a-copy\n",
      "/home/veruska/.local/lib/python3.6/site-packages/ipykernel_launcher.py:36: SettingWithCopyWarning: \n",
      "A value is trying to be set on a copy of a slice from a DataFrame.\n",
      "Try using .loc[row_indexer,col_indexer] = value instead\n",
      "\n",
      "See the caveats in the documentation: http://pandas.pydata.org/pandas-docs/stable/user_guide/indexing.html#returning-a-view-versus-a-copy\n"
     ]
    },
    {
     "data": {
      "text/plain": [
       "array([0., 1., 0., ..., 0., 0., 0.])"
      ]
     },
     "execution_count": 5,
     "metadata": {},
     "output_type": "execute_result"
    }
   ],
   "source": [
    "train_X['rf'] = rf_pred\n",
    "\n",
    "rf_cb = CatBoostClassifier(\n",
    "    custom_loss=['Accuracy', 'Precision', 'Recall', 'F1'],\n",
    "    iterations=10000,\n",
    "    learning_rate=0.9,\n",
    "    random_seed=42,\n",
    "    depth=8,\n",
    "    l2_leaf_reg=5,\n",
    "    logging_level='Silent'\n",
    ")\n",
    "rf_cb.fit(train_X, train_Y)\n",
    "rf_cb_pred = rf_cb.predict(train_X)\n",
    "train_X['cb'] = rf_cb_pred\n",
    "#testes: diminuir n=100 e del preds\n",
    "\n",
    "rf_cb_xgboost = XGBClassifier(\n",
    "     learning_rate =0.1,\n",
    "     n_estimators=120, \n",
    "     max_depth=50,\n",
    "     min_child_weight=1,\n",
    "     gamma=0,\n",
    "     subsample=0.8,\n",
    "     colsample_bytree=0.8,\n",
    "     objective= 'binary:logistic',\n",
    "     nthread=-1,\n",
    "     scale_pos_weight=1,\n",
    "     seed=23)\n",
    "rf_cb_xgboost.fit(train_X, train_Y)\n",
    "rf_cb_xgboost_pred = rf_cb_xgboost.predict(train_X)\n",
    "\n",
    "\n",
    "rf_pred_test = rf.predict(test_X)\n",
    "test_X['rf'] = rf_pred_test\n",
    "rf_cb_pred_test = rf_cb.predict(test_X)\n",
    "test_X['cb'] = rf_cb_pred_test\n",
    "\n",
    "pred_array = rf_cb_xgboost.predict(test_X)\n",
    "pred_array"
   ]
  },
  {
   "cell_type": "code",
   "execution_count": 6,
   "metadata": {},
   "outputs": [
    {
     "name": "stdout",
     "output_type": "stream",
     "text": [
      "Accuracy: 0.9514740321156471\n",
      "Precision: 0.8999254384543067\n",
      "Recall: 0.7195997615159292\n",
      "F-measure: 0.799723438580318\n"
     ]
    }
   ],
   "source": [
    "# Bus Bunching\n",
    "accuracy = accuracy_score(test_Y, pred_array)\n",
    "precision = precision_score(test_Y, pred_array)\n",
    "recall = recall_score(test_Y, pred_array)\n",
    "f_measure = f1_score(test_Y, pred_array)\n",
    "\n",
    "print(\"Accuracy: \" + str(accuracy))\n",
    "print(\"Precision: \" + str(precision))\n",
    "print(\"Recall: \" + str(recall))\n",
    "print(\"F-measure: \" + str(f_measure))"
   ]
  },
  {
   "cell_type": "markdown",
   "metadata": {},
   "source": [
    "#### 3. knn>xgboost>rf"
   ]
  },
  {
   "cell_type": "code",
   "execution_count": 5,
   "metadata": {},
   "outputs": [
    {
     "name": "stderr",
     "output_type": "stream",
     "text": [
      "/home/veruska/.local/lib/python3.6/site-packages/ipykernel_launcher.py:26: DataConversionWarning: A column-vector y was passed when a 1d array was expected. Please change the shape of y to (n_samples,), for example using ravel().\n",
      "/home/veruska/.local/lib/python3.6/site-packages/ipykernel_launcher.py:31: SettingWithCopyWarning: \n",
      "A value is trying to be set on a copy of a slice from a DataFrame.\n",
      "Try using .loc[row_indexer,col_indexer] = value instead\n",
      "\n",
      "See the caveats in the documentation: http://pandas.pydata.org/pandas-docs/stable/user_guide/indexing.html#returning-a-view-versus-a-copy\n",
      "/home/veruska/.local/lib/python3.6/site-packages/ipykernel_launcher.py:33: SettingWithCopyWarning: \n",
      "A value is trying to be set on a copy of a slice from a DataFrame.\n",
      "Try using .loc[row_indexer,col_indexer] = value instead\n",
      "\n",
      "See the caveats in the documentation: http://pandas.pydata.org/pandas-docs/stable/user_guide/indexing.html#returning-a-view-versus-a-copy\n"
     ]
    },
    {
     "data": {
      "text/plain": [
       "array([0., 0., 0., ..., 0., 0., 0.])"
      ]
     },
     "execution_count": 5,
     "metadata": {},
     "output_type": "execute_result"
    }
   ],
   "source": [
    "knn = KNeighborsClassifier(n_jobs=-1)\n",
    "knn.fit(train_X, train_Y)\n",
    "knn_pred = knn.predict(train_X)\n",
    "train_X['knn'] = knn_pred\n",
    "\n",
    "\n",
    "knn_xgboost = XGBClassifier(\n",
    "     learning_rate =0.1,\n",
    "     n_estimators=120, \n",
    "     max_depth=50,\n",
    "     min_child_weight=1,\n",
    "     gamma=0,\n",
    "     subsample=0.8,\n",
    "     colsample_bytree=0.8,\n",
    "     objective= 'binary:logistic',\n",
    "     nthread=-1,\n",
    "     scale_pos_weight=1,\n",
    "     seed=23)\n",
    "knn_xgboost.fit(train_X, train_Y)\n",
    "knn_xgboost_pred = knn_xgboost.predict(train_X)\n",
    "train_X['xgboost'] = knn_xgboost_pred\n",
    "\n",
    "\n",
    "knn_xgboost_rf = RandomForestClassifier(n_estimators=100, min_samples_split=5,\n",
    "                           max_features=0.8, n_jobs=-1)\n",
    "knn_xgboost_rf.fit(train_X, train_Y)\n",
    "knn_xgboost_rf_pred = knn_xgboost_rf.predict(train_X)\n",
    "\n",
    "\n",
    "knn_pred_test = knn.predict(test_X)\n",
    "test_X['knn'] = knn_pred_test\n",
    "knn_xgboost_pred_test = knn_xgboost.predict(test_X)\n",
    "test_X['xgboost'] = knn_xgboost_pred_test\n",
    "\n",
    "pred_array = knn_xgboost_rf.predict(test_X)\n",
    "pred_array"
   ]
  },
  {
   "cell_type": "code",
   "execution_count": 6,
   "metadata": {},
   "outputs": [],
   "source": [
    "# Bus Bunching\n",
    "accuracy = accuracy_score(test_Y, pred_array)\n",
    "precision = precision_score(test_Y, pred_array)\n",
    "recall = recall_score(test_Y, pred_array)\n",
    "f_measure = f1_score(test_Y, pred_array)"
   ]
  },
  {
   "cell_type": "code",
   "execution_count": 7,
   "metadata": {},
   "outputs": [
    {
     "name": "stdout",
     "output_type": "stream",
     "text": [
      "Accuracy: 0.9580024325677899\n",
      "Precision: 0.8641509433962264\n",
      "Recall: 0.6740250183958794\n",
      "F-measure: 0.7573377428689542\n"
     ]
    }
   ],
   "source": [
    "print(\"Accuracy: \" + str(accuracy))\n",
    "print(\"Precision: \" + str(precision))\n",
    "print(\"Recall: \" + str(recall))\n",
    "print(\"F-measure: \" + str(f_measure))"
   ]
  },
  {
   "cell_type": "markdown",
   "metadata": {},
   "source": [
    "####  4. xgboost>rf>knn"
   ]
  },
  {
   "cell_type": "code",
   "execution_count": 4,
   "metadata": {},
   "outputs": [
    {
     "name": "stderr",
     "output_type": "stream",
     "text": [
      "/home/veruska/.local/lib/python3.6/site-packages/sklearn/preprocessing/label.py:219: DataConversionWarning: A column-vector y was passed when a 1d array was expected. Please change the shape of y to (n_samples, ), for example using ravel().\n",
      "  y = column_or_1d(y, warn=True)\n",
      "/home/veruska/.local/lib/python3.6/site-packages/sklearn/preprocessing/label.py:252: DataConversionWarning: A column-vector y was passed when a 1d array was expected. Please change the shape of y to (n_samples, ), for example using ravel().\n",
      "  y = column_or_1d(y, warn=True)\n",
      "/home/veruska/.local/lib/python3.6/site-packages/ipykernel_launcher.py:15: SettingWithCopyWarning: \n",
      "A value is trying to be set on a copy of a slice from a DataFrame.\n",
      "Try using .loc[row_indexer,col_indexer] = value instead\n",
      "\n",
      "See the caveats in the documentation: http://pandas.pydata.org/pandas-docs/stable/user_guide/indexing.html#returning-a-view-versus-a-copy\n",
      "  from ipykernel import kernelapp as app\n",
      "/home/veruska/.local/lib/python3.6/site-packages/ipykernel_launcher.py:20: DataConversionWarning: A column-vector y was passed when a 1d array was expected. Please change the shape of y to (n_samples,), for example using ravel().\n",
      "/home/veruska/.local/lib/python3.6/site-packages/ipykernel_launcher.py:22: SettingWithCopyWarning: \n",
      "A value is trying to be set on a copy of a slice from a DataFrame.\n",
      "Try using .loc[row_indexer,col_indexer] = value instead\n",
      "\n",
      "See the caveats in the documentation: http://pandas.pydata.org/pandas-docs/stable/user_guide/indexing.html#returning-a-view-versus-a-copy\n",
      "/home/veruska/.local/lib/python3.6/site-packages/ipykernel_launcher.py:26: DataConversionWarning: A column-vector y was passed when a 1d array was expected. Please change the shape of y to (n_samples, ), for example using ravel().\n",
      "/home/veruska/.local/lib/python3.6/site-packages/ipykernel_launcher.py:31: SettingWithCopyWarning: \n",
      "A value is trying to be set on a copy of a slice from a DataFrame.\n",
      "Try using .loc[row_indexer,col_indexer] = value instead\n",
      "\n",
      "See the caveats in the documentation: http://pandas.pydata.org/pandas-docs/stable/user_guide/indexing.html#returning-a-view-versus-a-copy\n",
      "/home/veruska/.local/lib/python3.6/site-packages/ipykernel_launcher.py:33: SettingWithCopyWarning: \n",
      "A value is trying to be set on a copy of a slice from a DataFrame.\n",
      "Try using .loc[row_indexer,col_indexer] = value instead\n",
      "\n",
      "See the caveats in the documentation: http://pandas.pydata.org/pandas-docs/stable/user_guide/indexing.html#returning-a-view-versus-a-copy\n"
     ]
    },
    {
     "data": {
      "text/plain": [
       "array([0., 0., 0., ..., 0., 0., 0.])"
      ]
     },
     "execution_count": 4,
     "metadata": {},
     "output_type": "execute_result"
    }
   ],
   "source": [
    "xgboost = XGBClassifier(\n",
    "     learning_rate =0.1,\n",
    "     n_estimators=120, \n",
    "     max_depth=50,\n",
    "     min_child_weight=1,\n",
    "     gamma=0,\n",
    "     subsample=0.8,\n",
    "     colsample_bytree=0.8,\n",
    "     objective= 'binary:logistic',\n",
    "     nthread=-1,\n",
    "     scale_pos_weight=1,\n",
    "     seed=23)\n",
    "xgboost.fit(train_X, train_Y)\n",
    "xgboost_pred = xgboost.predict(train_X)\n",
    "train_X['xgboost'] = xgboost_pred\n",
    "\n",
    "\n",
    "xgboost_rf = RandomForestClassifier(n_estimators=100, min_samples_split=5,\n",
    "                           max_features=0.8, n_jobs=-1)\n",
    "xgboost_rf.fit(train_X, train_Y)\n",
    "xgboost_rf_pred = xgboost_rf.predict(train_X)\n",
    "train_X['rf'] = xgboost_rf_pred\n",
    "\n",
    "\n",
    "xgboost_rf_knn = KNeighborsClassifier(n_jobs=-1)\n",
    "xgboost_rf_knn.fit(train_X, train_Y)\n",
    "xgboost_rf_knn_pred = xgboost_rf_knn.predict(train_X)\n",
    "\n",
    "\n",
    "xgboost_pred_test = xgboost.predict(test_X)\n",
    "test_X['xgboost'] = xgboost_pred_test\n",
    "xgboost_rf_pred_test = xgboost_rf.predict(test_X)\n",
    "test_X['rf'] = xgboost_rf_pred_test\n",
    "\n",
    "pred_array = xgboost_rf_knn.predict(test_X)\n",
    "pred_array"
   ]
  },
  {
   "cell_type": "code",
   "execution_count": 5,
   "metadata": {},
   "outputs": [],
   "source": [
    "# Bus Bunching\n",
    "accuracy = accuracy_score(test_Y, pred_array)\n",
    "precision = precision_score(test_Y, pred_array)\n",
    "recall = recall_score(test_Y, pred_array)\n",
    "f_measure = f1_score(test_Y, pred_array)"
   ]
  },
  {
   "cell_type": "code",
   "execution_count": 6,
   "metadata": {},
   "outputs": [
    {
     "name": "stdout",
     "output_type": "stream",
     "text": [
      "Accuracy: 0.9649424053802675\n",
      "Precision: 0.9263984298331698\n",
      "Recall: 0.6946284032376747\n",
      "F-measure: 0.7939444911690496\n"
     ]
    }
   ],
   "source": [
    "print(\"Accuracy: \" + str(accuracy))\n",
    "print(\"Precision: \" + str(precision))\n",
    "print(\"Recall: \" + str(recall))\n",
    "print(\"F-measure: \" + str(f_measure))"
   ]
  },
  {
   "cell_type": "code",
   "execution_count": 18,
   "metadata": {},
   "outputs": [
    {
     "name": "stdout",
     "output_type": "stream",
     "text": [
      "Accuracy: 0.9508562892851284\n",
      "Precision: 0.9031334342702916\n",
      "Recall: 0.711278741218861\n",
      "F-measure: 0.7958062036862483\n"
     ]
    }
   ],
   "source": [
    "#todos 1.\n",
    "print(\"Accuracy: \" + str(accuracy))\n",
    "print(\"Precision: \" + str(precision))\n",
    "print(\"Recall: \" + str(recall))\n",
    "print(\"F-measure: \" + str(f_measure))"
   ]
  },
  {
   "cell_type": "markdown",
   "metadata": {},
   "source": [
    "#### 4.1 xgboost>rf>catboost"
   ]
  },
  {
   "cell_type": "code",
   "execution_count": null,
   "metadata": {},
   "outputs": [],
   "source": [
    "xgboost = XGBClassifier(\n",
    "     learning_rate =0.1,\n",
    "     n_estimators=120, \n",
    "     max_depth=50,\n",
    "     min_child_weight=1,\n",
    "     gamma=0,\n",
    "     subsample=0.8,\n",
    "     colsample_bytree=0.8,\n",
    "     objective= 'binary:logistic',\n",
    "     nthread=-1,\n",
    "     scale_pos_weight=1,\n",
    "     seed=23)\n",
    "xgboost.fit(train_X, train_Y)\n",
    "xgboost_pred = xgboost.predict(train_X)\n",
    "train_X['xgboost'] = xgboost_pred\n",
    "\n",
    "\n",
    "xgboost_rf = RandomForestClassifier(n_estimators=100, min_samples_split=5,\n",
    "                           max_features=0.8, n_jobs=-1)\n",
    "xgboost_rf.fit(train_X, train_Y)\n",
    "xgboost_rf_pred = xgboost_rf.predict(train_X)\n",
    "train_X['rf'] = xgboost_rf_pred\n",
    "\n",
    "\n",
    "xgboost_rf_cb = CatBoostClassifier(\n",
    "    custom_loss=['Accuracy', 'Precision', 'Recall', 'F1'],\n",
    "    iterations=10000,\n",
    "    learning_rate=0.9,\n",
    "    random_seed=42,\n",
    "    depth=8,\n",
    "    l2_leaf_reg=5,\n",
    "    logging_level='Silent'\n",
    ")\n",
    "xgboost_rf_cb.fit(train_X, train_Y)\n",
    "xgboost_rf_cb_pred = xgboost_rf_cb.predict(train_X)\n",
    "\n",
    "\n",
    "xgboost_pred_test = xgboost.predict(test_X)\n",
    "test_X['xgboost'] = xgboost_pred_test\n",
    "xgboost_rf_pred_test = xgboost_rf.predict(test_X)\n",
    "test_X['rf'] = xgboost_rf_pred_test\n",
    "\n",
    "pred_array = xgboost_rf_cb.predict(test_X)\n",
    "pred_array"
   ]
  },
  {
   "cell_type": "code",
   "execution_count": null,
   "metadata": {},
   "outputs": [],
   "source": [
    "# Bus Bunching\n",
    "accuracy = accuracy_score(test_Y, pred_array)\n",
    "precision = precision_score(test_Y, pred_array)\n",
    "recall = recall_score(test_Y, pred_array)\n",
    "f_measure = f1_score(test_Y, pred_array)"
   ]
  },
  {
   "cell_type": "code",
   "execution_count": null,
   "metadata": {},
   "outputs": [],
   "source": [
    "print(\"Accuracy: \" + str(accuracy))\n",
    "print(\"Precision: \" + str(precision))\n",
    "print(\"Recall: \" + str(recall))\n",
    "print(\"F-measure: \" + str(f_measure))"
   ]
  },
  {
   "cell_type": "markdown",
   "metadata": {},
   "source": [
    "#### 4.2 xgboost>rf>catboost>knn"
   ]
  },
  {
   "cell_type": "code",
   "execution_count": null,
   "metadata": {},
   "outputs": [],
   "source": [
    "xgboost = XGBClassifier(\n",
    "     learning_rate =0.1,\n",
    "     n_estimators=120, \n",
    "     max_depth=50,\n",
    "     min_child_weight=1,\n",
    "     gamma=0,\n",
    "     subsample=0.8,\n",
    "     colsample_bytree=0.8,\n",
    "     objective= 'binary:logistic',\n",
    "     nthread=-1,\n",
    "     scale_pos_weight=1,\n",
    "     seed=23)\n",
    "xgboost.fit(train_X, train_Y)\n",
    "xgboost_pred = xgboost.predict(train_X)\n",
    "train_X['xgboost'] = xgboost_pred\n",
    "\n",
    "\n",
    "xgboost_rf = RandomForestClassifier(n_estimators=100, min_samples_split=5,\n",
    "                           max_features=0.8, n_jobs=-1)\n",
    "xgboost_rf.fit(train_X, train_Y)\n",
    "xgboost_rf_pred = xgboost_rf.predict(train_X)\n",
    "train_X['rf'] = xgboost_rf_pred\n",
    "\n",
    "\n",
    "xgboost_rf_cb = CatBoostClassifier(\n",
    "    custom_loss=['Accuracy', 'Precision', 'Recall', 'F1'],\n",
    "    iterations=10000,\n",
    "    learning_rate=0.9,\n",
    "    random_seed=42,\n",
    "    depth=8,\n",
    "    l2_leaf_reg=5,\n",
    "    logging_level='Silent'\n",
    ")\n",
    "xgboost_rf_cb.fit(train_X, train_Y)\n",
    "xgboost_rf_cb_pred = xgboost_rf_cb.predict(train_X)\n",
    "train_X['cat'] = xgboost_rf_cb_pred\n",
    "\n",
    "\n",
    "xgboost_rf_cb_knn = KNeighborsClassifier(n_jobs=-1)\n",
    "xgboost_rf_cb_knn.fit(train_X, train_Y)\n",
    "xgboost_rf_knn_pred = xgboost_rf_cb_knn.predict(train_X)\n",
    "\n",
    "\n",
    "xgboost_pred_test = xgboost.predict(test_X)\n",
    "test_X['xgboost'] = xgboost_pred_test\n",
    "xgboost_rf_pred_test = xgboost_rf.predict(test_X)\n",
    "test_X['rf'] = xgboost_rf_pred_test\n",
    "xgboost_rf_cb_pred_test = xgboost_rf_cb.predict(test_X)\n",
    "test_X['cat'] = xgboost_rf_cb_pred_test\n",
    "\n",
    "pred_array = xgboost_rf_cb_knn.predict(test_X)\n",
    "pred_array"
   ]
  },
  {
   "cell_type": "code",
   "execution_count": null,
   "metadata": {},
   "outputs": [],
   "source": [
    "# Bus Bunching\n",
    "accuracy = accuracy_score(test_Y, pred_array)\n",
    "precision = precision_score(test_Y, pred_array)\n",
    "recall = recall_score(test_Y, pred_array)\n",
    "f_measure = f1_score(test_Y, pred_array)"
   ]
  },
  {
   "cell_type": "code",
   "execution_count": null,
   "metadata": {},
   "outputs": [],
   "source": [
    "print(\"Accuracy: \" + str(accuracy))\n",
    "print(\"Precision: \" + str(precision))\n",
    "print(\"Recall: \" + str(recall))\n",
    "print(\"F-measure: \" + str(f_measure))"
   ]
  },
  {
   "cell_type": "markdown",
   "metadata": {},
   "source": [
    "### Boosting"
   ]
  },
  {
   "cell_type": "code",
   "execution_count": null,
   "metadata": {},
   "outputs": [],
   "source": [
    "# check predictions and add weights\n",
    "def checkPredictions(pred):\n",
    "    weights = []\n",
    "    for i in range(0, len(pred)):\n",
    "        if (pred[i] == train_Y.values[i][0]): # prediction correct\n",
    "            weights.append(0.1)\n",
    "        else:\n",
    "            if (pred[i] == 0.0): # false negative\n",
    "                weights.append(0.5)\n",
    "            else: # false positive\n",
    "                weights.append(0.4)\n",
    "                \n",
    "    return weights"
   ]
  },
  {
   "cell_type": "markdown",
   "metadata": {},
   "source": [
    "#### 1. rf>xgboost>knn>catboost"
   ]
  },
  {
   "cell_type": "code",
   "execution_count": null,
   "metadata": {},
   "outputs": [],
   "source": [
    "xgboost = XGBClassifier(\n",
    "     learning_rate =0.1,\n",
    "     n_estimators=120, \n",
    "     max_depth=50,\n",
    "     min_child_weight=1,\n",
    "     gamma=0,\n",
    "     subsample=0.8,\n",
    "     colsample_bytree=0.8,\n",
    "     objective= 'binary:logistic',\n",
    "     nthread=-1,\n",
    "     scale_pos_weight=1,\n",
    "     seed=23)\n",
    "\n",
    "xgboost.fit(train_X, train_Y)\n",
    "xgb_pred = xgboost.predict(train_X)\n",
    "\n",
    "train_X['xgboost'] = xgb_pred"
   ]
  },
  {
   "cell_type": "code",
   "execution_count": null,
   "metadata": {},
   "outputs": [],
   "source": [
    "xgb_rf = RandomForestClassifier(n_estimators=100, min_samples_split=5,\n",
    "                                            max_features=0.8, n_jobs=-1)\n",
    "xgb_rf.fit(train_X, train_Y, checkPredictions(xgb_pred))\n",
    "rf_pred = xgb_rf.predict(train_X)\n",
    "\n",
    "train_X['rf'] = rf_pred"
   ]
  },
  {
   "cell_type": "code",
   "execution_count": null,
   "metadata": {},
   "outputs": [],
   "source": [
    "xgb_rf_cb = model = CatBoostClassifier(\n",
    "    custom_loss=['Accuracy', 'Precision', 'Recall', 'F1'],\n",
    "    iterations=10000,\n",
    "    learning_rate=0.9,\n",
    "    random_seed=42,\n",
    "    depth=8,\n",
    "    l2_leaf_reg=5,\n",
    "    logging_level='Silent'\n",
    ")\n",
    "\n",
    "xgb_rf_cb.fit(train_X, train_Y, sample_weight=checkPredictions(rf_pred))\n",
    "cat_pred = xgb_rf_cb.predict(train_X)\n",
    "\n",
    "train_X['cat'] = cat_pred"
   ]
  },
  {
   "cell_type": "code",
   "execution_count": null,
   "metadata": {},
   "outputs": [],
   "source": [
    "xgb_rf_cb_knn = KNeighborsClassifier(n_jobs=-1)\n",
    "xgb_rf_cb_knn.fit(train_X, train_Y)"
   ]
  },
  {
   "cell_type": "code",
   "execution_count": null,
   "metadata": {},
   "outputs": [],
   "source": [
    "xgboost_pred_test = xgboost.predict(test_X)\n",
    "test_X['xgboost'] = xgboost_pred_test\n",
    "\n",
    "xgb_rf_pred_test = xgb_rf.predict(test_X)\n",
    "test_X['rf'] = xgb_rf_pred_test\n",
    "\n",
    "xgb_rf_cb_pred_test = xgb_rf_cb.predict(test_X)\n",
    "test_X['cat'] = xgb_rf_cb_pred_test\n",
    "\n",
    "pred_array = xgb_rf_cb_knn.predict(test_X)\n",
    "#pred_array = xgb_rf_cb.predict(test_X) #sem knn\n",
    "pred_array"
   ]
  },
  {
   "cell_type": "code",
   "execution_count": null,
   "metadata": {},
   "outputs": [],
   "source": [
    "# Bus Bunching\n",
    "accuracy = accuracy_score(test_Y, pred_array)\n",
    "precision = precision_score(test_Y, pred_array)\n",
    "recall = recall_score(test_Y, pred_array)\n",
    "f_measure = f1_score(test_Y, pred_array)"
   ]
  },
  {
   "cell_type": "code",
   "execution_count": null,
   "metadata": {},
   "outputs": [],
   "source": [
    "# boosting: xgb > rf (peso) > cat (peso)\n",
    "print(\"Accuracy: \" + str(accuracy))\n",
    "print(\"Precision: \" + str(precision))\n",
    "print(\"Recall: \" + str(recall))\n",
    "print(\"F-measure: \" + str(f_measure)) #0.79"
   ]
  },
  {
   "cell_type": "code",
   "execution_count": null,
   "metadata": {},
   "outputs": [],
   "source": [
    "# boosting: xgb > rf (peso) > cat (peso) > knn\n",
    "print(\"Accuracy: \" + str(accuracy))\n",
    "print(\"Precision: \" + str(precision))\n",
    "print(\"Recall: \" + str(recall))\n",
    "print(\"F-measure: \" + str(f_measure)) #0.79"
   ]
  },
  {
   "cell_type": "code",
   "execution_count": null,
   "metadata": {},
   "outputs": [],
   "source": [
    "# boosting: rf (sem peso) > xgb (com peso, kernel dead) > knn (n tem peso) > cat (com peso)\n",
    "print(\"Accuracy: \" + str(accuracy))\n",
    "print(\"Precision: \" + str(precision))\n",
    "print(\"Recall: \" + str(recall))\n",
    "print(\"F-measure: \" + str(f_measure)) #0.8"
   ]
  }
 ],
 "metadata": {
  "kernelspec": {
   "display_name": "Python 3",
   "language": "python",
   "name": "python3"
  },
  "language_info": {
   "codemirror_mode": {
    "name": "ipython",
    "version": 3
   },
   "file_extension": ".py",
   "mimetype": "text/x-python",
   "name": "python",
   "nbconvert_exporter": "python",
   "pygments_lexer": "ipython3",
   "version": "3.6.8"
  }
 },
 "nbformat": 4,
 "nbformat_minor": 2
}
