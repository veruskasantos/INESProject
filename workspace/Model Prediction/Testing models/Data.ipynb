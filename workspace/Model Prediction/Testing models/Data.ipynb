{
 "cells": [
  {
   "cell_type": "code",
   "execution_count": 1,
   "metadata": {},
   "outputs": [],
   "source": [
    "import pandas as pd"
   ]
  },
  {
   "cell_type": "code",
   "execution_count": 2,
   "metadata": {},
   "outputs": [],
   "source": [
    "file_path = '../data/input/integrated_data_dummy.csv'\n",
    "\n",
    "data = pd.read_csv(file_path, nrows=10000)\n",
    "data = data.sort_values([\"busCode\",\"busCodeSB\"])"
   ]
  },
  {
   "cell_type": "code",
   "execution_count": 27,
   "metadata": {},
   "outputs": [
    {
     "data": {
      "text/html": [
       "<div>\n",
       "<style scoped>\n",
       "    .dataframe tbody tr th:only-of-type {\n",
       "        vertical-align: middle;\n",
       "    }\n",
       "\n",
       "    .dataframe tbody tr th {\n",
       "        vertical-align: top;\n",
       "    }\n",
       "\n",
       "    .dataframe thead th {\n",
       "        text-align: right;\n",
       "    }\n",
       "</style>\n",
       "<table border=\"1\" class=\"dataframe\">\n",
       "  <thead>\n",
       "    <tr style=\"text-align: right;\">\n",
       "      <th></th>\n",
       "      <th>route</th>\n",
       "      <th>tripNum</th>\n",
       "      <th>shapeSequence</th>\n",
       "      <th>shapeLat</th>\n",
       "      <th>shapeLon</th>\n",
       "      <th>distanceTraveledShape</th>\n",
       "      <th>busCode</th>\n",
       "      <th>gpsPointId</th>\n",
       "      <th>gpsLat</th>\n",
       "      <th>gpsLon</th>\n",
       "      <th>...</th>\n",
       "      <th>alertTypeSB_-</th>\n",
       "      <th>alertTypeSB_ACCIDENT</th>\n",
       "      <th>alertTypeSB_CHIT_CHAT</th>\n",
       "      <th>alertTypeSB_HAZARD</th>\n",
       "      <th>alertTypeSB_JAM</th>\n",
       "      <th>alertTypeSB_POLICE</th>\n",
       "      <th>alertTypeSB_ROAD_CLOSED</th>\n",
       "      <th>jamBlockTypeSB_-</th>\n",
       "      <th>jamBlockTypeSB_ROAD_CLOSED_CONSTRUCTION</th>\n",
       "      <th>jamBlockTypeSB_ROAD_CLOSED_EVENT</th>\n",
       "    </tr>\n",
       "  </thead>\n",
       "  <tbody>\n",
       "  </tbody>\n",
       "</table>\n",
       "<p>0 rows × 456 columns</p>\n",
       "</div>"
      ],
      "text/plain": [
       "Empty DataFrame\n",
       "Columns: [route, tripNum, shapeSequence, shapeLat, shapeLon, distanceTraveledShape, busCode, gpsPointId, gpsLat, gpsLon, distanceToShapePoint, stopPointId, precipitation, alertRoadType, alertConfidence, alertNComments, alertNImages, alertNThumbsUp, alertReliability, alertReportMood, alertReportRating, alertSpeed, alertLatitude, alertLongitude, alertDistanceToClosestShapePoint, alertIsJamUnifiedAlert, alertInScale, jamDelay, jamLength, jamLevel, jamSeverity, jamSpeedKM, jamDistanceToClosestShapePoint, headway, headwayThreshold, busBunching, GPShour, tripNumSB, shapeSequenceSB, shapeLatSB, shapeLonSB, distanceTraveledShapeSB, busCodeSB, gpsPointIdSB, gpsLatSB, gpsLonSB, distanceToShapePointSB, stopPointIdSB, precipitationSB, alertRoadTypeSB, alertConfidenceSB, alertNCommentsSB, alertNImagesSB, alertNThumbsUpSB, alertReliabilitySB, alertReportMoodSB, alertReportRatingSB, alertSpeedSB, alertLatitudeSB, alertLongitudeSB, alertDistanceToClosestShapePointSB, alertIsJamUnifiedAlertSB, alertInScaleSB, jamDelaySB, jamLengthSB, jamLevelSB, jamSeveritySB, jamSpeedKMSB, jamDistanceToClosestShapePointSB, DAY(gps_datetime), DAY(precipitationTime), DAY(alertDateTime), DAY(jamUpdateDateTime), DAY(gps_datetimeSB), DAY(precipitationTimeSB), DAY(alertDateTimeSB), DAY(jamUpdateDateTimeSB), YEAR(gps_datetime), YEAR(precipitationTime), YEAR(alertDateTime), YEAR(jamUpdateDateTime), YEAR(gps_datetimeSB), YEAR(precipitationTimeSB), YEAR(alertDateTimeSB), YEAR(jamUpdateDateTimeSB), MONTH(gps_datetime), MONTH(precipitationTime), MONTH(alertDateTime), MONTH(jamUpdateDateTime), MONTH(gps_datetimeSB), MONTH(precipitationTimeSB), MONTH(alertDateTimeSB), MONTH(jamUpdateDateTimeSB), WEEKDAY(gps_datetime), WEEKDAY(precipitationTime), WEEKDAY(alertDateTime), WEEKDAY(jamUpdateDateTime), WEEKDAY(gps_datetimeSB), WEEKDAY(precipitationTimeSB), WEEKDAY(alertDateTimeSB), ...]\n",
       "Index: []\n",
       "\n",
       "[0 rows x 456 columns]"
      ]
     },
     "execution_count": 27,
     "metadata": {},
     "output_type": "execute_result"
    }
   ],
   "source": [
    "data5p = data[data[\"DAY(gps_datetime)\"] == 1]\n",
    "data25p = data[data[\"DAY(gps_datetime)\"].isin([1,2,3,9])]\n",
    "data52p = data[data[\"DAY(gps_datetime)\"].isin([1,2,3,4,5,6])]\n",
    "data75p = data[data[\"DAY(gps_datetime)\"].isin([1,2,3,4,5,6,7,8,9])]"
   ]
  },
  {
   "cell_type": "code",
   "execution_count": null,
   "metadata": {},
   "outputs": [],
   "source": []
  },
  {
   "cell_type": "code",
   "execution_count": null,
   "metadata": {},
   "outputs": [],
   "source": []
  },
  {
   "cell_type": "code",
   "execution_count": null,
   "metadata": {},
   "outputs": [],
   "source": []
  },
  {
   "cell_type": "code",
   "execution_count": null,
   "metadata": {},
   "outputs": [],
   "source": []
  },
  {
   "cell_type": "code",
   "execution_count": null,
   "metadata": {},
   "outputs": [],
   "source": []
  },
  {
   "cell_type": "code",
   "execution_count": null,
   "metadata": {},
   "outputs": [],
   "source": []
  }
 ],
 "metadata": {
  "kernelspec": {
   "display_name": "Python 3",
   "language": "python",
   "name": "python3"
  },
  "language_info": {
   "codemirror_mode": {
    "name": "ipython",
    "version": 3
   },
   "file_extension": ".py",
   "mimetype": "text/x-python",
   "name": "python",
   "nbconvert_exporter": "python",
   "pygments_lexer": "ipython3",
   "version": "3.6.7"
  }
 },
 "nbformat": 4,
 "nbformat_minor": 2
}
