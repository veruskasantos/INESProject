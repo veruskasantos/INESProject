{
 "cells": [
  {
   "cell_type": "code",
   "execution_count": 6,
   "metadata": {},
   "outputs": [],
   "source": [
    "import pandas as pd\n",
    "import random\n",
    "from sklearn.model_selection import train_test_split\n",
    "from sklearn.metrics import mean_squared_error, accuracy_score, precision_score, recall_score, f1_score\n",
    "from catboost import CatBoostClassifier\n",
    "from xgboost.sklearn import XGBClassifier\n",
    "from sklearn.ensemble import RandomForestClassifier"
   ]
  },
  {
   "cell_type": "code",
   "execution_count": 2,
   "metadata": {},
   "outputs": [
    {
     "name": "stdout",
     "output_type": "stream",
     "text": [
      "(69884, 420)\n",
      "(69884, 1)\n"
     ]
    },
    {
     "data": {
      "text/html": [
       "<div>\n",
       "<style scoped>\n",
       "    .dataframe tbody tr th:only-of-type {\n",
       "        vertical-align: middle;\n",
       "    }\n",
       "\n",
       "    .dataframe tbody tr th {\n",
       "        vertical-align: top;\n",
       "    }\n",
       "\n",
       "    .dataframe thead th {\n",
       "        text-align: right;\n",
       "    }\n",
       "</style>\n",
       "<table border=\"1\" class=\"dataframe\">\n",
       "  <thead>\n",
       "    <tr style=\"text-align: right;\">\n",
       "      <th></th>\n",
       "      <th>route</th>\n",
       "      <th>tripNum</th>\n",
       "      <th>shapeSequence</th>\n",
       "      <th>shapeLat</th>\n",
       "      <th>shapeLon</th>\n",
       "      <th>distanceTraveledShape</th>\n",
       "      <th>busCode</th>\n",
       "      <th>gpsPointId</th>\n",
       "      <th>gpsLat</th>\n",
       "      <th>gpsLon</th>\n",
       "      <th>...</th>\n",
       "      <th>alertTypeSB_ACCIDENT</th>\n",
       "      <th>alertTypeSB_CHIT_CHAT</th>\n",
       "      <th>alertTypeSB_HAZARD</th>\n",
       "      <th>alertTypeSB_JAM</th>\n",
       "      <th>alertTypeSB_NORMAL</th>\n",
       "      <th>alertTypeSB_POLICE</th>\n",
       "      <th>alertTypeSB_ROAD_CLOSED</th>\n",
       "      <th>jamBlockTypeSB_-</th>\n",
       "      <th>jamBlockTypeSB_NORMAL</th>\n",
       "      <th>jamBlockTypeSB_ROAD_CLOSED_EVENT</th>\n",
       "    </tr>\n",
       "  </thead>\n",
       "  <tbody>\n",
       "    <tr>\n",
       "      <th>0</th>\n",
       "      <td>0.118068</td>\n",
       "      <td>0.0</td>\n",
       "      <td>0.084945</td>\n",
       "      <td>0.264128</td>\n",
       "      <td>0.439400</td>\n",
       "      <td>0.010487</td>\n",
       "      <td>0.0</td>\n",
       "      <td>0.000006</td>\n",
       "      <td>0.265656</td>\n",
       "      <td>0.439493</td>\n",
       "      <td>...</td>\n",
       "      <td>0.0</td>\n",
       "      <td>0.0</td>\n",
       "      <td>0.0</td>\n",
       "      <td>0.0</td>\n",
       "      <td>1.0</td>\n",
       "      <td>0.0</td>\n",
       "      <td>0.0</td>\n",
       "      <td>0.0</td>\n",
       "      <td>1.0</td>\n",
       "      <td>0.0</td>\n",
       "    </tr>\n",
       "    <tr>\n",
       "      <th>1</th>\n",
       "      <td>0.118068</td>\n",
       "      <td>0.0</td>\n",
       "      <td>0.084965</td>\n",
       "      <td>0.264428</td>\n",
       "      <td>0.443488</td>\n",
       "      <td>0.014304</td>\n",
       "      <td>0.0</td>\n",
       "      <td>0.000009</td>\n",
       "      <td>0.265956</td>\n",
       "      <td>0.444051</td>\n",
       "      <td>...</td>\n",
       "      <td>0.0</td>\n",
       "      <td>0.0</td>\n",
       "      <td>0.0</td>\n",
       "      <td>0.0</td>\n",
       "      <td>1.0</td>\n",
       "      <td>0.0</td>\n",
       "      <td>0.0</td>\n",
       "      <td>0.0</td>\n",
       "      <td>1.0</td>\n",
       "      <td>0.0</td>\n",
       "    </tr>\n",
       "    <tr>\n",
       "      <th>2</th>\n",
       "      <td>0.118068</td>\n",
       "      <td>0.0</td>\n",
       "      <td>0.084972</td>\n",
       "      <td>0.263625</td>\n",
       "      <td>0.448606</td>\n",
       "      <td>0.018030</td>\n",
       "      <td>0.0</td>\n",
       "      <td>0.000010</td>\n",
       "      <td>0.264915</td>\n",
       "      <td>0.448957</td>\n",
       "      <td>...</td>\n",
       "      <td>0.0</td>\n",
       "      <td>0.0</td>\n",
       "      <td>0.0</td>\n",
       "      <td>0.0</td>\n",
       "      <td>1.0</td>\n",
       "      <td>0.0</td>\n",
       "      <td>0.0</td>\n",
       "      <td>0.0</td>\n",
       "      <td>1.0</td>\n",
       "      <td>0.0</td>\n",
       "    </tr>\n",
       "    <tr>\n",
       "      <th>3</th>\n",
       "      <td>0.118068</td>\n",
       "      <td>0.0</td>\n",
       "      <td>0.084979</td>\n",
       "      <td>0.261608</td>\n",
       "      <td>0.458297</td>\n",
       "      <td>0.025182</td>\n",
       "      <td>0.0</td>\n",
       "      <td>0.000014</td>\n",
       "      <td>0.263352</td>\n",
       "      <td>0.456961</td>\n",
       "      <td>...</td>\n",
       "      <td>0.0</td>\n",
       "      <td>0.0</td>\n",
       "      <td>0.0</td>\n",
       "      <td>0.0</td>\n",
       "      <td>1.0</td>\n",
       "      <td>0.0</td>\n",
       "      <td>0.0</td>\n",
       "      <td>0.0</td>\n",
       "      <td>1.0</td>\n",
       "      <td>0.0</td>\n",
       "    </tr>\n",
       "    <tr>\n",
       "      <th>4</th>\n",
       "      <td>0.118068</td>\n",
       "      <td>0.0</td>\n",
       "      <td>0.084985</td>\n",
       "      <td>0.260228</td>\n",
       "      <td>0.463266</td>\n",
       "      <td>0.028953</td>\n",
       "      <td>0.0</td>\n",
       "      <td>0.000000</td>\n",
       "      <td>0.261792</td>\n",
       "      <td>0.463170</td>\n",
       "      <td>...</td>\n",
       "      <td>0.0</td>\n",
       "      <td>0.0</td>\n",
       "      <td>0.0</td>\n",
       "      <td>0.0</td>\n",
       "      <td>1.0</td>\n",
       "      <td>0.0</td>\n",
       "      <td>0.0</td>\n",
       "      <td>0.0</td>\n",
       "      <td>1.0</td>\n",
       "      <td>0.0</td>\n",
       "    </tr>\n",
       "  </tbody>\n",
       "</table>\n",
       "<p>5 rows × 420 columns</p>\n",
       "</div>"
      ],
      "text/plain": [
       "      route  tripNum  shapeSequence  shapeLat  shapeLon  \\\n",
       "0  0.118068      0.0       0.084945  0.264128  0.439400   \n",
       "1  0.118068      0.0       0.084965  0.264428  0.443488   \n",
       "2  0.118068      0.0       0.084972  0.263625  0.448606   \n",
       "3  0.118068      0.0       0.084979  0.261608  0.458297   \n",
       "4  0.118068      0.0       0.084985  0.260228  0.463266   \n",
       "\n",
       "   distanceTraveledShape  busCode  gpsPointId    gpsLat    gpsLon  ...  \\\n",
       "0               0.010487      0.0    0.000006  0.265656  0.439493  ...   \n",
       "1               0.014304      0.0    0.000009  0.265956  0.444051  ...   \n",
       "2               0.018030      0.0    0.000010  0.264915  0.448957  ...   \n",
       "3               0.025182      0.0    0.000014  0.263352  0.456961  ...   \n",
       "4               0.028953      0.0    0.000000  0.261792  0.463170  ...   \n",
       "\n",
       "   alertTypeSB_ACCIDENT  alertTypeSB_CHIT_CHAT  alertTypeSB_HAZARD  \\\n",
       "0                   0.0                    0.0                 0.0   \n",
       "1                   0.0                    0.0                 0.0   \n",
       "2                   0.0                    0.0                 0.0   \n",
       "3                   0.0                    0.0                 0.0   \n",
       "4                   0.0                    0.0                 0.0   \n",
       "\n",
       "   alertTypeSB_JAM  alertTypeSB_NORMAL  alertTypeSB_POLICE  \\\n",
       "0              0.0                 1.0                 0.0   \n",
       "1              0.0                 1.0                 0.0   \n",
       "2              0.0                 1.0                 0.0   \n",
       "3              0.0                 1.0                 0.0   \n",
       "4              0.0                 1.0                 0.0   \n",
       "\n",
       "   alertTypeSB_ROAD_CLOSED  jamBlockTypeSB_-  jamBlockTypeSB_NORMAL  \\\n",
       "0                      0.0               0.0                    1.0   \n",
       "1                      0.0               0.0                    1.0   \n",
       "2                      0.0               0.0                    1.0   \n",
       "3                      0.0               0.0                    1.0   \n",
       "4                      0.0               0.0                    1.0   \n",
       "\n",
       "   jamBlockTypeSB_ROAD_CLOSED_EVENT  \n",
       "0                               0.0  \n",
       "1                               0.0  \n",
       "2                               0.0  \n",
       "3                               0.0  \n",
       "4                               0.0  \n",
       "\n",
       "[5 rows x 420 columns]"
      ]
     },
     "execution_count": 2,
     "metadata": {},
     "output_type": "execute_result"
    }
   ],
   "source": [
    "data_path = '../../data/output/normalized_data_X_5p.csv'\n",
    "y_path = '../../data/output/y_5p.csv'\n",
    "\n",
    "data = pd.read_csv(data_path)\n",
    "y = pd.read_csv(y_path)\n",
    "print(data.shape)\n",
    "print(y.shape)\n",
    "data.head()"
   ]
  },
  {
   "cell_type": "code",
   "execution_count": 3,
   "metadata": {},
   "outputs": [],
   "source": [
    "# Making training and test data: 80% Training, 20% Test\n",
    "random.seed(15) #to get always the same set\n",
    "train_X, test_X, train_Y, test_Y = train_test_split(data, y, test_size=0.20, random_state=7)\n",
    "train_X_1, train_X_2, train_Y_1, train_Y_2 = train_test_split(train_X, train_Y, test_size=0.50, random_state=7) "
   ]
  },
  {
   "cell_type": "markdown",
   "metadata": {},
   "source": [
    "### Incremental CatBoost"
   ]
  },
  {
   "cell_type": "code",
   "execution_count": 6,
   "metadata": {},
   "outputs": [],
   "source": [
    "model_1 = CatBoostClassifier(\n",
    "    custom_loss=['Accuracy', 'Precision', 'Recall', 'F1'],\n",
    "    iterations=10000,\n",
    "    learning_rate=0.9,\n",
    "    random_seed=42,\n",
    "    depth=8,\n",
    "    l2_leaf_reg=5,\n",
    "    logging_level='Silent'\n",
    ")\n",
    "model_1.fit(train_X_1, train_Y_1)\n",
    "\n",
    "model_1.save_model('model_1.model')"
   ]
  },
  {
   "cell_type": "code",
   "execution_count": 9,
   "metadata": {},
   "outputs": [
    {
     "data": {
      "text/plain": [
       "<catboost.core.CatBoostClassifier at 0x7ff9542b4eb8>"
      ]
     },
     "execution_count": 9,
     "metadata": {},
     "output_type": "execute_result"
    }
   ],
   "source": [
    "model_2_v1 = CatBoostClassifier(\n",
    "    custom_loss=['Accuracy', 'Precision', 'Recall', 'F1'],\n",
    "    iterations=10000,\n",
    "    learning_rate=0.9,\n",
    "    random_seed=42,\n",
    "    depth=8,\n",
    "    l2_leaf_reg=5,\n",
    "    logging_level='Silent'\n",
    ")\n",
    "model_2_v1.fit(train_X_2, train_Y_2)\n"
   ]
  },
  {
   "cell_type": "code",
   "execution_count": 13,
   "metadata": {},
   "outputs": [
    {
     "data": {
      "text/plain": [
       "<catboost.core.CatBoostClassifier at 0x7ff956221b70>"
      ]
     },
     "execution_count": 13,
     "metadata": {},
     "output_type": "execute_result"
    }
   ],
   "source": [
    "model_2_v2 = CatBoostClassifier(\n",
    "    custom_loss=['Accuracy', 'Precision', 'Recall', 'F1'],\n",
    "    iterations=10000,\n",
    "    learning_rate=0.9,\n",
    "    random_seed=42,\n",
    "    depth=8,\n",
    "    l2_leaf_reg=5,\n",
    "    logging_level='Silent'\n",
    ")\n",
    "model_2_v2.fit(train_X_2, train_Y_2, init_model='model_1.model')"
   ]
  },
  {
   "cell_type": "code",
   "execution_count": 14,
   "metadata": {},
   "outputs": [],
   "source": [
    "pred_array_v1 = model_2_v1.predict(test_X)\n",
    "pred_array_v2 = model_2_v2.predict(test_X)"
   ]
  },
  {
   "cell_type": "code",
   "execution_count": 17,
   "metadata": {},
   "outputs": [],
   "source": [
    "# Bus Bunching\n",
    "accuracy = accuracy_score(test_Y, pred_array_v2)\n",
    "precision = precision_score(test_Y, pred_array_v2)\n",
    "recall = recall_score(test_Y, pred_array_v2)\n",
    "f_measure = f1_score(test_Y, pred_array_v2)"
   ]
  },
  {
   "cell_type": "code",
   "execution_count": 16,
   "metadata": {},
   "outputs": [
    {
     "name": "stdout",
     "output_type": "stream",
     "text": [
      "Accuracy: 0.9600057236889175\n",
      "Precision: 0.8571428571428571\n",
      "Recall: 0.7064017660044151\n",
      "F-measure: 0.7745058491327147\n"
     ]
    }
   ],
   "source": [
    "# v1: without incremental\n",
    "print(\"Accuracy: \" + str(accuracy))\n",
    "print(\"Precision: \" + str(precision))\n",
    "print(\"Recall: \" + str(recall))\n",
    "print(\"F-measure: \" + str(f_measure))"
   ]
  },
  {
   "cell_type": "code",
   "execution_count": 18,
   "metadata": {},
   "outputs": [
    {
     "name": "stdout",
     "output_type": "stream",
     "text": [
      "Accuracy: 0.9594333547971667\n",
      "Precision: 0.8322147651006712\n",
      "Recall: 0.7299484915378955\n",
      "F-measure: 0.777734221873775\n"
     ]
    }
   ],
   "source": [
    "# v2: incremental learning\n",
    "print(\"Accuracy: \" + str(accuracy))\n",
    "print(\"Precision: \" + str(precision))\n",
    "print(\"Recall: \" + str(recall))\n",
    "print(\"F-measure: \" + str(f_measure)) #0.79"
   ]
  },
  {
   "cell_type": "markdown",
   "metadata": {},
   "source": [
    "### Incremental XGBoost"
   ]
  },
  {
   "cell_type": "code",
   "execution_count": 4,
   "metadata": {},
   "outputs": [
    {
     "name": "stderr",
     "output_type": "stream",
     "text": [
      "/home/veruska/.local/lib/python3.6/site-packages/sklearn/preprocessing/_label.py:235: DataConversionWarning: A column-vector y was passed when a 1d array was expected. Please change the shape of y to (n_samples, ), for example using ravel().\n",
      "  y = column_or_1d(y, warn=True)\n",
      "/home/veruska/.local/lib/python3.6/site-packages/sklearn/preprocessing/_label.py:268: DataConversionWarning: A column-vector y was passed when a 1d array was expected. Please change the shape of y to (n_samples, ), for example using ravel().\n",
      "  y = column_or_1d(y, warn=True)\n"
     ]
    }
   ],
   "source": [
    "xgb_1 = XGBClassifier(\n",
    "     learning_rate =0.1,\n",
    "     n_estimators=120, \n",
    "     max_depth=50,\n",
    "     min_child_weight=1,\n",
    "     gamma=0,\n",
    "     subsample=0.8,\n",
    "     colsample_bytree=0.8,\n",
    "     objective= 'binary:logistic',\n",
    "     nthread=-1,\n",
    "     scale_pos_weight=1,\n",
    "     seed=23)\n",
    "xgb_1.fit(train_X_1, train_Y_1)\n",
    "\n",
    "xgb_1.save_model('xgb_1.model')"
   ]
  },
  {
   "cell_type": "code",
   "execution_count": 5,
   "metadata": {},
   "outputs": [
    {
     "data": {
      "text/plain": [
       "XGBClassifier(base_score=0.5, booster='gbtree', colsample_bylevel=1,\n",
       "              colsample_bynode=1, colsample_bytree=0.8, gamma=0,\n",
       "              learning_rate=0.1, max_delta_step=0, max_depth=50,\n",
       "              min_child_weight=1, missing=None, n_estimators=120, n_jobs=1,\n",
       "              nthread=-1, objective='binary:logistic', random_state=0,\n",
       "              reg_alpha=0, reg_lambda=1, scale_pos_weight=1, seed=23,\n",
       "              silent=None, subsample=0.8, verbosity=1)"
      ]
     },
     "execution_count": 5,
     "metadata": {},
     "output_type": "execute_result"
    }
   ],
   "source": [
    "xgb_2_v1 = XGBClassifier(\n",
    "     learning_rate =0.1,\n",
    "     n_estimators=120, \n",
    "     max_depth=50,\n",
    "     min_child_weight=1,\n",
    "     gamma=0,\n",
    "     subsample=0.8,\n",
    "     colsample_bytree=0.8,\n",
    "     objective= 'binary:logistic',\n",
    "     nthread=-1,\n",
    "     scale_pos_weight=1,\n",
    "     seed=23)\n",
    "xgb_2_v1.fit(train_X_2, train_Y_2)"
   ]
  },
  {
   "cell_type": "code",
   "execution_count": 6,
   "metadata": {},
   "outputs": [
    {
     "data": {
      "text/plain": [
       "XGBClassifier(base_score=0.5, booster='gbtree', colsample_bylevel=1,\n",
       "              colsample_bynode=1, colsample_bytree=0.8, gamma=0,\n",
       "              learning_rate=0.1, max_delta_step=0, max_depth=50,\n",
       "              min_child_weight=1, missing=None, n_estimators=120, n_jobs=1,\n",
       "              nthread=-1, objective='binary:logistic', random_state=0,\n",
       "              reg_alpha=0, reg_lambda=1, scale_pos_weight=1, seed=23,\n",
       "              silent=None, subsample=0.8, verbosity=1)"
      ]
     },
     "execution_count": 6,
     "metadata": {},
     "output_type": "execute_result"
    }
   ],
   "source": [
    "xgb_2_v2 = XGBClassifier(\n",
    "     learning_rate =0.1,\n",
    "     n_estimators=120, \n",
    "     max_depth=50,\n",
    "     min_child_weight=1,\n",
    "     gamma=0,\n",
    "     subsample=0.8,\n",
    "     colsample_bytree=0.8,\n",
    "     objective= 'binary:logistic',\n",
    "     nthread=-1,\n",
    "     scale_pos_weight=1,\n",
    "     seed=23)\n",
    "xgb_2_v2.fit(train_X_2, train_Y_2, xgb_model='xgb_1.model')"
   ]
  },
  {
   "cell_type": "code",
   "execution_count": 7,
   "metadata": {},
   "outputs": [],
   "source": [
    "pred_array_v1 = xgb_2_v1.predict(test_X)\n",
    "pred_array_v2 = xgb_2_v2.predict(test_X)"
   ]
  },
  {
   "cell_type": "code",
   "execution_count": 11,
   "metadata": {},
   "outputs": [],
   "source": [
    "# Bus Bunching\n",
    "accuracy = accuracy_score(test_Y, pred_array_v1)\n",
    "precision = precision_score(test_Y, pred_array_v1)\n",
    "recall = recall_score(test_Y, pred_array_v1)\n",
    "f_measure = f1_score(test_Y, pred_array_v1)"
   ]
  },
  {
   "cell_type": "code",
   "execution_count": 12,
   "metadata": {},
   "outputs": [
    {
     "name": "stdout",
     "output_type": "stream",
     "text": [
      "Accuracy: 0.9568576947842885\n",
      "Precision: 0.9064516129032258\n",
      "Recall: 0.6203090507726269\n",
      "F-measure: 0.7365661861074704\n"
     ]
    }
   ],
   "source": [
    "# v1: without incremental\n",
    "print(\"Accuracy: \" + str(accuracy))\n",
    "print(\"Precision: \" + str(precision))\n",
    "print(\"Recall: \" + str(recall))\n",
    "print(\"F-measure: \" + str(f_measure))"
   ]
  },
  {
   "cell_type": "code",
   "execution_count": 10,
   "metadata": {},
   "outputs": [
    {
     "name": "stdout",
     "output_type": "stream",
     "text": [
      "Accuracy: 0.9595764470201045\n",
      "Precision: 0.8832046332046332\n",
      "Recall: 0.673289183222958\n",
      "F-measure: 0.7640918580375783\n"
     ]
    }
   ],
   "source": [
    "# v2: incremental learning\n",
    "print(\"Accuracy: \" + str(accuracy))\n",
    "print(\"Precision: \" + str(precision))\n",
    "print(\"Recall: \" + str(recall))\n",
    "print(\"F-measure: \" + str(f_measure)) #0.79"
   ]
  },
  {
   "cell_type": "markdown",
   "metadata": {},
   "source": [
    "### Random Forest"
   ]
  },
  {
   "cell_type": "code",
   "execution_count": 8,
   "metadata": {},
   "outputs": [
    {
     "name": "stderr",
     "output_type": "stream",
     "text": [
      "/home/veruska/.local/lib/python3.6/site-packages/ipykernel_launcher.py:4: DataConversionWarning: A column-vector y was passed when a 1d array was expected. Please change the shape of y to (n_samples,), for example using ravel().\n",
      "  after removing the cwd from sys.path.\n"
     ]
    },
    {
     "data": {
      "text/plain": [
       "RandomForestClassifier(bootstrap=True, ccp_alpha=0.0, class_weight=None,\n",
       "                       criterion='gini', max_depth=None, max_features=0.8,\n",
       "                       max_leaf_nodes=None, max_samples=None,\n",
       "                       min_impurity_decrease=0.0, min_impurity_split=None,\n",
       "                       min_samples_leaf=1, min_samples_split=5,\n",
       "                       min_weight_fraction_leaf=0.0, n_estimators=100,\n",
       "                       n_jobs=-1, oob_score=False, random_state=None, verbose=0,\n",
       "                       warm_start=True)"
      ]
     },
     "execution_count": 8,
     "metadata": {},
     "output_type": "execute_result"
    }
   ],
   "source": [
    "random.seed(42)\n",
    "rf_1 = RandomForestClassifier(n_estimators=100, min_samples_split=5,\n",
    "                           max_features=0.8, n_jobs=-1, warm_start=True)\n",
    "rf_1.fit(train_X_1, train_Y_1)"
   ]
  },
  {
   "cell_type": "code",
   "execution_count": null,
   "metadata": {},
   "outputs": [],
   "source": [
    "random.seed(42)\n",
    "rf_2_v1 = RandomForestClassifier(n_estimators=100, min_samples_split=5,\n",
    "                           max_features=0.8, n_jobs=-1)\n",
    "rf_2_v1.fit(train_X_2, train_Y_2)"
   ]
  },
  {
   "cell_type": "code",
   "execution_count": 15,
   "metadata": {},
   "outputs": [
    {
     "name": "stderr",
     "output_type": "stream",
     "text": [
      "/home/veruska/.local/lib/python3.6/site-packages/ipykernel_launcher.py:2: DataConversionWarning: A column-vector y was passed when a 1d array was expected. Please change the shape of y to (n_samples,), for example using ravel().\n",
      "  \n",
      "/home/veruska/.local/lib/python3.6/site-packages/sklearn/ensemble/_forest.py:359: UserWarning: Warm-start fitting without increasing n_estimators does not fit new trees.\n",
      "  warn(\"Warm-start fitting without increasing n_estimators does not \"\n"
     ]
    },
    {
     "data": {
      "text/plain": [
       "RandomForestClassifier(bootstrap=True, ccp_alpha=0.0, class_weight=None,\n",
       "                       criterion='gini', max_depth=None, max_features=0.8,\n",
       "                       max_leaf_nodes=None, max_samples=None,\n",
       "                       min_impurity_decrease=0.0, min_impurity_split=None,\n",
       "                       min_samples_leaf=1, min_samples_split=5,\n",
       "                       min_weight_fraction_leaf=0.0, n_estimators=100,\n",
       "                       n_jobs=-1, oob_score=False, random_state=None, verbose=0,\n",
       "                       warm_start=True)"
      ]
     },
     "execution_count": 15,
     "metadata": {},
     "output_type": "execute_result"
    }
   ],
   "source": [
    "random.seed(42)\n",
    "rf_1.fit(train_X_2, train_Y_2)"
   ]
  },
  {
   "cell_type": "code",
   "execution_count": 17,
   "metadata": {},
   "outputs": [],
   "source": [
    "pred_array_v1 = rf_2_v1.predict(test_X)\n",
    "pred_array_v2 = rf_1.predict(test_X)"
   ]
  },
  {
   "cell_type": "code",
   "execution_count": 18,
   "metadata": {},
   "outputs": [],
   "source": [
    "# Bus Bunching\n",
    "accuracy = accuracy_score(test_Y, pred_array_v2)\n",
    "precision = precision_score(test_Y, pred_array_v2)\n",
    "recall = recall_score(test_Y, pred_array_v2)\n",
    "f_measure = f1_score(test_Y, pred_array_v2)"
   ]
  },
  {
   "cell_type": "code",
   "execution_count": 14,
   "metadata": {},
   "outputs": [
    {
     "name": "stdout",
     "output_type": "stream",
     "text": [
      "Accuracy: 0.9580024325677899\n",
      "Precision: 0.9054621848739496\n",
      "Recall: 0.6342899190581309\n",
      "F-measure: 0.7459974037213328\n"
     ]
    }
   ],
   "source": [
    "# v1: without incremental\n",
    "print(\"Accuracy: \" + str(accuracy))\n",
    "print(\"Precision: \" + str(precision))\n",
    "print(\"Recall: \" + str(recall))\n",
    "print(\"F-measure: \" + str(f_measure))"
   ]
  },
  {
   "cell_type": "code",
   "execution_count": 19,
   "metadata": {},
   "outputs": [
    {
     "name": "stdout",
     "output_type": "stream",
     "text": [
      "Accuracy: 0.9571438792301639\n",
      "Precision: 0.9103671706263499\n",
      "Recall: 0.6203090507726269\n",
      "F-measure: 0.737855579868709\n"
     ]
    }
   ],
   "source": [
    "# v2: incremental learning\n",
    "print(\"Accuracy: \" + str(accuracy))\n",
    "print(\"Precision: \" + str(precision))\n",
    "print(\"Recall: \" + str(recall))\n",
    "print(\"F-measure: \" + str(f_measure))"
   ]
  },
  {
   "cell_type": "code",
   "execution_count": null,
   "metadata": {},
   "outputs": [],
   "source": []
  }
 ],
 "metadata": {
  "kernelspec": {
   "display_name": "Python 3",
   "language": "python",
   "name": "python3"
  },
  "language_info": {
   "codemirror_mode": {
    "name": "ipython",
    "version": 3
   },
   "file_extension": ".py",
   "mimetype": "text/x-python",
   "name": "python",
   "nbconvert_exporter": "python",
   "pygments_lexer": "ipython3",
   "version": "3.6.8"
  }
 },
 "nbformat": 4,
 "nbformat_minor": 2
}
