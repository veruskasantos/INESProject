{
 "cells": [
  {
   "cell_type": "code",
   "execution_count": 1,
   "metadata": {},
   "outputs": [
    {
     "name": "stderr",
     "output_type": "stream",
     "text": [
      "Using TensorFlow backend.\n"
     ]
    }
   ],
   "source": [
    "import numpy as np\n",
    "import pandas as pd\n",
    "import keras\n",
    "from keras.models import Sequential\n",
    "from keras.layers import Dense, Dropout, Conv2D, Conv3D, ConvLSTM2D, BatchNormalization, Flatten, MaxPooling2D\n",
    "import pickle\n",
    "from keras.optimizers import Adam\n",
    "import os\n",
    "import random\n",
    "from sklearn.model_selection import train_test_split\n",
    "from sklearn.metrics import confusion_matrix\n",
    "import time\n",
    "import tensorflow as tf\n",
    "import matplotlib.pyplot as plt\n",
    "from collections import Counter\n",
    "from sklearn.datasets import make_classification\n",
    "from imblearn.under_sampling import ClusterCentroids"
   ]
  },
  {
   "cell_type": "code",
   "execution_count": 2,
   "metadata": {},
   "outputs": [
    {
     "name": "stdout",
     "output_type": "stream",
     "text": [
      "<tensorflow.python.client.session.Session object at 0x7f7cb9dcd198>\n"
     ]
    }
   ],
   "source": [
    "start_time = time.clock()\n",
    "np.random.seed(7)\n",
    "random.seed(7)\n",
    "\n",
    "tf.Session(config=tf.ConfigProto(allow_soft_placement=True, log_device_placement=True))\n",
    "sess = print(tf.Session(config=tf.ConfigProto(log_device_placement=True)))"
   ]
  },
  {
   "cell_type": "code",
   "execution_count": 3,
   "metadata": {},
   "outputs": [],
   "source": [
    "file_path = '../../data/output/integrated_data_done.csv'\n",
    "\n",
    "input_data = pd.read_csv(file_path)"
   ]
  },
  {
   "cell_type": "code",
   "execution_count": 4,
   "metadata": {},
   "outputs": [
    {
     "data": {
      "text/plain": [
       "(25000, 381)"
      ]
     },
     "execution_count": 4,
     "metadata": {},
     "output_type": "execute_result"
    }
   ],
   "source": [
    "data = input_data[:25000]\n",
    "data.shape"
   ]
  },
  {
   "cell_type": "code",
   "execution_count": 5,
   "metadata": {},
   "outputs": [],
   "source": [
    "del input_data"
   ]
  },
  {
   "cell_type": "code",
   "execution_count": null,
   "metadata": {},
   "outputs": [],
   "source": [
    "data.isnull().any()"
   ]
  },
  {
   "cell_type": "code",
   "execution_count": 6,
   "metadata": {},
   "outputs": [],
   "source": [
    "# Class count\n",
    "count_class_0, count_class_1 = data.busBunching.value_counts()\n",
    "\n",
    "# Divide by class\n",
    "df_class_0 = data[data['busBunching'] == 0]\n",
    "df_class_1 = data[data['busBunching'] == 1]"
   ]
  },
  {
   "cell_type": "code",
   "execution_count": 44,
   "metadata": {},
   "outputs": [
    {
     "name": "stdout",
     "output_type": "stream",
     "text": [
      "Random under-sampling:\n",
      "1    1888\n",
      "0    1888\n",
      "Name: busBunching, dtype: int64\n"
     ]
    }
   ],
   "source": [
    "df_class_0_under = df_class_0.sample(count_class_1)\n",
    "df_data_under = pd.concat([df_class_0_under, df_class_1], axis=0)\n",
    "\n",
    "print('Random under-sampling:')\n",
    "print(df_data_under.busBunching.value_counts())"
   ]
  },
  {
   "cell_type": "code",
   "execution_count": 42,
   "metadata": {},
   "outputs": [
    {
     "data": {
      "text/plain": [
       "(3776, 379)"
      ]
     },
     "execution_count": 42,
     "metadata": {},
     "output_type": "execute_result"
    }
   ],
   "source": [
    "df_data_under.shape"
   ]
  },
  {
   "cell_type": "code",
   "execution_count": 49,
   "metadata": {},
   "outputs": [],
   "source": [
    "# get label column and remove it from data\n",
    "y = data['headway']\n",
    "df_data_under.drop('headway', axis=1, inplace=True)\n",
    "df_data_under.drop('busBunching', axis=1, inplace=True)"
   ]
  },
  {
   "cell_type": "code",
   "execution_count": 50,
   "metadata": {},
   "outputs": [],
   "source": [
    "rows = 5 # TODO min quantity of gps points per route (should be the same) \n",
    "cols = df_data_under.shape[1] # quantity of attributes\n",
    "n_samples = df_data_under.shape[0] # all examples\n",
    "n_frames = 3 # TODO total of routes\n",
    "n_channels = 1"
   ]
  },
  {
   "cell_type": "code",
   "execution_count": 52,
   "metadata": {},
   "outputs": [],
   "source": [
    "# convert input data format to multidimensional matrices\n",
    "\n",
    "total_input = np.zeros((n_samples, n_frames, rows, cols, n_channels), dtype=np.float)\n",
    "label = np.zeros((n_samples, 1), dtype=int)\n",
    "\n",
    "for line in range(n_samples):\n",
    "    for col in range(cols):\n",
    "#         total_input[line, 0, 0:line, col, 0] = X_resampled.iloc[:,col][line]\n",
    "        total_input[line, 0, 0:line, col, 0] = df_data_under.iloc[line,col]#X_resampled[line][col]\n",
    "        \n",
    "#     label[line, 0] = y_resampled.iloc[line]\n",
    "    label[line, 0] = y.iloc[line] #y_resampled[line]\n",
    "\n",
    "# total_input = total_input[:n_samples, :, :, :]\n",
    "# label = label[:n_samples, 0]"
   ]
  },
  {
   "cell_type": "code",
   "execution_count": 107,
   "metadata": {},
   "outputs": [
    {
     "data": {
      "text/plain": [
       "(3775, 3, 5, 378, 1)"
      ]
     },
     "execution_count": 107,
     "metadata": {},
     "output_type": "execute_result"
    }
   ],
   "source": [
    "total_input.shape"
   ]
  },
  {
   "cell_type": "code",
   "execution_count": 108,
   "metadata": {},
   "outputs": [
    {
     "data": {
      "text/plain": [
       "(3775, 1)"
      ]
     },
     "execution_count": 108,
     "metadata": {},
     "output_type": "execute_result"
    }
   ],
   "source": [
    "label.shape"
   ]
  },
  {
   "cell_type": "code",
   "execution_count": 58,
   "metadata": {},
   "outputs": [],
   "source": [
    "# no_class = len(list(set(np.ndarray.flatten(label))))\n",
    "no_class = 587\n",
    "threshold = len(total_input[0, 0, :, 0, 0])\n",
    "\n",
    "# Making training and test data: 80% Training, 20% Test\n",
    "train_X, test_X, train_Y, test_Y = train_test_split(total_input, label, test_size=0.20, random_state=7)\n",
    "\n",
    "# Converts a class vector (integers) to binary class matrix\n",
    "train_Y = keras.utils.to_categorical(train_Y, num_classes=no_class)\n",
    "test_Y = keras.utils.to_categorical(test_Y, num_classes=no_class)"
   ]
  },
  {
   "cell_type": "code",
   "execution_count": 59,
   "metadata": {},
   "outputs": [],
   "source": [
    "model = Sequential()\n",
    "# if data_format='channels_last' 4D tensor with shape: (samples, rows, cols, channels)\n",
    "model.add(ConvLSTM2D(filters=16, kernel_size=(3, 3),\n",
    "                   input_shape=(n_frames, rows, cols, n_channels),\n",
    "                   padding='same', return_sequences=True))\n",
    "model.add(BatchNormalization())\n",
    "\n",
    "model.add(ConvLSTM2D(filters=16, kernel_size=(3, 3),\n",
    "                   padding='same', return_sequences=True))\n",
    "model.add(BatchNormalization())\n",
    "\n",
    "model.add(ConvLSTM2D(filters=16, kernel_size=(3, 3),\n",
    "                   padding='same', return_sequences=True))\n",
    "model.add(BatchNormalization())\n",
    "\n",
    "# model.add(ConvLSTM2D(filters=16, kernel_size=(3, 3),\n",
    "#                    padding='same', return_sequences=True))\n",
    "# model.add(BatchNormalization())\n",
    "\n",
    "# model.add(ConvLSTM2D(filters=16, kernel_size=(3, 3),\n",
    "#                    padding='same', return_sequences=True))\n",
    "# model.add(BatchNormalization())\n",
    "\n",
    "# model.add(ConvLSTM2D(filters=16, kernel_size=(3, 3),\n",
    "#                    padding='same', return_sequences=True))\n",
    "# model.add(BatchNormalization())\n",
    "\n",
    "# model.add(ConvLSTM2D(filters=16, kernel_size=(3, 3),\n",
    "#                    padding='same', return_sequences=True))\n",
    "# model.add(BatchNormalization())\n",
    "\n",
    "# model.add(ConvLSTM2D(filters=16, kernel_size=(3, 3),\n",
    "#                    padding='same', return_sequences=True))\n",
    "# model.add(BatchNormalization())\n",
    "\n",
    "# model.add(ConvLSTM2D(filters=16, kernel_size=(3, 3),\n",
    "#                    padding='same', return_sequences=True))\n",
    "# model.add(BatchNormalization())\n",
    "\n",
    "# model.add(ConvLSTM2D(filters=16, kernel_size=(3, 3),\n",
    "#                    padding='same', return_sequences=True))\n",
    "# model.add(BatchNormalization())\n",
    "\n",
    "# model.add(ConvLSTM2D(filters=16, kernel_size=(3, 3),\n",
    "#                    padding='same', return_sequences=True))\n",
    "# model.add(BatchNormalization())\n",
    "\n",
    "# model.add(ConvLSTM2D(filters=16, kernel_size=(3, 3),\n",
    "#                    padding='same', return_sequences=True))\n",
    "# model.add(BatchNormalization())\n",
    "\n",
    "# model.add(ConvLSTM2D(filters=16, kernel_size=(3, 3),\n",
    "#                    padding='same', return_sequences=True))\n",
    "# model.add(BatchNormalization())\n",
    "\n",
    "# model.add(ConvLSTM2D(filters=16, kernel_size=(3, 3),\n",
    "#                    padding='same', return_sequences=True))\n",
    "# model.add(BatchNormalization())\n",
    "\n",
    "# model.add(ConvLSTM2D(filters=16, kernel_size=(3, 3),\n",
    "#                    padding='same', return_sequences=True))\n",
    "# model.add(BatchNormalization())\n",
    "\n",
    "# model.add(ConvLSTM2D(filters=16, kernel_size=(3, 3),\n",
    "#                    padding='same', return_sequences=True))\n",
    "# model.add(BatchNormalization())\n",
    "\n",
    "# model.add(ConvLSTM2D(filters=16, kernel_size=(3, 3),\n",
    "#                    padding='same', return_sequences=True))\n",
    "# model.add(BatchNormalization())\n",
    "\n",
    "# model.add(ConvLSTM2D(filters=16, kernel_size=(3, 3),\n",
    "#                    padding='same', return_sequences=True))\n",
    "# model.add(BatchNormalization())\n",
    "\n",
    "# model.add(ConvLSTM2D(filters=16, kernel_size=(3, 3),\n",
    "#                    padding='same', return_sequences=True))\n",
    "# model.add(BatchNormalization())\n",
    "\n",
    "# model.add(ConvLSTM2D(filters=16, kernel_size=(3, 3),\n",
    "#                    padding='same', return_sequences=True))\n",
    "# model.add(BatchNormalization())\n",
    "\n",
    "\n",
    "model.add(Conv3D(filters=16, kernel_size=(3, 3, 3),\n",
    "               activation='relu',\n",
    "               padding='same', data_format='channels_last'))\n",
    "\n",
    "model.add(Flatten())\n",
    "# model.add(Dense(model.output_shape[1], activation='relu'))\n",
    "# model.add(Dropout(.5))\n",
    "\n",
    "model.add(Dense(no_class, activation='relu'))\n",
    "\n",
    "optimizer = Adam(lr=0.001, beta_1=0.9, beta_2=0.999, epsilon=1e-08, decay=0.0)\n",
    "model.compile(loss='binary_crossentropy', optimizer=optimizer)"
   ]
  },
  {
   "cell_type": "code",
   "execution_count": 60,
   "metadata": {},
   "outputs": [
    {
     "name": "stdout",
     "output_type": "stream",
     "text": [
      "Train on 3020 samples, validate on 756 samples\n",
      "Epoch 1/4\n",
      "3020/3020 [==============================] - 226s 75ms/step - loss: 0.0455 - val_loss: 0.0275\n",
      "Epoch 2/4\n",
      "3020/3020 [==============================] - 223s 74ms/step - loss: 0.0275 - val_loss: 0.0275\n",
      "Epoch 3/4\n",
      "3020/3020 [==============================] - 223s 74ms/step - loss: 0.0275 - val_loss: 0.0275\n",
      "Epoch 4/4\n",
      "3020/3020 [==============================] - 224s 74ms/step - loss: 0.0275 - val_loss: 0.0275\n"
     ]
    }
   ],
   "source": [
    "# train the network\n",
    "offline_history = model.fit(train_X, train_Y, batch_size=16, epochs=4, validation_data=(test_X, test_Y))"
   ]
  },
  {
   "cell_type": "code",
   "execution_count": 12,
   "metadata": {},
   "outputs": [
    {
     "data": {
      "text/plain": [
       "{'val_loss': [0.5931189047645764,\n",
       "  0.5931189047645764,\n",
       "  0.5931189047645764,\n",
       "  0.5931189047645764],\n",
       " 'loss': [0.5050771403058026,\n",
       "  0.5049525977965904,\n",
       "  0.5049525975773813,\n",
       "  0.5049525973581713]}"
      ]
     },
     "execution_count": 12,
     "metadata": {},
     "output_type": "execute_result"
    }
   ],
   "source": [
    "offline_history.history"
   ]
  },
  {
   "cell_type": "code",
   "execution_count": 61,
   "metadata": {},
   "outputs": [
    {
     "data": {
      "image/png": "[encoded data removed]",
      "text/plain": [
       "<Figure size 432x288 with 1 Axes>"
      ]
     },
     "metadata": {
      "needs_background": "light"
     },
     "output_type": "display_data"
    }
   ],
   "source": [
    "# Plot training & validation accuracy values\n",
    "# plt.plot(offline_history.history['acc'])\n",
    "# plt.plot(offline_history.history['val_acc'])\n",
    "# plt.title('Model accuracy')\n",
    "# plt.ylabel('Accuracy')\n",
    "# plt.xlabel('Epoch')\n",
    "# plt.legend(['Train', 'Test'], loc='upper left')\n",
    "# plt.show()\n",
    "\n",
    "# Plot training & validation loss values\n",
    "plt.plot(offline_history.history['loss'])\n",
    "plt.plot(offline_history.history['val_loss'])\n",
    "plt.title('Model loss')\n",
    "plt.ylabel('Loss')\n",
    "plt.xlabel('Epoch')\n",
    "plt.legend(['Train', 'Test'], loc='upper left')\n",
    "plt.show()"
   ]
  },
  {
   "cell_type": "code",
   "execution_count": 62,
   "metadata": {},
   "outputs": [
    {
     "name": "stdout",
     "output_type": "stream",
     "text": [
      "the optimal epoch size: 0, the value of high loss 0.027458675728036612\n"
     ]
    }
   ],
   "source": [
    "A = np.argmax(offline_history.history['val_loss'])\n",
    "print('the optimal epoch size: {}, the value of high loss {}'.format(offline_history.epoch[A], \n",
    "                                                                     np.max(offline_history.history['val_loss'])))\n",
    "\n",
    "# Calculating the test accuracy, precision, recall\n",
    "pred = model.predict(test_X, batch_size=16)\n",
    "pred_label = np.argmax(pred, axis=1)"
   ]
  },
  {
   "cell_type": "code",
   "execution_count": 63,
   "metadata": {},
   "outputs": [
    {
     "data": {
      "text/plain": [
       "False"
      ]
     },
     "execution_count": 63,
     "metadata": {},
     "output_type": "execute_result"
    }
   ],
   "source": [
    "1 in pred_label # the model isn't predicting bus bunching"
   ]
  },
  {
   "cell_type": "code",
   "execution_count": 64,
   "metadata": {},
   "outputs": [],
   "source": [
    "ActualPositive = []\n",
    "for i in range(no_class):\n",
    "    AA = np.where(test_Y == i)[0]\n",
    "    ActualPositive.append(AA)\n",
    "\n",
    "PredictedPositive = []\n",
    "for i in range(no_class):\n",
    "    AA = np.where(pred_label == i)[0]\n",
    "    PredictedPositive.append(AA)\n",
    "\n",
    "TruePositive = []\n",
    "FalsePositive = []\n",
    "for i in range(no_class):\n",
    "    AA = []\n",
    "    BB = []\n",
    "    for j in PredictedPositive[i]:\n",
    "        if pred_label[j] == test_Y[j,1]:\n",
    "            AA.append(j)\n",
    "        else:\n",
    "            BB.append(j)\n",
    "    TruePositive.append(AA)\n",
    "    FalsePositive.append(BB)\n",
    "Precision = []\n",
    "Recall = []\n",
    "\n",
    "\n",
    "precision = ( len(TruePositive[0]) + len(TruePositive[1]) ) / ( len(PredictedPositive[0]) + len(PredictedPositive[1]) )\n",
    "recall = ( len(TruePositive[0]) + len(TruePositive[1]) ) / ( len(ActualPositive[0]) + len(ActualPositive[1]) )\n",
    "\n",
    "ConfusionM = confusion_matrix(list(test_Y[:,1]), pred_label, labels=[0, 1, 2, 3, 4])"
   ]
  },
  {
   "cell_type": "code",
   "execution_count": 65,
   "metadata": {},
   "outputs": [
    {
     "name": "stdout",
     "output_type": "stream",
     "text": [
      "Confusion Matrix:  [[753   0   0   0   0]\n",
      " [  2   0   0   0   0]\n",
      " [  0   0   0   0   0]\n",
      " [  0   0   0   0   0]\n",
      " [  0   0   0   0   0]]\n",
      "Recall 0.0016968172845515264\n",
      "Precision 0.9973509933774835\n",
      "6801.5019090000005 seconds\n"
     ]
    }
   ],
   "source": [
    "print('Confusion Matrix: ', ConfusionM)\n",
    "print('Recall', recall)\n",
    "print('Precision', precision)\n",
    "print(time.clock() - start_time, \"seconds\")"
   ]
  },
  {
   "cell_type": "code",
   "execution_count": null,
   "metadata": {},
   "outputs": [],
   "source": []
  }
 ],
 "metadata": {
  "kernelspec": {
   "display_name": "Python 3",
   "language": "python",
   "name": "python3"
  },
  "language_info": {
   "codemirror_mode": {
    "name": "ipython",
    "version": 3
   },
   "file_extension": ".py",
   "mimetype": "text/x-python",
   "name": "python",
   "nbconvert_exporter": "python",
   "pygments_lexer": "ipython3",
   "version": "3.6.8"
  }
 },
 "nbformat": 4,
 "nbformat_minor": 2
}
