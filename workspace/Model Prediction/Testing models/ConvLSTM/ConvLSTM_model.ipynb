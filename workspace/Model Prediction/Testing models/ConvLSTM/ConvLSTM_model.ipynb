{
 "cells": [
  {
   "cell_type": "code",
   "execution_count": 1,
   "metadata": {},
   "outputs": [
    {
     "name": "stderr",
     "output_type": "stream",
     "text": [
      "Using TensorFlow backend.\n"
     ]
    }
   ],
   "source": [
    "import numpy as np\n",
    "import pandas as pd\n",
    "import keras\n",
    "from keras.models import Sequential\n",
    "from keras.layers import Dense, Dropout, Conv2D, Conv3D, ConvLSTM2D, BatchNormalization, Flatten, MaxPooling2D\n",
    "import pickle\n",
    "from keras.optimizers import Adam\n",
    "import os\n",
    "import random\n",
    "from sklearn.model_selection import train_test_split\n",
    "from sklearn.metrics import confusion_matrix\n",
    "import time\n",
    "import tensorflow as tf\n",
    "import matplotlib.pyplot as plt\n",
    "from collections import Counter\n",
    "from sklearn.datasets import make_classification\n",
    "from imblearn.under_sampling import ClusterCentroids"
   ]
  },
  {
   "cell_type": "code",
   "execution_count": 2,
   "metadata": {},
   "outputs": [
    {
     "name": "stdout",
     "output_type": "stream",
     "text": [
      "<tensorflow.python.client.session.Session object at 0x7fc0353df198>\n"
     ]
    }
   ],
   "source": [
    "start_time = time.clock()\n",
    "np.random.seed(7)\n",
    "random.seed(7)\n",
    "\n",
    "tf.Session(config=tf.ConfigProto(allow_soft_placement=True, log_device_placement=True))\n",
    "sess = print(tf.Session(config=tf.ConfigProto(log_device_placement=True)))"
   ]
  },
  {
   "cell_type": "code",
   "execution_count": 3,
   "metadata": {},
   "outputs": [],
   "source": [
    "file_path = '../../data/input/integrated_data_dummy.csv'\n",
    "\n",
    "input_data = pd.read_csv(file_path)"
   ]
  },
  {
   "cell_type": "code",
   "execution_count": 4,
   "metadata": {},
   "outputs": [
    {
     "data": {
      "text/plain": [
       "(1657774, 456)"
      ]
     },
     "execution_count": 4,
     "metadata": {},
     "output_type": "execute_result"
    }
   ],
   "source": [
    "input_data.shape"
   ]
  },
  {
   "cell_type": "code",
   "execution_count": 5,
   "metadata": {},
   "outputs": [
    {
     "data": {
      "text/plain": [
       "(50000, 456)"
      ]
     },
     "execution_count": 5,
     "metadata": {},
     "output_type": "execute_result"
    }
   ],
   "source": [
    "data = input_data[:50000]\n",
    "data.shape"
   ]
  },
  {
   "cell_type": "code",
   "execution_count": 6,
   "metadata": {},
   "outputs": [],
   "source": [
    "del input_data"
   ]
  },
  {
   "cell_type": "code",
   "execution_count": 7,
   "metadata": {},
   "outputs": [
    {
     "data": {
      "text/plain": [
       "route                                                False\n",
       "tripNum                                              False\n",
       "shapeSequence                                        False\n",
       "shapeLat                                             False\n",
       "shapeLon                                             False\n",
       "distanceTraveledShape                                False\n",
       "busCode                                              False\n",
       "gpsPointId                                           False\n",
       "gpsLat                                               False\n",
       "gpsLon                                               False\n",
       "distanceToShapePoint                                 False\n",
       "stopPointId                                          False\n",
       "precipitation                                        False\n",
       "alertRoadType                                        False\n",
       "alertConfidence                                      False\n",
       "alertNComments                                       False\n",
       "alertNImages                                         False\n",
       "alertNThumbsUp                                       False\n",
       "alertReliability                                     False\n",
       "alertReportMood                                      False\n",
       "alertReportRating                                    False\n",
       "alertSpeed                                           False\n",
       "alertLatitude                                        False\n",
       "alertLongitude                                       False\n",
       "alertDistanceToClosestShapePoint                     False\n",
       "alertIsJamUnifiedAlert                               False\n",
       "alertInScale                                         False\n",
       "jamDelay                                             False\n",
       "jamLength                                            False\n",
       "jamLevel                                             False\n",
       "                                                     ...  \n",
       "problemSB_TRIP_PROBLEM                               False\n",
       "alertSubtypeSB_-                                     False\n",
       "alertSubtypeSB_ACCIDENT_MAJOR                        False\n",
       "alertSubtypeSB_ACCIDENT_MINOR                        False\n",
       "alertSubtypeSB_HAZARD_ON_ROAD                        False\n",
       "alertSubtypeSB_HAZARD_ON_ROAD_CAR_STOPPED            False\n",
       "alertSubtypeSB_HAZARD_ON_ROAD_CONSTRUCTION           False\n",
       "alertSubtypeSB_HAZARD_ON_ROAD_OBJECT                 False\n",
       "alertSubtypeSB_HAZARD_ON_ROAD_POT_HOLE               False\n",
       "alertSubtypeSB_HAZARD_ON_ROAD_TRAFFIC_LIGHT_FAULT    False\n",
       "alertSubtypeSB_HAZARD_ON_SHOULDER_ANIMALS            False\n",
       "alertSubtypeSB_HAZARD_ON_SHOULDER_CAR_STOPPED        False\n",
       "alertSubtypeSB_HAZARD_ON_SHOULDER_MISSING_SIGN       False\n",
       "alertSubtypeSB_HAZARD_WEATHER_FLOOD                  False\n",
       "alertSubtypeSB_JAM_HEAVY_TRAFFIC                     False\n",
       "alertSubtypeSB_JAM_MODERATE_TRAFFIC                  False\n",
       "alertSubtypeSB_JAM_STAND_STILL_TRAFFIC               False\n",
       "alertSubtypeSB_POLICE_HIDING                         False\n",
       "alertSubtypeSB_POLICE_VISIBLE                        False\n",
       "alertSubtypeSB_ROAD_CLOSED_EVENT                     False\n",
       "alertTypeSB_-                                        False\n",
       "alertTypeSB_ACCIDENT                                 False\n",
       "alertTypeSB_CHIT_CHAT                                False\n",
       "alertTypeSB_HAZARD                                   False\n",
       "alertTypeSB_JAM                                      False\n",
       "alertTypeSB_POLICE                                   False\n",
       "alertTypeSB_ROAD_CLOSED                              False\n",
       "jamBlockTypeSB_-                                     False\n",
       "jamBlockTypeSB_ROAD_CLOSED_CONSTRUCTION              False\n",
       "jamBlockTypeSB_ROAD_CLOSED_EVENT                     False\n",
       "Length: 456, dtype: bool"
      ]
     },
     "execution_count": 7,
     "metadata": {},
     "output_type": "execute_result"
    }
   ],
   "source": [
    "data.isnull().any()"
   ]
  },
  {
   "cell_type": "code",
   "execution_count": 8,
   "metadata": {},
   "outputs": [],
   "source": [
    "# Class count\n",
    "count_class_0, count_class_1 = data.busBunching.value_counts()\n",
    "\n",
    "# Divide by class\n",
    "df_class_0 = data[data['busBunching'] == 0]\n",
    "df_class_1 = data[data['busBunching'] == 1]"
   ]
  },
  {
   "cell_type": "code",
   "execution_count": 9,
   "metadata": {},
   "outputs": [
    {
     "name": "stdout",
     "output_type": "stream",
     "text": [
      "Random under-sampling:\n",
      "1    4097\n",
      "0    4097\n",
      "Name: busBunching, dtype: int64\n"
     ]
    }
   ],
   "source": [
    "df_class_0_under = df_class_0.sample(count_class_1)\n",
    "df_data_under = pd.concat([df_class_0_under, df_class_1], axis=0)\n",
    "\n",
    "print('Random under-sampling:')\n",
    "print(df_data_under.busBunching.value_counts())"
   ]
  },
  {
   "cell_type": "code",
   "execution_count": null,
   "metadata": {},
   "outputs": [],
   "source": [
    "df_data_under.shape"
   ]
  },
  {
   "cell_type": "code",
   "execution_count": 29,
   "metadata": {},
   "outputs": [
    {
     "data": {
      "text/plain": [
       "0        299\n",
       "1        178\n",
       "2        187\n",
       "3        204\n",
       "4        206\n",
       "5        210\n",
       "6        210\n",
       "7        216\n",
       "8        222\n",
       "9        234\n",
       "10       240\n",
       "11       242\n",
       "12       269\n",
       "13       275\n",
       "14       268\n",
       "15       239\n",
       "16       233\n",
       "17       223\n",
       "18       169\n",
       "19       162\n",
       "20       160\n",
       "21       158\n",
       "22       121\n",
       "23       194\n",
       "24       209\n",
       "25       255\n",
       "26       271\n",
       "27       250\n",
       "28       233\n",
       "29       215\n",
       "        ... \n",
       "49970     28\n",
       "49971     31\n",
       "49972     31\n",
       "49973     59\n",
       "49974     57\n",
       "49975     30\n",
       "49976     30\n",
       "49977     53\n",
       "49978     51\n",
       "49979     32\n",
       "49980     49\n",
       "49981     43\n",
       "49982     31\n",
       "49983     31\n",
       "49984     40\n",
       "49985     38\n",
       "49986     37\n",
       "49987     36\n",
       "49988     35\n",
       "49989     35\n",
       "49990     34\n",
       "49991     34\n",
       "49992     34\n",
       "49993     35\n",
       "49994     40\n",
       "49995     40\n",
       "49996     38\n",
       "49997     42\n",
       "49998     42\n",
       "49999     44\n",
       "Name: headway, Length: 50000, dtype: int64"
      ]
     },
     "execution_count": 29,
     "metadata": {},
     "output_type": "execute_result"
    }
   ],
   "source": [
    "y"
   ]
  },
  {
   "cell_type": "code",
   "execution_count": 10,
   "metadata": {},
   "outputs": [],
   "source": [
    "# get label column and remove it from data\n",
    "y = data['headway']\n",
    "df_data_under.drop('headway', axis=1, inplace=True)\n",
    "df_data_under.drop('busBunching', axis=1, inplace=True)"
   ]
  },
  {
   "cell_type": "code",
   "execution_count": 11,
   "metadata": {},
   "outputs": [],
   "source": [
    "rows = 5 # TODO min quantity of gps points per route (should be the same) \n",
    "cols = df_data_under.shape[1] # quantity of attributes\n",
    "n_samples = df_data_under.shape[0] # all examples\n",
    "n_frames = 3 # TODO total of routes\n",
    "n_channels = 1"
   ]
  },
  {
   "cell_type": "code",
   "execution_count": 12,
   "metadata": {},
   "outputs": [],
   "source": [
    "# convert input data format to multidimensional matrices\n",
    "\n",
    "total_input = np.zeros((n_samples, n_frames, rows, cols, n_channels), dtype=np.float)\n",
    "label = np.zeros((n_samples, 1), dtype=int)\n",
    "\n",
    "for line in range(n_samples):\n",
    "    for col in range(cols):\n",
    "#         total_input[line, 0, 0:line, col, 0] = X_resampled.iloc[:,col][line]\n",
    "        total_input[line, 0, 0:line, col, 0] = df_data_under.iloc[line,col]#X_resampled[line][col]\n",
    "        \n",
    "#     label[line, 0] = y_resampled.iloc[line]\n",
    "    label[line, 0] = y.iloc[line] #y_resampled[line]\n",
    "\n",
    "# total_input = total_input[:n_samples, :, :, :]\n",
    "# label = label[:n_samples, 0]"
   ]
  },
  {
   "cell_type": "code",
   "execution_count": 14,
   "metadata": {},
   "outputs": [
    {
     "data": {
      "text/plain": [
       "(8194, 3, 5, 454, 1)"
      ]
     },
     "execution_count": 14,
     "metadata": {},
     "output_type": "execute_result"
    }
   ],
   "source": [
    "total_input.shape"
   ]
  },
  {
   "cell_type": "code",
   "execution_count": 15,
   "metadata": {},
   "outputs": [
    {
     "data": {
      "text/plain": [
       "(8194, 1)"
      ]
     },
     "execution_count": 15,
     "metadata": {},
     "output_type": "execute_result"
    }
   ],
   "source": [
    "label.shape"
   ]
  },
  {
   "cell_type": "code",
   "execution_count": 33,
   "metadata": {},
   "outputs": [
    {
     "data": {
      "text/plain": [
       "array([[299],\n",
       "       [178],\n",
       "       [187],\n",
       "       ...,\n",
       "       [ 15],\n",
       "       [ 15],\n",
       "       [ 16]])"
      ]
     },
     "execution_count": 33,
     "metadata": {},
     "output_type": "execute_result"
    }
   ],
   "source": [
    "label"
   ]
  },
  {
   "cell_type": "code",
   "execution_count": 40,
   "metadata": {},
   "outputs": [
    {
     "data": {
      "text/plain": [
       "array([[ 30],\n",
       "       [234],\n",
       "       [ 18],\n",
       "       ...,\n",
       "       [ 63],\n",
       "       [ 13],\n",
       "       [ 16]])"
      ]
     },
     "execution_count": 40,
     "metadata": {},
     "output_type": "execute_result"
    }
   ],
   "source": [
    "test_Y"
   ]
  },
  {
   "cell_type": "code",
   "execution_count": 13,
   "metadata": {},
   "outputs": [],
   "source": [
    "# no_class = len(list(set(np.ndarray.flatten(label))))\n",
    "no_class = 793\n",
    "threshold = len(total_input[0, 0, :, 0, 0])\n",
    "\n",
    "# Making training and test data: 80% Training, 20% Test\n",
    "train_X, test_X, train_Y, test_Y = train_test_split(total_input, label, test_size=0.20, random_state=7)\n",
    "\n",
    "# Converts a class vector (integers) to binary class matrix\n",
    "# train_Y = keras.utils.to_categorical(train_Y, num_classes=no_class)\n",
    "# test_Y = keras.utils.to_categorical(test_Y, num_classes=no_class)"
   ]
  },
  {
   "cell_type": "code",
   "execution_count": 14,
   "metadata": {},
   "outputs": [
    {
     "name": "stderr",
     "output_type": "stream",
     "text": [
      "WARNING: Logging before flag parsing goes to stderr.\n",
      "W0806 13:32:20.184653 140465212090176 deprecation_wrapper.py:119] From /home/veruska/.local/lib/python3.6/site-packages/keras/backend/tensorflow_backend.py:74: The name tf.get_default_graph is deprecated. Please use tf.compat.v1.get_default_graph instead.\n",
      "\n",
      "W0806 13:32:20.706665 140465212090176 deprecation_wrapper.py:119] From /home/veruska/.local/lib/python3.6/site-packages/keras/backend/tensorflow_backend.py:517: The name tf.placeholder is deprecated. Please use tf.compat.v1.placeholder instead.\n",
      "\n",
      "W0806 13:32:21.990727 140465212090176 deprecation_wrapper.py:119] From /home/veruska/.local/lib/python3.6/site-packages/keras/backend/tensorflow_backend.py:4138: The name tf.random_uniform is deprecated. Please use tf.random.uniform instead.\n",
      "\n",
      "W0806 13:32:32.765061 140465212090176 deprecation_wrapper.py:119] From /home/veruska/.local/lib/python3.6/site-packages/keras/backend/tensorflow_backend.py:133: The name tf.placeholder_with_default is deprecated. Please use tf.compat.v1.placeholder_with_default instead.\n",
      "\n",
      "W0806 13:32:37.322795 140465212090176 deprecation_wrapper.py:119] From /home/veruska/.local/lib/python3.6/site-packages/keras/optimizers.py:790: The name tf.train.Optimizer is deprecated. Please use tf.compat.v1.train.Optimizer instead.\n",
      "\n",
      "W0806 13:32:37.330909 140465212090176 deprecation_wrapper.py:119] From /home/veruska/.local/lib/python3.6/site-packages/keras/backend/tensorflow_backend.py:3341: The name tf.log is deprecated. Please use tf.math.log instead.\n",
      "\n"
     ]
    }
   ],
   "source": [
    "model = Sequential()\n",
    "# if data_format='channels_last' 4D tensor with shape: (samples, rows, cols, channels)\n",
    "model.add(ConvLSTM2D(filters=16, kernel_size=(3, 3),\n",
    "                   input_shape=(n_frames, rows, cols, n_channels),\n",
    "                   padding='same', return_sequences=True))\n",
    "model.add(BatchNormalization())\n",
    "\n",
    "model.add(ConvLSTM2D(filters=16, kernel_size=(3, 3),\n",
    "                   padding='same', return_sequences=True))\n",
    "model.add(BatchNormalization())\n",
    "\n",
    "model.add(ConvLSTM2D(filters=16, kernel_size=(3, 3),\n",
    "                   padding='same', return_sequences=True))\n",
    "model.add(BatchNormalization())\n",
    "\n",
    "model.add(ConvLSTM2D(filters=16, kernel_size=(3, 3),\n",
    "                   padding='same', return_sequences=True))\n",
    "model.add(BatchNormalization())\n",
    "\n",
    "model.add(ConvLSTM2D(filters=16, kernel_size=(3, 3),\n",
    "                   padding='same', return_sequences=True))\n",
    "model.add(BatchNormalization())\n",
    "\n",
    "model.add(ConvLSTM2D(filters=16, kernel_size=(3, 3),\n",
    "                   padding='same', return_sequences=True))\n",
    "model.add(BatchNormalization())\n",
    "\n",
    "model.add(ConvLSTM2D(filters=16, kernel_size=(3, 3),\n",
    "                   padding='same', return_sequences=True))\n",
    "model.add(BatchNormalization())\n",
    "\n",
    "model.add(ConvLSTM2D(filters=16, kernel_size=(3, 3),\n",
    "                   padding='same', return_sequences=True))\n",
    "model.add(BatchNormalization())\n",
    "\n",
    "model.add(ConvLSTM2D(filters=16, kernel_size=(3, 3),\n",
    "                   padding='same', return_sequences=True))\n",
    "model.add(BatchNormalization())\n",
    "\n",
    "model.add(ConvLSTM2D(filters=16, kernel_size=(3, 3),\n",
    "                   padding='same', return_sequences=True))\n",
    "model.add(BatchNormalization())\n",
    "\n",
    "# model.add(ConvLSTM2D(filters=16, kernel_size=(3, 3),\n",
    "#                    padding='same', return_sequences=True))\n",
    "# model.add(BatchNormalization())\n",
    "\n",
    "# model.add(ConvLSTM2D(filters=16, kernel_size=(3, 3),\n",
    "#                    padding='same', return_sequences=True))\n",
    "# model.add(BatchNormalization())\n",
    "\n",
    "# model.add(ConvLSTM2D(filters=16, kernel_size=(3, 3),\n",
    "#                    padding='same', return_sequences=True))\n",
    "# model.add(BatchNormalization())\n",
    "\n",
    "# model.add(ConvLSTM2D(filters=16, kernel_size=(3, 3),\n",
    "#                    padding='same', return_sequences=True))\n",
    "# model.add(BatchNormalization())\n",
    "\n",
    "# model.add(ConvLSTM2D(filters=16, kernel_size=(3, 3),\n",
    "#                    padding='same', return_sequences=True))\n",
    "# model.add(BatchNormalization())\n",
    "\n",
    "# model.add(ConvLSTM2D(filters=16, kernel_size=(3, 3),\n",
    "#                    padding='same', return_sequences=True))\n",
    "# model.add(BatchNormalization())\n",
    "\n",
    "# model.add(ConvLSTM2D(filters=16, kernel_size=(3, 3),\n",
    "#                    padding='same', return_sequences=True))\n",
    "# model.add(BatchNormalization())\n",
    "\n",
    "# model.add(ConvLSTM2D(filters=16, kernel_size=(3, 3),\n",
    "#                    padding='same', return_sequences=True))\n",
    "# model.add(BatchNormalization())\n",
    "\n",
    "# model.add(ConvLSTM2D(filters=16, kernel_size=(3, 3),\n",
    "#                    padding='same', return_sequences=True))\n",
    "# model.add(BatchNormalization())\n",
    "\n",
    "# model.add(ConvLSTM2D(filters=16, kernel_size=(3, 3),\n",
    "#                    padding='same', return_sequences=True))\n",
    "# model.add(BatchNormalization())\n",
    "\n",
    "\n",
    "model.add(Conv3D(filters=16, kernel_size=(3, 3, 3),\n",
    "               activation='relu',\n",
    "               padding='same', data_format='channels_last'))\n",
    "\n",
    "model.add(Flatten())\n",
    "# model.add(Dense(model.output_shape[1], activation='relu'))\n",
    "# model.add(Dropout(.5))\n",
    "\n",
    "model.add(Dense(no_class, activation='relu'))\n",
    "\n",
    "optimizer = Adam(lr=0.001, beta_1=0.9, beta_2=0.999, epsilon=1e-08, decay=0.0)\n",
    "model.compile(loss='sparse_categorical_crossentropy', optimizer=optimizer, metrics=['mse'])"
   ]
  },
  {
   "cell_type": "code",
   "execution_count": null,
   "metadata": {},
   "outputs": [
    {
     "name": "stdout",
     "output_type": "stream",
     "text": [
      "Train on 6555 samples, validate on 1639 samples\n",
      "Epoch 1/50\n",
      "  16/6555 [..............................] - ETA: 40:13 - loss: 17.1902 - mean_squared_error: 2507.4473"
     ]
    }
   ],
   "source": [
    "# train the network\n",
    "offline_history = model.fit(train_X, train_Y, batch_size=16, epochs=50, validation_data=(test_X, test_Y))"
   ]
  },
  {
   "cell_type": "code",
   "execution_count": 18,
   "metadata": {},
   "outputs": [
    {
     "data": {
      "text/plain": [
       "{'val_loss': [16.987955480904898,\n",
       "  16.987952110751362,\n",
       "  16.987952110751362,\n",
       "  16.987952110751362],\n",
       " 'val_mean_squared_error': [6951.803810142904,\n",
       "  6960.543739006969,\n",
       "  6954.860954242774,\n",
       "  6954.817137331262],\n",
       " 'loss': [16.97911884910182,\n",
       "  16.965639692403997,\n",
       "  16.96563744039412,\n",
       "  16.96563745174219],\n",
       " 'mean_squared_error': [6858.945916166094,\n",
       "  6858.372479410994,\n",
       "  6859.725192481884,\n",
       "  6859.728496369363]}"
      ]
     },
     "execution_count": 18,
     "metadata": {},
     "output_type": "execute_result"
    }
   ],
   "source": [
    "offline_history.history"
   ]
  },
  {
   "cell_type": "code",
   "execution_count": 19,
   "metadata": {},
   "outputs": [
    {
     "data": {
      "image/png": "[encoded data removed]",
      "text/plain": [
       "<Figure size 432x288 with 1 Axes>"
      ]
     },
     "metadata": {
      "needs_background": "light"
     },
     "output_type": "display_data"
    },
    {
     "data": {
      "image/png": "[encoded data removed]",
      "text/plain": [
       "<Figure size 432x288 with 1 Axes>"
      ]
     },
     "metadata": {
      "needs_background": "light"
     },
     "output_type": "display_data"
    }
   ],
   "source": [
    "# Plot training & validation accuracy values\n",
    "plt.plot(offline_history.history['mean_squared_error'])\n",
    "plt.plot(offline_history.history['val_mean_squared_error'])\n",
    "plt.title('Model RMSE')\n",
    "plt.ylabel('RMSE')\n",
    "plt.xlabel('Epoch')\n",
    "plt.legend(['Train', 'Test'], loc='upper left')\n",
    "plt.show()\n",
    "\n",
    "# Plot training & validation loss values\n",
    "plt.plot(offline_history.history['loss'])\n",
    "plt.plot(offline_history.history['val_loss'])\n",
    "plt.title('Model loss')\n",
    "plt.ylabel('Loss')\n",
    "plt.xlabel('Epoch')\n",
    "plt.legend(['Train', 'Test'], loc='upper left')\n",
    "plt.show()"
   ]
  },
  {
   "cell_type": "code",
   "execution_count": 20,
   "metadata": {},
   "outputs": [
    {
     "name": "stdout",
     "output_type": "stream",
     "text": [
      "the optimal epoch size: 0, the value of less loss 16.987952110751362\n"
     ]
    }
   ],
   "source": [
    "A = np.argmax(offline_history.history['val_loss'])\n",
    "print('the optimal epoch size: {}, the value of less loss {}'.format(offline_history.epoch[A], \n",
    "                                                                     np.min(offline_history.history['val_loss'])))\n",
    "\n",
    "# Calculating the test accuracy, precision, recall\n",
    "pred = model.predict(test_X, batch_size=16)\n",
    "pred_label = np.argmax(pred, axis=1)"
   ]
  },
  {
   "cell_type": "markdown",
   "metadata": {},
   "source": [
    "MSE (Mean Squared Error): Média dos erros quadráticos "
   ]
  },
  {
   "cell_type": "code",
   "execution_count": 24,
   "metadata": {},
   "outputs": [
    {
     "data": {
      "text/plain": [
       "['loss', 'mean_squared_error']"
      ]
     },
     "execution_count": 24,
     "metadata": {},
     "output_type": "execute_result"
    }
   ],
   "source": [
    "model.metrics_names"
   ]
  },
  {
   "cell_type": "code",
   "execution_count": 21,
   "metadata": {},
   "outputs": [
    {
     "name": "stdout",
     "output_type": "stream",
     "text": [
      "1639/1639 [==============================] - 104s 63ms/step\n"
     ]
    },
    {
     "data": {
      "text/plain": [
       "[16.987952110751362, 6954.817169505987]"
      ]
     },
     "execution_count": 21,
     "metadata": {},
     "output_type": "execute_result"
    }
   ],
   "source": [
    "model.evaluate(test_X, test_Y)"
   ]
  },
  {
   "cell_type": "code",
   "execution_count": 23,
   "metadata": {},
   "outputs": [
    {
     "data": {
      "text/plain": [
       "array([[86],\n",
       "       [43],\n",
       "       [92],\n",
       "       ...,\n",
       "       [18],\n",
       "       [77],\n",
       "       [60]])"
      ]
     },
     "execution_count": 23,
     "metadata": {},
     "output_type": "execute_result"
    }
   ],
   "source": [
    "train_Y"
   ]
  },
  {
   "cell_type": "code",
   "execution_count": 24,
   "metadata": {},
   "outputs": [
    {
     "data": {
      "text/plain": [
       "array([[ 30],\n",
       "       [234],\n",
       "       [ 18],\n",
       "       ...,\n",
       "       [ 63],\n",
       "       [ 13],\n",
       "       [ 16]])"
      ]
     },
     "execution_count": 24,
     "metadata": {},
     "output_type": "execute_result"
    }
   ],
   "source": [
    "test_Y"
   ]
  },
  {
   "cell_type": "code",
   "execution_count": 64,
   "metadata": {},
   "outputs": [],
   "source": [
    "ActualPositive = []\n",
    "for i in range(no_class):\n",
    "    AA = np.where(test_Y == i)[0]\n",
    "    ActualPositive.append(AA)\n",
    "\n",
    "PredictedPositive = []\n",
    "for i in range(no_class):\n",
    "    AA = np.where(pred_label == i)[0]\n",
    "    PredictedPositive.append(AA)\n",
    "\n",
    "TruePositive = []\n",
    "FalsePositive = []\n",
    "for i in range(no_class):\n",
    "    AA = []\n",
    "    BB = []\n",
    "    for j in PredictedPositive[i]:\n",
    "        if pred_label[j] == test_Y[j,1]:\n",
    "            AA.append(j)\n",
    "        else:\n",
    "            BB.append(j)\n",
    "    TruePositive.append(AA)\n",
    "    FalsePositive.append(BB)\n",
    "Precision = []\n",
    "Recall = []\n",
    "\n",
    "\n",
    "precision = ( len(TruePositive[0]) + len(TruePositive[1]) ) / ( len(PredictedPositive[0]) + len(PredictedPositive[1]) )\n",
    "recall = ( len(TruePositive[0]) + len(TruePositive[1]) ) / ( len(ActualPositive[0]) + len(ActualPositive[1]) )\n",
    "\n",
    "ConfusionM = confusion_matrix(list(test_Y[:,1]), pred_label, labels=[0, 1, 2, 3, 4])"
   ]
  },
  {
   "cell_type": "code",
   "execution_count": 65,
   "metadata": {},
   "outputs": [
    {
     "name": "stdout",
     "output_type": "stream",
     "text": [
      "Confusion Matrix:  [[753   0   0   0   0]\n",
      " [  2   0   0   0   0]\n",
      " [  0   0   0   0   0]\n",
      " [  0   0   0   0   0]\n",
      " [  0   0   0   0   0]]\n",
      "Recall 0.0016968172845515264\n",
      "Precision 0.9973509933774835\n",
      "6801.5019090000005 seconds\n"
     ]
    }
   ],
   "source": [
    "print('Confusion Matrix: ', ConfusionM)\n",
    "print('Recall', recall)\n",
    "print('Precision', precision)\n",
    "print(time.clock() - start_time, \"seconds\")"
   ]
  },
  {
   "cell_type": "code",
   "execution_count": null,
   "metadata": {},
   "outputs": [],
   "source": []
  }
 ],
 "metadata": {
  "kernelspec": {
   "display_name": "Python 3",
   "language": "python",
   "name": "python3"
  }
 },
 "nbformat": 4,
 "nbformat_minor": 2
}
