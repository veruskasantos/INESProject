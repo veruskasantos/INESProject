{
 "cells": [
  {
   "cell_type": "code",
   "execution_count": 1,
   "metadata": {},
   "outputs": [
    {
     "name": "stderr",
     "output_type": "stream",
     "text": [
      "/home/veruska/.local/lib/python3.6/site-packages/sklearn/externals/joblib/__init__.py:15: DeprecationWarning: sklearn.externals.joblib is deprecated in 0.21 and will be removed in 0.23. Please import this functionality directly from joblib, which can be installed with: pip install joblib. If this warning is raised when loading pickled models, you may need to re-serialize those models with scikit-learn 0.21+.\n",
      "  warnings.warn(msg, category=DeprecationWarning)\n"
     ]
    }
   ],
   "source": [
    "import numpy as np\n",
    "import pandas as pd\n",
    "import random\n",
    "from sklearn.svm import SVR\n",
    "from sklearn.metrics import mean_squared_error, accuracy_score, precision_score, recall_score, f1_score\n",
    "from sklearn.model_selection import cross_val_score, train_test_split\n",
    "from sklearn.preprocessing import StandardScaler\n",
    "from sklearn import preprocessing\n",
    "import matplotlib.pyplot as plt\n",
    "import time\n",
    "import seaborn as sns\n",
    "from sklearn.externals import joblib"
   ]
  },
  {
   "cell_type": "code",
   "execution_count": 2,
   "metadata": {},
   "outputs": [],
   "source": [
    "file_path = '../../data/input/integrated_data_dummy.csv'\n",
    "\n",
    "data = pd.read_csv(file_path)\n",
    "data = data.sort_values([\"busCode\",\"busCodeSB\"])"
   ]
  },
  {
   "cell_type": "code",
   "execution_count": 3,
   "metadata": {},
   "outputs": [],
   "source": [
    "target_col = ['headway']\n",
    "bb_col = ['busBunching']\n",
    "hd_threshold = [\"headwayThreshold\"]\n",
    "features = list(set(list(data.columns))-set(target_col)-set(bb_col)-set(hd_threshold))"
   ]
  },
  {
   "cell_type": "code",
   "execution_count": 4,
   "metadata": {},
   "outputs": [],
   "source": [
    "# Get label column and remove it from data\n",
    "y = data['headway']\n",
    "y_threshold = data['headwayThreshold']\n",
    "\n",
    "data.drop('headway', axis=1, inplace=True)\n",
    "data.drop('busBunching', axis=1, inplace=True)\n",
    "data.drop('headwayThreshold', axis=1, inplace=True)"
   ]
  },
  {
   "cell_type": "code",
   "execution_count": 5,
   "metadata": {},
   "outputs": [],
   "source": [
    "# Normalize data\n",
    "min_max_scaler = preprocessing.MinMaxScaler()\n",
    "data_scale = min_max_scaler.fit_transform(data)"
   ]
  },
  {
   "cell_type": "code",
   "execution_count": 6,
   "metadata": {},
   "outputs": [],
   "source": [
    "# Making training and test data: 80% Training, 20% Test\n",
    "random.seed(15) #to get always the same set\n",
    "train_X, test_X, train_Y, test_Y = train_test_split(data_scale, y, test_size=0.20, random_state=7)"
   ]
  },
  {
   "cell_type": "code",
   "execution_count": 7,
   "metadata": {},
   "outputs": [],
   "source": [
    "def rmse_cv(model, X_train, y_train):\n",
    "    rmse = np.sqrt(-cross_val_score(model, X_train, y_train, scoring = \"neg_mean_squared_error\", cv = 5))\n",
    "    return(rmse)\n",
    "\n",
    "# function to plot the RMSE vs parameter value\n",
    "def plot_rmse_param(series, param_name):\n",
    "    series.plot(title = \"Validation Error vs \" + param_name)\n",
    "    plt.xlabel(param_name)\n",
    "    plt.ylabel(\"RMSE\")\n",
    "    \n",
    "# function to get the best RMSE and the best parameter value of the model\n",
    "def best_rmse_param(series):\n",
    "    best_rmse = series.min()\n",
    "    best_param = series.idxmin() \n",
    "    \n",
    "    return(best_rmse, best_param)"
   ]
  },
  {
   "cell_type": "markdown",
   "metadata": {},
   "source": [
    "### SVR"
   ]
  },
  {
   "cell_type": "code",
   "execution_count": null,
   "metadata": {},
   "outputs": [
    {
     "name": "stderr",
     "output_type": "stream",
     "text": [
      "/home/veruska/.local/lib/python3.6/site-packages/sklearn/svm/base.py:193: FutureWarning: The default value of gamma will change from 'auto' to 'scale' in version 0.22 to account better for unscaled features. Set gamma explicitly to 'auto' or 'scale' to avoid this warning.\n",
      "  \"avoid this warning.\", FutureWarning)\n",
      "/home/veruska/.local/lib/python3.6/site-packages/sklearn/svm/base.py:193: FutureWarning: The default value of gamma will change from 'auto' to 'scale' in version 0.22 to account better for unscaled features. Set gamma explicitly to 'auto' or 'scale' to avoid this warning.\n",
      "  \"avoid this warning.\", FutureWarning)\n"
     ]
    }
   ],
   "source": [
    "start = time.time()\n",
    "\n",
    "cs = [0.001, 0.01, 0.05, 1]\n",
    "cv_srv_rmse = [rmse_cv(SVR(C = c), train_X, train_Y).mean() \n",
    "            for c in cs]\n",
    "\n",
    "series = pd.Series(cv_srv_rmse, index = cs)\n",
    "plot_rmse_param(series, \"cs\")\n",
    "best_rmse_srv, best_c_svr = best_rmse_param(series)"
   ]
  },
  {
   "cell_type": "code",
   "execution_count": null,
   "metadata": {},
   "outputs": [],
   "source": [
    "epsilons = [0.001, 0.01, 0.05, 0.08]\n",
    "cv_srv_rmse = [rmse_cv(SVR(C = best_c_svr, epsilon = e), \n",
    "                      train_X, train_Y).mean() \n",
    "            for e in epsilons]\n",
    "\n",
    "series = pd.Series(cv_srv_rmse, index = epsilons)\n",
    "plot_rmse_param(series, \"epsilons\")\n",
    "best_rmse_srv, best_epsilon_svr = best_rmse_param(series)"
   ]
  },
  {
   "cell_type": "code",
   "execution_count": null,
   "metadata": {},
   "outputs": [],
   "source": []
  },
  {
   "cell_type": "code",
   "execution_count": null,
   "metadata": {},
   "outputs": [],
   "source": [
    "random.seed(42)\n",
    "\n",
    "try:\n",
    "    start\n",
    "except NameError: # start does not exist at all\n",
    "    start = time.time()\n",
    "\n",
    "svr = SVR(C=best_c_svr, epsilon=best_epsilon_svr)\n",
    "svr.fit(train_X, train_Y)\n",
    "\n",
    "end = time.time()\n",
    "print(\"Execution time: \" + str((end - start)/60) + \" min\")"
   ]
  },
  {
   "cell_type": "code",
   "execution_count": null,
   "metadata": {},
   "outputs": [],
   "source": [
    "# Saving a pickle file for the model\n",
    "joblib.dump(svr, 'Saved_SVR_.pkl')"
   ]
  },
  {
   "cell_type": "code",
   "execution_count": null,
   "metadata": {},
   "outputs": [],
   "source": [
    "print(\"best_c_svr: \" + str(best_c_svr))\n",
    "print(\"best_epsilon_svr: \" + str(best_epsilon_svr))"
   ]
  },
  {
   "cell_type": "code",
   "execution_count": null,
   "metadata": {},
   "outputs": [],
   "source": []
  },
  {
   "cell_type": "code",
   "execution_count": null,
   "metadata": {},
   "outputs": [],
   "source": [
    "pred_array = svr.predict(test_X)"
   ]
  },
  {
   "cell_type": "code",
   "execution_count": null,
   "metadata": {},
   "outputs": [],
   "source": [
    "# removing the array of each element\n",
    "pred = []\n",
    "for p in pred_array:\n",
    "    pred.append(p)\n",
    "\n",
    "rmse_rf = np.sqrt(mean_squared_error(test_Y, pred))\n",
    "print(rmse_rf)"
   ]
  },
  {
   "cell_type": "code",
   "execution_count": null,
   "metadata": {},
   "outputs": [],
   "source": [
    "print(min(pred))\n",
    "print(max(pred))"
   ]
  },
  {
   "cell_type": "code",
   "execution_count": null,
   "metadata": {},
   "outputs": [],
   "source": [
    "alpha = y_threshold[test_Y.index]\n",
    "alpha"
   ]
  },
  {
   "cell_type": "code",
   "execution_count": null,
   "metadata": {},
   "outputs": [],
   "source": [
    "bb_pred = np.less_equal(pred, alpha)\n",
    "bb_label = np.less_equal(test_Y, alpha)"
   ]
  },
  {
   "cell_type": "code",
   "execution_count": null,
   "metadata": {},
   "outputs": [],
   "source": [
    "accuracy = accuracy_score(bb_label, bb_pred)\n",
    "precision = precision_score(bb_label, bb_pred)\n",
    "recall = recall_score(bb_label, bb_pred)\n",
    "f_measure = f1_score(bb_label, bb_pred)"
   ]
  },
  {
   "cell_type": "code",
   "execution_count": null,
   "metadata": {},
   "outputs": [],
   "source": [
    "print(\"Accuracy: \" + str(accuracy))\n",
    "print(\"Precision: \" + str(precision))\n",
    "print(\"Recall: \" + str(recall))\n",
    "print(\"F-measure: \" + str(f_measure))"
   ]
  }
 ],
 "metadata": {
  "kernelspec": {
   "display_name": "Python 3",
   "language": "python",
   "name": "python3"
  },
  "language_info": {
   "codemirror_mode": {
    "name": "ipython",
    "version": 3
   },
   "file_extension": ".py",
   "mimetype": "text/x-python",
   "name": "python",
   "nbconvert_exporter": "python",
   "pygments_lexer": "ipython3",
   "version": "3.6.8"
  }
 },
 "nbformat": 4,
 "nbformat_minor": 2
}
