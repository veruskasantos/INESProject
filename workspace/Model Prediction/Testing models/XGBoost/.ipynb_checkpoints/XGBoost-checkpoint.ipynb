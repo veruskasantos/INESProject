{
 "cells": [
  {
   "cell_type": "code",
   "execution_count": 1,
   "metadata": {},
   "outputs": [
    {
     "name": "stderr",
     "output_type": "stream",
     "text": [
      "/home/veruska/.local/lib/python3.6/site-packages/sklearn/externals/joblib/__init__.py:15: FutureWarning: sklearn.externals.joblib is deprecated in 0.21 and will be removed in 0.23. Please import this functionality directly from joblib, which can be installed with: pip install joblib. If this warning is raised when loading pickled models, you may need to re-serialize those models with scikit-learn 0.21+.\n",
      "  warnings.warn(msg, category=FutureWarning)\n"
     ]
    }
   ],
   "source": [
    "import pandas as pd\n",
    "import random\n",
    "from sklearn.metrics import mean_squared_error, accuracy_score, precision_score, recall_score, f1_score\n",
    "from sklearn.model_selection import cross_val_score, train_test_split\n",
    "from sklearn.preprocessing import StandardScaler\n",
    "from sklearn import preprocessing\n",
    "import matplotlib.pyplot as plt\n",
    "import time\n",
    "import xgboost as xgb\n",
    "from xgboost.sklearn import XGBClassifier\n",
    "from sklearn.model_selection import GridSearchCV\n",
    "from sklearn.externals import joblib"
   ]
  },
  {
   "cell_type": "code",
   "execution_count": 2,
   "metadata": {},
   "outputs": [],
   "source": [
    "city = 'Curitiba'"
   ]
  },
  {
   "cell_type": "code",
   "execution_count": 3,
   "metadata": {},
   "outputs": [
    {
     "name": "stdout",
     "output_type": "stream",
     "text": [
      "(6211570, 116)\n",
      "(6211570, 1)\n"
     ]
    },
    {
     "data": {
      "text/html": [
       "<div>\n",
       "<style scoped>\n",
       "    .dataframe tbody tr th:only-of-type {\n",
       "        vertical-align: middle;\n",
       "    }\n",
       "\n",
       "    .dataframe tbody tr th {\n",
       "        vertical-align: top;\n",
       "    }\n",
       "\n",
       "    .dataframe thead th {\n",
       "        text-align: right;\n",
       "    }\n",
       "</style>\n",
       "<table border=\"1\" class=\"dataframe\">\n",
       "  <thead>\n",
       "    <tr style=\"text-align: right;\">\n",
       "      <th></th>\n",
       "      <th>tripNum</th>\n",
       "      <th>shapeSequence</th>\n",
       "      <th>shapeLat</th>\n",
       "      <th>shapeLon</th>\n",
       "      <th>distanceTraveledShape</th>\n",
       "      <th>gpsPointId</th>\n",
       "      <th>gpsLat</th>\n",
       "      <th>gpsLon</th>\n",
       "      <th>distanceToShapePoint</th>\n",
       "      <th>stopPointId</th>\n",
       "      <th>...</th>\n",
       "      <th>alertSubtype_code</th>\n",
       "      <th>alertType_code</th>\n",
       "      <th>alertRoadType_code</th>\n",
       "      <th>jamBlockType_code</th>\n",
       "      <th>busCodeSB_code</th>\n",
       "      <th>alertSubtypeSB_code</th>\n",
       "      <th>alertTypeSB_code</th>\n",
       "      <th>alertRoadTypeSB_code</th>\n",
       "      <th>jamBlockTypeSB_code</th>\n",
       "      <th>problemSB_code</th>\n",
       "    </tr>\n",
       "  </thead>\n",
       "  <tbody>\n",
       "    <tr>\n",
       "      <th>0</th>\n",
       "      <td>0.0</td>\n",
       "      <td>0.899945</td>\n",
       "      <td>0.916733</td>\n",
       "      <td>0.788385</td>\n",
       "      <td>0.014696</td>\n",
       "      <td>0.000000</td>\n",
       "      <td>0.348779</td>\n",
       "      <td>0.517589</td>\n",
       "      <td>0.000000</td>\n",
       "      <td>0.550342</td>\n",
       "      <td>...</td>\n",
       "      <td>0.814815</td>\n",
       "      <td>0.666667</td>\n",
       "      <td>0.25</td>\n",
       "      <td>0.25</td>\n",
       "      <td>0.015395</td>\n",
       "      <td>0.814815</td>\n",
       "      <td>0.666667</td>\n",
       "      <td>0.25</td>\n",
       "      <td>0.333333</td>\n",
       "      <td>0.000000</td>\n",
       "    </tr>\n",
       "    <tr>\n",
       "      <th>1</th>\n",
       "      <td>0.0</td>\n",
       "      <td>0.899947</td>\n",
       "      <td>0.921318</td>\n",
       "      <td>0.772879</td>\n",
       "      <td>0.022706</td>\n",
       "      <td>0.000000</td>\n",
       "      <td>0.350518</td>\n",
       "      <td>0.513454</td>\n",
       "      <td>0.000000</td>\n",
       "      <td>0.550100</td>\n",
       "      <td>...</td>\n",
       "      <td>0.814815</td>\n",
       "      <td>0.666667</td>\n",
       "      <td>0.25</td>\n",
       "      <td>0.25</td>\n",
       "      <td>0.015395</td>\n",
       "      <td>0.814815</td>\n",
       "      <td>0.666667</td>\n",
       "      <td>0.25</td>\n",
       "      <td>0.333333</td>\n",
       "      <td>0.000000</td>\n",
       "    </tr>\n",
       "    <tr>\n",
       "      <th>2</th>\n",
       "      <td>0.0</td>\n",
       "      <td>0.899949</td>\n",
       "      <td>0.927984</td>\n",
       "      <td>0.771251</td>\n",
       "      <td>0.028732</td>\n",
       "      <td>0.000000</td>\n",
       "      <td>0.353047</td>\n",
       "      <td>0.513020</td>\n",
       "      <td>0.000000</td>\n",
       "      <td>0.653710</td>\n",
       "      <td>...</td>\n",
       "      <td>0.814815</td>\n",
       "      <td>0.666667</td>\n",
       "      <td>0.25</td>\n",
       "      <td>0.25</td>\n",
       "      <td>0.015395</td>\n",
       "      <td>0.814815</td>\n",
       "      <td>0.666667</td>\n",
       "      <td>0.25</td>\n",
       "      <td>0.333333</td>\n",
       "      <td>0.000000</td>\n",
       "    </tr>\n",
       "    <tr>\n",
       "      <th>3</th>\n",
       "      <td>0.0</td>\n",
       "      <td>0.899954</td>\n",
       "      <td>0.938787</td>\n",
       "      <td>0.776257</td>\n",
       "      <td>0.037058</td>\n",
       "      <td>0.012792</td>\n",
       "      <td>0.357100</td>\n",
       "      <td>0.514376</td>\n",
       "      <td>0.000048</td>\n",
       "      <td>0.653771</td>\n",
       "      <td>...</td>\n",
       "      <td>0.814815</td>\n",
       "      <td>0.666667</td>\n",
       "      <td>0.25</td>\n",
       "      <td>0.25</td>\n",
       "      <td>0.015395</td>\n",
       "      <td>0.814815</td>\n",
       "      <td>0.666667</td>\n",
       "      <td>0.25</td>\n",
       "      <td>0.333333</td>\n",
       "      <td>0.333333</td>\n",
       "    </tr>\n",
       "    <tr>\n",
       "      <th>4</th>\n",
       "      <td>0.0</td>\n",
       "      <td>0.899958</td>\n",
       "      <td>0.948479</td>\n",
       "      <td>0.772553</td>\n",
       "      <td>0.044445</td>\n",
       "      <td>0.000000</td>\n",
       "      <td>0.360821</td>\n",
       "      <td>0.513367</td>\n",
       "      <td>0.000000</td>\n",
       "      <td>0.653831</td>\n",
       "      <td>...</td>\n",
       "      <td>0.814815</td>\n",
       "      <td>0.666667</td>\n",
       "      <td>0.25</td>\n",
       "      <td>0.25</td>\n",
       "      <td>0.015395</td>\n",
       "      <td>0.814815</td>\n",
       "      <td>0.666667</td>\n",
       "      <td>0.25</td>\n",
       "      <td>0.333333</td>\n",
       "      <td>0.000000</td>\n",
       "    </tr>\n",
       "  </tbody>\n",
       "</table>\n",
       "<p>5 rows × 116 columns</p>\n",
       "</div>"
      ],
      "text/plain": [
       "   tripNum  shapeSequence  shapeLat  shapeLon  distanceTraveledShape  \\\n",
       "0      0.0       0.899945  0.916733  0.788385               0.014696   \n",
       "1      0.0       0.899947  0.921318  0.772879               0.022706   \n",
       "2      0.0       0.899949  0.927984  0.771251               0.028732   \n",
       "3      0.0       0.899954  0.938787  0.776257               0.037058   \n",
       "4      0.0       0.899958  0.948479  0.772553               0.044445   \n",
       "\n",
       "   gpsPointId    gpsLat    gpsLon  distanceToShapePoint  stopPointId  ...  \\\n",
       "0    0.000000  0.348779  0.517589              0.000000     0.550342  ...   \n",
       "1    0.000000  0.350518  0.513454              0.000000     0.550100  ...   \n",
       "2    0.000000  0.353047  0.513020              0.000000     0.653710  ...   \n",
       "3    0.012792  0.357100  0.514376              0.000048     0.653771  ...   \n",
       "4    0.000000  0.360821  0.513367              0.000000     0.653831  ...   \n",
       "\n",
       "   alertSubtype_code  alertType_code  alertRoadType_code  jamBlockType_code  \\\n",
       "0           0.814815        0.666667                0.25               0.25   \n",
       "1           0.814815        0.666667                0.25               0.25   \n",
       "2           0.814815        0.666667                0.25               0.25   \n",
       "3           0.814815        0.666667                0.25               0.25   \n",
       "4           0.814815        0.666667                0.25               0.25   \n",
       "\n",
       "   busCodeSB_code  alertSubtypeSB_code  alertTypeSB_code  \\\n",
       "0        0.015395             0.814815          0.666667   \n",
       "1        0.015395             0.814815          0.666667   \n",
       "2        0.015395             0.814815          0.666667   \n",
       "3        0.015395             0.814815          0.666667   \n",
       "4        0.015395             0.814815          0.666667   \n",
       "\n",
       "   alertRoadTypeSB_code  jamBlockTypeSB_code  problemSB_code  \n",
       "0                  0.25             0.333333        0.000000  \n",
       "1                  0.25             0.333333        0.000000  \n",
       "2                  0.25             0.333333        0.000000  \n",
       "3                  0.25             0.333333        0.333333  \n",
       "4                  0.25             0.333333        0.000000  \n",
       "\n",
       "[5 rows x 116 columns]"
      ]
     },
     "execution_count": 3,
     "metadata": {},
     "output_type": "execute_result"
    }
   ],
   "source": [
    "data_path = '../../data/output/' + city + '/normalized_data_X_FE.csv'\n",
    "y_path = '../../data/output/' + city + '/y_FE.csv'\n",
    "\n",
    "data = pd.read_csv(data_path)\n",
    "y = pd.read_csv(y_path)\n",
    "print(data.shape)\n",
    "print(y.shape)\n",
    "data.head()"
   ]
  },
  {
   "cell_type": "code",
   "execution_count": 6,
   "metadata": {},
   "outputs": [
    {
     "data": {
      "text/plain": [
       "0.13544362024328632"
      ]
     },
     "execution_count": 6,
     "metadata": {},
     "output_type": "execute_result"
    }
   ],
   "source": [
    "#Bus bunching proportion per data\n",
    "len(y[y.busBunching == 1]) / len(y)"
   ]
  },
  {
   "cell_type": "code",
   "execution_count": 13,
   "metadata": {},
   "outputs": [
    {
     "name": "stdout",
     "output_type": "stream",
     "text": [
      "(1000, 420)\n",
      "(1000, 1)\n"
     ]
    }
   ],
   "source": [
    "# same data of rvm test\n",
    "data = data[0:1000]\n",
    "y = y[0:1000]\n",
    "print(data.shape)\n",
    "print(y.shape)"
   ]
  },
  {
   "cell_type": "code",
   "execution_count": 4,
   "metadata": {},
   "outputs": [],
   "source": [
    "# Making training and test data: 80% Training, 20% Test\n",
    "random.seed(15) #to get always the same set\n",
    "train_X, test_X, train_Y, test_Y = train_test_split(data, y, test_size=0.20, random_state=7)"
   ]
  },
  {
   "cell_type": "code",
   "execution_count": 3,
   "metadata": {},
   "outputs": [],
   "source": [
    "test_X = pd.read_csv('../../data/output/' + city + '/test_X.csv')\n",
    "test_Y = pd.read_csv('../../data/output/' + city + '/test_Y.csv')"
   ]
  },
  {
   "cell_type": "code",
   "execution_count": null,
   "metadata": {},
   "outputs": [],
   "source": [
    "del y\n",
    "del data"
   ]
  },
  {
   "cell_type": "code",
   "execution_count": null,
   "metadata": {},
   "outputs": [],
   "source": [
    "random.seed(42)\n",
    "\n",
    "start = time.time()\n",
    "\n",
    "parameters = {\n",
    "    'max_depth': [5, 25],\n",
    "    'n_estimators': [50, 100],\n",
    "    'learning_rate': [0.1, 0.01]\n",
    "}\n",
    "\n",
    "xgb = XGBClassifier(\n",
    " min_child_weight=1,\n",
    " gamma=0,\n",
    " subsample=0.8,\n",
    " colsample_bytree=0.8,\n",
    " objective= 'binary:logistic',\n",
    " #nthread=-1,\n",
    " scale_pos_weight=1,\n",
    " seed=23)\n",
    "\n",
    "grid_search = GridSearchCV(\n",
    "    estimator=xgb,\n",
    "    param_grid=parameters,\n",
    "    scoring = 'roc_auc',\n",
    "    cv = 10\n",
    ")\n",
    "\n",
    "grid_search.fit(train_X, train_Y)\n",
    "\n",
    "end = time.time()\n",
    "print(\"Execution time: \" + str((end - start)/60) + \" min\")"
   ]
  },
  {
   "cell_type": "code",
   "execution_count": null,
   "metadata": {},
   "outputs": [
    {
     "name": "stderr",
     "output_type": "stream",
     "text": [
      "/home/veruska/.local/lib/python3.6/site-packages/sklearn/preprocessing/_label.py:235: DataConversionWarning: A column-vector y was passed when a 1d array was expected. Please change the shape of y to (n_samples, ), for example using ravel().\n",
      "  y = column_or_1d(y, warn=True)\n",
      "/home/veruska/.local/lib/python3.6/site-packages/sklearn/preprocessing/_label.py:268: DataConversionWarning: A column-vector y was passed when a 1d array was expected. Please change the shape of y to (n_samples, ), for example using ravel().\n",
      "  y = column_or_1d(y, warn=True)\n"
     ]
    },
    {
     "name": "stdout",
     "output_type": "stream",
     "text": [
      "[12:50:57] WARNING: /workspace/src/gbm/gbtree.cc:138: Tree method is automatically selected to be 'approx' for faster speed. To use old behavior (exact greedy algorithm on single machine), set tree_method to 'exact'.\n"
     ]
    }
   ],
   "source": [
    "random.seed(42)\n",
    "\n",
    "start = time.time()\n",
    "\n",
    "xgb = XGBClassifier(\n",
    " learning_rate =0.1,\n",
    " n_estimators=120, \n",
    " max_depth=50,\n",
    " min_child_weight=1,\n",
    " gamma=0,\n",
    " subsample=0.8,\n",
    " colsample_bytree=0.8,\n",
    " objective= 'binary:logistic',\n",
    " nthread=-1,\n",
    " scale_pos_weight=1,\n",
    " seed=23)\n",
    "\n",
    "xgb.fit(train_X, train_Y)\n",
    "\n",
    "end = time.time()\n",
    "print(\"Execution time: \" + str((end - start)/60) + \" min\")"
   ]
  },
  {
   "cell_type": "code",
   "execution_count": 10,
   "metadata": {},
   "outputs": [
    {
     "name": "stdout",
     "output_type": "stream",
     "text": [
      "Execution time: 1399.5225323120753 min\n"
     ]
    }
   ],
   "source": [
    "print(\"Execution time: \" + str((end - start)/60) + \" min\") #all - Curitiba"
   ]
  },
  {
   "cell_type": "code",
   "execution_count": null,
   "metadata": {},
   "outputs": [],
   "source": [
    "# Saving a pickle file for the mode\n",
    "# joblib.dump(xgb, 'Saved_XGB_BB_class.pkl')\n",
    "#joblib.dump(xgb, 'Saved_Curitiba_XGB_BB_class.pkl')\n",
    "#joblib.dump(xgb, 'Saved_Recife_XGB_75p_BB_class.pkl')\n",
    "#joblib.dump(xgb, 'Saved_Recife_XGB_52p_BB_class.pkl')\n",
    "#joblib.dump(xgb, 'Saved_Recife_XGB_25p_BB_class.pkl')\n",
    "joblib.dump(xgb, 'Saved_Curitiba_XGB_BB_class.pkl')"
   ]
  },
  {
   "cell_type": "code",
   "execution_count": null,
   "metadata": {},
   "outputs": [],
   "source": [
    "pred_array = xgb.predict(test_X)\n",
    "pred_array"
   ]
  },
  {
   "cell_type": "code",
   "execution_count": null,
   "metadata": {},
   "outputs": [],
   "source": [
    "# Bus Bunching\n",
    "accuracy = accuracy_score(test_Y, pred_array)\n",
    "precision = precision_score(test_Y, pred_array)\n",
    "recall = recall_score(test_Y, pred_array)\n",
    "f_measure = f1_score(test_Y, pred_array)"
   ]
  },
  {
   "cell_type": "code",
   "execution_count": 11,
   "metadata": {},
   "outputs": [
    {
     "name": "stdout",
     "output_type": "stream",
     "text": [
      "Accuracy: 0.9795285249944861\n",
      "Precision: 0.8751984757065735\n",
      "Recall: 0.7445577215657837\n",
      "F-measure: 0.8046097111247695\n"
     ]
    }
   ],
   "source": [
    "# all data - Curitiba\n",
    "print(\"Accuracy: \" + str(accuracy))\n",
    "print(\"Precision: \" + str(precision))\n",
    "print(\"Recall: \" + str(recall))\n",
    "print(\"F-measure: \" + str(f_measure))"
   ]
  },
  {
   "cell_type": "code",
   "execution_count": null,
   "metadata": {},
   "outputs": [],
   "source": []
  },
  {
   "cell_type": "code",
   "execution_count": 10,
   "metadata": {},
   "outputs": [
    {
     "name": "stdout",
     "output_type": "stream",
     "text": [
      "Accuracy: 0.9510098524746359\n",
      "Precision: 0.9056198347107438\n",
      "Recall: 0.7101381652279856\n",
      "F-measure: 0.7960538742063434\n"
     ]
    }
   ],
   "source": [
    "# gps+gtfs - Recife\n",
    "print(\"Accuracy: \" + str(accuracy))\n",
    "print(\"Precision: \" + str(precision))\n",
    "print(\"Recall: \" + str(recall))\n",
    "print(\"F-measure: \" + str(f_measure))"
   ]
  },
  {
   "cell_type": "code",
   "execution_count": 10,
   "metadata": {},
   "outputs": [
    {
     "name": "stdout",
     "output_type": "stream",
     "text": [
      "Accuracy: 0.9508178984877516\n",
      "Precision: 0.9070656691604323\n",
      "Recall: 0.7071571143427431\n",
      "F-measure: 0.794732855561382\n"
     ]
    }
   ],
   "source": [
    "# gps+gtfs+weather - Recife\n",
    "print(\"Accuracy: \" + str(accuracy))\n",
    "print(\"Precision: \" + str(precision))\n",
    "print(\"Recall: \" + str(recall))\n",
    "print(\"F-measure: \" + str(f_measure))"
   ]
  },
  {
   "cell_type": "code",
   "execution_count": 13,
   "metadata": {},
   "outputs": [
    {
     "name": "stdout",
     "output_type": "stream",
     "text": [
      "Accuracy: 0.9502734471794979\n",
      "Precision: 0.9060382522781134\n",
      "Recall: 0.7036316976436737\n",
      "F-measure: 0.7921092564491654\n"
     ]
    }
   ],
   "source": [
    "# gps+gtfs+waze - Recife\n",
    "print(\"Accuracy: \" + str(accuracy))\n",
    "print(\"Precision: \" + str(precision))\n",
    "print(\"Recall: \" + str(recall))\n",
    "print(\"F-measure: \" + str(f_measure))"
   ]
  },
  {
   "cell_type": "code",
   "execution_count": null,
   "metadata": {},
   "outputs": [],
   "source": []
  },
  {
   "cell_type": "code",
   "execution_count": 7,
   "metadata": {},
   "outputs": [
    {
     "name": "stdout",
     "output_type": "stream",
     "text": [
      "Accuracy: 0.8688675063781075\n",
      "Precision: 0.585432266848196\n",
      "Recall: 0.08917230474116701\n",
      "F-measure: 0.15477020673520347\n"
     ]
    }
   ],
   "source": [
    "# 5p - Recife\n",
    "print(\"Accuracy: \" + str(accuracy))\n",
    "print(\"Precision: \" + str(precision))\n",
    "print(\"Recall: \" + str(recall))\n",
    "print(\"F-measure: \" + str(f_measure))"
   ]
  },
  {
   "cell_type": "code",
   "execution_count": 11,
   "metadata": {},
   "outputs": [
    {
     "name": "stdout",
     "output_type": "stream",
     "text": [
      "Accuracy: 0.8899196236305829\n",
      "Precision: 0.767772872583346\n",
      "Recall: 0.26147704590818366\n",
      "F-measure: 0.39009958425988595\n"
     ]
    }
   ],
   "source": [
    "# 25p - Recife\n",
    "print(\"Accuracy: \" + str(accuracy))\n",
    "print(\"Precision: \" + str(precision))\n",
    "print(\"Recall: \" + str(recall))\n",
    "print(\"F-measure: \" + str(f_measure))"
   ]
  },
  {
   "cell_type": "code",
   "execution_count": 15,
   "metadata": {},
   "outputs": [
    {
     "name": "stdout",
     "output_type": "stream",
     "text": [
      "Accuracy: 0.9328265748079587\n",
      "Precision: 0.8834404506863445\n",
      "Recall: 0.5772351401093916\n",
      "F-measure: 0.6982424784033363\n"
     ]
    }
   ],
   "source": [
    "# 52p - Recife\n",
    "print(\"Accuracy: \" + str(accuracy))\n",
    "print(\"Precision: \" + str(precision))\n",
    "print(\"Recall: \" + str(recall))\n",
    "print(\"F-measure: \" + str(f_measure))"
   ]
  },
  {
   "cell_type": "code",
   "execution_count": 19,
   "metadata": {},
   "outputs": [
    {
     "name": "stdout",
     "output_type": "stream",
     "text": [
      "Accuracy: 0.9560913980183369\n",
      "Precision: 0.944923666735127\n",
      "Recall: 0.7155818233662545\n",
      "F-measure: 0.8144148928323819\n"
     ]
    }
   ],
   "source": [
    "# 75p - Recife\n",
    "print(\"Accuracy: \" + str(accuracy))\n",
    "print(\"Precision: \" + str(precision))\n",
    "print(\"Recall: \" + str(recall))\n",
    "print(\"F-measure: \" + str(f_measure))"
   ]
  },
  {
   "cell_type": "code",
   "execution_count": 18,
   "metadata": {},
   "outputs": [
    {
     "name": "stdout",
     "output_type": "stream",
     "text": [
      "Accuracy: 0.975\n",
      "Precision: 1.0\n",
      "Recall: 0.5454545454545454\n",
      "F-measure: 0.7058823529411764\n"
     ]
    }
   ],
   "source": [
    "# 1000, to compare with rvm\n",
    "print(\"Accuracy: \" + str(accuracy))\n",
    "print(\"Precision: \" + str(precision))\n",
    "print(\"Recall: \" + str(recall))\n",
    "print(\"F-measure: \" + str(f_measure))"
   ]
  },
  {
   "cell_type": "code",
   "execution_count": 9,
   "metadata": {},
   "outputs": [
    {
     "name": "stdout",
     "output_type": "stream",
     "text": [
      "Accuracy: 0.9733333333333334\n",
      "Precision: 0.9634146341463414\n",
      "Recall: 0.8586956521739131\n",
      "F-measure: 0.9080459770114943\n"
     ]
    }
   ],
   "source": [
    "# 3000, to compare with rvm\n",
    "print(\"Accuracy: \" + str(accuracy))\n",
    "print(\"Precision: \" + str(precision))\n",
    "print(\"Recall: \" + str(recall))\n",
    "print(\"F-measure: \" + str(f_measure))"
   ]
  },
  {
   "cell_type": "code",
   "execution_count": 9,
   "metadata": {},
   "outputs": [
    {
     "name": "stdout",
     "output_type": "stream",
     "text": [
      "Accuracy: 0.9502525067445651\n",
      "Precision: 0.9080629466832199\n",
      "Recall: 0.7015320009331986\n",
      "F-measure: 0.7915472360339281\n"
     ]
    }
   ],
   "source": [
    "# all data - Recife\n",
    "print(\"Accuracy: \" + str(accuracy))\n",
    "print(\"Precision: \" + str(precision))\n",
    "print(\"Recall: \" + str(recall))\n",
    "print(\"F-measure: \" + str(f_measure))"
   ]
  },
  {
   "cell_type": "code",
   "execution_count": 9,
   "metadata": {},
   "outputs": [
    {
     "name": "stdout",
     "output_type": "stream",
     "text": [
      "Accuracy: 0.9502525067445651\n",
      "Precision: 0.9080629466832199\n",
      "Recall: 0.7015320009331986\n",
      "F-measure: 0.7915472360339281\n"
     ]
    }
   ],
   "source": [
    "# all data - Recife\n",
    "print(\"Accuracy: \" + str(accuracy))\n",
    "print(\"Precision: \" + str(precision))\n",
    "print(\"Recall: \" + str(recall))\n",
    "print(\"F-measure: \" + str(f_measure))"
   ]
  },
  {
   "cell_type": "code",
   "execution_count": null,
   "metadata": {},
   "outputs": [],
   "source": []
  }
 ],
 "metadata": {
  "kernelspec": {
   "display_name": "Python 3",
   "language": "python",
   "name": "python3"
  },
  "language_info": {
   "codemirror_mode": {
    "name": "ipython",
    "version": 3
   },
   "file_extension": ".py",
   "mimetype": "text/x-python",
   "name": "python",
   "nbconvert_exporter": "python",
   "pygments_lexer": "ipython3",
   "version": "3.6.9"
  }
 },
 "nbformat": 4,
 "nbformat_minor": 2
}
