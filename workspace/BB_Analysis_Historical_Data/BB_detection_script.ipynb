{
 "cells": [
  {
   "cell_type": "code",
   "execution_count": 3,
   "metadata": {},
   "outputs": [],
   "source": [
    "import os\n",
    "import pandas as pd\n",
    "import sys\n",
    "import datetime\n",
    "import math\n",
    "import time\n",
    "import seaborn as sns\n",
    "import folium"
   ]
  },
  {
   "cell_type": "markdown",
   "metadata": {},
   "source": [
    "## Bus Bunching Detection"
   ]
  },
  {
   "cell_type": "code",
   "execution_count": 2,
   "metadata": {
    "collapsed": true
   },
   "outputs": [],
   "source": [
    "def readFiles(dataPath):\n",
    "    dataFrames = []\n",
    "    \n",
    "    # Create one file by day of analysis\n",
    "    for dirName in os.listdir(dataPath):\n",
    "        allBusteData = []\n",
    "        for fileName in os.listdir(dataPath + dirName):\n",
    "            filePath = dataPath + dirName +  \"/\" + fileName\n",
    "            if (\"part-\" in fileName):\n",
    "                allBusteData.append(pd.read_csv(filePath))\n",
    "\n",
    "         # Concatenate all data of one day into one DataFrame\n",
    "        dataByDay = pd.concat(allBusteData, ignore_index = True)\n",
    "        print(\"Day \" + dataByDay['date'][0])\n",
    "        print(dataByDay.head(5))\n",
    "        dataFrames.append(dataByDay)\n",
    "\n",
    "    #dataFrames.append(pd.read_csv(dataPath + \"test\")) # TODO just for test\n",
    "\n",
    "    return dataFrames"
   ]
  },
  {
   "cell_type": "code",
   "execution_count": 3,
   "metadata": {
    "collapsed": true
   },
   "outputs": [],
   "source": [
    "def processingData(dataFrames):\n",
    "\n",
    "    dataFramesFiltered = []\n",
    "    \n",
    "    for dataByDay in dataFrames:\n",
    "        \n",
    "        # Remove unusable columns\n",
    "        dataByDay = dataByDay.drop(['shapeSequence', 'distanceTraveledShape', 'gpsPointId', 'distanceToShapePoint', 'stopPointId',\n",
    "                                    'problem', 'birthdate', 'cardTimestamp', 'lineName', 'cardNum', 'gender'], axis=1)\n",
    "\n",
    "        print(\"After filter columns: \", dataByDay.shape)\n",
    "\n",
    "        # Removing data without gps point\n",
    "        before = dataByDay.shape[0]\n",
    "        dataByDay = dataByDay[dataByDay.gpsLat != \"-\"]\n",
    "        print(\"After remove rows without GPS: \", dataByDay.shape)\n",
    "        after = dataByDay.shape[0]\n",
    "        deleted_rows = before - after\n",
    "        print(\"Deleted rows\", deleted_rows)\n",
    "\n",
    "        # Fixing index by number of rows\n",
    "        dataByDay = dataByDay.reset_index(drop = True)\n",
    "        \n",
    "        # Creating new column id to index rows\n",
    "        dataByDay.insert(0, \"id\", dataByDay.index)\n",
    "\n",
    "        # Creating new column time to group by timestamp and reduce comparisons\n",
    "        dataByDay.insert(1, \"time\", dataByDay.timestamp.str[:4])\n",
    "        \n",
    "        # Convert timestamp to date\n",
    "        dataByDay['date'] = dataByDay['date'].replace(\"_\", \"-\", regex = True)\n",
    "        dataByDay['timestamp'] = pd.to_datetime(dataByDay.date.astype(str) + ' ' + dataByDay.timestamp.astype(str))\n",
    "        \n",
    "        print(\"Processed data: \")\n",
    "        print(dataByDay.head())\n",
    "        \n",
    "        dataFramesFiltered.append(dataByDay)\n",
    "        \n",
    "    return dataFramesFiltered"
   ]
  },
  {
   "cell_type": "code",
   "execution_count": 4,
   "metadata": {
    "collapsed": true
   },
   "outputs": [],
   "source": [
    "# Output dataframe to add Bus Bunching occurrence\n",
    "def createOutputDataframe(dataByDay):\n",
    "    outputBusBunching = dataByDay\n",
    "    outputBusBunching['busBunching'] = \"\" # create new column\n",
    "\n",
    "    return outputBusBunching"
   ]
  },
  {
   "cell_type": "code",
   "execution_count": 5,
   "metadata": {
    "collapsed": true
   },
   "outputs": [],
   "source": [
    "def distanceBetween(origin, destination):\n",
    "    \"\"\"\n",
    "    Calculate the Haversine distance.\n",
    "\n",
    "    Parameters\n",
    "    ----------\n",
    "    origin : tuple of float\n",
    "        (lat, long)\n",
    "    destination : tuple of float\n",
    "        (lat, long)\n",
    "\n",
    "    Returns\n",
    "    -------\n",
    "    distance_in_m : float\n",
    "\n",
    "    Examples\n",
    "    --------\n",
    "    >>> origin = (48.1372, 11.5756)  # Munich\n",
    "    >>> destination = (52.5186, 13.4083)  # Berlin\n",
    "    >>> round(distance(origin, destination), 1)\n",
    "    504.2\n",
    "    \"\"\"\n",
    "    lat1, lon1 = origin\n",
    "    lat2, lon2 = destination\n",
    "    radius = 6371  # km\n",
    "\n",
    "    dlat = math.radians(lat2 - lat1)\n",
    "    dlon = math.radians(lon2 - lon1)\n",
    "    a = (math.sin(dlat / 2) * math.sin(dlat / 2) +\n",
    "         math.cos(math.radians(lat1)) * math.cos(math.radians(lat2)) *\n",
    "         math.sin(dlon / 2) * math.sin(dlon / 2))\n",
    "    c = 2 * math.atan2(math.sqrt(a), math.sqrt(1 - a))\n",
    "    d = radius * c\n",
    "\n",
    "    return d * 1000 #meters"
   ]
  },
  {
   "cell_type": "code",
   "execution_count": 6,
   "metadata": {
    "collapsed": true
   },
   "outputs": [],
   "source": [
    "def isBusBunching(distance, threshold):\n",
    "    \"\"\"\n",
    "    Detecting Bus Bunching.\n",
    "\n",
    "    Parameters\n",
    "    ----------\n",
    "    distance : distance between two gps points\n",
    "        float\n",
    "\n",
    "    Returns\n",
    "    -------\n",
    "    is_bus_bunching : boolean\n",
    "\n",
    "    Examples\n",
    "    --------\n",
    "    >>> distance = 98.08\n",
    "    true\n",
    "    \"\"\"\n",
    "    return distance < threshold"
   ]
  },
  {
   "cell_type": "code",
   "execution_count": 7,
   "metadata": {
    "collapsed": true
   },
   "outputs": [],
   "source": [
    "def generateOutputBusBunchingDetection(dataByDay, dataByDayOutput, route_buses_dic, distanceThreshold, outputPath):\n",
    "\n",
    "    outputBusBunching = dataByDayOutput\n",
    "    \n",
    "    for row in dataByDay.itertuples():\n",
    "        \"\"\"\n",
    "        Index=0, id=0, time='05:4', route=463, tripNum=1, shapeId=2846, shapeLat=-25.478024708433903, \n",
    "        shapeLon=-49.203032595858183, busCode='DC090', gpsLat='-25.477931', gpsLon='-49.203043', \n",
    "        timestamp=Timestamp('2017-04-30 05:48:27'), date='2017-04-30', busBunching=''\n",
    "        \"\"\"\n",
    "        indexFirstBus = row[1]\n",
    "        timeFirstBus = row[2]\n",
    "        routeFirstBus = row[3]\n",
    "        shapeIdFirstBus = row[5]\n",
    "        latitudeFirstBus = row[6]\n",
    "        longitudeFirstBus = row[7]\n",
    "        codeFirstBus = row[8]\n",
    "        timestampFirstBus = row[11]\n",
    "\n",
    "        closestTime = \"\"\n",
    "        previousBus = \"\"\n",
    "\n",
    "        # Compare buses from the same route and shape id (avoiding buses in opposite trips, e.g.)\n",
    "        # and in time range (avoiding buses in different hours, e.g.)\n",
    "        buses_same_route = route_buses_dic[routeFirstBus, timeFirstBus, shapeIdFirstBus]\n",
    "\n",
    "        for rowOtherBus in buses_same_route:\n",
    "            \"\"\"\n",
    "            [0, '05:4', 463, 1, 2846, -25.478024708433903, -49.20303259585818, 'DC090', '-25.477931', '-49.203043', \n",
    "            Timestamp('2017-04-30 05:48:27'), '2017-04-30']\n",
    "            \"\"\"\n",
    "            indexOtherBus = rowOtherBus[0]\n",
    "            routeOtherBus = rowOtherBus[2]\n",
    "            codeOtherBus = rowOtherBus[7]\n",
    "            timestampOtherBus = rowOtherBus[10]\n",
    "            latitudeOtherBus = rowOtherBus[5]\n",
    "            longitudeOtherBus = rowOtherBus[6]\n",
    "\n",
    "\n",
    "            if (codeOtherBus != codeFirstBus): # avoiding to compare with the same bus\n",
    "                difTime = abs(timestampOtherBus - timestampFirstBus)\n",
    "\n",
    "                if (previousBus == codeOtherBus):\n",
    "\n",
    "                    #find the nearest timestamps\n",
    "\n",
    "                    if (difTime < closestTime):\n",
    "                        closestTime = difTime\n",
    "                        closestBusCode = codeOtherBus\n",
    "                        closestLat = latitudeOtherBus\n",
    "                        closestLon = longitudeOtherBus\n",
    "                        closestID = indexOtherBus\n",
    "\n",
    "                else:\n",
    "                    #first, analyse the last bus\n",
    "\n",
    "                    if (closestTime != \"\" ):\n",
    "                        distance = distanceBetween((float(latitudeFirstBus), float(longitudeFirstBus)), \n",
    "                                                   (float(closestLat), float(closestLon)))\n",
    "\n",
    "                        if (isBusBunching(distance, distanceThreshold)):\n",
    "                            bbFirstBus = outputBusBunching.iloc[indexFirstBus][\"busBunching\"]\n",
    "                            if (str(closestID) not in bbFirstBus):\n",
    "                                outputBusBunching.loc[indexFirstBus,'busBunching'] = bbFirstBus + str(closestID) + \"-\"\n",
    "\n",
    "                            bbClosestBus = outputBusBunching.iloc[closestID][\"busBunching\"]\n",
    "                            if (str(indexFirstBus) not in bbClosestBus):\n",
    "                                outputBusBunching.loc[closestID,'busBunching'] = bbClosestBus + str(indexFirstBus) + \"-\"\n",
    "\n",
    "                    # -----------------------------------------\n",
    "                    # New bus to compare: reseting variables\n",
    "                    previousBus = codeOtherBus\n",
    "                    closestTime = difTime\n",
    "                    closestBusCode = codeOtherBus\n",
    "                    closestLat = latitudeOtherBus\n",
    "                    closestLon = longitudeOtherBus\n",
    "                    closestID = indexOtherBus\n",
    "    \n",
    "    print(\"Output Bus Bunching \" + outputBusBunching['date'][0])\n",
    "    print(outputBusBunching.loc[outputBusBunching['busBunching'] != \"\"].head())\n",
    "    saveToCSV(outputBusBunching, outputBusBunching[\"date\"][0], outputPath)\n"
   ]
  },
  {
   "cell_type": "code",
   "execution_count": 8,
   "metadata": {
    "collapsed": true
   },
   "outputs": [],
   "source": [
    "# Saving csv file\n",
    "def saveToCSV(outputByDay, date, outputPath):\n",
    "    # to print bus bunching\n",
    "    # outputBusBunching.loc[outputBusBunching['busBunching'] != \"\"]\n",
    "    \n",
    "    outputByDay.to_csv(outputPath + \"outputBusBunching-\" + date + \".csv\", index_label = \"index\", encoding = 'utf-8')"
   ]
  },
  {
   "cell_type": "code",
   "execution_count": 9,
   "metadata": {
    "collapsed": true
   },
   "outputs": [],
   "source": [
    "def executeDetection(dataFramesFiltered, distanceThreshold, outputPath):\n",
    "    \n",
    "    for dataByDay in dataFramesFiltered:\n",
    "        outputByDay = createOutputDataframe(dataByDay)\n",
    "        \n",
    "        # Mapping route - buses\n",
    "        route_buses_dic = dataByDay.groupby(['route', 'time', 'shapeId']).apply(lambda f: f[[\"id\", \"time\", \"route\", \"tripNum\", \n",
    "                                                                                             \"shapeId\", \"shapeLat\", \"shapeLon\", \n",
    "                                                                                             \"busCode\", \"gpsLat\", \"gpsLon\", \n",
    "                                                                                             \"timestamp\", \n",
    "                                                                                             \"date\"]].values.tolist()).to_dict()\n",
    "        generateOutputBusBunchingDetection(dataByDay, outputByDay, route_buses_dic, distanceThreshold, outputPath)    "
   ]
  },
  {
   "cell_type": "code",
   "execution_count": 10,
   "metadata": {
    "collapsed": true
   },
   "outputs": [],
   "source": [
    "def main():\n",
    "    start_time = time.time()\n",
    "    \n",
    "    DISTANCE_THRESHOLD = 100 # meters\n",
    "\n",
    "    inputPath = os.getcwd() + \"/data/buste/\"\n",
    "    outputPath = os.getcwd() + \"/data/outputBusBunching/\"\n",
    "    \n",
    "    dataFrames = readFiles(inputPath)\n",
    "    dataFramesFiltered = processingData(dataFrames)\n",
    "    \n",
    "    executeDetection(dataFramesFiltered, DISTANCE_THRESHOLD, outputPath)\n",
    "    \n",
    "    executionTime = int(time.time() - start_time) / 60\n",
    "    print(\"--- %s minutes ---\" % executionTime)"
   ]
  },
  {
   "cell_type": "code",
   "execution_count": 11,
   "metadata": {},
   "outputs": [
    {
     "name": "stderr",
     "output_type": "stream",
     "text": [
      "C:\\Anaconda3\\lib\\site-packages\\IPython\\core\\interactiveshell.py:2881: DtypeWarning: Columns (1) have mixed types. Specify dtype option on import or set low_memory=False.\n",
      "  exec(code_obj, self.user_global_ns, self.user_ns)\n"
     ]
    },
    {
     "name": "stdout",
     "output_type": "stream",
     "text": [
      "Day 2017_04_30\n",
      "   route tripNum  shapeId  shapeSequence   shapeLat   shapeLon  \\\n",
      "0    463       1     2846        6348468 -25.478025 -49.203033   \n",
      "1    463       1     2846        6348493 -25.474027 -49.209193   \n",
      "2    463       1     2846        6348516 -25.468650 -49.213528   \n",
      "3    463       1     2846        6348531 -25.464090 -49.217170   \n",
      "4    463       1     2846        6348545 -25.459453 -49.220872   \n",
      "\n",
      "   distanceTraveledShape busCode gpsPointId      gpsLat     ...      \\\n",
      "0               1128.772   DC090          -  -25.477931     ...       \n",
      "1               1899.853   DC090          -   -25.47397     ...       \n",
      "2               2638.152   DC090          -           -     ...       \n",
      "3               3262.176   DC090          -  -25.464081     ...       \n",
      "4               3896.639   DC090          -           -     ...       \n",
      "\n",
      "  distanceToShapePoint timestamp stopPointId     problem birthdate  \\\n",
      "0            10.472111  05:48:27       31707  NO_PROBLEM  18/10/63   \n",
      "1             8.772267  05:49:55       31524  NO_PROBLEM         -   \n",
      "2                    -  05:51:18       31521     BETWEEN         -   \n",
      "3            5.7705736  05:52:09       31517  NO_PROBLEM         -   \n",
      "4                    -  05:53:01       31515     BETWEEN         -   \n",
      "\n",
      "  cardTimestamp  lineName     cardNum gender        date  \n",
      "0      05:49:19  SOLITUDE  0000840541     M   2017_04_30  \n",
      "1             -         -           -      -  2017_04_30  \n",
      "2             -         -           -      -  2017_04_30  \n",
      "3             -         -           -      -  2017_04_30  \n",
      "4             -         -           -      -  2017_04_30  \n",
      "\n",
      "[5 rows x 21 columns]\n",
      "After filter columns:  (317307, 10)\n",
      "After remove rows without GPS:  (193052, 10)\n",
      "Deleted rows 124255\n",
      "Processed data: \n",
      "   id  time  route tripNum  shapeId   shapeLat   shapeLon busCode      gpsLat  \\\n",
      "0   0  05:4    463       1     2846 -25.478025 -49.203033   DC090  -25.477931   \n",
      "1   1  05:4    463       1     2846 -25.474027 -49.209193   DC090   -25.47397   \n",
      "2   2  05:5    463       1     2846 -25.464090 -49.217170   DC090  -25.464081   \n",
      "3   3  05:5    463       1     2846 -25.449051 -49.229171   DC090  -25.449208   \n",
      "4   4  05:5    463       1     2846 -25.443967 -49.237920   DC090  -25.443921   \n",
      "\n",
      "       gpsLon           timestamp        date  \n",
      "0  -49.203043 2017-04-30 05:48:27  2017-04-30  \n",
      "1  -49.209133 2017-04-30 05:49:55  2017-04-30  \n",
      "2  -49.217113 2017-04-30 05:52:09  2017-04-30  \n",
      "3   -49.22889 2017-04-30 05:54:56  2017-04-30  \n",
      "4  -49.237808 2017-04-30 05:56:55  2017-04-30  \n",
      "Output Bus Bunching 2017-04-30\n",
      "          id  time  route tripNum  shapeId   shapeLat   shapeLon busCode  \\\n",
      "10325  10325  10:4    203       3     3855 -25.376980 -49.224466   BD142   \n",
      "10384  10384  12:5    203       4     3856 -25.377255 -49.223935   BD142   \n",
      "10409  10409  13:3    203       4     3856 -25.487755 -49.294288   BD142   \n",
      "10436  10436  14:3    203       5     3855 -25.376980 -49.224466   BD142   \n",
      "10520  10520  17:2    203       6     3856 -25.487755 -49.294288   BD142   \n",
      "\n",
      "           gpsLat      gpsLon           timestamp        date busBunching  \n",
      "10325  -25.376983  -49.224878 2017-04-30 10:48:54  2017-04-30     129109-  \n",
      "10384  -25.377406  -49.224526 2017-04-30 12:52:13  2017-04-30     101788-  \n",
      "10409  -25.487711  -49.294343 2017-04-30 13:39:54  2017-04-30     129185-  \n",
      "10436  -25.376955  -49.224408 2017-04-30 14:38:16  2017-04-30     129215-  \n",
      "10520  -25.487786   -49.29432 2017-04-30 17:27:56  2017-04-30     129297-  \n",
      "--- 3.15 minutes ---\n"
     ]
    }
   ],
   "source": [
    "if __name__ == '__main__':\n",
    "    main()"
   ]
  },
  {
   "cell_type": "markdown",
   "metadata": {},
   "source": [
    "## Validation"
   ]
  },
  {
   "cell_type": "code",
   "execution_count": 1,
   "metadata": {},
   "outputs": [],
   "source": [
    "def plotMarkersOnMap(outputBusBunching):\n",
    "    \n",
    "    from IPython.display import HTML, display\n",
    "    # Validating bus bunching at map\n",
    "\n",
    "    # filter rows with bus bunching\n",
    "    busBunching = outputBusBunching.loc[outputBusBunching[\"busBunching\"].notnull()]\n",
    "\n",
    "    # create dic route - color\n",
    "    colors = {\"orange\", \"blue\", \"brown\", \"pink\", \"black\", \"red\", \"green\", \"purple\"} \n",
    "    busBunchingRoutes = busBunching.route.unique()\n",
    "    print(\"Routes with BB: \", busBunchingRoutes)\n",
    "    routeColorDict = dict(zip(busBunchingRoutes, colors))\n",
    "\n",
    "    # Make an empty map\n",
    "    m = folium.Map(tiles = \"OpenStreetMap\", zoom_start = 13, location = [-25.428777,-49.249120])\n",
    "\n",
    "    # I can add marker one by one on the map\n",
    "    for i in range(0, len(busBunching)):\n",
    "        route = busBunching.iloc[i]['route']\n",
    "        id = busBunching.iloc[i]['id']\n",
    "        popup_data = \"route: \" + str(route) + \" id: \" + str(id) + \" Bus Code: \" + str(busBunching.iloc[i]['busCode']) + \" Timestamp: \" + str(busBunching.iloc[i]['timestamp']) + \" BB: \" + str(busBunching.iloc[i]['busBunching'])\n",
    "\n",
    "        folium.CircleMarker([busBunching.iloc[i]['gpsLat'], busBunching.iloc[i]['gpsLon']], popup = popup_data, \n",
    "                            color = routeColorDict[route], radius = 10, fill_opacity = 0.9).add_to(m)\n",
    "\n",
    "     # Save it as html\n",
    "    m.save('bus_bunching_visualization.html')\n",
    "\n",
    "    m\n",
    "\n",
    "def validationOnMap():\n",
    "    dayOfAnalysis = \"2017-04-30.csv\"\n",
    "    filePath = os.getcwd() + \"/data/outputBusBunching/outputBusBunching-\" + dayOfAnalysis\n",
    "    outputBusBunching = pd.read_csv(filePath)\n",
    "    \n",
    "    #print(outputBusBunching[outputBusBunching[\"busBunching\"] != \"\"])\n",
    "    \n",
    "    plotMarkersOnMap(outputBusBunching)"
   ]
  },
  {
   "cell_type": "code",
   "execution_count": 2,
   "metadata": {},
   "outputs": [
    {
     "ename": "NameError",
     "evalue": "global name 'os' is not defined",
     "output_type": "error",
     "traceback": [
      "\u001b[0;31m---------------------------------------------------------------------------\u001b[0m",
      "\u001b[0;31mNameError\u001b[0m                                 Traceback (most recent call last)",
      "\u001b[0;32m<ipython-input-2-b2210a3ee2f8>\u001b[0m in \u001b[0;36m<module>\u001b[0;34m()\u001b[0m\n\u001b[1;32m      1\u001b[0m \u001b[0;32mif\u001b[0m \u001b[0m__name__\u001b[0m \u001b[0;34m==\u001b[0m \u001b[0;34m'__main__'\u001b[0m\u001b[0;34m:\u001b[0m\u001b[0;34m\u001b[0m\u001b[0m\n\u001b[0;32m----> 2\u001b[0;31m     \u001b[0mvalidationOnMap\u001b[0m\u001b[0;34m(\u001b[0m\u001b[0;34m)\u001b[0m\u001b[0;34m\u001b[0m\u001b[0m\n\u001b[0m",
      "\u001b[0;32m<ipython-input-1-82f9409a6781>\u001b[0m in \u001b[0;36mvalidationOnMap\u001b[0;34m()\u001b[0m\n\u001b[1;32m     32\u001b[0m \u001b[0;32mdef\u001b[0m \u001b[0mvalidationOnMap\u001b[0m\u001b[0;34m(\u001b[0m\u001b[0;34m)\u001b[0m\u001b[0;34m:\u001b[0m\u001b[0;34m\u001b[0m\u001b[0m\n\u001b[1;32m     33\u001b[0m     \u001b[0mdayOfAnalysis\u001b[0m \u001b[0;34m=\u001b[0m \u001b[0;34m\"2017-04-30.csv\"\u001b[0m\u001b[0;34m\u001b[0m\u001b[0m\n\u001b[0;32m---> 34\u001b[0;31m     \u001b[0mfilePath\u001b[0m \u001b[0;34m=\u001b[0m \u001b[0mos\u001b[0m\u001b[0;34m.\u001b[0m\u001b[0mgetcwd\u001b[0m\u001b[0;34m(\u001b[0m\u001b[0;34m)\u001b[0m \u001b[0;34m+\u001b[0m \u001b[0;34m\"/data/outputBusBunching/outputBusBunching-\"\u001b[0m \u001b[0;34m+\u001b[0m \u001b[0mdayOfAnalysis\u001b[0m\u001b[0;34m\u001b[0m\u001b[0m\n\u001b[0m\u001b[1;32m     35\u001b[0m     \u001b[0moutputBusBunching\u001b[0m \u001b[0;34m=\u001b[0m \u001b[0mpd\u001b[0m\u001b[0;34m.\u001b[0m\u001b[0mread_csv\u001b[0m\u001b[0;34m(\u001b[0m\u001b[0mfilePath\u001b[0m\u001b[0;34m)\u001b[0m\u001b[0;34m\u001b[0m\u001b[0m\n\u001b[1;32m     36\u001b[0m \u001b[0;34m\u001b[0m\u001b[0m\n",
      "\u001b[0;31mNameError\u001b[0m: global name 'os' is not defined"
     ]
    }
   ],
   "source": [
    "if __name__ == '__main__':\n",
    "    validationOnMap()"
   ]
  },
  {
   "cell_type": "markdown",
   "metadata": {
    "collapsed": true
   },
   "source": [
    "## Analysis"
   ]
  },
  {
   "cell_type": "code",
   "execution_count": 4,
   "metadata": {},
   "outputs": [],
   "source": [
    "dayOfAnalysis = \"2017-04-30.csv\"\n",
    "filePath = os.getcwd() + \"/data/outputBusBunching/outputBusBunching-\" + dayOfAnalysis\n",
    "outputBusBunching = pd.read_csv(filePath)"
   ]
  }
 ],
 "metadata": {
  "kernelspec": {
   "display_name": "Python 2",
   "language": "python",
   "name": "python2"
  },
  "language_info": {
   "codemirror_mode": {
    "name": "ipython",
    "version": 2
   },
   "file_extension": ".py",
   "mimetype": "text/x-python",
   "name": "python",
   "nbconvert_exporter": "python",
   "pygments_lexer": "ipython2",
   "version": "2.7.15"
  }
 },
 "nbformat": 4,
 "nbformat_minor": 2
}
